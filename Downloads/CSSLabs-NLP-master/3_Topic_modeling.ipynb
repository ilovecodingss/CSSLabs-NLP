{
 "cells": [
  {
   "cell_type": "markdown",
   "metadata": {},
   "source": [
    "# Topic Modeling Lab\n",
    "## Contents\n",
    "1. [Setup](#Section-1%3A-Setup)\n",
    "    1. [Import](#1.1-Import-Packages)\n",
    "    1. [Download](#1.2-Download-and-Prepare-Data)\n",
    "    1. [Read](#1.3-Read-Data)\n",
    "    1. [Pick Your Data](#1.4-Pick-Your-Data)\n",
    "    1. [Clean Text](#1.5-Clean-Text)\n",
    "1. [Converting Text to Numbers](#Section-2%3A-Converting-Text-to-Numbers)\n",
    "1. [LDA Topic Model](#Section-3%3A-LDA-Topic-Model)\n",
    "1. [Interpret Topics](#Section-4%3A-Interpret-Topics)\n",
    "1. [Topic Quality](#Section-5%3A-Topic-Quality)\n",
    "1. [Topic Popularity](#Section-6%3A-Topic-Popularity)\n",
    "1. [NMF Topic Model](#Section-7%3A-NMF-Topic-Model)\n",
    "1. [What We Learned](#Section-7%3A-What-We-Learned)\n",
    "\n",
    "## Section 0: Background\n",
    "- In this lab, we'll learn about topic modeling. Topic modeling uses statistics to understand what text is about, that is, to find the topics in text.\n",
    "- We'll use the online dating profile text that OKCupid made public as our example, but of course topic modeling can be used on any text.\n",
    "\n",
    "@Author: [Jeff Lockhart](http://www-personal.umich.edu/~jwlock/) & [Ed Platt](https://elplatt.com/), with some code adapted from [Aneesha Bakharia](https://medium.com/@aneesha/topic-modeling-with-scikit-learn-e80d33668730)'s example."
   ]
  },
  {
   "cell_type": "markdown",
   "metadata": {},
   "source": [
    "## Section 1: Setup\n",
    "### 1.1 Import Packages\n",
    "- Packages contain code others have written to make our work easier."
   ]
  },
  {
   "cell_type": "code",
   "execution_count": 1,
   "metadata": {},
   "outputs": [
    {
     "name": "stdout",
     "output_type": "stream",
     "text": [
      "Requirement already satisfied: lxml in /opt/conda/lib/python3.11/site-packages (5.3.0)\n",
      "Requirement already satisfied: spacy in /opt/conda/lib/python3.11/site-packages (3.7.6)\n",
      "Requirement already satisfied: spacy-legacy<3.1.0,>=3.0.11 in /opt/conda/lib/python3.11/site-packages (from spacy) (3.0.12)\n",
      "Requirement already satisfied: spacy-loggers<2.0.0,>=1.0.0 in /opt/conda/lib/python3.11/site-packages (from spacy) (1.0.5)\n",
      "Requirement already satisfied: murmurhash<1.1.0,>=0.28.0 in /opt/conda/lib/python3.11/site-packages (from spacy) (1.0.10)\n",
      "Requirement already satisfied: cymem<2.1.0,>=2.0.2 in /opt/conda/lib/python3.11/site-packages (from spacy) (2.0.8)\n",
      "Requirement already satisfied: preshed<3.1.0,>=3.0.2 in /opt/conda/lib/python3.11/site-packages (from spacy) (3.0.9)\n",
      "Requirement already satisfied: thinc<8.3.0,>=8.2.2 in /opt/conda/lib/python3.11/site-packages (from spacy) (8.2.5)\n",
      "Requirement already satisfied: wasabi<1.2.0,>=0.9.1 in /opt/conda/lib/python3.11/site-packages (from spacy) (1.1.3)\n",
      "Requirement already satisfied: srsly<3.0.0,>=2.4.3 in /opt/conda/lib/python3.11/site-packages (from spacy) (2.4.8)\n",
      "Requirement already satisfied: catalogue<2.1.0,>=2.0.6 in /opt/conda/lib/python3.11/site-packages (from spacy) (2.0.10)\n",
      "Requirement already satisfied: weasel<0.5.0,>=0.1.0 in /opt/conda/lib/python3.11/site-packages (from spacy) (0.4.1)\n",
      "Requirement already satisfied: typer<1.0.0,>=0.3.0 in /opt/conda/lib/python3.11/site-packages (from spacy) (0.12.5)\n",
      "Requirement already satisfied: tqdm<5.0.0,>=4.38.0 in /opt/conda/lib/python3.11/site-packages (from spacy) (4.66.1)\n",
      "Requirement already satisfied: requests<3.0.0,>=2.13.0 in /opt/conda/lib/python3.11/site-packages (from spacy) (2.31.0)\n",
      "Requirement already satisfied: pydantic!=1.8,!=1.8.1,<3.0.0,>=1.7.4 in /opt/conda/lib/python3.11/site-packages (from spacy) (2.9.0)\n",
      "Requirement already satisfied: jinja2 in /opt/conda/lib/python3.11/site-packages (from spacy) (3.1.2)\n",
      "Requirement already satisfied: setuptools in /opt/conda/lib/python3.11/site-packages (from spacy) (69.0.3)\n",
      "Requirement already satisfied: packaging>=20.0 in /opt/conda/lib/python3.11/site-packages (from spacy) (23.2)\n",
      "Requirement already satisfied: langcodes<4.0.0,>=3.2.0 in /opt/conda/lib/python3.11/site-packages (from spacy) (3.4.0)\n",
      "Requirement already satisfied: numpy>=1.19.0 in /opt/conda/lib/python3.11/site-packages (from spacy) (1.26.3)\n",
      "Requirement already satisfied: language-data>=1.2 in /opt/conda/lib/python3.11/site-packages (from langcodes<4.0.0,>=3.2.0->spacy) (1.2.0)\n",
      "Requirement already satisfied: annotated-types>=0.4.0 in /opt/conda/lib/python3.11/site-packages (from pydantic!=1.8,!=1.8.1,<3.0.0,>=1.7.4->spacy) (0.7.0)\n",
      "Requirement already satisfied: pydantic-core==2.23.2 in /opt/conda/lib/python3.11/site-packages (from pydantic!=1.8,!=1.8.1,<3.0.0,>=1.7.4->spacy) (2.23.2)\n",
      "Requirement already satisfied: typing-extensions>=4.6.1 in /opt/conda/lib/python3.11/site-packages (from pydantic!=1.8,!=1.8.1,<3.0.0,>=1.7.4->spacy) (4.9.0)\n",
      "Requirement already satisfied: tzdata in /opt/conda/lib/python3.11/site-packages (from pydantic!=1.8,!=1.8.1,<3.0.0,>=1.7.4->spacy) (2023.4)\n",
      "Requirement already satisfied: charset-normalizer<4,>=2 in /opt/conda/lib/python3.11/site-packages (from requests<3.0.0,>=2.13.0->spacy) (3.3.2)\n",
      "Requirement already satisfied: idna<4,>=2.5 in /opt/conda/lib/python3.11/site-packages (from requests<3.0.0,>=2.13.0->spacy) (3.6)\n",
      "Requirement already satisfied: urllib3<3,>=1.21.1 in /opt/conda/lib/python3.11/site-packages (from requests<3.0.0,>=2.13.0->spacy) (2.1.0)\n",
      "Requirement already satisfied: certifi>=2017.4.17 in /opt/conda/lib/python3.11/site-packages (from requests<3.0.0,>=2.13.0->spacy) (2023.11.17)\n",
      "Requirement already satisfied: blis<0.8.0,>=0.7.8 in /opt/conda/lib/python3.11/site-packages (from thinc<8.3.0,>=8.2.2->spacy) (0.7.11)\n",
      "Requirement already satisfied: confection<1.0.0,>=0.0.1 in /opt/conda/lib/python3.11/site-packages (from thinc<8.3.0,>=8.2.2->spacy) (0.1.5)\n",
      "Requirement already satisfied: click>=8.0.0 in /opt/conda/lib/python3.11/site-packages (from typer<1.0.0,>=0.3.0->spacy) (8.1.7)\n",
      "Requirement already satisfied: shellingham>=1.3.0 in /opt/conda/lib/python3.11/site-packages (from typer<1.0.0,>=0.3.0->spacy) (1.5.4)\n",
      "Requirement already satisfied: rich>=10.11.0 in /opt/conda/lib/python3.11/site-packages (from typer<1.0.0,>=0.3.0->spacy) (13.8.0)\n",
      "Requirement already satisfied: cloudpathlib<1.0.0,>=0.7.0 in /opt/conda/lib/python3.11/site-packages (from weasel<0.5.0,>=0.1.0->spacy) (0.19.0)\n",
      "Requirement already satisfied: smart-open<8.0.0,>=5.2.1 in /opt/conda/lib/python3.11/site-packages (from weasel<0.5.0,>=0.1.0->spacy) (7.0.4)\n",
      "Requirement already satisfied: MarkupSafe>=2.0 in /opt/conda/lib/python3.11/site-packages (from jinja2->spacy) (2.1.3)\n",
      "Requirement already satisfied: marisa-trie>=0.7.7 in /opt/conda/lib/python3.11/site-packages (from language-data>=1.2->langcodes<4.0.0,>=3.2.0->spacy) (1.2.0)\n",
      "Requirement already satisfied: markdown-it-py>=2.2.0 in /opt/conda/lib/python3.11/site-packages (from rich>=10.11.0->typer<1.0.0,>=0.3.0->spacy) (3.0.0)\n",
      "Requirement already satisfied: pygments<3.0.0,>=2.13.0 in /opt/conda/lib/python3.11/site-packages (from rich>=10.11.0->typer<1.0.0,>=0.3.0->spacy) (2.17.2)\n",
      "Requirement already satisfied: wrapt in /opt/conda/lib/python3.11/site-packages (from smart-open<8.0.0,>=5.2.1->weasel<0.5.0,>=0.1.0->spacy) (1.16.0)\n",
      "Requirement already satisfied: mdurl~=0.1 in /opt/conda/lib/python3.11/site-packages (from markdown-it-py>=2.2.0->rich>=10.11.0->typer<1.0.0,>=0.3.0->spacy) (0.1.2)\n",
      "Requirement already satisfied: gensim in /opt/conda/lib/python3.11/site-packages (4.3.3)\n",
      "Requirement already satisfied: numpy<2.0,>=1.18.5 in /opt/conda/lib/python3.11/site-packages (from gensim) (1.26.3)\n",
      "Requirement already satisfied: scipy<1.14.0,>=1.7.0 in /opt/conda/lib/python3.11/site-packages (from gensim) (1.11.3)\n",
      "Requirement already satisfied: smart-open>=1.8.1 in /opt/conda/lib/python3.11/site-packages (from gensim) (7.0.4)\n",
      "Requirement already satisfied: wrapt in /opt/conda/lib/python3.11/site-packages (from smart-open>=1.8.1->gensim) (1.16.0)\n",
      "Requirement already satisfied: nltk in /opt/conda/lib/python3.11/site-packages (3.9.1)\n",
      "Requirement already satisfied: click in /opt/conda/lib/python3.11/site-packages (from nltk) (8.1.7)\n",
      "Requirement already satisfied: joblib in /opt/conda/lib/python3.11/site-packages (from nltk) (1.3.2)\n",
      "Requirement already satisfied: regex>=2021.8.3 in /opt/conda/lib/python3.11/site-packages (from nltk) (2024.7.24)\n",
      "Requirement already satisfied: tqdm in /opt/conda/lib/python3.11/site-packages (from nltk) (4.66.1)\n",
      "Requirement already satisfied: pyLDAvis in /opt/conda/lib/python3.11/site-packages (3.4.1)\n",
      "Requirement already satisfied: numpy>=1.24.2 in /opt/conda/lib/python3.11/site-packages (from pyLDAvis) (1.26.3)\n",
      "Requirement already satisfied: scipy in /opt/conda/lib/python3.11/site-packages (from pyLDAvis) (1.11.3)\n",
      "Requirement already satisfied: pandas>=2.0.0 in /opt/conda/lib/python3.11/site-packages (from pyLDAvis) (2.1.4)\n",
      "Requirement already satisfied: joblib>=1.2.0 in /opt/conda/lib/python3.11/site-packages (from pyLDAvis) (1.3.2)\n",
      "Requirement already satisfied: jinja2 in /opt/conda/lib/python3.11/site-packages (from pyLDAvis) (3.1.2)\n",
      "Requirement already satisfied: numexpr in /opt/conda/lib/python3.11/site-packages (from pyLDAvis) (2.8.8)\n",
      "Requirement already satisfied: funcy in /opt/conda/lib/python3.11/site-packages (from pyLDAvis) (2.0)\n",
      "Requirement already satisfied: scikit-learn>=1.0.0 in /opt/conda/lib/python3.11/site-packages (from pyLDAvis) (1.3.2)\n",
      "Requirement already satisfied: gensim in /opt/conda/lib/python3.11/site-packages (from pyLDAvis) (4.3.3)\n",
      "Requirement already satisfied: setuptools in /opt/conda/lib/python3.11/site-packages (from pyLDAvis) (69.0.3)\n",
      "Requirement already satisfied: python-dateutil>=2.8.2 in /opt/conda/lib/python3.11/site-packages (from pandas>=2.0.0->pyLDAvis) (2.8.2)\n",
      "Requirement already satisfied: pytz>=2020.1 in /opt/conda/lib/python3.11/site-packages (from pandas>=2.0.0->pyLDAvis) (2023.3.post1)\n",
      "Requirement already satisfied: tzdata>=2022.1 in /opt/conda/lib/python3.11/site-packages (from pandas>=2.0.0->pyLDAvis) (2023.4)\n",
      "Requirement already satisfied: threadpoolctl>=2.0.0 in /opt/conda/lib/python3.11/site-packages (from scikit-learn>=1.0.0->pyLDAvis) (3.2.0)\n",
      "Requirement already satisfied: smart-open>=1.8.1 in /opt/conda/lib/python3.11/site-packages (from gensim->pyLDAvis) (7.0.4)\n",
      "Requirement already satisfied: MarkupSafe>=2.0 in /opt/conda/lib/python3.11/site-packages (from jinja2->pyLDAvis) (2.1.3)\n",
      "Requirement already satisfied: six>=1.5 in /opt/conda/lib/python3.11/site-packages (from python-dateutil>=2.8.2->pandas>=2.0.0->pyLDAvis) (1.16.0)\n",
      "Requirement already satisfied: wrapt in /opt/conda/lib/python3.11/site-packages (from smart-open>=1.8.1->gensim->pyLDAvis) (1.16.0)\n",
      "Collecting en-core-web-sm==3.7.1\n",
      "  Downloading https://github.com/explosion/spacy-models/releases/download/en_core_web_sm-3.7.1/en_core_web_sm-3.7.1-py3-none-any.whl (12.8 MB)\n",
      "\u001b[2K     \u001b[90m━━━━━━━━━━━━━━━━━━━━━━━━━━━━━━━━━━━━━━━━\u001b[0m \u001b[32m12.8/12.8 MB\u001b[0m \u001b[31m3.3 MB/s\u001b[0m eta \u001b[36m0:00:00\u001b[0m00:01\u001b[0m00:01\u001b[0m\n",
      "\u001b[?25hRequirement already satisfied: spacy<3.8.0,>=3.7.2 in /opt/conda/lib/python3.11/site-packages (from en-core-web-sm==3.7.1) (3.7.6)\n",
      "Requirement already satisfied: spacy-legacy<3.1.0,>=3.0.11 in /opt/conda/lib/python3.11/site-packages (from spacy<3.8.0,>=3.7.2->en-core-web-sm==3.7.1) (3.0.12)\n",
      "Requirement already satisfied: spacy-loggers<2.0.0,>=1.0.0 in /opt/conda/lib/python3.11/site-packages (from spacy<3.8.0,>=3.7.2->en-core-web-sm==3.7.1) (1.0.5)\n",
      "Requirement already satisfied: murmurhash<1.1.0,>=0.28.0 in /opt/conda/lib/python3.11/site-packages (from spacy<3.8.0,>=3.7.2->en-core-web-sm==3.7.1) (1.0.10)\n",
      "Requirement already satisfied: cymem<2.1.0,>=2.0.2 in /opt/conda/lib/python3.11/site-packages (from spacy<3.8.0,>=3.7.2->en-core-web-sm==3.7.1) (2.0.8)\n",
      "Requirement already satisfied: preshed<3.1.0,>=3.0.2 in /opt/conda/lib/python3.11/site-packages (from spacy<3.8.0,>=3.7.2->en-core-web-sm==3.7.1) (3.0.9)\n",
      "Requirement already satisfied: thinc<8.3.0,>=8.2.2 in /opt/conda/lib/python3.11/site-packages (from spacy<3.8.0,>=3.7.2->en-core-web-sm==3.7.1) (8.2.5)\n",
      "Requirement already satisfied: wasabi<1.2.0,>=0.9.1 in /opt/conda/lib/python3.11/site-packages (from spacy<3.8.0,>=3.7.2->en-core-web-sm==3.7.1) (1.1.3)\n",
      "Requirement already satisfied: srsly<3.0.0,>=2.4.3 in /opt/conda/lib/python3.11/site-packages (from spacy<3.8.0,>=3.7.2->en-core-web-sm==3.7.1) (2.4.8)\n",
      "Requirement already satisfied: catalogue<2.1.0,>=2.0.6 in /opt/conda/lib/python3.11/site-packages (from spacy<3.8.0,>=3.7.2->en-core-web-sm==3.7.1) (2.0.10)\n",
      "Requirement already satisfied: weasel<0.5.0,>=0.1.0 in /opt/conda/lib/python3.11/site-packages (from spacy<3.8.0,>=3.7.2->en-core-web-sm==3.7.1) (0.4.1)\n",
      "Requirement already satisfied: typer<1.0.0,>=0.3.0 in /opt/conda/lib/python3.11/site-packages (from spacy<3.8.0,>=3.7.2->en-core-web-sm==3.7.1) (0.12.5)\n",
      "Requirement already satisfied: tqdm<5.0.0,>=4.38.0 in /opt/conda/lib/python3.11/site-packages (from spacy<3.8.0,>=3.7.2->en-core-web-sm==3.7.1) (4.66.1)\n",
      "Requirement already satisfied: requests<3.0.0,>=2.13.0 in /opt/conda/lib/python3.11/site-packages (from spacy<3.8.0,>=3.7.2->en-core-web-sm==3.7.1) (2.31.0)\n",
      "Requirement already satisfied: pydantic!=1.8,!=1.8.1,<3.0.0,>=1.7.4 in /opt/conda/lib/python3.11/site-packages (from spacy<3.8.0,>=3.7.2->en-core-web-sm==3.7.1) (2.9.0)\n",
      "Requirement already satisfied: jinja2 in /opt/conda/lib/python3.11/site-packages (from spacy<3.8.0,>=3.7.2->en-core-web-sm==3.7.1) (3.1.2)\n",
      "Requirement already satisfied: setuptools in /opt/conda/lib/python3.11/site-packages (from spacy<3.8.0,>=3.7.2->en-core-web-sm==3.7.1) (69.0.3)\n",
      "Requirement already satisfied: packaging>=20.0 in /opt/conda/lib/python3.11/site-packages (from spacy<3.8.0,>=3.7.2->en-core-web-sm==3.7.1) (23.2)\n",
      "Requirement already satisfied: langcodes<4.0.0,>=3.2.0 in /opt/conda/lib/python3.11/site-packages (from spacy<3.8.0,>=3.7.2->en-core-web-sm==3.7.1) (3.4.0)\n",
      "Requirement already satisfied: numpy>=1.19.0 in /opt/conda/lib/python3.11/site-packages (from spacy<3.8.0,>=3.7.2->en-core-web-sm==3.7.1) (1.26.3)\n",
      "Requirement already satisfied: language-data>=1.2 in /opt/conda/lib/python3.11/site-packages (from langcodes<4.0.0,>=3.2.0->spacy<3.8.0,>=3.7.2->en-core-web-sm==3.7.1) (1.2.0)\n",
      "Requirement already satisfied: annotated-types>=0.4.0 in /opt/conda/lib/python3.11/site-packages (from pydantic!=1.8,!=1.8.1,<3.0.0,>=1.7.4->spacy<3.8.0,>=3.7.2->en-core-web-sm==3.7.1) (0.7.0)\n",
      "Requirement already satisfied: pydantic-core==2.23.2 in /opt/conda/lib/python3.11/site-packages (from pydantic!=1.8,!=1.8.1,<3.0.0,>=1.7.4->spacy<3.8.0,>=3.7.2->en-core-web-sm==3.7.1) (2.23.2)\n",
      "Requirement already satisfied: typing-extensions>=4.6.1 in /opt/conda/lib/python3.11/site-packages (from pydantic!=1.8,!=1.8.1,<3.0.0,>=1.7.4->spacy<3.8.0,>=3.7.2->en-core-web-sm==3.7.1) (4.9.0)\n",
      "Requirement already satisfied: tzdata in /opt/conda/lib/python3.11/site-packages (from pydantic!=1.8,!=1.8.1,<3.0.0,>=1.7.4->spacy<3.8.0,>=3.7.2->en-core-web-sm==3.7.1) (2023.4)\n",
      "Requirement already satisfied: charset-normalizer<4,>=2 in /opt/conda/lib/python3.11/site-packages (from requests<3.0.0,>=2.13.0->spacy<3.8.0,>=3.7.2->en-core-web-sm==3.7.1) (3.3.2)\n",
      "Requirement already satisfied: idna<4,>=2.5 in /opt/conda/lib/python3.11/site-packages (from requests<3.0.0,>=2.13.0->spacy<3.8.0,>=3.7.2->en-core-web-sm==3.7.1) (3.6)\n",
      "Requirement already satisfied: urllib3<3,>=1.21.1 in /opt/conda/lib/python3.11/site-packages (from requests<3.0.0,>=2.13.0->spacy<3.8.0,>=3.7.2->en-core-web-sm==3.7.1) (2.1.0)\n",
      "Requirement already satisfied: certifi>=2017.4.17 in /opt/conda/lib/python3.11/site-packages (from requests<3.0.0,>=2.13.0->spacy<3.8.0,>=3.7.2->en-core-web-sm==3.7.1) (2023.11.17)\n",
      "Requirement already satisfied: blis<0.8.0,>=0.7.8 in /opt/conda/lib/python3.11/site-packages (from thinc<8.3.0,>=8.2.2->spacy<3.8.0,>=3.7.2->en-core-web-sm==3.7.1) (0.7.11)\n",
      "Requirement already satisfied: confection<1.0.0,>=0.0.1 in /opt/conda/lib/python3.11/site-packages (from thinc<8.3.0,>=8.2.2->spacy<3.8.0,>=3.7.2->en-core-web-sm==3.7.1) (0.1.5)\n",
      "Requirement already satisfied: click>=8.0.0 in /opt/conda/lib/python3.11/site-packages (from typer<1.0.0,>=0.3.0->spacy<3.8.0,>=3.7.2->en-core-web-sm==3.7.1) (8.1.7)\n",
      "Requirement already satisfied: shellingham>=1.3.0 in /opt/conda/lib/python3.11/site-packages (from typer<1.0.0,>=0.3.0->spacy<3.8.0,>=3.7.2->en-core-web-sm==3.7.1) (1.5.4)\n",
      "Requirement already satisfied: rich>=10.11.0 in /opt/conda/lib/python3.11/site-packages (from typer<1.0.0,>=0.3.0->spacy<3.8.0,>=3.7.2->en-core-web-sm==3.7.1) (13.8.0)\n",
      "Requirement already satisfied: cloudpathlib<1.0.0,>=0.7.0 in /opt/conda/lib/python3.11/site-packages (from weasel<0.5.0,>=0.1.0->spacy<3.8.0,>=3.7.2->en-core-web-sm==3.7.1) (0.19.0)\n",
      "Requirement already satisfied: smart-open<8.0.0,>=5.2.1 in /opt/conda/lib/python3.11/site-packages (from weasel<0.5.0,>=0.1.0->spacy<3.8.0,>=3.7.2->en-core-web-sm==3.7.1) (7.0.4)\n",
      "Requirement already satisfied: MarkupSafe>=2.0 in /opt/conda/lib/python3.11/site-packages (from jinja2->spacy<3.8.0,>=3.7.2->en-core-web-sm==3.7.1) (2.1.3)\n",
      "Requirement already satisfied: marisa-trie>=0.7.7 in /opt/conda/lib/python3.11/site-packages (from language-data>=1.2->langcodes<4.0.0,>=3.2.0->spacy<3.8.0,>=3.7.2->en-core-web-sm==3.7.1) (1.2.0)\n",
      "Requirement already satisfied: markdown-it-py>=2.2.0 in /opt/conda/lib/python3.11/site-packages (from rich>=10.11.0->typer<1.0.0,>=0.3.0->spacy<3.8.0,>=3.7.2->en-core-web-sm==3.7.1) (3.0.0)\n",
      "Requirement already satisfied: pygments<3.0.0,>=2.13.0 in /opt/conda/lib/python3.11/site-packages (from rich>=10.11.0->typer<1.0.0,>=0.3.0->spacy<3.8.0,>=3.7.2->en-core-web-sm==3.7.1) (2.17.2)\n",
      "Requirement already satisfied: wrapt in /opt/conda/lib/python3.11/site-packages (from smart-open<8.0.0,>=5.2.1->weasel<0.5.0,>=0.1.0->spacy<3.8.0,>=3.7.2->en-core-web-sm==3.7.1) (1.16.0)\n",
      "Requirement already satisfied: mdurl~=0.1 in /opt/conda/lib/python3.11/site-packages (from markdown-it-py>=2.2.0->rich>=10.11.0->typer<1.0.0,>=0.3.0->spacy<3.8.0,>=3.7.2->en-core-web-sm==3.7.1) (0.1.2)\n",
      "\u001b[38;5;2m✔ Download and installation successful\u001b[0m\n",
      "You can now load the package via spacy.load('en_core_web_sm')\n"
     ]
    }
   ],
   "source": [
    "!pip install lxml\n",
    "!pip install spacy\n",
    "!pip install gensim\n",
    "!pip install nltk\n",
    "!pip install pyLDAvis\n",
    "!python -m spacy download en_core_web_sm"
   ]
  },
  {
   "cell_type": "code",
   "execution_count": 2,
   "metadata": {},
   "outputs": [
    {
     "name": "stderr",
     "output_type": "stream",
     "text": [
      "[nltk_data] Downloading package stopwords to /home/jovyan/nltk_data...\n",
      "[nltk_data]   Package stopwords is already up-to-date!\n"
     ]
    }
   ],
   "source": [
    "import re\n",
    "import warnings\n",
    "import numpy as np\n",
    "import pandas as pd\n",
    "import matplotlib.pyplot as plt\n",
    "from pprint import pprint\n",
    "\n",
    "from tqdm import tqdm\n",
    "tqdm.pandas()\n",
    "\n",
    "import nltk\n",
    "from nltk.corpus import stopwords\n",
    "nltk.download('stopwords')\n",
    "from bs4 import BeautifulSoup\n",
    "import spacy\n",
    "\n",
    "import gensim\n",
    "from gensim.utils import simple_preprocess\n",
    "from gensim.models import CoherenceModel\n",
    "import gensim.corpora as corpora\n",
    "\n",
    "import pyLDAvis\n",
    "import pyLDAvis.gensim_models as gensimvis\n",
    "\n",
    "from sklearn.metrics.pairwise import cosine_similarity\n",
    "\n",
    "%matplotlib inline\n"
   ]
  },
  {
   "cell_type": "markdown",
   "metadata": {},
   "source": [
    "### 1.2 Download and Prepare Data\n",
    "This code checks whether you have the data. If you don't, it will download and prepare it for you. To see how it works, look at lab `1 Data munging` which explains it in detail."
   ]
  },
  {
   "cell_type": "code",
   "execution_count": 3,
   "metadata": {},
   "outputs": [
    {
     "name": "stdout",
     "output_type": "stream",
     "text": [
      "Ready to go!\n"
     ]
    }
   ],
   "source": [
    "%run -i \"download_and_clean_data.py\"\n",
    "print('Ready to go!')"
   ]
  },
  {
   "cell_type": "markdown",
   "metadata": {},
   "source": [
    "### 1.3 Read Data"
   ]
  },
  {
   "cell_type": "code",
   "execution_count": 4,
   "metadata": {},
   "outputs": [
    {
     "data": {
      "text/html": [
       "<div>\n",
       "<style scoped>\n",
       "    .dataframe tbody tr th:only-of-type {\n",
       "        vertical-align: middle;\n",
       "    }\n",
       "\n",
       "    .dataframe tbody tr th {\n",
       "        vertical-align: top;\n",
       "    }\n",
       "\n",
       "    .dataframe thead th {\n",
       "        text-align: right;\n",
       "    }\n",
       "</style>\n",
       "<table border=\"1\" class=\"dataframe\">\n",
       "  <thead>\n",
       "    <tr style=\"text-align: right;\">\n",
       "      <th></th>\n",
       "      <th>age_group</th>\n",
       "      <th>age</th>\n",
       "      <th>body</th>\n",
       "      <th>alcohol_use</th>\n",
       "      <th>drug_use</th>\n",
       "      <th>edu</th>\n",
       "      <th>race_ethnicity</th>\n",
       "      <th>height_group</th>\n",
       "      <th>industry</th>\n",
       "      <th>kids</th>\n",
       "      <th>...</th>\n",
       "      <th>essay0</th>\n",
       "      <th>essay1</th>\n",
       "      <th>essay2</th>\n",
       "      <th>essay3</th>\n",
       "      <th>essay4</th>\n",
       "      <th>essay5</th>\n",
       "      <th>essay6</th>\n",
       "      <th>essay7</th>\n",
       "      <th>essay8</th>\n",
       "      <th>essay9</th>\n",
       "    </tr>\n",
       "  </thead>\n",
       "  <tbody>\n",
       "    <tr>\n",
       "      <th>0</th>\n",
       "      <td>20</td>\n",
       "      <td>22</td>\n",
       "      <td>overweight</td>\n",
       "      <td>yes</td>\n",
       "      <td>no</td>\n",
       "      <td>HS</td>\n",
       "      <td>multiple</td>\n",
       "      <td>over_6</td>\n",
       "      <td>other</td>\n",
       "      <td>no</td>\n",
       "      <td>...</td>\n",
       "      <td>about me:&lt;br /&gt;\\n&lt;br /&gt;\\ni would love to think...</td>\n",
       "      <td>currently working as an international agent fo...</td>\n",
       "      <td>making people laugh.&lt;br /&gt;\\nranting about a go...</td>\n",
       "      <td>the way i look. i am a six foot half asian, ha...</td>\n",
       "      <td>books:&lt;br /&gt;\\nabsurdistan, the republic, of mi...</td>\n",
       "      <td>food.&lt;br /&gt;\\nwater.&lt;br /&gt;\\ncell phone.&lt;br /&gt;\\n...</td>\n",
       "      <td>duality and humorous things</td>\n",
       "      <td>trying to find someone to hang out with. i am ...</td>\n",
       "      <td>i am new to california and looking for someone...</td>\n",
       "      <td>you want to be swept off your feet!&lt;br /&gt;\\nyou...</td>\n",
       "    </tr>\n",
       "    <tr>\n",
       "      <th>1</th>\n",
       "      <td>30</td>\n",
       "      <td>35</td>\n",
       "      <td>average</td>\n",
       "      <td>yes</td>\n",
       "      <td>yes</td>\n",
       "      <td>unknown</td>\n",
       "      <td>White</td>\n",
       "      <td>under_6</td>\n",
       "      <td>other</td>\n",
       "      <td>no</td>\n",
       "      <td>...</td>\n",
       "      <td>i am a chef: this is what that means.&lt;br /&gt;\\n1...</td>\n",
       "      <td>dedicating everyday to being an unbelievable b...</td>\n",
       "      <td>being silly. having ridiculous amonts of fun w...</td>\n",
       "      <td>NaN</td>\n",
       "      <td>i am die hard christopher moore fan. i don't r...</td>\n",
       "      <td>delicious porkness in all of its glories.&lt;br /...</td>\n",
       "      <td>NaN</td>\n",
       "      <td>NaN</td>\n",
       "      <td>i am very open and will share just about anyth...</td>\n",
       "      <td>NaN</td>\n",
       "    </tr>\n",
       "  </tbody>\n",
       "</table>\n",
       "<p>2 rows × 29 columns</p>\n",
       "</div>"
      ],
      "text/plain": [
       "   age_group  age        body alcohol_use drug_use      edu race_ethnicity  \\\n",
       "0         20   22  overweight         yes       no       HS       multiple   \n",
       "1         30   35     average         yes      yes  unknown          White   \n",
       "\n",
       "  height_group industry kids  ...  \\\n",
       "0       over_6    other   no  ...   \n",
       "1      under_6    other   no  ...   \n",
       "\n",
       "                                              essay0  \\\n",
       "0  about me:<br />\\n<br />\\ni would love to think...   \n",
       "1  i am a chef: this is what that means.<br />\\n1...   \n",
       "\n",
       "                                              essay1  \\\n",
       "0  currently working as an international agent fo...   \n",
       "1  dedicating everyday to being an unbelievable b...   \n",
       "\n",
       "                                              essay2  \\\n",
       "0  making people laugh.<br />\\nranting about a go...   \n",
       "1  being silly. having ridiculous amonts of fun w...   \n",
       "\n",
       "                                              essay3  \\\n",
       "0  the way i look. i am a six foot half asian, ha...   \n",
       "1                                                NaN   \n",
       "\n",
       "                                              essay4  \\\n",
       "0  books:<br />\\nabsurdistan, the republic, of mi...   \n",
       "1  i am die hard christopher moore fan. i don't r...   \n",
       "\n",
       "                                              essay5  \\\n",
       "0  food.<br />\\nwater.<br />\\ncell phone.<br />\\n...   \n",
       "1  delicious porkness in all of its glories.<br /...   \n",
       "\n",
       "                        essay6  \\\n",
       "0  duality and humorous things   \n",
       "1                          NaN   \n",
       "\n",
       "                                              essay7  \\\n",
       "0  trying to find someone to hang out with. i am ...   \n",
       "1                                                NaN   \n",
       "\n",
       "                                              essay8  \\\n",
       "0  i am new to california and looking for someone...   \n",
       "1  i am very open and will share just about anyth...   \n",
       "\n",
       "                                              essay9  \n",
       "0  you want to be swept off your feet!<br />\\nyou...  \n",
       "1                                                NaN  \n",
       "\n",
       "[2 rows x 29 columns]"
      ]
     },
     "execution_count": 4,
     "metadata": {},
     "output_type": "execute_result"
    }
   ],
   "source": [
    "profiles = pd.read_csv('data/clean_profiles.tsv', sep='\\t')\n",
    "profiles.head(2)"
   ]
  },
  {
   "cell_type": "markdown",
   "metadata": {},
   "source": [
    "### 1.4 Pick Your Data\n",
    "- Pick which section of the profiles you want to analyze.\n",
    "#### Options:\n",
    "- `text` - All of the text from a profile (**Recommended**)\n",
    "- `essay0` - My self summary (**Recommended**)\n",
    "- `essay1` - What I’m doing with my life\n",
    "- `essay2` - I’m really good at\n",
    "- `essay3` - The first thing people usually notice about me\n",
    "- `essay4` - Favorite books, movies, show, music, and food\n",
    "- `essay5` - The six things I could never do without\n",
    "- `essay6` - I spend a lot of time thinking about\n",
    "- `essay7` - On a typical Friday night I am\n",
    "- `essay8` - The most private thing I am willing to admit\n",
    "- `essay9` - You should message me if...\n",
    "\n",
    "#### Replace `essay0` in the cell below with the essay you want to look at.\n",
    "- `text` and `essay0` are both recommended, but it's your choice."
   ]
  },
  {
   "cell_type": "code",
   "execution_count": 5,
   "metadata": {},
   "outputs": [],
   "source": [
    "profile_section_to_use = 'essay0'"
   ]
  },
  {
   "cell_type": "markdown",
   "metadata": {},
   "source": [
    "### 1.5 Clean Text \n",
    "- For this lab, it is not so important that you understand this code. \n",
    "- For now, just run it and move on. "
   ]
  },
  {
   "cell_type": "code",
   "execution_count": 6,
   "metadata": {},
   "outputs": [],
   "source": [
    "# Some of the essays have just a link in the text. BeautifulSoup sees that and gets \n",
    "# the wrong idea. This line hides those warnings.\n",
    "warnings.filterwarnings(\"ignore\", category=UserWarning, module='bs4')\n",
    "warnings.filterwarnings(\"ignore\", category=DeprecationWarning, module='bs4.builder._lxml')\n",
    "def clean(text):\n",
    "    if pd.isnull(text):\n",
    "        t = np.nan\n",
    "    else:\n",
    "        t = BeautifulSoup(text, 'lxml').get_text()\n",
    "        t = t.lower()\n",
    "\n",
    "        bad_words = ['http', 'www', '\\nnan']\n",
    "\n",
    "        for b in bad_words:\n",
    "            t = t.replace(b, '')\n",
    "    if t == '':\n",
    "        t = np.nan\n",
    "    \n",
    "    return t"
   ]
  },
  {
   "cell_type": "code",
   "execution_count": 7,
   "metadata": {},
   "outputs": [
    {
     "name": "stdout",
     "output_type": "stream",
     "text": [
      "Cleaning up profile text for essay0 ...\n"
     ]
    },
    {
     "name": "stderr",
     "output_type": "stream",
     "text": [
      "  0%|          | 0/58785 [00:00<?, ?it/s]/tmp/ipykernel_25275/512017477.py:9: MarkupResemblesLocatorWarning: The input looks more like a filename than markup. You may want to open this file and pass the filehandle into Beautiful Soup.\n",
      "  t = BeautifulSoup(text, 'lxml').get_text()\n",
      "/tmp/ipykernel_25275/512017477.py:9: MarkupResemblesLocatorWarning: The input looks more like a URL than markup. You may want to use an HTTP client like requests to get the document behind the URL, and feed that document to Beautiful Soup.\n",
      "  t = BeautifulSoup(text, 'lxml').get_text()\n",
      "100%|██████████| 58785/58785 [00:05<00:00, 11611.43it/s]\n"
     ]
    },
    {
     "name": "stdout",
     "output_type": "stream",
     "text": [
      "We started with 58785 profiles.\n",
      "Dropping profiles that didn't write anything for the essay we chose...\n",
      "We have 53396 profiles left.\n"
     ]
    }
   ],
   "source": [
    "print('Cleaning up profile text for', profile_section_to_use, '...')\n",
    "profiles['clean'] = profiles[profile_section_to_use].progress_apply(clean)\n",
    "\n",
    "print('We started with', profiles.shape[0], 'profiles.')\n",
    "print(\"Dropping profiles that didn't write anything for the essay we chose...\")\n",
    "profiles.dropna(axis=0, subset=['clean'], inplace=True)\n",
    "\n",
    "text_cols = ['text', 'essay0', 'essay1', 'essay2', 'essay3', 'essay4', \n",
    "             'essay5', 'essay6', 'essay7', 'essay8', 'essay9']\n",
    "profiles.drop(columns=text_cols, inplace=True)\n",
    "\n",
    "#what we will use as our documents, here the cleaned up text of each profile\n",
    "documents = profiles['clean'].values\n",
    "\n",
    "print('We have', documents.shape[0], 'profiles left.')"
   ]
  },
  {
   "cell_type": "markdown",
   "metadata": {},
   "source": [
    "#### Remove punctuation/lower casing\n",
    "\n",
    "- Next, let’s perform a simple preprocessing on the content of paper_text column to make them more amenable for analysis, and reliable results.\n",
    "- To do that, we’ll use a regular expression to remove any punctuation, and then lowercase the text"
   ]
  },
  {
   "cell_type": "code",
   "execution_count": 8,
   "metadata": {},
   "outputs": [
    {
     "data": {
      "text/plain": [
       "0    about me:\\n\\ni would love to think that i was ...\n",
       "1    i am a chef: this is what that means\\n1 i am a...\n",
       "2    i'm not ashamed of much but writing public tex...\n",
       "3               i work in a library and go to school  \n",
       "4    hey how's it going currently vague on the prof...\n",
       "Name: clean, dtype: object"
      ]
     },
     "execution_count": 8,
     "metadata": {},
     "output_type": "execute_result"
    }
   ],
   "source": [
    "# Load the regular expression library\n",
    "\n",
    "# Remove punctuation\n",
    "profiles['clean'] = profiles['clean'].map(lambda x: re.sub(r'[,.!?]', '', x))\n",
    "\n",
    "# Convert the text to lowercase\n",
    "profiles['clean'] = profiles['clean'].map(lambda x: x.lower())\n",
    "\n",
    "# Print out the first rows of profiles\n",
    "profiles['clean'].head()\n",
    "\n"
   ]
  },
  {
   "cell_type": "markdown",
   "metadata": {},
   "source": [
    "## Section 2: Converting Text to Numbers"
   ]
  },
  {
   "cell_type": "markdown",
   "metadata": {},
   "source": [
    "** **\n",
    "#### Step 1: Tokenize words and further clean-up text\n",
    "** **\n",
    "Let’s tokenize each sentence into a list of words, removing punctuations and unnecessary characters altogether.\n",
    "\n",
    "- Here we tell it to only use the 1,000 most popular words, ignoring stop words like \"a\" and \"of\"."
   ]
  },
  {
   "cell_type": "code",
   "execution_count": 9,
   "metadata": {},
   "outputs": [
    {
     "name": "stdout",
     "output_type": "stream",
     "text": [
      "The first 30 cleaned words of essay 0 from profile 0 are:\n",
      "\n",
      " ['about', 'me', 'would', 'love', 'to', 'think', 'that', 'was', 'some', 'some', 'kind', 'of', 'intellectual', 'either', 'the', 'dumbest', 'smart', 'guy', 'or', 'the', 'smartest', 'dumb', 'guy', 'can', 'say', 'can', 'tell', 'the', 'difference', 'love']\n"
     ]
    }
   ],
   "source": [
    "# [:1] selects the first profile, and [:30] selects the first 30 words from that profile\n",
    "# You can try to change the parameters and see what happens\n",
    "def sent_to_words(sentences):\n",
    "    for sentence in sentences:\n",
    "        yield(gensim.utils.simple_preprocess(str(sentence), deacc=True))  # deacc=True removes punctuations\n",
    "\n",
    "data = profiles.clean.values.tolist()\n",
    "data_words = list(sent_to_words(data))\n",
    "\n",
    "print(\"The first 30 cleaned words of essay 0 from profile 0 are:\\n\\n\", data_words[:1][0][:30])"
   ]
  },
  {
   "cell_type": "markdown",
   "metadata": {},
   "source": [
    "** **\n",
    "#### Step 2: Remove Stopwords, Make Bigrams and Lemmatize\n",
    "** **\n",
    "\n",
    "The phrase models are ready. Let’s define the functions to remove the stopwords, make trigrams and lemmatization and call them sequentially."
   ]
  },
  {
   "cell_type": "markdown",
   "metadata": {},
   "source": [
    "<div class=\"alert-info\">\n",
    " \n",
    "#### Short Answer No.1\n",
    "- (1) Why do we want to ignore stop words? (1-2 sentences)\n",
    "- (2) Give 3 more examples of stop words \n",
    "    \n",
    "    \n",
    "</div>"
   ]
  },
  {
   "cell_type": "markdown",
   "metadata": {},
   "source": [
    "🤔 **Write your response here:**\n",
    "...\n",
    "\n"
   ]
  },
  {
   "cell_type": "code",
   "execution_count": 10,
   "metadata": {},
   "outputs": [],
   "source": [
    "stop_words = stopwords.words('english')\n",
    "stop_words.extend(['from', 'subject', 're', 'edu', 'use'])\n",
    "\n",
    "def remove_stopwords(texts):\n",
    "    return [[word for word in simple_preprocess(str(doc)) if word not in stop_words] for doc in texts]"
   ]
  },
  {
   "cell_type": "code",
   "execution_count": 11,
   "metadata": {},
   "outputs": [],
   "source": [
    "# Remove Stop Words\n",
    "data_words_nostops = remove_stopwords(data_words)"
   ]
  },
  {
   "cell_type": "markdown",
   "metadata": {},
   "source": [
    "** **\n",
    "#### Step 3: Phrase Modeling: Bigram and Trigram Models\n",
    "** **\n",
    "\n",
    "Bigrams are two words frequently occurring together in the document. Trigrams are 3 words frequently occurring. Some examples in our example are: 'back_bumper', 'oil_leakage', 'maryland_college_park' etc.\n",
    "\n",
    "Gensim's Phrases model can build and implement the bigrams, trigrams, quadgrams and more. The two important arguments to Phrases are min_count and threshold.\n",
    "\n",
    "*The higher the values of these param, the harder it is for words to be combined.*"
   ]
  },
  {
   "cell_type": "code",
   "execution_count": 12,
   "metadata": {},
   "outputs": [],
   "source": [
    "# Build the bigram and trigram models\n",
    "bigram = gensim.models.Phrases(data_words, min_count=5, threshold=100) # higher threshold fewer phrases.\n",
    "trigram = gensim.models.Phrases(bigram[data_words], threshold=100)  \n",
    "\n",
    "# Faster way to get a sentence clubbed as a trigram/bigram\n",
    "bigram_mod = gensim.models.phrases.Phraser(bigram)\n",
    "trigram_mod = gensim.models.phrases.Phraser(trigram)"
   ]
  },
  {
   "cell_type": "markdown",
   "metadata": {},
   "source": [
    "#### See what words are being counted"
   ]
  },
  {
   "cell_type": "code",
   "execution_count": 13,
   "metadata": {},
   "outputs": [],
   "source": [
    "# Define functions for bigrams, trigrams and lemmatization\n",
    "\n",
    "def make_bigrams(texts):\n",
    "    return [bigram_mod[doc] for doc in texts]\n",
    "\n",
    "def make_trigrams(texts):\n",
    "    return [trigram_mod[bigram_mod[doc]] for doc in texts]\n",
    "\n",
    "def lemmatization(texts, allowed_postags=['NOUN', 'ADJ', 'VERB', 'ADV']):\n",
    "    \"\"\"https://spacy.io/api/annotation\"\"\"\n",
    "    texts_out = []\n",
    "    for sent in texts:\n",
    "        doc = nlp(\" \".join(sent)) \n",
    "        texts_out.append([token.lemma_ for token in doc if token.pos_ in allowed_postags])\n",
    "    return texts_out"
   ]
  },
  {
   "cell_type": "markdown",
   "metadata": {},
   "source": [
    "Let's call the functions in order."
   ]
  },
  {
   "cell_type": "code",
   "execution_count": 14,
   "metadata": {},
   "outputs": [
    {
     "name": "stdout",
     "output_type": "stream",
     "text": [
      "The first 30 words of essay 0 from profile 0 (after lemmatization) are:\n",
      "\n",
      " ['love', 'think', 'kind', 'intellectual', 'dumbest', 'smart', 'guy', 'smart', 'dumb', 'guy', 'say', 'tell', 'difference', 'love', 'talk', 'idea', 'concept', 'forge', 'odd', 'metaphor', 'instead', 'recite', 'cliche', 'simularitie', 'underwater', 'salt', 'favorite', 'word', 'salt', 'way']\n"
     ]
    }
   ],
   "source": [
    "# Form Bigrams\n",
    "data_words_bigrams = make_bigrams(data_words_nostops)\n",
    "\n",
    "# Initialize spacy 'en' model, keeping only tagger component (for efficiency)\n",
    "nlp = spacy.load(\"en_core_web_sm\", disable=['parser', 'ner'])\n",
    "\n",
    "# Do lemmatization keeping only noun, adj, vb, adv\n",
    "data_lemmatized = lemmatization(data_words_bigrams, allowed_postags=['NOUN', 'ADJ', 'VERB', 'ADV'])\n",
    "\n",
    "print(\"The first 30 words of essay 0 from profile 0 (after lemmatization) are:\\n\\n\", data_lemmatized[:1][0][:30])"
   ]
  },
  {
   "cell_type": "markdown",
   "metadata": {},
   "source": [
    "#### See an example of how a profile's text is encoded\n",
    "- `n` is the profile number you want to look at. Change the value of `n` and re-run the code to see different profiles."
   ]
  },
  {
   "cell_type": "code",
   "execution_count": 15,
   "metadata": {},
   "outputs": [
    {
     "name": "stdout",
     "output_type": "stream",
     "text": [
      "[(0, 2), (1, 1), (2, 1), (3, 1), (4, 1), (5, 1), (6, 1), (7, 1), (8, 1), (9, 1), (10, 1), (11, 1), (12, 1), (13, 1), (14, 1), (15, 1), (16, 1), (17, 1), (18, 2), (19, 1), (20, 1), (21, 1), (22, 1), (23, 1), (24, 1), (25, 1), (26, 2), (27, 1), (28, 1), (29, 1)]\n"
     ]
    }
   ],
   "source": [
    "# Create Dictionary\n",
    "id2word = corpora.Dictionary(data_lemmatized)\n",
    "\n",
    "# Create Corpus\n",
    "texts = data_lemmatized\n",
    "\n",
    "# Term Document Frequency\n",
    "corpus = [id2word.doc2bow(text) for text in texts]\n",
    "\n",
    "# View\n",
    "print(corpus[:1][0][:30])"
   ]
  },
  {
   "cell_type": "code",
   "execution_count": 16,
   "metadata": {},
   "outputs": [
    {
     "name": "stdout",
     "output_type": "stream",
     "text": [
      "Profile text:\n",
      "life is about the little things. i love to laugh. it's easy to do\n",
      "when one can find beauty and humor in the ugly. this perspective\n",
      "makes for a more gratifying life. it's a gift. we are here to play.\n",
      "\n",
      "\n",
      "BOW (Bag-of-Words) vector:\n",
      "laugh \t 1\n",
      "life \t 2\n",
      "little \t 1\n",
      "love \t 1\n",
      "make \t 1\n",
      "thing \t 1\n",
      "find \t 1\n",
      "beauty \t 1\n",
      "easy \t 1\n",
      "gift \t 1\n",
      "gratifying \t 1\n",
      "humor \t 1\n",
      "perspective \t 1\n",
      "play \t 1\n",
      "ugly \t 1\n"
     ]
    }
   ],
   "source": [
    "def show_bow_vector(bow, dictionary):\n",
    "    for word_id, count in bow:\n",
    "        print(f\"{dictionary[word_id]} \\t {count}\")\n",
    "\n",
    "# Assuming you want to show the n-th document\n",
    "n = 6\n",
    "print(f\"Profile text:\\n{documents[n]}\\n\")\n",
    "\n",
    "print(\"\\nBOW (Bag-of-Words) vector:\")\n",
    "show_bow_vector(corpus[n], id2word)\n"
   ]
  },
  {
   "cell_type": "markdown",
   "metadata": {},
   "source": [
    "<div class=\"alert-info\">\n",
    "    \n",
    "#### Short Answer No.2 \n",
    "\n",
    "- (1) Given the essay questions decribed above, list 5 words that you predict to be the most popular in essay4. \n",
    "    \n",
    "    \n",
    "</div>"
   ]
  },
  {
   "cell_type": "markdown",
   "metadata": {},
   "source": [
    "🤔 **Write your response here:**\n",
    "...\n",
    "\n"
   ]
  },
  {
   "cell_type": "code",
   "execution_count": 17,
   "metadata": {},
   "outputs": [],
   "source": [
    "profile_section_to_use = 'essay4'"
   ]
  },
  {
   "cell_type": "code",
   "execution_count": 18,
   "metadata": {},
   "outputs": [
    {
     "name": "stdout",
     "output_type": "stream",
     "text": [
      "Cleaning up profile text for essay4 ...\n"
     ]
    },
    {
     "name": "stderr",
     "output_type": "stream",
     "text": [
      "  0%|          | 0/58785 [00:00<?, ?it/s]/tmp/ipykernel_25275/512017477.py:9: MarkupResemblesLocatorWarning: The input looks more like a filename than markup. You may want to open this file and pass the filehandle into Beautiful Soup.\n",
      "  t = BeautifulSoup(text, 'lxml').get_text()\n",
      "  3%|▎         | 1550/58785 [00:00<00:07, 7968.49it/s]/tmp/ipykernel_25275/512017477.py:9: MarkupResemblesLocatorWarning: The input looks more like a URL than markup. You may want to use an HTTP client like requests to get the document behind the URL, and feed that document to Beautiful Soup.\n",
      "  t = BeautifulSoup(text, 'lxml').get_text()\n",
      "100%|██████████| 58785/58785 [00:06<00:00, 8462.09it/s] \n"
     ]
    },
    {
     "name": "stdout",
     "output_type": "stream",
     "text": [
      "We started with 58785 profiles.\n",
      "Dropping profiles that didn't write anything for the essay we chose...\n",
      "Our transformed text has 48432 rows and 48432 columns.\n",
      "The first few words (after lemmatization) are:\n",
      " ['aesop', 'cry', 'feel', 'game', 'hail', 'make', 'man', 'operation', 'rock', 'show', 'throne', 'want', 'alternative', 'die', 'draw', 'fan', 'hard', 'humor', 'involve', 'kind']\n"
     ]
    }
   ],
   "source": [
    "# In this cell, let's find the top 10 most popular words and list them alphabetically. \n",
    "# Look the sample codes above and try fill in the \"???\".\n",
    "\n",
    "profiles = pd.read_csv('data/clean_profiles.tsv', sep='\\t')\n",
    "\n",
    "print('Cleaning up profile text for', profile_section_to_use, '...')\n",
    "profiles['clean'] = profiles[profile_section_to_use].progress_apply(clean)\n",
    "\n",
    "print('We started with', profiles.shape[0], 'profiles.')\n",
    "print(\"Dropping profiles that didn't write anything for the essay we chose...\")\n",
    "profiles.dropna(axis=0, subset=['clean'], inplace=True)\n",
    "\n",
    "# Remove unused text columns\n",
    "text_cols = ['text', 'essay0', 'essay1', 'essay2', 'essay3', 'essay4', \n",
    "             'essay5', 'essay6', 'essay7', 'essay8', 'essay9']\n",
    "profiles.drop(columns=text_cols, inplace=True)\n",
    "\n",
    "# Documents we will work with (cleaned text)\n",
    "documents = profiles['clean'].values\n",
    "\n",
    "# Split each document into tokens (list of words) for Gensim\n",
    "data_words = [doc.split() for doc in documents]\n",
    "data_words_nostops = remove_stopwords(data_words)\n",
    "data_words_bigrams = make_bigrams(data_words_nostops)\n",
    "\n",
    "# Do lemmatization keeping only noun, adj, vb, adv\n",
    "data_lemmatized = lemmatization(data_words_bigrams, allowed_postags=['NOUN', 'ADJ', 'VERB', 'ADV'])\n",
    "\n",
    "# Create a Gensim dictionary\n",
    "id2word = corpora.Dictionary(data_lemmatized)\n",
    "\n",
    "# Filter out words that occur in less than 10 documents, or more than 50% of documents\n",
    "id2word.filter_extremes(no_below=10, no_above=0.5)\n",
    "\n",
    "texts = data_lemmatized\n",
    "\n",
    "#corpus = ???\n",
    "corpus = [id2word.doc2bow(text) for text in texts]\n",
    "\n",
    "# Print the total number of rows and columns (dictionary size)\n",
    "print(f\"Our transformed text has {len(corpus)} rows and {len(corpus)} columns.\")\n",
    "\n",
    "print(\"The first few words (after lemmatization) are:\\n\", list(id2word.token2id.keys())[:20])"
   ]
  },
  {
   "cell_type": "markdown",
   "metadata": {},
   "source": [
    "<div class=\"alert-info\">\n",
    "    \n",
    "- (2) Did any of your predicted words made to top 10? (No right or wrong answer!) \n",
    "    \n",
    "</div>"
   ]
  },
  {
   "cell_type": "markdown",
   "metadata": {},
   "source": [
    "🤔 **Write your response here:**\n",
    "...\n",
    "\n"
   ]
  },
  {
   "cell_type": "code",
   "execution_count": 19,
   "metadata": {},
   "outputs": [
    {
     "name": "stdout",
     "output_type": "stream",
     "text": [
      "Cleaning up profile text for essay0 ...\n"
     ]
    },
    {
     "name": "stderr",
     "output_type": "stream",
     "text": [
      "  0%|          | 0/58785 [00:00<?, ?it/s]/tmp/ipykernel_25275/512017477.py:9: MarkupResemblesLocatorWarning: The input looks more like a filename than markup. You may want to open this file and pass the filehandle into Beautiful Soup.\n",
      "  t = BeautifulSoup(text, 'lxml').get_text()\n",
      "/tmp/ipykernel_25275/512017477.py:9: MarkupResemblesLocatorWarning: The input looks more like a URL than markup. You may want to use an HTTP client like requests to get the document behind the URL, and feed that document to Beautiful Soup.\n",
      "  t = BeautifulSoup(text, 'lxml').get_text()\n",
      "100%|██████████| 58785/58785 [00:05<00:00, 9982.50it/s] \n"
     ]
    },
    {
     "name": "stdout",
     "output_type": "stream",
     "text": [
      "We started with 58785 profiles.\n",
      "Dropping profiles that didn't write anything for the essay we chose...\n",
      "Our transformed text has 53396 rows and 53396 columns.\n",
      "The first few words (after lemmatization) are:\n",
      " ['able', 'attention_span', 'bend', 'blow', 'choice', 'cliche', 'concept', 'consider', 'conversation', 'cool', 'decide', 'deep', 'difference', 'dress', 'dumb', 'everyday', 'extra_point', 'favorite', 'forge', 'funny']\n"
     ]
    }
   ],
   "source": [
    "# Now let's focus on essay0 again.\n",
    "\n",
    "profile_section_to_use = 'essay0'\n",
    "\n",
    "profiles = pd.read_csv('data/clean_profiles.tsv', sep='\\t')\n",
    "\n",
    "print('Cleaning up profile text for', profile_section_to_use, '...')\n",
    "profiles['clean'] = profiles[profile_section_to_use].progress_apply(clean)\n",
    "\n",
    "print('We started with', profiles.shape[0], 'profiles.')\n",
    "print(\"Dropping profiles that didn't write anything for the essay we chose...\")\n",
    "profiles.dropna(axis=0, subset=['clean'], inplace=True)\n",
    "\n",
    "# Remove unused text columns\n",
    "text_cols = ['text', 'essay0', 'essay1', 'essay2', 'essay3', 'essay4', \n",
    "             'essay5', 'essay6', 'essay7', 'essay8', 'essay9']\n",
    "profiles.drop(columns=text_cols, inplace=True)\n",
    "\n",
    "# Documents we will work with (cleaned text)\n",
    "documents = profiles['clean'].values\n",
    "\n",
    "# Split each document into tokens (list of words) for Gensim\n",
    "data_words = [doc.split() for doc in documents]\n",
    "data_words_nostops = remove_stopwords(data_words)\n",
    "data_words_bigrams = make_bigrams(data_words_nostops)\n",
    "\n",
    "# Do lemmatization keeping only noun, adj, vb, adv\n",
    "data_lemmatized = lemmatization(data_words_bigrams, allowed_postags=['NOUN', 'ADJ', 'VERB', 'ADV'])\n",
    "\n",
    "# Create a Gensim dictionary\n",
    "id2word = corpora.Dictionary(data_lemmatized)\n",
    "\n",
    "# Filter out words that occur in less than 10 documents, or more than 50% of documents\n",
    "id2word.filter_extremes(no_below=10, no_above=0.5)\n",
    "\n",
    "texts = data_lemmatized\n",
    "\n",
    "#corpus = ???\n",
    "corpus = [id2word.doc2bow(text) for text in texts]\n",
    "\n",
    "# Print the total number of rows and columns (dictionary size)\n",
    "print(f\"Our transformed text has {len(corpus)} rows and {len(corpus)} columns.\")\n",
    "\n",
    "print(\"The first few words (after lemmatization) are:\\n\", list(id2word.token2id.keys())[:20])"
   ]
  },
  {
   "cell_type": "markdown",
   "metadata": {},
   "source": [
    "## Section 3: LDA Topic Model\n",
    "\n",
    "- LDA stands for Latent Dirichlet Allocation. The statistical math behind it is complicated, but its goals are simple:\n",
    "    - find groups of words that often show up together and call those groups topics. \n",
    "    - find topics that can be used to tell documents apart, i.e. topics that are in some documents but not others.\n",
    "- LDA is the most popular method for topic modeling.\n",
    "- [Learn more](https://en.wikipedia.org/wiki/Latent_Dirichlet_allocation) about LDA\n",
    "\n",
    "### Step 1: Decide how many topics we want to find\n",
    "\n",
    "<div class=\"alert-info\">\n",
    "    \n",
    "#### Short Answer No.3\n",
    "- How would the number of topics you choose affect the result in your opinion? (Think about extreme cases like you only pick 1 topic, vs if you pick 10,000 topics.) (1-2 sentences)\n",
    "- Choose 1 essay and describe the types of topics you would expect to find.\n",
    "    \n",
    "</div>"
   ]
  },
  {
   "cell_type": "markdown",
   "metadata": {},
   "source": [
    "🤔 **Write your response here:**\n",
    "...\n",
    "\n"
   ]
  },
  {
   "cell_type": "code",
   "execution_count": 20,
   "metadata": {},
   "outputs": [],
   "source": [
    "#how many topics we want our model to find\n",
    "ntopics = 15\n",
    "nshow = 10"
   ]
  },
  {
   "cell_type": "markdown",
   "metadata": {},
   "source": [
    "### Step 2: Run the LDA algorithm\n",
    "- LDA can be a little slow. We'll use a faster method later on.\n",
    "- We have everything required to train the base LDA model. In addition to the corpus and dictionary, you need to provide the number of topics as well. Apart from that, alpha and eta are hyperparameters that affect sparsity of the topics. According to the Gensim docs, both defaults to 1.0/num_topics prior (we'll use default for the base model).\n",
    "- chunksize controls how many documents are processed at a time in the training algorithm. Increasing chunksize will speed up training, at least as long as the chunk of documents easily fit into memory.\n",
    "- passes controls how often we train the model on the entire corpus (set to 10). Another word for passes might be \"epochs\". iterations is somewhat technical, but essentially it controls how often we repeat a particular loop over each document. It is important to set the number of \"passes\" and \"iterations\" high enough."
   ]
  },
  {
   "cell_type": "code",
   "execution_count": 21,
   "metadata": {},
   "outputs": [
    {
     "name": "stdout",
     "output_type": "stream",
     "text": [
      "Performing LDA on vectors. This may take a while...\n",
      "Done!\n"
     ]
    }
   ],
   "source": [
    "# Build LDA model\n",
    "print('Performing LDA on vectors. This may take a while...')\n",
    "lda_model = gensim.models.LdaMulticore(corpus=corpus,\n",
    "                                       id2word=id2word,\n",
    "                                       num_topics=ntopics, \n",
    "                                       random_state=100,\n",
    "                                       chunksize=100,\n",
    "                                       passes=10,\n",
    "                                       per_word_topics=True)\n",
    "\n",
    "lda_topics = lda_model.get_topics()\n",
    "\n",
    "print('Done!')"
   ]
  },
  {
   "cell_type": "markdown",
   "metadata": {},
   "source": [
    "** **\n",
    "The above LDA model is built with 15 different topics where each topic is a combination of keywords and each keyword contributes a certain weightage to the topic.\n",
    "\n",
    "You can see the keywords for each topic and the weightage(importance) of each keyword using `lda_model.print_topics()`"
   ]
  },
  {
   "cell_type": "code",
   "execution_count": 22,
   "metadata": {},
   "outputs": [
    {
     "name": "stdout",
     "output_type": "stream",
     "text": [
      "[(0,\n",
      "  '0.034*\"dog\" + 0.032*\"cat\" + 0.026*\"animal\" + 0.010*\"pet\" + '\n",
      "  '0.009*\"wine_taste\" + 0.007*\"downtown\" + 0.007*\"time\" + 0.006*\"exception\" + '\n",
      "  '0.006*\"anime\" + 0.005*\"photograph\"'),\n",
      " (1,\n",
      "  '0.033*\"life\" + 0.027*\"love\" + 0.015*\"people\" + 0.012*\"world\" + 0.011*\"live\" '\n",
      "  '+ 0.010*\"learn\" + 0.009*\"experience\" + 0.008*\"thing\" + 0.007*\"enjoy\" + '\n",
      "  '0.007*\"share\"'),\n",
      " (2,\n",
      "  '0.021*\"get\" + 0.014*\"day\" + 0.013*\"make\" + 0.009*\"go\" + 0.009*\"time\" + '\n",
      "  '0.008*\"work\" + 0.007*\"good\" + 0.007*\"take\" + 0.007*\"know\" + 0.007*\"thing\"'),\n",
      " (3,\n",
      "  '0.016*\"read\" + 0.013*\"half\" + 0.013*\"geek\" + 0.012*\"nerdy\" + 0.011*\"geeky\" '\n",
      "  '+ 0.011*\"book\" + 0.010*\"politic\" + 0.010*\"language\" + 0.010*\"nerd\" + '\n",
      "  '0.010*\"speak\"'),\n",
      " (4,\n",
      "  '0.038*\"art\" + 0.036*\"work\" + 0.020*\"music\" + 0.017*\"study\" + 0.016*\"artist\" '\n",
      "  '+ 0.015*\"school\" + 0.014*\"design\" + 0.012*\"creative\" + 0.012*\"film\" + '\n",
      "  '0.012*\"write\"'),\n",
      " (5,\n",
      "  '0.009*\"find\" + 0.006*\"believe\" + 0.006*\"well\" + 0.006*\"come\" + '\n",
      "  '0.006*\"world\" + 0.006*\"way\" + 0.006*\"self\" + 0.006*\"become\" + 0.005*\"give\" '\n",
      "  '+ 0.005*\"many\"'),\n",
      " (6,\n",
      "  '0.031*\"thing\" + 0.030*\"people\" + 0.024*\"think\" + 0.022*\"get\" + 0.021*\"make\" '\n",
      "  '+ 0.018*\"really\" + 0.017*\"good\" + 0.016*\"try\" + 0.014*\"say\" + 0.014*\"know\"'),\n",
      " (7,\n",
      "  '0.069*\"play\" + 0.047*\"love\" + 0.043*\"music\" + 0.033*\"watch\" + 0.031*\"go\" + '\n",
      "  '0.030*\"movie\" + 0.028*\"sport\" + 0.024*\"game\" + 0.022*\"also\" + '\n",
      "  '0.017*\"enjoy\"'),\n",
      " (8,\n",
      "  '0.038*\"look\" + 0.035*\"relationship\" + 0.030*\"woman\" + 0.028*\"want\" + '\n",
      "  '0.026*\"man\" + 0.019*\"date\" + 0.013*\"know\" + 0.012*\"open\" + 0.012*\"partner\" '\n",
      "  '+ 0.009*\"find\"'),\n",
      " (9,\n",
      "  '0.052*\"year\" + 0.035*\"live\" + 0.034*\"move\" + 0.023*\"work\" + 0.019*\"love\" + '\n",
      "  '0.018*\"time\" + 0.017*\"life\" + 0.017*\"city\" + 0.017*\"go\" + 0.015*\"travel\"'),\n",
      " (10,\n",
      "  '0.037*\"profile\" + 0.032*\"write\" + 0.028*\"say\" + 0.026*\"read\" + 0.022*\"know\" '\n",
      "  '+ 0.019*\"word\" + 0.018*\"ask\" + 0.015*\"think\" + 0.014*\"message\" + '\n",
      "  '0.014*\"question\"'),\n",
      " (11,\n",
      "  '0.046*\"love\" + 0.030*\"enjoy\" + 0.024*\"new\" + 0.023*\"go\" + 0.020*\"travel\" + '\n",
      "  '0.018*\"good\" + 0.017*\"friend\" + 0.015*\"thing\" + 0.013*\"time\" + 0.013*\"try\"'),\n",
      " (12,\n",
      "  '0.018*\"girl\" + 0.015*\"love\" + 0.015*\"old\" + 0.015*\"heart\" + 0.010*\"man\" + '\n",
      "  '0.008*\"black\" + 0.008*\"eye\" + 0.008*\"dance\" + 0.008*\"boy\" + 0.007*\"name\"'),\n",
      " (13,\n",
      "  '0.033*\"love\" + 0.033*\"life\" + 0.025*\"good\" + 0.021*\"friend\" + 0.017*\"fun\" + '\n",
      "  '0.016*\"look\" + 0.015*\"person\" + 0.015*\"enjoy\" + 0.014*\"family\" + '\n",
      "  '0.014*\"time\"'),\n",
      " (14,\n",
      "  '0.044*\"people\" + 0.043*\"new\" + 0.038*\"meet\" + 0.032*\"go\" + 0.026*\"m\" + '\n",
      "  '0.026*\"get\" + 0.025*\"look\" + 0.024*\"know\" + 0.022*\"friend\" + 0.020*\"love\"')]\n"
     ]
    }
   ],
   "source": [
    "# Print the Keyword in the 15 topics\n",
    "pprint(lda_model.print_topics())\n",
    "doc_lda = lda_model[corpus]"
   ]
  },
  {
   "cell_type": "markdown",
   "metadata": {},
   "source": [
    "#### Compute Model Perplexity and Coherence Score\n",
    "\n",
    "Let's calculate the baseline coherence score"
   ]
  },
  {
   "cell_type": "code",
   "execution_count": 23,
   "metadata": {},
   "outputs": [
    {
     "name": "stdout",
     "output_type": "stream",
     "text": [
      "Coherence Score:  0.4163179244331024\n"
     ]
    }
   ],
   "source": [
    "# Compute Coherence Score\n",
    "coherence_model_lda = CoherenceModel(model=lda_model, texts=data_lemmatized, dictionary=id2word, coherence='c_v')\n",
    "coherence_lda = coherence_model_lda.get_coherence()\n",
    "print('Coherence Score: ', coherence_lda)"
   ]
  },
  {
   "cell_type": "markdown",
   "metadata": {},
   "source": [
    "** **\n",
    "#### Step 3: Hyperparameter tuning\n",
    "** **\n",
    "First, let's differentiate between model hyperparameters and model parameters :\n",
    "\n",
    "- `Model hyperparameters` can be thought of as settings for a machine learning algorithm that are tuned by the data scientist before training. Examples would be the number of trees in the random forest, or in our case, number of topics K\n",
    "\n",
    "- `Model parameters` can be thought of as what the model learns during training, such as the weights for each word in a given topic.\n",
    "\n",
    "Now that we have the baseline coherence score for the default LDA model, let's perform a series of sensitivity tests to help determine the following model hyperparameters: \n",
    "- Number of Topics (K)\n",
    "- Dirichlet hyperparameter alpha: Document-Topic Density\n",
    "- Dirichlet hyperparameter beta: Word-Topic Density\n",
    "\n",
    "We'll perform these tests in sequence, one parameter at a time by keeping others constant and run them over the two difference validation corpus sets. We'll use `C_v` as our choice of metric for performance comparison "
   ]
  },
  {
   "cell_type": "code",
   "execution_count": 24,
   "metadata": {},
   "outputs": [],
   "source": [
    "# supporting function\n",
    "def compute_coherence_values(corpus, dictionary, k, a, b):\n",
    "    \n",
    "    lda_model = gensim.models.LdaMulticore(corpus=corpus,\n",
    "                                           id2word=dictionary,\n",
    "                                           num_topics=k, \n",
    "                                           random_state=100,\n",
    "                                           chunksize=100,\n",
    "                                           passes=10,\n",
    "                                           alpha=a,\n",
    "                                           eta=b)\n",
    "    \n",
    "    coherence_model_lda = CoherenceModel(model=lda_model, texts=data_lemmatized, dictionary=id2word, coherence='c_v')\n",
    "    \n",
    "    return coherence_model_lda.get_coherence()"
   ]
  },
  {
   "cell_type": "markdown",
   "metadata": {},
   "source": [
    "Let's call the function, and iterate it over the range of topics, alpha, and beta parameter values"
   ]
  },
  {
   "cell_type": "code",
   "execution_count": 46,
   "metadata": {},
   "outputs": [
    {
     "name": "stderr",
     "output_type": "stream",
     "text": [
      " 15%|█▍        | 79/540 [53:41<5:13:17, 40.78s/it]\n",
      "  1%|          | 5/540 [01:39<3:01:32, 20.36s/it]Process ForkPoolWorker-1462:\n",
      "Process ForkPoolWorker-1458:\n",
      "Process ForkPoolWorker-1461:\n",
      "Process ForkPoolWorker-1457:\n",
      "Process ForkPoolWorker-1463:\n",
      "Traceback (most recent call last):\n",
      "Traceback (most recent call last):\n",
      "Traceback (most recent call last):\n",
      "Traceback (most recent call last):\n",
      "  File \"/opt/conda/lib/python3.11/multiprocessing/process.py\", line 314, in _bootstrap\n",
      "    self.run()\n",
      "  File \"/opt/conda/lib/python3.11/multiprocessing/process.py\", line 314, in _bootstrap\n",
      "    self.run()\n",
      "Process ForkPoolWorker-1459:\n",
      "  File \"/opt/conda/lib/python3.11/multiprocessing/process.py\", line 314, in _bootstrap\n",
      "    self.run()\n",
      "  File \"/opt/conda/lib/python3.11/multiprocessing/process.py\", line 108, in run\n",
      "    self._target(*self._args, **self._kwargs)\n",
      "Traceback (most recent call last):\n",
      "  File \"/opt/conda/lib/python3.11/multiprocessing/process.py\", line 314, in _bootstrap\n",
      "    self.run()\n",
      "  File \"/opt/conda/lib/python3.11/multiprocessing/process.py\", line 108, in run\n",
      "    self._target(*self._args, **self._kwargs)\n",
      "  File \"/opt/conda/lib/python3.11/multiprocessing/process.py\", line 108, in run\n",
      "    self._target(*self._args, **self._kwargs)\n",
      "  File \"/opt/conda/lib/python3.11/multiprocessing/pool.py\", line 109, in worker\n",
      "    initializer(*initargs)\n",
      "  File \"/opt/conda/lib/python3.11/multiprocessing/process.py\", line 314, in _bootstrap\n",
      "    self.run()\n",
      "  File \"/opt/conda/lib/python3.11/multiprocessing/process.py\", line 108, in run\n",
      "    self._target(*self._args, **self._kwargs)\n",
      "Traceback (most recent call last):\n",
      "  File \"/opt/conda/lib/python3.11/multiprocessing/pool.py\", line 109, in worker\n",
      "    initializer(*initargs)\n",
      "  File \"/opt/conda/lib/python3.11/multiprocessing/pool.py\", line 109, in worker\n",
      "    initializer(*initargs)\n",
      "  File \"/opt/conda/lib/python3.11/site-packages/gensim/models/ldamulticore.py\", line 346, in worker_e_step\n",
      "    worker_lda.do_estep(chunk)  # TODO: auto-tune alpha?\n",
      "    ^^^^^^^^^^^^^^^^^^^^^^^^^^\n",
      "  File \"/opt/conda/lib/python3.11/multiprocessing/pool.py\", line 109, in worker\n",
      "    initializer(*initargs)\n",
      "  File \"/opt/conda/lib/python3.11/site-packages/gensim/models/ldamulticore.py\", line 346, in worker_e_step\n",
      "    worker_lda.do_estep(chunk)  # TODO: auto-tune alpha?\n",
      "    ^^^^^^^^^^^^^^^^^^^^^^^^^^\n",
      "  File \"/opt/conda/lib/python3.11/site-packages/gensim/models/ldamodel.py\", line 768, in do_estep\n",
      "    gamma, sstats = self.inference(chunk, collect_sstats=True)\n",
      "                    ^^^^^^^^^^^^^^^^^^^^^^^^^^^^^^^^^^^^^^^^^^\n",
      "  File \"/opt/conda/lib/python3.11/multiprocessing/process.py\", line 108, in run\n",
      "    self._target(*self._args, **self._kwargs)\n",
      "  File \"/opt/conda/lib/python3.11/site-packages/gensim/models/ldamulticore.py\", line 341, in worker_e_step\n",
      "    chunk_no, chunk, w_state = input_queue.get()\n",
      "                               ^^^^^^^^^^^^^^^^^\n",
      "  File \"/opt/conda/lib/python3.11/multiprocessing/pool.py\", line 109, in worker\n",
      "    initializer(*initargs)\n",
      "  File \"/opt/conda/lib/python3.11/site-packages/gensim/models/ldamulticore.py\", line 346, in worker_e_step\n",
      "    worker_lda.do_estep(chunk)  # TODO: auto-tune alpha?\n",
      "    ^^^^^^^^^^^^^^^^^^^^^^^^^^\n",
      "  File \"/opt/conda/lib/python3.11/multiprocessing/process.py\", line 314, in _bootstrap\n",
      "    self.run()\n",
      "  File \"/opt/conda/lib/python3.11/site-packages/gensim/models/ldamodel.py\", line 768, in do_estep\n",
      "    gamma, sstats = self.inference(chunk, collect_sstats=True)\n",
      "                    ^^^^^^^^^^^^^^^^^^^^^^^^^^^^^^^^^^^^^^^^^^\n",
      "  File \"/opt/conda/lib/python3.11/multiprocessing/queues.py\", line 103, in get\n",
      "    res = self._recv_bytes()\n",
      "          ^^^^^^^^^^^^^^^^^^\n",
      "  File \"/opt/conda/lib/python3.11/site-packages/gensim/models/ldamulticore.py\", line 346, in worker_e_step\n",
      "    worker_lda.do_estep(chunk)  # TODO: auto-tune alpha?\n",
      "    ^^^^^^^^^^^^^^^^^^^^^^^^^^\n",
      "  File \"/opt/conda/lib/python3.11/site-packages/gensim/models/ldamodel.py\", line 720, in inference\n",
      "    Elogthetad = dirichlet_expectation(gammad)\n",
      "                 ^^^^^^^^^^^^^^^^^^^^^^^^^^^^^\n",
      "  File \"/opt/conda/lib/python3.11/site-packages/gensim/models/ldamodel.py\", line 768, in do_estep\n",
      "    gamma, sstats = self.inference(chunk, collect_sstats=True)\n",
      "                    ^^^^^^^^^^^^^^^^^^^^^^^^^^^^^^^^^^^^^^^^^^\n",
      "  File \"/opt/conda/lib/python3.11/site-packages/gensim/models/ldamodel.py\", line 724, in inference\n",
      "    meanchange = mean_absolute_difference(gammad, lastgamma)\n",
      "                 ^^^^^^^^^^^^^^^^^^^^^^^^^^^^^^^^^^^^^^^^^^^\n",
      "  File \"/opt/conda/lib/python3.11/multiprocessing/process.py\", line 108, in run\n",
      "    self._target(*self._args, **self._kwargs)\n",
      "  File \"/opt/conda/lib/python3.11/site-packages/gensim/models/ldamodel.py\", line 768, in do_estep\n",
      "    gamma, sstats = self.inference(chunk, collect_sstats=True)\n",
      "                    ^^^^^^^^^^^^^^^^^^^^^^^^^^^^^^^^^^^^^^^^^^\n",
      "  File \"/opt/conda/lib/python3.11/multiprocessing/connection.py\", line 216, in recv_bytes\n",
      "    buf = self._recv_bytes(maxlength)\n",
      "          ^^^^^^^^^^^^^^^^^^^^^^^^^^^\n",
      "  File \"/opt/conda/lib/python3.11/multiprocessing/pool.py\", line 109, in worker\n",
      "    initializer(*initargs)\n",
      "KeyboardInterrupt\n",
      "KeyboardInterrupt\n",
      "  File \"/opt/conda/lib/python3.11/site-packages/gensim/models/ldamodel.py\", line 719, in inference\n",
      "    gammad = self.alpha + expElogthetad * np.dot(cts / phinorm, expElogbetad.T)\n",
      "                                          ^^^^^^^^^^^^^^^^^^^^^^^^^^^^^^^^^^^^^\n",
      "  File \"/opt/conda/lib/python3.11/site-packages/gensim/models/ldamodel.py\", line 701, in inference\n",
      "    ids = [idx for idx, _ in doc]\n",
      "          ^^^^^^^^^^^^^^^^^^^^^^^\n",
      "  File \"/opt/conda/lib/python3.11/multiprocessing/connection.py\", line 437, in _recv_bytes\n",
      "    return self._recv(size)\n",
      "           ^^^^^^^^^^^^^^^^\n",
      "  File \"/opt/conda/lib/python3.11/site-packages/gensim/models/ldamulticore.py\", line 346, in worker_e_step\n",
      "    worker_lda.do_estep(chunk)  # TODO: auto-tune alpha?\n",
      "    ^^^^^^^^^^^^^^^^^^^^^^^^^^\n",
      "  File \"/opt/conda/lib/python3.11/site-packages/numpy/core/multiarray.py\", line 741, in dot\n",
      "    @array_function_from_c_func_and_dispatcher(_multiarray_umath.dot)\n",
      "    \n",
      "  File \"/opt/conda/lib/python3.11/site-packages/gensim/models/ldamodel.py\", line 768, in do_estep\n",
      "    gamma, sstats = self.inference(chunk, collect_sstats=True)\n",
      "                    ^^^^^^^^^^^^^^^^^^^^^^^^^^^^^^^^^^^^^^^^^^\n",
      "  File \"/opt/conda/lib/python3.11/multiprocessing/connection.py\", line 402, in _recv\n",
      "    buf.write(chunk)\n",
      "  File \"/opt/conda/lib/python3.11/site-packages/gensim/models/ldamodel.py\", line 701, in <listcomp>\n",
      "    ids = [idx for idx, _ in doc]\n",
      "    \n",
      "KeyboardInterrupt\n",
      "KeyboardInterrupt\n",
      "  File \"/opt/conda/lib/python3.11/site-packages/gensim/models/ldamodel.py\", line 719, in inference\n",
      "    gammad = self.alpha + expElogthetad * np.dot(cts / phinorm, expElogbetad.T)\n",
      "                                          ^^^^^^^^^^^^^^^^^^^^^^^^^^^^^^^^^^^^^\n",
      "  File \"/opt/conda/lib/python3.11/site-packages/numpy/core/multiarray.py\", line 741, in dot\n",
      "    @array_function_from_c_func_and_dispatcher(_multiarray_umath.dot)\n",
      "    \n",
      "KeyboardInterrupt\n",
      "KeyboardInterrupt\n"
     ]
    },
    {
     "ename": "KeyboardInterrupt",
     "evalue": "",
     "output_type": "error",
     "traceback": [
      "\u001b[0;31m---------------------------------------------------------------------------\u001b[0m",
      "\u001b[0;31mFull\u001b[0m                                      Traceback (most recent call last)",
      "File \u001b[0;32m/opt/conda/lib/python3.11/site-packages/gensim/models/ldamulticore.py:298\u001b[0m, in \u001b[0;36mLdaMulticore.update\u001b[0;34m(self, corpus, chunks_as_numpy)\u001b[0m\n\u001b[1;32m    297\u001b[0m \u001b[38;5;28;01mtry\u001b[39;00m:\n\u001b[0;32m--> 298\u001b[0m     \u001b[43mjob_queue\u001b[49m\u001b[38;5;241;43m.\u001b[39;49m\u001b[43mput\u001b[49m\u001b[43m(\u001b[49m\u001b[43m(\u001b[49m\u001b[43mchunk_no\u001b[49m\u001b[43m,\u001b[49m\u001b[43m \u001b[49m\u001b[43mchunk\u001b[49m\u001b[43m,\u001b[49m\u001b[43m \u001b[49m\u001b[38;5;28;43mself\u001b[39;49m\u001b[38;5;241;43m.\u001b[39;49m\u001b[43mstate\u001b[49m\u001b[43m)\u001b[49m\u001b[43m,\u001b[49m\u001b[43m \u001b[49m\u001b[43mblock\u001b[49m\u001b[38;5;241;43m=\u001b[39;49m\u001b[38;5;28;43;01mFalse\u001b[39;49;00m\u001b[43m)\u001b[49m\n\u001b[1;32m    299\u001b[0m     queue_size[\u001b[38;5;241m0\u001b[39m] \u001b[38;5;241m+\u001b[39m\u001b[38;5;241m=\u001b[39m \u001b[38;5;241m1\u001b[39m\n",
      "File \u001b[0;32m/opt/conda/lib/python3.11/multiprocessing/queues.py:90\u001b[0m, in \u001b[0;36mQueue.put\u001b[0;34m(self, obj, block, timeout)\u001b[0m\n\u001b[1;32m     89\u001b[0m \u001b[38;5;28;01mif\u001b[39;00m \u001b[38;5;129;01mnot\u001b[39;00m \u001b[38;5;28mself\u001b[39m\u001b[38;5;241m.\u001b[39m_sem\u001b[38;5;241m.\u001b[39macquire(block, timeout):\n\u001b[0;32m---> 90\u001b[0m     \u001b[38;5;28;01mraise\u001b[39;00m Full\n\u001b[1;32m     92\u001b[0m \u001b[38;5;28;01mwith\u001b[39;00m \u001b[38;5;28mself\u001b[39m\u001b[38;5;241m.\u001b[39m_notempty:\n",
      "\u001b[0;31mFull\u001b[0m: ",
      "\nDuring handling of the above exception, another exception occurred:\n",
      "\u001b[0;31mKeyboardInterrupt\u001b[0m                         Traceback (most recent call last)",
      "Cell \u001b[0;32mIn[46], line 49\u001b[0m\n\u001b[1;32m     45\u001b[0m \u001b[38;5;28;01mfor\u001b[39;00m a \u001b[38;5;129;01min\u001b[39;00m alpha:\n\u001b[1;32m     46\u001b[0m     \u001b[38;5;66;03m# iterare through beta values\u001b[39;00m\n\u001b[1;32m     47\u001b[0m     \u001b[38;5;28;01mfor\u001b[39;00m b \u001b[38;5;129;01min\u001b[39;00m beta:\n\u001b[1;32m     48\u001b[0m         \u001b[38;5;66;03m# get the coherence score for the given parameters\u001b[39;00m\n\u001b[0;32m---> 49\u001b[0m         cv \u001b[38;5;241m=\u001b[39m \u001b[43mcompute_coherence_values\u001b[49m\u001b[43m(\u001b[49m\u001b[43mcorpus\u001b[49m\u001b[38;5;241;43m=\u001b[39;49m\u001b[43mcorpus_sets\u001b[49m\u001b[43m[\u001b[49m\u001b[43mi\u001b[49m\u001b[43m]\u001b[49m\u001b[43m,\u001b[49m\u001b[43m \u001b[49m\u001b[43mdictionary\u001b[49m\u001b[38;5;241;43m=\u001b[39;49m\u001b[43mid2word\u001b[49m\u001b[43m,\u001b[49m\u001b[43m \u001b[49m\n\u001b[1;32m     50\u001b[0m \u001b[43m                                      \u001b[49m\u001b[43mk\u001b[49m\u001b[38;5;241;43m=\u001b[39;49m\u001b[43mk\u001b[49m\u001b[43m,\u001b[49m\u001b[43m \u001b[49m\u001b[43ma\u001b[49m\u001b[38;5;241;43m=\u001b[39;49m\u001b[43ma\u001b[49m\u001b[43m,\u001b[49m\u001b[43m \u001b[49m\u001b[43mb\u001b[49m\u001b[38;5;241;43m=\u001b[39;49m\u001b[43mb\u001b[49m\u001b[43m)\u001b[49m\n\u001b[1;32m     51\u001b[0m         \u001b[38;5;66;03m# Save the model results\u001b[39;00m\n\u001b[1;32m     52\u001b[0m         model_results[\u001b[38;5;124m'\u001b[39m\u001b[38;5;124mValidation_Set\u001b[39m\u001b[38;5;124m'\u001b[39m]\u001b[38;5;241m.\u001b[39mappend(corpus_title[i])\n",
      "Cell \u001b[0;32mIn[45], line 4\u001b[0m, in \u001b[0;36mcompute_coherence_values\u001b[0;34m(corpus, dictionary, k, a, b)\u001b[0m\n\u001b[1;32m      2\u001b[0m \u001b[38;5;28;01mdef\u001b[39;00m \u001b[38;5;21mcompute_coherence_values\u001b[39m(corpus, dictionary, k, a, b):\n\u001b[0;32m----> 4\u001b[0m     lda_model \u001b[38;5;241m=\u001b[39m \u001b[43mgensim\u001b[49m\u001b[38;5;241;43m.\u001b[39;49m\u001b[43mmodels\u001b[49m\u001b[38;5;241;43m.\u001b[39;49m\u001b[43mLdaMulticore\u001b[49m\u001b[43m(\u001b[49m\u001b[43mcorpus\u001b[49m\u001b[38;5;241;43m=\u001b[39;49m\u001b[43mcorpus\u001b[49m\u001b[43m,\u001b[49m\n\u001b[1;32m      5\u001b[0m \u001b[43m                                           \u001b[49m\u001b[43mid2word\u001b[49m\u001b[38;5;241;43m=\u001b[39;49m\u001b[43mdictionary\u001b[49m\u001b[43m,\u001b[49m\n\u001b[1;32m      6\u001b[0m \u001b[43m                                           \u001b[49m\u001b[43mnum_topics\u001b[49m\u001b[38;5;241;43m=\u001b[39;49m\u001b[43mk\u001b[49m\u001b[43m,\u001b[49m\u001b[43m \u001b[49m\n\u001b[1;32m      7\u001b[0m \u001b[43m                                           \u001b[49m\u001b[43mrandom_state\u001b[49m\u001b[38;5;241;43m=\u001b[39;49m\u001b[38;5;241;43m100\u001b[39;49m\u001b[43m,\u001b[49m\n\u001b[1;32m      8\u001b[0m \u001b[43m                                           \u001b[49m\u001b[43mchunksize\u001b[49m\u001b[38;5;241;43m=\u001b[39;49m\u001b[38;5;241;43m100\u001b[39;49m\u001b[43m,\u001b[49m\n\u001b[1;32m      9\u001b[0m \u001b[43m                                           \u001b[49m\u001b[43mpasses\u001b[49m\u001b[38;5;241;43m=\u001b[39;49m\u001b[38;5;241;43m10\u001b[39;49m\u001b[43m,\u001b[49m\n\u001b[1;32m     10\u001b[0m \u001b[43m                                           \u001b[49m\u001b[43malpha\u001b[49m\u001b[38;5;241;43m=\u001b[39;49m\u001b[43ma\u001b[49m\u001b[43m,\u001b[49m\n\u001b[1;32m     11\u001b[0m \u001b[43m                                           \u001b[49m\u001b[43meta\u001b[49m\u001b[38;5;241;43m=\u001b[39;49m\u001b[43mb\u001b[49m\u001b[43m)\u001b[49m\n\u001b[1;32m     13\u001b[0m     coherence_model_lda \u001b[38;5;241m=\u001b[39m CoherenceModel(model\u001b[38;5;241m=\u001b[39mlda_model, texts\u001b[38;5;241m=\u001b[39mdata_lemmatized, dictionary\u001b[38;5;241m=\u001b[39mid2word, coherence\u001b[38;5;241m=\u001b[39m\u001b[38;5;124m'\u001b[39m\u001b[38;5;124mc_v\u001b[39m\u001b[38;5;124m'\u001b[39m)\n\u001b[1;32m     15\u001b[0m     \u001b[38;5;28;01mreturn\u001b[39;00m coherence_model_lda\u001b[38;5;241m.\u001b[39mget_coherence()\n",
      "File \u001b[0;32m/opt/conda/lib/python3.11/site-packages/gensim/models/ldamulticore.py:186\u001b[0m, in \u001b[0;36mLdaMulticore.__init__\u001b[0;34m(self, corpus, num_topics, id2word, workers, chunksize, passes, batch, alpha, eta, decay, offset, eval_every, iterations, gamma_threshold, random_state, minimum_probability, minimum_phi_value, per_word_topics, dtype)\u001b[0m\n\u001b[1;32m    183\u001b[0m \u001b[38;5;28;01mif\u001b[39;00m \u001b[38;5;28misinstance\u001b[39m(alpha, \u001b[38;5;28mstr\u001b[39m) \u001b[38;5;129;01mand\u001b[39;00m alpha \u001b[38;5;241m==\u001b[39m \u001b[38;5;124m'\u001b[39m\u001b[38;5;124mauto\u001b[39m\u001b[38;5;124m'\u001b[39m:\n\u001b[1;32m    184\u001b[0m     \u001b[38;5;28;01mraise\u001b[39;00m \u001b[38;5;167;01mNotImplementedError\u001b[39;00m(\u001b[38;5;124m\"\u001b[39m\u001b[38;5;124mauto-tuning alpha not implemented in LdaMulticore; use plain LdaModel.\u001b[39m\u001b[38;5;124m\"\u001b[39m)\n\u001b[0;32m--> 186\u001b[0m \u001b[38;5;28;43msuper\u001b[39;49m\u001b[43m(\u001b[49m\u001b[43mLdaMulticore\u001b[49m\u001b[43m,\u001b[49m\u001b[43m \u001b[49m\u001b[38;5;28;43mself\u001b[39;49m\u001b[43m)\u001b[49m\u001b[38;5;241;43m.\u001b[39;49m\u001b[38;5;21;43m__init__\u001b[39;49m\u001b[43m(\u001b[49m\n\u001b[1;32m    187\u001b[0m \u001b[43m    \u001b[49m\u001b[43mcorpus\u001b[49m\u001b[38;5;241;43m=\u001b[39;49m\u001b[43mcorpus\u001b[49m\u001b[43m,\u001b[49m\u001b[43m \u001b[49m\u001b[43mnum_topics\u001b[49m\u001b[38;5;241;43m=\u001b[39;49m\u001b[43mnum_topics\u001b[49m\u001b[43m,\u001b[49m\n\u001b[1;32m    188\u001b[0m \u001b[43m    \u001b[49m\u001b[43mid2word\u001b[49m\u001b[38;5;241;43m=\u001b[39;49m\u001b[43mid2word\u001b[49m\u001b[43m,\u001b[49m\u001b[43m \u001b[49m\u001b[43mchunksize\u001b[49m\u001b[38;5;241;43m=\u001b[39;49m\u001b[43mchunksize\u001b[49m\u001b[43m,\u001b[49m\u001b[43m \u001b[49m\u001b[43mpasses\u001b[49m\u001b[38;5;241;43m=\u001b[39;49m\u001b[43mpasses\u001b[49m\u001b[43m,\u001b[49m\u001b[43m \u001b[49m\u001b[43malpha\u001b[49m\u001b[38;5;241;43m=\u001b[39;49m\u001b[43malpha\u001b[49m\u001b[43m,\u001b[49m\u001b[43m \u001b[49m\u001b[43meta\u001b[49m\u001b[38;5;241;43m=\u001b[39;49m\u001b[43meta\u001b[49m\u001b[43m,\u001b[49m\n\u001b[1;32m    189\u001b[0m \u001b[43m    \u001b[49m\u001b[43mdecay\u001b[49m\u001b[38;5;241;43m=\u001b[39;49m\u001b[43mdecay\u001b[49m\u001b[43m,\u001b[49m\u001b[43m \u001b[49m\u001b[43moffset\u001b[49m\u001b[38;5;241;43m=\u001b[39;49m\u001b[43moffset\u001b[49m\u001b[43m,\u001b[49m\u001b[43m \u001b[49m\u001b[43meval_every\u001b[49m\u001b[38;5;241;43m=\u001b[39;49m\u001b[43meval_every\u001b[49m\u001b[43m,\u001b[49m\u001b[43m \u001b[49m\u001b[43miterations\u001b[49m\u001b[38;5;241;43m=\u001b[39;49m\u001b[43miterations\u001b[49m\u001b[43m,\u001b[49m\n\u001b[1;32m    190\u001b[0m \u001b[43m    \u001b[49m\u001b[43mgamma_threshold\u001b[49m\u001b[38;5;241;43m=\u001b[39;49m\u001b[43mgamma_threshold\u001b[49m\u001b[43m,\u001b[49m\u001b[43m \u001b[49m\u001b[43mrandom_state\u001b[49m\u001b[38;5;241;43m=\u001b[39;49m\u001b[43mrandom_state\u001b[49m\u001b[43m,\u001b[49m\u001b[43m \u001b[49m\u001b[43mminimum_probability\u001b[49m\u001b[38;5;241;43m=\u001b[39;49m\u001b[43mminimum_probability\u001b[49m\u001b[43m,\u001b[49m\n\u001b[1;32m    191\u001b[0m \u001b[43m    \u001b[49m\u001b[43mminimum_phi_value\u001b[49m\u001b[38;5;241;43m=\u001b[39;49m\u001b[43mminimum_phi_value\u001b[49m\u001b[43m,\u001b[49m\u001b[43m \u001b[49m\u001b[43mper_word_topics\u001b[49m\u001b[38;5;241;43m=\u001b[39;49m\u001b[43mper_word_topics\u001b[49m\u001b[43m,\u001b[49m\u001b[43m \u001b[49m\u001b[43mdtype\u001b[49m\u001b[38;5;241;43m=\u001b[39;49m\u001b[43mdtype\u001b[49m\u001b[43m,\u001b[49m\n\u001b[1;32m    192\u001b[0m \u001b[43m\u001b[49m\u001b[43m)\u001b[49m\n",
      "File \u001b[0;32m/opt/conda/lib/python3.11/site-packages/gensim/models/ldamodel.py:521\u001b[0m, in \u001b[0;36mLdaModel.__init__\u001b[0;34m(self, corpus, num_topics, id2word, distributed, chunksize, passes, update_every, alpha, eta, decay, offset, eval_every, iterations, gamma_threshold, minimum_probability, random_state, ns_conf, minimum_phi_value, per_word_topics, callbacks, dtype)\u001b[0m\n\u001b[1;32m    519\u001b[0m use_numpy \u001b[38;5;241m=\u001b[39m \u001b[38;5;28mself\u001b[39m\u001b[38;5;241m.\u001b[39mdispatcher \u001b[38;5;129;01mis\u001b[39;00m \u001b[38;5;129;01mnot\u001b[39;00m \u001b[38;5;28;01mNone\u001b[39;00m\n\u001b[1;32m    520\u001b[0m start \u001b[38;5;241m=\u001b[39m time\u001b[38;5;241m.\u001b[39mtime()\n\u001b[0;32m--> 521\u001b[0m \u001b[38;5;28;43mself\u001b[39;49m\u001b[38;5;241;43m.\u001b[39;49m\u001b[43mupdate\u001b[49m\u001b[43m(\u001b[49m\u001b[43mcorpus\u001b[49m\u001b[43m,\u001b[49m\u001b[43m \u001b[49m\u001b[43mchunks_as_numpy\u001b[49m\u001b[38;5;241;43m=\u001b[39;49m\u001b[43muse_numpy\u001b[49m\u001b[43m)\u001b[49m\n\u001b[1;32m    522\u001b[0m \u001b[38;5;28mself\u001b[39m\u001b[38;5;241m.\u001b[39madd_lifecycle_event(\n\u001b[1;32m    523\u001b[0m     \u001b[38;5;124m\"\u001b[39m\u001b[38;5;124mcreated\u001b[39m\u001b[38;5;124m\"\u001b[39m,\n\u001b[1;32m    524\u001b[0m     msg\u001b[38;5;241m=\u001b[39m\u001b[38;5;124mf\u001b[39m\u001b[38;5;124m\"\u001b[39m\u001b[38;5;124mtrained \u001b[39m\u001b[38;5;132;01m{\u001b[39;00m\u001b[38;5;28mself\u001b[39m\u001b[38;5;132;01m}\u001b[39;00m\u001b[38;5;124m in \u001b[39m\u001b[38;5;132;01m{\u001b[39;00mtime\u001b[38;5;241m.\u001b[39mtime()\u001b[38;5;250m \u001b[39m\u001b[38;5;241m-\u001b[39m\u001b[38;5;250m \u001b[39mstart\u001b[38;5;132;01m:\u001b[39;00m\u001b[38;5;124m.2f\u001b[39m\u001b[38;5;132;01m}\u001b[39;00m\u001b[38;5;124ms\u001b[39m\u001b[38;5;124m\"\u001b[39m,\n\u001b[1;32m    525\u001b[0m )\n",
      "File \u001b[0;32m/opt/conda/lib/python3.11/site-packages/gensim/models/ldamulticore.py:309\u001b[0m, in \u001b[0;36mLdaMulticore.update\u001b[0;34m(self, corpus, chunks_as_numpy)\u001b[0m\n\u001b[1;32m    305\u001b[0m             \u001b[38;5;28;01mbreak\u001b[39;00m\n\u001b[1;32m    306\u001b[0m         \u001b[38;5;28;01mexcept\u001b[39;00m queue\u001b[38;5;241m.\u001b[39mFull:\n\u001b[1;32m    307\u001b[0m             \u001b[38;5;66;03m# in case the input job queue is full, keep clearing the\u001b[39;00m\n\u001b[1;32m    308\u001b[0m             \u001b[38;5;66;03m# result queue, to make sure we don't deadlock\u001b[39;00m\n\u001b[0;32m--> 309\u001b[0m             \u001b[43mprocess_result_queue\u001b[49m\u001b[43m(\u001b[49m\u001b[43m)\u001b[49m\n\u001b[1;32m    311\u001b[0m     process_result_queue()\n\u001b[1;32m    312\u001b[0m \u001b[38;5;66;03m# endfor single corpus pass\u001b[39;00m\n\u001b[1;32m    313\u001b[0m \n\u001b[1;32m    314\u001b[0m \u001b[38;5;66;03m# wait for all outstanding jobs to finish\u001b[39;00m\n",
      "File \u001b[0;32m/opt/conda/lib/python3.11/site-packages/gensim/models/ldamulticore.py:275\u001b[0m, in \u001b[0;36mLdaMulticore.update.<locals>.process_result_queue\u001b[0;34m(force)\u001b[0m\n\u001b[1;32m    273\u001b[0m merged_new \u001b[38;5;241m=\u001b[39m \u001b[38;5;28;01mFalse\u001b[39;00m\n\u001b[1;32m    274\u001b[0m \u001b[38;5;28;01mwhile\u001b[39;00m \u001b[38;5;129;01mnot\u001b[39;00m result_queue\u001b[38;5;241m.\u001b[39mempty():\n\u001b[0;32m--> 275\u001b[0m     other\u001b[38;5;241m.\u001b[39mmerge(\u001b[43mresult_queue\u001b[49m\u001b[38;5;241;43m.\u001b[39;49m\u001b[43mget\u001b[49m\u001b[43m(\u001b[49m\u001b[43m)\u001b[49m)\n\u001b[1;32m    276\u001b[0m     queue_size[\u001b[38;5;241m0\u001b[39m] \u001b[38;5;241m-\u001b[39m\u001b[38;5;241m=\u001b[39m \u001b[38;5;241m1\u001b[39m\n\u001b[1;32m    277\u001b[0m     merged_new \u001b[38;5;241m=\u001b[39m \u001b[38;5;28;01mTrue\u001b[39;00m\n",
      "File \u001b[0;32m/opt/conda/lib/python3.11/multiprocessing/queues.py:103\u001b[0m, in \u001b[0;36mQueue.get\u001b[0;34m(self, block, timeout)\u001b[0m\n\u001b[1;32m    101\u001b[0m \u001b[38;5;28;01mif\u001b[39;00m block \u001b[38;5;129;01mand\u001b[39;00m timeout \u001b[38;5;129;01mis\u001b[39;00m \u001b[38;5;28;01mNone\u001b[39;00m:\n\u001b[1;32m    102\u001b[0m     \u001b[38;5;28;01mwith\u001b[39;00m \u001b[38;5;28mself\u001b[39m\u001b[38;5;241m.\u001b[39m_rlock:\n\u001b[0;32m--> 103\u001b[0m         res \u001b[38;5;241m=\u001b[39m \u001b[38;5;28;43mself\u001b[39;49m\u001b[38;5;241;43m.\u001b[39;49m\u001b[43m_recv_bytes\u001b[49m\u001b[43m(\u001b[49m\u001b[43m)\u001b[49m\n\u001b[1;32m    104\u001b[0m     \u001b[38;5;28mself\u001b[39m\u001b[38;5;241m.\u001b[39m_sem\u001b[38;5;241m.\u001b[39mrelease()\n\u001b[1;32m    105\u001b[0m \u001b[38;5;28;01melse\u001b[39;00m:\n",
      "File \u001b[0;32m/opt/conda/lib/python3.11/multiprocessing/connection.py:216\u001b[0m, in \u001b[0;36m_ConnectionBase.recv_bytes\u001b[0;34m(self, maxlength)\u001b[0m\n\u001b[1;32m    214\u001b[0m \u001b[38;5;28;01mif\u001b[39;00m maxlength \u001b[38;5;129;01mis\u001b[39;00m \u001b[38;5;129;01mnot\u001b[39;00m \u001b[38;5;28;01mNone\u001b[39;00m \u001b[38;5;129;01mand\u001b[39;00m maxlength \u001b[38;5;241m<\u001b[39m \u001b[38;5;241m0\u001b[39m:\n\u001b[1;32m    215\u001b[0m     \u001b[38;5;28;01mraise\u001b[39;00m \u001b[38;5;167;01mValueError\u001b[39;00m(\u001b[38;5;124m\"\u001b[39m\u001b[38;5;124mnegative maxlength\u001b[39m\u001b[38;5;124m\"\u001b[39m)\n\u001b[0;32m--> 216\u001b[0m buf \u001b[38;5;241m=\u001b[39m \u001b[38;5;28;43mself\u001b[39;49m\u001b[38;5;241;43m.\u001b[39;49m\u001b[43m_recv_bytes\u001b[49m\u001b[43m(\u001b[49m\u001b[43mmaxlength\u001b[49m\u001b[43m)\u001b[49m\n\u001b[1;32m    217\u001b[0m \u001b[38;5;28;01mif\u001b[39;00m buf \u001b[38;5;129;01mis\u001b[39;00m \u001b[38;5;28;01mNone\u001b[39;00m:\n\u001b[1;32m    218\u001b[0m     \u001b[38;5;28mself\u001b[39m\u001b[38;5;241m.\u001b[39m_bad_message_length()\n",
      "File \u001b[0;32m/opt/conda/lib/python3.11/multiprocessing/connection.py:437\u001b[0m, in \u001b[0;36mConnection._recv_bytes\u001b[0;34m(self, maxsize)\u001b[0m\n\u001b[1;32m    435\u001b[0m \u001b[38;5;28;01mif\u001b[39;00m maxsize \u001b[38;5;129;01mis\u001b[39;00m \u001b[38;5;129;01mnot\u001b[39;00m \u001b[38;5;28;01mNone\u001b[39;00m \u001b[38;5;129;01mand\u001b[39;00m size \u001b[38;5;241m>\u001b[39m maxsize:\n\u001b[1;32m    436\u001b[0m     \u001b[38;5;28;01mreturn\u001b[39;00m \u001b[38;5;28;01mNone\u001b[39;00m\n\u001b[0;32m--> 437\u001b[0m \u001b[38;5;28;01mreturn\u001b[39;00m \u001b[38;5;28;43mself\u001b[39;49m\u001b[38;5;241;43m.\u001b[39;49m\u001b[43m_recv\u001b[49m\u001b[43m(\u001b[49m\u001b[43msize\u001b[49m\u001b[43m)\u001b[49m\n",
      "File \u001b[0;32m/opt/conda/lib/python3.11/multiprocessing/connection.py:395\u001b[0m, in \u001b[0;36mConnection._recv\u001b[0;34m(self, size, read)\u001b[0m\n\u001b[1;32m    393\u001b[0m remaining \u001b[38;5;241m=\u001b[39m size\n\u001b[1;32m    394\u001b[0m \u001b[38;5;28;01mwhile\u001b[39;00m remaining \u001b[38;5;241m>\u001b[39m \u001b[38;5;241m0\u001b[39m:\n\u001b[0;32m--> 395\u001b[0m     chunk \u001b[38;5;241m=\u001b[39m read(handle, remaining)\n\u001b[1;32m    396\u001b[0m     n \u001b[38;5;241m=\u001b[39m \u001b[38;5;28mlen\u001b[39m(chunk)\n\u001b[1;32m    397\u001b[0m     \u001b[38;5;28;01mif\u001b[39;00m n \u001b[38;5;241m==\u001b[39m \u001b[38;5;241m0\u001b[39m:\n",
      "\u001b[0;31mKeyboardInterrupt\u001b[0m: "
     ]
    },
    {
     "name": "stderr",
     "output_type": "stream",
     "text": [
      "Process ForkPoolWorker-1475:\n",
      "Process ForkPoolWorker-1478:\n",
      "Process ForkPoolWorker-1479:\n",
      "Process ForkPoolWorker-1470:\n",
      "Process ForkPoolWorker-1466:\n",
      "Process ForkPoolWorker-1473:\n",
      "Process ForkPoolWorker-1472:\n",
      "Process ForkPoolWorker-1471:\n",
      "Process ForkPoolWorker-1480:\n",
      "Process ForkPoolWorker-1476:\n",
      "Process ForkPoolWorker-1465:\n",
      "Process ForkPoolWorker-1469:\n",
      "Process ForkPoolWorker-1474:\n",
      "Process ForkPoolWorker-1477:\n",
      "Process ForkPoolWorker-1467:\n",
      "Process ForkPoolWorker-1468:\n",
      "Process ForkPoolWorker-1460:\n",
      "Process ForkPoolWorker-1464:\n",
      "Traceback (most recent call last):\n",
      "Traceback (most recent call last):\n",
      "Traceback (most recent call last):\n",
      "Traceback (most recent call last):\n",
      "Traceback (most recent call last):\n",
      "Traceback (most recent call last):\n",
      "Traceback (most recent call last):\n",
      "Traceback (most recent call last):\n",
      "Traceback (most recent call last):\n",
      "  File \"/opt/conda/lib/python3.11/multiprocessing/process.py\", line 314, in _bootstrap\n",
      "    self.run()\n",
      "  File \"/opt/conda/lib/python3.11/multiprocessing/process.py\", line 314, in _bootstrap\n",
      "    self.run()\n",
      "  File \"/opt/conda/lib/python3.11/multiprocessing/process.py\", line 314, in _bootstrap\n",
      "    self.run()\n",
      "  File \"/opt/conda/lib/python3.11/multiprocessing/process.py\", line 314, in _bootstrap\n",
      "    self.run()\n",
      "  File \"/opt/conda/lib/python3.11/multiprocessing/process.py\", line 314, in _bootstrap\n",
      "    self.run()\n",
      "  File \"/opt/conda/lib/python3.11/multiprocessing/process.py\", line 314, in _bootstrap\n",
      "    self.run()\n",
      "  File \"/opt/conda/lib/python3.11/multiprocessing/process.py\", line 108, in run\n",
      "    self._target(*self._args, **self._kwargs)\n",
      "  File \"/opt/conda/lib/python3.11/multiprocessing/process.py\", line 314, in _bootstrap\n",
      "    self.run()\n",
      "  File \"/opt/conda/lib/python3.11/multiprocessing/process.py\", line 314, in _bootstrap\n",
      "    self.run()\n",
      "Traceback (most recent call last):\n",
      "Traceback (most recent call last):\n",
      "  File \"/opt/conda/lib/python3.11/multiprocessing/process.py\", line 108, in run\n",
      "    self._target(*self._args, **self._kwargs)\n",
      "  File \"/opt/conda/lib/python3.11/multiprocessing/process.py\", line 108, in run\n",
      "    self._target(*self._args, **self._kwargs)\n",
      "  File \"/opt/conda/lib/python3.11/multiprocessing/process.py\", line 314, in _bootstrap\n",
      "    self.run()\n",
      "  File \"/opt/conda/lib/python3.11/multiprocessing/process.py\", line 108, in run\n",
      "    self._target(*self._args, **self._kwargs)\n",
      "  File \"/opt/conda/lib/python3.11/multiprocessing/process.py\", line 108, in run\n",
      "    self._target(*self._args, **self._kwargs)\n",
      "  File \"/opt/conda/lib/python3.11/multiprocessing/process.py\", line 108, in run\n",
      "    self._target(*self._args, **self._kwargs)\n",
      "  File \"/opt/conda/lib/python3.11/multiprocessing/pool.py\", line 109, in worker\n",
      "    initializer(*initargs)\n",
      "  File \"/opt/conda/lib/python3.11/multiprocessing/process.py\", line 108, in run\n",
      "    self._target(*self._args, **self._kwargs)\n",
      "  File \"/opt/conda/lib/python3.11/multiprocessing/pool.py\", line 109, in worker\n",
      "    initializer(*initargs)\n",
      "Traceback (most recent call last):\n",
      "  File \"/opt/conda/lib/python3.11/multiprocessing/process.py\", line 314, in _bootstrap\n",
      "    self.run()\n",
      "  File \"/opt/conda/lib/python3.11/multiprocessing/process.py\", line 108, in run\n",
      "    self._target(*self._args, **self._kwargs)\n",
      "  File \"/opt/conda/lib/python3.11/multiprocessing/pool.py\", line 109, in worker\n",
      "    initializer(*initargs)\n",
      "  File \"/opt/conda/lib/python3.11/multiprocessing/process.py\", line 108, in run\n",
      "    self._target(*self._args, **self._kwargs)\n",
      "  File \"/opt/conda/lib/python3.11/site-packages/gensim/models/ldamulticore.py\", line 341, in worker_e_step\n",
      "    chunk_no, chunk, w_state = input_queue.get()\n",
      "                               ^^^^^^^^^^^^^^^^^\n",
      "Traceback (most recent call last):\n",
      "  File \"/opt/conda/lib/python3.11/multiprocessing/process.py\", line 314, in _bootstrap\n",
      "    self.run()\n",
      "  File \"/opt/conda/lib/python3.11/multiprocessing/pool.py\", line 109, in worker\n",
      "    initializer(*initargs)\n",
      "  File \"/opt/conda/lib/python3.11/multiprocessing/process.py\", line 108, in run\n",
      "    self._target(*self._args, **self._kwargs)\n",
      "  File \"/opt/conda/lib/python3.11/multiprocessing/pool.py\", line 109, in worker\n",
      "    initializer(*initargs)\n",
      "  File \"/opt/conda/lib/python3.11/multiprocessing/pool.py\", line 109, in worker\n",
      "    initializer(*initargs)\n",
      "  File \"/opt/conda/lib/python3.11/site-packages/gensim/models/ldamulticore.py\", line 341, in worker_e_step\n",
      "    chunk_no, chunk, w_state = input_queue.get()\n",
      "                               ^^^^^^^^^^^^^^^^^\n",
      "Traceback (most recent call last):\n",
      "  File \"/opt/conda/lib/python3.11/multiprocessing/pool.py\", line 109, in worker\n",
      "    initializer(*initargs)\n",
      "Traceback (most recent call last):\n",
      "  File \"/opt/conda/lib/python3.11/site-packages/gensim/models/ldamulticore.py\", line 341, in worker_e_step\n",
      "    chunk_no, chunk, w_state = input_queue.get()\n",
      "                               ^^^^^^^^^^^^^^^^^\n",
      "  File \"/opt/conda/lib/python3.11/multiprocessing/process.py\", line 314, in _bootstrap\n",
      "    self.run()\n",
      "  File \"/opt/conda/lib/python3.11/multiprocessing/process.py\", line 108, in run\n",
      "    self._target(*self._args, **self._kwargs)\n",
      "  File \"/opt/conda/lib/python3.11/multiprocessing/queues.py\", line 102, in get\n",
      "    with self._rlock:\n",
      "  File \"/opt/conda/lib/python3.11/multiprocessing/pool.py\", line 109, in worker\n",
      "    initializer(*initargs)\n",
      "  File \"/opt/conda/lib/python3.11/multiprocessing/process.py\", line 314, in _bootstrap\n",
      "    self.run()\n",
      "  File \"/opt/conda/lib/python3.11/multiprocessing/pool.py\", line 109, in worker\n",
      "    initializer(*initargs)\n",
      "  File \"/opt/conda/lib/python3.11/multiprocessing/queues.py\", line 102, in get\n",
      "    with self._rlock:\n",
      "Traceback (most recent call last):\n",
      "  File \"/opt/conda/lib/python3.11/multiprocessing/process.py\", line 108, in run\n",
      "    self._target(*self._args, **self._kwargs)\n",
      "  File \"/opt/conda/lib/python3.11/site-packages/gensim/models/ldamulticore.py\", line 341, in worker_e_step\n",
      "    chunk_no, chunk, w_state = input_queue.get()\n",
      "                               ^^^^^^^^^^^^^^^^^\n",
      "Traceback (most recent call last):\n",
      "  File \"/opt/conda/lib/python3.11/multiprocessing/pool.py\", line 109, in worker\n",
      "    initializer(*initargs)\n",
      "  File \"/opt/conda/lib/python3.11/multiprocessing/process.py\", line 108, in run\n",
      "    self._target(*self._args, **self._kwargs)\n",
      "  File \"/opt/conda/lib/python3.11/multiprocessing/pool.py\", line 109, in worker\n",
      "    initializer(*initargs)\n",
      "  File \"/opt/conda/lib/python3.11/multiprocessing/queues.py\", line 102, in get\n",
      "    with self._rlock:\n",
      "  File \"/opt/conda/lib/python3.11/site-packages/gensim/models/ldamulticore.py\", line 341, in worker_e_step\n",
      "    chunk_no, chunk, w_state = input_queue.get()\n",
      "                               ^^^^^^^^^^^^^^^^^\n",
      "  File \"/opt/conda/lib/python3.11/multiprocessing/process.py\", line 314, in _bootstrap\n",
      "    self.run()\n",
      "  File \"/opt/conda/lib/python3.11/site-packages/gensim/models/ldamulticore.py\", line 341, in worker_e_step\n",
      "    chunk_no, chunk, w_state = input_queue.get()\n",
      "                               ^^^^^^^^^^^^^^^^^\n",
      "  File \"/opt/conda/lib/python3.11/site-packages/gensim/models/ldamulticore.py\", line 341, in worker_e_step\n",
      "    chunk_no, chunk, w_state = input_queue.get()\n",
      "                               ^^^^^^^^^^^^^^^^^\n",
      "  File \"/opt/conda/lib/python3.11/multiprocessing/synchronize.py\", line 95, in __enter__\n",
      "    return self._semlock.__enter__()\n",
      "           ^^^^^^^^^^^^^^^^^^^^^^^^^\n",
      "  File \"/opt/conda/lib/python3.11/site-packages/gensim/models/ldamulticore.py\", line 341, in worker_e_step\n",
      "    chunk_no, chunk, w_state = input_queue.get()\n",
      "                               ^^^^^^^^^^^^^^^^^\n",
      "  File \"/opt/conda/lib/python3.11/site-packages/gensim/models/ldamulticore.py\", line 341, in worker_e_step\n",
      "    chunk_no, chunk, w_state = input_queue.get()\n",
      "                               ^^^^^^^^^^^^^^^^^\n",
      "  File \"/opt/conda/lib/python3.11/multiprocessing/process.py\", line 314, in _bootstrap\n",
      "    self.run()\n",
      "  File \"/opt/conda/lib/python3.11/site-packages/gensim/models/ldamulticore.py\", line 341, in worker_e_step\n",
      "    chunk_no, chunk, w_state = input_queue.get()\n",
      "                               ^^^^^^^^^^^^^^^^^\n",
      "  File \"/opt/conda/lib/python3.11/multiprocessing/process.py\", line 314, in _bootstrap\n",
      "    self.run()\n",
      "  File \"/opt/conda/lib/python3.11/multiprocessing/queues.py\", line 102, in get\n",
      "    with self._rlock:\n",
      "  File \"/opt/conda/lib/python3.11/multiprocessing/queues.py\", line 102, in get\n",
      "    with self._rlock:\n",
      "  File \"/opt/conda/lib/python3.11/multiprocessing/queues.py\", line 102, in get\n",
      "    with self._rlock:\n",
      "  File \"/opt/conda/lib/python3.11/multiprocessing/pool.py\", line 109, in worker\n",
      "    initializer(*initargs)\n",
      "  File \"/opt/conda/lib/python3.11/multiprocessing/synchronize.py\", line 95, in __enter__\n",
      "    return self._semlock.__enter__()\n",
      "           ^^^^^^^^^^^^^^^^^^^^^^^^^\n",
      "  File \"/opt/conda/lib/python3.11/multiprocessing/synchronize.py\", line 95, in __enter__\n",
      "    return self._semlock.__enter__()\n",
      "           ^^^^^^^^^^^^^^^^^^^^^^^^^\n",
      "  File \"/opt/conda/lib/python3.11/multiprocessing/pool.py\", line 109, in worker\n",
      "    initializer(*initargs)\n",
      "  File \"/opt/conda/lib/python3.11/multiprocessing/process.py\", line 108, in run\n",
      "    self._target(*self._args, **self._kwargs)\n",
      "  File \"/opt/conda/lib/python3.11/site-packages/gensim/models/ldamulticore.py\", line 341, in worker_e_step\n",
      "    chunk_no, chunk, w_state = input_queue.get()\n",
      "                               ^^^^^^^^^^^^^^^^^\n",
      "KeyboardInterrupt\n",
      "  File \"/opt/conda/lib/python3.11/multiprocessing/process.py\", line 108, in run\n",
      "    self._target(*self._args, **self._kwargs)\n",
      "  File \"/opt/conda/lib/python3.11/multiprocessing/queues.py\", line 102, in get\n",
      "    with self._rlock:\n",
      "  File \"/opt/conda/lib/python3.11/multiprocessing/synchronize.py\", line 95, in __enter__\n",
      "    return self._semlock.__enter__()\n",
      "           ^^^^^^^^^^^^^^^^^^^^^^^^^\n",
      "  File \"/opt/conda/lib/python3.11/multiprocessing/queues.py\", line 102, in get\n",
      "    with self._rlock:\n",
      "  File \"/opt/conda/lib/python3.11/site-packages/gensim/models/ldamulticore.py\", line 341, in worker_e_step\n",
      "    chunk_no, chunk, w_state = input_queue.get()\n",
      "                               ^^^^^^^^^^^^^^^^^\n",
      "  File \"/opt/conda/lib/python3.11/multiprocessing/synchronize.py\", line 95, in __enter__\n",
      "    return self._semlock.__enter__()\n",
      "           ^^^^^^^^^^^^^^^^^^^^^^^^^\n",
      "  File \"/opt/conda/lib/python3.11/multiprocessing/queues.py\", line 102, in get\n",
      "    with self._rlock:\n",
      "  File \"/opt/conda/lib/python3.11/multiprocessing/queues.py\", line 102, in get\n",
      "    with self._rlock:\n",
      "  File \"/opt/conda/lib/python3.11/site-packages/gensim/models/ldamulticore.py\", line 341, in worker_e_step\n",
      "    chunk_no, chunk, w_state = input_queue.get()\n",
      "                               ^^^^^^^^^^^^^^^^^\n",
      "  File \"/opt/conda/lib/python3.11/multiprocessing/pool.py\", line 109, in worker\n",
      "    initializer(*initargs)\n",
      "  File \"/opt/conda/lib/python3.11/multiprocessing/synchronize.py\", line 95, in __enter__\n",
      "    return self._semlock.__enter__()\n",
      "           ^^^^^^^^^^^^^^^^^^^^^^^^^\n",
      "KeyboardInterrupt\n",
      "KeyboardInterrupt\n",
      "KeyboardInterrupt\n",
      "  File \"/opt/conda/lib/python3.11/multiprocessing/process.py\", line 314, in _bootstrap\n",
      "    self.run()\n",
      "  File \"/opt/conda/lib/python3.11/multiprocessing/queues.py\", line 102, in get\n",
      "    with self._rlock:\n",
      "  File \"/opt/conda/lib/python3.11/multiprocessing/synchronize.py\", line 95, in __enter__\n",
      "    return self._semlock.__enter__()\n",
      "           ^^^^^^^^^^^^^^^^^^^^^^^^^\n",
      "  File \"/opt/conda/lib/python3.11/multiprocessing/queues.py\", line 102, in get\n",
      "    with self._rlock:\n",
      "  File \"/opt/conda/lib/python3.11/multiprocessing/synchronize.py\", line 95, in __enter__\n",
      "    return self._semlock.__enter__()\n",
      "           ^^^^^^^^^^^^^^^^^^^^^^^^^\n",
      "  File \"/opt/conda/lib/python3.11/multiprocessing/pool.py\", line 109, in worker\n",
      "    initializer(*initargs)\n",
      "KeyboardInterrupt\n",
      "  File \"/opt/conda/lib/python3.11/multiprocessing/queues.py\", line 102, in get\n",
      "    with self._rlock:\n",
      "  File \"/opt/conda/lib/python3.11/multiprocessing/synchronize.py\", line 95, in __enter__\n",
      "    return self._semlock.__enter__()\n",
      "           ^^^^^^^^^^^^^^^^^^^^^^^^^\n",
      "  File \"/opt/conda/lib/python3.11/multiprocessing/process.py\", line 108, in run\n",
      "    self._target(*self._args, **self._kwargs)\n",
      "  File \"/opt/conda/lib/python3.11/multiprocessing/synchronize.py\", line 95, in __enter__\n",
      "    return self._semlock.__enter__()\n",
      "           ^^^^^^^^^^^^^^^^^^^^^^^^^\n",
      "KeyboardInterrupt\n",
      "  File \"/opt/conda/lib/python3.11/site-packages/gensim/models/ldamulticore.py\", line 341, in worker_e_step\n",
      "    chunk_no, chunk, w_state = input_queue.get()\n",
      "                               ^^^^^^^^^^^^^^^^^\n",
      "KeyboardInterrupt\n",
      "  File \"/opt/conda/lib/python3.11/multiprocessing/synchronize.py\", line 95, in __enter__\n",
      "    return self._semlock.__enter__()\n",
      "           ^^^^^^^^^^^^^^^^^^^^^^^^^\n",
      "  File \"/opt/conda/lib/python3.11/multiprocessing/process.py\", line 108, in run\n",
      "    self._target(*self._args, **self._kwargs)\n",
      "KeyboardInterrupt\n",
      "  File \"/opt/conda/lib/python3.11/site-packages/gensim/models/ldamulticore.py\", line 341, in worker_e_step\n",
      "    chunk_no, chunk, w_state = input_queue.get()\n",
      "                               ^^^^^^^^^^^^^^^^^\n",
      "  File \"/opt/conda/lib/python3.11/multiprocessing/synchronize.py\", line 95, in __enter__\n",
      "    return self._semlock.__enter__()\n",
      "           ^^^^^^^^^^^^^^^^^^^^^^^^^\n",
      "  File \"/opt/conda/lib/python3.11/multiprocessing/queues.py\", line 102, in get\n",
      "    with self._rlock:\n",
      "  File \"/opt/conda/lib/python3.11/multiprocessing/queues.py\", line 102, in get\n",
      "    with self._rlock:\n",
      "  File \"/opt/conda/lib/python3.11/multiprocessing/synchronize.py\", line 95, in __enter__\n",
      "    return self._semlock.__enter__()\n",
      "           ^^^^^^^^^^^^^^^^^^^^^^^^^\n",
      "KeyboardInterrupt\n",
      "KeyboardInterrupt\n",
      "  File \"/opt/conda/lib/python3.11/multiprocessing/pool.py\", line 109, in worker\n",
      "    initializer(*initargs)\n",
      "  File \"/opt/conda/lib/python3.11/multiprocessing/pool.py\", line 109, in worker\n",
      "    initializer(*initargs)\n",
      "  File \"/opt/conda/lib/python3.11/multiprocessing/synchronize.py\", line 95, in __enter__\n",
      "    return self._semlock.__enter__()\n",
      "           ^^^^^^^^^^^^^^^^^^^^^^^^^\n",
      "KeyboardInterrupt\n",
      "KeyboardInterrupt\n",
      "KeyboardInterrupt\n",
      "  File \"/opt/conda/lib/python3.11/multiprocessing/synchronize.py\", line 95, in __enter__\n",
      "    return self._semlock.__enter__()\n",
      "           ^^^^^^^^^^^^^^^^^^^^^^^^^\n",
      "  File \"/opt/conda/lib/python3.11/site-packages/gensim/models/ldamulticore.py\", line 341, in worker_e_step\n",
      "    chunk_no, chunk, w_state = input_queue.get()\n",
      "                               ^^^^^^^^^^^^^^^^^\n",
      "  File \"/opt/conda/lib/python3.11/site-packages/gensim/models/ldamulticore.py\", line 341, in worker_e_step\n",
      "    chunk_no, chunk, w_state = input_queue.get()\n",
      "                               ^^^^^^^^^^^^^^^^^\n",
      "Traceback (most recent call last):\n",
      "  File \"/opt/conda/lib/python3.11/multiprocessing/queues.py\", line 102, in get\n",
      "    with self._rlock:\n",
      "KeyboardInterrupt\n",
      "  File \"/opt/conda/lib/python3.11/multiprocessing/queues.py\", line 102, in get\n",
      "    with self._rlock:\n",
      "  File \"/opt/conda/lib/python3.11/multiprocessing/synchronize.py\", line 95, in __enter__\n",
      "    return self._semlock.__enter__()\n",
      "           ^^^^^^^^^^^^^^^^^^^^^^^^^\n",
      "KeyboardInterrupt\n",
      "KeyboardInterrupt\n",
      "  File \"/opt/conda/lib/python3.11/multiprocessing/synchronize.py\", line 95, in __enter__\n",
      "    return self._semlock.__enter__()\n",
      "           ^^^^^^^^^^^^^^^^^^^^^^^^^\n",
      "  File \"/opt/conda/lib/python3.11/multiprocessing/process.py\", line 314, in _bootstrap\n",
      "    self.run()\n",
      "  File \"/opt/conda/lib/python3.11/multiprocessing/process.py\", line 108, in run\n",
      "    self._target(*self._args, **self._kwargs)\n",
      "KeyboardInterrupt\n",
      "  File \"/opt/conda/lib/python3.11/multiprocessing/pool.py\", line 109, in worker\n",
      "    initializer(*initargs)\n",
      "  File \"/opt/conda/lib/python3.11/site-packages/gensim/models/ldamulticore.py\", line 341, in worker_e_step\n",
      "    chunk_no, chunk, w_state = input_queue.get()\n",
      "                               ^^^^^^^^^^^^^^^^^\n",
      "  File \"/opt/conda/lib/python3.11/multiprocessing/queues.py\", line 102, in get\n",
      "    with self._rlock:\n",
      "  File \"/opt/conda/lib/python3.11/multiprocessing/synchronize.py\", line 95, in __enter__\n",
      "    return self._semlock.__enter__()\n",
      "           ^^^^^^^^^^^^^^^^^^^^^^^^^\n",
      "KeyboardInterrupt\n",
      "\n",
      "During handling of the above exception, another exception occurred:\n",
      "\n",
      "Traceback (most recent call last):\n",
      "  File \"/opt/conda/lib/python3.11/multiprocessing/process.py\", line 317, in _bootstrap\n",
      "    util._exit_function()\n",
      "  File \"/opt/conda/lib/python3.11/multiprocessing/util.py\", line 360, in _exit_function\n",
      "    _run_finalizers()\n",
      "  File \"/opt/conda/lib/python3.11/multiprocessing/util.py\", line 300, in _run_finalizers\n",
      "    finalizer()\n",
      "  File \"/opt/conda/lib/python3.11/multiprocessing/util.py\", line 224, in __call__\n",
      "    res = self._callback(*self._args, **self._kwargs)\n",
      "          ^^^^^^^^^^^^^^^^^^^^^^^^^^^^^^^^^^^^^^^^^^^\n",
      "  File \"/opt/conda/lib/python3.11/multiprocessing/queues.py\", line 199, in _finalize_join\n",
      "    thread.join()\n",
      "  File \"/opt/conda/lib/python3.11/threading.py\", line 1119, in join\n",
      "    self._wait_for_tstate_lock()\n",
      "  File \"/opt/conda/lib/python3.11/threading.py\", line 1139, in _wait_for_tstate_lock\n",
      "    if lock.acquire(block, timeout):\n",
      "       ^^^^^^^^^^^^^^^^^^^^^^^^^^^^\n",
      "KeyboardInterrupt\n"
     ]
    }
   ],
   "source": [
    "grid = {}\n",
    "grid['Validation_Set'] = {}\n",
    "\n",
    "# Topics range\n",
    "min_topics = 2\n",
    "max_topics = 11\n",
    "step_size = 1\n",
    "topics_range = range(min_topics, max_topics, step_size)\n",
    "\n",
    "# Alpha parameter\n",
    "alpha = list(np.arange(0.01, 1, 0.3))\n",
    "alpha.append('symmetric')\n",
    "alpha.append('asymmetric')\n",
    "\n",
    "# Beta parameter\n",
    "beta = list(np.arange(0.01, 1, 0.3))\n",
    "beta.append('symmetric')\n",
    "\n",
    "# Validation sets\n",
    "num_of_docs = len(corpus)\n",
    "corpus_sets = [gensim.utils.ClippedCorpus(corpus, int(num_of_docs*0.75)), \n",
    "               corpus]\n",
    "\n",
    "corpus_title = ['75% Corpus', '100% Corpus']\n",
    "\n",
    "model_results = {'Validation_Set': [],\n",
    "                 'Topics': [],\n",
    "                 'Alpha': [],\n",
    "                 'Beta': [],\n",
    "                 'Coherence': []\n",
    "                }\n",
    "\n",
    "# Can take a long time to run\n",
    "if 1 == 1:\n",
    "    pbar = tqdm.tqdm(total=(len(beta)*len(alpha)*len(topics_range)*len(corpus_title)))\n",
    "    \n",
    "    # iterate through validation corpuses\n",
    "    for i in range(len(corpus_sets)):\n",
    "        # iterate through number of topics\n",
    "        for k in topics_range:\n",
    "            # iterate through alpha values\n",
    "            for a in alpha:\n",
    "                # iterare through beta values\n",
    "                for b in beta:\n",
    "                    # get the coherence score for the given parameters\n",
    "                    cv = compute_coherence_values(corpus=corpus_sets[i], dictionary=id2word, \n",
    "                                                  k=k, a=a, b=b)\n",
    "                    # Save the model results\n",
    "                    model_results['Validation_Set'].append(corpus_title[i])\n",
    "                    model_results['Topics'].append(k)\n",
    "                    model_results['Alpha'].append(a)\n",
    "                    model_results['Beta'].append(b)\n",
    "                    model_results['Coherence'].append(cv)\n",
    "                    \n",
    "                    pbar.update(1)\n",
    "    pd.DataFrame(model_results).to_csv('./data/lda_tuning_results.csv', index=False)\n",
    "    pbar.close()"
   ]
  },
  {
   "cell_type": "markdown",
   "metadata": {},
   "source": [
    "** **\n",
    "#### Step 4: Visualize Results\n",
    "** **"
   ]
  },
  {
   "cell_type": "code",
   "execution_count": 25,
   "metadata": {},
   "outputs": [
    {
     "data": {
      "text/html": [
       "\n",
       "<link rel=\"stylesheet\" type=\"text/css\" href=\"https://cdn.jsdelivr.net/gh/bmabey/pyLDAvis@3.4.0/pyLDAvis/js/ldavis.v1.0.0.css\">\n",
       "\n",
       "\n",
       "<div id=\"ldavis_el25275281470148758208908272120\" style=\"background-color:white;\"></div>\n",
       "<script type=\"text/javascript\">\n",
       "\n",
       "var ldavis_el25275281470148758208908272120_data = {\"mdsDat\": {\"x\": [0.07065190517569689, 0.13839756497630143, 0.16016776514002118, 0.08963402981623475, 0.04207798383161695, 0.025549612471440327, 0.18898280684610183, 0.1160549016285607, -0.03520087418083454, -0.037767862875432774, -0.22759762902370698, 0.07404297718396319, -0.028969376884322086, -0.25847982076089904, -0.3175439833447417], \"y\": [-0.23636443294190845, 0.07664724348865101, -0.0494038959105794, -0.12892373644165916, 0.018829245007139308, -0.04437537363142021, -0.01999517213160558, 0.13937851325334893, 0.1821315304767762, -0.2335904953672786, -0.11236884876580504, 0.21002842881853587, 0.09481419266092428, 0.09283557009803049, 0.010357231386850385], \"topics\": [1, 2, 3, 4, 5, 6, 7, 8, 9, 10, 11, 12, 13, 14, 15], \"cluster\": [1, 1, 1, 1, 1, 1, 1, 1, 1, 1, 1, 1, 1, 1, 1], \"Freq\": [12.428965063980742, 11.47959850337079, 11.33449192245999, 10.458604740469243, 9.967621488586177, 9.433763215530046, 6.988703618202323, 5.070389733946263, 4.731588662110404, 4.609185817914197, 3.4538120757944206, 3.307158273493501, 3.229939056073429, 2.141856774930584, 1.3643210531379046]}, \"tinfo\": {\"Term\": [\"play\", \"year\", \"new\", \"music\", \"love\", \"look\", \"people\", \"move\", \"work\", \"meet\", \"go\", \"movie\", \"art\", \"relationship\", \"watch\", \"know\", \"enjoy\", \"life\", \"woman\", \"m\", \"say\", \"travel\", \"want\", \"live\", \"read\", \"man\", \"sport\", \"write\", \"city\", \"profile\", \"biking\", \"kayak\", \"dining\", \"hiking\", \"original\", \"dinner_partie\", \"mountain_bike\", \"bbq\", \"scuba_diving\", \"makeup\", \"yummy\", \"raft\", \"kayaking\", \"volleyball\", \"casually\", \"skiing\", \"golfing\", \"art_gallerie\", \"weekend_getaway\", \"spunky\", \"exhaust\", \"unwind\", \"bliss\", \"ginger\", \"indoor_rock\", \"scuba_dive\", \"water_rafte\", \"canoe\", \"muscular\", \"earthy\", \"camping\", \"outdoor_activitie\", \"hike\", \"museum\", \"surfing\", \"restaurant\", \"ski\", \"outdoors\", \"swimming\", \"outdoor\", \"wine\", \"beach\", \"snowboard\", \"camp\", \"bike\", \"cooking\", \"cycling\", \"food\", \"backpack\", \"park\", \"cook\", \"weekend\", \"enjoy\", \"travel\", \"dinner\", \"explore\", \"active\", \"activity\", \"new\", \"love\", \"movie\", \"adventure\", \"go\", \"eat\", \"city\", \"friend\", \"run\", \"good\", \"try\", \"place\", \"thing\", \"also\", \"music\", \"time\", \"fun\", \"live\", \"great\", \"people\", \"bitch\", \"asshole\", \"loudly\", \"smoker\", \"nut\", \"philly\", \"neurotic\", \"talker\", \"dash\", \"monster\", \"edgy\", \"jerk\", \"embarrassed\", \"accuse\", \"harm\", \"without_sounde\", \"log\", \"fair_warne\", \"mediocre\", \"burrito\", \"procrastinate\", \"excessive\", \"nasty\", \"buck\", \"interpret\", \"borderline\", \"mathematic\", \"anxiety\", \"boredom\", \"drawing_painte\", \"stupid\", \"hilarious\", \"enemy\", \"gut\", \"joke\", \"offend\", \"sarcasm\", \"fucking\", \"tend\", \"weird\", \"sometimes\", \"think\", \"sarcastic\", \"seriously\", \"negative\", \"awkward\", \"usually\", \"ridiculous\", \"probably\", \"situation\", \"thing\", \"bit\", \"pretty\", \"bad\", \"people\", \"really\", \"tell\", \"say\", \"mean\", \"dry\", \"make\", \"lot\", \"way\", \"laugh\", \"little\", \"talk\", \"humor\", \"try\", \"get\", \"much\", \"even\", \"know\", \"good\", \"always\", \"take\", \"time\", \"sense\", \"also\", \"well\", \"love\", \"go\", \"trustworthy\", \"intellect\", \"cultured\", \"comedy_club\", \"straight_forward\", \"randomness\", \"kisser\", \"protective\", \"mustache\", \"hectic\", \"marine\", \"upfront\", \"simpson\", \"fullest\", \"ect\", \"getter\", \"wear_glasse\", \"descent\", \"envision\", \"categorize\", \"sence\", \"out\", \"intellectually_stimulate\", \"giants_niner\", \"stroke\", \"holistic\", \"loyal\", \"ole\", \"dependable\", \"bagel\", \"confident\", \"financially_stable\", \"approachable\", \"intellectually_curious\", \"considerate\", \"financially\", \"caring\", \"ambitious\", \"respectful\", \"treat\", \"honest\", \"orient\", \"responsible\", \"intelligent\", \"genuine\", \"sincere\", \"hearted\", \"generous\", \"family\", \"independent\", \"care\", \"humor\", \"smart\", \"sense\", \"earth\", \"laugh\", \"funny\", \"life\", \"person\", \"fun\", \"good\", \"hard\", \"guy\", \"friend\", \"smile\", \"love\", \"look\", \"great\", \"important\", \"passionate\", \"easy\", \"enjoy\", \"happy\", \"work\", \"time\", \"make\", \"kind\", \"well\", \"take\", \"go\", \"thing\", \"people\", \"know\", \"always\", \"live\", \"also\", \"ago\", \"socal\", \"southern_california\", \"los_angele\", \"east\", \"norcal\", \"cali\", \"league\", \"pen\", \"palo_alto\", \"prior\", \"portland\", \"recent_transplant\", \"washington_dc\", \"soma\", \"unhealthy\", \"weeknight\", \"ca\", \"pup\", \"hometown\", \"six_month\", \"relocate\", \"migrate\", \"seasonal\", \"upstate_ny\", \"bachelor_degree\", \"upscale\", \"fiji\", \"thai\", \"groupon\", \"originally\", \"east_coast\", \"grew\", \"move\", \"west_coast\", \"stint\", \"year\", \"bay_area\", \"bear\", \"raise\", \"sf\", \"month\", \"bay\", \"back\", \"small_town\", \"city\", \"grow\", \"college\", \"recently\", \"transplant\", \"live\", \"school\", \"graduate\", \"last\", \"country\", \"job\", \"past\", \"work\", \"spend\", \"couple\", \"travel\", \"place\", \"start\", \"time\", \"still\", \"life\", \"go\", \"new\", \"love\", \"get\", \"friend\", \"family\", \"try\", \"enjoy\", \"shoe\", \"cheese\", \"ticket\", \"sock\", \"yard\", \"heat\", \"rent\", \"episode\", \"oakland\", \"laundry\", \"teenager\", \"spelling\", \"item\", \"iphone\", \"expensive\", \"crash\", \"muni\", \"los_angeles\", \"nail\", \"skirt\", \"obsessed\", \"itch\", \"grocery_store\", \"yellow\", \"clown\", \"gas\", \"cow\", \"album\", \"bathroom\", \"deliver\", \"buy\", \"commute\", \"sand\", \"random_fact\", \"wake\", \"shirt\", \"wash\", \"car\", \"meat\", \"morning\", \"breakfast\", \"sleep\", \"truck\", \"bed\", \"hour\", \"day\", \"ride\", \"wear\", \"fly\", \"bag\", \"eat\", \"fix\", \"coffee\", \"sit\", \"drink\", \"get\", \"fast\", \"week\", \"hand\", \"drive\", \"house\", \"run\", \"night\", \"walk\", \"make\", \"beer\", \"never\", \"long\", \"still\", \"bike\", \"take\", \"even\", \"time\", \"go\", \"work\", \"think\", \"want\", \"know\", \"good\", \"thing\", \"really\", \"well\", \"see\", \"way\", \"much\", \"need\", \"back\", \"spiritual\", \"meditation\", \"growth\", \"spirituality\", \"awareness\", \"positive_outlook\", \"personal_growth\", \"surrounding\", \"bounce\", \"charismatic\", \"savor\", \"healing\", \"gratitude\", \"vivacious\", \"engaged\", \"restless\", \"global\", \"hot_spring\", \"superficial\", \"sporty\", \"resourceful\", \"assumption\", \"hedonist\", \"curiosity\", \"possession\", \"definite\", \"harmony\", \"sensuality\", \"enrich\", \"psychological\", \"authentic\", \"intuitive\", \"beauty\", \"compassion\", \"evolve\", \"authenticity\", \"joy\", \"deep\", \"deeply\", \"creativity\", \"inspire\", \"playful\", \"nature\", \"inner\", \"depth\", \"value\", \"community\", \"curious\", \"connect\", \"perspective\", \"exploration\", \"experience\", \"create\", \"seek\", \"present\", \"journey\", \"life\", \"connection\", \"world\", \"creative\", \"learn\", \"passionate\", \"other\", \"share\", \"love\", \"passion\", \"appreciate\", \"people\", \"open\", \"live\", \"feel\", \"important\", \"many\", \"dance\", \"believe\", \"well\", \"adventure\", \"thing\", \"enjoy\", \"find\", \"way\", \"music\", \"travel\", \"new\", \"also\", \"m\", \"ve\", \"hangout\", \"bs\", \"tumblr\", \"weed\", \"uncle\", \"cupcake\", \"bare\", \"bro\", \"complicate\", \"sonoma\", \"linguistic\", \"unnecessary\", \"contradict\", \"bud\", \"remark\", \"cult\", \"painful\", \"dating_site\", \"nuts\", \"pansexual\", \"flute\", \"passive\", \"qualify\", \"accounting\", \"pronoun\", \"psychic\", \"custom\", \"first_impression\", \"s\", \"lol\", \"meet\", \"online_date\", \"chill\", \"wanna\", \"alot\", \"ill\", \"chat\", \"new\", \"cool\", \"guy\", \"people\", \"site\", \"message\", \"look\", \"meeting\", \"know\", \"shy\", \"fun\", \"hang\", \"go\", \"nice\", \"hit\", \"girl\", \"get\", \"want\", \"friend\", \"easy\", \"try\", \"person\", \"really\", \"see\", \"thing\", \"let\", \"pretty\", \"time\", \"love\", \"date\", \"good\", \"always\", \"find\", \"make\", \"sex\", \"male\", \"poly\", \"sexual\", \"marriage\", \"polyamorous\", \"married\", \"hoping\", \"tender\", \"sexually\", \"employ\", \"bisexual\", \"polyamory\", \"materialistic\", \"non_monogamous\", \"soulmate\", \"connected\", \"knife\", \"genderqueer\", \"juggle\", \"platonic\", \"colleague\", \"secondary\", \"collaborate\", \"cupid\", \"fling\", \"answering_question\", \"laidback\", \"eachother\", \"mutually\", \"relationship\", \"woman\", \"female\", \"marry\", \"primary\", \"gender\", \"date\", \"man\", \"mutual\", \"queer\", \"masculine\", \"kinky\", \"partner\", \"single\", \"friendship\", \"sexuality\", \"chemistry\", \"look\", \"want\", \"interested\", \"match\", \"open\", \"attract\", \"together\", \"age\", \"need\", \"romantic\", \"right\", \"connection\", \"know\", \"find\", \"meet\", \"young\", \"feel\", \"old\", \"year\", \"child\", \"time\", \"friend\", \"well\", \"hope\", \"also\", \"share\", \"guy\", \"get\", \"physics\", \"idealistic\", \"creation\", \"buddhist\", \"logic\", \"object\", \"animate\", \"contemplative\", \"joyful\", \"wanderlust\", \"failure\", \"humility\", \"desk\", \"fine_dine\", \"endlessly\", \"blah\", \"contrast\", \"vast\", \"cerebral\", \"acknowledge\", \"twin\", \"korean\", \"ping_pong\", \"astronomy\", \"playfulness\", \"notion\", \"tiger\", \"fulfill\", \"lust\", \"journalism\", \"insight\", \"solve\", \"standard\", \"response\", \"appear\", \"reflection\", \"brilliant\", \"human\", \"result\", \"excitement\", \"remain\", \"progress\", \"society\", \"exist\", \"knowledge\", \"however\", \"become\", \"existence\", \"self\", \"information\", \"lack\", \"jewish\", \"action\", \"understand\", \"attempt\", \"universe\", \"believe\", \"less\", \"approach\", \"fear\", \"find\", \"change\", \"word\", \"come\", \"ability\", \"world\", \"give\", \"often\", \"way\", \"many\", \"leave\", \"well\", \"mind\", \"seem\", \"rather\", \"personality\", \"problem\", \"think\", \"see\", \"yet\", \"even\", \"make\", \"life\", \"long\", \"feel\", \"still\", \"time\", \"say\", \"know\", \"football\", \"soccer\", \"baseball\", \"guitar\", \"basketball\", \"piano\", \"hockey\", \"instrument\", \"bass\", \"softball\", \"er\", \"card_game\", \"raider\", \"frisbee\", \"flick\", \"silicon_valley\", \"abuse\", \"rugby\", \"hacker\", \"goof_ball\", \"difficulty\", \"squash\", \"crisp\", \"psychologist\", \"graphic_novel\", \"taco\", \"pencil\", \"lake_tahoe\", \"employment\", \"trumpet\", \"video_game\", \"play\", \"sport\", \"board_game\", \"playing\", \"drum\", \"game\", \"giant\", \"band\", \"tv\", \"watch\", \"fan\", \"team\", \"movie\", \"music\", \"tennis\", \"jog\", \"listen\", \"genre\", \"huge\", \"golf\", \"comedy\", \"love\", \"show\", \"go\", \"also\", \"enjoy\", \"read\", \"big\", \"work\", \"hang\", \"time\", \"favorite\", \"friend\", \"lot\", \"pretty\", \"design\", \"designer\", \"graphic_design\", \"production\", \"myers_brigg\", \"poet\", \"photographer\", \"compose\", \"grad_student\", \"vanilla\", \"replace\", \"san_fran\", \"architect\", \"mentor\", \"drawing\", \"promote\", \"sculpture\", \"social_butterfly\", \"entp\", \"proof\", \"infj\", \"freelance\", \"slim\", \"killer\", \"analysis\", \"specialize\", \"political_science\", \"left_hande\", \"fund\", \"seafood\", \"artist\", \"youtube\", \"digital\", \"film\", \"psychology\", \"com\", \"art\", \"technology\", \"study\", \"musician\", \"writer\", \"project\", \"classic\", \"medium\", \"animation\", \"visual\", \"program\", \"software\", \"video\", \"student\", \"degree\", \"literature\", \"architecture\", \"entrepreneur\", \"teacher\", \"photography\", \"history\", \"science\", \"creative\", \"currently\", \"work\", \"school\", \"tech\", \"teach\", \"music\", \"write\", \"major\", \"business\", \"graduate\", \"high\", \"make\", \"also\", \"college\", \"company\", \"interest\", \"self_summary\", \"pic\", \"summary\", \"info\", \"ramble\", \"pie\", \"gather\", \"interview\", \"junk\", \"quarter\", \"hi\", \"exact\", \"barefoot\", \"brown_hair\", \"introduction\", \"panda\", \"sewing\", \"grocery\", \"muppet\", \"desperately\", \"testing\", \"cherry\", \"graduating\", \"uptight\", \"southwest\", \"calculate\", \"cuss\", \"sunlight\", \"narcissistic\", \"apparent\", \"profile\", \"version\", \"reply\", \"username\", \"answer\", \"page\", \"update\", \"summarize\", \"section\", \"question\", \"paragraph\", \"write\", \"respond\", \"word\", \"fill\", \"message\", \"send\", \"okcupid\", \"ask\", \"thank\", \"picture\", \"read\", \"photo\", \"email\", \"box\", \"say\", \"hate\", \"site\", \"know\", \"actually\", \"think\", \"tell\", \"let\", \"guess\", \"really\", \"well\", \"probably\", \"get\", \"much\", \"talk\", \"want\", \"come\", \"punk\", \"justice\", \"thick\", \"birth\", \"naked\", \"high_heel\", \"shadow\", \"trash\", \"piss\", \"abstract\", \"punk_rock\", \"melt\", \"extent\", \"dollar\", \"bitter\", \"intuition\", \"pickle\", \"shade\", \"naughty\", \"sauce\", \"mushroom\", \"sheet\", \"rabbit\", \"crossword_puzzle\", \"onion\", \"potato\", \"strawberry\", \"marina\", \"slave\", \"bath\", \"blonde\", \"color\", \"salt\", \"black\", \"shower\", \"hair\", \"sleeve\", \"blood\", \"mad\", \"irish\", \"eye\", \"baby\", \"wave\", \"cry\", \"boy\", \"star\", \"light\", \"heart\", \"tattoo\", \"girl\", \"old\", \"soul\", \"kiss\", \"white\", \"pop\", \"wear\", \"song\", \"tree\", \"dark\", \"rock\", \"name\", \"man\", \"dance\", \"smile\", \"dream\", \"love\", \"tall\", \"call\", \"kid\", \"sweet\", \"make\", \"bear\", \"child\", \"big\", \"know\", \"never\", \"geeky\", \"comic_strip\", \"comic_book\", \"ish\", \"concern\", \"annoying\", \"amuse\", \"seattle\", \"aka\", \"package\", \"amaze\", \"senior\", \"partly\", \"screen_name\", \"low_key\", \"leisure\", \"vice\", \"trend\", \"geography\", \"stumble\", \"scar\", \"insanely\", \"gossip\", \"poetic\", \"audio\", \"portuguese\", \"reddit\", \"introspection\", \"prayer\", \"rewrite\", \"non_fiction\", \"topic\", \"pun\", \"nerdy\", \"english\", \"russian\", \"geek\", \"discussion\", \"popular\", \"politic\", \"math\", \"language\", \"half\", \"debate\", \"nerd\", \"spanish\", \"rational\", \"discuss\", \"speak\", \"political\", \"french\", \"religious\", \"read\", \"science\", \"book\", \"liberal\", \"history\", \"intellectual\", \"conversation\", \"also\", \"computer\", \"game\", \"coffee\", \"side\", \"wine_taste\", \"downtown\", \"exception\", \"anime\", \"british\", \"photograph\", \"cruise\", \"sandwich\", \"insane\", \"enfp\", \"hopeful\", \"hospital\", \"muse\", \"software_engineer\", \"wet\", \"evolution\", \"butt\", \"physical_activity\", \"conclusion\", \"deck\", \"disneyland\", \"hail\", \"roam\", \"chivalrous\", \"fiercely\", \"cynicism\", \"halloween\", \"awesomeness\", \"meaningful_conversation\", \"mutt\", \"cat\", \"pet\", \"score\", \"canadian\", \"flavor\", \"jack\", \"animal\", \"dog\", \"fruit\", \"opera\", \"pizza\", \"hardworke\", \"allergic\", \"scratch\", \"vegan\", \"sadly\", \"impact\", \"bowling\", \"hawaii\", \"time\", \"friend\", \"excite\", \"small\"], \"Freq\": [10292.0, 16944.0, 20507.0, 11527.0, 50880.0, 17730.0, 26980.0, 10115.0, 19973.0, 10726.0, 29257.0, 6993.0, 5502.0, 5900.0, 6473.0, 17163.0, 20367.0, 28485.0, 5056.0, 4687.0, 11195.0, 12710.0, 13562.0, 19168.0, 6868.0, 5301.0, 4146.0, 5065.0, 7652.0, 3424.0, 395.88833259763294, 295.27286423176747, 229.54589712840843, 2828.91756207574, 205.59807777291658, 199.27680025302556, 193.62956697975315, 179.0123745421466, 146.8440762301501, 113.28984157423503, 101.61762008272856, 96.53918991245243, 95.48306790263256, 241.7858920387382, 83.7700764837378, 733.1411422674263, 75.50277936488301, 75.434337834901, 71.43441834788085, 68.64313472191857, 67.03777360838843, 62.57749716993809, 60.738592554262794, 55.39237492576553, 52.994783158360626, 208.8203398838611, 52.334755603501655, 49.450633426162334, 49.07292950158762, 49.03531356175609, 1685.30438269978, 369.52852908739993, 3147.257466808468, 1080.092983154604, 195.99724688575566, 1884.2380291066283, 584.8790517846184, 2553.9765261242264, 744.4490410903893, 774.7873587162094, 2321.5151756626756, 2011.3058797939523, 833.7782803830936, 740.5207310355589, 2329.1657847262754, 1160.8558438201653, 342.36913407292064, 3867.745182055475, 629.0883469449802, 1008.9272242497394, 2640.0161192894793, 1426.939963231953, 9404.267703590289, 6319.245164520924, 1098.0467419227862, 3113.973918496396, 2036.2452386258221, 1278.8604700758144, 7715.114268687694, 14752.207594822228, 3082.0552675759523, 2481.9631979985165, 7214.945571288959, 1998.1910800525811, 2918.1770425848354, 5336.999932886776, 2053.924489159357, 5696.43577600397, 4053.1859954829715, 2644.101312395957, 4931.810936253047, 3835.1402234426773, 3131.74994078932, 4160.680125181482, 3007.1928126201324, 2923.349879023833, 2259.8058135677397, 2016.712333946567, 143.36661416315494, 134.13357923595774, 107.51723883091721, 101.5837500224969, 99.93593472105142, 99.77643528181207, 97.86698298122326, 97.85361710642667, 97.3971896178599, 94.97044369116907, 85.41093013632816, 84.0481078434462, 69.43846985408143, 66.58575092726261, 63.15451667026544, 62.48581167274968, 60.841106507554954, 60.540879828870686, 59.39736926494285, 58.42322832471955, 55.75628648970493, 54.27690691430191, 52.98106393310097, 50.72229963542426, 47.459792411997164, 46.66203817974661, 43.99701126333265, 43.15106705493245, 43.069539502607455, 42.545288767316435, 464.3509847750313, 372.0404958221483, 136.58636291489657, 78.79056388138982, 1468.774884710555, 154.51610990734068, 569.2456847492246, 142.80281414705553, 2088.2055909159203, 762.9990508313957, 3334.6738996596046, 7141.694250397563, 1333.1582759872306, 1490.2932577035947, 194.79718949657448, 380.5931477471196, 1674.8160821082904, 338.3623297398011, 1924.8624002568552, 876.813038957673, 9087.420164325373, 2405.998661859135, 4012.681546033785, 1362.7100195336568, 8884.936620083752, 5404.574136797692, 2287.888196143756, 4140.680017380737, 2027.4773617913831, 436.1131067211101, 6077.346747000257, 3737.9326237149976, 3334.8183881933032, 3132.300024134264, 2554.068153316025, 2094.607365142855, 2078.234648317661, 4576.01080916856, 6434.94572354795, 3458.84356194944, 2159.8400997026874, 4053.0061846662657, 4953.055968315187, 2833.034111947559, 2913.6546011744977, 3569.4921682091453, 1989.9962958861404, 2768.968389614838, 2504.8148361476283, 2581.7452472435443, 2301.849572069749, 320.4215746824157, 173.5152841498696, 103.924557353249, 89.82776285218199, 168.3024311176172, 66.8198462926413, 64.70298339436732, 62.81132263655823, 59.3495365837649, 56.06930976385754, 55.20880681028635, 54.528416503596866, 49.42225130405073, 48.09143447796476, 47.55000948292461, 46.27008964335707, 44.97050976943918, 43.17211151106871, 39.074440935027, 38.56808930591478, 36.89199101165914, 36.66255908755605, 35.89907891107782, 35.549876433475546, 34.63999921549568, 33.57688328097939, 1939.512130916663, 32.9419377696987, 233.65187772411204, 29.461394741361776, 1266.9248275681223, 50.304190801100304, 51.3232345049984, 86.26312961022589, 345.5872307693099, 93.57211960092509, 260.72208694934454, 732.0028372464126, 402.42323957499434, 831.6350862997245, 2528.047610162326, 409.334875231154, 425.577853490675, 1607.6435773698672, 806.7665978921156, 410.31970421520276, 387.68575974624963, 451.0800988403624, 4032.7880637105977, 1166.9326070080651, 2408.2181780748915, 2685.668162599174, 1543.7554364146968, 2564.1933785147503, 1246.2021362147902, 3825.869755191521, 1975.2184078299447, 9550.405872721592, 4475.974371134011, 4929.796181890383, 7161.523152319781, 2282.8755444786234, 3069.2752942553216, 5969.485933462288, 1170.4647808903817, 9712.5761834693, 4680.129852657155, 3009.483614158072, 1802.7952368963229, 1577.4984169544725, 1831.200568867385, 4281.503943641189, 1827.6311728890523, 3535.7842902770626, 3945.5391999426242, 2986.2608161301437, 1908.0306295777511, 2303.3133176060865, 2155.704832232196, 2613.54175664756, 2271.4899143961316, 2284.967290921654, 2091.571702208701, 1951.6270433749182, 2019.0006614010397, 1991.0869318035432, 3171.1865050033134, 250.65000696527596, 229.91169166634867, 174.5422363685579, 140.12794270290985, 112.25418094129024, 111.59759241290942, 102.90256963664191, 98.97119557284401, 80.63412947177164, 84.8003969790224, 67.2271873080964, 65.78897624969885, 60.8184141399035, 60.14632320627552, 55.87339665305443, 45.10253078101696, 43.26906693264345, 48.82570348330695, 136.45624563576706, 54.17484510130186, 163.98539501730042, 32.10889632339857, 30.8945822263834, 27.564958688719308, 27.274038803342275, 26.615736892306995, 25.15842298333487, 23.93684359745576, 23.16535500379961, 2049.2039062207764, 457.4887804268869, 45.211566706341664, 9109.865517065884, 436.53967612932206, 207.63106657973077, 13960.730917572848, 1343.110405949892, 3350.4938497770804, 2692.7862132212936, 766.6081461069632, 1672.944138600951, 519.4397951422907, 3845.0041536664944, 278.85529851322843, 4514.897398884148, 3815.8957260223206, 1861.1686292344264, 2313.122972929644, 431.3574702810228, 9266.944567128048, 2710.5378254460584, 1094.9661372039407, 2114.414672416962, 1570.7314259978075, 2132.600664222388, 764.8397166439455, 6244.398058631609, 2989.6036007241833, 962.9174923397879, 3982.2516152139747, 2463.5709276911634, 1686.0855571911684, 4844.642207365733, 2009.0321628738566, 4545.356424798959, 4486.583044090419, 3274.7996483821776, 5070.4436540638335, 3121.8265969093836, 2190.9284249355856, 1798.5064397268486, 1886.7983983219117, 1739.5741944908214, 547.7945076668951, 365.0571324820008, 164.23016861537045, 154.21948040139156, 146.37566482130194, 140.230144130335, 137.75666426352404, 151.3541229541132, 117.52134570899858, 116.63148245462065, 114.52278589103393, 113.68510999383915, 113.32949946487105, 105.72871404650041, 133.31878234202506, 104.35009740762956, 99.59372009971224, 93.78170749463555, 92.69592032881427, 89.15682149651326, 88.48828024872098, 85.01893318562155, 86.07564719508194, 84.2121158996307, 83.94345702151884, 82.3134111437715, 81.81487495461774, 81.53641095365948, 86.19104709310402, 80.57440044483222, 801.3410579265856, 186.52023323964195, 134.87275296466836, 168.16879272638326, 514.5336264867979, 304.2917360509414, 98.15689019356299, 1472.6304182981091, 251.88592846775592, 729.290456099421, 239.38192695941797, 918.1090309645617, 198.07422398357696, 483.6380563676038, 939.149425986606, 3638.349648358726, 1262.3283580340421, 852.8317901451302, 412.5256515452975, 189.32790561669967, 1689.640908528784, 380.0115070957226, 900.3221512726735, 721.996813550425, 1315.938544181603, 5376.905353888834, 451.90043598684946, 936.2195541043324, 766.9616488024826, 1153.5779699687548, 549.6065657871004, 1430.7772142313472, 1150.2527388690698, 1289.9414884546227, 3210.998889130343, 708.5253186990126, 1477.678375260686, 1466.0989864216087, 1376.9195640425405, 945.2706198553365, 1769.999231740632, 1221.283845980856, 2282.9401729922733, 2338.18119359347, 1923.136027203992, 1609.8873783874365, 1591.50493047507, 1715.9142336351445, 1863.0628516155807, 1706.4281120540518, 1358.4090395027667, 1278.9392776511402, 1167.4625000405247, 1127.0377788785208, 1041.3285665323929, 997.8136396432099, 1004.7412639493818, 989.8956098760723, 354.03485828649656, 291.89033530913866, 242.10368785596927, 206.98979616905947, 156.21700778946652, 138.16631555190736, 125.60156292894419, 121.83220614333385, 118.93547613989398, 118.27796436425004, 115.23378285299796, 105.56767537100329, 103.69411463318978, 100.0986481106125, 99.54756024579758, 99.27730054396089, 94.39624162770505, 94.35691793984662, 80.19548277089534, 77.5187260272716, 75.79604573836019, 68.96570070149454, 554.9272086116845, 67.34966963370965, 66.19064529964491, 66.07290658731392, 63.047461035487316, 58.80911734518259, 58.586936748545774, 284.6459333140115, 229.60778161078224, 794.6022204434577, 364.83671273244676, 259.14376483604025, 98.83029195469177, 630.6159784846533, 1291.043325705669, 586.116011851739, 448.83737662625305, 654.8735047155144, 760.4554872904081, 1687.5377405710296, 296.2432457652426, 250.3809122547808, 1464.6502047120564, 759.2972797061718, 1225.8554238849938, 719.122425871409, 474.50940090474296, 253.54477577967972, 2293.419548890486, 1011.464564654585, 956.2193809517516, 500.46480920989825, 437.8787062132513, 7953.695033960377, 828.1931130926047, 2917.943193258642, 1479.129658324965, 2385.1280498975652, 1526.1755749919175, 1536.3768366761267, 1731.9778309923865, 6444.752767692414, 1134.9280736793055, 1098.1934827768846, 3704.5674577059267, 1497.5893309981454, 2759.5631221219305, 1708.538124813832, 1289.3643133687895, 1412.1602279820531, 1232.9443617748543, 1223.4042731586233, 1647.0119659479294, 1236.349138335342, 1912.6577635126616, 1779.176508041036, 1443.9984881546166, 1338.0848488218207, 1352.2308431944473, 1362.9301532912532, 1326.3093440890639, 1300.2304657408852, 4686.7260164161335, 329.098791726121, 136.62677473558014, 120.63620755459515, 113.9680569572109, 104.97827905599483, 94.30728103385577, 91.03080148770225, 83.82482277546062, 72.7995863597195, 72.47185599133036, 69.27961062446916, 66.13621889085162, 61.97359306619078, 60.41222760944384, 56.46615701555143, 55.37929668545153, 52.92465459394656, 52.47887953476762, 52.246764792151446, 50.722386428435776, 49.93266948131598, 47.615840954185444, 45.224234967501076, 44.847191952444675, 44.72536561697179, 44.11067361790786, 43.67817604361272, 42.60538343173384, 40.206915715972805, 759.454818029203, 977.5583010754456, 6741.820916560356, 508.3407586973337, 843.2756765978235, 126.277503394892, 340.43360661577253, 184.1286030146172, 439.6879569830992, 7662.944351773979, 1235.3731218220214, 3351.1074507882463, 7855.14645843932, 804.3404054113196, 1082.8251848215293, 4527.425324298589, 564.0010602710764, 4345.310162802349, 959.5330943016118, 3491.2417453038997, 1357.9901287813016, 5795.695771276087, 1419.1598432930423, 617.7773621118974, 1603.7313108044477, 4629.396408206235, 2920.9023773087893, 3926.615143019126, 1474.6839430654547, 2945.2861718542817, 2360.049398010737, 2754.4190431387437, 1989.0286808004694, 3368.343321387459, 1331.4121666140124, 1806.6127403262917, 2775.6324736959205, 3497.007287732267, 1132.3898715868434, 1752.1438706862436, 1360.8584619368883, 1356.538060679988, 1410.1471564491392, 1208.8308918019832, 492.86917944070626, 396.48457964190635, 365.0579213192127, 307.1696882707012, 280.12472333676516, 190.370911818321, 133.6439189469132, 124.1569330406081, 116.13123818596085, 114.39968639803568, 99.82390759345773, 94.94375919268352, 92.31945690387136, 78.08622684642911, 76.74979552833798, 73.03576907275563, 72.54193092668281, 71.87533873935028, 70.91491709353873, 68.28547570312676, 66.62094415771438, 59.002154134007064, 58.87418747671908, 58.18726594196822, 56.03963235596064, 50.014168181272666, 49.905944302369164, 49.52518152875722, 48.29991450337154, 4542.733548019015, 3866.4167575567335, 462.62728460553194, 494.21297503840947, 221.0966087926148, 299.1876265835397, 2507.998561487098, 3386.034066139726, 211.7324693635796, 356.8650277997038, 196.80862427863144, 136.49948837634886, 1515.7276854522395, 1010.0497153331576, 727.2647689768105, 144.241003779203, 470.4281229514482, 4892.443129919957, 3605.5292582149705, 1197.9402953937877, 486.5447694118376, 1617.8459786353412, 451.5227380883186, 810.3560645066422, 607.8927785063083, 1218.663332810379, 579.2096587119014, 1085.3059622972924, 521.4181225146991, 1663.756093581001, 1229.4725512798395, 1140.9102241947478, 564.2912781797588, 839.2302771393283, 729.1446356910237, 989.7404096541969, 564.1248893585955, 953.105623801531, 887.417278995842, 787.3554135904585, 612.4511540566941, 771.4812055725503, 615.0665707707226, 595.1338197055956, 584.3883593979562, 179.06699412147927, 153.41332579013525, 136.66824886003198, 136.20062836384358, 135.8472997186297, 118.69212255153569, 112.19142921097554, 106.72405935781649, 105.38030728099307, 103.14742082427348, 102.5478936040213, 101.80448804387282, 99.46266341452743, 98.97743510814995, 98.55996120335439, 97.24524470923745, 94.94827655903796, 94.572946979713, 94.23117323922006, 92.06462154114294, 87.58725840848184, 83.96209068769092, 83.26135917052774, 75.53009672878788, 74.66670662010677, 74.5190920060067, 74.3888945037904, 74.43039610534312, 73.3003461997554, 72.65765759640439, 137.65473825623224, 160.55350824025754, 203.10015063181277, 143.18980600777164, 173.0973319950688, 110.47251000153166, 166.52774712599515, 546.9916169937778, 291.9119252360062, 171.46481324372473, 231.89713444386402, 277.74597931893965, 232.7478183950922, 240.13038545414688, 305.73461420353857, 607.7249872518789, 690.596876916889, 157.46577778409423, 737.0757324894635, 235.18111464487828, 238.59400690027314, 171.9422794227866, 253.10925560944176, 520.8895110031782, 268.8503977798602, 218.8586675367138, 786.4975573157805, 445.5589623936329, 252.15627261177215, 234.789392074198, 1073.2559385430443, 506.2816252950366, 548.1811223932169, 759.4450674747834, 270.04868942714336, 757.725844560631, 624.6102910024771, 548.4155541765284, 754.377351829225, 617.4589632958451, 447.63237562682303, 766.397616918294, 479.4165565736452, 421.31756333391536, 424.578730367296, 364.6147642049655, 295.2598811869974, 548.0438196134033, 487.0365218340938, 356.28859367970176, 416.83911957752423, 487.1617329287715, 483.7731794274527, 379.6138780807737, 390.24583125568176, 380.0907368504187, 403.2534050373739, 388.5878295604299, 391.0353787428119, 1051.7298622632152, 971.2390385126297, 938.3780498290703, 898.8210970833474, 788.206718799348, 522.7272902073095, 250.83387517709087, 224.30001743871023, 196.12019857060045, 172.63394761667195, 114.71993093286369, 100.91448287065141, 82.46512809106426, 72.92131662212607, 63.087704755476366, 63.03864901521182, 59.22025477187645, 59.16392667292191, 54.08805079360598, 51.96607009842332, 51.90992432445013, 50.88337619786362, 46.44402090909115, 45.22966429134034, 45.0888130831081, 43.62354633017669, 39.27880050625384, 38.78965698223728, 37.070924104292395, 36.85987433814722, 887.2436121318906, 8100.309282482112, 3336.1007720708653, 403.7690877995361, 401.6439078169449, 323.22525908078825, 2862.6998061608024, 644.99896362328, 762.8565836417577, 1000.149037970192, 3914.4350624913905, 1209.1385455865088, 539.0582144687093, 3562.3405071451025, 5137.67039769993, 632.9389298079813, 152.12875826909757, 1175.634011640483, 178.78800055314176, 692.5580703579191, 313.65656885213104, 373.82717022867257, 5574.964577447162, 1041.6689358660465, 3644.1707108492333, 2598.2289030429492, 1964.8989033504465, 1123.3504174269015, 949.6353583529041, 1586.2208428293472, 758.9895327090603, 1150.6852391286254, 757.3905219820753, 952.6062785621825, 813.0963767361211, 752.5233669252748, 1202.5274894776896, 394.0214597146223, 193.9222269637348, 193.7381326744371, 167.47588725021816, 143.4489119232782, 315.50591555033435, 112.1123498284111, 110.35639098004009, 101.83888006051419, 99.38697385826468, 94.89533716343213, 91.9952076635591, 90.03046976457202, 89.28030667342863, 89.0954493631044, 87.12115307909552, 86.76738972233996, 84.07655998337815, 83.70372625650629, 82.5912879997233, 80.37482018409185, 75.91976209860641, 75.43927538487377, 70.29999366047183, 69.74336982160342, 69.33933472140264, 65.42590298717592, 61.85060298975546, 61.60476070832945, 1400.0896360709178, 284.31178061005835, 197.37326795587205, 1073.7217862526022, 421.6743728262988, 765.2938393442571, 3364.2433496623266, 601.1575817052048, 1467.4435230591196, 496.8706311697638, 527.9175855406753, 710.0261229278518, 252.1571671748748, 356.82826786389904, 134.02912863985662, 224.9903603236805, 325.63889664949147, 252.76743964078562, 406.4470302879042, 693.6644774558255, 704.1978796164022, 225.44105828409283, 319.27647675288705, 199.91614894889526, 445.1493127516246, 688.3570681726612, 544.0236808353769, 545.6853344093042, 1085.8598422542038, 991.1059114469625, 3201.5035854793805, 1299.7955951896042, 393.7294907499224, 668.5278014678127, 1766.31300245692, 1028.0566688331419, 425.548333689044, 489.870635027812, 491.7965000988248, 520.4131293892242, 764.9350132398794, 678.4384134932052, 491.4504185078095, 477.95133921674113, 478.66379463364, 613.2421382563124, 314.0986502421834, 603.9152934635696, 163.2454445046108, 135.14298510145744, 107.7438975321092, 102.20084566609486, 100.66945195073355, 99.08418966820152, 95.86085297597543, 95.52143953506136, 85.70707236149843, 69.79800404524804, 63.993177205685235, 58.58791177463253, 56.4458019381885, 55.533511687716974, 53.56982667011923, 52.26754221084223, 50.40284660938331, 49.357548587166896, 48.53007960879278, 48.419039865265425, 47.00905776473146, 46.58770604688381, 46.04900556527015, 44.81294113532121, 44.03134831115506, 43.32538474368384, 43.0828774587046, 3146.149907267165, 231.62792754423273, 212.76539852824962, 154.89603380511673, 829.3579326026897, 352.87746275307086, 757.4899182832712, 488.98259812410026, 348.1880539071406, 1204.8690005252838, 306.22189277721935, 2702.392656812609, 276.7005554562628, 1616.8832104473943, 732.5657537095447, 1226.154588243753, 579.2945937506493, 498.8819741619117, 1513.3582505196005, 596.4083689878064, 682.0938287588473, 2240.3665373873114, 461.88011349213747, 331.2836907502053, 342.5269967048315, 2348.054384359335, 728.4828006682136, 548.2858086440376, 1839.0335480955919, 628.6808538102011, 1250.481854339314, 745.9795008520622, 749.1519013386369, 541.919444446786, 904.9816602658028, 863.122703113583, 619.5476436104481, 926.6926674898166, 669.4779209081058, 588.593990849709, 624.5983351927988, 592.1151942580225, 254.7766112742787, 141.51452287694775, 127.78293472951611, 123.84167731549128, 121.95819004055727, 121.59733946279495, 107.49120804826256, 104.49718581154855, 103.45821925840926, 101.7951071399121, 99.76488630606063, 95.02340691307258, 93.60182612031403, 92.40573113564683, 90.05727098754465, 85.10447097001325, 83.85396200933428, 80.36910025216315, 80.19805252693102, 77.86081170562127, 76.91091995372402, 75.93585583174368, 66.25484483004793, 65.46363399065285, 63.28130377090775, 62.89523743073699, 60.92170625929439, 60.75490133920937, 60.5168124712833, 59.90349088042008, 96.14446210306961, 598.6428350376513, 109.22996745398501, 673.2384465798544, 239.26834847149172, 593.672543091627, 198.8067600440966, 208.2278317313586, 198.71534687865417, 225.573344875715, 670.0517142048105, 303.62315908653187, 217.00195277559703, 267.5747051474328, 622.6623192493789, 306.6735045615739, 463.38070268027485, 1214.3485352549492, 365.37919369252893, 1529.3501263269318, 1267.0363067071448, 508.26591689596614, 298.62129681311745, 335.05247106196447, 271.53904727855354, 539.4088395239684, 369.6733367819263, 300.68692578446945, 299.2248551307728, 455.8179410764943, 611.0400802517925, 795.4273005793303, 623.3188740604173, 469.98856312926284, 427.30258767610184, 1273.494550418263, 317.0273376749517, 424.00596664774764, 421.3575305330053, 363.9762523142008, 561.2053252643419, 419.1881842612843, 351.52662774197063, 389.4131034417568, 398.3841292157773, 354.7435611754708, 601.7042856860079, 209.52364034144588, 187.50076466453172, 164.7261818086953, 156.78105933835, 155.20235788541513, 143.7128463536992, 126.37393549309205, 117.09012994940348, 108.52934652360648, 105.9023039235787, 104.77931511654995, 95.00465357086416, 89.2317242920991, 88.01734101843826, 87.30023367572576, 86.42775637917386, 82.28730504983679, 74.90248763361852, 74.20072673461394, 74.10901255040459, 69.67755428225644, 69.1555322108291, 67.35628317875705, 65.80268594998768, 65.35889237536136, 62.246326662524865, 61.05786609002728, 60.56788611419172, 60.33105212166954, 90.48628327651693, 358.10353458488737, 214.36940782924654, 648.5939121007536, 276.39850558108606, 130.2797077263776, 688.6074621025494, 265.69211028308126, 122.34390822058486, 573.6849022285593, 255.19227811738477, 567.5463247453988, 707.6294302333052, 284.4788941640134, 536.3873146793753, 247.4753188988667, 139.75976870768406, 243.9061453309078, 523.421718248318, 263.8492837452303, 274.4914030215052, 238.8786759496056, 865.6199428002749, 329.4998352832603, 585.806444255682, 233.66582152831194, 299.0179614684418, 263.2836905623756, 347.1826727360646, 450.47459773974174, 235.60783724732826, 262.6077820266673, 231.73270674664616, 232.23520046845522, 316.51249111408765, 259.06720853762425, 226.87860647037573, 201.7358580823236, 161.39707700531244, 192.216391910668, 148.4373919038373, 146.1963847158025, 144.53986413533403, 120.26754053480902, 111.89536251418373, 111.50178104457304, 110.91186095174892, 97.95270535033637, 96.5351359288887, 90.73201075046822, 89.0428240892145, 86.82078929573053, 86.70731335923716, 84.7491488123356, 81.99800497167884, 81.50594463657868, 81.3603565578271, 77.22812992311347, 76.43489809855917, 75.09405730926018, 74.63010120825206, 72.3722803566909, 71.18133696203759, 70.26270323034912, 1133.844779840904, 335.81542404245823, 125.7036488544519, 95.01132435641833, 166.99845451372613, 106.7545685986871, 898.3602332914957, 1200.0182762800873, 172.90818027398097, 192.1757914750985, 170.5615011657601, 115.1003612238851, 134.6875705166354, 127.81993026620171, 153.91406807443045, 112.19866829619791, 108.86971769491842, 115.54497020722117, 120.0535817787431, 243.52041871488697, 128.27364665061455, 113.85070849152127, 113.3335498534537], \"Total\": [10292.0, 16944.0, 20507.0, 11527.0, 50880.0, 17730.0, 26980.0, 10115.0, 19973.0, 10726.0, 29257.0, 6993.0, 5502.0, 5900.0, 6473.0, 17163.0, 20367.0, 28485.0, 5056.0, 4687.0, 11195.0, 12710.0, 13562.0, 19168.0, 6868.0, 5301.0, 4146.0, 5065.0, 7652.0, 3424.0, 396.8669790450025, 296.2504055688849, 230.52344059537626, 2841.740899750697, 206.57562676111863, 200.2544140682095, 194.60710838822988, 179.98991678757753, 147.8218946752187, 114.26738636252199, 102.59516335344371, 97.51673139081069, 96.46060886562314, 244.52785486205485, 84.74762741851508, 742.0095722250908, 76.48032067613276, 76.41188006966752, 72.41195931909327, 69.62067979408388, 68.01532129305394, 63.55504101050012, 61.71614116293673, 56.36992288309221, 53.972324966040375, 212.710447729747, 53.31229694547264, 50.42817486054271, 50.05047842758135, 50.01286423280502, 1778.4913158591135, 388.7940684341257, 3490.60300974178, 1178.5802126826493, 205.78574525909505, 2133.890244068226, 641.9305507285113, 3008.116778344418, 833.9127117563272, 871.8260111626599, 2786.2849705244284, 2580.2824551322497, 1015.2495932024924, 915.206419295566, 3295.0809708176366, 1548.0323319327351, 399.00219915355285, 6082.745583732069, 797.4446433058018, 1382.9333735464718, 4237.799143027129, 2128.3052633248644, 20367.40365880225, 12710.388967161993, 1572.6473600678096, 5848.422134199745, 3556.590891580433, 1974.8927130043319, 20507.302095696683, 50880.081903241386, 6993.458390346319, 5333.311564226966, 29257.692679853648, 4167.043768390774, 7652.634279361393, 21322.390778034194, 4435.588664554702, 25503.716924049735, 15619.496759523867, 7422.9604173072585, 25852.414550564237, 16628.33921026065, 11527.87660760058, 25940.988379730723, 13710.965023550041, 19168.879699688343, 9417.426717354367, 26980.364467133844, 144.3420877931378, 135.10908076729538, 108.49279372525295, 102.55917218768435, 100.91135547676332, 100.75185628092642, 98.84240446845118, 98.82918827415463, 98.37260994184012, 95.94586517208744, 86.38635154272605, 85.02352806298092, 70.41389020344918, 67.56117086329903, 64.12994024508755, 63.461232283356345, 61.8165322305251, 61.516300456839176, 60.372791891233355, 59.39865115316653, 56.73170635298018, 55.252328344300956, 53.95648428957922, 51.69772074066181, 48.435215430010686, 47.63745785259064, 44.97243479678714, 44.1264878148987, 44.04496070140814, 43.52071103572674, 486.1114121469249, 393.00324630004786, 141.68965767379714, 82.45709395008416, 1801.775426647761, 170.8841398741633, 698.5443008707322, 157.59579011539606, 3094.361031813294, 1040.4933732516656, 5475.7172311040395, 13645.13307425379, 2047.6503429706527, 2442.1996207563952, 236.50750034436797, 517.4280487041402, 3093.9388331707673, 463.314464446989, 3751.0756100371405, 1458.4390548756421, 25852.414550564237, 5101.168249125355, 9686.413681172002, 2553.762645493485, 26980.364467133844, 14505.413477937806, 4958.004411520352, 11195.24905625077, 4709.481455521803, 659.0776376805844, 19828.43114416182, 10608.812071313401, 9354.146878608597, 8863.088377996743, 6944.961951847862, 5318.465142590727, 5316.2259569316175, 15619.496759523867, 24950.449305498638, 11409.553332185382, 5663.093284815293, 17163.372666613708, 25503.716924049735, 10782.282726321777, 12225.91338039001, 25940.988379730723, 5463.69206485514, 16628.33921026065, 12645.098058628157, 50880.081903241386, 29257.692679853648, 321.40029195964905, 174.49400353455476, 104.90328201113002, 90.80648111575182, 170.62644131846596, 67.7985661444043, 65.68170067147301, 63.79271066954099, 60.328256188160886, 57.04802813696134, 56.18796905215078, 55.507136108699356, 50.40097881291075, 49.070151386646735, 48.52872904322599, 47.24880638312434, 45.949230378516795, 44.15083071156357, 40.053161969236015, 39.54680889609136, 37.87070815188223, 37.6412786772671, 36.87779788268259, 36.528596144320744, 35.61872018153406, 34.55560470498097, 1996.3954126491537, 33.92065736280409, 240.7667890448941, 30.44011577788546, 1347.4462752492313, 52.19435877160424, 53.36709630214287, 91.15936012403048, 387.76139388724147, 100.10911581237437, 305.8534997925474, 948.9435543052181, 500.6329574665793, 1110.3384990083587, 3726.9133649452397, 513.8687602593004, 539.2942931995815, 2328.7596344230074, 1101.3014028653895, 522.1766147712874, 500.98524650977623, 623.1137729732835, 7864.0155577198975, 1901.62337546931, 4512.859567598311, 5316.2259569316175, 2880.7419259841195, 5463.69206485514, 2291.2705438215507, 8863.088377996743, 4069.970526013638, 28485.952185380218, 11268.210689522866, 13710.965023550041, 25503.716924049735, 5613.702390892256, 8529.208858640455, 21322.390778034194, 2376.2778841423356, 50880.081903241386, 17730.319899159327, 9417.426717354367, 4624.2286071211665, 3789.5527346889353, 5078.813829320991, 20367.40365880225, 5364.669215010194, 19973.798984346064, 25940.988379730723, 19828.43114416182, 6827.664399106731, 12645.098058628157, 12225.91338039001, 29257.692679853648, 25852.414550564237, 26980.364467133844, 17163.372666613708, 10782.282726321777, 19168.879699688343, 16628.33921026065, 3173.72643473167, 251.62687286627627, 230.8885575955466, 175.519102453796, 141.114776093337, 113.23104798805322, 112.57445866148112, 103.88787648345127, 99.94806673730727, 81.61099658202627, 85.9041795234185, 68.2040536037825, 66.76584325093748, 61.79528039570679, 61.12318983454514, 56.85026789917119, 46.07942684508515, 44.24593321361438, 49.93923645609904, 139.5983313469195, 55.448782099109216, 168.09244790915136, 33.08576276947298, 31.871452435251914, 28.54182528239553, 28.25090679297875, 27.592606358751777, 26.13529042662738, 24.913715079780356, 24.1422244980587, 2168.58991261209, 485.69177428068883, 47.189351449165706, 10115.593521009196, 466.84306845094557, 222.6973308486885, 16944.97326530786, 1551.7344800806727, 4143.520540228462, 3396.1640313149105, 908.7003187356759, 2077.467852944959, 637.7609822425036, 6050.054785996514, 333.2126272601021, 7652.634279361393, 6365.650844031108, 2851.7526058172652, 3673.6744615538755, 553.9671938403143, 19168.879699688343, 4764.669278313726, 1659.4206615118642, 3599.3793343872294, 2816.667609952863, 4141.032363987618, 1250.3299102273875, 19973.798984346064, 7564.003271643517, 1723.1803570893946, 12710.388967161993, 7422.9604173072585, 4711.548131528554, 25940.988379730723, 6297.368855327332, 28485.952185380218, 29257.692679853648, 20507.302095696683, 50880.081903241386, 24950.449305498638, 21322.390778034194, 7864.0155577198975, 15619.496759523867, 20367.40365880225, 548.77221797579, 366.05617347073985, 165.20675677238995, 155.1948101126299, 147.3509659287535, 141.20494753429273, 138.7314663416776, 152.45451547338092, 118.49614968645052, 117.61522735937702, 115.49759045097083, 114.65991751040923, 114.30430184788678, 106.70351641373719, 134.55727928894552, 105.32490951090668, 100.56852214179018, 94.75651188679828, 93.67072215152746, 90.13162986631775, 89.46308404565285, 85.99373718469974, 87.0633240192775, 85.18691781040224, 84.91825962877819, 83.28821567517964, 82.78967733317496, 82.51121294483703, 87.22913006246424, 81.54920308980806, 828.8614214801983, 190.21558464678895, 137.84357467456175, 174.76577679379122, 581.7730630095078, 336.8776750677016, 100.35620900846149, 1905.4962677766741, 283.0978736087563, 923.4556541067502, 274.2192705650927, 1277.3906875962412, 225.33034492100347, 653.6198210820675, 1586.347622930945, 9564.738638448129, 2475.0304522817974, 1518.4326050298707, 615.7911635106058, 224.14148581028476, 4167.043768390774, 587.5103925306861, 1940.353874173272, 1434.8469964687804, 3381.3525281103935, 24950.449305498638, 756.0267190809573, 2251.4088642340216, 1682.8034221464889, 3098.046079670735, 1032.011534318607, 4435.588664554702, 3278.49768404083, 3965.161819727118, 19828.43114416182, 1638.9937106077646, 5771.027939357561, 5703.078017847181, 6297.368855327332, 3295.0809708176366, 12225.91338039001, 5663.093284815293, 25940.988379730723, 29257.692679853648, 19973.798984346064, 13645.13307425379, 13562.031819149606, 17163.372666613708, 25503.716924049735, 25852.414550564237, 14505.413477937806, 12645.098058628157, 9889.387517924757, 9354.146878608597, 11409.553332185382, 5253.249845208567, 6050.054785996514, 990.9281138628547, 355.02664498122584, 292.8659283283832, 243.079331217201, 207.9651876768569, 157.19239307329056, 139.1416994963501, 126.57694796062117, 122.80759267004127, 119.9108615528938, 119.25334939153329, 116.20916873839664, 106.54305941129, 104.66949992718214, 101.07403349358093, 100.5229460156404, 100.25268581384563, 95.37162620819876, 95.33230297597757, 81.17086920182824, 78.50261720645771, 76.77143131268157, 69.94108522766479, 562.9288027605163, 68.32505489937739, 67.16603094086408, 67.04829050605238, 64.0228462761176, 59.78450181150921, 59.56232246156104, 299.77867512426246, 245.2411863166937, 913.0327521552044, 409.166887139723, 284.62745946863714, 102.71864498888873, 760.862456739223, 1728.363574428861, 729.9144996923999, 556.8222344108441, 854.838868956224, 1051.888321037158, 2665.3900439510917, 364.17485177813097, 298.61303619120605, 2466.9141641699193, 1139.9114089154991, 2033.443628592775, 1082.5264392725417, 656.2418033033842, 307.84537712738506, 4941.996349666918, 1756.9087479950938, 1666.761143823305, 734.6331569205431, 620.405612542259, 28485.952185380218, 1450.752372424422, 8088.1772812756, 3267.2885504378974, 7223.72459621517, 3789.5527346889353, 3903.5064932977975, 4766.374485782137, 50880.081903241386, 2909.59713248149, 2906.9802214341394, 26980.364467133844, 5611.701065149506, 19168.879699688343, 8058.476277612374, 4624.2286071211665, 5908.594981988454, 4757.677706981899, 4797.367947543451, 12645.098058628157, 5333.311564226966, 25852.414550564237, 20367.40365880225, 12908.268703443335, 9354.146878608597, 11527.87660760058, 12710.388967161993, 20507.302095696683, 16628.33921026065, 4687.703787493277, 330.07654755545013, 137.60453051213767, 121.61396486940738, 114.94581377805696, 105.95603566030351, 95.28504018354326, 92.00855894976165, 84.802582375101, 73.77734405881542, 73.44961516461396, 70.25736968703066, 67.11398074999694, 62.951353193776434, 61.389984551825464, 57.44391509534376, 56.357055817057834, 53.90241450514726, 53.45663894802598, 53.22452098621902, 51.700145642642816, 50.9104278280766, 48.59360182237974, 46.2019937407072, 45.82495172269305, 45.70312241653823, 45.088432705021674, 44.655935093694204, 43.58330992812507, 41.18467335927278, 820.1921242325859, 1101.1162235329316, 10726.149983075822, 677.4056193476606, 1203.6991155832354, 146.95130604886785, 465.90748045993155, 238.66297017245154, 673.8517751943936, 20507.302095696683, 2415.471728910351, 8529.208858640455, 26980.364467133844, 1627.5751379230442, 2399.815304421657, 17730.319899159327, 1146.0912474204968, 17163.372666613708, 2319.37836406497, 13710.965023550041, 3865.560730262485, 29257.692679853648, 4289.033747137294, 1368.7575186490983, 5425.288910312438, 24950.449305498638, 13562.031819149606, 21322.390778034194, 5078.813829320991, 15619.496759523867, 11268.210689522866, 14505.413477937806, 9889.387517924757, 25852.414550564237, 5018.883195821895, 9686.413681172002, 25940.988379730723, 50880.081903241386, 3729.603888326164, 25503.716924049735, 10782.282726321777, 12908.268703443335, 19828.43114416182, 1209.8070781587137, 493.844331031654, 397.4597302227928, 366.03307186375486, 308.1448391707723, 281.0998738029357, 191.3464255211368, 134.61907032350172, 125.13208518254821, 117.10638872814714, 115.37483787365271, 100.79905839652672, 95.91890960000104, 93.29460870476841, 79.0613773901789, 77.72494623158669, 74.010921743117, 73.51708314925483, 72.85070923012866, 71.89006971685757, 69.26062611216723, 67.59609687320545, 59.97730522247693, 59.849340391387614, 59.16246745003266, 57.01478359315484, 50.98931990294321, 50.88109663559413, 50.500333111271296, 49.27510522216012, 5900.937726815886, 5056.174701800522, 531.7056017597835, 575.6494433966594, 251.87712995091508, 357.39064091589125, 3729.603888326164, 5301.784969928174, 244.99176795412006, 457.0019226669518, 232.36387370728843, 154.4467896230816, 2810.9957838997866, 1735.570076931806, 1229.9999739303644, 168.74831164098202, 794.0589194760452, 17730.319899159327, 13562.031819149606, 3280.6892442252356, 930.5695229391843, 5611.701065149506, 864.818972278971, 2194.189382041171, 1462.8661239100747, 5253.249845208567, 1562.596667982276, 5796.00129516252, 1450.752372424422, 17163.372666613708, 12908.268703443335, 10726.149983075822, 1799.9887463125174, 8058.476277612374, 4840.402413248522, 16944.97326530786, 1969.6112691322116, 25940.988379730723, 21322.390778034194, 12645.098058628157, 3222.165946948057, 16628.33921026065, 4766.374485782137, 8529.208858640455, 24950.449305498638, 180.04019768371288, 154.38652940872925, 137.64145225634167, 137.17461897439583, 136.82051249480733, 119.66532648867747, 113.16463332922034, 107.69959886730607, 106.35351313083886, 104.12062429659103, 103.52150046547625, 102.77769186012742, 100.43586785974298, 99.95063958647327, 99.53317379875133, 98.21844775095549, 95.92148022496701, 95.54615044282288, 95.20437698872632, 93.03782563310807, 88.56046324442508, 84.93529507075779, 84.23456402434866, 76.50330099757751, 75.63991074211586, 75.49229502364466, 75.36209923711105, 75.40975287597887, 74.27354986003216, 73.63086162666623, 141.09602427401464, 166.612469808603, 270.5282628619376, 172.83510289572635, 222.184896996855, 126.58074285069574, 218.52745482937226, 1069.8832449055667, 488.74926300643995, 232.44140041226595, 361.8778493338809, 471.97299294798745, 367.3594529433811, 389.7965940513511, 571.703750369639, 1709.328293460697, 2194.6847653041523, 213.3323194851751, 2687.221641038139, 416.3989874118613, 436.0180050436745, 250.75397825711056, 490.3795022547997, 1740.0936060613303, 556.9900235326764, 391.2979178193984, 4797.367947543451, 1599.1773245906813, 524.5731430058783, 460.3942835185591, 12908.268703443335, 2696.7566056866153, 3265.7001522965397, 7123.583983636818, 655.099496950738, 8088.1772812756, 5062.697010250617, 3969.2176065453464, 9354.146878608597, 5908.594981988454, 2522.566777181763, 12645.098058628157, 3471.8057744295083, 2472.470580021944, 2578.659267230943, 1754.8223626356598, 869.4025487669817, 13645.13307425379, 9889.387517924757, 2362.724477345271, 5663.093284815293, 19828.43114416182, 28485.952185380218, 5703.078017847181, 8058.476277612374, 6297.368855327332, 25940.988379730723, 11195.24905625077, 17163.372666613708, 1052.7058510987754, 972.2150713475096, 939.354010101789, 899.7970576703576, 789.1826790236612, 523.7032624798635, 251.80983526104424, 225.27597937068887, 197.0961594936908, 173.6099078297822, 115.6958912472584, 101.8904438439521, 83.44108831172393, 73.89727727825574, 64.06366602895949, 64.01461051218136, 60.19622331652381, 60.13988709303957, 55.06401431068443, 52.94203284085545, 52.88589295470771, 51.859337390430916, 47.41998636307131, 46.2056265084293, 46.064775619717324, 44.59950877508429, 40.25476321587995, 39.76561970149882, 38.0468879771338, 37.83583545471673, 1007.5820872270785, 10292.384181388721, 4146.849579638861, 458.69994012196304, 461.17575223236844, 369.5658644355302, 3763.9559400356925, 788.9377348367921, 1016.3128254391484, 1407.9230278498487, 6473.247316049068, 1820.2500585625717, 740.2708810041923, 6993.458390346319, 11527.87660760058, 1017.800929678505, 188.7630306720165, 2704.9503699128504, 233.7318484402045, 1588.82951811896, 524.8033902456987, 706.2454360124154, 50880.081903241386, 3619.6140908225225, 29257.692679853648, 16628.33921026065, 20367.40365880225, 6868.497501761317, 5424.864020697183, 19973.798984346064, 3865.560730262485, 25940.988379730723, 3939.4823215678057, 21322.390778034194, 10608.812071313401, 9686.413681172002, 1203.5025387428527, 394.99522924043623, 194.89599651598854, 194.71190209153607, 168.44965782840956, 144.4226822165423, 317.72770199102956, 113.08612059433094, 111.3301609751844, 102.81265309075089, 100.36074567337793, 95.86910801921306, 92.97315530316857, 91.00424135297851, 90.2544445905636, 90.06922055609665, 88.0949220918922, 87.74116141031811, 85.05032999437411, 84.6774975796356, 83.56505804261369, 81.34858954742232, 76.8935333687603, 76.41304671706278, 71.27376338313839, 70.71713949480049, 70.31310419660154, 66.39967342656934, 62.82437286431827, 62.578532203145, 1492.2615855119427, 296.03780838166654, 212.7474384248602, 1393.1223736328413, 502.17926394686066, 1008.7101206069533, 5502.872339621002, 803.0889597759075, 2249.3151612484126, 653.7167920668243, 702.3551397717098, 988.5061493800789, 306.0716230754975, 468.8931988579926, 146.61493164632085, 275.7313710915645, 434.69522264988484, 325.34394173051606, 589.3893598303179, 1191.3437834070444, 1246.0857911931248, 286.22438909394106, 450.40398279311756, 246.651260081077, 762.5939496334889, 1445.7849279238499, 1042.9669986128024, 1083.1228354110415, 3267.2885504378974, 2864.6603939829047, 19973.798984346064, 4764.669278313726, 658.3035045216617, 1763.4589104590787, 11527.87660760058, 5065.726383374238, 935.6475376925979, 1444.2494301908184, 1659.4206615118642, 2215.416138653753, 19828.43114416182, 16628.33921026065, 2851.7526058172652, 2349.370828767112, 3191.3430652773536, 614.5435187222042, 315.07399173040426, 606.1766342290158, 164.22682811696933, 136.11832705137817, 108.71923979560833, 103.17618794439879, 101.64498048508378, 100.05953273774705, 96.8361950987188, 96.4967817436717, 86.68241539010205, 70.77334855924093, 64.96851992162654, 59.563255041661286, 57.42114476916241, 56.50885438998245, 54.5451686081123, 53.242885115960654, 51.37818844520636, 50.33289190570027, 49.50542271017446, 49.39438198383024, 47.98440038118797, 47.56305005010453, 47.02434760731218, 45.78828400552781, 45.00669083497873, 44.300726544168405, 44.0582201806882, 3424.294788792701, 246.2828307422012, 226.9725050146544, 164.8500569180043, 950.7117009475996, 398.58377429034766, 926.3719624032268, 605.2255987173123, 423.2918033133647, 1746.5773786092843, 394.8134996576795, 5065.726383374238, 388.94434178948745, 3265.7001522965397, 1273.1975498109189, 2399.815304421657, 983.7471178941854, 837.0908134721406, 3445.9033195222937, 1083.890846064948, 1323.7174467371779, 6868.497501761317, 874.0635876249537, 559.800290759943, 609.8999077844397, 11195.24905625077, 2113.319447099368, 1627.5751379230442, 17163.372666613708, 2385.1833696082276, 13645.13307425379, 4958.004411520352, 5018.883195821895, 2329.030849218706, 14505.413477937806, 12645.098058628157, 3751.0756100371405, 24950.449305498638, 11409.553332185382, 5318.465142590727, 13562.031819149606, 7123.583983636818, 255.75057662217105, 142.4884885281935, 128.75690061361018, 124.81564238491707, 122.93218655956544, 122.57148782978406, 108.46538689535944, 105.47115161014912, 104.43218514171406, 102.76907271408568, 100.73885117824713, 95.99739693452858, 94.57579337886544, 93.37969682075627, 91.03123753236821, 86.0784372994451, 84.82792762100188, 81.34313409005847, 81.17201789798374, 78.8347841499333, 77.88488781044799, 76.90982081909729, 67.22880960677719, 66.43759979643315, 64.25526882595153, 63.86920293851655, 61.89567132294802, 61.728866945497835, 61.49077936915518, 60.87745562557252, 99.30198706286463, 678.6289795536904, 114.50224973737156, 796.6251029177317, 273.27849985638005, 823.0051917415561, 242.01515630494336, 256.7720243698403, 248.81157149601594, 297.88931944806603, 1188.9250778561784, 465.42500022079537, 300.06742609310675, 396.7134241390982, 1317.4827092931364, 508.3205297434857, 932.5995637736397, 3837.474933931645, 674.0523031560621, 5425.288910312438, 4840.402413248522, 1189.0653778625338, 531.4317492335679, 658.2074082027756, 487.84489940294657, 1518.4326050298707, 836.8623906667926, 606.3980442225546, 619.2610510004163, 1347.1901974244, 2846.3919573872145, 5301.784969928174, 4757.677706981899, 2376.2778841423356, 1853.641183478618, 50880.081903241386, 853.7644930676619, 2927.4350380738424, 2854.096491132413, 1691.7057764097192, 19828.43114416182, 4143.520540228462, 1969.6112691322116, 5424.864020697183, 17163.372666613708, 5771.027939357561, 602.8315049401227, 210.4946308020939, 188.47175516602817, 165.69717318938768, 157.75205440148022, 156.17334941038493, 144.68993894474218, 127.34492648999085, 118.09418898314263, 109.5003378053378, 106.87329538003753, 105.75030606320438, 95.97564465418733, 90.20271598001385, 88.98833301159534, 88.27122525417448, 87.39874748860929, 83.25829621380511, 75.87649734204386, 75.17171835883038, 75.08000347254502, 70.64854557041171, 70.12652396792365, 68.32727450130153, 66.77367698886023, 66.32988336791423, 63.21731716086062, 62.028858194493864, 61.53887822480766, 61.30204291526987, 96.35788224855057, 480.29009198047413, 264.7628934499371, 971.6506128051456, 363.78606961940346, 151.6490033304867, 1136.3470843704256, 380.8690932093542, 145.31247609128388, 1078.492328282174, 390.9791297778925, 1233.030295299114, 1706.7929996581213, 488.32435177373094, 1224.6167594465646, 442.1105097588889, 182.4178973016223, 452.3957632832724, 1553.9983258213497, 530.1047572211793, 600.6441080884222, 475.533506438678, 6868.497501761317, 1083.1228354110415, 3629.0558023309923, 584.6741618091756, 1042.9669986128024, 1019.7637329189519, 3879.6584797894247, 16628.33921026065, 1153.9673156117983, 3763.9559400356925, 1940.353874173272, 2824.5083149487323, 317.4839532745157, 260.0386706330737, 227.85006920444386, 202.70732029183455, 162.36853908583498, 193.42589414776543, 149.40885415081098, 147.16784666003974, 145.5113270988225, 121.23900288708205, 112.86682537718076, 112.47336832886896, 111.88332410409636, 98.92416759981856, 97.50659825990869, 91.70347344014394, 90.01428687860799, 87.79225171020879, 87.67877572485382, 85.7206120178708, 82.96947067413002, 82.4774067653884, 82.33217404439648, 78.19959203202033, 77.40636008142236, 76.0655200486866, 75.60156306362421, 73.34374242958775, 72.1527994318695, 71.23416545294923, 1315.035314525696, 405.32766677794075, 135.93974714704447, 99.56764809823936, 194.52908404960948, 116.97124664685515, 1686.818540110045, 3061.5182209114596, 231.09573655097404, 306.0332411605905, 273.1567087500912, 143.08077197112135, 190.3053218262681, 192.40292821839867, 301.9736538045148, 161.78999063193507, 152.3355323040295, 207.38295747211743, 266.6107173863553, 25940.988379730723, 21322.390778034194, 495.44757088547436, 2037.9578347609797], \"Category\": [\"Default\", \"Default\", \"Default\", \"Default\", \"Default\", \"Default\", \"Default\", \"Default\", \"Default\", \"Default\", \"Default\", \"Default\", \"Default\", \"Default\", \"Default\", \"Default\", \"Default\", \"Default\", \"Default\", \"Default\", \"Default\", \"Default\", \"Default\", \"Default\", \"Default\", \"Default\", \"Default\", \"Default\", \"Default\", \"Default\", \"Topic1\", \"Topic1\", \"Topic1\", \"Topic1\", \"Topic1\", \"Topic1\", \"Topic1\", \"Topic1\", \"Topic1\", \"Topic1\", \"Topic1\", \"Topic1\", \"Topic1\", \"Topic1\", \"Topic1\", \"Topic1\", \"Topic1\", \"Topic1\", \"Topic1\", \"Topic1\", \"Topic1\", \"Topic1\", \"Topic1\", \"Topic1\", \"Topic1\", \"Topic1\", \"Topic1\", \"Topic1\", \"Topic1\", \"Topic1\", \"Topic1\", \"Topic1\", \"Topic1\", \"Topic1\", \"Topic1\", \"Topic1\", \"Topic1\", \"Topic1\", \"Topic1\", \"Topic1\", \"Topic1\", \"Topic1\", \"Topic1\", \"Topic1\", \"Topic1\", \"Topic1\", \"Topic1\", \"Topic1\", \"Topic1\", \"Topic1\", \"Topic1\", \"Topic1\", \"Topic1\", \"Topic1\", \"Topic1\", \"Topic1\", \"Topic1\", \"Topic1\", \"Topic1\", \"Topic1\", \"Topic1\", \"Topic1\", \"Topic1\", \"Topic1\", \"Topic1\", \"Topic1\", \"Topic1\", \"Topic1\", \"Topic1\", \"Topic1\", \"Topic1\", \"Topic1\", \"Topic1\", \"Topic1\", \"Topic1\", \"Topic1\", \"Topic1\", \"Topic1\", \"Topic2\", \"Topic2\", \"Topic2\", \"Topic2\", \"Topic2\", \"Topic2\", \"Topic2\", \"Topic2\", \"Topic2\", \"Topic2\", \"Topic2\", \"Topic2\", \"Topic2\", \"Topic2\", \"Topic2\", \"Topic2\", \"Topic2\", \"Topic2\", \"Topic2\", \"Topic2\", \"Topic2\", \"Topic2\", \"Topic2\", \"Topic2\", \"Topic2\", \"Topic2\", \"Topic2\", \"Topic2\", \"Topic2\", \"Topic2\", \"Topic2\", \"Topic2\", \"Topic2\", \"Topic2\", \"Topic2\", \"Topic2\", \"Topic2\", \"Topic2\", \"Topic2\", \"Topic2\", \"Topic2\", \"Topic2\", \"Topic2\", \"Topic2\", \"Topic2\", \"Topic2\", \"Topic2\", \"Topic2\", \"Topic2\", \"Topic2\", \"Topic2\", \"Topic2\", \"Topic2\", \"Topic2\", \"Topic2\", \"Topic2\", \"Topic2\", \"Topic2\", \"Topic2\", \"Topic2\", \"Topic2\", \"Topic2\", \"Topic2\", \"Topic2\", \"Topic2\", \"Topic2\", \"Topic2\", \"Topic2\", \"Topic2\", \"Topic2\", \"Topic2\", \"Topic2\", \"Topic2\", \"Topic2\", \"Topic2\", \"Topic2\", \"Topic2\", \"Topic2\", \"Topic2\", \"Topic2\", \"Topic2\", \"Topic3\", \"Topic3\", \"Topic3\", \"Topic3\", \"Topic3\", \"Topic3\", \"Topic3\", \"Topic3\", \"Topic3\", \"Topic3\", \"Topic3\", \"Topic3\", \"Topic3\", \"Topic3\", \"Topic3\", \"Topic3\", \"Topic3\", \"Topic3\", \"Topic3\", \"Topic3\", \"Topic3\", \"Topic3\", \"Topic3\", \"Topic3\", \"Topic3\", \"Topic3\", \"Topic3\", \"Topic3\", \"Topic3\", \"Topic3\", \"Topic3\", \"Topic3\", \"Topic3\", \"Topic3\", \"Topic3\", \"Topic3\", \"Topic3\", \"Topic3\", \"Topic3\", \"Topic3\", \"Topic3\", \"Topic3\", \"Topic3\", \"Topic3\", \"Topic3\", \"Topic3\", \"Topic3\", \"Topic3\", \"Topic3\", \"Topic3\", \"Topic3\", \"Topic3\", \"Topic3\", \"Topic3\", \"Topic3\", \"Topic3\", \"Topic3\", \"Topic3\", \"Topic3\", \"Topic3\", \"Topic3\", \"Topic3\", \"Topic3\", \"Topic3\", \"Topic3\", \"Topic3\", \"Topic3\", \"Topic3\", \"Topic3\", \"Topic3\", \"Topic3\", \"Topic3\", \"Topic3\", \"Topic3\", \"Topic3\", \"Topic3\", \"Topic3\", \"Topic3\", \"Topic3\", \"Topic3\", \"Topic3\", \"Topic3\", \"Topic3\", \"Topic3\", \"Topic3\", \"Topic3\", \"Topic4\", \"Topic4\", \"Topic4\", \"Topic4\", \"Topic4\", \"Topic4\", \"Topic4\", \"Topic4\", \"Topic4\", \"Topic4\", \"Topic4\", \"Topic4\", \"Topic4\", \"Topic4\", \"Topic4\", \"Topic4\", \"Topic4\", \"Topic4\", \"Topic4\", \"Topic4\", \"Topic4\", \"Topic4\", \"Topic4\", \"Topic4\", \"Topic4\", \"Topic4\", \"Topic4\", \"Topic4\", \"Topic4\", \"Topic4\", \"Topic4\", \"Topic4\", \"Topic4\", \"Topic4\", \"Topic4\", \"Topic4\", \"Topic4\", \"Topic4\", \"Topic4\", \"Topic4\", \"Topic4\", \"Topic4\", \"Topic4\", \"Topic4\", \"Topic4\", \"Topic4\", \"Topic4\", \"Topic4\", \"Topic4\", \"Topic4\", \"Topic4\", \"Topic4\", \"Topic4\", \"Topic4\", \"Topic4\", \"Topic4\", \"Topic4\", \"Topic4\", \"Topic4\", \"Topic4\", \"Topic4\", \"Topic4\", \"Topic4\", \"Topic4\", \"Topic4\", \"Topic4\", \"Topic4\", \"Topic4\", \"Topic4\", \"Topic4\", \"Topic4\", \"Topic4\", \"Topic4\", \"Topic4\", \"Topic5\", \"Topic5\", \"Topic5\", \"Topic5\", \"Topic5\", \"Topic5\", \"Topic5\", \"Topic5\", \"Topic5\", \"Topic5\", \"Topic5\", \"Topic5\", \"Topic5\", \"Topic5\", \"Topic5\", \"Topic5\", \"Topic5\", \"Topic5\", \"Topic5\", \"Topic5\", \"Topic5\", \"Topic5\", \"Topic5\", \"Topic5\", \"Topic5\", \"Topic5\", \"Topic5\", \"Topic5\", \"Topic5\", \"Topic5\", \"Topic5\", \"Topic5\", \"Topic5\", \"Topic5\", \"Topic5\", \"Topic5\", \"Topic5\", \"Topic5\", \"Topic5\", \"Topic5\", \"Topic5\", \"Topic5\", \"Topic5\", \"Topic5\", \"Topic5\", \"Topic5\", \"Topic5\", \"Topic5\", \"Topic5\", \"Topic5\", \"Topic5\", \"Topic5\", \"Topic5\", \"Topic5\", \"Topic5\", \"Topic5\", \"Topic5\", \"Topic5\", \"Topic5\", \"Topic5\", \"Topic5\", \"Topic5\", \"Topic5\", \"Topic5\", \"Topic5\", \"Topic5\", \"Topic5\", \"Topic5\", \"Topic5\", \"Topic5\", \"Topic5\", \"Topic5\", \"Topic5\", \"Topic5\", \"Topic5\", \"Topic5\", \"Topic5\", \"Topic5\", \"Topic5\", \"Topic5\", \"Topic5\", \"Topic5\", \"Topic5\", \"Topic5\", \"Topic5\", \"Topic5\", \"Topic5\", \"Topic6\", \"Topic6\", \"Topic6\", \"Topic6\", \"Topic6\", \"Topic6\", \"Topic6\", \"Topic6\", \"Topic6\", \"Topic6\", \"Topic6\", \"Topic6\", \"Topic6\", \"Topic6\", \"Topic6\", \"Topic6\", \"Topic6\", \"Topic6\", \"Topic6\", \"Topic6\", \"Topic6\", \"Topic6\", \"Topic6\", \"Topic6\", \"Topic6\", \"Topic6\", \"Topic6\", \"Topic6\", \"Topic6\", \"Topic6\", \"Topic6\", \"Topic6\", \"Topic6\", \"Topic6\", \"Topic6\", \"Topic6\", \"Topic6\", \"Topic6\", \"Topic6\", \"Topic6\", \"Topic6\", \"Topic6\", \"Topic6\", \"Topic6\", \"Topic6\", \"Topic6\", \"Topic6\", \"Topic6\", \"Topic6\", \"Topic6\", \"Topic6\", \"Topic6\", \"Topic6\", \"Topic6\", \"Topic6\", \"Topic6\", \"Topic6\", \"Topic6\", \"Topic6\", \"Topic6\", \"Topic6\", \"Topic6\", \"Topic6\", \"Topic6\", \"Topic6\", \"Topic6\", \"Topic6\", \"Topic6\", \"Topic6\", \"Topic6\", \"Topic6\", \"Topic6\", \"Topic6\", \"Topic6\", \"Topic6\", \"Topic6\", \"Topic6\", \"Topic6\", \"Topic6\", \"Topic6\", \"Topic6\", \"Topic6\", \"Topic6\", \"Topic6\", \"Topic6\", \"Topic7\", \"Topic7\", \"Topic7\", \"Topic7\", \"Topic7\", \"Topic7\", \"Topic7\", \"Topic7\", \"Topic7\", \"Topic7\", \"Topic7\", \"Topic7\", \"Topic7\", \"Topic7\", \"Topic7\", \"Topic7\", \"Topic7\", \"Topic7\", \"Topic7\", \"Topic7\", \"Topic7\", \"Topic7\", \"Topic7\", \"Topic7\", \"Topic7\", \"Topic7\", \"Topic7\", \"Topic7\", \"Topic7\", \"Topic7\", \"Topic7\", \"Topic7\", \"Topic7\", \"Topic7\", \"Topic7\", \"Topic7\", \"Topic7\", \"Topic7\", \"Topic7\", \"Topic7\", \"Topic7\", \"Topic7\", \"Topic7\", \"Topic7\", \"Topic7\", \"Topic7\", \"Topic7\", \"Topic7\", \"Topic7\", \"Topic7\", \"Topic7\", \"Topic7\", \"Topic7\", \"Topic7\", \"Topic7\", \"Topic7\", \"Topic7\", \"Topic7\", \"Topic7\", \"Topic7\", \"Topic7\", \"Topic7\", \"Topic7\", \"Topic7\", \"Topic7\", \"Topic7\", \"Topic7\", \"Topic7\", \"Topic7\", \"Topic7\", \"Topic7\", \"Topic7\", \"Topic7\", \"Topic8\", \"Topic8\", \"Topic8\", \"Topic8\", \"Topic8\", \"Topic8\", \"Topic8\", \"Topic8\", \"Topic8\", \"Topic8\", \"Topic8\", \"Topic8\", \"Topic8\", \"Topic8\", \"Topic8\", \"Topic8\", \"Topic8\", \"Topic8\", \"Topic8\", \"Topic8\", \"Topic8\", \"Topic8\", \"Topic8\", \"Topic8\", \"Topic8\", \"Topic8\", \"Topic8\", \"Topic8\", \"Topic8\", \"Topic8\", \"Topic8\", \"Topic8\", \"Topic8\", \"Topic8\", \"Topic8\", \"Topic8\", \"Topic8\", \"Topic8\", \"Topic8\", \"Topic8\", \"Topic8\", \"Topic8\", \"Topic8\", \"Topic8\", \"Topic8\", \"Topic8\", \"Topic8\", \"Topic8\", \"Topic8\", \"Topic8\", \"Topic8\", \"Topic8\", \"Topic8\", \"Topic8\", \"Topic8\", \"Topic8\", \"Topic8\", \"Topic8\", \"Topic8\", \"Topic8\", \"Topic8\", \"Topic8\", \"Topic8\", \"Topic8\", \"Topic8\", \"Topic8\", \"Topic8\", \"Topic8\", \"Topic8\", \"Topic8\", \"Topic8\", \"Topic8\", \"Topic8\", \"Topic8\", \"Topic8\", \"Topic9\", \"Topic9\", \"Topic9\", \"Topic9\", \"Topic9\", \"Topic9\", \"Topic9\", \"Topic9\", \"Topic9\", \"Topic9\", \"Topic9\", \"Topic9\", \"Topic9\", \"Topic9\", \"Topic9\", \"Topic9\", \"Topic9\", \"Topic9\", \"Topic9\", \"Topic9\", \"Topic9\", \"Topic9\", \"Topic9\", \"Topic9\", \"Topic9\", \"Topic9\", \"Topic9\", \"Topic9\", \"Topic9\", \"Topic9\", \"Topic9\", \"Topic9\", \"Topic9\", \"Topic9\", \"Topic9\", \"Topic9\", \"Topic9\", \"Topic9\", \"Topic9\", \"Topic9\", \"Topic9\", \"Topic9\", \"Topic9\", \"Topic9\", \"Topic9\", \"Topic9\", \"Topic9\", \"Topic9\", \"Topic9\", \"Topic9\", \"Topic9\", \"Topic9\", \"Topic9\", \"Topic9\", \"Topic9\", \"Topic9\", \"Topic9\", \"Topic9\", \"Topic9\", \"Topic9\", \"Topic9\", \"Topic9\", \"Topic9\", \"Topic9\", \"Topic9\", \"Topic9\", \"Topic9\", \"Topic9\", \"Topic9\", \"Topic9\", \"Topic9\", \"Topic9\", \"Topic9\", \"Topic9\", \"Topic9\", \"Topic9\", \"Topic9\", \"Topic9\", \"Topic9\", \"Topic9\", \"Topic9\", \"Topic9\", \"Topic9\", \"Topic9\", \"Topic9\", \"Topic9\", \"Topic9\", \"Topic9\", \"Topic9\", \"Topic10\", \"Topic10\", \"Topic10\", \"Topic10\", \"Topic10\", \"Topic10\", \"Topic10\", \"Topic10\", \"Topic10\", \"Topic10\", \"Topic10\", \"Topic10\", \"Topic10\", \"Topic10\", \"Topic10\", \"Topic10\", \"Topic10\", \"Topic10\", \"Topic10\", \"Topic10\", \"Topic10\", \"Topic10\", \"Topic10\", \"Topic10\", \"Topic10\", \"Topic10\", \"Topic10\", \"Topic10\", \"Topic10\", \"Topic10\", \"Topic10\", \"Topic10\", \"Topic10\", \"Topic10\", \"Topic10\", \"Topic10\", \"Topic10\", \"Topic10\", \"Topic10\", \"Topic10\", \"Topic10\", \"Topic10\", \"Topic10\", \"Topic10\", \"Topic10\", \"Topic10\", \"Topic10\", \"Topic10\", \"Topic10\", \"Topic10\", \"Topic10\", \"Topic10\", \"Topic10\", \"Topic10\", \"Topic10\", \"Topic10\", \"Topic10\", \"Topic10\", \"Topic10\", \"Topic10\", \"Topic10\", \"Topic10\", \"Topic10\", \"Topic10\", \"Topic10\", \"Topic10\", \"Topic11\", \"Topic11\", \"Topic11\", \"Topic11\", \"Topic11\", \"Topic11\", \"Topic11\", \"Topic11\", \"Topic11\", \"Topic11\", \"Topic11\", \"Topic11\", \"Topic11\", \"Topic11\", \"Topic11\", \"Topic11\", \"Topic11\", \"Topic11\", \"Topic11\", \"Topic11\", \"Topic11\", \"Topic11\", \"Topic11\", \"Topic11\", \"Topic11\", \"Topic11\", \"Topic11\", \"Topic11\", \"Topic11\", \"Topic11\", \"Topic11\", \"Topic11\", \"Topic11\", \"Topic11\", \"Topic11\", \"Topic11\", \"Topic11\", \"Topic11\", \"Topic11\", \"Topic11\", \"Topic11\", \"Topic11\", \"Topic11\", \"Topic11\", \"Topic11\", \"Topic11\", \"Topic11\", \"Topic11\", \"Topic11\", \"Topic11\", \"Topic11\", \"Topic11\", \"Topic11\", \"Topic11\", \"Topic11\", \"Topic11\", \"Topic11\", \"Topic11\", \"Topic11\", \"Topic11\", \"Topic11\", \"Topic11\", \"Topic11\", \"Topic11\", \"Topic11\", \"Topic11\", \"Topic11\", \"Topic11\", \"Topic11\", \"Topic11\", \"Topic11\", \"Topic11\", \"Topic11\", \"Topic11\", \"Topic11\", \"Topic12\", \"Topic12\", \"Topic12\", \"Topic12\", \"Topic12\", \"Topic12\", \"Topic12\", \"Topic12\", \"Topic12\", \"Topic12\", \"Topic12\", \"Topic12\", \"Topic12\", \"Topic12\", \"Topic12\", \"Topic12\", \"Topic12\", \"Topic12\", \"Topic12\", \"Topic12\", \"Topic12\", \"Topic12\", \"Topic12\", \"Topic12\", \"Topic12\", \"Topic12\", \"Topic12\", \"Topic12\", \"Topic12\", \"Topic12\", \"Topic12\", \"Topic12\", \"Topic12\", \"Topic12\", \"Topic12\", \"Topic12\", \"Topic12\", \"Topic12\", \"Topic12\", \"Topic12\", \"Topic12\", \"Topic12\", \"Topic12\", \"Topic12\", \"Topic12\", \"Topic12\", \"Topic12\", \"Topic12\", \"Topic12\", \"Topic12\", \"Topic12\", \"Topic12\", \"Topic12\", \"Topic12\", \"Topic12\", \"Topic12\", \"Topic12\", \"Topic12\", \"Topic12\", \"Topic12\", \"Topic12\", \"Topic12\", \"Topic12\", \"Topic12\", \"Topic12\", \"Topic12\", \"Topic12\", \"Topic12\", \"Topic12\", \"Topic12\", \"Topic12\", \"Topic12\", \"Topic13\", \"Topic13\", \"Topic13\", \"Topic13\", \"Topic13\", \"Topic13\", \"Topic13\", \"Topic13\", \"Topic13\", \"Topic13\", \"Topic13\", \"Topic13\", \"Topic13\", \"Topic13\", \"Topic13\", \"Topic13\", \"Topic13\", \"Topic13\", \"Topic13\", \"Topic13\", \"Topic13\", \"Topic13\", \"Topic13\", \"Topic13\", \"Topic13\", \"Topic13\", \"Topic13\", \"Topic13\", \"Topic13\", \"Topic13\", \"Topic13\", \"Topic13\", \"Topic13\", \"Topic13\", \"Topic13\", \"Topic13\", \"Topic13\", \"Topic13\", \"Topic13\", \"Topic13\", \"Topic13\", \"Topic13\", \"Topic13\", \"Topic13\", \"Topic13\", \"Topic13\", \"Topic13\", \"Topic13\", \"Topic13\", \"Topic13\", \"Topic13\", \"Topic13\", \"Topic13\", \"Topic13\", \"Topic13\", \"Topic13\", \"Topic13\", \"Topic13\", \"Topic13\", \"Topic13\", \"Topic13\", \"Topic13\", \"Topic13\", \"Topic13\", \"Topic13\", \"Topic13\", \"Topic13\", \"Topic13\", \"Topic13\", \"Topic13\", \"Topic13\", \"Topic13\", \"Topic13\", \"Topic13\", \"Topic13\", \"Topic13\", \"Topic14\", \"Topic14\", \"Topic14\", \"Topic14\", \"Topic14\", \"Topic14\", \"Topic14\", \"Topic14\", \"Topic14\", \"Topic14\", \"Topic14\", \"Topic14\", \"Topic14\", \"Topic14\", \"Topic14\", \"Topic14\", \"Topic14\", \"Topic14\", \"Topic14\", \"Topic14\", \"Topic14\", \"Topic14\", \"Topic14\", \"Topic14\", \"Topic14\", \"Topic14\", \"Topic14\", \"Topic14\", \"Topic14\", \"Topic14\", \"Topic14\", \"Topic14\", \"Topic14\", \"Topic14\", \"Topic14\", \"Topic14\", \"Topic14\", \"Topic14\", \"Topic14\", \"Topic14\", \"Topic14\", \"Topic14\", \"Topic14\", \"Topic14\", \"Topic14\", \"Topic14\", \"Topic14\", \"Topic14\", \"Topic14\", \"Topic14\", \"Topic14\", \"Topic14\", \"Topic14\", \"Topic14\", \"Topic14\", \"Topic14\", \"Topic14\", \"Topic14\", \"Topic14\", \"Topic14\", \"Topic14\", \"Topic14\", \"Topic14\", \"Topic14\", \"Topic15\", \"Topic15\", \"Topic15\", \"Topic15\", \"Topic15\", \"Topic15\", \"Topic15\", \"Topic15\", \"Topic15\", \"Topic15\", \"Topic15\", \"Topic15\", \"Topic15\", \"Topic15\", \"Topic15\", \"Topic15\", \"Topic15\", \"Topic15\", \"Topic15\", \"Topic15\", \"Topic15\", \"Topic15\", \"Topic15\", \"Topic15\", \"Topic15\", \"Topic15\", \"Topic15\", \"Topic15\", \"Topic15\", \"Topic15\", \"Topic15\", \"Topic15\", \"Topic15\", \"Topic15\", \"Topic15\", \"Topic15\", \"Topic15\", \"Topic15\", \"Topic15\", \"Topic15\", \"Topic15\", \"Topic15\", \"Topic15\", \"Topic15\", \"Topic15\", \"Topic15\", \"Topic15\", \"Topic15\", \"Topic15\", \"Topic15\", \"Topic15\", \"Topic15\", \"Topic15\"], \"logprob\": [30.0, 29.0, 28.0, 27.0, 26.0, 25.0, 24.0, 23.0, 22.0, 21.0, 20.0, 19.0, 18.0, 17.0, 16.0, 15.0, 14.0, 13.0, 12.0, 11.0, 10.0, 9.0, 8.0, 7.0, 6.0, 5.0, 4.0, 3.0, 2.0, 1.0, -6.691, -6.9842, -7.236, -4.7245, -7.3462, -7.3774, -7.4062, -7.4847, -7.6827, -7.9422, -8.0509, -8.1022, -8.1132, -7.1841, -8.244, -6.0748, -8.3479, -8.3489, -8.4033, -8.4432, -8.4669, -8.5357, -8.5655, -8.6577, -8.7019, -7.3306, -8.7145, -8.7711, -8.7788, -8.7796, -5.2424, -6.7599, -4.6178, -5.6873, -7.394, -5.1308, -6.3007, -4.8267, -6.0595, -6.0195, -4.9221, -5.0656, -5.9462, -6.0648, -4.9189, -5.6152, -6.8362, -4.4117, -6.2278, -5.7555, -4.7936, -5.4088, -3.5232, -3.9208, -5.6708, -4.6285, -5.0533, -5.5184, -3.7212, -3.073, -4.6388, -4.8553, -3.7882, -5.0721, -4.6934, -4.0897, -5.0446, -4.0245, -4.3649, -4.792, -4.1687, -4.4202, -4.6228, -4.3387, -4.6634, -4.6916, -4.9491, -5.0629, -7.6273, -7.6938, -7.915, -7.9718, -7.9881, -7.9897, -8.0091, -8.0092, -8.0139, -8.0391, -8.1452, -8.1613, -8.3522, -8.3942, -8.4471, -8.4577, -8.4844, -8.4893, -8.5084, -8.5249, -8.5717, -8.5986, -8.6227, -8.6663, -8.7328, -8.7497, -8.8085, -8.828, -8.8298, -8.8421, -6.452, -6.6737, -7.6757, -8.2259, -5.3005, -7.5524, -6.2483, -7.6312, -4.9486, -5.9554, -4.4805, -3.719, -5.3974, -5.2859, -7.3207, -6.6509, -5.1692, -6.7685, -5.03, -5.8164, -3.478, -4.8069, -4.2954, -5.3754, -3.5005, -3.9977, -4.8573, -4.264, -4.9781, -6.5148, -3.8803, -4.3664, -4.4805, -4.5431, -4.7472, -4.9455, -4.9534, -4.1641, -3.8232, -4.444, -4.9149, -4.2854, -4.0849, -4.6436, -4.6155, -4.4125, -4.9968, -4.6664, -4.7667, -4.7364, -4.8512, -6.8103, -7.4237, -7.9363, -8.082, -7.4542, -8.3779, -8.4101, -8.4398, -8.4965, -8.5534, -8.5688, -8.5812, -8.6795, -8.7068, -8.7182, -8.7454, -8.7739, -8.8147, -8.9145, -8.9275, -8.9719, -8.9782, -8.9992, -9.009, -9.0349, -9.0661, -5.0097, -9.0852, -7.1261, -9.1969, -5.4356, -8.6619, -8.6418, -8.1225, -6.7347, -8.0412, -7.0165, -5.9842, -6.5824, -5.8565, -4.7447, -6.5654, -6.5265, -5.1974, -5.8869, -6.563, -6.6197, -6.4683, -4.2777, -5.5178, -4.7933, -4.6843, -5.238, -4.7305, -5.4521, -4.3304, -4.9915, -3.4156, -4.1735, -4.0769, -3.7035, -4.8467, -4.5507, -3.8855, -5.5148, -3.3988, -4.1289, -4.5704, -5.0828, -5.2163, -5.0672, -4.2179, -5.0692, -4.4092, -4.2996, -4.5782, -5.0261, -4.8378, -4.9041, -4.7115, -4.8517, -4.8458, -4.9343, -5.0035, -4.9696, -4.9835, -4.4377, -6.9755, -7.0618, -7.3373, -7.557, -7.7787, -7.7846, -7.8657, -7.9047, -8.1096, -8.0592, -8.2914, -8.3131, -8.3916, -8.4027, -8.4764, -8.6906, -8.7321, -8.6113, -7.5835, -8.5073, -7.3997, -9.0304, -9.0689, -9.183, -9.1936, -9.218, -9.2743, -9.3241, -9.3569, -4.8743, -6.3738, -8.6882, -3.3824, -6.4206, -7.1638, -2.9555, -5.2968, -4.3827, -4.6012, -5.8575, -5.0772, -6.2468, -4.245, -6.8688, -4.0844, -4.2526, -4.9706, -4.7532, -6.4326, -3.3653, -4.5946, -5.501, -4.843, -5.1402, -4.8344, -5.8598, -3.7601, -4.4966, -5.6295, -4.2099, -4.6901, -5.0693, -4.0139, -4.8941, -4.0777, -4.0907, -4.4055, -3.9683, -4.4533, -4.8074, -5.0048, -4.9569, -5.0381, -6.1455, -6.5514, -7.3502, -7.4131, -7.4653, -7.5081, -7.5259, -7.4318, -7.6848, -7.6924, -7.7107, -7.718, -7.7211, -7.7906, -7.5587, -7.8037, -7.8503, -7.9105, -7.9221, -7.961, -7.9686, -8.0086, -7.9962, -8.0181, -8.0213, -8.0409, -8.047, -8.0504, -7.9949, -8.0622, -5.7651, -7.2229, -7.5471, -7.3265, -6.2082, -6.7334, -7.8649, -5.1566, -6.9225, -5.8594, -6.9734, -5.6291, -7.1628, -6.2701, -5.6065, -4.2521, -5.3107, -5.7029, -6.4291, -7.2079, -5.0192, -6.5112, -5.6487, -5.8694, -5.2691, -3.8616, -6.338, -5.6096, -5.809, -5.4008, -6.1422, -5.1855, -5.4037, -5.2891, -4.3771, -5.8882, -5.1532, -5.1611, -5.2238, -5.6, -4.9727, -5.3438, -4.7182, -4.6943, -4.8897, -5.0675, -5.079, -5.0037, -4.9215, -5.0093, -5.2374, -5.2976, -5.3888, -5.4241, -5.5032, -5.5459, -5.5389, -5.4988, -6.527, -6.72, -6.907, -7.0637, -7.3451, -7.4679, -7.5633, -7.5937, -7.6178, -7.6233, -7.6494, -7.737, -7.7549, -7.7902, -7.7957, -7.7985, -7.8489, -7.8493, -8.0119, -8.0459, -8.0683, -8.1628, -6.0775, -8.1865, -8.2038, -8.2056, -8.2525, -8.3221, -8.3259, -6.7451, -6.96, -5.7185, -6.4969, -6.839, -7.803, -5.9497, -5.2332, -6.0229, -6.2897, -5.9119, -5.7625, -4.9654, -6.7052, -6.8734, -5.107, -5.764, -5.285, -5.8184, -6.2341, -6.8608, -4.6586, -5.4772, -5.5334, -6.1808, -6.3144, -3.415, -5.6771, -4.4177, -5.0972, -4.6194, -5.0659, -5.0592, -4.9394, -3.6254, -5.3621, -5.395, -4.1791, -5.0848, -4.4736, -4.953, -5.2345, -5.1435, -5.2792, -5.287, -4.9897, -5.2765, -4.8401, -4.9125, -5.1212, -5.1974, -5.1869, -5.179, -5.2062, -5.2261, -3.6439, -6.3, -7.1791, -7.3036, -7.3605, -7.4426, -7.5498, -7.5852, -7.6677, -7.8087, -7.8132, -7.8582, -7.9047, -7.9697, -7.9952, -8.0627, -8.0822, -8.1275, -8.136, -8.1404, -8.17, -8.1857, -8.2332, -8.2848, -8.2931, -8.2958, -8.3097, -8.3195, -8.3444, -8.4023, -5.4638, -5.2113, -3.2803, -5.8652, -5.3591, -7.2579, -6.2662, -6.8807, -6.0103, -3.1522, -4.9773, -3.9793, -3.1275, -5.4064, -5.1091, -3.6785, -5.7613, -3.7195, -5.2299, -3.9384, -4.8826, -3.4315, -4.8386, -5.6703, -4.7163, -3.6562, -4.1167, -3.8209, -4.8002, -4.1084, -4.3299, -4.1754, -4.501, -3.9742, -4.9024, -4.5972, -4.1677, -3.9367, -5.0643, -4.6278, -4.8805, -4.8837, -4.8449, -4.6781, -5.5753, -5.7929, -5.8754, -6.0481, -6.1403, -6.5265, -6.8803, -6.954, -7.0208, -7.0358, -7.1721, -7.2222, -7.2503, -7.4177, -7.435, -7.4846, -7.4913, -7.5006, -7.514, -7.5518, -7.5765, -7.6979, -7.7001, -7.7118, -7.7494, -7.8632, -7.8654, -7.873, -7.8981, -3.3542, -3.5154, -5.6386, -5.5725, -6.3769, -6.0744, -3.9483, -3.6481, -6.4202, -5.8981, -6.4933, -6.8592, -4.4519, -4.8578, -5.1862, -6.804, -5.6219, -3.2801, -3.5853, -4.6871, -5.5882, -4.3867, -5.6629, -5.078, -5.3655, -4.67, -5.4138, -4.7859, -5.519, -4.3587, -4.6612, -4.7359, -5.4399, -5.043, -5.1836, -4.8781, -5.4402, -4.9158, -4.9872, -5.1068, -5.358, -5.1272, -5.3538, -5.3867, -5.4049, -6.5186, -6.6732, -6.7888, -6.7922, -6.7948, -6.9298, -6.9861, -7.0361, -7.0488, -7.0702, -7.076, -7.0833, -7.1066, -7.1115, -7.1157, -7.1291, -7.153, -7.157, -7.1606, -7.1839, -7.2337, -7.276, -7.2844, -7.3818, -7.3933, -7.3953, -7.397, -7.3965, -7.4118, -7.4206, -6.7816, -6.6277, -6.3927, -6.7422, -6.5525, -7.0016, -6.5912, -5.4019, -6.0299, -6.562, -6.2601, -6.0796, -6.2564, -6.2252, -5.9836, -5.2966, -5.1688, -6.6471, -5.1037, -6.246, -6.2316, -6.5592, -6.1725, -5.4508, -6.1122, -6.3179, -5.0388, -5.607, -6.1763, -6.2477, -4.7279, -5.4793, -5.3997, -5.0738, -6.1077, -5.076, -5.2692, -5.3993, -5.0805, -5.2807, -5.6024, -5.0646, -5.5338, -5.663, -5.6553, -5.8075, -6.0185, -5.4, -5.518, -5.8306, -5.6736, -5.5178, -5.5247, -5.7672, -5.7396, -5.7659, -5.7068, -5.7438, -5.7376, -4.7219, -4.8016, -4.836, -4.8791, -5.0104, -5.4211, -6.1553, -6.2672, -6.4014, -6.529, -6.9376, -7.0659, -7.2678, -7.3908, -7.5356, -7.5364, -7.5989, -7.5998, -7.6895, -7.7295, -7.7306, -7.7506, -7.8419, -7.8684, -7.8715, -7.9045, -8.0095, -8.022, -8.0673, -8.073, -4.892, -2.6805, -3.5676, -5.6793, -5.6846, -5.9018, -3.7206, -5.2109, -5.0431, -4.7722, -3.4077, -4.5825, -5.3903, -3.502, -3.1358, -5.2298, -6.6554, -4.6106, -6.4939, -5.1397, -5.9318, -5.7563, -3.0541, -4.7316, -3.4793, -3.8176, -4.0969, -4.6561, -4.8241, -4.311, -5.0482, -4.632, -5.0503, -4.8209, -4.9793, -5.0567, -4.2994, -5.4152, -6.1241, -6.1251, -6.2707, -6.4256, -5.6374, -6.6721, -6.6879, -6.7682, -6.7925, -6.8388, -6.8698, -6.8914, -6.8998, -6.9019, -6.9243, -6.9283, -6.9598, -6.9643, -6.9777, -7.0049, -7.0619, -7.0682, -7.1388, -7.1467, -7.1526, -7.2106, -7.2668, -7.2708, -4.1473, -5.7415, -6.1065, -4.4127, -5.3473, -4.7513, -3.2706, -4.9927, -4.1003, -5.1832, -5.1226, -4.8263, -5.8615, -5.5143, -6.4935, -5.9755, -5.6058, -5.8591, -5.3841, -4.8496, -4.8345, -5.9735, -5.6255, -6.0937, -5.2932, -4.8573, -5.0926, -5.0895, -4.4014, -4.4927, -3.3202, -4.2216, -5.4159, -4.8865, -3.9149, -4.4561, -5.3382, -5.1974, -5.1935, -5.1369, -4.7518, -4.8718, -5.1942, -5.2221, -5.2206, -4.9294, -5.5985, -4.9447, -6.2529, -6.4418, -6.6684, -6.7212, -6.7363, -6.7522, -6.7853, -6.7888, -6.8972, -7.1026, -7.1894, -7.2776, -7.3149, -7.3312, -7.3672, -7.3918, -7.4281, -7.4491, -7.466, -7.4683, -7.4978, -7.5068, -7.5185, -7.5457, -7.5633, -7.5794, -7.5851, -3.2942, -5.903, -5.988, -6.3054, -4.6275, -5.4821, -4.7182, -5.1559, -5.4954, -4.2541, -5.6239, -3.4463, -5.7252, -3.9599, -4.7516, -4.2365, -4.9864, -5.1358, -4.0261, -4.9573, -4.823, -3.6338, -5.2129, -5.5452, -5.5118, -3.5868, -4.7572, -5.0414, -3.8312, -4.9046, -4.2169, -4.7335, -4.7292, -5.0531, -4.5403, -4.5876, -4.9192, -4.5166, -4.8417, -4.9704, -4.9111, -4.9645, -5.7842, -6.3721, -6.4742, -6.5055, -6.5209, -6.5238, -6.6471, -6.6754, -6.6854, -6.7016, -6.7217, -6.7704, -6.7855, -6.7984, -6.8241, -6.8807, -6.8955, -6.9379, -6.9401, -6.9696, -6.9819, -6.9947, -7.131, -7.1431, -7.177, -7.1831, -7.215, -7.2177, -7.2216, -7.2318, -6.7587, -4.9299, -6.6311, -4.8125, -5.847, -4.9382, -6.0322, -5.9859, -6.0327, -5.9059, -4.8172, -5.6088, -5.9446, -5.7352, -4.8905, -5.5988, -5.186, -4.2226, -5.4236, -3.992, -4.1801, -5.0935, -5.6254, -5.5103, -5.7204, -5.0341, -5.4119, -5.6185, -5.6234, -5.2025, -4.9094, -4.6457, -4.8895, -5.1718, -5.2671, -4.175, -5.5656, -5.2748, -5.2811, -5.4275, -4.9945, -5.2862, -5.4623, -5.3599, -5.3371, -5.4532, -4.514, -5.5689, -5.68, -5.8095, -5.8589, -5.869, -5.9459, -6.0745, -6.1508, -6.2267, -6.2512, -6.2619, -6.3598, -6.4225, -6.4362, -6.4444, -6.4545, -6.5035, -6.5976, -6.607, -6.6082, -6.6699, -6.6774, -6.7038, -6.7271, -6.7339, -6.7827, -6.8019, -6.81, -6.8139, -6.4086, -5.0329, -5.5461, -4.439, -5.2919, -6.0441, -4.3791, -5.3314, -6.1069, -4.5617, -5.3717, -4.5724, -4.3518, -5.2631, -4.6289, -5.4025, -5.9738, -5.417, -4.6534, -5.3384, -5.2988, -5.4378, -4.1503, -5.1162, -4.5408, -5.4599, -5.2133, -5.3405, -5.0639, -4.8035, -5.4516, -5.3431, -5.4682, -5.466, -4.7054, -4.9057, -5.0383, -5.1558, -5.3789, -5.2041, -5.4626, -5.4778, -5.4892, -5.673, -5.7452, -5.7487, -5.754, -5.8783, -5.8928, -5.9548, -5.9736, -5.9989, -6.0002, -6.023, -6.0561, -6.0621, -6.0639, -6.116, -6.1263, -6.144, -6.1502, -6.1809, -6.1975, -6.2105, -3.4294, -4.6462, -5.6288, -5.9087, -5.3448, -5.7922, -3.6622, -3.3727, -5.31, -5.2043, -5.3236, -5.7169, -5.5598, -5.6121, -5.4264, -5.7425, -5.7726, -5.7131, -5.6748, -4.9675, -5.6086, -5.7279, -5.7324], \"loglift\": [30.0, 29.0, 28.0, 27.0, 26.0, 25.0, 24.0, 23.0, 22.0, 21.0, 20.0, 19.0, 18.0, 17.0, 16.0, 15.0, 14.0, 13.0, 12.0, 11.0, 10.0, 9.0, 8.0, 7.0, 6.0, 5.0, 4.0, 3.0, 2.0, 1.0, 2.0827, 2.0818, 2.0809, 2.0806, 2.0804, 2.0802, 2.0801, 2.0797, 2.0785, 2.0765, 2.0756, 2.0751, 2.075, 2.0739, 2.0735, 2.0731, 2.0723, 2.0723, 2.0715, 2.071, 2.0707, 2.0696, 2.0692, 2.0676, 2.0669, 2.0667, 2.0666, 2.0656, 2.0654, 2.0654, 2.0313, 2.0343, 1.9816, 1.9979, 2.0364, 1.9607, 1.9921, 1.9215, 1.9717, 1.9671, 1.9027, 1.836, 1.8882, 1.8733, 1.7382, 1.7973, 1.9321, 1.6324, 1.848, 1.7698, 1.6119, 1.6853, 1.3124, 1.3863, 1.7259, 1.4549, 1.5274, 1.6506, 1.1075, 0.8471, 1.2658, 1.3202, 0.6852, 1.3502, 1.121, 0.7, 1.3152, 0.5862, 0.7361, 1.0529, 0.4284, 0.6182, 0.782, 0.255, 0.568, 0.2046, 0.6579, -0.5085, 2.1578, 2.1574, 2.1556, 2.155, 2.1549, 2.1549, 2.1547, 2.1547, 2.1546, 2.1544, 2.1532, 2.1531, 2.1506, 2.1501, 2.1493, 2.1491, 2.1487, 2.1486, 2.1483, 2.148, 2.1473, 2.1468, 2.1464, 2.1456, 2.1443, 2.1439, 2.1427, 2.1422, 2.1422, 2.1419, 2.1188, 2.1098, 2.1279, 2.1191, 1.9603, 2.0639, 1.9599, 2.066, 1.7713, 1.8544, 1.6687, 1.5172, 1.7355, 1.6707, 1.9706, 1.8575, 1.5509, 1.8503, 1.4974, 1.6558, 1.1191, 1.4131, 1.2833, 1.5365, 1.0538, 1.1773, 1.3912, 1.17, 1.3218, 1.7517, 0.9821, 1.1214, 1.1332, 1.1245, 1.1643, 1.2328, 1.2254, 0.9369, 0.8095, 0.9711, 1.2007, 0.7213, 0.5258, 0.828, 0.7304, 0.1812, 1.1546, 0.372, 0.5455, -0.8164, -0.3778, 2.1743, 2.1717, 2.1679, 2.1665, 2.1636, 2.1628, 2.1623, 2.1618, 2.161, 2.16, 2.1597, 2.1595, 2.1577, 2.1572, 2.1569, 2.1564, 2.1558, 2.1549, 2.1526, 2.1523, 2.1511, 2.151, 2.1504, 2.1502, 2.1495, 2.1486, 2.1484, 2.148, 2.1473, 2.1446, 2.1157, 2.1404, 2.1383, 2.1221, 2.0622, 2.1098, 2.0177, 1.9178, 1.959, 1.8883, 1.7892, 1.9499, 1.9405, 1.8068, 1.8661, 1.9363, 1.9209, 1.8542, 1.5095, 1.689, 1.5493, 1.4945, 1.5535, 1.4208, 1.5683, 1.3372, 1.4544, 1.0845, 1.2541, 1.1544, 0.9072, 1.2775, 1.1553, 0.9042, 1.4692, 0.5213, 0.8454, 1.0365, 1.2353, 1.3009, 1.1572, 0.6177, 1.1005, 0.4458, 0.2941, 0.2842, 0.9024, 0.4744, 0.4419, -0.2381, -0.2546, -0.2914, 0.0725, 0.4681, -0.0734, 0.0549, 2.2569, 2.2539, 2.2535, 2.2522, 2.2507, 2.2491, 2.249, 2.2482, 2.2479, 2.2457, 2.2448, 2.2433, 2.243, 2.2418, 2.2416, 2.2404, 2.2363, 2.2354, 2.2352, 2.235, 2.2345, 2.233, 2.2278, 2.2266, 2.2229, 2.2226, 2.2217, 2.2197, 2.2177, 2.2164, 2.2011, 2.1979, 2.2149, 2.153, 2.1906, 2.1877, 2.064, 2.1134, 2.0453, 2.0257, 2.0877, 2.0412, 2.0525, 1.8045, 2.0797, 1.7301, 1.746, 1.831, 1.7952, 2.0076, 1.5309, 1.6937, 1.842, 1.7258, 1.6737, 1.5941, 1.7662, 1.095, 1.3295, 1.6758, 1.0972, 1.1548, 1.2301, 0.5798, 1.1153, 0.4224, 0.3827, 0.4232, -0.0483, 0.1793, -0.0177, 0.7824, 0.1441, -0.2026, 2.304, 2.3031, 2.2999, 2.2995, 2.2992, 2.2989, 2.2988, 2.2986, 2.2976, 2.2974, 2.2974, 2.2973, 2.2973, 2.2967, 2.2966, 2.2965, 2.2961, 2.2955, 2.2954, 2.295, 2.2949, 2.2944, 2.2944, 2.2943, 2.2943, 2.2941, 2.294, 2.2939, 2.2939, 2.2938, 2.2721, 2.2862, 2.284, 2.2673, 2.183, 2.2041, 2.2837, 2.0481, 2.189, 2.0698, 2.17, 1.9756, 2.1769, 2.0046, 1.7816, 1.3393, 1.6325, 1.729, 1.9052, 2.137, 1.4031, 1.8701, 1.538, 1.619, 1.3621, 0.771, 1.7912, 1.4284, 1.52, 1.3179, 1.6758, 1.1744, 1.2584, 1.1829, 0.4853, 1.4672, 0.9435, 0.9474, 0.7855, 1.0571, 0.3732, 0.7718, -0.1245, -0.2209, -0.0346, 0.1686, 0.1632, 0.003, -0.3108, -0.4122, -0.0624, 0.0146, 0.1692, 0.1896, -0.0881, 0.6448, 0.5105, 2.3598, 2.3581, 2.3575, 2.3569, 2.3562, 2.3547, 2.3538, 2.3531, 2.3529, 2.3527, 2.3527, 2.3524, 2.3517, 2.3515, 2.3512, 2.3511, 2.3511, 2.3506, 2.3506, 2.3488, 2.3483, 2.3481, 2.3468, 2.3466, 2.3465, 2.3462, 2.3462, 2.3455, 2.3444, 2.3444, 2.3091, 2.295, 2.2219, 2.2462, 2.2671, 2.3223, 2.1731, 2.0692, 2.1415, 2.1453, 2.0944, 2.0365, 1.9038, 2.1544, 2.1847, 1.8395, 1.9546, 1.8548, 1.9519, 2.0366, 2.1668, 1.5931, 1.8087, 1.8052, 1.977, 2.0124, 1.0851, 1.8003, 1.3414, 1.5684, 1.2528, 1.4514, 1.4284, 1.3486, 0.2947, 1.4194, 1.3874, 0.3753, 1.0399, 0.4227, 0.8098, 1.0837, 0.9296, 1.0105, 0.9944, 0.3226, 0.8991, -0.243, -0.0769, 0.1704, 0.4163, 0.2179, 0.1281, -0.3775, -0.1877, 2.6607, 2.6579, 2.6537, 2.6528, 2.6523, 2.6516, 2.6506, 2.6502, 2.6493, 2.6475, 2.6475, 2.6469, 2.6462, 2.6452, 2.6448, 2.6437, 2.6434, 2.6426, 2.6424, 2.6423, 2.6418, 2.6415, 2.6405, 2.6395, 2.6393, 2.6392, 2.639, 2.6387, 2.6382, 2.6368, 2.5839, 2.5419, 2.1965, 2.3738, 2.305, 2.5093, 2.3471, 2.4015, 2.2339, 1.6765, 1.9904, 1.7267, 1.4269, 1.9561, 1.8651, 1.2958, 1.9518, 1.2872, 1.7783, 1.2929, 1.6148, 1.0418, 1.5549, 1.8653, 1.4421, 0.9764, 1.1255, 0.9689, 1.4242, 0.9926, 1.0976, 0.9996, 1.0571, 0.6229, 1.3339, 0.9816, 0.4259, -0.0167, 1.4689, -0.0171, 0.5911, 0.4079, 0.0175, 2.9809, 2.9798, 2.9793, 2.9791, 2.9786, 2.9783, 2.9766, 2.9745, 2.9739, 2.9734, 2.9733, 2.972, 2.9715, 2.9712, 2.9693, 2.9691, 2.9685, 2.9684, 2.9683, 2.9681, 2.9676, 2.9672, 2.9654, 2.9653, 2.9651, 2.9645, 2.9624, 2.9624, 2.9623, 2.9618, 2.7202, 2.7135, 2.8426, 2.8292, 2.8514, 2.804, 2.5849, 2.5334, 2.8359, 2.7344, 2.8157, 2.8582, 2.3641, 2.4404, 2.4563, 2.8248, 2.4582, 1.6942, 1.6569, 1.9743, 2.3333, 1.738, 2.3319, 1.9857, 2.1036, 1.5207, 1.9893, 1.3064, 1.9585, 0.6481, 0.6305, 0.7409, 1.8218, 0.7198, 1.0889, 0.1415, 1.7314, -0.3221, -0.1974, 0.2054, 1.3214, -0.0888, 0.9341, 0.3193, -0.7723, 3.0455, 3.0446, 3.0438, 3.0438, 3.0438, 3.0427, 3.0423, 3.0418, 3.0417, 3.0415, 3.0415, 3.0414, 3.0412, 3.0411, 3.0411, 3.041, 3.0407, 3.0407, 3.0406, 3.0404, 3.0399, 3.0394, 3.0393, 3.0381, 3.038, 3.0379, 3.0379, 3.0378, 3.0377, 3.0376, 3.0262, 3.0139, 2.7642, 2.8627, 2.8013, 2.9148, 2.7792, 2.38, 2.5355, 2.7466, 2.6059, 2.5207, 2.5945, 2.5665, 2.425, 2.0168, 1.8947, 2.7473, 1.7573, 2.4796, 2.448, 2.6736, 2.3896, 1.8448, 2.3225, 2.4699, 1.2427, 1.773, 2.3184, 2.3775, 0.5637, 1.3782, 1.2663, 0.8123, 2.1647, 0.6831, 0.9584, 1.0716, 0.5332, 0.7924, 1.3218, 0.2476, 1.071, 1.2813, 1.247, 1.4796, 1.971, -0.1639, 0.04, 1.1591, 0.4419, -0.6554, -1.0246, 0.3413, 0.0232, 0.2434, -1.1131, -0.3098, -0.7308, 3.0762, 3.0761, 3.0761, 3.076, 3.0759, 3.0753, 3.0732, 3.0728, 3.0722, 3.0715, 3.0686, 3.0675, 3.0654, 3.0638, 3.0618, 3.0618, 3.0608, 3.0608, 3.0592, 3.0585, 3.0585, 3.0581, 3.0563, 3.0558, 3.0557, 3.055, 3.0526, 3.0523, 3.0511, 3.051, 2.9499, 2.8376, 2.8596, 2.9496, 2.9389, 2.9431, 2.8034, 2.8757, 2.7903, 2.7352, 2.5741, 2.6681, 2.7599, 2.4026, 2.269, 2.6021, 2.8614, 2.2438, 2.8091, 2.2468, 2.5624, 2.4409, 0.8659, 1.8316, 0.9941, 1.2208, 0.7386, 1.2665, 1.3344, 0.5441, 1.4492, -0.0383, 1.4282, -0.0312, 0.5085, 0.5221, 3.3649, 3.3632, 3.3607, 3.3607, 3.3599, 3.3589, 3.3587, 3.357, 3.3569, 3.3562, 3.3559, 3.3555, 3.3551, 3.3549, 3.3548, 3.3548, 3.3546, 3.3545, 3.3542, 3.3541, 3.354, 3.3536, 3.3529, 3.3529, 3.3519, 3.3518, 3.3517, 3.3509, 3.3501, 3.35, 3.3019, 3.3253, 3.2907, 3.1053, 3.191, 3.0895, 2.8736, 3.0761, 2.9386, 3.0913, 3.0802, 3.0348, 3.1719, 3.0926, 3.2759, 3.1623, 3.0768, 3.1133, 2.9941, 2.8248, 2.795, 3.127, 3.0216, 3.1556, 2.8274, 2.6236, 2.7149, 2.6801, 2.2641, 2.3043, 1.5349, 2.0667, 2.8517, 2.3957, 1.4898, 1.7709, 2.5778, 2.2845, 2.1495, 1.9171, 0.1106, 0.1666, 1.6074, 1.7733, 1.4685, 3.407, 3.406, 3.4053, 3.4031, 3.4019, 3.4001, 3.3996, 3.3994, 3.3993, 3.399, 3.3989, 3.3978, 3.3952, 3.394, 3.3926, 3.3919, 3.3917, 3.391, 3.3906, 3.3899, 3.3895, 3.3892, 3.3891, 3.3885, 3.3884, 3.3881, 3.3875, 3.3872, 3.3868, 3.3867, 3.3244, 3.3477, 3.3444, 3.3468, 3.2725, 3.2873, 3.2078, 3.1958, 3.2138, 3.0378, 3.155, 2.7807, 3.0686, 2.7061, 2.8563, 2.7376, 2.8795, 2.8915, 2.5862, 2.8117, 2.746, 2.2888, 2.7712, 2.8845, 2.8321, 1.8472, 2.344, 2.321, 1.1755, 2.0757, 1.0192, 1.515, 1.5071, 1.951, 0.6347, 0.7246, 1.6083, 0.1161, 0.5734, 1.2079, 0.3312, 0.9216, 3.4289, 3.4258, 3.4251, 3.4249, 3.4248, 3.4247, 3.4237, 3.4234, 3.4233, 3.4232, 3.423, 3.4225, 3.4224, 3.4222, 3.422, 3.4213, 3.4212, 3.4207, 3.4206, 3.4203, 3.4201, 3.42, 3.4181, 3.4179, 3.4174, 3.4173, 3.4168, 3.4168, 3.4167, 3.4166, 3.4004, 3.3073, 3.3856, 3.2644, 3.2998, 3.1061, 3.236, 3.2232, 3.2079, 3.1546, 2.8593, 3.0055, 3.1086, 3.0389, 2.6832, 2.9274, 2.7333, 2.2821, 2.8203, 2.1665, 2.0924, 2.5828, 2.8563, 2.7575, 2.8468, 2.3977, 2.6157, 2.7312, 2.7054, 2.349, 1.8941, 1.5358, 1.4003, 1.8121, 1.9653, -0.255, 2.442, 1.5006, 1.5197, 1.8963, -0.1321, 1.1417, 1.7094, 0.7986, -0.3304, 0.6435, 3.8416, 3.8389, 3.8383, 3.8376, 3.8373, 3.8373, 3.8367, 3.8358, 3.835, 3.8346, 3.8344, 3.8343, 3.8333, 3.8327, 3.8325, 3.8324, 3.8323, 3.8318, 3.8306, 3.8305, 3.8305, 3.8297, 3.8296, 3.8292, 3.8288, 3.8288, 3.828, 3.8277, 3.8276, 3.8275, 3.7806, 3.5499, 3.6324, 3.4393, 3.5688, 3.6916, 3.3426, 3.4834, 3.6714, 3.2123, 3.4169, 3.0676, 2.963, 3.3032, 3.018, 3.2632, 3.5771, 3.2257, 2.7553, 3.1458, 3.0604, 3.155, 1.7722, 2.6535, 2.0198, 2.9263, 2.5942, 2.4894, 1.4298, 0.2349, 2.2547, 1.1809, 1.7185, 1.3452, 4.2914, 4.2908, 4.2902, 4.2897, 4.2885, 4.2882, 4.288, 4.2879, 4.2878, 4.2865, 4.2859, 4.2858, 4.2858, 4.2846, 4.2845, 4.2839, 4.2837, 4.2834, 4.2834, 4.2831, 4.2827, 4.2827, 4.2826, 4.282, 4.2819, 4.2817, 4.2816, 4.2812, 4.281, 4.2808, 4.1463, 4.1064, 4.2162, 4.2477, 4.1419, 4.2031, 3.6645, 3.3579, 4.0044, 3.8292, 3.8236, 4.0769, 3.9488, 3.8855, 3.6206, 3.9285, 3.9586, 3.7096, 3.4967, -0.3739, -0.8188, 2.8239, 1.4051]}, \"token.table\": {\"Topic\": [2, 3, 5, 6, 8, 9, 12, 13, 10, 7, 2, 9, 2, 3, 5, 6, 8, 9, 10, 12, 15, 1, 3, 4, 6, 7, 10, 1, 3, 4, 6, 8, 9, 10, 14, 2, 4, 5, 7, 8, 9, 10, 12, 13, 14, 1, 2, 3, 4, 5, 6, 7, 10, 13, 2, 3, 4, 5, 6, 7, 8, 9, 10, 11, 13, 14, 15, 4, 5, 14, 5, 5, 15, 1, 3, 5, 7, 1, 2, 3, 4, 5, 6, 7, 8, 9, 10, 11, 12, 13, 14, 15, 1, 2, 3, 4, 5, 6, 7, 9, 10, 11, 13, 14, 15, 14, 1, 3, 4, 6, 9, 11, 14, 15, 14, 11, 1, 2, 3, 5, 6, 7, 10, 11, 13, 14, 15, 9, 10, 11, 15, 14, 7, 8, 9, 12, 8, 2, 12, 5, 9, 13, 1, 2, 3, 4, 5, 6, 8, 9, 14, 15, 2, 3, 6, 7, 8, 9, 3, 14, 11, 1, 11, 15, 1, 6, 9, 10, 11, 13, 15, 1, 6, 11, 13, 2, 3, 5, 7, 8, 9, 12, 13, 2, 6, 9, 1, 2, 4, 9, 10, 12, 13, 14, 15, 2, 3, 6, 8, 9, 14, 6, 8, 6, 8, 6, 15, 2, 7, 12, 14, 5, 8, 13, 4, 1, 2, 3, 4, 5, 6, 7, 8, 9, 10, 11, 12, 13, 14, 1, 4, 5, 6, 11, 2, 3, 5, 7, 8, 10, 12, 13, 14, 5, 12, 3, 5, 10, 11, 13, 7, 12, 10, 10, 10, 13, 5, 1, 4, 14, 1, 4, 6, 1, 1, 4, 5, 10, 3, 4, 5, 6, 7, 9, 10, 12, 13, 14, 2, 3, 6, 8, 9, 2, 3, 4, 5, 6, 7, 8, 9, 10, 11, 13, 15, 1, 2, 5, 8, 13, 1, 4, 5, 10, 14, 2, 3, 5, 6, 7, 8, 9, 12, 13, 14, 1, 2, 3, 4, 5, 6, 7, 8, 9, 10, 11, 12, 13, 14, 15, 1, 4, 5, 10, 1, 13, 8, 1, 2, 3, 4, 5, 6, 7, 8, 9, 10, 12, 13, 14, 15, 2, 13, 8, 13, 14, 9, 1, 13, 14, 2, 13, 14, 15, 10, 14, 1, 2, 3, 4, 5, 6, 7, 9, 10, 11, 12, 13, 14, 15, 2, 2, 6, 2, 4, 5, 8, 15, 1, 2, 5, 6, 9, 12, 14, 1, 2, 3, 4, 5, 7, 8, 10, 12, 13, 1, 5, 5, 8, 9, 12, 15, 7, 12, 7, 2, 7, 9, 2, 1, 3, 4, 5, 6, 11, 15, 5, 8, 13, 4, 12, 4, 1, 2, 3, 4, 5, 6, 7, 8, 9, 10, 11, 12, 13, 14, 15, 1, 5, 10, 11, 15, 1, 5, 10, 6, 15, 1, 1, 4, 5, 10, 13, 10, 1, 2, 3, 5, 6, 7, 8, 9, 11, 12, 13, 3, 6, 7, 1, 5, 13, 15, 3, 9, 2, 3, 4, 5, 6, 7, 8, 9, 11, 12, 13, 6, 1, 3, 5, 7, 14, 5, 3, 6, 8, 12, 1, 3, 4, 5, 6, 8, 9, 11, 13, 15, 1, 7, 10, 15, 1, 4, 5, 6, 7, 11, 12, 5, 1, 5, 6, 7, 10, 11, 13, 14, 15, 8, 8, 4, 5, 7, 10, 11, 2, 5, 6, 9, 13, 14, 15, 5, 7, 11, 13, 1, 2, 3, 4, 5, 6, 7, 8, 9, 10, 11, 12, 13, 14, 15, 1, 9, 10, 11, 12, 14, 3, 14, 14, 4, 6, 11, 5, 15, 1, 2, 3, 4, 5, 6, 10, 11, 6, 9, 7, 11, 5, 7, 9, 10, 11, 12, 14, 15, 14, 15, 1, 3, 6, 8, 3, 6, 7, 8, 8, 3, 6, 7, 8, 3, 6, 9, 7, 9, 1, 2, 3, 5, 6, 7, 8, 9, 10, 11, 12, 14, 1, 2, 3, 4, 5, 6, 10, 11, 12, 14, 15, 1, 5, 6, 10, 11, 14, 15, 1, 2, 3, 4, 5, 7, 10, 11, 12, 13, 14, 1, 3, 4, 5, 6, 9, 10, 13, 1, 3, 4, 5, 6, 7, 8, 9, 10, 12, 14, 5, 5, 1, 2, 3, 5, 6, 7, 8, 9, 11, 12, 13, 15, 9, 1, 2, 3, 6, 7, 9, 11, 12, 6, 9, 11, 10, 13, 15, 2, 13, 7, 3, 7, 8, 6, 9, 1, 2, 3, 4, 6, 7, 9, 11, 12, 14, 1, 4, 7, 8, 10, 11, 15, 12, 7, 1, 5, 6, 10, 15, 1, 2, 5, 6, 7, 8, 9, 10, 11, 13, 14, 2, 9, 13, 14, 2, 1, 2, 3, 5, 7, 8, 12, 7, 1, 2, 3, 4, 5, 6, 7, 8, 9, 10, 11, 12, 13, 15, 1, 2, 6, 9, 14, 15, 2, 3, 5, 6, 8, 9, 13, 14, 2, 6, 8, 9, 6, 4, 5, 7, 9, 10, 11, 5, 3, 6, 6, 9, 3, 11, 11, 9, 12, 10, 8, 11, 1, 1, 3, 5, 8, 10, 1, 1, 2, 6, 8, 9, 10, 11, 14, 3, 6, 14, 15, 1, 2, 3, 4, 5, 10, 12, 13, 15, 13, 15, 11, 2, 2, 3, 4, 5, 6, 8, 9, 11, 12, 13, 1, 2, 3, 4, 5, 7, 8, 10, 12, 13, 14, 15, 1, 2, 3, 4, 5, 6, 9, 10, 12, 13, 5, 10, 11, 1, 2, 3, 5, 6, 14, 8, 1, 3, 6, 7, 9, 10, 13, 1, 4, 1, 4, 6, 1, 2, 3, 4, 7, 9, 10, 12, 1, 2, 4, 5, 6, 10, 12, 13, 15, 3, 2, 3, 5, 7, 8, 12, 14, 2, 8, 10, 9, 2, 9, 15, 6, 2, 5, 9, 10, 14, 1, 2, 3, 4, 5, 6, 7, 8, 9, 10, 11, 12, 14, 15, 6, 11, 6, 11, 3, 5, 10, 1, 2, 3, 4, 5, 6, 7, 8, 9, 10, 12, 13, 14, 15, 6, 11, 12, 15, 2, 1, 3, 5, 6, 9, 15, 3, 9, 1, 2, 5, 8, 9, 6, 9, 13, 5, 1, 2, 3, 4, 6, 7, 8, 9, 6, 9, 10, 11, 1, 3, 4, 6, 7, 8, 10, 13, 2, 3, 5, 6, 8, 9, 12, 13, 9, 2, 1, 3, 4, 5, 6, 10, 15, 1, 2, 4, 5, 10, 12, 14, 2, 3, 5, 7, 8, 9, 10, 12, 13, 15, 1, 2, 4, 5, 6, 9, 10, 12, 13, 14, 15, 2, 5, 6, 8, 9, 13, 1, 2, 3, 4, 5, 6, 7, 8, 9, 11, 12, 13, 7, 8, 14, 15, 4, 1, 2, 3, 4, 5, 6, 7, 9, 11, 12, 13, 1, 6, 10, 11, 13, 3, 14, 3, 6, 1, 2, 3, 4, 5, 6, 7, 8, 9, 10, 11, 12, 13, 14, 15, 9, 7, 2, 3, 5, 9, 10, 11, 14, 5, 15, 10, 8, 7, 1, 3, 4, 5, 6, 7, 9, 13, 1, 2, 3, 4, 5, 6, 10, 11, 12, 10, 11, 1, 4, 5, 6, 11, 13, 14, 1, 2, 3, 4, 5, 6, 7, 8, 9, 10, 11, 12, 13, 14, 15, 3, 6, 7, 8, 10, 9, 15, 2, 11, 9, 3, 1, 2, 3, 4, 5, 6, 7, 8, 10, 11, 12, 14, 11, 1, 2, 3, 6, 7, 10, 12, 13, 1, 3, 5, 8, 10, 14, 5, 12, 2, 10, 11, 14, 14, 8, 11, 8, 2, 3, 6, 6, 10, 14, 1, 3, 6, 7, 9, 14, 14, 1, 2, 3, 4, 5, 6, 7, 8, 9, 10, 11, 12, 13, 14, 15, 3, 1, 4, 5, 10, 3, 1, 1, 2, 3, 4, 5, 7, 8, 10, 12, 13, 1, 2, 3, 4, 5, 6, 7, 8, 9, 11, 12, 13, 15, 6, 1, 2, 3, 4, 5, 6, 7, 8, 9, 10, 11, 12, 13, 14, 15, 1, 10, 1, 1, 2, 3, 4, 5, 6, 7, 8, 9, 10, 11, 12, 13, 14, 15, 10, 14, 11, 4, 10, 11, 12, 11, 10, 6, 1, 2, 3, 4, 5, 6, 7, 8, 9, 10, 11, 12, 13, 14, 15, 4, 8, 12, 5, 4, 1, 2, 3, 4, 5, 6, 8, 9, 10, 11, 13, 15, 6, 2, 3, 4, 5, 7, 8, 9, 10, 12, 14, 15, 10, 2, 15, 1, 2, 3, 4, 5, 7, 8, 10, 12, 13, 10, 15, 5, 8, 13, 14, 1, 2, 3, 4, 5, 9, 12, 13, 14, 15, 1, 2, 3, 5, 6, 8, 9, 10, 11, 13, 14, 1, 3, 4, 5, 7, 8, 10, 7, 1, 2, 3, 4, 5, 6, 7, 8, 9, 10, 12, 13, 15, 1, 2, 3, 4, 5, 6, 7, 9, 10, 12, 4, 15, 2, 6, 2, 5, 7, 12, 13, 1, 6, 14, 15, 6, 1, 2, 3, 4, 5, 6, 8, 9, 13, 1, 3, 8, 13, 5, 3, 6, 12, 2, 3, 4, 5, 6, 7, 8, 9, 10, 11, 13, 14, 15, 13, 1, 4, 5, 6, 10, 1, 6, 10, 2, 14, 1, 4, 6, 9, 11, 14, 15, 1, 3, 4, 5, 7, 10, 12, 13, 10, 3, 4, 14, 1, 2, 3, 6, 7, 8, 12, 1, 2, 3, 4, 5, 6, 7, 8, 9, 10, 11, 12, 13, 15, 8, 15, 6, 1, 2, 3, 4, 5, 6, 8, 9, 10, 12, 15, 1, 3, 4, 5, 6, 8, 10, 11, 13, 1, 2, 3, 4, 5, 6, 7, 8, 9, 10, 11, 12, 14, 15, 1, 2, 3, 4, 5, 6, 7, 8, 10, 2, 6, 8, 9, 11, 12, 13, 9, 1, 2, 3, 6, 14, 9, 7, 12, 5, 15, 1, 2, 3, 4, 5, 6, 8, 9, 11, 15, 1, 2, 3, 4, 6, 8, 9, 11, 1, 11, 12, 5, 7, 9, 11, 14, 3, 5, 6, 9, 15, 14, 9, 12, 1, 3, 6, 11, 10, 3, 1, 2, 3, 6, 7, 8, 9, 14, 3, 15, 3, 1, 2, 3, 6, 8, 9, 14, 1, 3, 4, 6, 7, 8, 9, 10, 11, 12, 14, 15, 1, 2, 3, 6, 7, 8, 9, 10, 11, 14, 2, 12, 12, 14, 13, 6, 8, 11, 5, 12, 13, 14, 14, 5, 5, 10, 15, 2, 6, 9, 12, 1, 2, 3, 4, 5, 7, 10, 11, 15, 5, 6, 10, 1, 2, 3, 5, 10, 14, 9, 3, 4, 6, 9, 13, 3, 6, 9, 9, 8, 12, 13, 1, 1, 1, 2, 3, 4, 5, 6, 7, 8, 10, 11, 13, 11, 1, 2, 3, 4, 5, 6, 7, 8, 9, 10, 11, 12, 13, 14, 15, 8, 14, 3, 8, 13, 3, 8, 1, 2, 3, 4, 5, 6, 7, 8, 9, 10, 11, 12, 13, 14, 3, 6, 9, 11, 15, 9, 2, 5, 8, 9, 12, 13, 8, 10, 1, 2, 4, 5, 6, 9, 10, 11, 12, 13, 14, 15, 1, 2, 3, 4, 5, 6, 7, 8, 9, 10, 11, 12, 13, 14, 15, 1, 2, 3, 6, 7, 10, 13, 5, 4, 1, 2, 3, 4, 5, 6, 7, 8, 9, 10, 11, 14, 15, 2, 3, 4, 5, 6, 7, 8, 9, 12, 13, 14, 11, 14, 2, 3, 4, 5, 6, 8, 9, 12, 14, 1, 2, 3, 4, 5, 6, 7, 8, 9, 10, 12, 13, 14, 1, 3, 4, 6, 9, 11, 13, 14, 1, 2, 3, 4, 5, 6, 7, 8, 9, 10, 11, 12, 13, 15, 5, 6, 9, 11, 13, 7, 1, 2, 3, 5, 6, 8, 9, 10, 11, 12, 13, 14, 6, 11, 14, 1, 2, 3, 4, 5, 6, 7, 8, 9, 10, 11, 12, 13, 14, 15, 1, 2, 3, 4, 5, 6, 7, 8, 9, 10, 11, 13, 15, 2, 9, 3, 7, 8, 10, 1, 2, 3, 4, 5, 6, 7, 8, 9, 10, 12, 13, 14, 15, 1, 2, 3, 4, 5, 6, 7, 8, 9, 10, 11, 12, 13, 14, 15, 4, 5, 1, 2, 3, 4, 5, 6, 7, 8, 9, 10, 11, 12, 14, 15, 2, 1, 2, 3, 4, 5, 6, 7, 8, 9, 10, 11, 12, 13, 14, 15, 14, 1, 2, 3, 6, 14, 9, 7, 7, 13, 4, 5, 7, 9, 10, 11, 12, 14, 1, 2, 3, 4, 5, 6, 7, 8, 9, 10, 11, 12, 13, 14, 15, 1, 8, 3, 5, 6, 8, 9, 13, 1, 2, 3, 4, 5, 6, 7, 8, 9, 10, 11, 12, 13, 14, 15, 13, 3, 8, 8, 3, 4, 5, 8, 13, 3, 8, 1, 2, 3, 5, 6, 7, 8, 9, 12, 13, 8, 2, 4, 5, 9, 10, 14, 2, 1, 2, 3, 4, 5, 6, 7, 8, 9, 10, 11, 12, 13, 14, 15, 1, 5, 2, 6, 5, 9, 11, 1, 3, 4, 6, 7, 8, 1, 3, 4, 6, 7, 8, 13, 11, 7, 8, 12, 4, 1, 2, 3, 5, 6, 7, 8, 9, 10, 12, 13, 2, 4, 5, 7, 8, 13, 1, 2, 5, 6, 13, 1, 2, 4, 5, 6, 7, 8, 9, 10, 11, 1, 2, 3, 5, 7, 10, 12, 13, 14, 1, 2, 3, 4, 5, 6, 7, 8, 9, 10, 11, 12, 13, 14, 15, 5, 12, 1, 15, 1, 10, 15, 13, 1, 2, 3, 4, 5, 6, 7, 9, 10, 11, 13, 15, 10, 11, 3, 15, 3, 6, 8, 8, 11, 5, 13, 2, 3, 4, 5, 7, 9, 10, 11, 12, 13, 14, 15, 12, 2, 1, 3, 4, 5, 6, 8, 9, 10, 11, 13, 13, 1, 2, 3, 4, 5, 6, 7, 8, 9, 10, 11, 12, 13, 14, 2, 3, 2, 7, 10, 11, 12, 14, 2, 9, 10, 12, 14, 15, 2, 1, 2, 3, 4, 5, 6, 7, 8, 9, 10, 12, 13, 14, 1, 2, 3, 4, 6, 7, 8, 9, 10, 11, 14, 15, 1, 2, 3, 4, 5, 7, 8, 10, 12, 1, 2, 3, 4, 5, 6, 7, 8, 10, 13, 10, 14, 8, 4, 9, 2, 7, 5, 9, 5, 2, 7, 12, 1, 2, 3, 4, 5, 6, 8, 9, 10, 14, 15, 7, 8, 9, 12, 14, 1, 2, 3, 4, 5, 6, 7, 8, 9, 10, 11, 12, 13, 14, 15, 3, 13, 4, 5, 7, 8, 1, 2, 3, 4, 5, 6, 7, 8, 9, 10, 11, 12, 13, 6, 11, 15, 1, 3, 4, 6, 1, 1, 4, 10, 1, 2, 3, 6, 7, 8, 9, 14, 3, 1, 6, 10, 1, 4, 1, 3, 4, 6, 10, 14, 7, 12, 14, 7, 4, 12, 7, 2, 12, 1, 4, 5, 10, 14, 1, 3, 6, 8, 1, 3, 4, 6, 9, 10, 11, 1, 2, 3, 4, 6, 8, 9, 10, 11, 7, 1, 3, 4, 5, 6, 7, 8, 9, 13, 14, 4, 10, 1, 2, 3, 4, 5, 6, 7, 8, 9, 10, 11, 12, 13, 14, 15, 1, 2, 3, 4, 5, 6, 7, 8, 9, 10, 11, 12, 13, 14, 15, 6, 1, 2, 3, 4, 6, 7, 8, 9, 11, 12, 14, 2, 4, 6, 9, 1, 5, 15, 2, 1, 5, 6, 8, 11, 12, 13, 14, 15, 11, 13, 1, 6, 10, 11, 15, 9, 10, 12, 13, 1, 2, 3, 5, 7, 8, 9, 11, 12, 13, 14, 12, 9, 13, 2, 4, 8, 10, 15, 1, 2, 3, 4, 5, 6, 7, 8, 9, 10, 13, 15, 8, 1, 2, 3, 4, 5, 6, 8, 9, 10, 13, 14, 1, 2, 3, 6, 8, 9, 1, 5, 10, 11, 14, 1, 2, 6, 10, 11, 14, 5, 6, 9, 11, 14, 11, 8, 8, 8, 1, 5, 10, 11, 13, 5, 14, 4, 14, 6, 6, 13, 14, 2, 3, 5, 6, 8, 9, 1, 2, 3, 4, 5, 7, 10, 12, 14, 8, 11, 4, 2, 3, 4, 5, 7, 8, 10, 12, 13, 14, 2, 3, 5, 6, 7, 8, 9, 10, 12, 14, 15, 2, 11, 7, 8, 12, 5, 10, 11, 14, 2, 3, 4, 5, 6, 7, 9, 1, 4, 5, 6, 11, 15, 11, 7, 11, 3, 7, 6, 10, 6, 9, 11, 10, 13, 14, 15, 13, 13, 4, 7, 12, 8, 11, 2, 6, 7, 8, 9, 12, 13, 1, 10, 3, 4, 5, 6, 7, 9, 10, 13, 14, 12, 5, 11, 3, 1, 2, 3, 4, 5, 6, 7, 8, 9, 10, 11, 12, 13, 14, 15, 3, 14, 1, 2, 3, 5, 6, 7, 8, 9, 10, 11, 12, 13, 14, 15, 1, 2, 3, 4, 5, 6, 7, 8, 9, 10, 11, 12, 13, 14, 15, 4, 1, 2, 3, 4, 5, 6, 7, 8, 9, 10, 11, 14, 15, 14, 1, 9, 3, 6, 7, 8, 6, 9, 11, 14, 3, 4, 3, 4, 6, 8, 9, 7, 5, 11, 7, 12, 6, 3, 8, 5, 7, 8, 12, 7, 9, 3, 5, 6, 1, 4, 5, 10, 6, 2, 3, 4, 5, 6, 9, 14, 15, 14, 1, 4, 5, 10, 2, 5, 9, 12, 13, 1, 2, 3, 4, 5, 6, 7, 8, 9, 10, 11, 12, 13, 14, 15, 15, 1, 5, 8, 10, 13, 1, 3, 6, 8, 9, 14, 10, 1, 2, 3, 4, 5, 6, 9, 10, 11, 14, 15, 5, 14, 3, 7, 10, 9, 15, 2, 13, 11, 5, 8, 15, 1, 2, 3, 10, 14, 1, 2, 3, 4, 10, 14, 13, 6, 1, 2, 3, 4, 5, 6, 7, 8, 9, 10, 12, 13, 14, 14, 4, 5, 7, 10, 11, 13, 15, 1, 6, 9, 10, 11, 14, 15, 3, 15, 6, 10, 14, 15, 14, 1, 5, 1, 11, 11, 4, 14, 8, 2, 12, 14, 1, 2, 3, 4, 5, 6, 7, 8, 9, 10, 11, 12, 13, 14, 15, 1, 3, 6, 8, 9, 2, 3, 4, 5, 6, 7, 8, 9, 12, 14, 2, 3, 6, 7, 8, 9, 11, 12, 12, 3, 7, 8, 12, 13, 14, 1, 2, 3, 6, 8, 9, 14, 6, 1, 2, 3, 4, 5, 6, 7, 12, 13, 12, 8, 8, 8, 11, 8, 1, 4, 13, 13, 1, 3, 4, 6, 7, 8, 13, 5, 12, 13, 5, 1, 2, 3, 4, 5, 6, 7, 8, 9, 10, 11, 12, 13, 14, 13, 15, 1, 2, 3, 6, 7, 9, 10, 12, 14, 15, 1, 2, 3, 4, 5, 6, 7, 8, 9, 10, 11, 13, 14, 15, 10, 3, 2, 3, 6, 9, 1, 3, 4, 5, 7, 8, 9, 12, 13, 1, 2, 5, 6, 10, 12, 13, 7, 8, 12, 1, 2, 3, 6, 8, 9, 15, 4, 1, 4, 5, 1, 4, 5, 13, 1, 2, 5, 6, 8, 10, 13, 2, 3, 5, 13, 11, 1, 2, 3, 4, 5, 6, 9, 10, 11, 12, 13, 14, 15, 4, 5, 13, 1, 2, 3, 4, 5, 6, 7, 8, 9, 10, 11, 12, 13, 14, 1, 2, 3, 5, 6, 13, 2, 1, 5, 10, 4, 10, 11, 6, 9, 11, 5, 10, 4, 10, 11, 15, 9, 14, 4, 1, 2, 3, 5, 6, 7, 8, 9, 10, 13, 15, 2, 5, 6, 10, 13, 7, 3, 6, 9, 13, 8, 4, 12, 1, 4, 10, 11, 13, 14, 2, 3, 4, 5, 6, 7, 8, 9, 10, 11, 12, 13, 14, 11, 5, 1, 2, 3, 4, 5, 6, 7, 8, 9, 10, 11, 12, 14, 15, 6, 6, 1, 3, 10, 6, 1, 10, 2, 3, 9, 15, 1, 5, 6, 13, 1, 2, 3, 4, 5, 6, 7, 8, 9, 10, 11, 12, 13, 14, 15, 1, 2, 3, 4, 5, 6, 7, 8, 9, 10, 11, 12, 13, 14, 4, 5, 1, 3, 13, 3, 4, 6, 7, 10, 11, 14, 15, 4, 6, 7, 9, 10, 11, 15, 14, 2, 13, 9, 12, 2, 12, 12, 6, 1, 5, 6, 1, 2, 3, 5, 6, 7, 8, 12, 13, 14, 1, 5, 6, 10, 10, 1, 2, 3, 4, 5, 6, 7, 8, 9, 10, 11, 12, 13, 14, 15, 1, 2, 3, 5, 6, 7, 8, 10, 11, 12, 13, 14, 15, 2, 1, 2, 3, 5, 7, 8, 12, 13, 14, 5, 7, 10, 11, 12, 13, 1, 2, 3, 4, 5, 6, 7, 9, 10, 11, 15, 1, 3, 4, 5, 6, 10, 11, 13, 3, 4, 5, 10, 11, 4, 5, 10, 11, 4, 9, 10, 11, 14, 5, 1, 2, 3, 4, 5, 6, 7, 8, 9, 12, 13, 14, 1, 2, 3, 4, 5, 6, 7, 8, 9, 10, 12, 14, 15, 8, 1, 10, 12, 4, 3, 5, 6, 7, 8, 12, 13, 1, 2, 3, 4, 5, 6, 7, 8, 9, 10, 11, 12, 13, 14, 15, 1, 2, 3, 4, 5, 6, 7, 8, 9, 10, 11, 12, 13, 14, 15, 5, 9, 1, 2, 3, 4, 5, 6, 7, 8, 9, 10, 11, 12, 13, 14, 15, 1, 2, 3, 4, 5, 6, 7, 8, 11, 13, 6, 7, 9, 10, 12, 14, 1, 4, 5, 6, 10, 15, 13, 1, 3, 4, 5, 6, 10, 11, 15, 3, 8, 9, 1, 5, 6, 13, 14, 1, 5, 10, 3, 1, 2, 3, 4, 5, 6, 7, 9, 10, 12, 14, 15, 7, 1, 5, 10, 13, 9, 7, 2, 3, 5, 6, 7, 8, 9, 4, 6, 9, 13, 7, 1, 5, 8, 12, 3, 4, 4, 12, 2, 12, 1, 2, 3, 4, 5, 6, 7, 9, 10, 12, 14, 15, 1, 3, 6, 8, 9, 11, 9, 7, 11, 15, 8, 12, 14, 2, 5, 11, 14, 15, 10, 14, 9, 11, 6, 1, 5, 15, 5, 6, 1, 2, 3, 5, 6, 7, 8, 9, 10, 12, 13, 9, 7, 13, 1, 2, 3, 4, 5, 6, 7, 8, 9, 10, 11, 12, 13, 2, 5, 4, 1, 2, 5, 9, 10, 13, 14, 15, 1, 1, 13, 1, 2, 3, 4, 5, 6, 7, 8, 9, 10, 11, 12, 13, 14, 15, 2, 3, 5, 12, 13, 14, 3, 7, 1, 3, 4, 5, 10, 1, 4, 5, 10, 1, 4, 2, 5, 7, 12, 13, 1, 2, 3, 4, 5, 6, 7, 8, 9, 10, 11, 12, 13, 14, 15, 4, 6, 15, 1, 5, 8, 12, 13, 14, 1, 3, 4, 5, 6, 14, 15, 2, 3, 6, 8, 13, 2, 3, 5, 6, 8, 9, 12, 13, 14, 1, 2, 3, 4, 5, 6, 7, 8, 9, 10, 11, 12, 15, 1, 2, 3, 4, 5, 6, 7, 8, 9, 10, 11, 13, 14, 15, 2, 5, 6, 7, 9, 10, 11, 12, 13, 14, 2, 9, 11, 13, 14, 5, 1, 2, 3, 4, 5, 6, 7, 8, 9, 10, 11, 13, 14, 15, 5, 1, 2, 3, 4, 5, 6, 7, 8, 9, 11, 12, 13, 1, 3, 4, 5, 6, 7, 8, 9, 10, 11, 13, 14, 5, 11, 1], \"Freq\": [0.06869185552646502, 0.1557015391933207, 0.0702183412048309, 0.25187013693037175, 0.03816214195914723, 0.4121511331587901, 0.0030529713567317785, 0.9925164965122794, 0.9801279341025461, 0.984615440272768, 0.9916938848730955, 0.9888451215831214, 0.0020392369489383817, 0.046902449825582775, 0.0774910040596585, 0.1325504016809948, 0.03670626508089087, 0.5159269480814106, 0.15702124506825538, 0.0020392369489383817, 0.02651008033619896, 0.5724583068634211, 0.24658444750452865, 0.0584829704457719, 0.05792063419148563, 0.0002811681271431341, 0.06410633298863458, 0.647630117614999, 0.06937085700801789, 0.01772248171737683, 0.1139302396117082, 0.03240682371177478, 0.059243724598088264, 0.04911659218815864, 0.010633489030426099, 0.3878108542036051, 0.07085409120044245, 0.15386657674888982, 0.03773294797656699, 0.05659942196485048, 0.005031059730208932, 0.015931689145661617, 0.26371138085845147, 0.0016770199100696439, 0.006288824662761165, 0.46537689953235506, 0.0015000061225861564, 0.07912532296641975, 0.1335005449101679, 0.007125029082284243, 0.23175094593956116, 0.08062532908900591, 0.0003750015306465391, 0.0005625022959698087, 0.007519485084936038, 0.05195280604137626, 0.12441329867803262, 0.09980407476369649, 0.06835895531760033, 0.01230461195716806, 0.4156224483310101, 0.07861279861524038, 0.009570253744464047, 0.0013671791063520067, 0.1209953509121526, 0.0027343582127040134, 0.00615230597858403, 0.999140935809138, 0.0006301740370918562, 0.990734607751963, 0.9938043215389549, 0.289009258764766, 0.7093863624226076, 0.04721967541341509, 0.2124885393603679, 0.008585395529711834, 0.7297586200255058, 0.23063036852372984, 0.16652294405272697, 0.11973534908233274, 0.05195948850182596, 0.024716840016493602, 0.0781797859402474, 0.0238147655633369, 0.04636662689225442, 0.01900370181316783, 0.15623929528674058, 0.040773765282682874, 0.007156457328376492, 0.001563595718804948, 0.027062233594701023, 0.0061341062814655655, 0.17983204941069678, 0.26274584630247755, 0.18103773102097992, 0.12362873742365074, 0.028287145472028114, 0.055368609333773064, 0.12622559012272216, 0.016694053065459215, 0.009830942360770426, 0.0007419579140204095, 0.014839158280408191, 0.00037097895701020475, 0.000463723696262756, 0.991828684827841, 0.05269017295407858, 0.7713841320477104, 0.0706048317584653, 0.030560300313365575, 0.018968462263468287, 0.009484231131734144, 0.04215213836326286, 0.004215213836326287, 0.9952316038711878, 0.9821285796809808, 0.08358931126687842, 0.002964159974002781, 0.07291833536046842, 0.09188895919408621, 0.08773913523048232, 0.0011856639896011124, 0.0189706238336178, 0.004149823963603893, 0.08773913523048232, 0.016006463859615017, 0.5323631313308995, 0.9897085043713952, 0.08184705244720637, 0.9139587523271377, 0.9965106327151075, 0.9924868781081101, 0.004207374323901866, 0.002103687161950933, 0.12096201181217865, 0.8719783286286618, 0.9805975073833824, 0.9744713918854344, 0.9759813225239624, 0.18003023851151412, 0.7786307815622985, 0.03600604770230282, 0.14413582758856514, 0.13312784075602555, 0.2961836457130181, 0.018919977368427404, 0.013071984363640751, 0.37771154819151437, 0.0020639975311011714, 0.01272798477512389, 0.0006879991770337237, 0.0006879991770337237, 0.01715680667223779, 0.04193886075435904, 0.30691620824780935, 0.028594677787062983, 0.1220039585581354, 0.4803905868226581, 0.9556450235039708, 0.018738137715764134, 0.9895329431383146, 0.2886297745277986, 0.7082530621105212, 0.00222022903482922, 0.1995321592496951, 0.18553946684329573, 0.0001817232780051868, 0.001817232780051868, 0.6113171072094484, 0.0001817232780051868, 0.0012720629460363077, 0.9815227675542042, 0.00268049518853475, 0.9381733159871626, 0.058970894147764505, 0.10592287889568533, 0.03830635620337113, 0.0885108988032439, 0.2666934950825612, 0.03453376051667549, 0.010737387723672212, 0.4390720979977313, 0.015670782083197284, 0.9917912196501019, 0.9899515835579564, 0.9934211858702221, 0.019749007226795817, 0.15978742210771163, 0.010772185760070446, 0.482952994909825, 0.01256755005341552, 0.1544013292276764, 0.016158278640105668, 0.016158278640105668, 0.12747086482750028, 0.1063806449083345, 0.18269719451648753, 0.1861661285895854, 0.5226527336800783, 0.002312622715398576, 0.9884134433844447, 0.9507013795489739, 0.04670112039889696, 0.963797760481644, 0.029205992741868, 0.9953588978634412, 0.981678840142664, 0.7363342612643168, 0.021258994419704684, 0.12948660237456489, 0.11209287966753378, 0.3201375085767097, 0.02578288659678199, 0.6531664604518105, 0.9557215348114192, 0.0004958632782869693, 0.08016456332306005, 0.011735430919458275, 0.6355314350044657, 0.16611419822613474, 0.0001652877594289898, 0.043801256248682294, 0.016363488183469988, 0.005785071580014642, 0.0016528775942898978, 0.0016528775942898978, 0.013057732994890194, 0.017685790258901907, 0.005950359339443632, 0.7887694842271238, 0.0990664376056324, 0.08401837113389077, 0.022572099707612446, 0.00501602215724721, 0.5337222714903547, 0.03015158833804645, 0.25491797413075634, 0.04229053948713008, 0.00039157906932527856, 0.016837899980986976, 0.024669481367492547, 0.059520018537442335, 0.03759159065522674, 0.8432173959976833, 0.15168990192550916, 0.9526902003792084, 0.08363566598037522, 0.7507530958003094, 0.06297273673816488, 0.10233069719951791, 0.9905358734059418, 0.9890728844263516, 0.998558573139383, 0.9985013875049509, 0.994438453308747, 0.9855865259716285, 0.9859091789453356, 0.1834543085226115, 0.8137844967797894, 0.0015679855429283033, 0.12888802985779002, 0.8654831204950599, 0.0051555211943116, 0.9945001542017167, 0.7793720396773106, 0.05348251689481296, 0.16122265962494342, 0.00542576258353175, 0.009170945245973075, 0.8084912256318368, 0.0007240219931031375, 0.0016893846505739874, 0.0031374286367802625, 0.01448043986206275, 0.04561338556549766, 0.0002413406643677125, 0.10112173837007153, 0.014963121190798175, 0.02519077212258677, 0.024095521160735173, 0.8707245146720209, 0.0021905019237031973, 0.07666756732961191, 0.01184680388319767, 0.07563728633118513, 0.19820614189196104, 0.09021796803358226, 0.05877837311278845, 0.05877837311278845, 0.05832272680958853, 0.3148515955111381, 0.0068346945479986565, 0.11527851470957734, 0.01139115757999776, 0.0009112926063998208, 0.06425753724920552, 0.026009003172297474, 0.7404916197289398, 0.026009003172297474, 0.14228454676609795, 0.38682271682720665, 0.000610130468181714, 0.4325825019408352, 0.1616845740681542, 0.018303914045451418, 0.1552934876261651, 0.33768516772401, 0.013340648601442372, 0.2549314568681878, 0.00020844763439753706, 0.030016459353245335, 0.16383984063646412, 0.00020844763439753706, 0.043565555589085245, 0.0006253429031926112, 0.06857314737857557, 0.13106319297356783, 0.1673774672573834, 0.1386209860986259, 0.1389896589339946, 0.0742875763267902, 0.011060185061060577, 0.0038710647713712017, 0.0007373456707373718, 0.1751195968001258, 0.004239737606739888, 0.0027650462652651442, 0.0717068664792094, 0.011244521478744919, 0.0003686728353686859, 0.7068111590053234, 0.0015174133941720125, 0.2867911314985104, 0.004552240182516038, 0.9978154417203247, 0.9934652230334903, 0.992072759317023, 0.07958961166780035, 0.47165666421854097, 0.07174827061678553, 0.14232034007591884, 0.04253927520175536, 0.035874135308392764, 0.014114413891826662, 0.0009801676313768515, 0.016270782680855734, 0.03391380004563906, 0.04097100699155239, 0.0023524023153044435, 0.04449961046450906, 0.003136536420405925, 0.9907020342184519, 0.9886716081169222, 0.06653066769535802, 0.8448139501693576, 0.0866153975656548, 0.987594512244329, 0.9883962096553307, 0.9667480262930263, 0.020140583881104714, 0.042839557880169236, 0.8100570944613819, 0.023367031571001402, 0.12072966311684057, 0.8807500604699906, 0.1177240179836126, 0.228985181067273, 0.03747531242496887, 0.011297704481056792, 0.00027555376783065344, 0.17139444359066644, 0.03582198981798495, 0.0027555376783065344, 0.0008266613034919603, 0.09864824888337394, 0.11352815234622922, 0.12840805580908451, 0.0013777688391532672, 0.16147450794876292, 0.007439951731427643, 0.9866185585602995, 0.9762751360253857, 0.9934239190551426, 0.028931982035248476, 0.09161794311162018, 0.1157279281409939, 0.20252387424673934, 0.5593516526814706, 0.047548785677550276, 0.09673718465432642, 0.10985409104813339, 0.05574685217367963, 0.12788983733961798, 0.5623873616344739, 0.0016396132992258716, 0.00531316270841663, 0.023529720565845076, 0.04630041788763063, 0.1184076260732849, 0.05389065032822582, 0.08956474279902318, 0.16091292774061794, 0.01593948812524989, 0.012903395149011815, 0.47287148104908006, 0.1239883686144124, 0.8715652970248401, 0.08236951285619706, 0.11440210118916258, 0.764206035943606, 0.036608672380532024, 0.9915714023570077, 0.9894636481059048, 0.9850924736657862, 0.9949515265778344, 0.9865038394214345, 0.9748639156480335, 0.9914370531285013, 0.9764531495915633, 0.0013848023465972592, 0.14332704287281633, 0.3136577315042792, 0.12809421706024648, 0.07408692554295337, 0.3392765749163285, 0.9887319345208406, 0.9663859111328372, 0.008445320072321924, 0.02412948592091978, 0.9718407292349525, 0.9782166545750675, 0.9948970781799755, 0.006831919321823569, 0.2059823675529806, 0.012297454779282424, 0.15132701297839204, 0.14859424524966264, 0.06285365776077684, 0.05909610213377387, 0.04099151593094141, 0.052264182811950305, 0.023570121660291314, 0.008198303186188282, 0.0635368496929592, 0.14483668962265966, 0.01571341444019421, 0.003757555627002963, 0.8096534119268388, 0.1125429169075093, 0.03824273875497889, 0.03715008907626521, 0.0010926496787136825, 0.9474322336997458, 0.04441967149096731, 0.00730956619471614, 0.04017369172015957, 0.9541251783537897, 0.9716790293423809, 0.024665490452437055, 0.0005247976692007884, 0.7730269667327614, 0.163736872790646, 0.03726063451325598, 0.9912607717627, 0.02991451384157415, 0.13871470862833643, 0.5335862913371152, 0.017283941330687287, 0.12098758931481102, 0.01883506427062076, 0.1065843048725716, 0.006204491759733898, 0.010857860579534322, 0.014846462425077542, 0.002215889914190678, 0.8533497252018684, 0.12097294954969015, 0.022886774239130568, 0.9911781905725452, 0.10874232685650492, 0.02813612652930547, 0.8623342563306055, 0.986173122146768, 0.9873495628371273, 0.2043195143522087, 0.016686711698456244, 0.21952296278857994, 0.13349369358764995, 0.13868511500494746, 0.022990580562317495, 0.048576871833283734, 0.18763280265375246, 0.014461816805328745, 0.007045500494903748, 0.006674684679382498, 0.9924038444799931, 0.12317248845423916, 0.05045620008968833, 0.011872047079926666, 0.6529625893959666, 0.16027263557900998, 0.9971147229652602, 0.33750644118050854, 0.06926438158555212, 0.5918956244583545, 0.9897905586397391, 0.004061715184806344, 0.1304826003119038, 0.04620201022717217, 0.06244887096639755, 0.12794402832139987, 0.2863509205288473, 0.06346429976259914, 0.09849659323155385, 0.17871546813147918, 0.0015231431943023793, 0.1844314722225521, 0.7003411310072586, 0.11381581844364701, 0.9846598684104498, 0.38130660547435763, 0.5899929142278015, 0.027049509024397546, 0.0009147176964772116, 0.0005226958265584067, 0.8233366996516372, 0.17316208365689195, 0.989186546771067, 0.3288060020865179, 0.46383291830386536, 0.0005153699092265171, 0.048444771467292605, 0.010307398184530341, 0.005669069001491688, 0.005669069001491688, 0.11956581894055196, 0.016491837095248547, 0.9858086925297203, 0.9911814897489778, 0.6525811517463901, 0.0007013231077338958, 0.03997541714083206, 0.1339527135771741, 0.17217482294867142, 0.005894236940235965, 0.04125965858165176, 0.04125965858165176, 0.008841355410353949, 0.8826619818003358, 0.017682710820707898, 0.0029471184701179826, 0.0009913650904962545, 0.09219695341615167, 0.7583942942296347, 0.14672203339344567, 0.0021056816392500816, 0.19709180143380764, 0.09433453743840366, 0.22067543579340854, 0.09152696191940354, 0.055168858948352134, 0.08113893249910314, 0.04197325400905162, 0.10654749094605412, 0.004772878382300185, 0.0005615151038000217, 0.08310423536240322, 0.01993378618490077, 0.0004211363278500163, 0.0004211363278500163, 0.19823136952284512, 0.026902828720957554, 0.5295609442967434, 0.12743445183611474, 0.001415938353734608, 0.11610694500623786, 0.9911186833159652, 0.9974969450164424, 0.9976501500289623, 0.09737598828456709, 0.6658412171890669, 0.23598325088782474, 0.9830950515818145, 0.015771578367622694, 0.24389508586036854, 0.0021282293705093243, 0.2043100195688951, 0.2383616894970443, 0.032774732305843594, 0.03958506629147343, 0.035328607550454784, 0.20345872782069138, 0.8920565458058662, 0.10509159306754041, 0.9802638153873903, 0.9903956330925249, 0.09878962641117844, 0.04766166186504223, 0.013865210724375921, 0.2825036685091594, 0.3050346359362703, 0.04766166186504223, 0.20451185818454484, 0.0008665756702734951, 0.9952326807765923, 0.9922583804433596, 0.0007421446170943137, 0.9402972298584954, 0.031170073917961175, 0.026717206215395292, 0.0018475299331663446, 0.6641870109733009, 0.1265558004218946, 0.2069233525146306, 0.9863409113235235, 0.009650165159891434, 0.5707383394564363, 0.059968883493611055, 0.35912400345024553, 0.892301310688538, 0.10573512641106952, 0.9935041645961187, 0.977358121817867, 0.9903933902728999, 0.22373103316225718, 0.1868721187127148, 0.14795116709117007, 0.0010310185860011852, 0.22321552386925658, 0.08712107051710014, 0.0043818289905050364, 0.0030930557580035553, 0.0007732639395008888, 0.005155092930005926, 0.027579747175531702, 0.0894408623356028, 0.6229648718353851, 0.008966918609751755, 0.05262165394670109, 0.0011798577118094416, 0.1595167626366365, 0.01911369493131295, 0.10642316560521162, 0.025484926575083937, 0.0030676300507045478, 0.0007079146270856649, 0.0002359715423618883, 0.7499843356310775, 0.0542624325521193, 0.031653085655402924, 0.10335701438498915, 0.0012919626798123644, 0.025193272256341104, 0.03423701101502766, 0.008279956151265842, 0.13993125895639275, 0.014489923264715224, 0.026495859684050695, 0.14407123703202565, 0.5112872923406657, 0.06499765578743687, 0.0008279956151265842, 0.03311982460506337, 0.05009373471515835, 0.00579596930588609, 0.19171591212675496, 0.0017751473345069904, 0.5577512925020963, 0.11715972407746136, 0.07775145325140617, 0.0007100589338027961, 0.035857976157041206, 0.01704141441126711, 0.0034819338412924667, 0.0005803223068820778, 0.5588503815274408, 0.1381167090379345, 0.009865479216995321, 0.019730958433990642, 0.1955686174192602, 0.0017409669206462333, 0.04236352840239167, 0.029016115344103886, 0.0005803223068820778, 0.9904616449947374, 0.9874207391484208, 0.0005691815247326621, 0.0017075445741979865, 0.0017075445741979865, 0.004553452197861297, 0.5754425215047214, 0.043826977404414984, 0.020490534890375837, 0.08025459498730536, 0.2532857785060347, 0.009676085920455256, 0.006260996772059284, 0.0011383630494653243, 0.9953396869487614, 0.05386729616409657, 0.015915337503028534, 0.14017739569975132, 0.45266892628806155, 0.00030606418275054873, 0.0027545776447549385, 0.3323857024670959, 0.0018363850965032922, 0.8063614781386605, 0.02693857944783944, 0.1652232872800819, 0.9700551081520948, 0.9783616536293003, 0.9905704775073845, 0.3226510428220846, 0.6755506209087397, 0.9832583658184535, 0.9913893827360504, 0.9890384224981467, 0.98035126829329, 0.9859150878021613, 0.012434965071378612, 0.056554309341530475, 0.10868262925633247, 0.04966943689995285, 0.012786191677215586, 0.6029181152410118, 0.022129947133642358, 0.014753298089094907, 0.0014753298089094907, 0.04868588369401319, 0.08261846929893148, 0.0013963260735554647, 0.35257233357275486, 0.1218294499177143, 0.045380597390552606, 0.11973496080738111, 0.3459397847233664, 0.013265097698776915, 0.9827841548848469, 0.9866162086108874, 0.8571381328862901, 0.08020005921743066, 0.002506251850544708, 0.05764379256252829, 0.9859920756736482, 0.3463874817711081, 0.0023120523661906488, 0.06200504072965831, 0.25916005159209726, 0.0046241047323812975, 0.001471306051212231, 0.0008407463149784178, 0.1511241501173706, 0.040145636540219444, 0.13094623855788856, 0.001050932893723022, 0.2680614253582185, 0.08558587677099747, 0.482833531217514, 0.16309761422397628, 0.9860468280484614, 0.0008043749657678504, 0.00026812498858928347, 0.005630624760374953, 0.008043749657678505, 0.3035174870830689, 0.6724574713819229, 0.009116249612035637, 0.9769932924988451, 0.20272378297987673, 0.06314861522426278, 0.103818832645187, 0.09284101046216119, 0.38035540096998016, 0.04851151898022837, 0.01955097855453169, 0.0009409561871164985, 0.01630990724335264, 0.023001151240625517, 0.006273041247443323, 0.006900345372187655, 0.029587844550441007, 0.006168490559985934, 0.14539516561504273, 0.2252601157416155, 0.04095638468029373, 0.004095638468029373, 0.5815806624601709, 0.9915934802504609, 0.07926572974975578, 0.0028929098448815978, 0.016778877100313266, 0.7469493219484284, 0.04339364767322396, 0.028350516479839657, 0.05959394280456091, 0.02198611482110014, 0.054800939037184186, 0.8028337568947483, 0.05754098598904339, 0.08357143203170588, 0.9826395735384349, 0.36434088504074497, 0.006420103701158501, 0.028087953692568442, 0.01765528517818588, 0.018457798140830692, 0.5649691257019481, 0.9932653776002784, 0.9718948403484654, 0.024920380521755523, 0.8372039050563136, 0.15739433415058696, 0.9739341096641664, 0.9995824364912619, 0.9974804018713086, 0.9857036346641804, 0.973175612318909, 0.9832489742497796, 0.06580572769126256, 0.9259805967984803, 0.9977293389599584, 0.6981857648956066, 0.11064146001077918, 0.14879368760070302, 0.023527207013786376, 0.0178043728752978, 0.9937358980372725, 0.05084044075275371, 0.10610178939705121, 0.20115130906524292, 0.055261348644297506, 0.008841815783087601, 0.017683631566175202, 0.017683631566175202, 0.5393507627683436, 0.005251148060209364, 0.29668986540182907, 0.6984026920078454, 0.9883153325403544, 0.25640873036068157, 0.01731167224091226, 0.03070372057822174, 0.0052261652048037005, 0.27502694390279475, 0.02221120212041573, 0.000979905975900694, 0.0003266353253002313, 0.3919623903602776, 0.9852248736317423, 0.9960057070337076, 0.9861010214371786, 0.9880353279315846, 0.007552702283905364, 0.09602721475251107, 0.20068608925805684, 0.1526724818818013, 0.1370275985794259, 0.01456592583324606, 0.059882139536678244, 0.09926408715989908, 0.0010789574691293378, 0.2303574196591136, 0.3158499420339447, 0.011238106551769567, 0.0008872189382975973, 0.0020701775226943937, 0.38919337426654604, 0.1283510064070524, 0.01360402372056316, 0.12184473419287004, 0.0056190532758847835, 0.007689230798579177, 0.0026616568148927922, 0.0005914792921983982, 0.1255630129430946, 0.023563238932765827, 0.2830816512881593, 0.055841648429705314, 0.3724928455946817, 0.08069602374234873, 0.003227840949693949, 0.047449261960501046, 0.0003227840949693949, 0.007424034184296082, 0.09741159415517421, 0.8739984697811464, 0.027058776154215057, 0.03641452634390756, 0.6615305619143206, 0.18662444751252621, 0.05310451758486519, 0.03337998248191526, 0.028828166688926814, 0.9900924789908044, 0.10474537834354132, 0.543803089233552, 0.1003809875792271, 0.18854168101837437, 0.00043643907643142217, 0.004800829840745644, 0.05673707993608488, 0.9797479258918218, 0.9921002171126313, 0.04941405490250289, 0.9409259621018259, 0.008235675817083815, 0.18862672115864487, 0.10061404437585338, 0.36051725098275444, 0.017523776809101662, 0.2904221437463478, 0.0023627564236991007, 0.039576170096959934, 0.00019689636864159173, 0.4794766052509178, 0.004799565618127305, 0.0011998914045318262, 0.4055632947317573, 0.01631852310163284, 0.08735209424991695, 0.003119717651782748, 0.0016798479663445568, 0.00047995656181273053, 0.989104824015584, 0.9839517294344771, 0.030367972794230015, 0.07681310765599357, 0.04465878352092649, 0.2518755390580254, 0.5912822938170668, 0.0017863513408370596, 0.9799202941441811, 0.9880837286622384, 0.9724842678916872, 0.9946432553248089, 0.9669019055392608, 0.028230712570489366, 0.9897804926007514, 0.989373794074923, 0.002748868314408547, 0.13194567909161026, 0.06597283954580513, 0.03848415640171966, 0.758687654776759, 0.46171815306148956, 0.02499091236796025, 0.21023789147270294, 0.0854306238118877, 0.0004909805966200442, 0.08734544813870586, 0.0244017356520162, 0.0012765495512121149, 0.0015711379091841414, 0.09647768723583869, 0.00039278447729603535, 4.909805966200442e-05, 0.004909805966200442, 0.0007855689545920707, 0.986877839778901, 0.987650488899413, 0.18649813499788848, 0.8108614565125586, 0.9737058969265666, 0.9904593480300367, 0.9939851688788914, 0.05332774595286399, 0.3814169909211464, 0.06162709714420375, 0.02595754521546691, 0.21560654903459248, 0.02860627431908598, 0.04290941147862897, 0.06533531788927045, 0.07363466908061021, 0.010241752533993747, 0.027017036856914537, 0.007416441490133403, 0.006710113729168316, 0.9923288244844607, 0.9099613947421646, 0.0878341114615989, 0.9921274068445032, 0.9962691729372216, 0.9773343788066783, 0.2664257688539815, 0.13119450739021815, 0.08275345850767607, 0.28660953922170734, 0.002018377036772587, 0.23009498219207491, 0.25812957542667514, 0.7356692899660241, 0.9850721679505228, 0.1667536376457846, 0.1641881970666187, 0.051308811583318334, 0.6157057389998201, 0.1968759356358035, 0.7359409974957416, 0.06093778960155822, 0.9884266440494724, 0.1643060703706767, 0.005463379187202304, 0.061311255323048076, 0.17806569202733435, 0.4639825361575883, 0.06960749779250343, 0.016390137561606913, 0.040671822838061596, 0.8250895380342058, 0.12993536032034736, 0.03248384008008684, 0.012993536032034736, 0.5324513054196791, 0.006497478999983239, 0.27221017284140303, 0.17355108381534176, 0.0022228217631521606, 0.012994957999966477, 0.00017098628947324312, 0.9939118313651482, 0.04878356179060774, 0.10766027429651363, 0.0025232876788245386, 0.14046301412123263, 0.065605479649438, 0.06644657554237951, 0.005046575357649077, 0.5635342482708136, 0.9949623946413898, 0.991607095143808, 0.20612878854349503, 0.5128423221443033, 0.2287635352188449, 0.00317903745440307, 0.03954722593277419, 0.007375366894215122, 0.0021617454689940876, 0.06482625804345975, 0.12251064020077564, 0.04395000545319305, 0.08460376049739662, 0.6641944574113801, 0.0005493750681649131, 0.018678752317607048, 0.12697963918087407, 0.021163273196812347, 0.5978624678099488, 0.021163273196812347, 0.026454091496015433, 0.013227045748007716, 0.042326546393624695, 0.04100384181882392, 0.07407145618884321, 0.037035728094421606, 0.34953831178813155, 0.09163640563218264, 0.07234453076224945, 0.1766729593351776, 0.012945863399560428, 0.004315287799853476, 0.19215722732288715, 0.0015230427528894622, 0.07386757351513891, 0.01929187486993319, 0.005838330552742938, 0.06516153886778366, 0.31494743786095436, 0.0021720512955927885, 0.041268974616262985, 0.5104320544643053, 0.06298948757219087, 0.005335996349515887, 0.2419812298036274, 0.06874748785190235, 0.09158058851029592, 0.09728886367489431, 0.21207483165866628, 0.10101165182571935, 0.1041139752847402, 0.04839624596072548, 0.00012409293836083458, 0.011292457390835946, 0.017993476062321014, 0.09027552059097108, 0.8707826257004085, 0.039495540258549844, 0.9818314660456449, 0.9565610173793703, 0.03534408309746033, 0.05026714040527691, 0.010995936963654324, 0.05340883668060672, 0.09503631232872665, 0.10524682522354853, 0.054194260749439165, 0.014923057307816583, 0.0007854240688324517, 0.575715842454187, 0.005497968481827162, 0.15576521065707222, 0.01004936842948853, 0.053118090270153656, 0.7709301209479058, 0.009331556398810777, 0.9389754293322884, 0.05993460187227372, 0.9579579321741173, 0.019159158643482346, 0.15579161281818973, 0.14192453241318925, 0.1307688923108425, 0.08963246943343885, 0.057714943585057854, 0.11186627991519939, 0.10512641402003156, 0.09521028948461223, 0.0831250127070699, 0.0034861375319833604, 0.0006197577834637085, 0.019212491287374966, 0.0014719247357263077, 0.0018592733503911257, 0.0022466219650559434, 0.9904889094216269, 0.971235091536642, 0.10553004812891321, 0.023829365706528792, 0.64679706917721, 0.0017020975504663423, 0.05446712161492295, 0.12255102363357664, 0.0442545363121249, 0.13879672611378957, 0.8584834541112171, 0.9833967349218093, 0.9822013953364076, 0.9877843625473682, 0.08606813988341225, 0.0032478543352231037, 0.11854668323564328, 0.6706819202235709, 0.029230689017007934, 0.03735032485506569, 0.032478543352231035, 0.022734980346561726, 0.6358970545052435, 0.013480754516398645, 0.0001643994453219347, 0.03386628573631855, 0.14647990578184383, 0.09387208327882472, 0.062142990331691315, 0.012823156735110907, 0.0013151955625754776, 0.9993294887664597, 0.983422090598926, 0.05993565826287995, 0.25139678882485755, 0.028302949735248866, 0.03662734671620441, 0.0499463818857333, 0.11487667833718658, 0.4561769545563641, 0.25030026208402706, 0.02546618742957217, 0.279940465501135, 0.10275583178304351, 0.023918518580261155, 0.035361888253954726, 0.1841725930680109, 0.04159946270723852, 0.00037519244831782204, 0.04469480040586055, 0.00037519244831782204, 0.0010317792328740107, 9.379811207945551e-05, 0.003892621651297404, 0.006003079173085153, 0.13983740133781308, 0.22601626495297697, 0.04146341551295621, 0.5910569230964542, 0.9878577762090327, 0.2466510237302764, 0.7486074930761021, 0.9073846445726208, 0.08883486030780903, 0.9813054303692337, 0.9781913983061818, 0.21931351986057565, 0.043468858608880306, 0.3595662297680871, 0.04558395407810435, 0.0026256357548988104, 0.011086017631794978, 0.25461373389865966, 0.01706663240684227, 0.04616742869030409, 0.0001458686530499339, 0.0001458686530499339, 0.0002188029795749009, 0.9868781361956661, 0.030467051102075843, 0.35430232007414003, 0.4852614994080628, 0.003439828350234369, 0.07690473383023982, 0.03243266730220977, 0.01154799517578681, 0.005159742525351554, 0.04489956914809089, 0.04835338215948249, 0.023645335231834843, 0.0528699068666869, 0.760635896278013, 0.06987329399969174, 0.9845330379005401, 0.9886001996407094, 0.012320179452703459, 0.19360281997105433, 0.18744273024470262, 0.6063288316366202, 0.9986206677432937, 0.8366195578981797, 0.15948934715784696, 0.9883225676301743, 0.0032096867165312226, 0.7237843545777907, 0.2712185275468883, 0.004278407100587448, 0.7658348710051531, 0.22675557633113472, 0.048124881946126165, 0.7327694288778078, 0.14528266247887145, 0.055389015070069735, 0.014528266247887145, 0.0027240499214788395, 0.9884483684309688, 0.057473914895952265, 0.25791118713769373, 0.05270446170723656, 0.12512800718630612, 0.21550714114054068, 0.008697238167658048, 0.18552772109718482, 0.02340639211941152, 0.002324607436516898, 0.021723055699864803, 0.001442859788182902, 0.03715363954570973, 0.010340495148644132, 0.0005210327012882702, 0.00016031775424254466, 0.9735695675992702, 0.027885597340012076, 0.0012675271518187306, 0.1533707853700664, 0.8175550129230813, 0.9855292510494431, 0.975697627156004, 0.0787054859305934, 0.002027541792123015, 0.2433050150547618, 0.028569907070824303, 0.024514823486578272, 0.295652457687756, 0.007925845187389967, 0.009400421036206707, 0.028201263108620117, 0.2818283091050991, 0.004147986726734896, 0.12187180049502051, 0.1631541445849059, 0.028838383909680708, 0.17401791934540206, 0.10942784031481582, 0.1360934692723973, 0.06459007903058624, 0.12345198591472906, 0.00039504635492713296, 0.05155354931799085, 0.02192507269845588, 0.0005925695323906995, 0.9875047156724391, 0.2466018109817705, 0.07868016200693495, 0.08934402410344396, 0.15336137572767905, 0.07991060763345523, 0.00017089522590559288, 0.19810174586976326, 0.006630734765137003, 0.0008544761295279644, 0.12454844063999608, 0.00017089522590559288, 0.017123701635740406, 0.003964769241009755, 6.835809036223715e-05, 0.0005126856777167786, 0.40014985402758874, 0.5983193055460136, 0.9937196827643185, 0.22333999459618892, 0.1942069861718616, 0.28082181202561535, 0.047561694776189815, 0.07304817590110603, 0.04332701791235758, 0.06869586912438957, 0.012468770765728244, 0.002666278025375851, 0.025290431270109173, 0.002862327880182899, 0.01662502768763766, 0.004156256921909415, 0.004744406486330559, 0.00019604985480704788, 0.9822063341676507, 0.9839358361974575, 0.9880521058845779, 0.6598688478437817, 0.04338863657055003, 0.29648901656542526, 0.971770433643917, 0.9954026940932312, 0.9768852533113922, 0.9949029114210657, 0.23998063036002054, 0.03769607246805633, 0.31951403396163797, 0.16480085766316455, 0.05404873489081879, 0.08813447929151197, 0.026865088265966904, 0.045022914722410934, 0.0030793974692215026, 0.002654652990708192, 0.000318558358884983, 0.013910381671310926, 0.0014866056747965875, 0.0014866056747965875, 0.0009556750766549491, 0.9536049684530171, 0.02119122152117816, 0.9900051897899677, 0.9877867743822638, 0.9526876863335213, 0.040844213163811004, 0.0034560488061686234, 0.03707397810253614, 0.5994673747427031, 0.10085378788910256, 0.1281879920833453, 0.008011749505209081, 0.012881636459355778, 0.02497780728094596, 0.005498259464359174, 0.037859443740301736, 0.0009425587653187154, 0.9970432602613567, 0.45083129764134805, 0.017174525624432307, 0.0729917339038373, 0.051952940013907725, 0.14641283094828542, 0.008587262812216154, 0.002576178843664846, 0.014598346780767461, 0.23271482221105774, 0.0017174525624432306, 0.0008587262812216153, 0.999114180621549, 0.9580740263272324, 0.036382557961793634, 0.028138600423281895, 0.013600323537919583, 0.35982235291271725, 0.0022276392001764835, 0.002696615873897848, 0.39288520841007346, 0.06976028021605303, 0.07796737200617691, 0.052408143288362526, 0.0003517325052910237, 0.9806767754947723, 0.9942116661506295, 0.1579576912812759, 0.10449508807838252, 0.7217451432390607, 0.014580709964425467, 0.014647353255495902, 0.0011717882604396722, 0.08554054301209607, 0.3685274079082769, 0.044527953896707544, 0.025193447599452953, 0.020506294557694264, 0.02402165933901328, 0.41481304419564397, 0.9920429811336314, 0.030306570172615458, 0.1277629919041632, 0.046945471443855316, 0.4557870455371776, 0.0695268374548237, 0.01901588716713127, 0.04753971791782817, 0.023769858958914085, 0.023769858958914085, 0.14915586496718589, 0.005942464739728521, 0.329577023593545, 0.07502145748989643, 0.03958028619294535, 0.006984756386990357, 0.351307376797515, 0.0010347787239985715, 0.19634926287872892, 0.9956067542988031, 0.1823038776116118, 0.1778301628235968, 0.34074794302047684, 0.10811477404369615, 0.0702746031284025, 0.05219333919350849, 0.004660119570848972, 0.05480300615318391, 0.004660119570848972, 0.00018640478283395888, 0.0005592143485018767, 0.003728095656679178, 0.00018640478283395888, 0.02387016458467826, 0.1879330122151908, 0.4066834757225408, 0.10973150286687917, 0.07891405157471992, 0.004987795584858144, 0.04987795584858144, 0.011400675622532901, 0.0981526916877442, 0.028323553499730175, 0.1887046011007652, 0.8037418195032592, 0.9823804569165475, 0.9843651419277013, 0.33170564959412835, 0.22902358688096736, 0.09321827813130283, 0.3444817587796368, 0.0009463784581858155, 0.5326117471647722, 0.007501573903729185, 0.0037507869518645927, 0.4500944342237511, 0.9895948938321841, 0.03726408705254808, 0.011726460960592053, 0.31348738967982753, 0.038827615180627016, 0.003908820320197351, 0.23895921557473138, 0.029967622454846354, 0.008859992725780662, 0.31635385791463894, 0.033933134994362076, 0.7744739045772051, 0.1796460087936816, 0.009980333821871199, 0.9914666762366801, 0.9816290208235554, 0.986544600722144, 0.9948518309658106, 0.02392327070082943, 0.03791612714848438, 0.19364307793690236, 0.15888662805079168, 0.124130178164681, 0.009479031787121095, 0.04333271674112501, 0.07312395950064844, 0.04378409920717839, 0.23471888234776045, 0.05010345373192579, 0.004513824660533855, 0.0013541473981601565, 0.995337514132343, 0.9015634236311512, 0.0005729669041189395, 0.024064609972995456, 0.03008076246624432, 0.0435454847130394, 0.9955165160371184, 0.0010556908971761595, 0.002815175725803092, 0.9465570666456724, 0.050890164873423245, 0.05944579270721227, 0.0038352124327233725, 0.029722896353606136, 0.08437467351991419, 0.5215888908503786, 0.28668212934607207, 0.013423243514531804, 0.09862959520634369, 0.0007305895941210644, 0.050410681994353446, 0.23890279727758806, 0.4515043691668178, 0.13662025410063905, 0.01315061269417916, 0.010228254317694902, 0.9967839411029966, 0.9839214301203971, 0.9742236793792528, 0.014326818814400776, 0.0069762823693601, 0.12396317133247563, 0.6783093011439358, 0.03327150053079432, 0.046955746716846825, 0.09498476764436443, 0.01529415750205868, 0.028552222795085944, 0.0034138527254994064, 0.24579739623595726, 0.18776189990246736, 0.06641495302335208, 0.03910413121935684, 0.1362437587722036, 0.18993435163687608, 0.03010397403394931, 0.0046552537165901, 0.01489681189308832, 0.05182849137803645, 0.0015517512388633667, 0.9923199277176089, 0.9954013177923898, 0.995791285209092, 0.9856180893339863, 0.15696433518143155, 0.03467083708826801, 0.008194925129954256, 0.1103162998263073, 0.5919257459251575, 0.02395439653371244, 0.0031518942807516374, 0.015129092547607859, 0.032779700519817025, 0.014498713691457532, 0.007564546273803929, 0.15697498972912322, 0.014534721271215112, 0.021317591197782162, 0.5329397799445541, 0.017441665525458134, 0.012596758435053097, 0.12499860293244996, 0.013565739853134104, 0.10464999315274881, 0.04270683418701541, 0.09067889450667654, 0.09769919601687085, 0.10237939702366707, 0.03451648242512204, 0.01053045226529147, 0.05265226132645735, 0.1029644221495166, 0.3556952765165119, 0.014625628146238153, 0.0005850251258495261, 0.018720804027184835, 0.06844793972439456, 0.007605326636043839, 0.023916977603102938, 0.15168398953546863, 0.1579779310099694, 0.1636424783370201, 0.0415400137317051, 0.002517576589800309, 0.02014061271840247, 0.001888182442350232, 0.43617014418290356, 0.07570919573298811, 0.24862526006141775, 0.08131728430580204, 0.5112707415548703, 0.03271385000808128, 0.03271385000808128, 0.0168242657184418, 0.9924332620624932, 0.03668015648314331, 0.3908787957537015, 0.5052456426344766, 0.06621238503623818, 0.0007524134663208883, 0.9910191037130027, 0.7709616614049782, 0.22626048758624362, 0.28227163649634346, 0.7155257762349171, 0.09731352799189343, 0.12477756811405002, 0.389902868820853, 0.03676288835249307, 0.003892541119675737, 0.27874919462566805, 0.05838811679513606, 0.009298848230336483, 0.0006487568532792896, 0.00021625228442642984, 0.14303568388397198, 0.0036810653940728085, 0.613686187840424, 0.0005258664848675441, 0.17458767297602462, 0.05153491551701932, 0.0005258664848675441, 0.012620795636821057, 0.9819847492830415, 0.9932381062629606, 0.9925296729466423, 0.014409256941985272, 0.09606171294656847, 0.5643625635610898, 0.1657064548328306, 0.15610028353817376, 0.008237801114909803, 0.08237801114909804, 0.8127963766711007, 0.09610767967394772, 0.9964859979699364, 0.9908201143395748, 0.9780573245068761, 0.02126211575014948, 0.0023396222055766386, 0.08071696609239404, 0.7662262723263491, 0.1509056322596932, 0.9943359279837409, 0.9971689369001329, 0.045108487892906814, 0.06374025463128137, 0.030399198362611114, 0.47167788427148216, 0.0009806193020197133, 0.00294185790605914, 0.12748050926256274, 0.25790287643118465, 0.9434028484073307, 0.043879202251503754, 0.9761971176946334, 0.048953098600167715, 0.004294131456155063, 0.6904963381497341, 0.18765354463397624, 0.033494225358009486, 0.006441197184232594, 0.028341267610623413, 0.2440978560016701, 0.07206997032141736, 0.001253390788198563, 0.19208213829142975, 0.06266953940992814, 0.14727341761333115, 0.04324198219285042, 0.025067815763971258, 0.1500935468867779, 0.0037601723645956887, 0.05358245619548856, 0.005326910849843892, 0.05456170538403812, 0.0018288839793532332, 0.0036577679587064663, 0.19538577179423708, 0.2411078712780679, 0.3651671678775289, 0.0009144419896766166, 0.0012192559862354887, 0.11796301666828354, 0.01828883979353233, 0.97036834837486, 0.9936545761334626, 0.9905435819236655, 0.9834132333813426, 0.9874714582039461, 0.9378522566066374, 0.03669856656286842, 0.02446571104191228, 0.9934068113462227, 0.003356951507535804, 0.7586710407030918, 0.2383435570350421, 0.995792485918931, 0.9884440749148352, 0.9885892146944522, 0.07694198581273282, 0.9147547202180457, 0.9879618255523019, 0.2671941656347384, 0.6859312908832091, 0.043867698835554074, 0.016903997324134244, 0.02921976680314634, 0.15430934700173976, 0.5150889470339763, 0.1436839772551411, 0.03549839438068191, 0.021492225169256397, 0.08258810121219874, 0.0012074283802953033, 0.08476236020919083, 0.10595295026148854, 0.8052424219873129, 0.061605901800158146, 0.8153069346345253, 0.09657141363268033, 0.009435138113537734, 0.006660097491908989, 0.009435138113537734, 0.9914321031598826, 0.17246781434091507, 0.114441259983224, 0.7059897446852411, 0.004835546196474254, 0.0016118487321580847, 0.130115501327635, 0.8293220337145221, 0.03942893979625303, 0.9872734516143934, 0.9876190171971853, 0.9894109765580852, 0.9965717333853475, 0.9957792274866805, 0.9848579758846652, 0.022774282580127522, 0.02312465615828333, 0.20286630175221285, 0.14575540851281613, 0.21512937698766613, 0.0017518678907790402, 0.010160833766518433, 0.1653763288895414, 0.03538773139373661, 0.02978175414324368, 0.14750727640359518, 0.981507782011429, 0.08494852208551461, 0.27315343739566333, 0.27945134506752045, 0.0023434075058072997, 0.039398538691385224, 0.10325639322463413, 0.07557489206228542, 0.03764098306202975, 0.004979740949840512, 0.056827632015827016, 0.003808037196936862, 0.021090667552265695, 0.01552507472597336, 0.001318166722016606, 0.0005858518764518249, 0.8805621685753396, 0.11007027107191746, 0.035752474381520946, 0.4008040549086296, 0.5626310442144612, 0.9896211476788224, 0.9929664898673273, 0.0032627619925151147, 0.23614239920828142, 0.12188746586324321, 0.01946004474107229, 0.09998034962778458, 0.012701466328005269, 0.2531553724549674, 0.09695064206330627, 0.022781070340596603, 0.002447071494386336, 5.8263607009198474e-05, 0.107146773289916, 0.023188915589660995, 0.0007574268911195802, 0.06296967612460816, 0.31484838062304077, 0.5352422470591693, 0.050725572433712125, 0.034983153402560085, 0.9889881459765506, 0.16513079544223866, 0.08485888099115042, 0.05963056502080841, 0.548142501537431, 0.09861978061133697, 0.04357618213059076, 0.9826832223781561, 0.9807466925639294, 0.09732120975250642, 0.0008110100812708869, 0.0924551492648811, 0.0032440403250835474, 0.17355615739196978, 0.0981322198337773, 0.0024330302438126607, 0.05839272585150385, 0.004866060487625321, 0.004055050406354434, 0.46065372616186373, 0.0032440403250835474, 0.000833477030703331, 0.010279550045341083, 0.030838650136023247, 0.5873234809689473, 0.18169799269332618, 0.013335632491253297, 0.0005556513538022207, 0.10696288560692749, 0.004723036507318876, 0.0013891283845055516, 0.0013891283845055516, 0.05945469485683761, 0.000833477030703331, 0.00027782567690111035, 0.00027782567690111035, 0.18921169782795733, 0.3533756932600849, 0.4316779701191203, 0.0195191554706241, 0.00022565497653900693, 0.005754201901744677, 0.00022565497653900693, 0.9947691521481553, 0.9914535120602576, 0.19712822395611493, 0.08209061573453381, 0.04319101536117125, 0.10313239244895059, 0.04554437196738891, 0.3301620885781841, 0.06686301416489011, 0.00013843274154221554, 0.05246600904449969, 0.04402161181042454, 0.030870501363914067, 0.003876116763182035, 0.0005537309661688621, 0.05629186956891735, 0.02180318891753841, 0.3472653362138845, 0.23269948899263723, 0.054706183102187285, 0.017838972750713247, 0.003964216166825165, 0.1775968842737674, 0.036074367118109005, 0.04558848591848941, 0.006342745866920265, 0.9789204772502802, 0.9855986449659668, 0.22824235585845606, 0.007503858274798556, 0.07191197513348616, 0.15570505920207003, 0.07003601056478652, 0.05252700792358989, 0.2788933992133463, 0.09317290691208206, 0.042521863557191814, 0.008966138131579047, 0.14126648745087875, 0.09384557911052735, 0.024706691740351148, 0.13907476479649275, 0.016338296150877372, 0.2651984411807047, 0.10779290509298364, 0.014545068524561564, 0.0013947325982456293, 0.14923638801228234, 0.036462295068421455, 0.0013947325982456293, 0.008551771784353087, 0.07012452863169533, 0.010262126141223706, 0.19669075104012101, 0.041048504564894825, 0.25655315353059266, 0.017103543568706175, 0.4002229195077245, 0.06522513230060034, 0.06504960718676664, 0.3352529674223537, 0.15955232847482698, 0.012743123264326115, 0.2792253510866389, 0.03868573508894595, 0.015446210017364988, 0.016990831019101486, 0.0011233607285356356, 0.0021765114115377938, 0.00021063013660043166, 0.008144365281883358, 0.00021063013660043166, 0.13403394646058397, 0.25734517720432126, 0.08149263944803506, 0.03002360400717081, 0.49646173769000307, 0.983401658826548, 0.13013177761606803, 0.1726464208713175, 0.02033309025251063, 0.06284773350776013, 0.1393740913672092, 0.0025878478503195347, 0.0011090776501369434, 0.4347584388536818, 0.0003696925500456478, 0.0007393851000912956, 0.0347510997042909, 0.0003696925500456478, 0.0034937623700256803, 0.7860965332557781, 0.20613197983151513, 0.06364325723662115, 0.367748594982648, 0.11202365187803451, 0.10237637080370507, 0.14110948437078896, 0.009935259613861673, 0.06119543965059726, 0.01555084113474001, 0.0031677639348544465, 0.018862594339360567, 0.0001439892697661112, 0.056731772287847815, 0.044924652167026694, 0.0018718605069594457, 0.000719946348830556, 0.1524867413116231, 0.005477628408388788, 0.10532696910987584, 0.4834398329575133, 0.052115721714099034, 0.14398337530621957, 0.008399030226196142, 0.0015650366881110821, 0.00704266509649987, 0.019302119153370014, 0.0062601467524443285, 0.014398337530621957, 0.00015650366881110822, 0.9867910379139337, 0.9940030008670047, 0.09172510389134171, 0.8881896198587347, 0.0036326773818353155, 0.01634704821825892, 0.14974369933700662, 0.15763417529738752, 0.04594010448043997, 0.141677879466395, 0.257054172398187, 0.03664687723821356, 0.010871322434302588, 0.0871459233846514, 0.06663068588766102, 0.005961692947843355, 0.028581057367601966, 0.010345290703610528, 0.0010520634613841214, 0.0007013756409227477, 0.08685686489351037, 0.004906848860867144, 0.26395462837768086, 0.06762427338137593, 0.02103740948394764, 0.012351722994596604, 0.255325342449949, 0.2759115474409433, 0.0002256022464766503, 0.0014100140404790643, 0.0002256022464766503, 0.0018612185334323649, 0.007557675256967785, 0.0006204061778107883, 0.00011280112323832515, 0.9970424731750629, 0.9920162543794135, 0.0901137651957336, 0.35234859236574495, 0.0760688373566496, 0.15279750353795413, 0.0873801886364488, 0.040155297043287144, 0.06701975633281024, 0.009614648587829316, 0.004713063033249665, 0.07663440492063955, 0.019889126000313586, 0.01998338726097858, 0.000659828824654953, 0.002545054037954819, 0.9954578206687081, 0.28993664019751125, 0.05074677365712947, 0.19089984993481743, 0.09964606601148196, 0.018022769730281846, 0.12667039357869847, 0.06873023527458627, 0.009158790288234832, 0.0021816002617898417, 0.10957136449980512, 0.00786162256500844, 0.00023584867695025316, 0.025019613813139358, 0.0006289298052006751, 0.0006682379180257173, 0.9888936787762216, 0.001001805547802809, 0.0005009027739014045, 0.9717513813687245, 0.0070126388346196614, 0.019535208182154772, 0.9828532517641589, 0.9998498651951614, 0.19693617827089124, 0.7998020301205584, 0.18703624276249134, 0.036338470022426884, 0.07053938298471102, 0.008550228240571032, 0.12504708801835135, 0.4552996538104075, 0.004275114120285516, 0.1122217456574948, 0.06203213915701822, 0.3064791135424388, 0.1505918435145174, 0.06258689812508912, 0.16193918604324026, 0.05764450004591205, 0.0711100131799965, 0.01079258356065195, 0.024560692495502336, 0.014928059504453165, 0.038580964597657676, 0.006556242349928755, 0.028292707371615627, 0.0025720643065105116, 0.0012608158365247607, 0.9889085906060623, 0.9982902891081281, 0.2027619011516726, 0.0037723144400311184, 0.0041495458840342305, 0.6386528346972683, 0.00037723144400311184, 0.14994949899123697, 0.11322488714141946, 0.09646963478416905, 0.036387669260695345, 0.1978473737941993, 0.028094665568722914, 0.23897390230745033, 0.04366520311283441, 0.06397459990950158, 0.10442414852953036, 0.013708842837750338, 0.020309396796667167, 0.026740705782278437, 0.0005077349199166792, 0.009646963478416905, 0.005754329092389031, 0.9881924457459851, 0.9788572345256301, 0.9962847368339737, 0.9929634143022542, 0.005211505082500023, 0.09554425984583376, 0.0034743367216666823, 0.8581611702516705, 0.03648053557750016, 0.14632222925853874, 0.8478082107038862, 0.03331293281783735, 0.0010746107360592695, 0.09778957698139353, 0.03546215428995589, 0.008596885888474156, 0.022566825457244657, 0.5233354284608642, 0.03976059723419297, 0.19128071101854996, 0.045133650914489315, 0.986123434968625, 0.028134494048950597, 0.017903768940241288, 0.0076730438315319805, 0.023019131494595942, 0.26855653410361935, 0.6522087256802184, 0.9783770925194245, 0.018473371393785548, 0.43040831971498056, 0.05223505014794535, 0.02356947384724363, 0.1520337231948328, 0.0380084307987082, 0.01932272180269523, 0.12018308286071978, 0.056057126988038906, 0.002335713624501621, 0.0004246752044548402, 0.07389348557514219, 0.0019110384200467809, 0.011253892918053265, 0.9840228038143131, 0.10597041799565142, 0.890151511163472, 0.9772614144844162, 0.9971082593497169, 0.07890922728270515, 0.1578184545654103, 0.761367409187182, 0.08390708701818066, 0.09975620345494812, 0.0757960686064232, 0.005500575704525177, 0.62855731186286, 0.1063755403197157, 0.1334972240162871, 0.04013642029247848, 0.05235185255540671, 0.06718487744610528, 0.4921074140208231, 0.21377006460124406, 0.9896101668755788, 0.9889648950636998, 0.4512847292891973, 0.03750288609051501, 0.5108726482996823, 0.9671833840725361, 0.03514021461066531, 0.2140096676698715, 0.1517942057362346, 0.06135135829566976, 0.21804215131371835, 0.06279153102561506, 0.07604112014111182, 0.1379685475287597, 0.002880345459890599, 0.003168380005879659, 0.03658038734061061, 0.990141678639398, 0.8053072867666294, 0.15836586810891876, 0.012996590999820081, 0.021660984999700136, 0.0009627104444311171, 0.09746001294134274, 0.001082889032681586, 0.7894261048248762, 0.06822200905893992, 0.04331556130726344, 0.996880338065459, 0.0025702891230257813, 0.9005897657986487, 0.0329194722295225, 0.001680573657363011, 0.04982406607711514, 0.0031634327668009616, 0.004053148232463732, 0.0036577191366136117, 0.0012851445615128907, 0.440697553052486, 0.005290658488949377, 0.004718695409062958, 0.00986636312804073, 0.0001429907699716048, 0.5093331226388562, 0.0002859815399432096, 0.0005719630798864192, 0.028884135534264166, 0.12726177421021656, 0.3031669951743382, 0.06275442860503791, 0.14242450626143383, 0.09123932985732468, 0.045400550303644746, 0.07861832745631146, 0.024365546301956063, 0.024803775551991245, 0.03593479850288484, 0.000438229250035181, 0.058635073654707215, 0.0020158545501618324, 0.0007011668000562896, 0.002103500400168869, 0.994346917607195, 0.9766563154259258, 0.9790116206561081, 0.9921049529841058, 0.9163568065865759, 0.033939140984688, 0.048363275903180396, 0.9886385172358265, 0.2716892370217603, 0.002602387327794639, 0.0006072237098187491, 8.67462442598213e-05, 0.002602387327794639, 0.1172809222392784, 8.67462442598213e-05, 8.67462442598213e-05, 0.44570220300696184, 0.1531938673628444, 0.005638505876888384, 0.0003469849770392852, 0.23863544870368475, 0.7602680641393034, 0.9779828512858366, 0.9826745292079767, 0.024490618807745525, 0.10612601483356393, 0.8653351978736752, 0.9741227295931439, 0.9913941182956498, 0.9928395753110298, 0.992417066793864, 0.004918507433126324, 0.016863454056433108, 0.10574790981221596, 0.030213688517775988, 0.3204056270722291, 0.008431727028216554, 0.12963780305882952, 0.043212601019609845, 0.12226004190914004, 0.21465771726001312, 0.0017566097975451156, 0.0014052878380360924, 0.9706387085351397, 0.9822730427645014, 0.27875845101402114, 0.025137033940699077, 0.006378053387938572, 0.0011255388331656304, 0.6333031834611947, 0.00037517961105521013, 0.020259698996981348, 0.003376616499496891, 0.012005747553766724, 0.019509339774870925, 0.9855613063672174, 0.012944368153748116, 0.20177985651430888, 0.13724837410077045, 0.031599486963561574, 0.18997763849177382, 0.05482320629822732, 0.049493172352566325, 0.2320468349914552, 0.04816066386615108, 0.0005710750656065345, 0.0005710750656065345, 0.03502593735720078, 0.005330033945660989, 0.00038071671040435635, 0.8244981648195903, 0.17335602439796513, 0.20496208145431005, 0.0008165819978259365, 0.2506906733325625, 0.08165819978259364, 0.023680877936952158, 0.43768795083470197, 0.2150978934666846, 0.00926258871387637, 0.10291765237640411, 0.0020583530475280823, 0.6679355639228627, 0.0010291765237640412, 0.9914772968850625, 0.001559514196530106, 0.2528145791930472, 0.07035141819902478, 0.12025587248798818, 0.2561068869412774, 0.0036388664585702475, 0.11384453634669774, 0.03119028393060212, 0.05267692397168358, 0.0013862348413600943, 0.034655871034002354, 0.06151417108535418, 0.0003465587103400236, 0.3762074583969258, 0.00043886806553108655, 0.020919377790315125, 0.15969921273492316, 0.06465989498824674, 0.373671776240524, 4.876311839234295e-05, 0.00024381559196171474, 0.0033158920506793205, 0.0005851574207081154, 4.876311839234295e-05, 9.75262367846859e-05, 0.12263834490718976, 0.08160346144014528, 0.2627631458372678, 0.00512936043338056, 0.12916662182240138, 0.33084374795304616, 0.03590552303366392, 0.007460887903098997, 0.024014732938099897, 0.38401735225514977, 0.014030816682872826, 0.04758276962017741, 0.007015408341436413, 0.35077041707182066, 0.001220071015901985, 0.020741207270333743, 0.008540497111313895, 0.08265981132735947, 0.08326984683531047, 0.05188989092872276, 0.9340180367170097, 0.9865752732217039, 0.9891279996968402, 0.9934788706120211, 0.990968752005584, 0.9864575692400888, 0.9958129467686219, 0.9944401063516054, 0.9836459466911934, 0.9070473135431986, 0.023407672607566415, 0.06437109967080763, 0.15670594602178156, 0.382947006355479, 0.010077552798828396, 0.0458528652346692, 0.1272291040852085, 0.10757787612749312, 0.0005038776399414197, 0.13806247334394903, 0.02191867733745176, 0.006298470499267747, 0.002771327019677809, 0.3129887412254103, 0.015529975709657763, 0.07406603799990626, 0.5961121445476326, 0.0011946135161275202, 0.011362691632716556, 0.016940740252413773, 0.028923215065096684, 0.24109565700691307, 0.10577632938092502, 0.008676964519529005, 0.05991237406341456, 0.15060731273182487, 0.01280885238597139, 0.06920912176290993, 0.024997921591976422, 0.0028923215065096686, 0.261755096339125, 0.0008263775732884767, 0.004131887866442384, 0.9728585046876584, 0.9804643440314337, 0.03100062857497836, 0.07971590204994435, 0.7499199674328099, 0.13876471838323645, 0.06629005994461133, 0.04953934587258589, 0.12705594822717173, 0.006415167091414, 0.012117537839337555, 0.26694223063717143, 0.17035832609421622, 0.28832612094188476, 0.003207583545707, 0.0014255926869808889, 0.007306162520777056, 0.0007127963434904444, 0.0001781990858726111, 0.14050761230031156, 0.22873332234934443, 0.6273828270153446, 0.025298288211644045, 0.7959230675817242, 0.05838066510379395, 0.11870735237771436, 0.997213481715419, 0.04749630135276955, 0.9448536065225709, 0.006916937090209158, 0.01665169511350962, 0.17983830722590388, 0.3038293908403447, 0.3934923645284734, 0.0002561799248232249, 0.040988787971715984, 0.06430116113062945, 0.0007685397744696746, 0.982963419421392, 0.8889388365076036, 0.060791946238584506, 0.04932176770300253, 0.9516606091501882, 0.04629700260730645, 0.84903618715416, 0.047538048066971365, 0.05817593294909083, 0.0003324339025662333, 0.044878576846441504, 0.9954307190702255, 0.012544414305128634, 0.8856356499420815, 0.10035531444102908, 0.9727510188315015, 0.9925133057110488, 0.9752504974452264, 0.9821170658563095, 0.22289004827925044, 0.775049486061939, 0.7296085402960982, 0.018077515864620867, 0.19089856753039636, 0.06074045330512611, 0.9898344558382212, 0.054429110451292846, 0.1800073848912038, 0.22625434148380555, 0.5393106630337252, 0.16359653186557715, 0.17321985726943465, 0.06323899551106343, 0.39008836904922284, 0.02130879196568442, 0.04605448586131794, 0.14263143009288765, 0.10291451981390967, 0.006597084603455748, 0.41614409678598857, 0.021902320883473082, 0.40268604419493886, 0.0002638833841382299, 0.0007916501524146898, 0.007652618140008668, 0.040638041157287405, 0.9739839421767602, 0.020794511742322143, 0.03679029000564687, 0.6118385185721708, 0.04318860131097676, 0.11197044784327308, 0.02159430065548838, 0.059184379574301484, 0.04558796805047547, 0.03679029000564687, 0.011197044784327308, 0.9905144064487104, 0.9688294473587921, 0.07475807090956871, 0.32931356471567574, 0.08469122063875285, 0.048183188984848455, 0.014788532619195794, 0.13732208860681808, 0.2911376534430651, 0.0026315433984032614, 0.008450590068111882, 0.002149711508554777, 0.002816863356037294, 0.000518895881375291, 0.0004077039067948715, 0.0015937516356526796, 0.0013713676864918404, 0.09824097458785394, 0.16719602179179477, 0.39722366960725763, 0.004792242662822143, 0.004082280786848492, 0.03975786505452445, 0.209438753412227, 0.015885396974910437, 0.03416691528123195, 0.003638554614364961, 0.0007987071104703572, 0.024227449017600836, 8.874523449670636e-05, 0.00044372617248353177, 8.874523449670636e-05, 0.9917946992132287, 0.021084755236665528, 0.23079259110404157, 0.3487532487794406, 0.0005698582496396088, 0.017665605738827875, 0.10599363443296723, 0.005698582496396088, 0.20799826111845723, 0.0011397164992792176, 0.0324819202294577, 0.027923054232340833, 0.17066879835483717, 0.08381057062067897, 0.7238185644513183, 0.021333599794354646, 0.002467139753743608, 0.16776550325456535, 0.8289589572578523, 0.9925375441338766, 0.13042529355303098, 0.11669631528429088, 0.004576326089580035, 0.037754690239035285, 0.15330692400093116, 0.5285656633464939, 0.022881630447900172, 0.00800857065676506, 0.992628214779371, 0.9945623186766436, 0.003147349109736214, 0.5042243738471154, 0.002766663230985544, 0.016599979385913264, 0.4758660757295135, 0.9909758356258601, 0.9942224142325135, 0.998657135576102, 0.9965913031269074, 0.9902399169209823, 0.09443102854624426, 0.08989833917602454, 0.0060435858269596325, 0.15486688681584057, 0.03021792913479816, 0.012087171653919265, 0.01510896456739908, 0.006799034055329586, 0.5152156917483086, 0.07252302992351559, 0.002266344685109862, 0.9933844294996865, 0.9853437358090701, 0.9862859793676577, 0.0475917287899877, 0.1134879686530476, 0.02196541328768663, 0.18670601294533637, 0.626014278699069, 0.3561921189604206, 0.055234027524119676, 0.013741148310878554, 0.331943033705929, 0.06937932725590643, 0.11248881215278032, 0.04647741340444217, 0.0005388685612109237, 0.010777371224218473, 0.0006735857015136545, 0.0024249085254491568, 0.00013471714030273093, 0.9817988057150154, 0.017294340831337195, 0.00038863687261431895, 0.04517903644141458, 9.715921815357974e-05, 0.07840748904993886, 0.04527619565956816, 0.02283241626609124, 0.003011935762760972, 0.7869896670439959, 0.00029147765446073924, 0.00038863687261431895, 0.01235872643512388, 0.0009506712642402985, 0.23006244594615224, 0.7225101608226269, 0.033273494248410446, 0.9915400383760691, 0.0455357852149584, 0.08022971680730766, 0.8716850312577751, 0.9901491774373142, 0.980574748356511, 0.08994037088284337, 0.016689965730836916, 0.12053864138937773, 0.015762745412457087, 0.22438731704791853, 0.5322244627500217, 0.001886419592312323, 0.3112592327315333, 0.001886419592312323, 0.18675553963891997, 0.4980147723704533, 0.9813249007904702, 0.9963273506426058, 0.9960872490333925, 0.9904199327970568, 0.06969428201793482, 0.09019260025850388, 0.21318250970191827, 0.06764445019387791, 0.5575542561434785, 0.1513978743723272, 0.8395700306101782, 0.9823463043593098, 0.9799504642494586, 0.992414435266377, 0.980606603224413, 0.9863908910942056, 0.9912432881399124, 0.024502025031721858, 0.0054448944514937465, 0.019057130580228114, 0.6806118064367183, 0.04355915561194997, 0.2259631197369905, 0.09879817561995849, 0.4142916183520307, 0.07464062797620688, 0.10148234758037533, 0.02684171960416845, 0.18654995124897072, 0.07773774946899555, 0.01889244110601087, 0.0009291364478366002, 0.8774119351092642, 0.11910569254876889, 0.9894745572516409, 0.5131861364908451, 0.00373226281084251, 0.05891643437115676, 0.15408913604764077, 0.017861543451889155, 0.033323775096808124, 0.027991971081318824, 0.1652859244801683, 0.00026659020077446496, 0.025592659274348638, 0.30250658958039195, 0.0724635556789532, 0.12307302313726971, 0.0034506455085215808, 0.09316742873008269, 0.011502151695071936, 0.3393134750046221, 0.01955365788162229, 0.0034506455085215808, 0.031055809576694227, 0.0011502151695071937, 0.9871023383568341, 0.9963438183085418, 0.0020442165268335383, 0.07884835174929362, 0.918729313345473, 0.11732358062070714, 0.08511710750914046, 0.7499507310264809, 0.048309709667349994, 0.10381949970048375, 0.1292446833006022, 0.07203802020033566, 0.031781479500148084, 0.04449407130020732, 0.02966271420013821, 0.5890167534027445, 0.010116274953141458, 0.019220922410968767, 0.047546492279764846, 0.1396045943533521, 0.7182555216730434, 0.06373253220479118, 0.988128901865752, 0.9758600456985844, 0.991999083593626, 0.9875736481296838, 0.9853113568819472, 0.9905590910776869, 0.9739073658440849, 0.1573143410564232, 0.001991320772866116, 0.840337366149501, 0.02643875019187158, 0.011330892939373536, 0.8082703630086455, 0.15107857252498047, 0.9970652006651, 0.9926656779424672, 0.9811924145671568, 0.981997761226565, 0.9913648497045309, 0.7811783327226175, 0.21662928554492752, 0.005152935169220082, 0.056682286861420905, 0.08187441435538576, 0.013741160451253552, 0.1522978616680602, 0.6899207643233555, 0.9817219788069352, 0.9947011001759296, 0.9827292723419399, 0.058595520759623654, 0.7929534542998317, 0.0017666991183806127, 0.004122297942888096, 0.0008833495591903063, 0.0091279454449665, 0.039161830457436916, 0.06742901635152672, 0.02591158706958232, 0.9917841551861267, 0.9612866036021785, 0.03433166441436352, 0.9882214891874935, 0.05196498882300724, 0.2644785252036637, 0.010082759025359614, 0.00038779842405229286, 0.11284934139921722, 0.10586896976627595, 0.08260106432313838, 0.03994323767738617, 0.16481433022222447, 0.02288010701908528, 0.00038779842405229286, 0.12836127836130892, 0.00038779842405229286, 0.010082759025359614, 0.004265782664575221, 0.23024056642070767, 0.7674685547356922, 0.21533093658703872, 0.013248894678445249, 0.00014559224921368406, 0.059547229928396776, 0.03450536306364312, 0.0007279612460684203, 0.022857983126548395, 0.002620660485846313, 0.1635000958669672, 0.0237315366218305, 0.3261266382386523, 0.00014559224921368406, 0.1260828878190504, 0.011356195438667357, 0.07397238290600906, 0.37261950569149954, 0.035848685098904674, 0.09148308678124327, 0.09362021993137028, 0.004481085637363084, 0.18986015146612206, 0.0201304154786157, 0.0008962171274726168, 0.05046391825461196, 0.00020681933710906542, 0.0623905000279014, 0.0001378795580727103, 0.0034469889518177568, 0.00041363867421813084, 0.9885294154368862, 0.08329534998334322, 0.0051719334956977815, 0.0002722070260893569, 0.6296148513446825, 0.06451306518317759, 0.0038108983652509966, 0.03702015554815254, 0.013338144278378488, 0.03320925718290154, 0.057435682504854306, 0.06369644410490952, 0.008438417808770065, 0.0005444140521787138, 0.9807439287914881, 0.11850143759776137, 0.8690105423835833, 0.11099930728356194, 0.10371232985883955, 0.015421277805807841, 0.7698776381514838, 0.35328740819583926, 0.08411604957043793, 0.05888123469930655, 0.5025933961833666, 0.01784732174060196, 0.9756535884862406, 0.10224444537875689, 0.07461081149260639, 0.16580180331690308, 0.013816816943075256, 0.6411003061586918, 0.9759203919121856, 0.9947274662269042, 0.9864414551302114, 0.05727565988294776, 0.9384396580821441, 0.9935974465012312, 0.8029834912074008, 0.19375472300278077, 0.0077131858666393, 0.04113699128874294, 0.23653769991027188, 0.712184161686362, 0.16778998892080432, 0.827378221230173, 0.7899212088312352, 0.07787955580026262, 0.13165353480520586, 0.8828945187022298, 0.09700592641792015, 0.007498042621674987, 0.012184319260221855, 0.9947977448297324, 0.07774947785343116, 0.006138116672639302, 0.07365740007167161, 0.061381166726393016, 0.036828700035835805, 0.597443356136892, 0.1186702556710265, 0.026598505581436973, 0.9787602035209573, 0.48484251936928197, 0.000404035432807735, 0.5098927162033615, 0.0040403543280773495, 0.7295261122560375, 0.10360134138547278, 0.09928461882774475, 0.045325586856144344, 0.019425251509776146, 0.018978601694207453, 0.21100754429105195, 0.09575567218441033, 0.08264318374113973, 0.15734986131924725, 0.028295369798636567, 0.12198064907095153, 0.18719802580195533, 0.023982051231771235, 0.006038645993611463, 0.010524497303151406, 0.04917183166226476, 0.005348515022913009, 0.0012077291987222924, 0.0005175982280238396, 0.9838195206204792, 0.025979999013438553, 0.2679651326814662, 0.008165142547080688, 0.3600085577576485, 0.33848227286079946, 0.03135805995495428, 0.4223738687810169, 0.1369515271502085, 0.3705370757942557, 0.02815825791873446, 0.009599406108659475, 0.9810460719476226, 0.4630726957199052, 0.018035937515867777, 0.0027053906273801667, 0.07980902350771492, 0.3226178323150849, 0.015330546888487612, 0.004508984378966944, 0.07530003912874797, 0.015555996107435958, 0.0013526953136900834, 0.0015781445326384306, 0.13188349122489293, 0.857242692961804, 0.07193436544541737, 0.9253929385266404, 0.0012192265329731757, 0.302861751883482, 0.6922554328765304, 0.03493381142444461, 0.9519463613161155, 0.9909344309426673, 0.9793710031006145, 0.01450920004593503, 0.9920645257334132, 0.16176497304343623, 0.814551058953232, 0.00143154843401271, 0.00143154843401271, 0.02004167807617794, 0.042976087349138416, 0.6509900504136534, 0.27690274462456227, 0.001465093886902446, 0.00488364628967482, 0.022464772932504172, 0.9894109667587134, 0.9894900277608281, 0.006520623135154021, 0.3698890466119562, 0.10504455899919356, 0.03251379207117896, 0.08333892308354386, 0.0052700926708779084, 0.10129296760636522, 0.03456823497677543, 0.034746882185957735, 0.0010718832550938118, 0.20973182358002251, 0.015006365571313365, 0.0010718832550938118, 0.9856152980475028, 0.5689796797311933, 0.013222323800466685, 0.06884003502465194, 0.06170417773551119, 0.2728416022318522, 0.008185248066955567, 0.006296344666888897, 0.03323722741598197, 0.003693025268442442, 0.11725355227304753, 0.0350837400502032, 0.5040979491423933, 0.30375132832939084, 0.001846512634221221, 0.06620580212102942, 0.9268812296944119, 0.02598713047820377, 0.005197426095640754, 0.30145071354716374, 0.6652705402420165, 0.9866665214351158, 0.9825563446960481, 0.01410367958893849, 0.9944399665758278, 0.9875711100493388, 0.9907551011061277, 0.9726572726165429, 0.9894387116388452, 0.9837054162595041, 0.05433603915777458, 0.8221278968219806, 0.12284669722627296, 0.10951133202506586, 0.13529654870686808, 0.05955879461012353, 0.11446613836784354, 0.11800528575554188, 0.06886169631493061, 0.20112469011805725, 0.04722233800157503, 0.049244707937402654, 0.015572248505872707, 0.00010111849679138122, 0.044289901594624974, 0.031144497011745414, 0.005460398826734585, 0.00010111849679138122, 0.04019772134015066, 0.034198061438635644, 0.5735674865848364, 0.3077825529477208, 0.04319755129090818, 0.42224971590591553, 0.0008089075017354703, 0.05500571011801198, 0.12133612526032055, 0.021436048795989964, 0.0873620101874308, 0.044085458844583134, 0.1702750291153165, 0.07684621266486968, 0.00040445375086773516, 0.09154436546773427, 0.13247883783135528, 0.3308249630114462, 0.011163947008260277, 0.008186894472724202, 0.2742609648362608, 0.00893115760660822, 0.14215425857184752, 0.9974883491971185, 0.9770084005720142, 0.3313859772192649, 0.07115649817591577, 0.5885658920550747, 0.007115649817591577, 0.9929049277384036, 0.020132906227927478, 0.36422257630523347, 0.46927974153096413, 0.12756941491695867, 0.00036605284050777233, 0.01628935140259587, 0.002013290622792748, 0.984023730033709, 0.05691590434239322, 0.6101057371954381, 0.2227500141169922, 0.0028662685640054144, 0.03930882602064568, 0.013102942006881894, 0.028253218702339083, 0.02497748320061861, 0.0008189338754301184, 0.9909951388065539, 0.9993328868930557, 0.9971776543073152, 0.8533418710959614, 0.14222364518266023, 0.9905522769495051, 0.15516666726405573, 0.8440626510037641, 0.9834880459785158, 0.9864898200494766, 0.1569326963777705, 0.32435554625672885, 0.024966565332827123, 0.36337891728114774, 0.0010490153501187868, 0.12902888806461077, 0.9881702907456081, 0.9024047079964731, 0.04749498463139332, 0.04452654809193124, 0.9985928260387553, 0.22212312689314864, 0.08757839704617926, 0.009393266560158027, 0.03840188387829311, 0.11769210454786234, 0.013261082202576038, 0.03232388786877909, 0.05884605227393117, 0.025140801675717073, 0.2878759928142548, 0.04337478970425913, 0.009669539106045028, 0.05111042098909515, 0.003038998004757009, 0.8745656907718868, 0.12075593219862872, 0.001724600031617762, 0.3099968556832927, 0.21385040392060248, 0.001724600031617762, 0.41390400758826285, 0.002586900047426643, 0.019832900363604262, 0.0021557500395222025, 0.031042800569119715, 0.002586900047426643, 0.03469630430235742, 0.22552597796532323, 0.2290664171798495, 0.029739689402020642, 0.08107605801265151, 0.17773004856921862, 0.008851098036315667, 0.012037493329389309, 0.03894483135978894, 0.010621317643578801, 0.03434226038090479, 0.03363417253799954, 0.0821381897770094, 0.0017702196072631336, 0.9841503290567035, 0.9722033411670197, 0.0019150608658298467, 0.7851749549902372, 0.1512898084005579, 0.061281947706555095, 0.009795052487914013, 0.10889793648327932, 0.02131864365016579, 0.01094741160413919, 0.1365545552726836, 0.5819413536937149, 0.02189482320827838, 0.026504259673179095, 0.08239367681010022, 0.22998967890802577, 0.16587134418215194, 0.503189539913923, 0.0006969384209334114, 0.07666322630267526, 0.009060199472134349, 0.01393876841866823, 0.49398641037610586, 0.1683486025411107, 0.3366972050822214, 0.006856645786170803, 0.6013278354471794, 0.2783798189185346, 0.02331259567298073, 0.03359756435223694, 0.05622449544660058, 0.0006856645786170802, 0.9738717056666878, 0.9113135359208216, 0.06231203664415874, 0.024924814657663497, 0.9878578760135487, 0.010781532071089207, 0.9874446976272794, 0.9920186510206869, 0.10411849819437448, 0.08141596851289433, 0.7186524912965095, 0.0007828458510855224, 0.0031313834043420895, 0.03992513840536164, 0.051667826171644476, 0.06611156195457328, 0.0950353703096991, 0.012395917866482491, 0.8222625518100052, 0.9883796032044052, 0.10746051574991748, 0.08979577343486256, 0.14033656394738084, 0.13248556736291198, 0.20069110019048517, 0.1094232648960347, 0.021099553320760054, 0.0137392440228205, 0.05005010322598897, 0.0009813745730586072, 0.04612460493375454, 0.03287604819746334, 0.055447663377811304, 0.8373032027451218, 0.0030010867481904007, 0.15605651090590084, 0.045127263510628214, 0.26034959717670125, 0.5359730373877689, 0.0006942655924712033, 0.00208279677741361, 0.03783747478968058, 0.0006942655924712033, 0.07220362161700514, 0.00034713279623560165, 0.004512726351062821, 0.0013885311849424066, 0.02742349090261253, 0.004859859147298423, 0.006595523128476432, 0.07869450001950991, 0.18095526742454152, 0.4923666578760781, 0.02440791979214746, 0.024828745995460345, 0.197788315557057, 0.9945478090768803, 0.8214728728619721, 0.0009849794638632759, 0.17729630349538966, 0.9975087205148815, 0.9987502031357882, 0.9915528652868851, 0.2395473950511433, 0.6342561709876863, 0.12521795650400672, 0.9923012237860094, 0.9964869065515536, 0.1844202159746939, 0.03688404319493878, 0.7776385773599592, 0.9906578177785925, 0.966314227170089, 0.030009758607766737, 0.9816241619983265, 0.05223060065545703, 0.6090526335173049, 0.05332634752235473, 0.15066519419843374, 0.05423946991143615, 0.005296109856672216, 0.0010957468668977, 0.014609958225302666, 0.03871638929705207, 0.011322717624609567, 0.009496472846446733, 0.025093731340068568, 0.18521563608145847, 0.07528119402020571, 0.271251286390265, 0.44212764742025573, 0.9821033765905021, 0.06727973203946797, 0.46002516781986225, 0.04457282247614753, 0.4272262984506216, 0.9906729272037492, 0.9961515737081129, 0.9881620280972017, 0.0949988726187606, 0.16737896604257818, 0.0180950233559544, 0.1560695764451067, 0.0022618779194943, 0.558683846115092, 0.13384827804757368, 0.04247108822663395, 0.0476190989207714, 0.0952381978415428, 0.08687268046356945, 0.003861008020603087, 0.0238095494603857, 0.09845570452537872, 0.0012870026735343622, 0.003861008020603087, 0.030888064164824695, 0.09395119516800844, 0.3365511991292357, 0.9898590426603268, 0.9942445666738831, 0.25885763526045685, 0.033712306941479316, 0.08989948517727818, 0.39529332452950255, 0.0908249210541031, 0.04415651183707487, 0.02154943541749462, 0.001322051252607032, 0.007535692139860083, 0.03675302482247549, 0.004230564008342502, 0.0003966153757821096, 0.0010576410020856255, 0.014410358653416649, 0.9990633893116255, 0.9955597573360255, 0.19291753526050737, 0.002411469190756342, 0.8044661220363156, 0.9855752536181802, 0.9910848357712154, 0.9834294568023254, 0.11828708638967973, 0.036964714496774916, 0.7503837042845308, 0.0887153147922598, 0.053116091954076766, 0.2262352064710677, 0.11606849723298257, 0.6039496381445025, 0.004669378171641983, 0.10208958638908153, 0.02016322392299947, 0.35784416351765375, 0.2039669283158157, 0.0008489778493894514, 0.09529776359396591, 0.06791822795115611, 0.019526490535957383, 0.024195868707599363, 0.047118270641114554, 0.053273360049188076, 0.0008489778493894514, 0.0021224446234736284, 0.0004244889246947257, 0.010956957037958582, 0.1549853633195301, 0.04493940350351129, 0.31902212593128687, 0.21866275132273869, 0.024931047173326053, 0.04176347392729141, 0.05621395349909186, 0.0603426619481777, 0.01730881619039834, 0.002699540139786897, 0.03636439364771762, 0.009845381686281626, 0.0017467612669209336, 0.9340031117899901, 0.06286559406278779, 0.0058607563533107305, 0.9846070673562027, 0.9855293382589754, 0.9826293539357761, 0.15444744209248376, 0.013430212355868153, 0.1888623612543959, 0.05120268460674733, 0.5825354609357811, 0.0016787765444835191, 0.007554494450175836, 0.3285444444298508, 0.0031120583369539318, 0.0026674785745319416, 0.0004445797624219903, 0.010225334535705776, 0.6521985114730597, 0.0017783190496879612, 0.9844127767142796, 0.9545136946090831, 0.043199973247393844, 0.19001179104738097, 0.8079631810623418, 0.001649684173775323, 0.9964092409602949, 0.9776324182848756, 0.9860246429133964, 0.9524469236351901, 0.04373480771794241, 0.9954419191652444, 0.03073820561773974, 0.015960222147672558, 0.4155568951782892, 0.0011822386776053745, 0.08334782677117891, 0.10226364561286491, 0.07388991735033591, 0.06029417255787411, 0.21516743932417817, 0.002364477355210749, 0.892179708393029, 0.021584992944992637, 0.010792496472496318, 0.07434830903275241, 0.9865579511624755, 0.13463206786988477, 0.23834620034802198, 0.17634674260478223, 0.10993043694843567, 0.14477445937405592, 0.047440218325961826, 0.034844022425620236, 0.04310516389272738, 0.02347472872336387, 0.0036807065942556587, 0.0022902174364257434, 0.033289946308045625, 0.00727961970863897, 0.0002453804396170439, 0.0004907608792340878, 0.03986112427479984, 0.3939106384703097, 0.03854495507704701, 0.07426954758748083, 0.019554513795184827, 0.20156191142728974, 0.048698260316854515, 0.03328027828603571, 0.0035724592510433814, 0.11074623678234483, 0.0065808459887641245, 0.0287676981794546, 0.0007520966844301857, 0.9916098848059498, 0.01756924786846486, 0.003513849573692972, 0.16749349634603167, 0.11127190316694412, 0.024596947015850804, 0.13469756699156393, 0.10775805359325114, 0.37129677162022406, 0.0632492923264735, 0.13648792470441187, 0.12461940951272388, 0.13055366710856786, 0.0044506931968829955, 0.06082614035740094, 0.5415010056207644, 0.006237741029722312, 0.008506010495075881, 0.04649952403974814, 0.21832093604028094, 0.16104713204010332, 0.13723030265389086, 0.003402404198030352, 0.028920435683257993, 0.009640145227752665, 0.37936806808038426, 0.001134134732676784, 0.010490510715230416, 0.03147153214569125, 0.14686715001322584, 0.035405473663902655, 0.1245748147433612, 0.03278284598509505, 0.5835346585346919, 0.035405473663902655, 0.004052570588661328, 0.06619198628146837, 0.17561139217532423, 0.728111849096152, 0.024315423531967972, 0.3341923573076783, 0.009114337017482136, 0.05620507827447317, 0.5985081308146603, 0.011206728582735522, 0.011206728582735522, 0.09712498105037452, 0.7483604309137831, 0.13199035886332947, 0.9956917676894561, 0.000806776208328023, 0.4614759911636291, 0.12182320745753146, 0.0004033881041640115, 0.10871309407220109, 0.0012101643124920343, 0.06373532045791382, 0.02985071970813685, 0.02077448736444659, 0.15046376285317628, 0.04054050446848315, 0.00020169405208200574, 0.06075567720352013, 0.6747758191539895, 0.0649568676484444, 0.0032316849576340496, 0.00581703292374129, 0.08305430341119507, 0.006463369915268099, 0.010018223368665554, 0.02229862620767494, 0.011310897351719173, 0.00032316849576340497, 0.033932692055157525, 0.022621794703438346, 0.99095287846521, 0.37728399415128744, 0.6219290841087629, 0.9735184716149934, 0.9633248161964445, 0.10886705098432883, 0.10609924460337132, 0.0009226021269858375, 0.025832859555603452, 0.20666287644482761, 0.5498708676835592, 0.9941214753539184, 0.19077521716022294, 0.35149521458534994, 0.08784479281647736, 0.04390305585499859, 0.0659899676551785, 0.07399695669657472, 0.1302779666252293, 0.002552953027691548, 0.009941044365404968, 0.013847836119902639, 0.004757776097061521, 0.019108466601206436, 0.00030944885184139976, 0.0018180120045682235, 0.003365256263775222, 0.010773071922425275, 0.5234100657820498, 0.05796938701114553, 0.04155327741506892, 0.11799078772180065, 0.02894805040379581, 0.05987482830354728, 0.018614695702694015, 0.04016083954754457, 0.0010992930533087017, 0.0032245929563721916, 0.0916077544423918, 0.0016855826817400092, 0.002858161938602624, 0.0001465724071078269, 0.9926954756817088, 0.9819259382249227, 0.1604025235696587, 0.13758149642396345, 0.1521144816164079, 0.18677006169069849, 0.0880074408338214, 0.04059213105475862, 0.10701211377778722, 0.03673722782068848, 0.015535260033302682, 0.04436993622414736, 0.005705256786423814, 0.01414749486903743, 0.0012335690349024463, 0.00038549032340701444, 0.009405963891131153, 0.1326230098375983, 0.028712198006077987, 0.16543695041597317, 0.00045574917469965056, 0.12487527386770426, 0.13581325406049588, 0.0360041848012724, 0.36915683150671696, 0.0018229966987986022, 0.0050132409216961564, 0.11867827579986243, 0.006246225042098022, 0.11659620078582975, 0.008328300056130696, 0.002082075014032674, 0.7453828550236973, 0.1353870785742222, 0.7780244115398635, 0.02166193257187555, 0.0018051610476562958, 0.019856771524219254, 0.03971354304843851, 0.98605162086798, 0.49715237010649266, 0.07426995369212361, 0.3132870292394451, 0.0035404109281202993, 0.10723511322284372, 0.004169817315341685, 7.867579840267331e-05, 7.867579840267331e-05, 0.7493210410546493, 0.22515656281690183, 0.025217535035493004, 0.04947245507439281, 0.33476361267005805, 0.11873389217854274, 0.4963736325797412, 0.9848868368555869, 0.11538614565701351, 0.878709878464949, 0.9779088939183836, 0.9956431528076369, 0.2594833919683561, 0.29296718520779613, 0.08162875024911277, 0.1208105503686869, 0.01562150200845766, 0.006658345118359003, 0.18854640743814677, 0.014725186319447794, 0.01895067456763716, 0.00012804509842998083, 6.402254921499041e-05, 0.0003841352952899425, 0.9917716552959189, 0.1072501813047295, 0.1796973236430236, 0.7102661013558245, 0.001420532202711649, 0.9936714056827118, 0.9865137257530884, 0.2407916439325346, 0.09827057544740672, 0.006321499005388737, 0.1436704319406531, 0.0017240451832878374, 0.20918414890559092, 0.29940918016432105, 0.9850437310044129, 0.3756728398126747, 0.5596758633943929, 0.06133434119390607, 0.9848874862014803, 0.991266766543217, 0.08527891949045545, 0.09607371942595613, 0.8171663551174022, 0.9908635872024413, 0.978523001740145, 0.9810164459688665, 0.9794849915104098, 0.05459506759210014, 0.9402483863083912, 0.18035262818306713, 0.5413810971445115, 0.009373165263994529, 0.014867779384267183, 0.07983351104160857, 0.0006464251906203123, 0.07175319615885467, 0.0009696377859304685, 0.08888346371029295, 0.0003232125953101562, 0.0012928503812406247, 0.01001959045461484, 0.004864376788739151, 0.39117696676110675, 0.5938593329585714, 0.0072965651831087275, 0.0024321883943695757, 0.9920957871787087, 0.9942839095003654, 0.9967384912274954, 0.4867974346370021, 0.5099782648578117, 0.05684521311457, 0.9420063887557314, 0.9839957948048216, 0.03563009689561717, 0.11876698965205723, 0.688848539981932, 0.13064368861726297, 0.02375339793041145, 0.8803252968113724, 0.11810452121821118, 0.18133591329147697, 0.8160116098116464, 0.9936036770248458, 0.9896623030391327, 0.004089513648922036, 0.004089513648922036, 0.8852248973782126, 0.11344629752808162, 0.46353719811780364, 0.030515778548560524, 0.002017572135442018, 0.32533350684002543, 0.07263259687591266, 0.006557109440186558, 0.023958669108373964, 0.002774161686232775, 0.0168971666343269, 0.0058005198893958014, 0.04968271383525969, 0.9892372495443468, 0.8574268809703494, 0.13609950491592848, 0.016074287607273103, 0.13596782728353946, 0.11333110115770073, 0.062380033558500206, 0.11738654069164578, 0.008332084860650736, 0.21538070688460886, 0.26588936289828813, 0.004276645326705688, 0.006193762197297893, 0.0013272347565638342, 0.04608454015846646, 0.007520996953861727, 0.009964505533640528, 0.9765215422967718, 0.9871304023444153, 0.2664813988681109, 0.005561350932899706, 0.08728231325245371, 0.00015448197035832515, 0.6046424319824847, 0.035530853182414786, 0.00015448197035832515, 0.00015448197035832515, 0.9753847232128294, 0.27327191447483723, 0.7231707980614595, 0.020846369266013246, 0.3565263666777137, 0.04757248370961997, 0.07697120959758737, 0.12048132391177913, 0.1430381645021832, 0.060187209727002346, 0.05494889129605543, 0.08060596116191789, 0.0005345222888721345, 0.0026726114443606725, 0.02651230552805787, 0.007910929875307591, 0.001069044577744269, 0.0001069044577744269, 0.0480758907298121, 0.013171476912277288, 0.5617634903086263, 0.01778149383157434, 0.3549713027858729, 0.003292869228069322, 0.9793417567454927, 0.9909770533189013, 0.2402939815127982, 0.0035533305953833376, 0.27005312524913366, 0.4157396796598505, 0.07017827925882092, 0.6704865249314486, 0.15270365844619538, 0.12310264157816365, 0.0535637448088193, 0.9805010203788124, 0.9765746468871219, 0.7333059677406057, 0.127823976028179, 0.04228763116721711, 0.08841959244054487, 0.0076886602122212926, 0.07481159858262339, 0.19810048039056194, 0.18212591071435694, 0.0517987284055162, 0.10114591393993162, 0.13024810028074071, 0.027520545778808605, 0.06223755611471946, 0.06057683352461894, 0.024199100598607567, 0.0143929291142045, 0.06824779025032134, 0.0005535741967001731, 0.0034005272083010634, 0.0005535741967001731, 0.9360747316009869, 0.06211937578130119, 0.9948044720157468, 0.05925183994280595, 0.12610006962186907, 0.15192779472514348, 0.0030385558945028694, 0.5089581123292306, 0.1488892388306406, 0.8333677368122753, 0.0007178016682276272, 0.001076702502341441, 0.15037944949368792, 0.012202628359869664, 0.0025123058387966956, 0.9984756606766286, 0.9769744105057415, 0.22942245242968362, 0.005142227382044633, 0.7646096561147905, 0.0005933339286974576, 0.15708729401847957, 0.0052056218290724215, 0.02388461780397935, 0.07349113170455183, 0.004286982682765524, 0.16780475072539336, 0.495146499859418, 0.01990384816998279, 0.05328107048580008, 0.07514844828349224, 0.018624398908367163, 0.17703192080641478, 0.3126095343651736, 0.09627612661502703, 0.03154132073191213, 0.03885089664756161, 0.003054000896264508, 0.004606034138628439, 0.07940402330287721, 0.160310014259655, 0.000851115003876994, 0.001702230007753988, 0.0935933985710823, 0.08024057552527399, 0.05984042920528908, 0.17890310136374646, 0.03993483188700077, 0.36077349673767256, 0.027076557842889065, 0.0023491077580588687, 0.09371703582150645, 0.000247274500848302, 0.027818381345433973, 0.034989341870034725, 0.00037091175127245297, 0.000123637250424151, 0.12002227400111103, 0.03494069489834976, 0.011252088187604158, 0.00414550617438048, 0.0035532910066118396, 0.07521132630661727, 0.2029323974887206, 0.5333884611036217, 0.0013818353914601597, 0.012831328634987198, 0.11675005329448133, 0.005695124550950309, 0.7517564407254408, 0.0868506494019922, 0.038442090718914586, 0.9908316452475329, 0.0013573346879861324, 0.0002360582066062839, 0.0007671891714704226, 0.8239021556075824, 0.056181853172295564, 0.007730906266355798, 0.0004721164132125678, 0.058424406135055264, 0.0015933928945924163, 0.018294511011987, 0.02537625721017552, 0.0054883533035961, 0.00011802910330314195, 5.9014551651570976e-05, 0.9860669004007878, 0.016083127916250457, 0.1472875924961884, 0.17987708853701168, 0.10750301291388463, 0.059253629165133256, 0.17903060812036692, 0.024124691874375683, 0.038938099165659, 0.15067351416276742, 0.0033859216665790433, 0.08549452208112085, 0.007618323749802848, 0.013888975723440136, 0.17500109411534573, 0.1822233614915346, 0.03333354173625633, 0.02333347921537943, 0.0033333541736256327, 0.3133352923208095, 0.007222267376188871, 0.02444459727325464, 0.038889132025632385, 0.1822233614915346, 0.0011111180578752108, 0.037157416007546774, 0.9593369223766621, 0.9941989141204117], \"Term\": [\"ability\", \"ability\", \"ability\", \"ability\", \"ability\", \"ability\", \"ability\", \"abstract\", \"abuse\", \"accounting\", \"accuse\", \"acknowledge\", \"action\", \"action\", \"action\", \"action\", \"action\", \"action\", \"action\", \"action\", \"action\", \"active\", \"active\", \"active\", \"active\", \"active\", \"active\", \"activity\", \"activity\", \"activity\", \"activity\", \"activity\", \"activity\", \"activity\", \"activity\", \"actually\", \"actually\", \"actually\", \"actually\", \"actually\", \"actually\", \"actually\", \"actually\", \"actually\", \"actually\", \"adventure\", \"adventure\", \"adventure\", \"adventure\", \"adventure\", \"adventure\", \"adventure\", \"adventure\", \"adventure\", \"age\", \"age\", \"age\", \"age\", \"age\", \"age\", \"age\", \"age\", \"age\", \"age\", \"age\", \"age\", \"age\", \"ago\", \"ago\", \"aka\", \"album\", \"allergic\", \"allergic\", \"alot\", \"alot\", \"alot\", \"alot\", \"also\", \"also\", \"also\", \"also\", \"also\", \"also\", \"also\", \"also\", \"also\", \"also\", \"also\", \"also\", \"also\", \"also\", \"also\", \"always\", \"always\", \"always\", \"always\", \"always\", \"always\", \"always\", \"always\", \"always\", \"always\", \"always\", \"always\", \"always\", \"amaze\", \"ambitious\", \"ambitious\", \"ambitious\", \"ambitious\", \"ambitious\", \"ambitious\", \"ambitious\", \"ambitious\", \"amuse\", \"analysis\", \"animal\", \"animal\", \"animal\", \"animal\", \"animal\", \"animal\", \"animal\", \"animal\", \"animal\", \"animal\", \"animal\", \"animate\", \"animation\", \"animation\", \"anime\", \"annoying\", \"answer\", \"answer\", \"answer\", \"answer\", \"answering_question\", \"anxiety\", \"apparent\", \"appear\", \"appear\", \"appear\", \"appreciate\", \"appreciate\", \"appreciate\", \"appreciate\", \"appreciate\", \"appreciate\", \"appreciate\", \"appreciate\", \"appreciate\", \"appreciate\", \"approach\", \"approach\", \"approach\", \"approach\", \"approach\", \"approach\", \"approachable\", \"approachable\", \"architect\", \"architecture\", \"architecture\", \"architecture\", \"art\", \"art\", \"art\", \"art\", \"art\", \"art\", \"art\", \"art_gallerie\", \"artist\", \"artist\", \"artist\", \"ask\", \"ask\", \"ask\", \"ask\", \"ask\", \"ask\", \"ask\", \"ask\", \"asshole\", \"assumption\", \"astronomy\", \"attempt\", \"attempt\", \"attempt\", \"attempt\", \"attempt\", \"attempt\", \"attempt\", \"attempt\", \"attempt\", \"attract\", \"attract\", \"attract\", \"attract\", \"attract\", \"audio\", \"authentic\", \"authentic\", \"authenticity\", \"authenticity\", \"awareness\", \"awesomeness\", \"awkward\", \"awkward\", \"awkward\", \"awkward\", \"baby\", \"baby\", \"baby\", \"bachelor_degree\", \"back\", \"back\", \"back\", \"back\", \"back\", \"back\", \"back\", \"back\", \"back\", \"back\", \"back\", \"back\", \"back\", \"back\", \"backpack\", \"backpack\", \"backpack\", \"backpack\", \"backpack\", \"bad\", \"bad\", \"bad\", \"bad\", \"bad\", \"bad\", \"bad\", \"bad\", \"bad\", \"bag\", \"bag\", \"bagel\", \"band\", \"band\", \"band\", \"band\", \"bare\", \"barefoot\", \"baseball\", \"basketball\", \"bass\", \"bath\", \"bathroom\", \"bay\", \"bay\", \"bay\", \"bay_area\", \"bay_area\", \"bay_area\", \"bbq\", \"beach\", \"beach\", \"beach\", \"beach\", \"bear\", \"bear\", \"bear\", \"bear\", \"bear\", \"bear\", \"bear\", \"bear\", \"bear\", \"bear\", \"beauty\", \"beauty\", \"beauty\", \"beauty\", \"beauty\", \"become\", \"become\", \"become\", \"become\", \"become\", \"become\", \"become\", \"become\", \"become\", \"become\", \"become\", \"become\", \"bed\", \"bed\", \"bed\", \"bed\", \"bed\", \"beer\", \"beer\", \"beer\", \"beer\", \"beer\", \"believe\", \"believe\", \"believe\", \"believe\", \"believe\", \"believe\", \"believe\", \"believe\", \"believe\", \"believe\", \"big\", \"big\", \"big\", \"big\", \"big\", \"big\", \"big\", \"big\", \"big\", \"big\", \"big\", \"big\", \"big\", \"big\", \"big\", \"bike\", \"bike\", \"bike\", \"bike\", \"biking\", \"birth\", \"bisexual\", \"bit\", \"bit\", \"bit\", \"bit\", \"bit\", \"bit\", \"bit\", \"bit\", \"bit\", \"bit\", \"bit\", \"bit\", \"bit\", \"bit\", \"bitch\", \"bitter\", \"black\", \"black\", \"black\", \"blah\", \"bliss\", \"blonde\", \"blonde\", \"blood\", \"blood\", \"blood\", \"blood\", \"board_game\", \"board_game\", \"book\", \"book\", \"book\", \"book\", \"book\", \"book\", \"book\", \"book\", \"book\", \"book\", \"book\", \"book\", \"book\", \"book\", \"borderline\", \"boredom\", \"bounce\", \"bowling\", \"bowling\", \"bowling\", \"bowling\", \"bowling\", \"box\", \"box\", \"box\", \"box\", \"box\", \"box\", \"box\", \"boy\", \"boy\", \"boy\", \"boy\", \"boy\", \"boy\", \"boy\", \"boy\", \"boy\", \"boy\", \"breakfast\", \"breakfast\", \"brilliant\", \"brilliant\", \"brilliant\", \"brilliant\", \"british\", \"bro\", \"brown_hair\", \"bs\", \"buck\", \"bud\", \"buddhist\", \"burrito\", \"business\", \"business\", \"business\", \"business\", \"business\", \"business\", \"butt\", \"buy\", \"buy\", \"buy\", \"ca\", \"calculate\", \"cali\", \"call\", \"call\", \"call\", \"call\", \"call\", \"call\", \"call\", \"call\", \"call\", \"call\", \"call\", \"call\", \"call\", \"call\", \"call\", \"camp\", \"camp\", \"camp\", \"camp\", \"camp\", \"camping\", \"camping\", \"camping\", \"canadian\", \"canadian\", \"canoe\", \"car\", \"car\", \"car\", \"car\", \"car\", \"card_game\", \"care\", \"care\", \"care\", \"care\", \"care\", \"care\", \"care\", \"care\", \"care\", \"care\", \"care\", \"caring\", \"caring\", \"caring\", \"casually\", \"cat\", \"cat\", \"cat\", \"categorize\", \"cerebral\", \"change\", \"change\", \"change\", \"change\", \"change\", \"change\", \"change\", \"change\", \"change\", \"change\", \"change\", \"charismatic\", \"chat\", \"chat\", \"chat\", \"chat\", \"chat\", \"cheese\", \"chemistry\", \"chemistry\", \"chemistry\", \"cherry\", \"child\", \"child\", \"child\", \"child\", \"child\", \"child\", \"child\", \"child\", \"child\", \"child\", \"chill\", \"chill\", \"chill\", \"chivalrous\", \"city\", \"city\", \"city\", \"city\", \"city\", \"classic\", \"classic\", \"clown\", \"coffee\", \"coffee\", \"coffee\", \"coffee\", \"coffee\", \"coffee\", \"coffee\", \"coffee\", \"coffee\", \"collaborate\", \"colleague\", \"college\", \"college\", \"college\", \"college\", \"college\", \"color\", \"color\", \"color\", \"color\", \"color\", \"color\", \"color\", \"com\", \"com\", \"com\", \"com\", \"come\", \"come\", \"come\", \"come\", \"come\", \"come\", \"come\", \"come\", \"come\", \"come\", \"come\", \"come\", \"come\", \"come\", \"come\", \"comedy\", \"comedy\", \"comedy\", \"comedy\", \"comedy\", \"comedy\", \"comedy_club\", \"comic_book\", \"comic_strip\", \"community\", \"community\", \"community\", \"commute\", \"commute\", \"company\", \"company\", \"company\", \"company\", \"company\", \"company\", \"company\", \"company\", \"compassion\", \"compassion\", \"complicate\", \"compose\", \"computer\", \"computer\", \"computer\", \"computer\", \"computer\", \"computer\", \"computer\", \"computer\", \"concern\", \"conclusion\", \"confident\", \"confident\", \"confident\", \"confident\", \"connect\", \"connect\", \"connect\", \"connect\", \"connected\", \"connection\", \"connection\", \"connection\", \"connection\", \"considerate\", \"considerate\", \"contemplative\", \"contradict\", \"contrast\", \"conversation\", \"conversation\", \"conversation\", \"conversation\", \"conversation\", \"conversation\", \"conversation\", \"conversation\", \"conversation\", \"conversation\", \"conversation\", \"conversation\", \"cook\", \"cook\", \"cook\", \"cook\", \"cook\", \"cook\", \"cook\", \"cook\", \"cook\", \"cook\", \"cook\", \"cooking\", \"cooking\", \"cooking\", \"cooking\", \"cooking\", \"cooking\", \"cooking\", \"cool\", \"cool\", \"cool\", \"cool\", \"cool\", \"cool\", \"cool\", \"cool\", \"cool\", \"cool\", \"cool\", \"country\", \"country\", \"country\", \"country\", \"country\", \"country\", \"country\", \"country\", \"couple\", \"couple\", \"couple\", \"couple\", \"couple\", \"couple\", \"couple\", \"couple\", \"couple\", \"couple\", \"couple\", \"cow\", \"crash\", \"create\", \"create\", \"create\", \"create\", \"create\", \"create\", \"create\", \"create\", \"create\", \"create\", \"create\", \"create\", \"creation\", \"creative\", \"creative\", \"creative\", \"creative\", \"creative\", \"creative\", \"creative\", \"creative\", \"creativity\", \"creativity\", \"creativity\", \"crisp\", \"crossword_puzzle\", \"cruise\", \"cry\", \"cry\", \"cult\", \"cultured\", \"cupcake\", \"cupid\", \"curiosity\", \"curiosity\", \"curious\", \"curious\", \"curious\", \"curious\", \"curious\", \"curious\", \"curious\", \"curious\", \"curious\", \"curious\", \"currently\", \"currently\", \"currently\", \"currently\", \"currently\", \"currently\", \"currently\", \"cuss\", \"custom\", \"cycling\", \"cycling\", \"cycling\", \"cycling\", \"cynicism\", \"dance\", \"dance\", \"dance\", \"dance\", \"dance\", \"dance\", \"dance\", \"dance\", \"dance\", \"dance\", \"dance\", \"dark\", \"dark\", \"dark\", \"dark\", \"dash\", \"date\", \"date\", \"date\", \"date\", \"date\", \"date\", \"date\", \"dating_site\", \"day\", \"day\", \"day\", \"day\", \"day\", \"day\", \"day\", \"day\", \"day\", \"day\", \"day\", \"day\", \"day\", \"day\", \"debate\", \"debate\", \"debate\", \"debate\", \"debate\", \"deck\", \"deep\", \"deep\", \"deep\", \"deep\", \"deep\", \"deep\", \"deep\", \"deep\", \"deeply\", \"deeply\", \"deeply\", \"deeply\", \"definite\", \"degree\", \"degree\", \"degree\", \"degree\", \"degree\", \"degree\", \"deliver\", \"dependable\", \"dependable\", \"depth\", \"depth\", \"descent\", \"design\", \"designer\", \"desk\", \"desperately\", \"difficulty\", \"digital\", \"digital\", \"dining\", \"dinner\", \"dinner\", \"dinner\", \"dinner\", \"dinner\", \"dinner_partie\", \"discuss\", \"discuss\", \"discuss\", \"discuss\", \"discuss\", \"discuss\", \"discuss\", \"discuss\", \"discussion\", \"discussion\", \"discussion\", \"disneyland\", \"dog\", \"dog\", \"dog\", \"dog\", \"dog\", \"dog\", \"dog\", \"dog\", \"dog\", \"dollar\", \"downtown\", \"drawing\", \"drawing_painte\", \"dream\", \"dream\", \"dream\", \"dream\", \"dream\", \"dream\", \"dream\", \"dream\", \"dream\", \"dream\", \"drink\", \"drink\", \"drink\", \"drink\", \"drink\", \"drink\", \"drink\", \"drink\", \"drink\", \"drink\", \"drink\", \"drink\", \"drive\", \"drive\", \"drive\", \"drive\", \"drive\", \"drive\", \"drive\", \"drive\", \"drive\", \"drive\", \"drum\", \"drum\", \"drum\", \"dry\", \"dry\", \"dry\", \"dry\", \"dry\", \"dry\", \"eachother\", \"earth\", \"earth\", \"earth\", \"earth\", \"earth\", \"earth\", \"earth\", \"earthy\", \"east\", \"east_coast\", \"east_coast\", \"east_coast\", \"easy\", \"easy\", \"easy\", \"easy\", \"easy\", \"easy\", \"easy\", \"easy\", \"eat\", \"eat\", \"eat\", \"eat\", \"eat\", \"eat\", \"eat\", \"eat\", \"eat\", \"ect\", \"edgy\", \"email\", \"email\", \"email\", \"email\", \"email\", \"email\", \"embarrassed\", \"employ\", \"employment\", \"endlessly\", \"enemy\", \"enemy\", \"enfp\", \"engaged\", \"english\", \"english\", \"english\", \"english\", \"english\", \"enjoy\", \"enjoy\", \"enjoy\", \"enjoy\", \"enjoy\", \"enjoy\", \"enjoy\", \"enjoy\", \"enjoy\", \"enjoy\", \"enjoy\", \"enjoy\", \"enjoy\", \"enjoy\", \"enrich\", \"entp\", \"entrepreneur\", \"entrepreneur\", \"envision\", \"episode\", \"er\", \"even\", \"even\", \"even\", \"even\", \"even\", \"even\", \"even\", \"even\", \"even\", \"even\", \"even\", \"even\", \"even\", \"evolution\", \"evolve\", \"evolve\", \"exact\", \"exception\", \"excessive\", \"excite\", \"excite\", \"excite\", \"excite\", \"excite\", \"excite\", \"excitement\", \"excitement\", \"exhaust\", \"exist\", \"exist\", \"exist\", \"exist\", \"existence\", \"existence\", \"existence\", \"expensive\", \"experience\", \"experience\", \"experience\", \"experience\", \"experience\", \"experience\", \"experience\", \"experience\", \"exploration\", \"exploration\", \"exploration\", \"exploration\", \"explore\", \"explore\", \"explore\", \"explore\", \"explore\", \"explore\", \"explore\", \"extent\", \"eye\", \"eye\", \"eye\", \"eye\", \"eye\", \"eye\", \"eye\", \"eye\", \"failure\", \"fair_warne\", \"family\", \"family\", \"family\", \"family\", \"family\", \"family\", \"family\", \"fan\", \"fan\", \"fan\", \"fan\", \"fan\", \"fan\", \"fan\", \"fast\", \"fast\", \"fast\", \"fast\", \"fast\", \"fast\", \"fast\", \"fast\", \"fast\", \"fast\", \"favorite\", \"favorite\", \"favorite\", \"favorite\", \"favorite\", \"favorite\", \"favorite\", \"favorite\", \"favorite\", \"favorite\", \"favorite\", \"fear\", \"fear\", \"fear\", \"fear\", \"fear\", \"fear\", \"feel\", \"feel\", \"feel\", \"feel\", \"feel\", \"feel\", \"feel\", \"feel\", \"feel\", \"feel\", \"feel\", \"feel\", \"female\", \"female\", \"female\", \"fiercely\", \"fiji\", \"fill\", \"fill\", \"fill\", \"fill\", \"fill\", \"fill\", \"fill\", \"fill\", \"fill\", \"fill\", \"fill\", \"film\", \"film\", \"film\", \"film\", \"film\", \"financially\", \"financially\", \"financially_stable\", \"financially_stable\", \"find\", \"find\", \"find\", \"find\", \"find\", \"find\", \"find\", \"find\", \"find\", \"find\", \"find\", \"find\", \"find\", \"find\", \"find\", \"fine_dine\", \"first_impression\", \"fix\", \"fix\", \"fix\", \"fix\", \"fix\", \"fix\", \"fix\", \"flavor\", \"flavor\", \"flick\", \"fling\", \"flute\", \"fly\", \"fly\", \"fly\", \"fly\", \"fly\", \"fly\", \"fly\", \"fly\", \"food\", \"food\", \"food\", \"food\", \"food\", \"food\", \"food\", \"food\", \"food\", \"football\", \"freelance\", \"french\", \"french\", \"french\", \"french\", \"french\", \"french\", \"french\", \"friend\", \"friend\", \"friend\", \"friend\", \"friend\", \"friend\", \"friend\", \"friend\", \"friend\", \"friend\", \"friend\", \"friend\", \"friend\", \"friend\", \"friend\", \"friendship\", \"friendship\", \"friendship\", \"friendship\", \"frisbee\", \"fruit\", \"fruit\", \"fucking\", \"fucking\", \"fulfill\", \"fullest\", \"fun\", \"fun\", \"fun\", \"fun\", \"fun\", \"fun\", \"fun\", \"fun\", \"fun\", \"fun\", \"fun\", \"fun\", \"fund\", \"funny\", \"funny\", \"funny\", \"funny\", \"funny\", \"funny\", \"funny\", \"funny\", \"game\", \"game\", \"game\", \"game\", \"game\", \"game\", \"gas\", \"gather\", \"geek\", \"geek\", \"geek\", \"geek\", \"geeky\", \"gender\", \"gender\", \"genderqueer\", \"generous\", \"generous\", \"generous\", \"genre\", \"genre\", \"genre\", \"genuine\", \"genuine\", \"genuine\", \"genuine\", \"genuine\", \"genuine\", \"geography\", \"get\", \"get\", \"get\", \"get\", \"get\", \"get\", \"get\", \"get\", \"get\", \"get\", \"get\", \"get\", \"get\", \"get\", \"get\", \"getter\", \"giant\", \"giant\", \"giant\", \"giant\", \"giants_niner\", \"ginger\", \"girl\", \"girl\", \"girl\", \"girl\", \"girl\", \"girl\", \"girl\", \"girl\", \"girl\", \"girl\", \"give\", \"give\", \"give\", \"give\", \"give\", \"give\", \"give\", \"give\", \"give\", \"give\", \"give\", \"give\", \"give\", \"global\", \"go\", \"go\", \"go\", \"go\", \"go\", \"go\", \"go\", \"go\", \"go\", \"go\", \"go\", \"go\", \"go\", \"go\", \"go\", \"golf\", \"golf\", \"golfing\", \"good\", \"good\", \"good\", \"good\", \"good\", \"good\", \"good\", \"good\", \"good\", \"good\", \"good\", \"good\", \"good\", \"good\", \"good\", \"goof_ball\", \"gossip\", \"grad_student\", \"graduate\", \"graduate\", \"graduate\", \"graduating\", \"graphic_design\", \"graphic_novel\", \"gratitude\", \"great\", \"great\", \"great\", \"great\", \"great\", \"great\", \"great\", \"great\", \"great\", \"great\", \"great\", \"great\", \"great\", \"great\", \"great\", \"grew\", \"grew\", \"grocery\", \"grocery_store\", \"groupon\", \"grow\", \"grow\", \"grow\", \"grow\", \"grow\", \"grow\", \"grow\", \"grow\", \"grow\", \"grow\", \"grow\", \"grow\", \"growth\", \"guess\", \"guess\", \"guess\", \"guess\", \"guess\", \"guess\", \"guess\", \"guess\", \"guess\", \"guess\", \"guess\", \"guitar\", \"gut\", \"gut\", \"guy\", \"guy\", \"guy\", \"guy\", \"guy\", \"guy\", \"guy\", \"guy\", \"guy\", \"guy\", \"hacker\", \"hail\", \"hair\", \"hair\", \"hair\", \"hair\", \"half\", \"half\", \"half\", \"half\", \"half\", \"half\", \"half\", \"half\", \"half\", \"halloween\", \"hand\", \"hand\", \"hand\", \"hand\", \"hand\", \"hand\", \"hand\", \"hand\", \"hand\", \"hand\", \"hand\", \"hang\", \"hang\", \"hang\", \"hang\", \"hang\", \"hang\", \"hang\", \"hangout\", \"happy\", \"happy\", \"happy\", \"happy\", \"happy\", \"happy\", \"happy\", \"happy\", \"happy\", \"happy\", \"happy\", \"happy\", \"happy\", \"hard\", \"hard\", \"hard\", \"hard\", \"hard\", \"hard\", \"hard\", \"hard\", \"hard\", \"hard\", \"hardworke\", \"hardworke\", \"harm\", \"harmony\", \"hate\", \"hate\", \"hate\", \"hate\", \"hate\", \"hawaii\", \"hawaii\", \"hawaii\", \"hawaii\", \"healing\", \"heart\", \"heart\", \"heart\", \"heart\", \"heart\", \"heart\", \"heart\", \"heart\", \"heart\", \"hearted\", \"hearted\", \"hearted\", \"hearted\", \"heat\", \"hectic\", \"hedonist\", \"hi\", \"high\", \"high\", \"high\", \"high\", \"high\", \"high\", \"high\", \"high\", \"high\", \"high\", \"high\", \"high\", \"high\", \"high_heel\", \"hike\", \"hike\", \"hike\", \"hike\", \"hike\", \"hiking\", \"hiking\", \"hiking\", \"hilarious\", \"hilarious\", \"history\", \"history\", \"history\", \"history\", \"history\", \"history\", \"history\", \"hit\", \"hit\", \"hit\", \"hit\", \"hit\", \"hit\", \"hit\", \"hit\", \"hockey\", \"holistic\", \"hometown\", \"hometown\", \"honest\", \"honest\", \"honest\", \"honest\", \"honest\", \"honest\", \"honest\", \"hope\", \"hope\", \"hope\", \"hope\", \"hope\", \"hope\", \"hope\", \"hope\", \"hope\", \"hope\", \"hope\", \"hope\", \"hope\", \"hopeful\", \"hoping\", \"hospital\", \"hot_spring\", \"hour\", \"hour\", \"hour\", \"hour\", \"hour\", \"hour\", \"hour\", \"hour\", \"hour\", \"hour\", \"hour\", \"house\", \"house\", \"house\", \"house\", \"house\", \"house\", \"house\", \"house\", \"house\", \"however\", \"however\", \"however\", \"however\", \"however\", \"however\", \"however\", \"however\", \"however\", \"however\", \"however\", \"however\", \"however\", \"however\", \"huge\", \"huge\", \"huge\", \"huge\", \"huge\", \"huge\", \"huge\", \"huge\", \"huge\", \"human\", \"human\", \"human\", \"human\", \"human\", \"human\", \"human\", \"humility\", \"humor\", \"humor\", \"humor\", \"humor\", \"humor\", \"idealistic\", \"ill\", \"ill\", \"impact\", \"impact\", \"important\", \"important\", \"important\", \"important\", \"important\", \"important\", \"important\", \"important\", \"important\", \"important\", \"independent\", \"independent\", \"independent\", \"independent\", \"independent\", \"independent\", \"independent\", \"independent\", \"indoor_rock\", \"infj\", \"info\", \"information\", \"information\", \"information\", \"information\", \"information\", \"inner\", \"inner\", \"inner\", \"inner\", \"insane\", \"insanely\", \"insight\", \"insight\", \"inspire\", \"inspire\", \"inspire\", \"inspire\", \"instrument\", \"intellect\", \"intellectual\", \"intellectual\", \"intellectual\", \"intellectual\", \"intellectual\", \"intellectual\", \"intellectual\", \"intellectual\", \"intellectually_curious\", \"intellectually_curious\", \"intellectually_stimulate\", \"intelligent\", \"intelligent\", \"intelligent\", \"intelligent\", \"intelligent\", \"intelligent\", \"intelligent\", \"interest\", \"interest\", \"interest\", \"interest\", \"interest\", \"interest\", \"interest\", \"interest\", \"interest\", \"interest\", \"interest\", \"interest\", \"interested\", \"interested\", \"interested\", \"interested\", \"interested\", \"interested\", \"interested\", \"interested\", \"interested\", \"interested\", \"interpret\", \"interview\", \"introduction\", \"introspection\", \"intuition\", \"intuitive\", \"intuitive\", \"intuitive\", \"iphone\", \"irish\", \"irish\", \"irish\", \"ish\", \"itch\", \"item\", \"jack\", \"jack\", \"jerk\", \"jewish\", \"jewish\", \"jewish\", \"job\", \"job\", \"job\", \"job\", \"job\", \"job\", \"job\", \"job\", \"job\", \"jog\", \"jog\", \"jog\", \"joke\", \"joke\", \"joke\", \"joke\", \"joke\", \"joke\", \"journalism\", \"journey\", \"journey\", \"journey\", \"journey\", \"journey\", \"joy\", \"joy\", \"joy\", \"joyful\", \"juggle\", \"junk\", \"justice\", \"kayak\", \"kayaking\", \"kid\", \"kid\", \"kid\", \"kid\", \"kid\", \"kid\", \"kid\", \"kid\", \"kid\", \"kid\", \"kid\", \"killer\", \"kind\", \"kind\", \"kind\", \"kind\", \"kind\", \"kind\", \"kind\", \"kind\", \"kind\", \"kind\", \"kind\", \"kind\", \"kind\", \"kind\", \"kind\", \"kinky\", \"kinky\", \"kiss\", \"kiss\", \"kiss\", \"kisser\", \"knife\", \"know\", \"know\", \"know\", \"know\", \"know\", \"know\", \"know\", \"know\", \"know\", \"know\", \"know\", \"know\", \"know\", \"know\", \"knowledge\", \"knowledge\", \"knowledge\", \"knowledge\", \"knowledge\", \"korean\", \"lack\", \"lack\", \"lack\", \"lack\", \"lack\", \"lack\", \"laidback\", \"lake_tahoe\", \"language\", \"language\", \"language\", \"language\", \"language\", \"language\", \"language\", \"language\", \"language\", \"language\", \"language\", \"language\", \"last\", \"last\", \"last\", \"last\", \"last\", \"last\", \"last\", \"last\", \"last\", \"last\", \"last\", \"last\", \"last\", \"last\", \"last\", \"laugh\", \"laugh\", \"laugh\", \"laugh\", \"laugh\", \"laugh\", \"laugh\", \"laundry\", \"league\", \"learn\", \"learn\", \"learn\", \"learn\", \"learn\", \"learn\", \"learn\", \"learn\", \"learn\", \"learn\", \"learn\", \"learn\", \"learn\", \"leave\", \"leave\", \"leave\", \"leave\", \"leave\", \"leave\", \"leave\", \"leave\", \"leave\", \"leave\", \"leave\", \"left_hande\", \"leisure\", \"less\", \"less\", \"less\", \"less\", \"less\", \"less\", \"less\", \"less\", \"less\", \"let\", \"let\", \"let\", \"let\", \"let\", \"let\", \"let\", \"let\", \"let\", \"let\", \"let\", \"let\", \"let\", \"liberal\", \"liberal\", \"liberal\", \"liberal\", \"liberal\", \"liberal\", \"liberal\", \"liberal\", \"life\", \"life\", \"life\", \"life\", \"life\", \"life\", \"life\", \"life\", \"life\", \"life\", \"life\", \"life\", \"life\", \"life\", \"light\", \"light\", \"light\", \"light\", \"light\", \"linguistic\", \"listen\", \"listen\", \"listen\", \"listen\", \"listen\", \"listen\", \"listen\", \"listen\", \"listen\", \"listen\", \"listen\", \"listen\", \"literature\", \"literature\", \"literature\", \"little\", \"little\", \"little\", \"little\", \"little\", \"little\", \"little\", \"little\", \"little\", \"little\", \"little\", \"little\", \"little\", \"little\", \"little\", \"live\", \"live\", \"live\", \"live\", \"live\", \"live\", \"live\", \"live\", \"live\", \"live\", \"live\", \"live\", \"live\", \"log\", \"logic\", \"lol\", \"lol\", \"lol\", \"lol\", \"long\", \"long\", \"long\", \"long\", \"long\", \"long\", \"long\", \"long\", \"long\", \"long\", \"long\", \"long\", \"long\", \"long\", \"look\", \"look\", \"look\", \"look\", \"look\", \"look\", \"look\", \"look\", \"look\", \"look\", \"look\", \"look\", \"look\", \"look\", \"look\", \"los_angele\", \"los_angeles\", \"lot\", \"lot\", \"lot\", \"lot\", \"lot\", \"lot\", \"lot\", \"lot\", \"lot\", \"lot\", \"lot\", \"lot\", \"lot\", \"lot\", \"loudly\", \"love\", \"love\", \"love\", \"love\", \"love\", \"love\", \"love\", \"love\", \"love\", \"love\", \"love\", \"love\", \"love\", \"love\", \"love\", \"low_key\", \"loyal\", \"loyal\", \"loyal\", \"loyal\", \"loyal\", \"lust\", \"m\", \"mad\", \"mad\", \"major\", \"major\", \"major\", \"major\", \"major\", \"major\", \"major\", \"major\", \"make\", \"make\", \"make\", \"make\", \"make\", \"make\", \"make\", \"make\", \"make\", \"make\", \"make\", \"make\", \"make\", \"make\", \"make\", \"makeup\", \"male\", \"man\", \"man\", \"man\", \"man\", \"man\", \"man\", \"many\", \"many\", \"many\", \"many\", \"many\", \"many\", \"many\", \"many\", \"many\", \"many\", \"many\", \"many\", \"many\", \"many\", \"many\", \"marina\", \"marine\", \"marriage\", \"married\", \"marry\", \"marry\", \"marry\", \"marry\", \"marry\", \"masculine\", \"masculine\", \"match\", \"match\", \"match\", \"match\", \"match\", \"match\", \"match\", \"match\", \"match\", \"match\", \"materialistic\", \"math\", \"math\", \"math\", \"math\", \"math\", \"math\", \"mathematic\", \"mean\", \"mean\", \"mean\", \"mean\", \"mean\", \"mean\", \"mean\", \"mean\", \"mean\", \"mean\", \"mean\", \"mean\", \"mean\", \"mean\", \"meaningful_conversation\", \"meat\", \"meat\", \"mediocre\", \"meditation\", \"medium\", \"medium\", \"medium\", \"meet\", \"meet\", \"meet\", \"meet\", \"meet\", \"meet\", \"meeting\", \"meeting\", \"meeting\", \"meeting\", \"meeting\", \"meeting\", \"melt\", \"mentor\", \"message\", \"message\", \"message\", \"migrate\", \"mind\", \"mind\", \"mind\", \"mind\", \"mind\", \"mind\", \"mind\", \"mind\", \"mind\", \"mind\", \"mind\", \"monster\", \"month\", \"month\", \"month\", \"month\", \"month\", \"morning\", \"morning\", \"morning\", \"morning\", \"morning\", \"mountain_bike\", \"move\", \"move\", \"move\", \"move\", \"move\", \"move\", \"move\", \"move\", \"move\", \"movie\", \"movie\", \"movie\", \"movie\", \"movie\", \"movie\", \"movie\", \"movie\", \"movie\", \"much\", \"much\", \"much\", \"much\", \"much\", \"much\", \"much\", \"much\", \"much\", \"much\", \"much\", \"much\", \"much\", \"much\", \"much\", \"muni\", \"muppet\", \"muscular\", \"muse\", \"museum\", \"museum\", \"museum\", \"mushroom\", \"music\", \"music\", \"music\", \"music\", \"music\", \"music\", \"music\", \"music\", \"music\", \"music\", \"music\", \"music\", \"musician\", \"musician\", \"mustache\", \"mutt\", \"mutual\", \"mutual\", \"mutual\", \"mutually\", \"myers_brigg\", \"nail\", \"naked\", \"name\", \"name\", \"name\", \"name\", \"name\", \"name\", \"name\", \"name\", \"name\", \"name\", \"name\", \"name\", \"narcissistic\", \"nasty\", \"nature\", \"nature\", \"nature\", \"nature\", \"nature\", \"nature\", \"nature\", \"nature\", \"nature\", \"nature\", \"naughty\", \"need\", \"need\", \"need\", \"need\", \"need\", \"need\", \"need\", \"need\", \"need\", \"need\", \"need\", \"need\", \"need\", \"need\", \"negative\", \"negative\", \"nerd\", \"nerd\", \"nerd\", \"nerd\", \"nerd\", \"nerd\", \"nerdy\", \"nerdy\", \"nerdy\", \"nerdy\", \"nerdy\", \"nerdy\", \"neurotic\", \"never\", \"never\", \"never\", \"never\", \"never\", \"never\", \"never\", \"never\", \"never\", \"never\", \"never\", \"never\", \"never\", \"new\", \"new\", \"new\", \"new\", \"new\", \"new\", \"new\", \"new\", \"new\", \"new\", \"new\", \"new\", \"nice\", \"nice\", \"nice\", \"nice\", \"nice\", \"nice\", \"nice\", \"nice\", \"nice\", \"night\", \"night\", \"night\", \"night\", \"night\", \"night\", \"night\", \"night\", \"night\", \"night\", \"non_fiction\", \"non_fiction\", \"non_monogamous\", \"norcal\", \"notion\", \"nut\", \"nuts\", \"oakland\", \"object\", \"obsessed\", \"offend\", \"offend\", \"offend\", \"often\", \"often\", \"often\", \"often\", \"often\", \"often\", \"often\", \"often\", \"often\", \"often\", \"often\", \"okcupid\", \"okcupid\", \"okcupid\", \"okcupid\", \"okcupid\", \"old\", \"old\", \"old\", \"old\", \"old\", \"old\", \"old\", \"old\", \"old\", \"old\", \"old\", \"old\", \"old\", \"old\", \"old\", \"ole\", \"onion\", \"online_date\", \"online_date\", \"online_date\", \"online_date\", \"open\", \"open\", \"open\", \"open\", \"open\", \"open\", \"open\", \"open\", \"open\", \"open\", \"open\", \"open\", \"open\", \"opera\", \"opera\", \"opera\", \"orient\", \"orient\", \"orient\", \"orient\", \"original\", \"originally\", \"originally\", \"originally\", \"other\", \"other\", \"other\", \"other\", \"other\", \"other\", \"other\", \"other\", \"out\", \"outdoor\", \"outdoor\", \"outdoor\", \"outdoor_activitie\", \"outdoor_activitie\", \"outdoors\", \"outdoors\", \"outdoors\", \"outdoors\", \"outdoors\", \"package\", \"page\", \"page\", \"page\", \"painful\", \"palo_alto\", \"panda\", \"pansexual\", \"paragraph\", \"paragraph\", \"park\", \"park\", \"park\", \"park\", \"partly\", \"partner\", \"partner\", \"partner\", \"partner\", \"passion\", \"passion\", \"passion\", \"passion\", \"passion\", \"passion\", \"passion\", \"passionate\", \"passionate\", \"passionate\", \"passionate\", \"passionate\", \"passionate\", \"passionate\", \"passionate\", \"passionate\", \"passive\", \"past\", \"past\", \"past\", \"past\", \"past\", \"past\", \"past\", \"past\", \"past\", \"past\", \"pen\", \"pencil\", \"people\", \"people\", \"people\", \"people\", \"people\", \"people\", \"people\", \"people\", \"people\", \"people\", \"people\", \"people\", \"people\", \"people\", \"people\", \"person\", \"person\", \"person\", \"person\", \"person\", \"person\", \"person\", \"person\", \"person\", \"person\", \"person\", \"person\", \"person\", \"person\", \"person\", \"personal_growth\", \"personality\", \"personality\", \"personality\", \"personality\", \"personality\", \"personality\", \"personality\", \"personality\", \"personality\", \"personality\", \"personality\", \"perspective\", \"perspective\", \"perspective\", \"perspective\", \"pet\", \"pet\", \"pet\", \"philly\", \"photo\", \"photo\", \"photo\", \"photo\", \"photo\", \"photo\", \"photo\", \"photo\", \"photograph\", \"photographer\", \"photographer\", \"photography\", \"photography\", \"photography\", \"photography\", \"physical_activity\", \"physics\", \"piano\", \"pic\", \"pickle\", \"picture\", \"picture\", \"picture\", \"picture\", \"picture\", \"picture\", \"picture\", \"picture\", \"picture\", \"picture\", \"picture\", \"pie\", \"ping_pong\", \"piss\", \"pizza\", \"pizza\", \"pizza\", \"pizza\", \"pizza\", \"place\", \"place\", \"place\", \"place\", \"place\", \"place\", \"place\", \"place\", \"place\", \"place\", \"place\", \"place\", \"platonic\", \"play\", \"play\", \"play\", \"play\", \"play\", \"play\", \"play\", \"play\", \"play\", \"play\", \"play\", \"playful\", \"playful\", \"playful\", \"playful\", \"playful\", \"playfulness\", \"playing\", \"playing\", \"playing\", \"poet\", \"poetic\", \"politic\", \"politic\", \"politic\", \"politic\", \"politic\", \"politic\", \"political\", \"political\", \"political\", \"political\", \"political\", \"political_science\", \"poly\", \"polyamorous\", \"polyamory\", \"pop\", \"pop\", \"pop\", \"pop\", \"pop\", \"popular\", \"popular\", \"portland\", \"portuguese\", \"positive_outlook\", \"possession\", \"potato\", \"prayer\", \"present\", \"present\", \"present\", \"present\", \"present\", \"present\", \"pretty\", \"pretty\", \"pretty\", \"pretty\", \"pretty\", \"pretty\", \"pretty\", \"pretty\", \"pretty\", \"primary\", \"primary\", \"prior\", \"probably\", \"probably\", \"probably\", \"probably\", \"probably\", \"probably\", \"probably\", \"probably\", \"probably\", \"probably\", \"problem\", \"problem\", \"problem\", \"problem\", \"problem\", \"problem\", \"problem\", \"problem\", \"problem\", \"problem\", \"problem\", \"procrastinate\", \"production\", \"profile\", \"profile\", \"profile\", \"program\", \"program\", \"program\", \"program\", \"progress\", \"progress\", \"progress\", \"progress\", \"progress\", \"progress\", \"progress\", \"project\", \"project\", \"project\", \"project\", \"project\", \"project\", \"promote\", \"pronoun\", \"proof\", \"protective\", \"psychic\", \"psychological\", \"psychologist\", \"psychology\", \"psychology\", \"psychology\", \"pun\", \"pun\", \"pun\", \"pun\", \"punk\", \"punk_rock\", \"pup\", \"qualify\", \"quarter\", \"queer\", \"queer\", \"question\", \"question\", \"question\", \"question\", \"question\", \"question\", \"rabbit\", \"raft\", \"raider\", \"raise\", \"raise\", \"raise\", \"raise\", \"raise\", \"raise\", \"raise\", \"raise\", \"raise\", \"ramble\", \"random_fact\", \"random_fact\", \"randomness\", \"rather\", \"rather\", \"rather\", \"rather\", \"rather\", \"rather\", \"rather\", \"rather\", \"rather\", \"rather\", \"rather\", \"rather\", \"rather\", \"rather\", \"rather\", \"rational\", \"rational\", \"read\", \"read\", \"read\", \"read\", \"read\", \"read\", \"read\", \"read\", \"read\", \"read\", \"read\", \"read\", \"read\", \"read\", \"really\", \"really\", \"really\", \"really\", \"really\", \"really\", \"really\", \"really\", \"really\", \"really\", \"really\", \"really\", \"really\", \"really\", \"really\", \"recent_transplant\", \"recently\", \"recently\", \"recently\", \"recently\", \"recently\", \"recently\", \"recently\", \"recently\", \"recently\", \"recently\", \"recently\", \"recently\", \"recently\", \"reddit\", \"reflection\", \"reflection\", \"relationship\", \"relationship\", \"relationship\", \"relationship\", \"religious\", \"religious\", \"religious\", \"religious\", \"relocate\", \"relocate\", \"remain\", \"remain\", \"remain\", \"remain\", \"remain\", \"remark\", \"rent\", \"replace\", \"reply\", \"reply\", \"resourceful\", \"respectful\", \"respectful\", \"respond\", \"respond\", \"respond\", \"respond\", \"response\", \"response\", \"responsible\", \"responsible\", \"responsible\", \"restaurant\", \"restaurant\", \"restaurant\", \"restaurant\", \"restless\", \"result\", \"result\", \"result\", \"result\", \"result\", \"result\", \"result\", \"result\", \"rewrite\", \"ride\", \"ride\", \"ride\", \"ride\", \"ridiculous\", \"ridiculous\", \"ridiculous\", \"ridiculous\", \"ridiculous\", \"right\", \"right\", \"right\", \"right\", \"right\", \"right\", \"right\", \"right\", \"right\", \"right\", \"right\", \"right\", \"right\", \"right\", \"right\", \"roam\", \"rock\", \"rock\", \"rock\", \"rock\", \"rock\", \"romantic\", \"romantic\", \"romantic\", \"romantic\", \"romantic\", \"romantic\", \"rugby\", \"run\", \"run\", \"run\", \"run\", \"run\", \"run\", \"run\", \"run\", \"run\", \"run\", \"run\", \"russian\", \"russian\", \"s\", \"s\", \"s\", \"sadly\", \"sadly\", \"salt\", \"salt\", \"san_fran\", \"sand\", \"sand\", \"sandwich\", \"sarcasm\", \"sarcasm\", \"sarcasm\", \"sarcasm\", \"sarcasm\", \"sarcastic\", \"sarcastic\", \"sarcastic\", \"sarcastic\", \"sarcastic\", \"sarcastic\", \"sauce\", \"savor\", \"say\", \"say\", \"say\", \"say\", \"say\", \"say\", \"say\", \"say\", \"say\", \"say\", \"say\", \"say\", \"say\", \"scar\", \"school\", \"school\", \"school\", \"school\", \"school\", \"school\", \"school\", \"science\", \"science\", \"science\", \"science\", \"science\", \"science\", \"science\", \"score\", \"score\", \"scratch\", \"scratch\", \"scratch\", \"scratch\", \"screen_name\", \"scuba_dive\", \"scuba_dive\", \"scuba_diving\", \"sculpture\", \"seafood\", \"seasonal\", \"seattle\", \"secondary\", \"section\", \"section\", \"section\", \"see\", \"see\", \"see\", \"see\", \"see\", \"see\", \"see\", \"see\", \"see\", \"see\", \"see\", \"see\", \"see\", \"see\", \"see\", \"seek\", \"seek\", \"seek\", \"seek\", \"seek\", \"seem\", \"seem\", \"seem\", \"seem\", \"seem\", \"seem\", \"seem\", \"seem\", \"seem\", \"seem\", \"self\", \"self\", \"self\", \"self\", \"self\", \"self\", \"self\", \"self\", \"self_summary\", \"sence\", \"send\", \"send\", \"send\", \"send\", \"senior\", \"sense\", \"sense\", \"sense\", \"sense\", \"sense\", \"sense\", \"sense\", \"sensuality\", \"seriously\", \"seriously\", \"seriously\", \"seriously\", \"seriously\", \"seriously\", \"seriously\", \"seriously\", \"seriously\", \"sewing\", \"sex\", \"sexual\", \"sexuality\", \"sexuality\", \"sexually\", \"sf\", \"sf\", \"shade\", \"shadow\", \"share\", \"share\", \"share\", \"share\", \"share\", \"share\", \"sheet\", \"shirt\", \"shirt\", \"shirt\", \"shoe\", \"show\", \"show\", \"show\", \"show\", \"show\", \"show\", \"show\", \"show\", \"show\", \"show\", \"show\", \"show\", \"show\", \"show\", \"shower\", \"shower\", \"shy\", \"shy\", \"shy\", \"shy\", \"shy\", \"shy\", \"shy\", \"shy\", \"shy\", \"shy\", \"side\", \"side\", \"side\", \"side\", \"side\", \"side\", \"side\", \"side\", \"side\", \"side\", \"side\", \"side\", \"side\", \"side\", \"silicon_valley\", \"simpson\", \"sincere\", \"sincere\", \"sincere\", \"sincere\", \"single\", \"single\", \"single\", \"single\", \"single\", \"single\", \"single\", \"single\", \"single\", \"sit\", \"sit\", \"sit\", \"sit\", \"sit\", \"sit\", \"sit\", \"site\", \"site\", \"site\", \"situation\", \"situation\", \"situation\", \"situation\", \"situation\", \"situation\", \"situation\", \"six_month\", \"ski\", \"ski\", \"ski\", \"skiing\", \"skiing\", \"skirt\", \"slave\", \"sleep\", \"sleep\", \"sleep\", \"sleep\", \"sleep\", \"sleep\", \"sleep\", \"sleeve\", \"sleeve\", \"sleeve\", \"sleeve\", \"slim\", \"small\", \"small\", \"small\", \"small\", \"small\", \"small\", \"small\", \"small\", \"small\", \"small\", \"small\", \"small\", \"small\", \"small_town\", \"small_town\", \"small_town\", \"smart\", \"smart\", \"smart\", \"smart\", \"smart\", \"smart\", \"smart\", \"smart\", \"smart\", \"smart\", \"smart\", \"smart\", \"smart\", \"smart\", \"smile\", \"smile\", \"smile\", \"smile\", \"smile\", \"smile\", \"smoker\", \"snowboard\", \"snowboard\", \"snowboard\", \"socal\", \"soccer\", \"social_butterfly\", \"society\", \"society\", \"society\", \"sock\", \"softball\", \"software\", \"software\", \"software\", \"software_engineer\", \"solve\", \"solve\", \"soma\", \"sometimes\", \"sometimes\", \"sometimes\", \"sometimes\", \"sometimes\", \"sometimes\", \"sometimes\", \"sometimes\", \"sometimes\", \"sometimes\", \"sometimes\", \"song\", \"song\", \"song\", \"song\", \"song\", \"sonoma\", \"soul\", \"soul\", \"soul\", \"soul\", \"soulmate\", \"southern_california\", \"southwest\", \"spanish\", \"spanish\", \"spanish\", \"spanish\", \"spanish\", \"spanish\", \"speak\", \"speak\", \"speak\", \"speak\", \"speak\", \"speak\", \"speak\", \"speak\", \"speak\", \"speak\", \"speak\", \"speak\", \"speak\", \"specialize\", \"spelling\", \"spend\", \"spend\", \"spend\", \"spend\", \"spend\", \"spend\", \"spend\", \"spend\", \"spend\", \"spend\", \"spend\", \"spend\", \"spend\", \"spend\", \"spiritual\", \"spirituality\", \"sport\", \"sport\", \"sport\", \"sporty\", \"spunky\", \"squash\", \"standard\", \"standard\", \"standard\", \"standard\", \"star\", \"star\", \"star\", \"star\", \"start\", \"start\", \"start\", \"start\", \"start\", \"start\", \"start\", \"start\", \"start\", \"start\", \"start\", \"start\", \"start\", \"start\", \"start\", \"still\", \"still\", \"still\", \"still\", \"still\", \"still\", \"still\", \"still\", \"still\", \"still\", \"still\", \"still\", \"still\", \"still\", \"stint\", \"stint\", \"straight_forward\", \"straight_forward\", \"strawberry\", \"stroke\", \"student\", \"student\", \"student\", \"student\", \"student\", \"student\", \"student\", \"study\", \"study\", \"study\", \"study\", \"study\", \"study\", \"study\", \"stumble\", \"stupid\", \"stupid\", \"summarize\", \"summarize\", \"summary\", \"summary\", \"sunlight\", \"superficial\", \"surfing\", \"surfing\", \"surrounding\", \"sweet\", \"sweet\", \"sweet\", \"sweet\", \"sweet\", \"sweet\", \"sweet\", \"sweet\", \"sweet\", \"sweet\", \"swimming\", \"swimming\", \"swimming\", \"swimming\", \"taco\", \"take\", \"take\", \"take\", \"take\", \"take\", \"take\", \"take\", \"take\", \"take\", \"take\", \"take\", \"take\", \"take\", \"take\", \"take\", \"talk\", \"talk\", \"talk\", \"talk\", \"talk\", \"talk\", \"talk\", \"talk\", \"talk\", \"talk\", \"talk\", \"talk\", \"talk\", \"talker\", \"tall\", \"tall\", \"tall\", \"tall\", \"tall\", \"tall\", \"tall\", \"tall\", \"tall\", \"tattoo\", \"tattoo\", \"tattoo\", \"tattoo\", \"tattoo\", \"tattoo\", \"teach\", \"teach\", \"teach\", \"teach\", \"teach\", \"teach\", \"teach\", \"teach\", \"teach\", \"teach\", \"teach\", \"teacher\", \"teacher\", \"teacher\", \"teacher\", \"teacher\", \"teacher\", \"teacher\", \"teacher\", \"team\", \"team\", \"team\", \"team\", \"team\", \"tech\", \"tech\", \"tech\", \"tech\", \"technology\", \"technology\", \"technology\", \"technology\", \"technology\", \"teenager\", \"tell\", \"tell\", \"tell\", \"tell\", \"tell\", \"tell\", \"tell\", \"tell\", \"tell\", \"tell\", \"tell\", \"tell\", \"tend\", \"tend\", \"tend\", \"tend\", \"tend\", \"tend\", \"tend\", \"tend\", \"tend\", \"tend\", \"tend\", \"tend\", \"tend\", \"tender\", \"tennis\", \"tennis\", \"testing\", \"thai\", \"thank\", \"thank\", \"thank\", \"thank\", \"thank\", \"thank\", \"thick\", \"thing\", \"thing\", \"thing\", \"thing\", \"thing\", \"thing\", \"thing\", \"thing\", \"thing\", \"thing\", \"thing\", \"thing\", \"thing\", \"thing\", \"thing\", \"think\", \"think\", \"think\", \"think\", \"think\", \"think\", \"think\", \"think\", \"think\", \"think\", \"think\", \"think\", \"think\", \"think\", \"think\", \"ticket\", \"tiger\", \"time\", \"time\", \"time\", \"time\", \"time\", \"time\", \"time\", \"time\", \"time\", \"time\", \"time\", \"time\", \"time\", \"time\", \"time\", \"together\", \"together\", \"together\", \"together\", \"together\", \"together\", \"together\", \"together\", \"together\", \"together\", \"topic\", \"topic\", \"topic\", \"topic\", \"topic\", \"topic\", \"transplant\", \"transplant\", \"transplant\", \"transplant\", \"transplant\", \"transplant\", \"trash\", \"travel\", \"travel\", \"travel\", \"travel\", \"travel\", \"travel\", \"travel\", \"travel\", \"treat\", \"treat\", \"treat\", \"tree\", \"tree\", \"tree\", \"tree\", \"trend\", \"truck\", \"truck\", \"trumpet\", \"trustworthy\", \"try\", \"try\", \"try\", \"try\", \"try\", \"try\", \"try\", \"try\", \"try\", \"try\", \"try\", \"try\", \"tumblr\", \"tv\", \"tv\", \"tv\", \"tv\", \"twin\", \"uncle\", \"understand\", \"understand\", \"understand\", \"understand\", \"understand\", \"understand\", \"understand\", \"unhealthy\", \"universe\", \"universe\", \"universe\", \"unnecessary\", \"unwind\", \"update\", \"update\", \"update\", \"upfront\", \"upscale\", \"upstate_ny\", \"uptight\", \"username\", \"username\", \"usually\", \"usually\", \"usually\", \"usually\", \"usually\", \"usually\", \"usually\", \"usually\", \"usually\", \"usually\", \"usually\", \"usually\", \"value\", \"value\", \"value\", \"value\", \"value\", \"vanilla\", \"vast\", \"ve\", \"vegan\", \"vegan\", \"version\", \"version\", \"vice\", \"video\", \"video\", \"video\", \"video\", \"video\", \"video_game\", \"video_game\", \"visual\", \"visual\", \"vivacious\", \"volleyball\", \"volleyball\", \"volleyball\", \"wake\", \"wake\", \"walk\", \"walk\", \"walk\", \"walk\", \"walk\", \"walk\", \"walk\", \"walk\", \"walk\", \"walk\", \"walk\", \"wanderlust\", \"wanna\", \"wanna\", \"want\", \"want\", \"want\", \"want\", \"want\", \"want\", \"want\", \"want\", \"want\", \"want\", \"want\", \"want\", \"want\", \"wash\", \"wash\", \"washington_dc\", \"watch\", \"watch\", \"watch\", \"watch\", \"watch\", \"watch\", \"watch\", \"watch\", \"water_rafte\", \"wave\", \"wave\", \"way\", \"way\", \"way\", \"way\", \"way\", \"way\", \"way\", \"way\", \"way\", \"way\", \"way\", \"way\", \"way\", \"way\", \"way\", \"wear\", \"wear\", \"wear\", \"wear\", \"wear\", \"wear\", \"wear_glasse\", \"weed\", \"week\", \"week\", \"week\", \"week\", \"week\", \"weekend\", \"weekend\", \"weekend\", \"weekend\", \"weekend_getaway\", \"weeknight\", \"weird\", \"weird\", \"weird\", \"weird\", \"weird\", \"well\", \"well\", \"well\", \"well\", \"well\", \"well\", \"well\", \"well\", \"well\", \"well\", \"well\", \"well\", \"well\", \"well\", \"well\", \"west_coast\", \"west_coast\", \"wet\", \"white\", \"white\", \"white\", \"white\", \"white\", \"white\", \"wine\", \"wine\", \"wine\", \"wine\", \"wine\", \"wine\", \"wine_taste\", \"without_sounde\", \"woman\", \"woman\", \"woman\", \"woman\", \"word\", \"word\", \"word\", \"word\", \"word\", \"word\", \"word\", \"word\", \"word\", \"work\", \"work\", \"work\", \"work\", \"work\", \"work\", \"work\", \"work\", \"work\", \"work\", \"work\", \"work\", \"work\", \"world\", \"world\", \"world\", \"world\", \"world\", \"world\", \"world\", \"world\", \"world\", \"world\", \"world\", \"world\", \"world\", \"world\", \"write\", \"write\", \"write\", \"write\", \"write\", \"write\", \"write\", \"write\", \"write\", \"write\", \"writer\", \"writer\", \"writer\", \"writer\", \"writer\", \"yard\", \"year\", \"year\", \"year\", \"year\", \"year\", \"year\", \"year\", \"year\", \"year\", \"year\", \"year\", \"year\", \"year\", \"year\", \"yellow\", \"yet\", \"yet\", \"yet\", \"yet\", \"yet\", \"yet\", \"yet\", \"yet\", \"yet\", \"yet\", \"yet\", \"yet\", \"young\", \"young\", \"young\", \"young\", \"young\", \"young\", \"young\", \"young\", \"young\", \"young\", \"young\", \"young\", \"youtube\", \"youtube\", \"yummy\"]}, \"R\": 30, \"lambda.step\": 0.01, \"plot.opts\": {\"xlab\": \"PC1\", \"ylab\": \"PC2\"}, \"topic.order\": [12, 7, 14, 10, 3, 2, 15, 9, 6, 8, 5, 11, 13, 4, 1]};\n",
       "\n",
       "function LDAvis_load_lib(url, callback){\n",
       "  var s = document.createElement('script');\n",
       "  s.src = url;\n",
       "  s.async = true;\n",
       "  s.onreadystatechange = s.onload = callback;\n",
       "  s.onerror = function(){console.warn(\"failed to load library \" + url);};\n",
       "  document.getElementsByTagName(\"head\")[0].appendChild(s);\n",
       "}\n",
       "\n",
       "if(typeof(LDAvis) !== \"undefined\"){\n",
       "   // already loaded: just create the visualization\n",
       "   !function(LDAvis){\n",
       "       new LDAvis(\"#\" + \"ldavis_el25275281470148758208908272120\", ldavis_el25275281470148758208908272120_data);\n",
       "   }(LDAvis);\n",
       "}else if(typeof define === \"function\" && define.amd){\n",
       "   // require.js is available: use it to load d3/LDAvis\n",
       "   require.config({paths: {d3: \"https://d3js.org/d3.v5\"}});\n",
       "   require([\"d3\"], function(d3){\n",
       "      window.d3 = d3;\n",
       "      LDAvis_load_lib(\"https://cdn.jsdelivr.net/gh/bmabey/pyLDAvis@3.4.0/pyLDAvis/js/ldavis.v3.0.0.js\", function(){\n",
       "        new LDAvis(\"#\" + \"ldavis_el25275281470148758208908272120\", ldavis_el25275281470148758208908272120_data);\n",
       "      });\n",
       "    });\n",
       "}else{\n",
       "    // require.js not available: dynamically load d3 & LDAvis\n",
       "    LDAvis_load_lib(\"https://d3js.org/d3.v5.js\", function(){\n",
       "         LDAvis_load_lib(\"https://cdn.jsdelivr.net/gh/bmabey/pyLDAvis@3.4.0/pyLDAvis/js/ldavis.v3.0.0.js\", function(){\n",
       "                 new LDAvis(\"#\" + \"ldavis_el25275281470148758208908272120\", ldavis_el25275281470148758208908272120_data);\n",
       "            })\n",
       "         });\n",
       "}\n",
       "</script>"
      ],
      "text/plain": [
       "PreparedData(topic_coordinates=              x         y  topics  cluster       Freq\n",
       "topic                                                \n",
       "11     0.070652 -0.236364       1        1  12.428965\n",
       "6      0.138398  0.076647       2        1  11.479599\n",
       "13     0.160168 -0.049404       3        1  11.334492\n",
       "9      0.089634 -0.128924       4        1  10.458605\n",
       "2      0.042078  0.018829       5        1   9.967621\n",
       "1      0.025550 -0.044375       6        1   9.433763\n",
       "14     0.188983 -0.019995       7        1   6.988704\n",
       "8      0.116055  0.139379       8        1   5.070390\n",
       "5     -0.035201  0.182132       9        1   4.731589\n",
       "7     -0.037768 -0.233590      10        1   4.609186\n",
       "4     -0.227598 -0.112369      11        1   3.453812\n",
       "10     0.074043  0.210028      12        1   3.307158\n",
       "12    -0.028969  0.094814      13        1   3.229939\n",
       "3     -0.258480  0.092836      14        1   2.141857\n",
       "0     -0.317544  0.010357      15        1   1.364321, topic_info=        Term          Freq         Total Category  logprob  loglift\n",
       "238     play  10292.000000  10292.000000  Default  30.0000  30.0000\n",
       "81      year  16944.000000  16944.000000  Default  29.0000  29.0000\n",
       "104      new  20507.000000  20507.000000  Default  28.0000  28.0000\n",
       "254    music  11527.000000  11527.000000  Default  27.0000  27.0000\n",
       "42      love  50880.000000  50880.000000  Default  26.0000  26.0000\n",
       "...      ...           ...           ...      ...      ...      ...\n",
       "4607  hawaii    120.053582    266.610717  Topic15  -5.6748   3.4967\n",
       "116     time    243.520419  25940.988380  Topic15  -4.9675  -0.3739\n",
       "140   friend    128.273647  21322.390778  Topic15  -5.6086  -0.8188\n",
       "2775  excite    113.850708    495.447571  Topic15  -5.7279   2.8239\n",
       "1339   small    113.333550   2037.957835  Topic15  -5.7324   1.4051\n",
       "\n",
       "[1164 rows x 6 columns], token_table=      Topic      Freq     Term\n",
       "term                          \n",
       "990       2  0.068692  ability\n",
       "990       3  0.155702  ability\n",
       "990       5  0.070218  ability\n",
       "990       6  0.251870  ability\n",
       "990       8  0.038162  ability\n",
       "...     ...       ...      ...\n",
       "1962     13  0.182223    young\n",
       "1962     14  0.001111    young\n",
       "1193      5  0.037157  youtube\n",
       "1193     11  0.959337  youtube\n",
       "5941      1  0.994199    yummy\n",
       "\n",
       "[3835 rows x 3 columns], R=30, lambda_step=0.01, plot_opts={'xlab': 'PC1', 'ylab': 'PC2'}, topic_order=[12, 7, 14, 10, 3, 2, 15, 9, 6, 8, 5, 11, 13, 4, 1])"
      ]
     },
     "execution_count": 25,
     "metadata": {},
     "output_type": "execute_result"
    }
   ],
   "source": [
    "pyLDAvis.enable_notebook()\n",
    "\n",
    "LDAvis_prepared = gensimvis.prepare(lda_model, corpus, id2word)\n",
    "\n",
    "LDAvis_prepared\n"
   ]
  },
  {
   "cell_type": "markdown",
   "metadata": {},
   "source": [
    "## Section 4: Interpret Topics\n",
    "#### Some helper functions \n",
    "Don't worry about how these work right now. Just run them and scroll down. We'll use them to make our analysis easier later on."
   ]
  },
  {
   "cell_type": "code",
   "execution_count": 26,
   "metadata": {},
   "outputs": [],
   "source": [
    "def describe_topic(topic, n_words=10):\n",
    "    words = [word for word, _ in topic[:n_words]]  # Get top `n_words` words from the topic\n",
    "    return \" \".join(words)\n",
    "\n",
    "def display_topics(lda_model, n_words=10):\n",
    "    topics = lda_model.show_topics(num_topics=-1, num_words=n_words, formatted=False)\n",
    "    for topic_idx, topic in topics:\n",
    "        print(\"Topic {}: {}\".format(topic_idx, describe_topic(topic, n_words)))\n",
    "\n",
    "def get_topic_words(lda_model, topic_id, num_words=10):\n",
    "    # Get the top words for a specific topic\n",
    "    topic = lda_model.show_topic(topic_id, topn=num_words)\n",
    "    words = [word for word, _ in topic]  # Extract the words only\n",
    "    return set(words)\n",
    "\n",
    "def find_intersection(idxa, idxb, n):\n",
    "    a = set()\n",
    "    b = set()\n",
    "    both = set()\n",
    "    i = 0\n",
    "    while len(both) < n:\n",
    "        a.add(idxa[i])\n",
    "        b.add(idxb[i])\n",
    "        both = a.intersection(b)\n",
    "        i += 1\n",
    "    return list(both)\n",
    "\n",
    "def compare_topic_overlap(lda_model, topic_id_a, topic_id_b, num_words=nshow):\n",
    "    topic_a_words = get_topic_words(lda_model, topic_id_a, num_words)\n",
    "    topic_b_words = get_topic_words(lda_model, topic_id_b, num_words)\n",
    "    \n",
    "    # Find the intersection (overlap) between the two sets of words\n",
    "    overlap = topic_a_words.intersection(topic_b_words)\n",
    "    \n",
    "    print(f\"Common words between Topic {topic_id_a} and Topic {topic_id_b}:\")\n",
    "    print(overlap)\n",
    "\n",
    "def compare_topic_difference(lda_model, topic_id_a, topic_id_b, num_words=nshow):\n",
    "    topic_a_words = get_topic_words(lda_model, topic_id_a, num_words)\n",
    "    topic_b_words = get_topic_words(lda_model, topic_id_b, num_words)\n",
    "    \n",
    "    # Find the difference (words in Topic A but not in Topic B)\n",
    "    unique_to_a = topic_a_words.difference(topic_b_words)\n",
    "    unique_to_b = topic_b_words.difference(topic_a_words)\n",
    "    \n",
    "    print(f\"Words unique to Topic {topic_id_a}: {unique_to_a}\")\n",
    "    print(f\"Words unique to Topic {topic_id_b}: {unique_to_b}\")\n",
    "\n",
    "def blue_matrix(cells, xl, yl, t, x_labels=None):\n",
    "    n = cells.shape[0]\n",
    "    plt.figure()\n",
    "    fig, ax = plt.subplots(figsize=(8,8))\n",
    "    plt.imshow(cells, cmap='Blues')\n",
    "    ax.xaxis.tick_top()\n",
    "    ax.xaxis.set_label_position('top') \n",
    "    if x_labels is not None:\n",
    "        plt.xticks(range(n), x_labels)\n",
    "    else:\n",
    "        plt.xticks(range(n))\n",
    "    plt.yticks(range(n))\n",
    "    plt.ylabel(yl)\n",
    "    plt.xlabel(xl)\n",
    "    plt.title(t)\n",
    "    # show a colorbar legend\n",
    "    plt.colorbar()\n",
    "    return"
   ]
  },
  {
   "cell_type": "markdown",
   "metadata": {},
   "source": [
    "### Step 1: Show our topics with the top words in each"
   ]
  },
  {
   "cell_type": "code",
   "execution_count": 27,
   "metadata": {},
   "outputs": [
    {
     "name": "stdout",
     "output_type": "stream",
     "text": [
      "Topic 0: dog cat animal pet wine_taste downtown time exception anime photograph\n",
      "Topic 1: life love people world live learn experience thing enjoy share\n",
      "Topic 2: get day make go time work good take know thing\n",
      "Topic 3: read half geek nerdy geeky book politic language nerd speak\n",
      "Topic 4: art work music study artist school design creative film write\n",
      "Topic 5: find believe well come world way self become give many\n",
      "Topic 6: thing people think get make really good try say know\n",
      "Topic 7: play love music watch go movie sport game also enjoy\n",
      "Topic 8: look relationship woman want man date know open partner find\n",
      "Topic 9: year live move work love time life city go travel\n",
      "Topic 10: profile write say read know word ask think message question\n",
      "Topic 11: love enjoy new go travel good friend thing time try\n",
      "Topic 12: girl love old heart man black eye dance boy name\n",
      "Topic 13: love life good friend fun look person enjoy family time\n",
      "Topic 14: people new meet go m get look know friend love\n"
     ]
    }
   ],
   "source": [
    "display_topics(lda_model, n_words=10)"
   ]
  },
  {
   "cell_type": "markdown",
   "metadata": {},
   "source": [
    "<div class=\"alert-info\">\n",
    "    \n",
    "#### Short Answer No.4\n",
    "- Pick three topics.\n",
    "- Look at the words that make up each one. Say which one it is, and briefly answer these questions about it (3-5 sentences per topic):\n",
    "    - What does the topic seem to be about?\n",
    "    - Do any of the other topics seem similar to this one?\n",
    "    \n",
    "</div>"
   ]
  },
  {
   "cell_type": "markdown",
   "metadata": {},
   "source": [
    "🤔 **Write your response here:**\n",
    "...."
   ]
  },
  {
   "cell_type": "markdown",
   "metadata": {},
   "source": [
    "### Step 2: Examine the words that make two topics similar or different\n",
    "- We can also compare two topics to each other by looking at words that are common in both, or words that are common in one but not the other.\n",
    "- Try changing `topic_a` and `topic_b` to different topic numbers.\n",
    "- Notice the `how` option will let you see either the `overlap` or `difference` between two topics\n",
    "    - Notice also that the difference between topics a and b is not the same as between b and a"
   ]
  },
  {
   "cell_type": "code",
   "execution_count": 28,
   "metadata": {},
   "outputs": [
    {
     "name": "stdout",
     "output_type": "stream",
     "text": [
      "Common words between Topic 0 and Topic 2:\n",
      "{'time'}\n",
      "Words unique to Topic 0: {'downtown', 'dog', 'anime', 'photograph', 'exception', 'pet', 'wine_taste', 'cat', 'animal'}\n",
      "Words unique to Topic 2: {'work', 'get', 'take', 'good', 'know', 'day', 'thing', 'make', 'go'}\n"
     ]
    }
   ],
   "source": [
    "topic_a = 0\n",
    "topic_b = 2\n",
    "\n",
    "compare_topic_overlap(lda_model, topic_a, topic_b)\n",
    "compare_topic_difference(lda_model, topic_a, topic_b)"
   ]
  },
  {
   "cell_type": "markdown",
   "metadata": {},
   "source": [
    "### Step 3: Interpret these topics\n",
    "<div class=\"alert-info\">\n",
    "    \n",
    "#### Short Answer No.5\n",
    "- This part is for you to do: code can't do it for you.\n",
    "- Try to come up with a short, catchy name for each topic and write it down.\n",
    "    - For example, if the words were \"san francisco city moved living born years raised lived live\", you might call it \"places lived\" because the topic seems to be about where people currently live (San Francisco) and where they were born / raised / moved from.  \n",
    "    \n",
    "    \n",
    "</div>"
   ]
  },
  {
   "cell_type": "markdown",
   "metadata": {},
   "source": [
    "🤔 **Write your response here:**\n",
    "...\n",
    "\n",
    "- Topic 0:\n",
    "- Topic 1: \n",
    "- Topic 2:\n",
    "- Topic 3: \n",
    "- Topic 4:\n",
    "- Topic 5: \n",
    "- Topic 6:\n",
    "- Topic 7: \n",
    "- Topic 8: \n",
    "- Topic 9:\n",
    "- Topic 10: \n",
    "- Topic 11:\n",
    "- Topic 12: \n",
    "- Topic 13:\n",
    "- Topic 14: \n",
    "\n",
    "..."
   ]
  },
  {
   "cell_type": "markdown",
   "metadata": {},
   "source": [
    "### Step 4: Check whether your interpretations match with the text\n",
    "\n",
    "#### Helper functions\n",
    "- Run this code and scroll down. \n",
    "- You don't need to understand these details right now."
   ]
  },
  {
   "cell_type": "code",
   "execution_count": 29,
   "metadata": {},
   "outputs": [],
   "source": [
    "def get_profiles_from_topics(data, transformed, topic_a, topic_b=None, pick_from=10):\n",
    "    #get our data ready\n",
    "    df = pd.DataFrame(transformed)\n",
    "    df = df.sort_values(by=topic_a, ascending=False)\n",
    "    n = df.shape[0]\n",
    "    \n",
    "    if topic_b is None:\n",
    "        #if we only want things high in one topic, take randomly from the top\n",
    "        keep = df.head(pick_from).sample(1)\n",
    "        pid = keep.index.values[0]\n",
    "    else:\n",
    "        #if we want things high in two topics, find them and pick one of the top\n",
    "        idxb = df.sort_values(by=topic_b, ascending=False).index.values\n",
    "        both = find_intersection(df.index.values, idxb, pick_from)\n",
    "        keep = df.loc[both, :].sample(1)\n",
    "        pid = keep.index.values[0]    \n",
    "        \n",
    "    #output text to show our results\n",
    "    match_text = 'Profile number ' + str(pid)\n",
    "    match_text += ' has more of topic ' + str(topic_a)\n",
    "    match_text += ' than {:.2f}%'.format(100 - (np.where(df.index==pid)[0][0] / n)*100)\n",
    "    match_text += ' of other profiles'\n",
    "    if topic_b is not None:\n",
    "        match_text += ' and more of topic ' + str(topic_b)\n",
    "        match_text += ' than {:.2f}%'.format(100 - (np.where(idxb==pid)[0][0] / n)*100)\n",
    "        match_text += ' of other profiles.'\n",
    "        \n",
    "    #print results\n",
    "    text = data[pid]\n",
    "    print(match_text)\n",
    "    print('Here is the text:\\n\\n', text)\n",
    "    return\n",
    "\n",
    "def visualize_profile(profile_topics, profile_id, num_topics):\n",
    "    # Extract the topic distribution for the given profile\n",
    "    topic_distribution = np.zeros(num_topics)\n",
    "    \n",
    "    for topic_id, prob in profile_topics[profile_id]:\n",
    "        topic_distribution[topic_id] = prob\n",
    "    \n",
    "    # Plot a stem diagram for the topic distribution\n",
    "    plt.figure(figsize=(8, 4))\n",
    "    plt.xticks(range(num_topics))\n",
    "    plt.xlabel('Topic number')\n",
    "    plt.ylabel('How much of profile is about each topic')\n",
    "    plt.title('Profile #'+str(profile_id))\n",
    "    plt.stem(range(num_topics), topic_distribution)\n",
    "    \n",
    "    plt.show()\n",
    "    return"
   ]
  },
  {
   "cell_type": "markdown",
   "metadata": {},
   "source": [
    "#### Calculate what portion of each profile is about each topic"
   ]
  },
  {
   "cell_type": "code",
   "execution_count": 30,
   "metadata": {},
   "outputs": [],
   "source": [
    "# Get topic distributions for each document\n",
    "\n",
    "profile_topics = [lda_model.get_document_topics(bow, minimum_probability=0) for bow in corpus]\n",
    "\n",
    "\n",
    "num_topics = lda_model.num_topics\n",
    "profile_topics_matrix = np.array([[prob for topic_id, prob in lda_model.get_document_topics(bow, minimum_probability=0)] for bow in corpus])\n"
   ]
  },
  {
   "cell_type": "markdown",
   "metadata": {},
   "source": [
    "#### Look at the text of a profile that has a lot of a particular topic\n",
    "- This function randomly picks one of the top few profiles for a topic, so each time you run it you will see a different example.\n",
    "    - If you want it to pick from more or less topics, change the value of `pick_from`\n",
    "    - If you want to see a different topic, change the value of `topic_a`\n",
    "    - **Hint:** you can press `ctrl`+`enter` over and over to keep re-running the code in this cell."
   ]
  },
  {
   "cell_type": "code",
   "execution_count": 31,
   "metadata": {},
   "outputs": [
    {
     "name": "stdout",
     "output_type": "stream",
     "text": [
      "Profile number 49567 has more of topic 7 than 99.14% of other profiles\n",
      "Here is the text:\n",
      "\n",
      " i graduated with a communication degree from santa clara\n",
      "university. i enjoy playing basketball, playing football,\n",
      "traveling, tossing the frisbee, hiking, bowling, and spending time\n",
      "with friends. i love movies (consider myself a movie buff), going\n",
      "to amusement parks, and boogie boarding.\n"
     ]
    }
   ],
   "source": [
    "get_profiles_from_topics(documents, profile_topics, topic_a=7, pick_from=1000)"
   ]
  },
  {
   "cell_type": "markdown",
   "metadata": {},
   "source": [
    "<div class=\"alert-info\">\n",
    "    \n",
    "#### Short Answer No.6\n",
    "    \n",
    "- For each of the 3 topics you chose in **Step 1**, use the function get_profiles_from_topics defined above to find a document that strongly aligns with the topic. \n",
    "- Then discuss if the document truly aligns with the topic? (3-5 sentences) \n",
    "    \n",
    "</div>"
   ]
  },
  {
   "cell_type": "markdown",
   "metadata": {},
   "source": [
    "🤔 **Write your response here:**\n",
    "..."
   ]
  },
  {
   "cell_type": "markdown",
   "metadata": {},
   "source": [
    "#### Look at the text of a profile that matches two topics well at the same time\n",
    "- Note that some topics might not happen together very often. If this is the case, the examples we find of both together might not be very good."
   ]
  },
  {
   "cell_type": "code",
   "execution_count": 32,
   "metadata": {},
   "outputs": [
    {
     "name": "stdout",
     "output_type": "stream",
     "text": [
      "Profile number 21283 has more of topic 1 than 98.12% of other profiles and more of topic 2 than 96.97% of other profiles.\n",
      "Here is the text:\n",
      "\n",
      " i like to play. i like mixing things. i like being out in green\n",
      "spaces, out in nature, by lakes, around birds. growing up in san\n",
      "jose has made me crave anything apart from it.\n"
     ]
    }
   ],
   "source": [
    "get_profiles_from_topics(documents, profile_topics, topic_a=1, topic_b=2)"
   ]
  },
  {
   "cell_type": "markdown",
   "metadata": {},
   "source": [
    "#### See how much of a profile is about each topic\n",
    "- Try looking at some of the profiles you just found:\n",
    "    - Make the `pid` equal to the profile number from above."
   ]
  },
  {
   "cell_type": "code",
   "execution_count": 33,
   "metadata": {},
   "outputs": [
    {
     "data": {
      "image/png": "[encoded data removed]",
      "text/plain": [
       "<Figure size 800x400 with 1 Axes>"
      ]
     },
     "metadata": {},
     "output_type": "display_data"
    },
    {
     "data": {
      "text/plain": [
       "\"a hiker, camper, conversationalist, tennis player (sort of).\\n\\ni like funny and serious people and i'm pretty good at scrabble.\""
      ]
     },
     "execution_count": 33,
     "metadata": {},
     "output_type": "execute_result"
    }
   ],
   "source": [
    "pid = 40000\n",
    "visualize_profile(profile_topics, pid, num_topics) # visualizing the topic distribution for the profile with ID pid.\n",
    "\n",
    "\n",
    "### NEW\n",
    "documents[pid]"
   ]
  },
  {
   "cell_type": "markdown",
   "metadata": {},
   "source": [
    "<div class=\"alert-info\">\n",
    "    \n",
    "#### Short Answer No.7\n",
    "\n",
    "- Does the topic classification make sense to you? If so, which of the words in the example printed above are the most representitave of each of the topics? (3-5 sentences)\n",
    "    \n",
    "- Do your topic names match what you are seeing in the text? \n",
    "- Did any of your interpretations change after reading some profiles? (You would do so by changing pid and create several different charts. Then, based on the result, conclude if you want to make any changes to your topic names) \n",
    "    - If you need to update your topic names, do so here.\n",
    "    \n",
    "</div>"
   ]
  },
  {
   "cell_type": "markdown",
   "metadata": {},
   "source": [
    "🤔 **Write your response here:**\n",
    "..."
   ]
  },
  {
   "cell_type": "markdown",
   "metadata": {},
   "source": [
    "## Section 5: Topic Quality\n",
    "Let's see how good the topics we found are.\n",
    "\n",
    "### Step 1: See if the topics are each about different things.\n",
    "We want each topic to be about something different than the other topics. We can check this by comparing the words in each topic to the words in all the others. How to interpret:\n",
    "- Each square shows how similar two topics are. Darker means more similar, and lighter means more different.\n",
    "- The square in the very top left shows how similar topic 0 is to topic 0 (i.e. how similar it is to itself). \n",
    "- The square next to it in the top row shows how similar topic 0 is to topic 1, and so on. \n",
    "- For any two topics, you can see how similar they are by finding their numbers on the edges and seeing where they intersect."
   ]
  },
  {
   "cell_type": "code",
   "execution_count": 34,
   "metadata": {},
   "outputs": [
    {
     "data": {
      "text/plain": [
       "<Figure size 640x480 with 0 Axes>"
      ]
     },
     "metadata": {},
     "output_type": "display_data"
    },
    {
     "data": {
      "image/png": "[encoded data removed]",
      "text/plain": [
       "<Figure size 800x800 with 2 Axes>"
      ]
     },
     "metadata": {},
     "output_type": "display_data"
    }
   ],
   "source": [
    "def plot_topics(components):\n",
    "    sim = cosine_similarity(components)\n",
    "    blue_matrix(sim, xl='Topic number', yl='Topic number',\n",
    "                t = 'Word Similarity between Topics')  # heatmap\n",
    "    return\n",
    "\n",
    "plot_topics(lda_topics)"
   ]
  },
  {
   "cell_type": "markdown",
   "metadata": {},
   "source": [
    "### Step 2: See if different topics show up in different profiles\n",
    "The point is to tell profiles apart based on what topics they're about, so we need to check whether the topics appear in different profiles.\n",
    "- This shows us something that looks similar to the topic similarity we saw before, but this time:\n",
    "    - We **don't** compare topics based on which words they use\n",
    "    - We **do** compare topics based on how often they appear in the same profile as one another"
   ]
  },
  {
   "cell_type": "code",
   "execution_count": 35,
   "metadata": {},
   "outputs": [
    {
     "data": {
      "text/plain": [
       "<Figure size 640x480 with 0 Axes>"
      ]
     },
     "metadata": {},
     "output_type": "display_data"
    },
    {
     "data": {
      "image/png": "[encoded data removed]",
      "text/plain": [
       "<Figure size 800x800 with 2 Axes>"
      ]
     },
     "metadata": {},
     "output_type": "display_data"
    }
   ],
   "source": [
    "# Flatten the topic distributions for each profile into a matrix\n",
    "profile_topics_flattened = np.array([np.array([t[1] for t in profile]) for profile in profile_topics])\n",
    "\n",
    "# Convert to DataFrame and compute correlation\n",
    "def topic_cooccurance(topics):\n",
    "    co = pd.DataFrame(topics).corr()\n",
    "    blue_matrix(co, xl='Topic number', yl='Topic number', t='Topic Co-occurrence in Profiles')\n",
    "\n",
    "# Call the function with the flattened topic matrix\n",
    "topic_cooccurance(profile_topics_flattened)\n"
   ]
  },
  {
   "cell_type": "markdown",
   "metadata": {},
   "source": [
    "#### Note that the topics are mostly uncorrelated. \n",
    "- The cells in the figure above are mostly very light blue\n",
    "- This doesn't mean that, for instance, topic 1 and 2 never show up in the same profile.\n",
    "- It does mean, however, that seeing any particular topic doesn't mean we're especially likely to also see any other topic.\n",
    "\n",
    "<div class=\"alert-info\">\n",
    "    \n",
    "#### Short Answer No.8\n",
    "- Why is the diagonal line so dark? (1-2 sentences)\n",
    "\n",
    "- Would you say that this topic classification result is good? Why? (explain in 1-3 sentences)\n",
    "\n",
    "- Do you think that the two figures above are sufficient to conclude that the topic quality is perfect? Why? (3-5 sentences)\n",
    "\n",
    "</div>"
   ]
  },
  {
   "cell_type": "markdown",
   "metadata": {},
   "source": [
    "🤔 **Write your response here:**\n",
    "...."
   ]
  },
  {
   "cell_type": "markdown",
   "metadata": {},
   "source": [
    "## Section 6: Topic Popularity\n",
    "\n",
    "#### Helper functions to visualize and compare topics\n",
    "- Run this code and scroll down. The details of how it works aren't our focus right now."
   ]
  },
  {
   "cell_type": "code",
   "execution_count": 36,
   "metadata": {},
   "outputs": [],
   "source": [
    "def common_topics_bars(profile_topics):\n",
    "    df = pd.DataFrame([{t[0]: t[1] for t in topics} for topics in profile_topics])\n",
    "    \n",
    "    popularity = df.mean().rename_axis('Topic')\n",
    "    \n",
    "    popularity = popularity.sort_values(ascending=False)\n",
    "    \n",
    "    popularity.plot.bar(title='Topic Popularity')\n",
    "    plt.xlabel('Topic')\n",
    "    plt.ylabel('Average Probability')\n",
    "    plt.show()\n",
    "    return\n",
    "\n",
    "def rank_groups(data, trait, topic):\n",
    "    groups = data[trait].value_counts().index.values\n",
    "    result = {}\n",
    "    \n",
    "    # Rank groups by their mean for the specific topic\n",
    "    for g in groups:\n",
    "        result[g] = data[data[trait] == g][topic].mean()\n",
    "    \n",
    "    r = pd.DataFrame.from_dict(result, orient='index')\n",
    "    r.columns = [topic]\n",
    "    r = r.sort_values(by=topic, ascending=False)\n",
    "    \n",
    "    return r.round(3)\n",
    "\n",
    "def top_topics(data, trait, value, n_top_topics=3, distinctive=False):\n",
    "    topics = [col for col in data if col.startswith('topic_')]\n",
    "    vals = {}\n",
    "    means = {}\n",
    "    if distinctive:\n",
    "        for t in topics:\n",
    "            means[t] = data[t].mean()\n",
    "    else:\n",
    "        for t in topics:\n",
    "            means[t] = 1\n",
    "    \n",
    "    data = data[data[trait] == value]\n",
    "    \n",
    "    for t in topics:\n",
    "        vals[t] = data[t].mean() / means[t]\n",
    "    vals = pd.DataFrame.from_dict(vals, orient='index')    \n",
    "    vals = vals.sort_values(by=0, ascending=False).head(n_top_topics)\n",
    "\n",
    "    return list(vals.index.values)"
   ]
  },
  {
   "cell_type": "markdown",
   "metadata": {},
   "source": [
    "### Overall most common topics"
   ]
  },
  {
   "cell_type": "code",
   "execution_count": 37,
   "metadata": {},
   "outputs": [
    {
     "data": {
      "image/png": "[encoded data removed]",
      "text/plain": [
       "<Figure size 640x480 with 1 Axes>"
      ]
     },
     "metadata": {},
     "output_type": "display_data"
    }
   ],
   "source": [
    "common_topics_bars(profile_topics)"
   ]
  },
  {
   "cell_type": "markdown",
   "metadata": {},
   "source": [
    "### Who is a topic most popular with?"
   ]
  },
  {
   "cell_type": "markdown",
   "metadata": {},
   "source": [
    "#### Step 1: Merge our information about topics with our information about people"
   ]
  },
  {
   "cell_type": "code",
   "execution_count": 38,
   "metadata": {},
   "outputs": [
    {
     "data": {
      "text/html": [
       "<div>\n",
       "<style scoped>\n",
       "    .dataframe tbody tr th:only-of-type {\n",
       "        vertical-align: middle;\n",
       "    }\n",
       "\n",
       "    .dataframe tbody tr th {\n",
       "        vertical-align: top;\n",
       "    }\n",
       "\n",
       "    .dataframe thead th {\n",
       "        text-align: right;\n",
       "    }\n",
       "</style>\n",
       "<table border=\"1\" class=\"dataframe\">\n",
       "  <thead>\n",
       "    <tr style=\"text-align: right;\">\n",
       "      <th></th>\n",
       "      <th>age_group</th>\n",
       "      <th>age</th>\n",
       "      <th>body</th>\n",
       "      <th>alcohol_use</th>\n",
       "      <th>drug_use</th>\n",
       "      <th>edu</th>\n",
       "      <th>race_ethnicity</th>\n",
       "      <th>height_group</th>\n",
       "      <th>industry</th>\n",
       "      <th>kids</th>\n",
       "      <th>...</th>\n",
       "      <th>topic_5</th>\n",
       "      <th>topic_6</th>\n",
       "      <th>topic_7</th>\n",
       "      <th>topic_8</th>\n",
       "      <th>topic_9</th>\n",
       "      <th>topic_10</th>\n",
       "      <th>topic_11</th>\n",
       "      <th>topic_12</th>\n",
       "      <th>topic_13</th>\n",
       "      <th>topic_14</th>\n",
       "    </tr>\n",
       "  </thead>\n",
       "  <tbody>\n",
       "    <tr>\n",
       "      <th>0</th>\n",
       "      <td>20</td>\n",
       "      <td>22</td>\n",
       "      <td>overweight</td>\n",
       "      <td>yes</td>\n",
       "      <td>no</td>\n",
       "      <td>HS</td>\n",
       "      <td>multiple</td>\n",
       "      <td>over_6</td>\n",
       "      <td>other</td>\n",
       "      <td>no</td>\n",
       "      <td>...</td>\n",
       "      <td>0.000642</td>\n",
       "      <td>0.437450</td>\n",
       "      <td>0.000642</td>\n",
       "      <td>0.000642</td>\n",
       "      <td>0.000642</td>\n",
       "      <td>0.047873</td>\n",
       "      <td>0.000642</td>\n",
       "      <td>0.081892</td>\n",
       "      <td>0.085037</td>\n",
       "      <td>0.000642</td>\n",
       "    </tr>\n",
       "    <tr>\n",
       "      <th>1</th>\n",
       "      <td>30</td>\n",
       "      <td>35</td>\n",
       "      <td>average</td>\n",
       "      <td>yes</td>\n",
       "      <td>yes</td>\n",
       "      <td>unknown</td>\n",
       "      <td>White</td>\n",
       "      <td>under_6</td>\n",
       "      <td>other</td>\n",
       "      <td>no</td>\n",
       "      <td>...</td>\n",
       "      <td>0.001450</td>\n",
       "      <td>0.227774</td>\n",
       "      <td>0.001450</td>\n",
       "      <td>0.001450</td>\n",
       "      <td>0.001450</td>\n",
       "      <td>0.001450</td>\n",
       "      <td>0.353669</td>\n",
       "      <td>0.001450</td>\n",
       "      <td>0.304011</td>\n",
       "      <td>0.098595</td>\n",
       "    </tr>\n",
       "    <tr>\n",
       "      <th>2</th>\n",
       "      <td>30</td>\n",
       "      <td>38</td>\n",
       "      <td>thin</td>\n",
       "      <td>yes</td>\n",
       "      <td>yes</td>\n",
       "      <td>Grad_Pro</td>\n",
       "      <td>NaN</td>\n",
       "      <td>under_6</td>\n",
       "      <td>NaN</td>\n",
       "      <td>no</td>\n",
       "      <td>...</td>\n",
       "      <td>0.255530</td>\n",
       "      <td>0.189770</td>\n",
       "      <td>0.000667</td>\n",
       "      <td>0.000667</td>\n",
       "      <td>0.069811</td>\n",
       "      <td>0.188955</td>\n",
       "      <td>0.000667</td>\n",
       "      <td>0.049044</td>\n",
       "      <td>0.000667</td>\n",
       "      <td>0.170534</td>\n",
       "    </tr>\n",
       "    <tr>\n",
       "      <th>3</th>\n",
       "      <td>20</td>\n",
       "      <td>23</td>\n",
       "      <td>thin</td>\n",
       "      <td>yes</td>\n",
       "      <td>yes</td>\n",
       "      <td>HS</td>\n",
       "      <td>White</td>\n",
       "      <td>under_6</td>\n",
       "      <td>education</td>\n",
       "      <td>no</td>\n",
       "      <td>...</td>\n",
       "      <td>0.013335</td>\n",
       "      <td>0.013335</td>\n",
       "      <td>0.288832</td>\n",
       "      <td>0.013335</td>\n",
       "      <td>0.013335</td>\n",
       "      <td>0.013335</td>\n",
       "      <td>0.013335</td>\n",
       "      <td>0.013335</td>\n",
       "      <td>0.013335</td>\n",
       "      <td>0.013335</td>\n",
       "    </tr>\n",
       "    <tr>\n",
       "      <th>4</th>\n",
       "      <td>20</td>\n",
       "      <td>29</td>\n",
       "      <td>fit</td>\n",
       "      <td>yes</td>\n",
       "      <td>no</td>\n",
       "      <td>BA</td>\n",
       "      <td>multiple</td>\n",
       "      <td>under_6</td>\n",
       "      <td>creative</td>\n",
       "      <td>no</td>\n",
       "      <td>...</td>\n",
       "      <td>0.002900</td>\n",
       "      <td>0.002900</td>\n",
       "      <td>0.002900</td>\n",
       "      <td>0.002900</td>\n",
       "      <td>0.002900</td>\n",
       "      <td>0.362422</td>\n",
       "      <td>0.002900</td>\n",
       "      <td>0.002900</td>\n",
       "      <td>0.002900</td>\n",
       "      <td>0.463674</td>\n",
       "    </tr>\n",
       "  </tbody>\n",
       "</table>\n",
       "<p>5 rows × 34 columns</p>\n",
       "</div>"
      ],
      "text/plain": [
       "   age_group  age        body alcohol_use drug_use       edu race_ethnicity  \\\n",
       "0         20   22  overweight         yes       no        HS       multiple   \n",
       "1         30   35     average         yes      yes   unknown          White   \n",
       "2         30   38        thin         yes      yes  Grad_Pro            NaN   \n",
       "3         20   23        thin         yes      yes        HS          White   \n",
       "4         20   29         fit         yes       no        BA       multiple   \n",
       "\n",
       "  height_group   industry kids  ...   topic_5   topic_6   topic_7   topic_8  \\\n",
       "0       over_6      other   no  ...  0.000642  0.437450  0.000642  0.000642   \n",
       "1      under_6      other   no  ...  0.001450  0.227774  0.001450  0.001450   \n",
       "2      under_6        NaN   no  ...  0.255530  0.189770  0.000667  0.000667   \n",
       "3      under_6  education   no  ...  0.013335  0.013335  0.288832  0.013335   \n",
       "4      under_6   creative   no  ...  0.002900  0.002900  0.002900  0.002900   \n",
       "\n",
       "    topic_9  topic_10  topic_11  topic_12  topic_13  topic_14  \n",
       "0  0.000642  0.047873  0.000642  0.081892  0.085037  0.000642  \n",
       "1  0.001450  0.001450  0.353669  0.001450  0.304011  0.098595  \n",
       "2  0.069811  0.188955  0.000667  0.049044  0.000667  0.170534  \n",
       "3  0.013335  0.013335  0.013335  0.013335  0.013335  0.013335  \n",
       "4  0.002900  0.362422  0.002900  0.002900  0.002900  0.463674  \n",
       "\n",
       "[5 rows x 34 columns]"
      ]
     },
     "execution_count": 38,
     "metadata": {},
     "output_type": "execute_result"
    }
   ],
   "source": [
    "profile_topics_prob = [[prob for _, prob in doc] for doc in profile_topics]\n",
    "topic_info = pd.DataFrame(profile_topics_prob).add_prefix('topic_')\n",
    "together = profiles.merge(topic_info, left_index=True, right_index=True)\n",
    "together.head()"
   ]
  },
  {
   "cell_type": "markdown",
   "metadata": {},
   "source": [
    "#### Step 2: See the groups that have the most text about a given topic\n",
    "- The numbers here show how much of a profile, on average, is about a specific topic. For example, if you don't have a pet, you probably wouldn't be writing about your pet (topic X). \n",
    "\n",
    "#### Play around with the code in the next few cells:\n",
    "- Pick 3 of the traits we have data for. Here are the options (information we know about users from their profiles):\n",
    "    - `age_group` categories: ['10', '20', '30', '40', '50']\n",
    "    - `body` categories: ['average', 'fit', 'thin', 'overweight', 'unknown']\n",
    "    - `alcohol_use` categories: ['yes', 'no']\n",
    "    - `drug_use` categories: ['yes', 'no']\n",
    "    - `edu` (highest degree completed) categories: ['`<HS`', 'HS', 'BA', 'Grad_Pro', 'unknown'] \n",
    "    - `race_ethnicity` categories: ['Asian', 'Black', 'Latinx', 'White', 'multiple', 'other']\n",
    "    - `height_group` (whether someone is over or under six feet tall) categories: ['under_6', 'over_6']\n",
    "    - `industry` (what field they work in) categories: ['STEM', 'business', 'education', 'creative', 'med_law', 'other'] \n",
    "    - `kids` (whether they have children) categories: ['yes', 'no']\n",
    "    - `orientation` categories: ['straight', 'gay', 'bisexual']\n",
    "    - `pets_likes` (what pets they like) categories: ['both', 'dogs', 'cats', 'neither']\n",
    "    - `pets_has` (what pets they have) categories: ['both', 'dogs', 'cats', 'neither']\n",
    "    - `pets_any` (whether they have pets or not) categories: ['yes', 'no']\n",
    "    - `religion` categories: ['christianity', 'catholicism', 'judaism', 'buddhism', 'none', 'other'] \n",
    "    - `sex` categories: ['m', 'f']\n",
    "    - `smoker` categories: ['yes', 'no']\n",
    "    - `languages` categories: ['multiple', 'English_only'] \n",
    "- Change the topics and values in the code in the next few cells to explore how the trait you chose relates to the topics.\n",
    "    \n",
    "<div class=\"alert-info\">\n",
    "    \n",
    "#### Short Answer No.9\n",
    "\n",
    "- Before you run the code, predict what will the result be (1-2 sentences)\n",
    "\n",
    "- Write down which traits you chose to look at, and what you learned about different groups of people from the topics they used. What topics do they have in common? What topics make them different? Does this make sense given the groups? Why or why not? Remember: we interpreted the topics above, so explain your findings in terms of content, not just topic numbers. (1-2 paragraphs)\n",
    "\n",
    "- Does the actual result match your prediction? "
   ]
  },
  {
   "cell_type": "code",
   "execution_count": 39,
   "metadata": {},
   "outputs": [
    {
     "data": {
      "text/html": [
       "<div>\n",
       "<style scoped>\n",
       "    .dataframe tbody tr th:only-of-type {\n",
       "        vertical-align: middle;\n",
       "    }\n",
       "\n",
       "    .dataframe tbody tr th {\n",
       "        vertical-align: top;\n",
       "    }\n",
       "\n",
       "    .dataframe thead th {\n",
       "        text-align: right;\n",
       "    }\n",
       "</style>\n",
       "<table border=\"1\" class=\"dataframe\">\n",
       "  <thead>\n",
       "    <tr style=\"text-align: right;\">\n",
       "      <th></th>\n",
       "      <th>topic_5</th>\n",
       "    </tr>\n",
       "  </thead>\n",
       "  <tbody>\n",
       "    <tr>\n",
       "      <th>HS</th>\n",
       "      <td>0.042</td>\n",
       "    </tr>\n",
       "    <tr>\n",
       "      <th>Grad_Pro</th>\n",
       "      <td>0.041</td>\n",
       "    </tr>\n",
       "    <tr>\n",
       "      <th>BA</th>\n",
       "      <td>0.040</td>\n",
       "    </tr>\n",
       "    <tr>\n",
       "      <th>unknown</th>\n",
       "      <td>0.040</td>\n",
       "    </tr>\n",
       "    <tr>\n",
       "      <th>&lt;HS</th>\n",
       "      <td>0.032</td>\n",
       "    </tr>\n",
       "  </tbody>\n",
       "</table>\n",
       "</div>"
      ],
      "text/plain": [
       "          topic_5\n",
       "HS          0.042\n",
       "Grad_Pro    0.041\n",
       "BA          0.040\n",
       "unknown     0.040\n",
       "<HS         0.032"
      ]
     },
     "execution_count": 39,
     "metadata": {},
     "output_type": "execute_result"
    }
   ],
   "source": [
    "rank_groups(together, trait='edu', topic='topic_5') ## we use this as an example, and ask students to find 3 more"
   ]
  },
  {
   "cell_type": "markdown",
   "metadata": {},
   "source": [
    "#### Step 3: See the topics that are most common for a given group\n",
    "- This example shows most common topics for different education groups.\n",
    "- You can change the arguments to compare different groups."
   ]
  },
  {
   "cell_type": "code",
   "execution_count": 40,
   "metadata": {},
   "outputs": [
    {
     "data": {
      "text/plain": [
       "['topic_13', 'topic_9', 'topic_11']"
      ]
     },
     "execution_count": 40,
     "metadata": {},
     "output_type": "execute_result"
    }
   ],
   "source": [
    "#show most popular topics for High School graduates\n",
    "top_topics(data=together, trait='edu', value='HS', n_top_topics=3)"
   ]
  },
  {
   "cell_type": "code",
   "execution_count": 41,
   "metadata": {},
   "outputs": [
    {
     "data": {
      "text/plain": [
       "['topic_9', 'topic_13', 'topic_11']"
      ]
     },
     "execution_count": 41,
     "metadata": {},
     "output_type": "execute_result"
    }
   ],
   "source": [
    "#show most popular topics for High School graduates\n",
    "top_topics(data=together, trait='edu', value='BA', n_top_topics=3)"
   ]
  },
  {
   "cell_type": "markdown",
   "metadata": {},
   "source": [
    "#### Step 4: See the topics that distinguish a group from other groups\n",
    "- This example shows most distinctive topics for different education levels.\n",
    "- You can change the arguments to compare different groups"
   ]
  },
  {
   "cell_type": "code",
   "execution_count": 42,
   "metadata": {},
   "outputs": [
    {
     "data": {
      "text/plain": [
       "['topic_4', 'topic_0', 'topic_5']"
      ]
     },
     "execution_count": 42,
     "metadata": {},
     "output_type": "execute_result"
    }
   ],
   "source": [
    "top_topics(data=together, trait='edu', value='HS', n_top_topics=3, distinctive=True)"
   ]
  },
  {
   "cell_type": "code",
   "execution_count": 43,
   "metadata": {},
   "outputs": [
    {
     "data": {
      "text/plain": [
       "['topic_8', 'topic_4', 'topic_1']"
      ]
     },
     "execution_count": 43,
     "metadata": {},
     "output_type": "execute_result"
    }
   ],
   "source": [
    "top_topics(data=together, trait='edu', value='Grad_Pro', n_top_topics=3, distinctive=True)"
   ]
  },
  {
   "cell_type": "markdown",
   "metadata": {},
   "source": [
    "🤔 **Write your response here:**\n",
    "...."
   ]
  },
  {
   "cell_type": "markdown",
   "metadata": {},
   "source": [
    "# Section 7: NMF Topic Model\n",
    "- NMF is an alternative to LDA\n",
    "- NMF stands for Non-Negative Matrix Factorization. "
   ]
  },
  {
   "cell_type": "markdown",
   "metadata": {
    "heading_collapsed": true
   },
   "source": [
    "### Expand for more on how NMF works"
   ]
  },
  {
   "cell_type": "markdown",
   "metadata": {
    "hidden": true
   },
   "source": [
    "- `Factoring` is something you may have done in math class before, for example:\n",
    "    - $ 10 $ can be factored as $ 2 \\times 5 $\n",
    "    - $ x^2+3x+2 $ can be factored as $ (x+2)(x+1)$\n",
    "- When we convert the text into numbers for the computer, it gets stored as something called a `matrix`.\n",
    "    - The matrix is `non-negative` because we can't have negative numbers of words: all the word counts are zero or more.\n",
    "- It is not important right now how exactly we find factors for these matrices, but if you're curious, you can learn more about it in a Linear Algebra class.\n",
    "- It turns out that finding factors for text is a really good way of finding topics. This makes sense intuitively: factors are simple things we can combine to get the more complicated output, and topics are simple things people combine to write profiles.\n",
    "- [Learn more](https://en.wikipedia.org/wiki/Non-negative_matrix_factorization#Text_mining) about NMF."
   ]
  },
  {
   "cell_type": "markdown",
   "metadata": {},
   "source": [
    "### Step 1: Convert text to numbers the computer understands\n",
    "- NMF takes \"tf-idf vectors\" as input. Tf-idf stands for \"text frequency - inverse document frequency.\" \n",
    "    - Text frequency is the same as the count vectors we used for LDA above: how often does each word appear in the text?\n",
    "    - Inverse document frequency means we divide (\"inverse\") by the number of documents the word is in. (If everyone uses the word, it isn't very helpful for figuring out what makes people different. So this measurement looks for words that are used a lot in some documents, and not at all in others.)"
   ]
  },
  {
   "cell_type": "code",
   "execution_count": 64,
   "metadata": {},
   "outputs": [
    {
     "name": "stdout",
     "output_type": "stream",
     "text": [
      "Vectorizing text by TF-IDF...\n",
      "Our transformed text has 53396 rows and 1000 columns.\n"
     ]
    }
   ],
   "source": [
    "from sklearn.feature_extraction.text import TfidfVectorizer\n",
    "\n",
    "tfidf_vectorizer = TfidfVectorizer(max_features=1000, stop_words='english')\n",
    "\n",
    "print(\"Vectorizing text by TF-IDF...\")\n",
    "tfidf_text = tfidf_vectorizer.fit_transform(documents)\n",
    "\n",
    "tmp = tfidf_text.get_shape()\n",
    "print(\"Our transformed text has\", tmp[0], \"rows and\", tmp[1], \"columns.\")"
   ]
  },
  {
   "cell_type": "markdown",
   "metadata": {},
   "source": [
    "#### The features are mostly the same as count vectors, because they are just the common words in the text"
   ]
  },
  {
   "cell_type": "code",
   "execution_count": 65,
   "metadata": {},
   "outputs": [
    {
     "name": "stdout",
     "output_type": "stream",
     "text": [
      "The first few words (alphabetically) are:\n",
      " ['10' '11' '12' '15' '20' '30' 'ability' 'able' 'abroad' 'absolutely'\n",
      " 'act' 'active' 'activities' 'activity' 'actually' 'add' 'admit'\n",
      " 'adventure' 'adventures' 'adventurous']\n"
     ]
    }
   ],
   "source": [
    "tfidf_words = tfidf_vectorizer.get_feature_names_out()\n",
    "print(\"The first few words (alphabetically) are:\\n\", tfidf_words[:20])"
   ]
  },
  {
   "cell_type": "markdown",
   "metadata": {},
   "source": [
    "#### The values are different: the counts have been divided by the documents they show up in"
   ]
  },
  {
   "cell_type": "code",
   "execution_count": 66,
   "metadata": {},
   "outputs": [
    {
     "name": "stdout",
     "output_type": "stream",
     "text": [
      "Profile text:\n",
      " hey how's it going? currently vague on the profile i know, more to\n",
      "come soon. looking to meet new folks outside of my circle of\n",
      "friends. i'm pretty responsive on the reply tip, feel free to drop\n",
      "a line. cheers.\n",
      "\n",
      "TF-IDF vector:\n",
      "free \t 0.25\n",
      "feel \t 0.22\n",
      "outside \t 0.26\n",
      "folks \t 0.36\n",
      "meet \t 0.2\n",
      "soon \t 0.31\n",
      "come \t 0.25\n",
      "profile \t 0.26\n",
      "currently \t 0.26\n",
      "going \t 0.17\n",
      "hey \t 0.3\n",
      "pretty \t 0.19\n",
      "friends \t 0.15\n",
      "new \t 0.14\n",
      "looking \t 0.16\n",
      "line \t 0.33\n",
      "know \t 0.17\n"
     ]
    }
   ],
   "source": [
    "n = 4\n",
    "\n",
    "print('Profile text:\\n', documents[n])\n",
    "print('\\nTF-IDF vector:')\n",
    "\n",
    "def show_vector(x, words):\n",
    "    rows,cols = x.nonzero()\n",
    "    for row,col in zip(rows,cols):\n",
    "        print(words[col], '\\t', x[row,col].round(2))\n",
    "        \n",
    "show_vector(tfidf_text[n], words=tfidf_words)"
   ]
  },
  {
   "cell_type": "markdown",
   "metadata": {},
   "source": [
    "### Step 2: Build a topic model using NMF\n",
    "\n",
    "- NMF is faster than LDA and often works a little better for small documents like we have here."
   ]
  },
  {
   "cell_type": "code",
   "execution_count": 67,
   "metadata": {},
   "outputs": [
    {
     "name": "stdout",
     "output_type": "stream",
     "text": [
      "Performing NMF on vectors...\n",
      "Done!\n"
     ]
    }
   ],
   "source": [
    "import sklearn\n",
    "from sklearn.decomposition import NMF\n",
    "\n",
    "sklearn_major_ver = int(sklearn.__version__.split('.')[0])\n",
    "\n",
    "if (sklearn_major_ver < 1):\n",
    "    model = NMF(n_components=ntopics, alpha=.1, l1_ratio=.5, init='nndsvd', random_state= 7)\n",
    "else:\n",
    "    # after sklearn v1.0, parameter alpha was removed, alpha_W and alpha_H with different approach.  \n",
    "    model = NMF(n_components=ntopics, alpha_W=.0001, alpha_H='same', l1_ratio=.5, init='nndsvd', random_state= 7)\n",
    "\n",
    "print('Performing NMF on vectors...')\n",
    "nmf = model.fit(tfidf_text)\n",
    "nmf_topics = nmf.components_\n",
    "\n",
    "print('Done!')"
   ]
  },
  {
   "cell_type": "markdown",
   "metadata": {},
   "source": [
    "### Step 3: Show our topics with the top words in each"
   ]
  },
  {
   "cell_type": "code",
   "execution_count": 68,
   "metadata": {},
   "outputs": [
    {
     "name": "stdout",
     "output_type": "stream",
     "text": [
      "Topic 0: time people don things really friends know enjoy think person\n",
      "Topic 1: bay area moved years sf east ago born school grew\n",
      "Topic 2: just ask know moved want message meet really trying say\n",
      "Topic 3: new people meet meeting things trying places friends try city\n",
      "Topic 4: like things don movies stuff play people watch feel fun\n",
      "Topic 5: im dont lol chill guy thats person laid nice kinda\n",
      "Topic 6: love laugh travel outdoors family food cook dance sports hiking\n",
      "Topic 7: life live enjoy fullest share enjoying living simple short loving\n",
      "Topic 8: san francisco city moved living years born raised lived diego\n",
      "Topic 9: looking fun guy loving meet girl nice friends relationship share\n",
      "Topic 10: good food conversation time humor company sense enjoy wine friends\n",
      "Topic 11: going easy guy enjoy person laid pretty fun movies friends\n",
      "Topic 12: work hard play working time live job sf company school\n",
      "Topic 13: ve lived years got told past seen traveled spent far\n",
      "Topic 14: music art live movies listening listen food play playing dancing\n"
     ]
    }
   ],
   "source": [
    "def describe_NMF_topic(topic, feature_names, n_words=10):\n",
    "    words = []\n",
    "    # sort the words in the topic by importance\n",
    "    topic = topic.argsort() \n",
    "    # select the n_words most important words\n",
    "    topic = topic[:-n_words - 1:-1]\n",
    "    # for each important word, get it's name (i.e. the word) from our list of names\n",
    "    for i in topic:\n",
    "        words.append(feature_names[i])\n",
    "    # print the topic number and its most important words, separated by spaces\n",
    "    return \" \".join(words)\n",
    "\n",
    "\n",
    "def display_NMF_topics(components, feature_names, n_words=10):\n",
    "    # loop through each topic (component) in the model; show its top words\n",
    "    for topic_idx, topic in enumerate(components):\n",
    "        print(\"Topic {}:\".format(topic_idx), \n",
    "              describe_NMF_topic(topic, feature_names, n_words))\n",
    "    return\n",
    "    \n",
    "display_NMF_topics(nmf_topics, tfidf_words, nshow)"
   ]
  },
  {
   "cell_type": "markdown",
   "metadata": {},
   "source": [
    "### Step 4: Compare topics to each other\n",
    "We can compare topics visually by plotting the similarity of each topic's chosen words to each other topic."
   ]
  },
  {
   "cell_type": "code",
   "execution_count": 56,
   "metadata": {},
   "outputs": [
    {
     "data": {
      "text/plain": [
       "<Figure size 640x480 with 0 Axes>"
      ]
     },
     "metadata": {},
     "output_type": "display_data"
    },
    {
     "data": {
      "image/png": "[encoded data removed]",
      "text/plain": [
       "<Figure size 800x800 with 2 Axes>"
      ]
     },
     "metadata": {},
     "output_type": "display_data"
    }
   ],
   "source": [
    "plot_topics(nmf_topics)"
   ]
  },
  {
   "cell_type": "markdown",
   "metadata": {},
   "source": [
    "#### Examine the words that make two topics similar or different\n",
    "We can also compare two topics to each other by looking at words that are common in both, or words that are common in one but not the other. Try changing topic_a and topic_b to different topic numbers."
   ]
  },
  {
   "cell_type": "code",
   "execution_count": 69,
   "metadata": {},
   "outputs": [
    {
     "name": "stdout",
     "output_type": "stream",
     "text": [
      "overlap between 1 and 8: moved lived raised year born ago years college grew living\n",
      "difference between 1 and 8: place recent running past playing pretty places outdoors 10 outside\n",
      "difference between 8 and 1: plus playful pictures point plan picture poetry planning played play\n"
     ]
    }
   ],
   "source": [
    "def find_intersection(idxa, idxb, n):\n",
    "    a = set()\n",
    "    b = set()\n",
    "    both = set()\n",
    "    i = 0\n",
    "    while len(both) < n:\n",
    "        a.add(idxa[i])\n",
    "        b.add(idxb[i])\n",
    "        both = a.intersection(b)\n",
    "        i += 1\n",
    "    return list(both)\n",
    "\n",
    "def compare_topic_words(topics, a, b, words, how='overlap', n_words=nshow):\n",
    "    b_sort = False\n",
    "    if how == 'difference':\n",
    "        b_sort = True\n",
    "    \n",
    "    dfa = pd.DataFrame(topics, columns=words).T\n",
    "    idxa = dfa.sort_values(by=a, ascending=False).index.values\n",
    "    idxb = dfa.sort_values(by=b, ascending=b_sort).index.values\n",
    "    both = find_intersection(idxa, idxb, n=n_words)\n",
    "    \n",
    "    out = how + ' between ' + str(a) + ' and ' + str(b) + ':'\n",
    "    for w in both:\n",
    "        out += ' ' + w\n",
    "    print(out)\n",
    "    return\n",
    "\n",
    "topic_a = 1\n",
    "topic_b = 8\n",
    "\n",
    "compare_topic_words(nmf_topics, topic_a, topic_b, tfidf_words, n_words=nshow, how='overlap')\n",
    "compare_topic_words(nmf_topics, topic_a, topic_b, tfidf_words, n_words=nshow, how='difference')\n",
    "compare_topic_words(nmf_topics, topic_b, topic_a, tfidf_words, n_words=nshow, how='difference')"
   ]
  },
  {
   "cell_type": "markdown",
   "metadata": {},
   "source": [
    "### Step 5: Interpret these topics\n",
    "\n",
    "<div class=\"alert-info\">\n",
    "    \n",
    "#### Short Answer No.10\n",
    "    \n",
    "- This part is for you to do: code can't do it for you.\n",
    "- Look at the list of important words for each topic, and think about these questions.\n",
    "    - What do the words have in common?\n",
    "    - What could someone write that would use most of those words?\n",
    "    - What does this topic seem to be about?\n",
    "- Try to come up with a short, catchy name for each topic.\n",
    "    - For example, if the words were \"san francisco city moved living born years raised lived live\", you might call it \"places lived\" because the topic seems to be about where people currently live (San Francisco) and where they were born / raised / moved from. \n",
    "    \n",
    "</div>"
   ]
  },
  {
   "cell_type": "markdown",
   "metadata": {},
   "source": [
    "🤔 **Write your response here:**\n",
    "...."
   ]
  },
  {
   "cell_type": "markdown",
   "metadata": {},
   "source": [
    "### Step 6: Compare the topics from LDA and NMF\n",
    "\n",
    "#### Helper function to make a graph for us"
   ]
  },
  {
   "cell_type": "code",
   "execution_count": 70,
   "metadata": {},
   "outputs": [],
   "source": [
    "def plot_confusion(x, y, x_label='', y_label='', t_label = '', sort=True):\n",
    "    n = x.shape[0]\n",
    "    corrs = cosine_similarity(x, y)\n",
    "    topic_similarity = pd.DataFrame(corrs)\n",
    "    new_order=None\n",
    "    \n",
    "    if sort:\n",
    "        matches = []\n",
    "        pairs = {}\n",
    "\n",
    "        for i in range(n):\n",
    "            for j in range(n):\n",
    "                tmp = {}\n",
    "                tmp['i'] = i\n",
    "                tmp['j'] = j\n",
    "                tmp['match'] = corrs[i][j]\n",
    "                matches.append(tmp)\n",
    "\n",
    "        matches = pd.DataFrame(matches).sort_values(by='match', ascending=False)\n",
    "\n",
    "        for row in matches.iterrows():\n",
    "            i = row[1]['i']\n",
    "            j = row[1]['j']\n",
    "            if i not in pairs.keys():\n",
    "                if j not in pairs.values():\n",
    "                    pairs[i] = row[1]['j']\n",
    "\n",
    "        new_order = list(range(n))\n",
    "        for k in pairs.keys():\n",
    "            new_order[int(k)] = int(pairs[k])\n",
    "\n",
    "        topic_similarity = topic_similarity[new_order]\n",
    "\n",
    "    blue_matrix(topic_similarity, xl=x_label, yl=y_label,\n",
    "                t = t_label,\n",
    "                x_labels=new_order)\n",
    "    return"
   ]
  },
  {
   "cell_type": "markdown",
   "metadata": {},
   "source": [
    "#### See how similar the words in each topic from LDA are to the words in each topic from NMF\n",
    "- The NMF topics are along the X axis and the LDA are along the Y axis."
   ]
  },
  {
   "cell_type": "code",
   "execution_count": 72,
   "metadata": {},
   "outputs": [
    {
     "data": {
      "text/plain": [
       "<Figure size 640x480 with 0 Axes>"
      ]
     },
     "metadata": {},
     "output_type": "display_data"
    },
    {
     "data": {
      "image/png": "[encoded data removed]",
      "text/plain": [
       "<Figure size 800x800 with 2 Axes>"
      ]
     },
     "metadata": {},
     "output_type": "display_data"
    }
   ],
   "source": [
    "x_common = nmf_topics[:, :1000]\n",
    "y_common = lda_topics[:, :1000]\n",
    "\n",
    "plot_confusion(x = x_common, y = y_common, x_label='NMF topic number',\n",
    "               y_label='LDA topic number',\n",
    "               t_label = 'Word Similarity between LDA and NMF Topics',\n",
    "               sort=False)\n"
   ]
  },
  {
   "cell_type": "markdown",
   "metadata": {},
   "source": [
    "#### We can also sort the topics so that the most similar ones are aligned"
   ]
  },
  {
   "cell_type": "code",
   "execution_count": 74,
   "metadata": {},
   "outputs": [
    {
     "data": {
      "text/plain": [
       "<Figure size 640x480 with 0 Axes>"
      ]
     },
     "metadata": {},
     "output_type": "display_data"
    },
    {
     "data": {
      "image/png": "[encoded data removed]",
      "text/plain": [
       "<Figure size 800x800 with 2 Axes>"
      ]
     },
     "metadata": {},
     "output_type": "display_data"
    }
   ],
   "source": [
    "x_common = nmf_topics[:, :1000]\n",
    "y_common = lda_topics[:, :1000]\n",
    "\n",
    "plot_confusion(x = x_common, y = y_common, x_label='NMF topic number',\n",
    "               y_label='LDA topic number',\n",
    "               t_label = 'Word Similarity between LDA and NMF Topics',\n",
    "               sort=True)"
   ]
  },
  {
   "cell_type": "markdown",
   "metadata": {},
   "source": [
    "<div class=\"alert-info\">\n",
    "    \n",
    "#### Short Answer No.11\n",
    "\n",
    "Look at the LDA and NMF topic words and the confusion matrix, and consider the following questions:\n",
    "- Do any of the topics seem to be the same in both models?\n",
    "- Are some topics in one model but not the other?\n",
    "- Do the topics you get from one of the models make more sense than the ones you get from the other?\n",
    "\n",
    "</div>"
   ]
  },
  {
   "cell_type": "markdown",
   "metadata": {},
   "source": [
    "🤔 **Write your response here:**\n",
    "...."
   ]
  },
  {
   "cell_type": "markdown",
   "metadata": {},
   "source": [
    "## Section 8: What We Learned\n",
    "- Two statistical methods for topic modeling\n",
    "    - LDA\n",
    "    - NMF\n",
    "- How to think about and interpret the topics our models find\n",
    "- How to compare and relate different topics\n",
    "- Different ways to see the distribution of topics in profiles\n",
    "- Which topics are most popular with social categories of people\n",
    "- Which social categories of people discuss a topic most"
   ]
  },
  {
   "cell_type": "markdown",
   "metadata": {},
   "source": [
    "<div class=\"alert-warning\">\n",
    "\n",
    "#### Reflection Question 1:\n",
    "- How is what we learned in this lab, using topic modeling, different from what we learned in the last lab, using just word frequencies? How is it similar? Write a paragraph explaining. \n",
    "    \n",
    "</div>"
   ]
  },
  {
   "cell_type": "markdown",
   "metadata": {},
   "source": [
    "🤔 **Write your response here:**\n",
    "...."
   ]
  },
  {
   "cell_type": "markdown",
   "metadata": {},
   "source": [
    "<div class=\"alert-warning\">\n",
    "\n",
    "#### Reflection Question 2:\n",
    "- For both the LDA and NMF models, we specified 15 topics. Now, try running the LDA with other numbers of topics.\n",
    "    - If the topics seemed repetitive, you might want to try looking for fewer topics.\n",
    "    - If the topics seem confusing or vague, you might want to try looking for more topics (so that they can be more specific).\n",
    "- Run the code below and answer the following:\n",
    "    - What different numbers of topics did you try?\n",
    "    - How did your interpretations change in response to the number of topics? Were they it easier or more difficult to interpret?\n",
    "    - How did topic quality change in response to the number of topics? Were topics more similar or less similar?\n",
    "    \n",
    "</div>"
   ]
  },
  {
   "cell_type": "markdown",
   "metadata": {},
   "source": [
    "🤔 **Write your response here:**\n",
    "...."
   ]
  },
  {
   "cell_type": "markdown",
   "metadata": {},
   "source": [
    "#### Step 1: Decide how many topics we want to find\n",
    "- We must tell LDA how many topics we want it to look for (we did this above with the `ntopics` variable).\n",
    "    - We suggest picking a few values between 2-50."
   ]
  },
  {
   "cell_type": "code",
   "execution_count": 85,
   "metadata": {},
   "outputs": [],
   "source": [
    "#how many topics we want our model to find\n",
    "ntopics = 2\n",
    "\n",
    "#how many top words we want to display for each topic\n",
    "nshow = 10\n",
    "\n",
    "id2word = corpora.Dictionary(data_lemmatized)\n",
    "\n",
    "texts = data_lemmatized\n",
    "\n",
    "corpus = [id2word.doc2bow(text) for text in texts]"
   ]
  },
  {
   "cell_type": "markdown",
   "metadata": {},
   "source": [
    "#### Step 2: Run the LDA algorithm"
   ]
  },
  {
   "cell_type": "code",
   "execution_count": 84,
   "metadata": {},
   "outputs": [
    {
     "name": "stdout",
     "output_type": "stream",
     "text": [
      "Performing LDA on vectors. This may take a while...\n",
      "Done!\n"
     ]
    }
   ],
   "source": [
    "# Build LDA model\n",
    "print('Performing LDA on vectors. This may take a while...')\n",
    "lda_model = gensim.models.LdaMulticore(corpus=corpus,\n",
    "                                       id2word=id2word,\n",
    "                                       num_topics=ntopics, \n",
    "                                       random_state=100,\n",
    "                                       chunksize=100,\n",
    "                                       passes=10,\n",
    "                                       per_word_topics=True)\n",
    "\n",
    "lda_topics = lda_model.get_topics()\n",
    "\n",
    "print('Done!')"
   ]
  },
  {
   "cell_type": "markdown",
   "metadata": {},
   "source": [
    "#### Step 3: Show our topics with the top words in each"
   ]
  },
  {
   "cell_type": "code",
   "execution_count": 77,
   "metadata": {},
   "outputs": [
    {
     "name": "stdout",
     "output_type": "stream",
     "text": [
      "Topic 0: love go new enjoy time work live friend year good\n",
      "Topic 1: people life love thing get know make good think want\n"
     ]
    }
   ],
   "source": [
    "display_topics(lda_model, n_words=10)"
   ]
  },
  {
   "cell_type": "markdown",
   "metadata": {},
   "source": [
    "#### Step 4: Examine the words that make two topics similar or different\n",
    "- We can also compare two topics to each other by looking at words that are common in both, or words that are common in one but not the other.\n",
    "- Try changing `topic_a` and `topic_b` to different topic numbers.\n",
    "- Notice the `how` option will let you see either the `overlap` or `difference` between two topics\n",
    "    - Notice also that the difference between topics a and b is not the same as between b and a"
   ]
  },
  {
   "cell_type": "code",
   "execution_count": 78,
   "metadata": {},
   "outputs": [
    {
     "name": "stdout",
     "output_type": "stream",
     "text": [
      "Common words between Topic 0 and Topic 1:\n",
      "{'love', 'good'}\n",
      "Words unique to Topic 0: {'work', 'enjoy', 'time', 'year', 'new', 'go', 'live', 'friend'}\n",
      "Words unique to Topic 1: {'get', 'know', 'thing', 'make', 'think', 'people', 'want', 'life'}\n"
     ]
    }
   ],
   "source": [
    "topic_a = 0\n",
    "topic_b = 1\n",
    "\n",
    "compare_topic_overlap(lda_model, topic_a, topic_b)\n",
    "compare_topic_difference(lda_model, topic_a, topic_b)"
   ]
  },
  {
   "cell_type": "markdown",
   "metadata": {},
   "source": [
    "#### Step 5: Interpret these topics\n",
    "- This part is for you to do: code can't do it for you.\n",
    "- Try to come up with a short, catchy name for each topic (no writing required)."
   ]
  },
  {
   "cell_type": "markdown",
   "metadata": {},
   "source": [
    "#### Step 6: Topic Quality\n",
    "Let's see how good the topics we found are.\n",
    "\n",
    "#### Step 6.1: See if the topics are each about different things.\n",
    "We want each topic to be about something different than the other topics. We can check this by comparing the words in each topic to the words in all the others. How to interpret:\n",
    "- Each square shows how similar two topics are. Darker means more similar, and lighter means more different.\n",
    "    - Notice that some topics may be negatively correlated.\n",
    "- The square in the very top left shows how similar topic 0 is to topic 0 (i.e. how similar it is to itself). \n",
    "- The square next to it in the top row shows how similar topic 0 is to topic 1, and so on. \n",
    "- For any two topics, you can see how similar they are by finding their numbers on the edges and seeing where they intersect."
   ]
  },
  {
   "cell_type": "code",
   "execution_count": 79,
   "metadata": {},
   "outputs": [
    {
     "data": {
      "text/plain": [
       "<Figure size 640x480 with 0 Axes>"
      ]
     },
     "metadata": {},
     "output_type": "display_data"
    },
    {
     "data": {
      "image/png": "[encoded data removed]",
      "text/plain": [
       "<Figure size 800x800 with 2 Axes>"
      ]
     },
     "metadata": {},
     "output_type": "display_data"
    }
   ],
   "source": [
    "def plot_topics(components):\n",
    "    sim = cosine_similarity(components)\n",
    "    blue_matrix(sim, xl='Topic number', yl='Topic number',\n",
    "                t = 'Word Similarity between Topics')\n",
    "    return\n",
    "\n",
    "plot_topics(lda_topics)"
   ]
  },
  {
   "cell_type": "markdown",
   "metadata": {},
   "source": [
    "#### Step 6.2: See if different topics show up in different profiles\n",
    "The point is to tell profiles apart based on what topics they're about, so we need to check whether the topics appear in different profiles.\n",
    "- This shows us something that looks similar to the topic similarity we saw before, but this time:\n",
    "    - We **don't** compare topics based on which words they use\n",
    "    - We **do** compare topics based on how often they appear in the same profile as one another"
   ]
  },
  {
   "cell_type": "code",
   "execution_count": 86,
   "metadata": {},
   "outputs": [],
   "source": [
    "profile_topics = [lda_model.get_document_topics(bow, minimum_probability=0) for bow in corpus]\n",
    "profile_topics_flattened = np.array([np.array([t[1] for t in profile]) for profile in profile_topics])"
   ]
  },
  {
   "cell_type": "code",
   "execution_count": 88,
   "metadata": {},
   "outputs": [
    {
     "data": {
      "text/plain": [
       "<Figure size 640x480 with 0 Axes>"
      ]
     },
     "metadata": {},
     "output_type": "display_data"
    },
    {
     "data": {
      "image/png": "[encoded data removed]",
      "text/plain": [
       "<Figure size 800x800 with 2 Axes>"
      ]
     },
     "metadata": {},
     "output_type": "display_data"
    }
   ],
   "source": [
    "def topic_cooccurance(topics):\n",
    "    co = pd.DataFrame(topics).corr()\n",
    "    blue_matrix(co, xl='Topic number', yl='Topic number',\n",
    "               t = 'Topic Co-occurance in Profiles')\n",
    "\n",
    "topic_cooccurance(profile_topics_flattened)"
   ]
  }
 ],
 "metadata": {
  "kernelspec": {
   "display_name": "Python 3 (ipykernel)",
   "language": "python",
   "name": "python3"
  },
  "language_info": {
   "codemirror_mode": {
    "name": "ipython",
    "version": 3
   },
   "file_extension": ".py",
   "mimetype": "text/x-python",
   "name": "python",
   "nbconvert_exporter": "python",
   "pygments_lexer": "ipython3",
   "version": "3.11.7"
  }
 },
 "nbformat": 4,
 "nbformat_minor": 4
}
