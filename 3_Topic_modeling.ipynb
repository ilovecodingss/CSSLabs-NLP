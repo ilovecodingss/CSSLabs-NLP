{
 "cells": [
  {
   "cell_type": "markdown",
   "metadata": {},
   "source": [
    "# Topic Modeling Lab\n",
    "## Contents\n",
    "1. [Setup](#Section-1%3A-Setup)\n",
    "    1. [Import](#1.1-Import-Packages)\n",
    "    1. [Download](#1.2-Download-and-Prepare-Data)\n",
    "    1. [Read](#1.3-Read-Data)\n",
    "    1. [Pick Your Data](#1.4-Pick-Your-Data)\n",
    "    1. [Clean Text](#1.5-Clean-Text)\n",
    "1. [Converting Text to Numbers](#Section-2%3A-Converting-Text-to-Numbers)\n",
    "1. [LDA Topic Model](#Section-3%3A-LDA-Topic-Model)\n",
    "1. [Interpret Topics](#Section-4%3A-Interpret-Topics)\n",
    "1. [Topic Quality](#Section-5%3A-Topic-Quality)\n",
    "1. [Topic Popularity](#Section-6%3A-Topic-Popularity)\n",
    "1. [NMF Topic Model](#Section-7%3A-NMF-Topic-Model)\n",
    "1. [What We Learned](#Section-7%3A-What-We-Learned)\n",
    "\n",
    "## Section 0: Background\n",
    "- In this lab, we'll learn about topic modeling. Topic modeling uses statistics to understand what text is about, that is, to find the topics in text.\n",
    "- We'll use the online dating profile text that OKCupid made public as our example, but of course topic modeling can be used on any text.\n",
    "\n",
    "@Author: [Jeff Lockhart](http://www-personal.umich.edu/~jwlock/) & [Ed Platt](https://elplatt.com/), with some code adapted from [Aneesha Bakharia](https://medium.com/@aneesha/topic-modeling-with-scikit-learn-e80d33668730)'s example."
   ]
  },
  {
   "cell_type": "markdown",
   "metadata": {},
   "source": [
    "## Section 1: Setup\n",
    "### 1.1 Import Packages\n",
    "- Packages contain code others have written to make our work easier."
   ]
  },
  {
   "cell_type": "code",
   "execution_count": 1,
   "metadata": {},
   "outputs": [
    {
     "name": "stdout",
     "output_type": "stream",
     "text": [
      "Collecting lxml\n",
      "  Downloading lxml-5.3.0-cp311-cp311-manylinux_2_28_aarch64.whl.metadata (3.8 kB)\n",
      "Downloading lxml-5.3.0-cp311-cp311-manylinux_2_28_aarch64.whl (4.8 MB)\n",
      "\u001b[2K   \u001b[90m━━━━━━━━━━━━━━━━━━━━━━━━━━━━━━━━━━━━━━━━\u001b[0m \u001b[32m4.8/4.8 MB\u001b[0m \u001b[31m10.3 MB/s\u001b[0m eta \u001b[36m0:00:00\u001b[0ma \u001b[36m0:00:01\u001b[0m\n",
      "\u001b[?25hInstalling collected packages: lxml\n",
      "Successfully installed lxml-5.3.0\n",
      "Collecting spacy\n",
      "  Downloading spacy-3.7.6.tar.gz (1.3 MB)\n",
      "\u001b[2K     \u001b[90m━━━━━━━━━━━━━━━━━━━━━━━━━━━━━━━━━━━━━━━━\u001b[0m \u001b[32m1.3/1.3 MB\u001b[0m \u001b[31m9.0 MB/s\u001b[0m eta \u001b[36m0:00:00\u001b[0ma \u001b[36m0:00:01\u001b[0m\n",
      "\u001b[?25h  Installing build dependencies ... \u001b[?25ldone\n",
      "\u001b[?25h  Getting requirements to build wheel ... \u001b[?25ldone\n",
      "\u001b[?25h  Preparing metadata (pyproject.toml) ... \u001b[?25ldone\n",
      "\u001b[?25hCollecting spacy-legacy<3.1.0,>=3.0.11 (from spacy)\n",
      "  Downloading spacy_legacy-3.0.12-py2.py3-none-any.whl.metadata (2.8 kB)\n",
      "Collecting spacy-loggers<2.0.0,>=1.0.0 (from spacy)\n",
      "  Downloading spacy_loggers-1.0.5-py3-none-any.whl.metadata (23 kB)\n",
      "Collecting murmurhash<1.1.0,>=0.28.0 (from spacy)\n",
      "  Using cached murmurhash-1.0.10-cp311-cp311-manylinux_2_17_aarch64.manylinux2014_aarch64.whl.metadata (2.0 kB)\n",
      "Collecting cymem<2.1.0,>=2.0.2 (from spacy)\n",
      "  Using cached cymem-2.0.8-cp311-cp311-manylinux_2_17_aarch64.manylinux2014_aarch64.whl.metadata (8.4 kB)\n",
      "Collecting preshed<3.1.0,>=3.0.2 (from spacy)\n",
      "  Using cached preshed-3.0.9-cp311-cp311-manylinux_2_17_aarch64.manylinux2014_aarch64.whl.metadata (2.2 kB)\n",
      "Collecting thinc<8.3.0,>=8.2.2 (from spacy)\n",
      "  Using cached thinc-8.2.5-cp311-cp311-manylinux_2_17_aarch64.manylinux2014_aarch64.whl.metadata (15 kB)\n",
      "Collecting wasabi<1.2.0,>=0.9.1 (from spacy)\n",
      "  Using cached wasabi-1.1.3-py3-none-any.whl.metadata (28 kB)\n",
      "Collecting srsly<3.0.0,>=2.4.3 (from spacy)\n",
      "  Using cached srsly-2.4.8-cp311-cp311-manylinux_2_17_aarch64.manylinux2014_aarch64.whl.metadata (20 kB)\n",
      "Collecting catalogue<2.1.0,>=2.0.6 (from spacy)\n",
      "  Using cached catalogue-2.0.10-py3-none-any.whl.metadata (14 kB)\n",
      "Collecting weasel<0.5.0,>=0.1.0 (from spacy)\n",
      "  Downloading weasel-0.4.1-py3-none-any.whl.metadata (4.6 kB)\n",
      "Collecting typer<1.0.0,>=0.3.0 (from spacy)\n",
      "  Downloading typer-0.12.5-py3-none-any.whl.metadata (15 kB)\n",
      "Requirement already satisfied: tqdm<5.0.0,>=4.38.0 in /opt/conda/lib/python3.11/site-packages (from spacy) (4.66.1)\n",
      "Requirement already satisfied: requests<3.0.0,>=2.13.0 in /opt/conda/lib/python3.11/site-packages (from spacy) (2.31.0)\n",
      "Collecting pydantic!=1.8,!=1.8.1,<3.0.0,>=1.7.4 (from spacy)\n",
      "  Using cached pydantic-2.9.1-py3-none-any.whl.metadata (146 kB)\n",
      "Requirement already satisfied: jinja2 in /opt/conda/lib/python3.11/site-packages (from spacy) (3.1.2)\n",
      "Requirement already satisfied: setuptools in /opt/conda/lib/python3.11/site-packages (from spacy) (69.0.3)\n",
      "Requirement already satisfied: packaging>=20.0 in /opt/conda/lib/python3.11/site-packages (from spacy) (23.2)\n",
      "Collecting langcodes<4.0.0,>=3.2.0 (from spacy)\n",
      "  Downloading langcodes-3.4.0-py3-none-any.whl.metadata (29 kB)\n",
      "Requirement already satisfied: numpy>=1.19.0 in /opt/conda/lib/python3.11/site-packages (from spacy) (1.26.3)\n",
      "Collecting language-data>=1.2 (from langcodes<4.0.0,>=3.2.0->spacy)\n",
      "  Downloading language_data-1.2.0-py3-none-any.whl.metadata (4.3 kB)\n",
      "Collecting annotated-types>=0.6.0 (from pydantic!=1.8,!=1.8.1,<3.0.0,>=1.7.4->spacy)\n",
      "  Using cached annotated_types-0.7.0-py3-none-any.whl.metadata (15 kB)\n",
      "Collecting pydantic-core==2.23.3 (from pydantic!=1.8,!=1.8.1,<3.0.0,>=1.7.4->spacy)\n",
      "  Using cached pydantic_core-2.23.3-cp311-cp311-manylinux_2_17_aarch64.manylinux2014_aarch64.whl.metadata (6.6 kB)\n",
      "Requirement already satisfied: typing-extensions>=4.6.1 in /opt/conda/lib/python3.11/site-packages (from pydantic!=1.8,!=1.8.1,<3.0.0,>=1.7.4->spacy) (4.9.0)\n",
      "Requirement already satisfied: charset-normalizer<4,>=2 in /opt/conda/lib/python3.11/site-packages (from requests<3.0.0,>=2.13.0->spacy) (3.3.2)\n",
      "Requirement already satisfied: idna<4,>=2.5 in /opt/conda/lib/python3.11/site-packages (from requests<3.0.0,>=2.13.0->spacy) (3.6)\n",
      "Requirement already satisfied: urllib3<3,>=1.21.1 in /opt/conda/lib/python3.11/site-packages (from requests<3.0.0,>=2.13.0->spacy) (2.1.0)\n",
      "Requirement already satisfied: certifi>=2017.4.17 in /opt/conda/lib/python3.11/site-packages (from requests<3.0.0,>=2.13.0->spacy) (2023.11.17)\n",
      "Collecting blis<0.8.0,>=0.7.8 (from thinc<8.3.0,>=8.2.2->spacy)\n",
      "  Using cached blis-0.7.11-cp311-cp311-manylinux_2_17_aarch64.manylinux2014_aarch64.whl.metadata (7.4 kB)\n",
      "Collecting confection<1.0.0,>=0.0.1 (from thinc<8.3.0,>=8.2.2->spacy)\n",
      "  Using cached confection-0.1.5-py3-none-any.whl.metadata (19 kB)\n",
      "Requirement already satisfied: click>=8.0.0 in /opt/conda/lib/python3.11/site-packages (from typer<1.0.0,>=0.3.0->spacy) (8.1.7)\n",
      "Collecting shellingham>=1.3.0 (from typer<1.0.0,>=0.3.0->spacy)\n",
      "  Downloading shellingham-1.5.4-py2.py3-none-any.whl.metadata (3.5 kB)\n",
      "Collecting rich>=10.11.0 (from typer<1.0.0,>=0.3.0->spacy)\n",
      "  Downloading rich-13.8.1-py3-none-any.whl.metadata (18 kB)\n",
      "Collecting cloudpathlib<1.0.0,>=0.7.0 (from weasel<0.5.0,>=0.1.0->spacy)\n",
      "  Downloading cloudpathlib-0.19.0-py3-none-any.whl.metadata (14 kB)\n",
      "Collecting smart-open<8.0.0,>=5.2.1 (from weasel<0.5.0,>=0.1.0->spacy)\n",
      "  Downloading smart_open-7.0.4-py3-none-any.whl.metadata (23 kB)\n",
      "Requirement already satisfied: MarkupSafe>=2.0 in /opt/conda/lib/python3.11/site-packages (from jinja2->spacy) (2.1.3)\n",
      "Collecting marisa-trie>=0.7.7 (from language-data>=1.2->langcodes<4.0.0,>=3.2.0->spacy)\n",
      "  Downloading marisa_trie-1.2.0-cp311-cp311-manylinux_2_17_aarch64.manylinux2014_aarch64.whl.metadata (8.7 kB)\n",
      "Collecting markdown-it-py>=2.2.0 (from rich>=10.11.0->typer<1.0.0,>=0.3.0->spacy)\n",
      "  Downloading markdown_it_py-3.0.0-py3-none-any.whl.metadata (6.9 kB)\n",
      "Requirement already satisfied: pygments<3.0.0,>=2.13.0 in /opt/conda/lib/python3.11/site-packages (from rich>=10.11.0->typer<1.0.0,>=0.3.0->spacy) (2.17.2)\n",
      "Collecting wrapt (from smart-open<8.0.0,>=5.2.1->weasel<0.5.0,>=0.1.0->spacy)\n",
      "  Downloading wrapt-1.16.0-cp311-cp311-manylinux_2_17_aarch64.manylinux2014_aarch64.whl.metadata (6.6 kB)\n",
      "Collecting mdurl~=0.1 (from markdown-it-py>=2.2.0->rich>=10.11.0->typer<1.0.0,>=0.3.0->spacy)\n",
      "  Downloading mdurl-0.1.2-py3-none-any.whl.metadata (1.6 kB)\n",
      "Using cached catalogue-2.0.10-py3-none-any.whl (17 kB)\n",
      "Using cached cymem-2.0.8-cp311-cp311-manylinux_2_17_aarch64.manylinux2014_aarch64.whl (44 kB)\n",
      "Downloading langcodes-3.4.0-py3-none-any.whl (182 kB)\n",
      "\u001b[2K   \u001b[90m━━━━━━━━━━━━━━━━━━━━━━━━━━━━━━━━━━━━━━━━\u001b[0m \u001b[32m182.0/182.0 kB\u001b[0m \u001b[31m53.1 MB/s\u001b[0m eta \u001b[36m0:00:00\u001b[0m\n",
      "\u001b[?25hUsing cached murmurhash-1.0.10-cp311-cp311-manylinux_2_17_aarch64.manylinux2014_aarch64.whl (29 kB)\n",
      "Using cached preshed-3.0.9-cp311-cp311-manylinux_2_17_aarch64.manylinux2014_aarch64.whl (150 kB)\n",
      "Using cached pydantic-2.9.1-py3-none-any.whl (434 kB)\n",
      "Using cached pydantic_core-2.23.3-cp311-cp311-manylinux_2_17_aarch64.manylinux2014_aarch64.whl (1.8 MB)\n",
      "Downloading spacy_legacy-3.0.12-py2.py3-none-any.whl (29 kB)\n",
      "Downloading spacy_loggers-1.0.5-py3-none-any.whl (22 kB)\n",
      "Using cached srsly-2.4.8-cp311-cp311-manylinux_2_17_aarch64.manylinux2014_aarch64.whl (487 kB)\n",
      "Using cached thinc-8.2.5-cp311-cp311-manylinux_2_17_aarch64.manylinux2014_aarch64.whl (868 kB)\n",
      "Downloading typer-0.12.5-py3-none-any.whl (47 kB)\n",
      "\u001b[2K   \u001b[90m━━━━━━━━━━━━━━━━━━━━━━━━━━━━━━━━━━━━━━━━\u001b[0m \u001b[32m47.3/47.3 kB\u001b[0m \u001b[31m9.0 MB/s\u001b[0m eta \u001b[36m0:00:00\u001b[0m\n",
      "\u001b[?25hUsing cached wasabi-1.1.3-py3-none-any.whl (27 kB)\n",
      "Downloading weasel-0.4.1-py3-none-any.whl (50 kB)\n",
      "\u001b[2K   \u001b[90m━━━━━━━━━━━━━━━━━━━━━━━━━━━━━━━━━━━━━━━━\u001b[0m \u001b[32m50.3/50.3 kB\u001b[0m \u001b[31m8.6 MB/s\u001b[0m eta \u001b[36m0:00:00\u001b[0m\n",
      "\u001b[?25hUsing cached annotated_types-0.7.0-py3-none-any.whl (13 kB)\n",
      "Using cached blis-0.7.11-cp311-cp311-manylinux_2_17_aarch64.manylinux2014_aarch64.whl (1.7 MB)\n",
      "Downloading cloudpathlib-0.19.0-py3-none-any.whl (49 kB)\n",
      "\u001b[2K   \u001b[90m━━━━━━━━━━━━━━━━━━━━━━━━━━━━━━━━━━━━━━━━\u001b[0m \u001b[32m49.4/49.4 kB\u001b[0m \u001b[31m7.7 MB/s\u001b[0m eta \u001b[36m0:00:00\u001b[0m\n",
      "\u001b[?25hUsing cached confection-0.1.5-py3-none-any.whl (35 kB)\n",
      "Downloading language_data-1.2.0-py3-none-any.whl (5.4 MB)\n",
      "\u001b[2K   \u001b[90m━━━━━━━━━━━━━━━━━━━━━━━━━━━━━━━━━━━━━━━━\u001b[0m \u001b[32m5.4/5.4 MB\u001b[0m \u001b[31m10.8 MB/s\u001b[0m eta \u001b[36m0:00:00\u001b[0m00:01\u001b[0m00:01\u001b[0m\n",
      "\u001b[?25hDownloading rich-13.8.1-py3-none-any.whl (241 kB)\n",
      "\u001b[2K   \u001b[90m━━━━━━━━━━━━━━━━━━━━━━━━━━━━━━━━━━━━━━━━\u001b[0m \u001b[32m241.6/241.6 kB\u001b[0m \u001b[31m7.3 MB/s\u001b[0m eta \u001b[36m0:00:00\u001b[0m\n",
      "\u001b[?25hDownloading shellingham-1.5.4-py2.py3-none-any.whl (9.8 kB)\n",
      "Downloading smart_open-7.0.4-py3-none-any.whl (61 kB)\n",
      "\u001b[2K   \u001b[90m━━━━━━━━━━━━━━━━━━━━━━━━━━━━━━━━━━━━━━━━\u001b[0m \u001b[32m61.2/61.2 kB\u001b[0m \u001b[31m7.5 MB/s\u001b[0m eta \u001b[36m0:00:00\u001b[0m\n",
      "\u001b[?25hDownloading marisa_trie-1.2.0-cp311-cp311-manylinux_2_17_aarch64.manylinux2014_aarch64.whl (1.4 MB)\n",
      "\u001b[2K   \u001b[90m━━━━━━━━━━━━━━━━━━━━━━━━━━━━━━━━━━━━━━━━\u001b[0m \u001b[32m1.4/1.4 MB\u001b[0m \u001b[31m10.1 MB/s\u001b[0m eta \u001b[36m0:00:00\u001b[0ma \u001b[36m0:00:01\u001b[0m\n",
      "\u001b[?25hDownloading markdown_it_py-3.0.0-py3-none-any.whl (87 kB)\n",
      "\u001b[2K   \u001b[90m━━━━━━━━━━━━━━━━━━━━━━━━━━━━━━━━━━━━━━━━\u001b[0m \u001b[32m87.5/87.5 kB\u001b[0m \u001b[31m8.3 MB/s\u001b[0m eta \u001b[36m0:00:00\u001b[0m\n",
      "\u001b[?25hDownloading wrapt-1.16.0-cp311-cp311-manylinux_2_17_aarch64.manylinux2014_aarch64.whl (80 kB)\n",
      "\u001b[2K   \u001b[90m━━━━━━━━━━━━━━━━━━━━━━━━━━━━━━━━━━━━━━━━\u001b[0m \u001b[32m80.9/80.9 kB\u001b[0m \u001b[31m7.4 MB/s\u001b[0m eta \u001b[36m0:00:00\u001b[0m\n",
      "\u001b[?25hDownloading mdurl-0.1.2-py3-none-any.whl (10.0 kB)\n",
      "Building wheels for collected packages: spacy\n",
      "  Building wheel for spacy (pyproject.toml) ... \u001b[?25ldone\n",
      "\u001b[?25h  Created wheel for spacy: filename=spacy-3.7.6-cp311-cp311-linux_aarch64.whl size=6767154 sha256=129c1426814676a08070edd060faf35c193bb54b90948f041c2c38cb947def2b\n",
      "  Stored in directory: /home/jovyan/.cache/pip/wheels/d4/20/60/0719a53a3a30f17c67a2beb43d9b4a4cc30751716d1f4a2416\n",
      "Successfully built spacy\n",
      "Installing collected packages: cymem, wrapt, wasabi, spacy-loggers, spacy-legacy, shellingham, pydantic-core, murmurhash, mdurl, marisa-trie, cloudpathlib, catalogue, blis, annotated-types, srsly, smart-open, pydantic, preshed, markdown-it-py, language-data, rich, langcodes, confection, typer, thinc, weasel, spacy\n",
      "Successfully installed annotated-types-0.7.0 blis-0.7.11 catalogue-2.0.10 cloudpathlib-0.19.0 confection-0.1.5 cymem-2.0.8 langcodes-3.4.0 language-data-1.2.0 marisa-trie-1.2.0 markdown-it-py-3.0.0 mdurl-0.1.2 murmurhash-1.0.10 preshed-3.0.9 pydantic-2.9.1 pydantic-core-2.23.3 rich-13.8.1 shellingham-1.5.4 smart-open-7.0.4 spacy-3.7.6 spacy-legacy-3.0.12 spacy-loggers-1.0.5 srsly-2.4.8 thinc-8.2.5 typer-0.12.5 wasabi-1.1.3 weasel-0.4.1 wrapt-1.16.0\n",
      "Collecting gensim\n",
      "  Downloading gensim-4.3.3-cp311-cp311-manylinux_2_17_aarch64.manylinux2014_aarch64.whl.metadata (8.1 kB)\n",
      "Requirement already satisfied: numpy<2.0,>=1.18.5 in /opt/conda/lib/python3.11/site-packages (from gensim) (1.26.3)\n",
      "Requirement already satisfied: scipy<1.14.0,>=1.7.0 in /opt/conda/lib/python3.11/site-packages (from gensim) (1.11.3)\n",
      "Requirement already satisfied: smart-open>=1.8.1 in /opt/conda/lib/python3.11/site-packages (from gensim) (7.0.4)\n",
      "Requirement already satisfied: wrapt in /opt/conda/lib/python3.11/site-packages (from smart-open>=1.8.1->gensim) (1.16.0)\n",
      "Downloading gensim-4.3.3-cp311-cp311-manylinux_2_17_aarch64.manylinux2014_aarch64.whl (26.6 MB)\n",
      "\u001b[2K   \u001b[90m━━━━━━━━━━━━━━━━━━━━━━━━━━━━━━━━━━━━━━━━\u001b[0m \u001b[32m26.6/26.6 MB\u001b[0m \u001b[31m10.1 MB/s\u001b[0m eta \u001b[36m0:00:00\u001b[0m00:01\u001b[0m00:01\u001b[0m\n",
      "\u001b[?25hInstalling collected packages: gensim\n",
      "Successfully installed gensim-4.3.3\n",
      "Collecting nltk\n",
      "  Downloading nltk-3.9.1-py3-none-any.whl.metadata (2.9 kB)\n",
      "Requirement already satisfied: click in /opt/conda/lib/python3.11/site-packages (from nltk) (8.1.7)\n",
      "Requirement already satisfied: joblib in /opt/conda/lib/python3.11/site-packages (from nltk) (1.3.2)\n",
      "Collecting regex>=2021.8.3 (from nltk)\n",
      "  Downloading regex-2024.7.24-cp311-cp311-manylinux_2_17_aarch64.manylinux2014_aarch64.whl.metadata (40 kB)\n",
      "\u001b[2K     \u001b[90m━━━━━━━━━━━━━━━━━━━━━━━━━━━━━━━━━━━━━━━━\u001b[0m \u001b[32m40.5/40.5 kB\u001b[0m \u001b[31m5.3 MB/s\u001b[0m eta \u001b[36m0:00:00\u001b[0m\n",
      "\u001b[?25hRequirement already satisfied: tqdm in /opt/conda/lib/python3.11/site-packages (from nltk) (4.66.1)\n",
      "Downloading nltk-3.9.1-py3-none-any.whl (1.5 MB)\n",
      "\u001b[2K   \u001b[90m━━━━━━━━━━━━━━━━━━━━━━━━━━━━━━━━━━━━━━━━\u001b[0m \u001b[32m1.5/1.5 MB\u001b[0m \u001b[31m9.2 MB/s\u001b[0m eta \u001b[36m0:00:00\u001b[0ma \u001b[36m0:00:01\u001b[0mm\n",
      "\u001b[?25hDownloading regex-2024.7.24-cp311-cp311-manylinux_2_17_aarch64.manylinux2014_aarch64.whl (785 kB)\n",
      "\u001b[2K   \u001b[90m━━━━━━━━━━━━━━━━━━━━━━━━━━━━━━━━━━━━━━━━\u001b[0m \u001b[32m785.4/785.4 kB\u001b[0m \u001b[31m6.3 MB/s\u001b[0m eta \u001b[36m0:00:00\u001b[0m00:01\u001b[0m00:01\u001b[0mm\n",
      "\u001b[?25hInstalling collected packages: regex, nltk\n",
      "Successfully installed nltk-3.9.1 regex-2024.7.24\n",
      "Requirement already satisfied: tqdm in /opt/conda/lib/python3.11/site-packages (4.66.1)\n",
      "Collecting pyLDAvis\n",
      "  Downloading pyLDAvis-3.4.1-py3-none-any.whl.metadata (4.2 kB)\n",
      "Requirement already satisfied: numpy>=1.24.2 in /opt/conda/lib/python3.11/site-packages (from pyLDAvis) (1.26.3)\n",
      "Requirement already satisfied: scipy in /opt/conda/lib/python3.11/site-packages (from pyLDAvis) (1.11.3)\n",
      "Requirement already satisfied: pandas>=2.0.0 in /opt/conda/lib/python3.11/site-packages (from pyLDAvis) (2.1.4)\n",
      "Requirement already satisfied: joblib>=1.2.0 in /opt/conda/lib/python3.11/site-packages (from pyLDAvis) (1.3.2)\n",
      "Requirement already satisfied: jinja2 in /opt/conda/lib/python3.11/site-packages (from pyLDAvis) (3.1.2)\n",
      "Requirement already satisfied: numexpr in /opt/conda/lib/python3.11/site-packages (from pyLDAvis) (2.8.8)\n",
      "Collecting funcy (from pyLDAvis)\n",
      "  Downloading funcy-2.0-py2.py3-none-any.whl.metadata (5.9 kB)\n",
      "Requirement already satisfied: scikit-learn>=1.0.0 in /opt/conda/lib/python3.11/site-packages (from pyLDAvis) (1.3.2)\n",
      "Requirement already satisfied: gensim in /opt/conda/lib/python3.11/site-packages (from pyLDAvis) (4.3.3)\n",
      "Requirement already satisfied: setuptools in /opt/conda/lib/python3.11/site-packages (from pyLDAvis) (69.0.3)\n",
      "Requirement already satisfied: python-dateutil>=2.8.2 in /opt/conda/lib/python3.11/site-packages (from pandas>=2.0.0->pyLDAvis) (2.8.2)\n",
      "Requirement already satisfied: pytz>=2020.1 in /opt/conda/lib/python3.11/site-packages (from pandas>=2.0.0->pyLDAvis) (2023.3.post1)\n",
      "Requirement already satisfied: tzdata>=2022.1 in /opt/conda/lib/python3.11/site-packages (from pandas>=2.0.0->pyLDAvis) (2023.4)\n",
      "Requirement already satisfied: threadpoolctl>=2.0.0 in /opt/conda/lib/python3.11/site-packages (from scikit-learn>=1.0.0->pyLDAvis) (3.2.0)\n",
      "Requirement already satisfied: smart-open>=1.8.1 in /opt/conda/lib/python3.11/site-packages (from gensim->pyLDAvis) (7.0.4)\n",
      "Requirement already satisfied: MarkupSafe>=2.0 in /opt/conda/lib/python3.11/site-packages (from jinja2->pyLDAvis) (2.1.3)\n",
      "Requirement already satisfied: six>=1.5 in /opt/conda/lib/python3.11/site-packages (from python-dateutil>=2.8.2->pandas>=2.0.0->pyLDAvis) (1.16.0)\n",
      "Requirement already satisfied: wrapt in /opt/conda/lib/python3.11/site-packages (from smart-open>=1.8.1->gensim->pyLDAvis) (1.16.0)\n",
      "Downloading pyLDAvis-3.4.1-py3-none-any.whl (2.6 MB)\n",
      "\u001b[2K   \u001b[90m━━━━━━━━━━━━━━━━━━━━━━━━━━━━━━━━━━━━━━━━\u001b[0m \u001b[32m2.6/2.6 MB\u001b[0m \u001b[31m8.9 MB/s\u001b[0m eta \u001b[36m0:00:00\u001b[0ma \u001b[36m0:00:01\u001b[0m\n",
      "\u001b[?25hDownloading funcy-2.0-py2.py3-none-any.whl (30 kB)\n",
      "Installing collected packages: funcy, pyLDAvis\n",
      "Successfully installed funcy-2.0 pyLDAvis-3.4.1\n",
      "Collecting en-core-web-sm==3.7.1\n",
      "  Downloading https://github.com/explosion/spacy-models/releases/download/en_core_web_sm-3.7.1/en_core_web_sm-3.7.1-py3-none-any.whl (12.8 MB)\n",
      "\u001b[2K     \u001b[90m━━━━━━━━━━━━━━━━━━━━━━━━━━━━━━━━━━━━━━━━\u001b[0m \u001b[32m12.8/12.8 MB\u001b[0m \u001b[31m9.9 MB/s\u001b[0m eta \u001b[36m0:00:00\u001b[0m:00:01\u001b[0m00:01\u001b[0m\n",
      "\u001b[?25hRequirement already satisfied: spacy<3.8.0,>=3.7.2 in /opt/conda/lib/python3.11/site-packages (from en-core-web-sm==3.7.1) (3.7.6)\n",
      "Requirement already satisfied: spacy-legacy<3.1.0,>=3.0.11 in /opt/conda/lib/python3.11/site-packages (from spacy<3.8.0,>=3.7.2->en-core-web-sm==3.7.1) (3.0.12)\n",
      "Requirement already satisfied: spacy-loggers<2.0.0,>=1.0.0 in /opt/conda/lib/python3.11/site-packages (from spacy<3.8.0,>=3.7.2->en-core-web-sm==3.7.1) (1.0.5)\n",
      "Requirement already satisfied: murmurhash<1.1.0,>=0.28.0 in /opt/conda/lib/python3.11/site-packages (from spacy<3.8.0,>=3.7.2->en-core-web-sm==3.7.1) (1.0.10)\n",
      "Requirement already satisfied: cymem<2.1.0,>=2.0.2 in /opt/conda/lib/python3.11/site-packages (from spacy<3.8.0,>=3.7.2->en-core-web-sm==3.7.1) (2.0.8)\n",
      "Requirement already satisfied: preshed<3.1.0,>=3.0.2 in /opt/conda/lib/python3.11/site-packages (from spacy<3.8.0,>=3.7.2->en-core-web-sm==3.7.1) (3.0.9)\n",
      "Requirement already satisfied: thinc<8.3.0,>=8.2.2 in /opt/conda/lib/python3.11/site-packages (from spacy<3.8.0,>=3.7.2->en-core-web-sm==3.7.1) (8.2.5)\n",
      "Requirement already satisfied: wasabi<1.2.0,>=0.9.1 in /opt/conda/lib/python3.11/site-packages (from spacy<3.8.0,>=3.7.2->en-core-web-sm==3.7.1) (1.1.3)\n",
      "Requirement already satisfied: srsly<3.0.0,>=2.4.3 in /opt/conda/lib/python3.11/site-packages (from spacy<3.8.0,>=3.7.2->en-core-web-sm==3.7.1) (2.4.8)\n",
      "Requirement already satisfied: catalogue<2.1.0,>=2.0.6 in /opt/conda/lib/python3.11/site-packages (from spacy<3.8.0,>=3.7.2->en-core-web-sm==3.7.1) (2.0.10)\n",
      "Requirement already satisfied: weasel<0.5.0,>=0.1.0 in /opt/conda/lib/python3.11/site-packages (from spacy<3.8.0,>=3.7.2->en-core-web-sm==3.7.1) (0.4.1)\n",
      "Requirement already satisfied: typer<1.0.0,>=0.3.0 in /opt/conda/lib/python3.11/site-packages (from spacy<3.8.0,>=3.7.2->en-core-web-sm==3.7.1) (0.12.5)\n",
      "Requirement already satisfied: tqdm<5.0.0,>=4.38.0 in /opt/conda/lib/python3.11/site-packages (from spacy<3.8.0,>=3.7.2->en-core-web-sm==3.7.1) (4.66.1)\n",
      "Requirement already satisfied: requests<3.0.0,>=2.13.0 in /opt/conda/lib/python3.11/site-packages (from spacy<3.8.0,>=3.7.2->en-core-web-sm==3.7.1) (2.31.0)\n",
      "Requirement already satisfied: pydantic!=1.8,!=1.8.1,<3.0.0,>=1.7.4 in /opt/conda/lib/python3.11/site-packages (from spacy<3.8.0,>=3.7.2->en-core-web-sm==3.7.1) (2.9.1)\n",
      "Requirement already satisfied: jinja2 in /opt/conda/lib/python3.11/site-packages (from spacy<3.8.0,>=3.7.2->en-core-web-sm==3.7.1) (3.1.2)\n",
      "Requirement already satisfied: setuptools in /opt/conda/lib/python3.11/site-packages (from spacy<3.8.0,>=3.7.2->en-core-web-sm==3.7.1) (69.0.3)\n",
      "Requirement already satisfied: packaging>=20.0 in /opt/conda/lib/python3.11/site-packages (from spacy<3.8.0,>=3.7.2->en-core-web-sm==3.7.1) (23.2)\n",
      "Requirement already satisfied: langcodes<4.0.0,>=3.2.0 in /opt/conda/lib/python3.11/site-packages (from spacy<3.8.0,>=3.7.2->en-core-web-sm==3.7.1) (3.4.0)\n",
      "Requirement already satisfied: numpy>=1.19.0 in /opt/conda/lib/python3.11/site-packages (from spacy<3.8.0,>=3.7.2->en-core-web-sm==3.7.1) (1.26.3)\n",
      "Requirement already satisfied: language-data>=1.2 in /opt/conda/lib/python3.11/site-packages (from langcodes<4.0.0,>=3.2.0->spacy<3.8.0,>=3.7.2->en-core-web-sm==3.7.1) (1.2.0)\n",
      "Requirement already satisfied: annotated-types>=0.6.0 in /opt/conda/lib/python3.11/site-packages (from pydantic!=1.8,!=1.8.1,<3.0.0,>=1.7.4->spacy<3.8.0,>=3.7.2->en-core-web-sm==3.7.1) (0.7.0)\n",
      "Requirement already satisfied: pydantic-core==2.23.3 in /opt/conda/lib/python3.11/site-packages (from pydantic!=1.8,!=1.8.1,<3.0.0,>=1.7.4->spacy<3.8.0,>=3.7.2->en-core-web-sm==3.7.1) (2.23.3)\n",
      "Requirement already satisfied: typing-extensions>=4.6.1 in /opt/conda/lib/python3.11/site-packages (from pydantic!=1.8,!=1.8.1,<3.0.0,>=1.7.4->spacy<3.8.0,>=3.7.2->en-core-web-sm==3.7.1) (4.9.0)\n",
      "Requirement already satisfied: charset-normalizer<4,>=2 in /opt/conda/lib/python3.11/site-packages (from requests<3.0.0,>=2.13.0->spacy<3.8.0,>=3.7.2->en-core-web-sm==3.7.1) (3.3.2)\n",
      "Requirement already satisfied: idna<4,>=2.5 in /opt/conda/lib/python3.11/site-packages (from requests<3.0.0,>=2.13.0->spacy<3.8.0,>=3.7.2->en-core-web-sm==3.7.1) (3.6)\n",
      "Requirement already satisfied: urllib3<3,>=1.21.1 in /opt/conda/lib/python3.11/site-packages (from requests<3.0.0,>=2.13.0->spacy<3.8.0,>=3.7.2->en-core-web-sm==3.7.1) (2.1.0)\n",
      "Requirement already satisfied: certifi>=2017.4.17 in /opt/conda/lib/python3.11/site-packages (from requests<3.0.0,>=2.13.0->spacy<3.8.0,>=3.7.2->en-core-web-sm==3.7.1) (2023.11.17)\n",
      "Requirement already satisfied: blis<0.8.0,>=0.7.8 in /opt/conda/lib/python3.11/site-packages (from thinc<8.3.0,>=8.2.2->spacy<3.8.0,>=3.7.2->en-core-web-sm==3.7.1) (0.7.11)\n",
      "Requirement already satisfied: confection<1.0.0,>=0.0.1 in /opt/conda/lib/python3.11/site-packages (from thinc<8.3.0,>=8.2.2->spacy<3.8.0,>=3.7.2->en-core-web-sm==3.7.1) (0.1.5)\n",
      "Requirement already satisfied: click>=8.0.0 in /opt/conda/lib/python3.11/site-packages (from typer<1.0.0,>=0.3.0->spacy<3.8.0,>=3.7.2->en-core-web-sm==3.7.1) (8.1.7)\n",
      "Requirement already satisfied: shellingham>=1.3.0 in /opt/conda/lib/python3.11/site-packages (from typer<1.0.0,>=0.3.0->spacy<3.8.0,>=3.7.2->en-core-web-sm==3.7.1) (1.5.4)\n",
      "Requirement already satisfied: rich>=10.11.0 in /opt/conda/lib/python3.11/site-packages (from typer<1.0.0,>=0.3.0->spacy<3.8.0,>=3.7.2->en-core-web-sm==3.7.1) (13.8.1)\n",
      "Requirement already satisfied: cloudpathlib<1.0.0,>=0.7.0 in /opt/conda/lib/python3.11/site-packages (from weasel<0.5.0,>=0.1.0->spacy<3.8.0,>=3.7.2->en-core-web-sm==3.7.1) (0.19.0)\n",
      "Requirement already satisfied: smart-open<8.0.0,>=5.2.1 in /opt/conda/lib/python3.11/site-packages (from weasel<0.5.0,>=0.1.0->spacy<3.8.0,>=3.7.2->en-core-web-sm==3.7.1) (7.0.4)\n",
      "Requirement already satisfied: MarkupSafe>=2.0 in /opt/conda/lib/python3.11/site-packages (from jinja2->spacy<3.8.0,>=3.7.2->en-core-web-sm==3.7.1) (2.1.3)\n",
      "Requirement already satisfied: marisa-trie>=0.7.7 in /opt/conda/lib/python3.11/site-packages (from language-data>=1.2->langcodes<4.0.0,>=3.2.0->spacy<3.8.0,>=3.7.2->en-core-web-sm==3.7.1) (1.2.0)\n",
      "Requirement already satisfied: markdown-it-py>=2.2.0 in /opt/conda/lib/python3.11/site-packages (from rich>=10.11.0->typer<1.0.0,>=0.3.0->spacy<3.8.0,>=3.7.2->en-core-web-sm==3.7.1) (3.0.0)\n",
      "Requirement already satisfied: pygments<3.0.0,>=2.13.0 in /opt/conda/lib/python3.11/site-packages (from rich>=10.11.0->typer<1.0.0,>=0.3.0->spacy<3.8.0,>=3.7.2->en-core-web-sm==3.7.1) (2.17.2)\n",
      "Requirement already satisfied: wrapt in /opt/conda/lib/python3.11/site-packages (from smart-open<8.0.0,>=5.2.1->weasel<0.5.0,>=0.1.0->spacy<3.8.0,>=3.7.2->en-core-web-sm==3.7.1) (1.16.0)\n",
      "Requirement already satisfied: mdurl~=0.1 in /opt/conda/lib/python3.11/site-packages (from markdown-it-py>=2.2.0->rich>=10.11.0->typer<1.0.0,>=0.3.0->spacy<3.8.0,>=3.7.2->en-core-web-sm==3.7.1) (0.1.2)\n",
      "Installing collected packages: en-core-web-sm\n",
      "Successfully installed en-core-web-sm-3.7.1\n",
      "\u001b[38;5;2m✔ Download and installation successful\u001b[0m\n",
      "You can now load the package via spacy.load('en_core_web_sm')\n"
     ]
    }
   ],
   "source": [
    "!pip install lxml\n",
    "!pip install spacy\n",
    "!pip install gensim\n",
    "!pip install nltk\n",
    "!pip install tqdm\n",
    "!pip install pyLDAvis\n",
    "!python -m spacy download en_core_web_sm"
   ]
  },
  {
   "cell_type": "code",
   "execution_count": 2,
   "metadata": {},
   "outputs": [
    {
     "name": "stderr",
     "output_type": "stream",
     "text": [
      "[nltk_data] Downloading package stopwords to /home/jovyan/nltk_data...\n",
      "[nltk_data]   Unzipping corpora/stopwords.zip.\n"
     ]
    }
   ],
   "source": [
    "import re\n",
    "import warnings\n",
    "import numpy as np\n",
    "import pandas as pd\n",
    "import matplotlib.pyplot as plt\n",
    "from pprint import pprint\n",
    "\n",
    "from tqdm import tqdm\n",
    "tqdm.pandas()\n",
    "\n",
    "import nltk\n",
    "from nltk.corpus import stopwords\n",
    "nltk.download('stopwords')\n",
    "from bs4 import BeautifulSoup\n",
    "import spacy\n",
    "\n",
    "import gensim\n",
    "from gensim.utils import simple_preprocess\n",
    "from gensim.models import CoherenceModel\n",
    "import gensim.corpora as corpora\n",
    "\n",
    "import pyLDAvis\n",
    "import pyLDAvis.gensim_models as gensimvis\n",
    "\n",
    "from sklearn.metrics.pairwise import cosine_similarity\n",
    "\n",
    "import time\n",
    "\n",
    "%matplotlib inline\n"
   ]
  },
  {
   "cell_type": "markdown",
   "metadata": {},
   "source": [
    "### 1.2 Download and Prepare Data\n",
    "This code checks whether you have the data. If you don't, it will download and prepare it for you. To see how it works, look at lab `1 Data munging` which explains it in detail."
   ]
  },
  {
   "cell_type": "code",
   "execution_count": 3,
   "metadata": {},
   "outputs": [
    {
     "name": "stdout",
     "output_type": "stream",
     "text": [
      "Ready to go!\n"
     ]
    }
   ],
   "source": [
    "%run -i \"download_and_clean_data.py\"\n",
    "print('Ready to go!')"
   ]
  },
  {
   "cell_type": "markdown",
   "metadata": {},
   "source": [
    "### 1.3 Read Data"
   ]
  },
  {
   "cell_type": "code",
   "execution_count": 4,
   "metadata": {},
   "outputs": [
    {
     "data": {
      "text/html": [
       "<div>\n",
       "<style scoped>\n",
       "    .dataframe tbody tr th:only-of-type {\n",
       "        vertical-align: middle;\n",
       "    }\n",
       "\n",
       "    .dataframe tbody tr th {\n",
       "        vertical-align: top;\n",
       "    }\n",
       "\n",
       "    .dataframe thead th {\n",
       "        text-align: right;\n",
       "    }\n",
       "</style>\n",
       "<table border=\"1\" class=\"dataframe\">\n",
       "  <thead>\n",
       "    <tr style=\"text-align: right;\">\n",
       "      <th></th>\n",
       "      <th>age_group</th>\n",
       "      <th>age</th>\n",
       "      <th>body</th>\n",
       "      <th>alcohol_use</th>\n",
       "      <th>drug_use</th>\n",
       "      <th>edu</th>\n",
       "      <th>race_ethnicity</th>\n",
       "      <th>height_group</th>\n",
       "      <th>industry</th>\n",
       "      <th>kids</th>\n",
       "      <th>...</th>\n",
       "      <th>essay0</th>\n",
       "      <th>essay1</th>\n",
       "      <th>essay2</th>\n",
       "      <th>essay3</th>\n",
       "      <th>essay4</th>\n",
       "      <th>essay5</th>\n",
       "      <th>essay6</th>\n",
       "      <th>essay7</th>\n",
       "      <th>essay8</th>\n",
       "      <th>essay9</th>\n",
       "    </tr>\n",
       "  </thead>\n",
       "  <tbody>\n",
       "    <tr>\n",
       "      <th>0</th>\n",
       "      <td>20</td>\n",
       "      <td>22</td>\n",
       "      <td>overweight</td>\n",
       "      <td>yes</td>\n",
       "      <td>no</td>\n",
       "      <td>HS</td>\n",
       "      <td>multiple</td>\n",
       "      <td>over_6</td>\n",
       "      <td>other</td>\n",
       "      <td>no</td>\n",
       "      <td>...</td>\n",
       "      <td>about me:&lt;br /&gt;\\n&lt;br /&gt;\\ni would love to think...</td>\n",
       "      <td>currently working as an international agent fo...</td>\n",
       "      <td>making people laugh.&lt;br /&gt;\\nranting about a go...</td>\n",
       "      <td>the way i look. i am a six foot half asian, ha...</td>\n",
       "      <td>books:&lt;br /&gt;\\nabsurdistan, the republic, of mi...</td>\n",
       "      <td>food.&lt;br /&gt;\\nwater.&lt;br /&gt;\\ncell phone.&lt;br /&gt;\\n...</td>\n",
       "      <td>duality and humorous things</td>\n",
       "      <td>trying to find someone to hang out with. i am ...</td>\n",
       "      <td>i am new to california and looking for someone...</td>\n",
       "      <td>you want to be swept off your feet!&lt;br /&gt;\\nyou...</td>\n",
       "    </tr>\n",
       "    <tr>\n",
       "      <th>1</th>\n",
       "      <td>30</td>\n",
       "      <td>35</td>\n",
       "      <td>average</td>\n",
       "      <td>yes</td>\n",
       "      <td>yes</td>\n",
       "      <td>unknown</td>\n",
       "      <td>White</td>\n",
       "      <td>under_6</td>\n",
       "      <td>other</td>\n",
       "      <td>no</td>\n",
       "      <td>...</td>\n",
       "      <td>i am a chef: this is what that means.&lt;br /&gt;\\n1...</td>\n",
       "      <td>dedicating everyday to being an unbelievable b...</td>\n",
       "      <td>being silly. having ridiculous amonts of fun w...</td>\n",
       "      <td>NaN</td>\n",
       "      <td>i am die hard christopher moore fan. i don't r...</td>\n",
       "      <td>delicious porkness in all of its glories.&lt;br /...</td>\n",
       "      <td>NaN</td>\n",
       "      <td>NaN</td>\n",
       "      <td>i am very open and will share just about anyth...</td>\n",
       "      <td>NaN</td>\n",
       "    </tr>\n",
       "  </tbody>\n",
       "</table>\n",
       "<p>2 rows × 29 columns</p>\n",
       "</div>"
      ],
      "text/plain": [
       "   age_group  age        body alcohol_use drug_use      edu race_ethnicity  \\\n",
       "0         20   22  overweight         yes       no       HS       multiple   \n",
       "1         30   35     average         yes      yes  unknown          White   \n",
       "\n",
       "  height_group industry kids  ...  \\\n",
       "0       over_6    other   no  ...   \n",
       "1      under_6    other   no  ...   \n",
       "\n",
       "                                              essay0  \\\n",
       "0  about me:<br />\\n<br />\\ni would love to think...   \n",
       "1  i am a chef: this is what that means.<br />\\n1...   \n",
       "\n",
       "                                              essay1  \\\n",
       "0  currently working as an international agent fo...   \n",
       "1  dedicating everyday to being an unbelievable b...   \n",
       "\n",
       "                                              essay2  \\\n",
       "0  making people laugh.<br />\\nranting about a go...   \n",
       "1  being silly. having ridiculous amonts of fun w...   \n",
       "\n",
       "                                              essay3  \\\n",
       "0  the way i look. i am a six foot half asian, ha...   \n",
       "1                                                NaN   \n",
       "\n",
       "                                              essay4  \\\n",
       "0  books:<br />\\nabsurdistan, the republic, of mi...   \n",
       "1  i am die hard christopher moore fan. i don't r...   \n",
       "\n",
       "                                              essay5  \\\n",
       "0  food.<br />\\nwater.<br />\\ncell phone.<br />\\n...   \n",
       "1  delicious porkness in all of its glories.<br /...   \n",
       "\n",
       "                        essay6  \\\n",
       "0  duality and humorous things   \n",
       "1                          NaN   \n",
       "\n",
       "                                              essay7  \\\n",
       "0  trying to find someone to hang out with. i am ...   \n",
       "1                                                NaN   \n",
       "\n",
       "                                              essay8  \\\n",
       "0  i am new to california and looking for someone...   \n",
       "1  i am very open and will share just about anyth...   \n",
       "\n",
       "                                              essay9  \n",
       "0  you want to be swept off your feet!<br />\\nyou...  \n",
       "1                                                NaN  \n",
       "\n",
       "[2 rows x 29 columns]"
      ]
     },
     "execution_count": 4,
     "metadata": {},
     "output_type": "execute_result"
    }
   ],
   "source": [
    "profiles = pd.read_csv('data/clean_profiles.tsv', sep='\\t')\n",
    "profiles.head(2)"
   ]
  },
  {
   "cell_type": "markdown",
   "metadata": {},
   "source": [
    "### 1.4 Pick Your Data\n",
    "- Pick which section of the profiles you want to analyze.\n",
    "#### Options:\n",
    "- `text` - All of the text from a profile (**Recommended**)\n",
    "- `essay0` - My self summary (**Recommended**)\n",
    "- `essay1` - What I’m doing with my life\n",
    "- `essay2` - I’m really good at\n",
    "- `essay3` - The first thing people usually notice about me\n",
    "- `essay4` - Favorite books, movies, show, music, and food\n",
    "- `essay5` - The six things I could never do without\n",
    "- `essay6` - I spend a lot of time thinking about\n",
    "- `essay7` - On a typical Friday night I am\n",
    "- `essay8` - The most private thing I am willing to admit\n",
    "- `essay9` - You should message me if...\n",
    "\n",
    "#### Replace `essay0` in the cell below with the essay you want to look at.\n",
    "- `text` and `essay0` are both recommended, but it's your choice."
   ]
  },
  {
   "cell_type": "code",
   "execution_count": 5,
   "metadata": {},
   "outputs": [],
   "source": [
    "profile_section_to_use = 'essay0'"
   ]
  },
  {
   "cell_type": "markdown",
   "metadata": {},
   "source": [
    "### 1.5 Clean Text \n",
    "- For this lab, it is not so important that you understand this code. \n",
    "- For now, just run it and move on. "
   ]
  },
  {
   "cell_type": "code",
   "execution_count": 6,
   "metadata": {},
   "outputs": [],
   "source": [
    "# Some of the essays have just a link in the text. BeautifulSoup sees that and gets \n",
    "# the wrong idea. This line hides those warnings.\n",
    "warnings.filterwarnings(\"ignore\", category=UserWarning, module='bs4')\n",
    "warnings.filterwarnings(\"ignore\", category=DeprecationWarning, module='bs4.builder._lxml')\n",
    "def clean(text):\n",
    "    if pd.isnull(text):\n",
    "        t = np.nan\n",
    "    else:\n",
    "        t = BeautifulSoup(text, 'lxml').get_text()\n",
    "        t = t.lower()\n",
    "\n",
    "        bad_words = ['http', 'www', '\\nnan']\n",
    "\n",
    "        for b in bad_words:\n",
    "            t = t.replace(b, '')\n",
    "    if t == '':\n",
    "        t = np.nan\n",
    "    \n",
    "    return t"
   ]
  },
  {
   "cell_type": "code",
   "execution_count": 7,
   "metadata": {},
   "outputs": [
    {
     "name": "stdout",
     "output_type": "stream",
     "text": [
      "Cleaning up profile text for essay0 ...\n"
     ]
    },
    {
     "name": "stderr",
     "output_type": "stream",
     "text": [
      "  0%|          | 0/58785 [00:00<?, ?it/s]/tmp/ipykernel_423/512017477.py:9: MarkupResemblesLocatorWarning: The input looks more like a filename than markup. You may want to open this file and pass the filehandle into Beautiful Soup.\n",
      "  t = BeautifulSoup(text, 'lxml').get_text()\n",
      "/tmp/ipykernel_423/512017477.py:9: MarkupResemblesLocatorWarning: The input looks more like a URL than markup. You may want to use an HTTP client like requests to get the document behind the URL, and feed that document to Beautiful Soup.\n",
      "  t = BeautifulSoup(text, 'lxml').get_text()\n",
      "100%|██████████| 58785/58785 [00:04<00:00, 11941.73it/s]"
     ]
    },
    {
     "name": "stdout",
     "output_type": "stream",
     "text": [
      "We started with 58785 profiles.\n",
      "Dropping profiles that didn't write anything for the essay we chose...\n",
      "We have 53396 profiles left.\n"
     ]
    },
    {
     "name": "stderr",
     "output_type": "stream",
     "text": [
      "\n"
     ]
    }
   ],
   "source": [
    "print('Cleaning up profile text for', profile_section_to_use, '...')\n",
    "profiles['clean'] = profiles[profile_section_to_use].progress_apply(clean)\n",
    "\n",
    "print('We started with', profiles.shape[0], 'profiles.')\n",
    "print(\"Dropping profiles that didn't write anything for the essay we chose...\")\n",
    "profiles.dropna(axis=0, subset=['clean'], inplace=True)\n",
    "\n",
    "text_cols = ['text', 'essay0', 'essay1', 'essay2', 'essay3', 'essay4', \n",
    "             'essay5', 'essay6', 'essay7', 'essay8', 'essay9']\n",
    "profiles.drop(columns=text_cols, inplace=True)\n",
    "\n",
    "#what we will use as our documents, here the cleaned up text of each profile\n",
    "documents = profiles['clean'].values\n",
    "\n",
    "print('We have', documents.shape[0], 'profiles left.')"
   ]
  },
  {
   "cell_type": "markdown",
   "metadata": {},
   "source": [
    "#### Remove punctuation/lower casing\n",
    "\n",
    "- Next, let’s perform a simple preprocessing on the content of paper_text column to make them more amenable for analysis, and reliable results.\n",
    "- To do that, we’ll use a regular expression to remove any punctuation, and then lowercase the text"
   ]
  },
  {
   "cell_type": "code",
   "execution_count": 8,
   "metadata": {},
   "outputs": [
    {
     "data": {
      "text/plain": [
       "0    about me:\\n\\ni would love to think that i was ...\n",
       "1    i am a chef: this is what that means\\n1 i am a...\n",
       "2    i'm not ashamed of much but writing public tex...\n",
       "3               i work in a library and go to school  \n",
       "4    hey how's it going currently vague on the prof...\n",
       "Name: clean, dtype: object"
      ]
     },
     "execution_count": 8,
     "metadata": {},
     "output_type": "execute_result"
    }
   ],
   "source": [
    "# Load the regular expression library\n",
    "\n",
    "# Remove punctuation\n",
    "profiles['clean'] = profiles['clean'].map(lambda x: re.sub(r'[,.!?]', '', x))\n",
    "\n",
    "# Convert the text to lowercase\n",
    "profiles['clean'] = profiles['clean'].map(lambda x: x.lower())\n",
    "\n",
    "# Print out the first rows of profiles\n",
    "profiles['clean'].head()\n",
    "\n"
   ]
  },
  {
   "cell_type": "markdown",
   "metadata": {},
   "source": [
    "## Section 2: Converting Text to Numbers"
   ]
  },
  {
   "cell_type": "markdown",
   "metadata": {},
   "source": [
    "** **\n",
    "#### Step 1: Tokenize words and further clean-up text\n",
    "** **\n",
    "Let’s tokenize each sentence into a list of words, removing punctuations and unnecessary characters altogether.\n",
    "\n",
    "- Here we tell it to only use the 1,000 most popular words, ignoring stop words like \"a\" and \"of\"."
   ]
  },
  {
   "cell_type": "code",
   "execution_count": 9,
   "metadata": {},
   "outputs": [
    {
     "name": "stdout",
     "output_type": "stream",
     "text": [
      "The first 30 cleaned words of essay 0 from profile 0 are:\n",
      "\n",
      " ['about', 'me', 'would', 'love', 'to', 'think', 'that', 'was', 'some', 'some', 'kind', 'of', 'intellectual', 'either', 'the', 'dumbest', 'smart', 'guy', 'or', 'the', 'smartest', 'dumb', 'guy', 'can', 'say', 'can', 'tell', 'the', 'difference', 'love']\n"
     ]
    }
   ],
   "source": [
    "# [:1] selects the first profile, and [:30] selects the first 30 words from that profile\n",
    "# You can try to change the parameters and see what happens\n",
    "def sent_to_words(sentences):\n",
    "    for sentence in sentences:\n",
    "        yield(gensim.utils.simple_preprocess(str(sentence), deacc=True))  # deacc=True removes punctuations\n",
    "\n",
    "data = profiles.clean.values.tolist()\n",
    "data_words = list(sent_to_words(data))\n",
    "\n",
    "print(\"The first 30 cleaned words of essay 0 from profile 0 are:\\n\\n\", data_words[:1][0][:30])"
   ]
  },
  {
   "cell_type": "markdown",
   "metadata": {},
   "source": [
    "** **\n",
    "#### Step 2: Remove Stopwords, Make Bigrams and Lemmatize\n",
    "** **\n",
    "\n",
    "The phrase models are ready. Let’s define the functions to remove the stopwords, make trigrams and lemmatization and call them sequentially."
   ]
  },
  {
   "cell_type": "markdown",
   "metadata": {},
   "source": [
    "<div class=\"alert-info\">\n",
    " \n",
    "#### Short Answer No.1\n",
    "- (1) Why do we want to ignore stop words? (1-2 sentences)\n",
    "- (2) Give 3 more examples of stop words \n",
    "    \n",
    "    \n",
    "</div>"
   ]
  },
  {
   "cell_type": "markdown",
   "metadata": {},
   "source": [
    "🤔 **Write your response here:**\n",
    "...\n",
    "\n"
   ]
  },
  {
   "cell_type": "code",
   "execution_count": 10,
   "metadata": {},
   "outputs": [],
   "source": [
    "stop_words = stopwords.words('english')\n",
    "stop_words.extend(['from', 'subject', 're', 'edu', 'use'])\n",
    "\n",
    "def remove_stopwords(texts):\n",
    "    return [[word for word in simple_preprocess(str(doc)) if word not in stop_words] for doc in texts]"
   ]
  },
  {
   "cell_type": "code",
   "execution_count": 11,
   "metadata": {},
   "outputs": [],
   "source": [
    "# Remove Stop Words\n",
    "data_words_nostops = remove_stopwords(data_words)"
   ]
  },
  {
   "cell_type": "markdown",
   "metadata": {},
   "source": [
    "** **\n",
    "#### Step 3: Phrase Modeling: Bigram and Trigram Models\n",
    "** **\n",
    "\n",
    "Bigrams are two words frequently occurring together in the document. Trigrams are 3 words frequently occurring. Some examples in our example are: 'back_bumper', 'oil_leakage', 'maryland_college_park' etc.\n",
    "\n",
    "Gensim's Phrases model can build and implement the bigrams, trigrams, quadgrams and more. The two important arguments to Phrases are min_count and threshold.\n",
    "\n",
    "*The higher the values of these param, the harder it is for words to be combined.*"
   ]
  },
  {
   "cell_type": "code",
   "execution_count": 12,
   "metadata": {},
   "outputs": [],
   "source": [
    "# Build the bigram and trigram models\n",
    "bigram = gensim.models.Phrases(data_words, min_count=5, threshold=100) # higher threshold fewer phrases.\n",
    "trigram = gensim.models.Phrases(bigram[data_words], threshold=100)  \n",
    "\n",
    "# Faster way to get a sentence clubbed as a trigram/bigram\n",
    "bigram_mod = gensim.models.phrases.Phraser(bigram)\n",
    "trigram_mod = gensim.models.phrases.Phraser(trigram)"
   ]
  },
  {
   "cell_type": "markdown",
   "metadata": {},
   "source": [
    "#### See what words are being counted"
   ]
  },
  {
   "cell_type": "code",
   "execution_count": 13,
   "metadata": {},
   "outputs": [],
   "source": [
    "# Define functions for bigrams, trigrams and lemmatization\n",
    "\n",
    "def make_bigrams(texts):\n",
    "    return [bigram_mod[doc] for doc in texts]\n",
    "\n",
    "def make_trigrams(texts):\n",
    "    return [trigram_mod[bigram_mod[doc]] for doc in texts]\n",
    "\n",
    "def lemmatization(texts, allowed_postags=['NOUN', 'ADJ', 'VERB', 'ADV']):\n",
    "    \"\"\"https://spacy.io/api/annotation\"\"\"\n",
    "    texts_out = []\n",
    "    for sent in texts:\n",
    "        doc = nlp(\" \".join(sent)) \n",
    "        texts_out.append([token.lemma_ for token in doc if token.pos_ in allowed_postags])\n",
    "    return texts_out"
   ]
  },
  {
   "cell_type": "markdown",
   "metadata": {},
   "source": [
    "Let's call the functions in order. Note that calling these functions might take a couple of time, generally around 2 minutes."
   ]
  },
  {
   "cell_type": "code",
   "execution_count": 18,
   "metadata": {},
   "outputs": [
    {
     "name": "stdout",
     "output_type": "stream",
     "text": [
      "The first 30 words of essay 0 from profile 0 (after lemmatization) are:\n",
      "\n",
      " ['love', 'think', 'kind', 'intellectual', 'dumbest', 'smart', 'guy', 'smart', 'dumb', 'guy', 'say', 'tell', 'difference', 'love', 'talk', 'idea', 'concept', 'forge', 'odd', 'metaphor', 'instead', 'recite', 'cliche', 'simularitie', 'underwater', 'salt', 'favorite', 'word', 'salt', 'way']\n",
      "--- 128.3054177761078 seconds ---\n"
     ]
    }
   ],
   "source": [
    "start_time = time.time()\n",
    "\n",
    "# Form Bigrams\n",
    "data_words_bigrams = make_bigrams(data_words_nostops)\n",
    "\n",
    "# Initialize spacy 'en' model, keeping only tagger component (for efficiency)\n",
    "nlp = spacy.load(\"en_core_web_sm\", disable=['parser', 'ner'])\n",
    "\n",
    "# Do lemmatization keeping only noun, adj, vb, adv\n",
    "data_lemmatized = lemmatization(data_words_bigrams, allowed_postags=['NOUN', 'ADJ', 'VERB', 'ADV'])\n",
    "\n",
    "print(\"The first 30 words of essay 0 from profile 0 (after lemmatization) are:\\n\\n\", data_lemmatized[:1][0][:30])\n",
    "\n",
    "print(\"--- %s seconds ---\" % (time.time() - start_time))"
   ]
  },
  {
   "cell_type": "markdown",
   "metadata": {},
   "source": [
    "#### See an example of how a profile's text is encoded\n",
    "- `n` is the profile number you want to look at. Change the value of `n` and re-run the code to see different profiles."
   ]
  },
  {
   "cell_type": "code",
   "execution_count": 19,
   "metadata": {},
   "outputs": [
    {
     "name": "stdout",
     "output_type": "stream",
     "text": [
      "[(0, 2), (1, 1), (2, 1), (3, 1), (4, 1), (5, 1), (6, 1), (7, 1), (8, 1), (9, 1), (10, 1), (11, 1), (12, 1), (13, 1), (14, 1), (15, 1), (16, 1), (17, 1), (18, 2), (19, 1), (20, 1), (21, 1), (22, 1), (23, 1), (24, 1), (25, 1), (26, 2), (27, 1), (28, 1), (29, 1)]\n"
     ]
    }
   ],
   "source": [
    "# Create Dictionary\n",
    "id2word = corpora.Dictionary(data_lemmatized)\n",
    "\n",
    "# Create Corpus\n",
    "texts = data_lemmatized\n",
    "\n",
    "# Term Document Frequency\n",
    "corpus = [id2word.doc2bow(text) for text in texts]\n",
    "\n",
    "# View\n",
    "print(corpus[:1][0][:30])"
   ]
  },
  {
   "cell_type": "code",
   "execution_count": 20,
   "metadata": {},
   "outputs": [
    {
     "name": "stdout",
     "output_type": "stream",
     "text": [
      "Profile text:\n",
      "life is about the little things. i love to laugh. it's easy to do\n",
      "when one can find beauty and humor in the ugly. this perspective\n",
      "makes for a more gratifying life. it's a gift. we are here to play.\n",
      "\n",
      "\n",
      "BOW (Bag-of-Words) vector:\n",
      "laugh \t 1\n",
      "life \t 2\n",
      "little \t 1\n",
      "love \t 1\n",
      "make \t 1\n",
      "thing \t 1\n",
      "find \t 1\n",
      "beauty \t 1\n",
      "easy \t 1\n",
      "gift \t 1\n",
      "gratifying \t 1\n",
      "humor \t 1\n",
      "perspective \t 1\n",
      "play \t 1\n",
      "ugly \t 1\n"
     ]
    }
   ],
   "source": [
    "def show_bow_vector(bow, dictionary):\n",
    "    for word_id, count in bow:\n",
    "        print(f\"{dictionary[word_id]} \\t {count}\")\n",
    "\n",
    "# Assuming you want to show the n-th document\n",
    "n = 6\n",
    "print(f\"Profile text:\\n{documents[n]}\\n\")\n",
    "\n",
    "print(\"\\nBOW (Bag-of-Words) vector:\")\n",
    "show_bow_vector(corpus[n], id2word)\n"
   ]
  },
  {
   "cell_type": "markdown",
   "metadata": {},
   "source": [
    "<div class=\"alert-info\">\n",
    "    \n",
    "#### Short Answer No.2 \n",
    "\n",
    "- (1) Given the essay questions decribed above, list 5 words that you predict to be the most popular in essay4. \n",
    "    \n",
    "    \n",
    "</div>"
   ]
  },
  {
   "cell_type": "markdown",
   "metadata": {},
   "source": [
    "🤔 **Write your response here:**\n",
    "...\n",
    "\n"
   ]
  },
  {
   "cell_type": "code",
   "execution_count": 21,
   "metadata": {},
   "outputs": [],
   "source": [
    "profile_section_to_use = 'essay4'"
   ]
  },
  {
   "cell_type": "code",
   "execution_count": 23,
   "metadata": {},
   "outputs": [
    {
     "name": "stdout",
     "output_type": "stream",
     "text": [
      "Cleaning up profile text for essay4 ...\n"
     ]
    },
    {
     "name": "stderr",
     "output_type": "stream",
     "text": [
      "  0%|          | 0/58785 [00:00<?, ?it/s]/tmp/ipykernel_423/512017477.py:9: MarkupResemblesLocatorWarning: The input looks more like a filename than markup. You may want to open this file and pass the filehandle into Beautiful Soup.\n",
      "  t = BeautifulSoup(text, 'lxml').get_text()\n",
      "  3%|▎         | 2038/58785 [00:00<00:05, 10203.88it/s]/tmp/ipykernel_423/512017477.py:9: MarkupResemblesLocatorWarning: The input looks more like a URL than markup. You may want to use an HTTP client like requests to get the document behind the URL, and feed that document to Beautiful Soup.\n",
      "  t = BeautifulSoup(text, 'lxml').get_text()\n",
      "100%|██████████| 58785/58785 [00:05<00:00, 10817.17it/s]\n"
     ]
    },
    {
     "name": "stdout",
     "output_type": "stream",
     "text": [
      "We started with 58785 profiles.\n",
      "Dropping profiles that didn't write anything for the essay we chose...\n",
      "Our transformed text has 48432 rows and 48432 columns.\n",
      "The first few words (after lemmatization) are:\n",
      " ['aesop', 'cry', 'feel', 'game', 'hail', 'make', 'man', 'operation', 'rock', 'show', 'throne', 'want', 'alternative', 'die', 'draw', 'fan', 'hard', 'humor', 'involve', 'kind']\n",
      "--- 137.46600794792175 seconds ---\n"
     ]
    }
   ],
   "source": [
    "# In this cell, let's find the top 10 most popular words and list them alphabetically. \n",
    "# Look the sample codes above and try fill in the \"???\".\n",
    "# This would generally take around 140 seconds.\n",
    "start_time = time.time()\n",
    "\n",
    "profiles = pd.read_csv('data/clean_profiles.tsv', sep='\\t')\n",
    "\n",
    "print('Cleaning up profile text for', profile_section_to_use, '...')\n",
    "profiles['clean'] = profiles[profile_section_to_use].progress_apply(clean)\n",
    "\n",
    "print('We started with', profiles.shape[0], 'profiles.')\n",
    "print(\"Dropping profiles that didn't write anything for the essay we chose...\")\n",
    "profiles.dropna(axis=0, subset=['clean'], inplace=True)\n",
    "\n",
    "# Remove unused text columns\n",
    "text_cols = ['text', 'essay0', 'essay1', 'essay2', 'essay3', 'essay4', \n",
    "             'essay5', 'essay6', 'essay7', 'essay8', 'essay9']\n",
    "profiles.drop(columns=text_cols, inplace=True)\n",
    "\n",
    "# Documents we will work with (cleaned text)\n",
    "documents = profiles['clean'].values\n",
    "\n",
    "# Split each document into tokens (list of words) for Gensim\n",
    "data_words = [doc.split() for doc in documents]\n",
    "data_words_nostops = remove_stopwords(data_words)\n",
    "data_words_bigrams = make_bigrams(data_words_nostops)\n",
    "\n",
    "# Do lemmatization keeping only noun, adj, vb, adv\n",
    "data_lemmatized = lemmatization(data_words_bigrams, allowed_postags=['NOUN', 'ADJ', 'VERB', 'ADV'])\n",
    "\n",
    "# Create a Gensim dictionary\n",
    "id2word = corpora.Dictionary(data_lemmatized)\n",
    "\n",
    "# Filter out words that occur in less than 10 documents, or more than 50% of documents\n",
    "id2word.filter_extremes(no_below=10, no_above=0.5)\n",
    "\n",
    "texts = data_lemmatized\n",
    "\n",
    "corpus = ???\n",
    "\n",
    "# Print the total number of rows and columns (dictionary size)\n",
    "print(f\"Our transformed text has {len(corpus)} rows and {len(corpus)} columns.\")\n",
    "\n",
    "print(\"The first few words (after lemmatization) are:\\n\", list(id2word.token2id.keys())[:20])\n",
    "\n",
    "print(\"--- %s seconds ---\" % (time.time() - start_time))"
   ]
  },
  {
   "cell_type": "markdown",
   "metadata": {},
   "source": [
    "<div class=\"alert-info\">\n",
    "    \n",
    "- (2) Did any of your predicted words made to top 10? (No right or wrong answer!) \n",
    "    \n",
    "</div>"
   ]
  },
  {
   "cell_type": "markdown",
   "metadata": {},
   "source": [
    "🤔 **Write your response here:**\n",
    "...\n",
    "\n"
   ]
  },
  {
   "cell_type": "code",
   "execution_count": 24,
   "metadata": {},
   "outputs": [
    {
     "name": "stdout",
     "output_type": "stream",
     "text": [
      "Cleaning up profile text for essay0 ...\n"
     ]
    },
    {
     "name": "stderr",
     "output_type": "stream",
     "text": [
      "  0%|          | 0/58785 [00:00<?, ?it/s]/tmp/ipykernel_423/512017477.py:9: MarkupResemblesLocatorWarning: The input looks more like a filename than markup. You may want to open this file and pass the filehandle into Beautiful Soup.\n",
      "  t = BeautifulSoup(text, 'lxml').get_text()\n",
      "/tmp/ipykernel_423/512017477.py:9: MarkupResemblesLocatorWarning: The input looks more like a URL than markup. You may want to use an HTTP client like requests to get the document behind the URL, and feed that document to Beautiful Soup.\n",
      "  t = BeautifulSoup(text, 'lxml').get_text()\n",
      "100%|██████████| 58785/58785 [00:04<00:00, 12248.71it/s]\n"
     ]
    },
    {
     "name": "stdout",
     "output_type": "stream",
     "text": [
      "We started with 58785 profiles.\n",
      "Dropping profiles that didn't write anything for the essay we chose...\n",
      "Our transformed text has 53396 rows and 53396 columns.\n",
      "The first few words (after lemmatization) are:\n",
      " ['able', 'attention_span', 'bend', 'blow', 'choice', 'cliche', 'concept', 'consider', 'conversation', 'cool', 'decide', 'deep', 'difference', 'dress', 'dumb', 'everyday', 'extra_point', 'favorite', 'forge', 'funny']\n"
     ]
    }
   ],
   "source": [
    "# Now let's focus on essay0 again. \n",
    "# This would take another 140 seconds.\n",
    "\n",
    "profile_section_to_use = 'essay0'\n",
    "\n",
    "profiles = pd.read_csv('data/clean_profiles.tsv', sep='\\t')\n",
    "\n",
    "print('Cleaning up profile text for', profile_section_to_use, '...')\n",
    "profiles['clean'] = profiles[profile_section_to_use].progress_apply(clean)\n",
    "\n",
    "print('We started with', profiles.shape[0], 'profiles.')\n",
    "print(\"Dropping profiles that didn't write anything for the essay we chose...\")\n",
    "profiles.dropna(axis=0, subset=['clean'], inplace=True)\n",
    "\n",
    "# Remove unused text columns\n",
    "text_cols = ['text', 'essay0', 'essay1', 'essay2', 'essay3', 'essay4', \n",
    "             'essay5', 'essay6', 'essay7', 'essay8', 'essay9']\n",
    "profiles.drop(columns=text_cols, inplace=True)\n",
    "\n",
    "# Documents we will work with (cleaned text)\n",
    "documents = profiles['clean'].values\n",
    "\n",
    "# Split each document into tokens (list of words) for Gensim\n",
    "data_words = [doc.split() for doc in documents]\n",
    "data_words_nostops = remove_stopwords(data_words)\n",
    "data_words_bigrams = make_bigrams(data_words_nostops)\n",
    "\n",
    "# Do lemmatization keeping only noun, adj, vb, adv\n",
    "data_lemmatized = lemmatization(data_words_bigrams, allowed_postags=['NOUN', 'ADJ', 'VERB', 'ADV'])\n",
    "\n",
    "# Create a Gensim dictionary\n",
    "id2word = corpora.Dictionary(data_lemmatized)\n",
    "\n",
    "# Filter out words that occur in less than 10 documents, or more than 50% of documents\n",
    "id2word.filter_extremes(no_below=10, no_above=0.5)\n",
    "\n",
    "texts = data_lemmatized\n",
    "\n",
    "#corpus = ???\n",
    "corpus = [id2word.doc2bow(text) for text in texts]\n",
    "\n",
    "# Print the total number of rows and columns (dictionary size)\n",
    "print(f\"Our transformed text has {len(corpus)} rows and {len(corpus)} columns.\")\n",
    "\n",
    "print(\"The first few words (after lemmatization) are:\\n\", list(id2word.token2id.keys())[:20])"
   ]
  },
  {
   "cell_type": "markdown",
   "metadata": {},
   "source": [
    "## Section 3: LDA Topic Model\n",
    "\n",
    "- LDA stands for Latent Dirichlet Allocation. The statistical math behind it is complicated, but its goals are simple:\n",
    "    - find groups of words that often show up together and call those groups topics. \n",
    "    - find topics that can be used to tell documents apart, i.e. topics that are in some documents but not others.\n",
    "- LDA is the most popular method for topic modeling.\n",
    "- [Learn more](https://en.wikipedia.org/wiki/Latent_Dirichlet_allocation) about LDA\n",
    "\n",
    "### Step 1: Decide how many topics we want to find\n",
    "\n",
    "<div class=\"alert-info\">\n",
    "    \n",
    "#### Short Answer No.3\n",
    "- How would the number of topics you choose affect the result in your opinion? (Think about extreme cases like you only pick 1 topic, vs if you pick 10,000 topics.) (1-2 sentences)\n",
    "- Choose 1 essay and describe the types of topics you would expect to find.\n",
    "    \n",
    "</div>"
   ]
  },
  {
   "cell_type": "markdown",
   "metadata": {},
   "source": [
    "🤔 **Write your response here:**\n",
    "...\n",
    "\n"
   ]
  },
  {
   "cell_type": "code",
   "execution_count": 27,
   "metadata": {},
   "outputs": [],
   "source": [
    "#how many topics we want our model to find\n",
    "ntopics = 15\n",
    "nshow = 10"
   ]
  },
  {
   "cell_type": "markdown",
   "metadata": {},
   "source": [
    "### Step 2: Run the LDA algorithm\n",
    "- LDA can be a little slow. We'll use a faster method later on.\n",
    "- We have everything required to train the base LDA model. In addition to the corpus and dictionary, you need to provide the number of topics as well. Apart from that, alpha and eta are hyperparameters that affect sparsity of the topics. According to the Gensim docs, both defaults to 1.0/num_topics prior (we'll use default for the base model).\n",
    "- chunksize controls how many documents are processed at a time in the training algorithm. Increasing chunksize will speed up training, at least as long as the chunk of documents easily fit into memory.\n",
    "- passes controls how often we train the model on the entire corpus (set to 10). Another word for passes might be \"epochs\". iterations is somewhat technical, but essentially it controls how often we repeat a particular loop over each document. It is important to set the number of \"passes\" and \"iterations\" high enough."
   ]
  },
  {
   "cell_type": "code",
   "execution_count": 29,
   "metadata": {},
   "outputs": [
    {
     "name": "stdout",
     "output_type": "stream",
     "text": [
      "Performing LDA on vectors. This may take a while...\n",
      "Done!\n"
     ]
    }
   ],
   "source": [
    "# Build LDA model\n",
    "print('Performing LDA on vectors. This may take a while...')\n",
    "lda_model = gensim.models.LdaMulticore(corpus=corpus,\n",
    "                                       id2word=id2word,\n",
    "                                       num_topics=ntopics, \n",
    "                                       random_state=100,\n",
    "                                       chunksize=100,\n",
    "                                       passes=10,\n",
    "                                       per_word_topics=True)\n",
    "\n",
    "lda_topics = lda_model.get_topics()\n",
    "\n",
    "print('Done!')"
   ]
  },
  {
   "cell_type": "markdown",
   "metadata": {},
   "source": [
    "** **\n",
    "The above LDA model is built with 15 different topics where each topic is a combination of keywords and each keyword contributes a certain weightage to the topic.\n",
    "\n",
    "You can see the keywords for each topic and the weightage(importance) of each keyword using `lda_model.print_topics()`"
   ]
  },
  {
   "cell_type": "code",
   "execution_count": 30,
   "metadata": {},
   "outputs": [
    {
     "name": "stdout",
     "output_type": "stream",
     "text": [
      "[(0,\n",
      "  '0.014*\"art\" + 0.014*\"time\" + 0.014*\"animal\" + 0.010*\"cat\" + 0.008*\"project\" '\n",
      "  '+ 0.007*\"thing\" + 0.007*\"spend\" + 0.007*\"read\" + 0.006*\"book\" + '\n",
      "  '0.005*\"downtown\"'),\n",
      " (1,\n",
      "  '0.037*\"life\" + 0.032*\"love\" + 0.014*\"people\" + 0.011*\"good\" + 0.011*\"live\" '\n",
      "  '+ 0.011*\"enjoy\" + 0.009*\"world\" + 0.008*\"passionate\" + 0.008*\"friend\" + '\n",
      "  '0.008*\"share\"'),\n",
      " (2,\n",
      "  '0.016*\"get\" + 0.012*\"make\" + 0.011*\"day\" + 0.009*\"good\" + 0.009*\"love\" + '\n",
      "  '0.008*\"eat\" + 0.008*\"thing\" + 0.008*\"drink\" + 0.007*\"car\" + 0.007*\"go\"'),\n",
      " (3,\n",
      "  '0.018*\"geek\" + 0.018*\"also\" + 0.016*\"nerd\" + 0.013*\"read\" + 0.013*\"game\" + '\n",
      "  '0.012*\"nerdy\" + 0.012*\"bit\" + 0.010*\"geeky\" + 0.010*\"computer\" + '\n",
      "  '0.008*\"conversation\"'),\n",
      " (4,\n",
      "  '0.038*\"work\" + 0.031*\"art\" + 0.019*\"school\" + 0.019*\"study\" + 0.016*\"music\" '\n",
      "  '+ 0.014*\"artist\" + 0.012*\"currently\" + 0.011*\"design\" + 0.011*\"film\" + '\n",
      "  '0.010*\"write\"'),\n",
      " (5,\n",
      "  '0.010*\"way\" + 0.010*\"believe\" + 0.010*\"life\" + 0.009*\"find\" + 0.009*\"well\" '\n",
      "  '+ 0.009*\"think\" + 0.008*\"make\" + 0.008*\"thing\" + 0.008*\"time\" + '\n",
      "  '0.007*\"say\"'),\n",
      " (6,\n",
      "  '0.030*\"think\" + 0.026*\"thing\" + 0.024*\"people\" + 0.023*\"get\" + '\n",
      "  '0.023*\"really\" + 0.018*\"make\" + 0.017*\"pretty\" + 0.017*\"good\" + 0.016*\"say\" '\n",
      "  '+ 0.015*\"lot\"'),\n",
      " (7,\n",
      "  '0.072*\"play\" + 0.051*\"love\" + 0.048*\"music\" + 0.037*\"watch\" + 0.035*\"go\" + '\n",
      "  '0.033*\"sport\" + 0.032*\"movie\" + 0.021*\"game\" + 0.020*\"also\" + '\n",
      "  '0.016*\"enjoy\"'),\n",
      " (8,\n",
      "  '0.048*\"look\" + 0.036*\"relationship\" + 0.034*\"woman\" + 0.031*\"man\" + '\n",
      "  '0.020*\"want\" + 0.018*\"date\" + 0.015*\"partner\" + 0.013*\"guy\" + 0.011*\"open\" '\n",
      "  '+ 0.010*\"meet\"'),\n",
      " (9,\n",
      "  '0.055*\"year\" + 0.036*\"live\" + 0.035*\"move\" + 0.024*\"work\" + 0.019*\"love\" + '\n",
      "  '0.018*\"time\" + 0.018*\"go\" + 0.017*\"city\" + 0.016*\"life\" + 0.016*\"back\"'),\n",
      " (10,\n",
      "  '0.050*\"write\" + 0.043*\"profile\" + 0.039*\"read\" + 0.031*\"ask\" + 0.028*\"word\" '\n",
      "  '+ 0.027*\"question\" + 0.023*\"say\" + 0.017*\"answer\" + 0.015*\"book\" + '\n",
      "  '0.014*\"know\"'),\n",
      " (11,\n",
      "  '0.044*\"love\" + 0.030*\"enjoy\" + 0.022*\"new\" + 0.021*\"go\" + 0.021*\"travel\" + '\n",
      "  '0.017*\"good\" + 0.016*\"friend\" + 0.014*\"thing\" + 0.013*\"time\" + '\n",
      "  '0.012*\"also\"'),\n",
      " (12,\n",
      "  '0.020*\"get\" + 0.018*\"know\" + 0.017*\"want\" + 0.011*\"never\" + 0.011*\"day\" + '\n",
      "  '0.011*\"see\" + 0.010*\"make\" + 0.009*\"life\" + 0.009*\"go\" + 0.009*\"girl\"'),\n",
      " (13,\n",
      "  '0.038*\"love\" + 0.026*\"life\" + 0.024*\"good\" + 0.023*\"go\" + 0.020*\"friend\" + '\n",
      "  '0.020*\"fun\" + 0.020*\"time\" + 0.019*\"person\" + 0.016*\"guy\" + 0.016*\"m\"'),\n",
      " (14,\n",
      "  '0.059*\"people\" + 0.056*\"new\" + 0.042*\"meet\" + 0.030*\"thing\" + 0.024*\"get\" + '\n",
      "  '0.023*\"know\" + 0.022*\"try\" + 0.021*\"look\" + 0.020*\"want\" + 0.020*\"friend\"')]\n"
     ]
    }
   ],
   "source": [
    "# Print the Keyword in the 15 topics\n",
    "pprint(lda_model.print_topics())\n",
    "doc_lda = lda_model[corpus]"
   ]
  },
  {
   "cell_type": "markdown",
   "metadata": {},
   "source": [
    "#### Compute Model Perplexity and Coherence Score\n",
    "\n",
    "Let's calculate the baseline coherence score"
   ]
  },
  {
   "cell_type": "code",
   "execution_count": 31,
   "metadata": {},
   "outputs": [
    {
     "name": "stdout",
     "output_type": "stream",
     "text": [
      "Coherence Score:  0.42208488439134395\n"
     ]
    }
   ],
   "source": [
    "# Compute Coherence Score\n",
    "coherence_model_lda = CoherenceModel(model=lda_model, texts=data_lemmatized, dictionary=id2word, coherence='c_v')\n",
    "coherence_lda = coherence_model_lda.get_coherence()\n",
    "print('Coherence Score: ', coherence_lda)"
   ]
  },
  {
   "cell_type": "markdown",
   "metadata": {},
   "source": [
    "** **\n",
    "#### Step 3: Visualize Results\n",
    "** **"
   ]
  },
  {
   "cell_type": "code",
   "execution_count": 32,
   "metadata": {},
   "outputs": [
    {
     "data": {
      "text/html": [
       "\n",
       "<link rel=\"stylesheet\" type=\"text/css\" href=\"https://cdn.jsdelivr.net/gh/bmabey/pyLDAvis@3.4.0/pyLDAvis/js/ldavis.v1.0.0.css\">\n",
       "\n",
       "\n",
       "<div id=\"ldavis_el4232814718269830883870930922\" style=\"background-color:white;\"></div>\n",
       "<script type=\"text/javascript\">\n",
       "\n",
       "var ldavis_el4232814718269830883870930922_data = {\"mdsDat\": {\"x\": [0.06419777625361703, -0.12933606567282557, -0.02955481155824973, -0.0074062599340171485, -0.12601737907615254, 0.010920501652791986, -0.09453603873649805, -0.14925310710758097, -0.15450388671257845, -0.14445367122379588, 0.18072646208112741, 0.2754934779749358, 0.11556521996027315, -0.083728168626559, 0.27188595072551175], \"y\": [0.21848497947251544, 0.12943943575273725, 0.1270852267085415, 0.15136794584475052, -0.08086846302471756, 0.008892043190822266, -0.076189985180705, 0.03530494959018041, -0.052631145281312984, 0.007035265420806261, 0.1428076612594121, -0.04034050031324826, -0.17857287437996577, -0.2832434815388432, -0.10857105752097324], \"topics\": [1, 2, 3, 4, 5, 6, 7, 8, 9, 10, 11, 12, 13, 14, 15], \"cluster\": [1, 1, 1, 1, 1, 1, 1, 1, 1, 1, 1, 1, 1, 1, 1], \"Freq\": [12.168965715821697, 11.311299093905504, 11.150013327794563, 9.934601376058465, 8.118642009866404, 7.946901310345364, 7.79489098517516, 7.159172201909852, 5.507202840581469, 4.84167118365073, 4.173290594430721, 3.597932208774193, 2.2870608798473495, 2.1323094479538787, 1.8760468238846337]}, \"tinfo\": {\"Term\": [\"new\", \"play\", \"year\", \"people\", \"look\", \"music\", \"love\", \"meet\", \"move\", \"work\", \"go\", \"watch\", \"relationship\", \"life\", \"enjoy\", \"movie\", \"write\", \"read\", \"woman\", \"know\", \"art\", \"travel\", \"man\", \"live\", \"sport\", \"say\", \"want\", \"profile\", \"get\", \"thing\", \"hiking\", \"skiing\", \"biking\", \"kayak\", \"dining\", \"scuba_dive\", \"original\", \"mountain_bike\", \"scuba_diving\", \"makeup\", \"raft\", \"kayaking\", \"casually\", \"graduation\", \"art_gallerie\", \"disneyland\", \"golfing\", \"weekend_getaway\", \"spunky\", \"exhaust\", \"hammock\", \"unwind\", \"bliss\", \"snorkel\", \"moved\", \"vulnerability\", \"avid_reader\", \"water_rafte\", \"paddle\", \"indoor_rock\", \"ski\", \"camping\", \"hike\", \"museum\", \"restaurant\", \"dine\", \"outdoor\", \"outdoors\", \"wine\", \"trail\", \"camp\", \"swimming\", \"backpack\", \"sailing\", \"golden_gate\", \"snowboard\", \"dinner_partie\", \"tahoe\", \"beach\", \"cycling\", \"bike\", \"outdoor_activitie\", \"cooking\", \"weekend\", \"food\", \"park\", \"cook\", \"travel\", \"enjoy\", \"dinner\", \"activity\", \"explore\", \"trip\", \"active\", \"love\", \"run\", \"new\", \"adventure\", \"movie\", \"eat\", \"go\", \"city\", \"friend\", \"good\", \"place\", \"try\", \"walk\", \"also\", \"thing\", \"music\", \"time\", \"fun\", \"great\", \"live\", \"day\", \"spend\", \"m\", \"warrior\", \"goin\", \"randomness\", \"contrary\", \"gem\", \"hectic\", \"upfront\", \"approachable\", \"ect\", \"marine\", \"tale\", \"getter\", \"fullest\", \"wear_glasse\", \"custom\", \"descent\", \"react\", \"sence\", \"out\", \"re\", \"giants_niner\", \"envision\", \"home_cooked\", \"holistic\", \"actions_speak\", \"hearty\", \"bagel\", \"eccentricity\", \"someone\", \"ve\", \"alot\", \"s\", \"lol\", \"goal_oriente\", \"drama\", \"easy\", \"comedy_club\", \"outgoing\", \"laid_back\", \"loyal\", \"guy\", \"earth\", \"person\", \"honest\", \"fun\", \"simple\", \"hard\", \"straight_forward\", \"laugh\", \"trustworthy\", \"girl\", \"shy\", \"family\", \"chill\", \"nice\", \"treat\", \"care\", \"good\", \"life\", \"smile\", \"friend\", \"love\", \"funny\", \"go\", \"time\", \"always\", \"look\", \"know\", \"enjoy\", \"work\", \"pretty\", \"make\", \"get\", \"people\", \"thing\", \"try\", \"want\", \"take\", \"say\", \"intellectually\", \"intuitive\", \"positive_outlook\", \"personal_growth\", \"positive_attitude\", \"savor\", \"charismatic\", \"vivacious\", \"global\", \"restless\", \"continually\", \"cultivate\", \"superficial\", \"ego\", \"engaged\", \"sporty\", \"ethical\", \"dedication\", \"assumption\", \"hedonist\", \"courageous\", \"mindful\", \"sensuality\", \"harmony\", \"unpretentious\", \"crucial\", \"tenacious\", \"hot_spring\", \"mindfulness\", \"unfamiliar\", \"authenticity\", \"spirituality\", \"spiritual\", \"playful\", \"integrity\", \"curiosity\", \"thrive\", \"independence\", \"value\", \"joy\", \"reflective\", \"compassionate\", \"inspire\", \"authentic\", \"inquisitive\", \"curious\", \"creativity\", \"passionate\", \"grateful\", \"meditation\", \"kindness\", \"beauty\", \"ground\", \"thoughtful\", \"compassion\", \"creative\", \"nature\", \"deep\", \"life\", \"laughter\", \"share\", \"strive\", \"appreciate\", \"experience\", \"connect\", \"seek\", \"other\", \"passion\", \"important\", \"world\", \"strong\", \"love\", \"sense\", \"learn\", \"challenge\", \"people\", \"live\", \"humor\", \"open\", \"enjoy\", \"good\", \"well\", \"heart\", \"friend\", \"travel\", \"great\", \"also\", \"thing\", \"adventure\", \"find\", \"feel\", \"make\", \"time\", \"ago\", \"socal\", \"southern_california\", \"los_angele\", \"east\", \"norcal\", \"pen\", \"boarding\", \"palo_alto\", \"portland\", \"recent_transplant\", \"unhealthy\", \"washington_dc\", \"soma\", \"six_month\", \"pup\", \"hometown\", \"ca\", \"stint\", \"sonoma_county\", \"migrate\", \"seasonal\", \"raman\", \"upstate_ny\", \"legit\", \"upscale\", \"fiji\", \"pediatric\", \"grader\", \"definitly\", \"east_coast\", \"move\", \"originally\", \"relocate\", \"year\", \"west_coast\", \"month\", \"californian\", \"bear\", \"sf\", \"raise\", \"bay_area\", \"small_town\", \"bay\", \"back\", \"transplant\", \"grow\", \"last\", \"city\", \"college\", \"live\", \"recently\", \"school\", \"country\", \"job\", \"graduate\", \"couple\", \"spend\", \"work\", \"past\", \"travel\", \"summer\", \"still\", \"place\", \"time\", \"go\", \"start\", \"life\", \"love\", \"home\", \"get\", \"family\", \"new\", \"friend\", \"optimist\", \"image\", \"dumb\", \"fucking\", \"bitch\", \"asshole\", \"genius\", \"ugly\", \"laundry\", \"loudly\", \"nut\", \"philly\", \"neurotic\", \"wash\", \"credit\", \"jerk\", \"banana\", \"shame\", \"harm\", \"accuse\", \"sweater\", \"log\", \"fair_warne\", \"pause\", \"stir\", \"mediocre\", \"functional\", \"procrastinate\", \"self_deprecate\", \"immature\", \"stupid\", \"talker\", \"shit\", \"weird\", \"hilarious\", \"offend\", \"joke\", \"ridiculous\", \"think\", \"probably\", \"sarcastic\", \"cynical\", \"sometimes\", \"seriously\", \"pretty\", \"damn\", \"trouble\", \"bad\", \"really\", \"bit\", \"tend\", \"totally\", \"humor\", \"funny\", \"say\", \"tell\", \"lot\", \"sense\", \"mean\", \"silly\", \"thing\", \"little\", \"get\", \"people\", \"make\", \"usually\", \"kind\", \"laugh\", \"way\", \"much\", \"good\", \"know\", \"well\", \"also\", \"take\", \"try\", \"talk\", \"even\", \"time\", \"shoe\", \"cheese\", \"shirt\", \"punk\", \"truck\", \"chicken\", \"commute\", \"heat\", \"russian\", \"item\", \"spelling\", \"teenager\", \"airplane\", \"wrestle\", \"iphone\", \"muni\", \"rose\", \"nail\", \"trek\", \"los_angeles\", \"itch\", \"obsessed\", \"clown\", \"caffeine\", \"yellow\", \"newspaper\", \"sparkle\", \"skirt\", \"parking\", \"bathroom\", \"egg\", \"vegetable\", \"random_fact\", \"smell\", \"boot\", \"sand\", \"meat\", \"car\", \"wear\", \"drag\", \"wake\", \"breakfast\", \"buy\", \"morning\", \"bicycle\", \"sleep\", \"heel\", \"coffee\", \"ride\", \"whiskey\", \"drink\", \"dress\", \"tea\", \"dog\", \"eat\", \"beer\", \"tree\", \"smoke\", \"house\", \"day\", \"cat\", \"water\", \"rock\", \"get\", \"drive\", \"bike\", \"make\", \"walk\", \"run\", \"night\", \"food\", \"good\", \"long\", \"thing\", \"favorite\", \"love\", \"really\", \"go\", \"time\", \"work\", \"think\", \"still\", \"lot\", \"live\", \"well\", \"behavior\", \"delight\", \"task\", \"blah_blah\", \"insight\", \"logic\", \"creation\", \"object\", \"courage\", \"animate\", \"acquire\", \"spontaneously\", \"wanderlust\", \"perfection\", \"endlessly\", \"joyful\", \"humility\", \"slight\", \"fine_dine\", \"failure\", \"blah\", \"acknowledge\", \"contrast\", \"carefully\", \"korean\", \"ping_pong\", \"fuzzy\", \"notion\", \"astronomy\", \"journalism\", \"buddhist\", \"privilege\", \"down\", \"faith\", \"exist\", \"human\", \"society\", \"existence\", \"understand\", \"action\", \"believe\", \"control\", \"universe\", \"force\", \"regardless\", \"remain\", \"result\", \"standard\", \"accept\", \"stimulate\", \"however\", \"change\", \"less\", \"choose\", \"become\", \"way\", \"matter\", \"mistake\", \"truth\", \"self\", \"many\", \"mind\", \"other\", \"power\", \"find\", \"give\", \"word\", \"feel\", \"even\", \"well\", \"world\", \"come\", \"mean\", \"think\", \"often\", \"need\", \"say\", \"make\", \"rather\", \"life\", \"learn\", \"thing\", \"time\", \"take\", \"see\", \"people\", \"much\", \"know\", \"person\", \"try\", \"weed\", \"uncle\", \"cupcake\", \"bare\", \"bro\", \"sonoma\", \"complicate\", \"cynicism\", \"linguistic\", \"contradict\", \"unnecessary\", \"foreign_language\", \"remark\", \"cult\", \"flute\", \"dating_site\", \"nuts\", \"passive\", \"dot\", \"draw_paint\", \"accounting\", \"psychic\", \"pronoun\", \"first_impression\", \"qualify\", \"frolic\", \"state_university\", \"lightning\", \"bs\", \"solitary\", \"message\", \"online_date\", \"site\", \"meet\", \"send\", \"meeting\", \"new\", \"people\", \"sociable\", \"chat\", \"interesting\", \"shot\", \"online\", \"website\", \"date\", \"okcupid\", \"interested\", \"want\", \"try\", \"know\", \"thing\", \"look\", \"cool\", \"really\", \"see\", \"get\", \"friend\", \"maybe\", \"let\", \"find\", \"learn\", \"go\", \"talk\", \"fun\", \"time\", \"person\", \"make\", \"think\", \"lot\", \"always\", \"love\", \"peaceful\", \"ignore\", \"justice\", \"lonely\", \"crush\", \"thick\", \"blind\", \"birth\", \"trash\", \"piss\", \"represent\", \"abstract\", \"extent\", \"punk_rock\", \"frankly\", \"melt\", \"dollar\", \"essence\", \"bitter\", \"naughty\", \"sheet\", \"mushroom\", \"stoke\", \"angel\", \"crossword_puzzle\", \"rabbit\", \"spur\", \"potato\", \"poetic\", \"onion\", \"bunny\", \"breath\", \"shadow\", \"eye\", \"arm\", \"sky\", \"impression\", \"shower\", \"tear\", \"bus\", \"forget\", \"kiss\", \"dream\", \"face\", \"cry\", \"wait\", \"never\", \"hold\", \"lie\", \"baby\", \"light\", \"door\", \"want\", \"heart\", \"let\", \"girl\", \"know\", \"black\", \"get\", \"sit\", \"day\", \"tell\", \"first\", \"man\", \"see\", \"smile\", \"give\", \"ever\", \"soul\", \"stop\", \"remember\", \"say\", \"come\", \"make\", \"take\", \"feel\", \"end\", \"old\", \"life\", \"go\", \"back\", \"need\", \"way\", \"world\", \"sex\", \"male\", \"poly\", \"sexual\", \"polyamorous\", \"version\", \"hoping\", \"tender\", \"employ\", \"sexually\", \"financially\", \"dating\", \"polyamory\", \"non_monogamous\", \"connected\", \"soulmate\", \"knife\", \"juggle\", \"emotionally_available\", \"colleague\", \"secondary\", \"cupid\", \"collaborate\", \"eachother\", \"answering_question\", \"tag\", \"whisper\", \"arie\", \"traveling\", \"acceptable\", \"foundation\", \"marriage\", \"masculine\", \"woman\", \"relationship\", \"female\", \"queer\", \"man\", \"married\", \"mutual\", \"gender\", \"attractive\", \"partner\", \"marry\", \"date\", \"single\", \"chemistry\", \"sexuality\", \"feminine\", \"look\", \"friendship\", \"casual\", \"attract\", \"sexy\", \"romance\", \"match\", \"educate\", \"romantic\", \"want\", \"interested\", \"open\", \"guy\", \"age\", \"together\", \"ready\", \"meet\", \"need\", \"share\", \"right\", \"old\", \"young\", \"know\", \"find\", \"well\", \"year\", \"friend\", \"also\", \"fun\", \"care\", \"great\", \"love\", \"good\", \"football\", \"soccer\", \"baseball\", \"guitar\", \"basketball\", \"hockey\", \"instrument\", \"softball\", \"er\", \"impressed\", \"raider\", \"grad\", \"piano\", \"flick\", \"rugby\", \"coastal\", \"abuse\", \"simpson\", \"hacker\", \"difficulty\", \"goof_ball\", \"squash\", \"pensive\", \"graphic_novel\", \"crisp\", \"taco\", \"psychologist\", \"pencil\", \"lake_tahoe\", \"coaster\", \"bass\", \"sport\", \"play\", \"giant\", \"drum\", \"band\", \"tv\", \"watch\", \"team\", \"game\", \"fan\", \"video_game\", \"movie\", \"music\", \"tennis\", \"shark\", \"listen\", \"golf\", \"board_game\", \"huge\", \"show\", \"love\", \"go\", \"concert\", \"also\", \"hang\", \"enjoy\", \"rock\", \"big\", \"favorite\", \"read\", \"work\", \"dance\", \"friend\", \"time\", \"produce\", \"graphic_design\", \"production\", \"management\", \"myers_brigg\", \"software\", \"article\", \"designer\", \"government\", \"anthropology\", \"author\", \"replace\", \"san_fran\", \"social_butterfly\", \"datum\", \"improv\", \"mentor\", \"proof\", \"infj\", \"entp\", \"killer\", \"political_science\", \"specialize\", \"analysis\", \"bar_scene\", \"youtube\", \"fund\", \"filmmaker\", \"seafood\", \"violence\", \"economic\", \"program\", \"artist\", \"photographer\", \"design\", \"psychology\", \"com\", \"literature\", \"study\", \"student\", \"film\", \"engineering\", \"technology\", \"degree\", \"art\", \"medium\", \"marketing\", \"musician\", \"teacher\", \"writer\", \"tech\", \"school\", \"currently\", \"project\", \"work\", \"history\", \"major\", \"teach\", \"law\", \"science\", \"business\", \"graduate\", \"photography\", \"music\", \"creative\", \"write\", \"high\", \"college\", \"company\", \"year\", \"also\", \"job\", \"make\", \"geeky\", \"comic_strip\", \"comic_book\", \"annoying\", \"scratch\", \"hmm\", \"femme\", \"aka\", \"gamer\", \"package\", \"amaze\", \"star_war\", \"mildly\", \"senior\", \"partly\", \"screen_name\", \"low_key\", \"leisure\", \"initial\", \"opinionated\", \"slim\", \"genderqueer\", \"scar\", \"laptop\", \"insanely\", \"gossip\", \"audio\", \"indecisive\", \"reddit\", \"rewrite\", \"geek\", \"amuse\", \"nerd\", \"nerdy\", \"topic\", \"debate\", \"pun\", \"computer\", \"politic\", \"math\", \"discussion\", \"discuss\", \"game\", \"science\", \"half\", \"video_game\", \"bit\", \"read\", \"also\", \"shy\", \"video\", \"conversation\", \"book\", \"tend\", \"side\", \"fairly\", \"intellectual\", \"probably\", \"quite\", \"play\", \"movie\", \"enjoy\", \"good\", \"big\", \"rather\", \"asian\", \"fat\", \"self_summarie\", \"info\", \"nutshell\", \"pie\", \"gather\", \"hi\", \"interview\", \"summary\", \"junk\", \"exact\", \"beard\", \"barefoot\", \"brown_hair\", \"sewing\", \"introduction\", \"muppet\", \"panda\", \"testing\", \"ba\", \"desperately\", \"uptight\", \"cherry\", \"sunlight\", \"answer\", \"narcissistic\", \"doom\", \"bilingual\", \"apparent\", \"self_summary\", \"paragraph\", \"page\", \"journal\", \"question\", \"text\", \"poem\", \"summarize\", \"profile\", \"write\", \"section\", \"ramble\", \"update\", \"ask\", \"fill\", \"word\", \"box\", \"read\", \"hate\", \"okcupid\", \"sum\", \"chinese\", \"book\", \"writing\", \"picture\", \"say\", \"thank\", \"soon\", \"short\", \"know\", \"self\", \"talk\", \"guess\", \"come\", \"part\", \"sure\", \"think\", \"well\", \"downtown\", \"vintage\", \"costume\", \"exception\", \"anime\", \"photograph\", \"skateboard\", \"impact\", \"british\", \"sandwich\", \"jack\", \"muse\", \"station\", \"non_fiction\", \"audience\", \"wet\", \"physical_activity\", \"evolution\", \"sketch\", \"butt\", \"conclusion\", \"hail\", \"deck\", \"fiercely\", \"snake\", \"tank\", \"awesomeness\", \"halloween\", \"choir\", \"meaningful_conversation\", \"tumblr\", \"antique\", \"flavor\", \"intellect\", \"fruit\", \"obsession\", \"vegan\", \"animal\", \"cat\", \"fiction\", \"craft\", \"project\", \"knit\", \"collect\", \"art\", \"cheap\", \"pet\", \"time\", \"book\", \"read\", \"spend\", \"mostly\", \"thing\", \"design\", \"music\", \"make\", \"work\", \"also\"], \"Freq\": [20610.0, 10308.0, 17018.0, 27089.0, 17798.0, 11549.0, 50972.0, 10815.0, 10071.0, 19942.0, 29183.0, 6471.0, 5886.0, 28447.0, 20382.0, 6961.0, 5145.0, 6878.0, 5025.0, 17252.0, 5502.0, 12721.0, 5320.0, 19114.0, 4168.0, 11265.0, 13579.0, 3456.0, 24898.0, 25865.0, 2851.9978259854397, 754.4707020648059, 392.7101312636303, 290.0700427680447, 236.203325887107, 211.8039792394367, 206.84656090042375, 191.8316761582777, 151.19546478025228, 117.83240665021866, 98.20012069965323, 97.13291358113048, 87.33600254948726, 81.35371915629507, 77.99807876873692, 74.29021907052397, 73.2198876126331, 72.44508777886767, 69.43690299266615, 68.85412741788447, 67.23393493715976, 64.96951094463486, 61.45165013424552, 58.5278406757469, 59.243191778890214, 54.785508797093, 54.54058874601648, 54.39941674320159, 54.00958728916489, 53.314212884975575, 621.7625709276687, 1707.808801908668, 3299.3921793233917, 1087.268864900704, 1881.5495358987787, 181.9970914065794, 780.0187883731721, 2507.168413515364, 2288.396939507862, 468.5904165541695, 799.1725871989396, 719.1660305003616, 701.4605446193539, 290.24164529136215, 222.89681901258894, 838.4049166443821, 183.73827483757262, 429.69373561363443, 1901.1606508171724, 348.5236894661807, 2311.1928461281927, 333.7598780888376, 1124.0884777634096, 1472.8068934971845, 3695.674665688716, 1014.1827925615597, 2551.1227822909123, 6411.079862134733, 9300.118983759905, 1093.4460471267464, 1297.0907051177635, 2976.3497298349107, 1364.2853632944655, 1938.6522872802432, 13774.679247198883, 2273.2972253189187, 6757.767602597342, 2387.3649665134308, 2787.0336554813525, 2006.4164471306035, 6647.232254024235, 2906.247982864759, 4986.62117579144, 5391.902922081821, 2661.217816990281, 3750.4162884165453, 1836.4672079522852, 3798.268960814842, 4363.341919748188, 2925.5497155266535, 4076.544132019624, 2855.0838013724783, 2458.4217441034557, 2892.6270257646506, 2157.7244244576355, 2039.0904976061486, 4533.442928603723, 182.56679969998825, 82.708801864126, 64.29306470382973, 60.65905711803675, 59.40531017020663, 55.072650929537986, 54.429967218521696, 53.209187284911486, 50.81384033339908, 50.30759194038736, 49.21839724804182, 48.80852144166962, 45.93661329445773, 45.41280922767641, 42.96291263150794, 40.99879617586049, 39.33005741381765, 38.67056938991923, 36.4225313836368, 36.1998795143593, 35.4233649216731, 35.256556472961826, 33.7955500012259, 32.41830338392859, 31.841629681666568, 30.68241912954311, 30.488660885404563, 27.673400283753637, 27.181134379167453, 301.4174532238665, 413.4907133511626, 699.9714498224064, 887.3176308008217, 163.83231667826132, 947.01951746515, 3280.103269028163, 79.6028701272386, 1353.4306552668527, 1476.8613177240063, 1297.3355710146109, 4618.151861592552, 1435.6545929753597, 5408.811793844962, 2023.3007981786814, 5827.666075785689, 1152.1190223378562, 2666.0831822966893, 137.26864476683693, 3780.911471524308, 233.50371547943212, 2394.1344407696934, 1159.4474418594405, 3097.10485048848, 668.110236214687, 1868.244224705444, 608.4705521011326, 1849.7539255298877, 7050.047100351296, 7585.555816384082, 1103.4621744883696, 5827.967565673479, 11093.007044659005, 1639.62682013366, 6644.398939982919, 5749.860612861908, 2904.100533683584, 3958.118366574341, 3624.620302363614, 3857.100883812998, 3772.827976522102, 2547.9431810962433, 3463.068728995883, 3603.068908278961, 3525.9350437969783, 3339.8631033456554, 2795.2243225747316, 2256.65572731788, 2181.274205270621, 1959.0323933080235, 195.62913678669594, 246.22908316454502, 152.0195534237227, 135.7949737767123, 123.0186319089799, 117.55931183319535, 117.30381345667217, 108.84695200821973, 102.90525412658651, 95.77748854201569, 93.64335891975601, 136.8882441896815, 89.62731923082471, 89.29826375215546, 96.24844040587472, 79.24796190427782, 87.68579121192157, 75.54355167615245, 72.48024248152954, 69.32882121568562, 68.06141961323173, 70.36338076140281, 63.72756730624884, 62.15398291380638, 56.87008391899116, 55.04033956052212, 53.826601604769095, 90.03268635410075, 50.66886403159077, 48.38925545456625, 101.84059433893447, 227.58604020265992, 887.9235499687493, 922.907271133142, 462.7384007727841, 498.0440122766959, 266.49652392148647, 147.55047055786736, 1933.2617950942351, 645.7216744568283, 134.22054055245417, 839.1229772463166, 698.1656330573426, 261.0438613501387, 340.25922644831786, 1399.4465787408399, 446.612027638097, 2413.046569539827, 350.2735444847146, 303.0729365160552, 378.8391317843352, 681.7991570251423, 717.3644777771336, 741.2123909952289, 334.83752127260124, 1888.6358771039404, 1576.4662929630565, 1070.6349644591169, 10448.389722377526, 641.1235358674656, 2308.3527851681756, 541.156746083551, 1537.2762273454068, 2114.593574940165, 682.6762832346903, 938.8189730372645, 1739.4080483032221, 1402.0438043717231, 1905.0310469802632, 2676.1519437825814, 1049.7763373081877, 9074.50556397239, 1869.201955902486, 1998.2037536238597, 960.4335598169919, 3872.1356001285126, 3114.9917344409837, 1587.0603797733318, 1632.8211359699228, 3011.6140055463984, 3198.053156496062, 2229.5391172439518, 1269.3308473771012, 2393.002421481696, 1969.1044674810632, 1744.331539134411, 1998.3756503884179, 2240.172217030227, 1390.1493737948529, 1654.7873055589575, 1495.838188779628, 1674.2573104344594, 1512.9375894752752, 3172.427657166531, 248.88807983826382, 229.72342654812442, 182.356977676369, 139.45939887833572, 117.64189618554774, 98.87740214567982, 81.38677705621114, 75.61744132235954, 70.94058749956177, 70.92555780047526, 59.60274083941079, 58.97389214953621, 57.672165981836564, 54.70937630456277, 46.42663667169866, 137.44104449800096, 43.70428139868162, 217.36776822095052, 34.11526294136448, 33.837506390905496, 30.06457181510429, 28.94435873750704, 27.875175825937458, 25.154844779783087, 25.08416552516182, 24.848168849027047, 24.026699772931874, 24.51941920629246, 23.170850352860704, 462.5304401798708, 8892.813640831755, 1940.992077701016, 157.10250089529075, 14049.195744586441, 413.9607107816449, 1718.0553277171148, 91.52802758738865, 3286.1172541101073, 764.4485480386056, 2649.7437492677227, 1257.5914971132645, 284.2779420829432, 518.1111423423037, 3976.7847646463115, 447.8506579948441, 3803.315907607625, 2237.3725830205467, 4339.579367366225, 1779.050488243898, 9075.15528480427, 2108.195055414965, 2565.7888437470783, 1587.3463279022965, 2123.6694615722176, 975.346768570483, 990.1114941362375, 2954.4408759221283, 6030.715236097094, 771.363781545484, 3850.9055552963027, 875.4827745643929, 2040.3767822404304, 2207.8711299865963, 4685.80004541969, 4507.3895241619675, 1597.2313172444615, 4176.531734419548, 4761.455175918397, 1614.789802129707, 3252.2461996809598, 1703.975725089492, 1993.193581510374, 1914.0600432980705, 230.2643244168411, 171.30188532928992, 165.78113141069846, 153.81097234736242, 143.88012793492058, 132.10756584195383, 129.80146801376986, 124.07237987146678, 116.53857273312433, 110.68343699261143, 99.72110730973137, 99.59871352854495, 96.98791886948032, 94.63470922146745, 88.55120082789576, 88.05767497562232, 70.44331993664598, 69.81185188779307, 65.71226312815406, 65.22112467871183, 63.814823223172944, 61.949273930122324, 61.03877666052319, 59.42068106498684, 59.080276201404956, 58.39098331697297, 56.65043334626972, 56.481061052011455, 83.0898532477741, 71.13496386752087, 461.5328122783187, 95.09548402728745, 601.1092042739403, 803.8541907502353, 330.38392803924756, 153.60478315056005, 1179.542977645086, 352.91044317559647, 6240.404775049079, 2094.654793947031, 1216.696879671083, 219.63068678111472, 2545.5496300606205, 1279.752139170653, 3616.7680216606914, 341.62963759067287, 325.8961439436163, 1246.6047111344799, 4715.7159638384155, 2071.329310821568, 1367.4219338989815, 600.9474910588157, 1988.7000627164687, 1620.13800048025, 3337.3372809621565, 1809.2654835832914, 3119.229587524203, 1934.392538041529, 1699.820539076657, 886.9202972170564, 5454.990447490388, 2152.16032348654, 4778.224520208436, 4985.1573263393575, 3817.39090998995, 1173.816991914584, 1876.2525652887248, 2158.7754410491216, 2224.1017629373578, 2414.808373647084, 3475.687784019742, 2671.378799089561, 2043.6883728809798, 2240.971127105038, 1919.8375730773591, 1977.4142641875528, 1455.4895159904136, 1468.8842758913956, 1625.4917937450066, 542.4941869133356, 363.18522430446933, 332.6873978804252, 234.9949650841928, 228.0075391203435, 154.05094053054475, 187.91848188613292, 138.88130398270462, 133.9360676640606, 113.16288887526954, 112.82528392799765, 110.90540786716763, 110.46967684386503, 107.64027217719597, 103.94863443964122, 102.8523436310668, 103.07776551486891, 95.92810886729188, 94.986089047448, 94.55930823260347, 88.41023032342999, 88.10293390181793, 87.61316354832219, 87.12857707964575, 85.27446043642648, 83.43873057002631, 82.63537077227171, 84.4882715157336, 79.90339229787054, 79.59350986506716, 124.37994966640034, 139.3146387938024, 162.63726874414598, 553.0193473615456, 180.20095853332563, 133.15236392384747, 258.2391487409205, 1487.018024786375, 1164.2187270559064, 142.9389927906359, 468.89554921211305, 232.1623101098796, 612.3368450205734, 660.7976034019414, 403.80716591820726, 832.099350092388, 208.45399675649136, 1130.800250102424, 1301.5130505376999, 261.4154347803276, 1577.348202345255, 633.3868337687668, 399.59927493731897, 1378.8326024701478, 1692.625653591777, 834.3039602203075, 396.4245310146773, 361.7527876283319, 570.8682338528444, 2295.7479950655525, 607.6149309344431, 673.2808250945817, 616.5657087894721, 3325.080093683161, 957.2227186641127, 986.1706702891104, 2400.1085882054344, 1023.748592032172, 1009.9256267434358, 863.1559684576195, 1114.9328650303908, 1923.6275326980754, 1016.3951149979462, 1656.2835130499452, 876.8846985495487, 1905.893094995648, 1213.1643743980856, 1430.7411068913927, 1350.2692784913324, 1143.8790135650163, 1007.8091782447547, 857.2519862834446, 891.0272853315842, 885.7833291330314, 854.7269954662797, 185.40510329784848, 177.0300706071275, 141.46889205243153, 140.8094019049042, 140.6349155121958, 136.96938645054348, 130.46482322233518, 120.78679745338941, 115.27737447743368, 113.9746839229626, 113.46617639958733, 109.68476910474064, 107.21551204943252, 105.82958092057922, 105.57234264570607, 105.15736150433868, 104.8093428322989, 103.69078452406754, 99.46479530210725, 97.83278437068057, 97.003601668388, 92.16521710248048, 91.55901185995502, 88.1974842641798, 88.09440511287254, 80.62245236904873, 77.2270712016821, 74.7783450372738, 74.66539313961997, 74.45136921940934, 134.16945929691713, 106.99318036152425, 95.19917546841283, 234.75950333642402, 314.35515517884306, 752.2565898659385, 289.04748402132475, 183.2866108994214, 910.9358837331758, 332.59619724484463, 1918.114719698188, 277.25126837770557, 280.46595559764853, 281.467123053917, 194.12269759751376, 255.74625099096656, 313.0697317493906, 202.18337320155814, 393.2345238567429, 165.09276253899628, 737.2637918854822, 960.087988464761, 662.0183618080314, 421.1182778612108, 783.0827364409655, 2005.6526207306088, 608.0080048447913, 243.99701961340207, 358.00772713411243, 813.5210941058707, 1275.9102209516216, 908.0434773951506, 952.3296039038324, 301.28119555490366, 1862.9604506090511, 1093.6301647583903, 840.2261224817088, 1368.702913043618, 1133.9638416960977, 1734.393626510815, 1337.2229428236813, 1235.8603578369969, 998.4338516301086, 1705.067997754118, 901.8838145172132, 1020.8376438180192, 1372.1763511572028, 1661.9472858289034, 691.2188853570462, 1901.3312603485497, 1014.9771536614287, 1621.2691041489109, 1556.3625862514118, 1175.748329472297, 1075.3149112885014, 1332.8492871033304, 1077.9900590292573, 1128.8232649890706, 945.1825034938327, 949.9390146600141, 108.39644528918959, 94.36886136918312, 88.51380500350915, 79.39603842590783, 75.01230023057258, 71.6677949062768, 70.5803708856129, 68.09280668597815, 67.64310455329253, 60.61850845707235, 60.32472892525053, 54.523527598612446, 53.641964584887276, 53.11505722757327, 51.32594677162491, 51.24706909663258, 51.03603043984506, 48.01473549914307, 45.51807167340673, 44.4527047616961, 43.912513980724654, 43.796617979465765, 43.55572367920041, 43.17875176417894, 42.99077208357551, 39.82401937919117, 39.62567905559829, 35.4437676818191, 122.05317269175139, 35.07362449384276, 2309.019383266564, 663.1756207250406, 1417.72084895764, 7788.774168339427, 707.4774522967163, 806.5244298417489, 10346.59791158437, 10861.399891492201, 112.32106112822376, 453.8556658361334, 1597.8133818837043, 235.98304557742284, 519.0321572373217, 294.2173397867438, 1490.444847030023, 448.03506835990703, 1260.5471056094336, 3715.0839905617677, 3994.5345661139754, 4204.157464280309, 5469.2007149167275, 3904.519675460966, 899.7335831374775, 3168.3539179807067, 2377.447203667938, 4368.390251927599, 3660.4418632561965, 949.8444279285453, 1236.6873837015764, 2243.5689306032023, 1491.7104805220558, 3318.396632201385, 1206.822143671501, 1807.5542599351368, 2291.96068877864, 1557.9375486029821, 1862.033438210999, 1440.9068031303777, 1333.2191241382368, 1307.043149312274, 1628.2834825565878, 162.85487171181026, 156.83954517917076, 139.05743261323204, 133.46447583061095, 127.73547519752461, 125.20415037288468, 123.43730665731584, 122.10437451097224, 103.75224075999142, 103.6457913177487, 102.84616684891333, 98.5908690972825, 98.2145104313812, 96.9856601746225, 96.80414780419086, 96.49499310696159, 92.7445019735869, 90.49561467208645, 85.12415559367324, 77.77263330911669, 76.53672971839829, 73.46748542096877, 71.99164516558606, 71.06887507586907, 65.50199836549412, 64.47147174717125, 64.29393407017729, 63.907007734339835, 63.56303028343536, 62.048836497063114, 64.97882677280211, 197.63560132733363, 102.07190314379089, 840.8332354475377, 193.56926387220378, 216.38300128280238, 138.3416918503697, 202.54667828250032, 204.8693789705092, 179.48295032911068, 309.2022455784891, 322.4223965582598, 778.2635538070957, 629.2813568936875, 254.63997229483584, 524.7177032255854, 1596.6116155406567, 626.522631924533, 448.0833448427285, 275.27735336608606, 443.82447932077304, 320.3362209573007, 2434.261873735832, 1077.3192578784565, 1242.3290628663294, 1278.4420012093287, 2593.163853224032, 377.4887777033084, 2855.445282576647, 524.6191538462043, 1548.8003364540418, 1055.914411595306, 991.7410418559598, 1087.9333252701495, 1520.9441064744306, 682.0178689274022, 967.8279050625692, 718.5951106527375, 452.88852314047216, 512.379071018737, 339.3097550742655, 1262.0887888790642, 972.7688559287028, 1464.4420677038302, 1161.5305410678293, 967.0166894505135, 590.3139392295959, 755.2111539355201, 1341.4653322451468, 1332.3520959424466, 794.3013555110595, 750.3082812079662, 785.7195690146847, 710.4820338172563, 1192.9209380808063, 490.4401329773101, 396.9002837349712, 372.99217175318495, 272.0554923546656, 245.9303289301078, 130.9245471052365, 117.02230677388498, 116.14208175931522, 114.36279759038139, 103.57268565699945, 99.55684377388008, 85.92390417814468, 78.15712699671818, 75.81602029317555, 74.51353039535087, 72.7204422329377, 72.04901165376998, 65.75402926610892, 62.62329077221821, 58.34025488861316, 57.18448843247468, 55.198567153821315, 52.78627592997781, 51.63483857964778, 58.70267114883021, 45.55407827089815, 43.71094882531698, 42.39554388228415, 42.03032707365179, 100.04084358504099, 277.1412015502069, 221.38609134724103, 4277.18452254082, 4484.277612132918, 450.4306093679284, 404.0473121997277, 3850.2747327973107, 169.51840252470643, 211.70584939848422, 293.6706959745394, 501.5540388980538, 1803.6626863227268, 428.75435017898997, 2205.2244702473427, 1114.8332935936746, 550.5973294736132, 150.83733528635776, 190.0740665319918, 5990.035144368271, 710.3580142327572, 303.51544394401697, 527.1453997265993, 571.6065739158529, 329.8876916246331, 507.0698545124129, 477.8411775381721, 712.9668678192469, 2427.0888446733666, 1028.6770631462175, 1319.5052060928288, 1622.0091859031184, 609.0205131178171, 704.7702733078713, 575.9073490151621, 1203.0692293623947, 896.1891378936186, 857.562008345364, 863.0514590548999, 800.0345376518691, 579.1475148730688, 990.2202647593874, 887.2650223353303, 878.4746392876918, 906.0921661790215, 853.1254192955503, 740.2313015663743, 705.9350701775451, 621.2126627009527, 640.2354618909646, 636.1204552986673, 627.4203836136037, 1038.2491891549034, 980.3856026895781, 940.8485717920304, 907.0889489640252, 787.9857738816344, 252.3023128557437, 228.91362291690982, 171.1342969640887, 109.76025034747487, 96.59277296973859, 83.57294148930089, 80.22614333597984, 517.623728337869, 64.89153366854592, 60.09312610488734, 55.20757998963125, 54.690928365718584, 53.913459121110726, 53.55191636166948, 52.95428095374426, 52.63129270501483, 51.411757901569864, 48.23796291422609, 46.68524836430981, 46.561324486205066, 44.681887089212005, 44.419789301777236, 41.730392588982674, 40.62716918794527, 38.168875276635134, 187.37868469064142, 3511.065361795047, 7757.118616094576, 659.6926586618491, 311.74827262449935, 766.9285447893033, 1017.1535363718193, 3951.3121494336747, 560.6110671237495, 2280.208925672778, 1182.4742815806085, 675.921759141789, 3406.564086249954, 5176.237482723389, 613.3272246048876, 224.07607526748578, 1130.8874616560909, 310.7586757019534, 278.5515743086873, 628.5202310112147, 1063.0131830909695, 5460.121477897035, 3754.2714763581516, 536.5542485077684, 2173.102613599744, 869.2940910643302, 1748.3146086875288, 483.93073647554064, 829.3488520591844, 726.4700928563045, 878.3035744128573, 1256.4454180955925, 723.9077659301474, 861.174781469669, 862.5824540624188, 228.52883079439553, 188.5386812645452, 182.20134643160515, 181.73336708943975, 164.3674966831997, 337.6146135156815, 147.9441371876658, 395.0741586285023, 133.21685908413062, 120.435517024589, 109.59347285182784, 103.04483408896036, 98.38484772539839, 96.34455962159993, 95.13080802166407, 93.86597053870996, 88.33177216838875, 82.90432675188939, 81.96212196979259, 80.08696608268482, 77.25857404218931, 72.78114774334095, 70.59893949038806, 68.95943281366625, 67.35188166721763, 298.4130942489092, 63.008921017352414, 59.8654367070086, 59.5886051426504, 58.44547794995695, 215.88810380941064, 405.9785671067311, 1268.0534445553792, 293.15563077075376, 1025.008295864025, 446.8431058756934, 860.796613272302, 256.95550380349545, 1732.2838820640306, 912.211353606455, 993.3097847264304, 233.8920966164807, 586.9932086695694, 816.5775494262589, 2821.436798491317, 364.975851550732, 214.63832570576508, 446.62630237215257, 482.3557431758577, 452.56270539905, 421.3964928356461, 1736.6605114902459, 1149.0478274116294, 535.1723162309829, 3541.0228365015714, 529.5436315339228, 499.9425202831392, 724.2167649235763, 360.75643259210614, 511.57089606906965, 585.1426880794974, 623.5010110012462, 581.390947705105, 1437.7971826171583, 825.1305894268264, 956.1838818791098, 635.813825909532, 688.2495534919293, 553.7883729123477, 726.7613488898271, 644.5544529288193, 495.5148909047434, 506.63343903054397, 590.961556056564, 207.6027356151527, 182.910808617487, 153.18897029114336, 188.70441468050217, 133.8780425366806, 118.75705066514126, 118.5369208642022, 116.03557992762603, 110.73538143083479, 107.18222425433744, 104.2842195216833, 102.42692894903945, 100.86915555932963, 94.8492746326941, 88.02226020641196, 87.52612832906598, 86.82994052220654, 81.90338231998068, 80.82117533117675, 77.69814523098077, 75.96179631975235, 71.60886606313109, 70.99221585090996, 69.93530603681072, 67.8734599832012, 66.61181033625586, 66.03665978067578, 65.30882490100763, 58.787650244373836, 1041.5607038452745, 141.67758823860026, 950.9589921277595, 722.8580889924218, 323.75167146570647, 315.25154765103395, 190.50056187946709, 574.1596983619609, 430.0435580716925, 216.65392133969465, 205.33852581960053, 221.2015135263647, 762.5289203567404, 364.05607244816196, 462.4804762703628, 340.42740516269953, 707.7391591308045, 785.5341232382528, 1027.4357993229844, 391.1672696563714, 218.22588299635086, 462.73370747561177, 442.37134584068355, 389.3165679564913, 360.4888225945822, 261.76153546066746, 242.75802470860788, 265.6519609885043, 253.08025519815013, 280.07338526870944, 267.29075361574337, 259.78222442671523, 261.0717863139285, 235.4728207531131, 229.52601144960565, 367.44760996370655, 190.97866993707078, 185.5932255798672, 162.30520672573837, 118.11027653547245, 117.85532429430413, 104.21187817500298, 103.52635902407427, 103.29284059554048, 611.3924584060546, 98.09697121316822, 88.10120097040004, 79.61715428616397, 68.19508380881473, 63.172454633462564, 60.92398593936553, 63.08481599415759, 56.581057529213545, 55.032303828687056, 53.24373587524437, 50.13448348330609, 49.40150374725802, 48.35315986570484, 47.86257255130388, 46.91784558933864, 943.4299839473689, 45.10544071537024, 44.91539148480944, 44.23246323430908, 44.05338872693864, 570.9855646907117, 374.87798136808783, 368.2909830653032, 97.72522474556503, 1462.9371199050622, 242.20816852180832, 95.03858831833797, 502.0767801186923, 2342.345101244115, 2739.1857954216666, 322.7550995742226, 121.18974312125775, 615.7585139446002, 1697.5567384135366, 718.8872493260313, 1514.6374875877957, 370.1662347807431, 2144.1675730888505, 761.6693685151503, 399.6908883558982, 294.0567331627042, 170.60375257832288, 814.1531430045541, 306.52913684933105, 407.3236428227321, 1240.3860301771301, 340.12630394693304, 337.1310193445987, 432.311406943137, 768.5773329103122, 418.83775710669937, 487.31065928527863, 377.66169062242045, 439.77574651627924, 406.44390799325646, 369.05358627836193, 414.8807964701873, 404.449232955861, 250.5261151271916, 236.75124855761595, 218.25903312912683, 216.28056313668566, 201.8812750204423, 191.01163095913031, 171.8068374546201, 152.94185544622985, 158.61762372166237, 142.69885084680948, 114.64851855939867, 106.71729852515634, 105.10942200376057, 96.37425250722832, 96.23792913210372, 95.46514249886857, 91.07220854781635, 89.57338512572424, 96.82921636951765, 85.4651620395481, 83.85489957904787, 83.49070781785322, 81.30795439138184, 75.83818339356161, 75.45411440729231, 73.61849271733894, 72.96871636708907, 71.99193194042076, 71.90460992967434, 69.64679463494413, 119.22972326866017, 108.67324211600543, 182.34475756926486, 164.8655133105287, 183.25253458817187, 154.6717845144915, 213.87237767041293, 658.4132257762424, 483.6229114913685, 180.74822826060543, 200.3597179673054, 373.6389374860076, 105.88312716754298, 184.75588905424408, 687.0286783820621, 139.0971021439178, 171.46960232466927, 686.4301101098223, 302.1365543232991, 325.1653473183631, 329.9120219452368, 231.95190404497097, 345.10144796078504, 183.07657998041037, 243.07091794827343, 240.5847245950354, 216.97073802862712, 167.92270781799658], \"Total\": [20610.0, 10308.0, 17018.0, 27089.0, 17798.0, 11549.0, 50972.0, 10815.0, 10071.0, 19942.0, 29183.0, 6471.0, 5886.0, 28447.0, 20382.0, 6961.0, 5145.0, 6878.0, 5025.0, 17252.0, 5502.0, 12721.0, 5320.0, 19114.0, 4168.0, 11265.0, 13579.0, 3456.0, 24898.0, 25865.0, 2853.2361635473735, 755.4466248118562, 393.68427547442735, 291.0441865393251, 237.17747058532296, 212.7784278564148, 207.82071194530695, 192.80582009277646, 152.1696084610048, 118.80655378695569, 99.17426472464356, 98.10705701638842, 88.31015648089411, 82.32786632273074, 78.97222384241749, 75.26436667381071, 74.19403137487379, 73.41923127448234, 70.41105032027525, 69.82827744899775, 68.20807941268886, 65.94365649444632, 62.42580021483387, 59.50198517724522, 60.230384417026194, 55.75966113023633, 55.51650981258066, 55.37356040914979, 54.98373150097511, 54.28835718448538, 636.148769090688, 1786.0032820785996, 3503.8435379373436, 1180.5092479993723, 2128.3623186215386, 192.2831261121997, 878.9882635467126, 3039.5094062200506, 2780.837058638874, 525.2411540079423, 927.441575012758, 829.9303602495079, 814.7408811992565, 321.314675855848, 243.06183582531656, 1013.6463803765661, 198.67546331206336, 501.4292532541855, 2571.931516585088, 401.66893222541444, 3300.5966895215997, 387.3364656950451, 1541.9577793035737, 2118.9917685439136, 6104.012496377515, 1392.3968449068857, 4235.154206445165, 12721.145821931834, 20382.117189403496, 1565.9564262492916, 2005.3736224536867, 5851.632384549704, 2181.597565481078, 3562.0922793068958, 50972.68444845842, 4447.195255385059, 20610.325148133546, 5348.406389166947, 6961.78279373832, 4180.518714791662, 29183.51901444542, 7665.905523043382, 21286.838289776566, 25467.79682149149, 7405.884147159031, 15569.324479591443, 3958.4235888008257, 16691.65951816719, 25865.72989245966, 11549.99608103231, 25900.65859406277, 13714.957743831448, 9394.49078690591, 19114.173462734852, 9566.079786485267, 7545.3833710709705, 4534.418810207523, 183.54268395304905, 83.68468408415367, 65.26894991933942, 61.63494443043299, 60.381194504409514, 56.04853415250576, 55.40585051231003, 54.18506914970353, 51.78972413380867, 51.283476682909324, 50.19428480247746, 49.784403353721395, 46.912495053513425, 46.38869444923213, 43.938800343075215, 41.97468032113008, 40.305944330654434, 39.646451301608074, 37.39841634371209, 37.17576183430307, 36.399247634670346, 36.232444278709956, 34.77143370864121, 33.39419564353704, 32.81751471169688, 31.65830728010805, 31.46454694487951, 28.64928981440709, 28.157030154837745, 322.1935191120896, 452.7430039405236, 801.4242405008815, 1089.2634728209894, 184.63956841631716, 1220.2067277573608, 5042.220711894971, 88.32321707482463, 2036.8148279297282, 2290.490909600373, 1996.601114160327, 8502.157829285596, 2326.722331594447, 11283.80132413031, 3728.9987937034325, 13714.957743831448, 2063.1288619359775, 5619.41997190608, 169.8513640328056, 8837.348718045461, 319.82385889793, 5429.73693282288, 2311.1568280546517, 7809.388576811895, 1191.1618267985323, 4268.462913469388, 1099.7543072185654, 4500.8744637083355, 25467.79682149149, 28447.33681798704, 2393.429873495831, 21286.838289776566, 50972.68444845842, 4085.565882354018, 29183.51901444542, 25900.65859406277, 10740.192843924979, 17798.178702094396, 17252.94329445755, 20382.117189403496, 19942.894512929022, 9618.039853005726, 19814.88248194131, 24898.167630535812, 27089.066467283912, 25865.72989245966, 15569.324479591443, 13579.468710641944, 12238.837327626195, 11265.03861666354, 196.60261704614035, 247.59270117172076, 152.99303321222584, 136.76845273413608, 123.9921173077114, 118.53279202551929, 118.27729396649472, 109.82043209602035, 103.87873502575721, 96.7509696550648, 94.61683907918787, 138.31488042545797, 90.60079943701425, 90.27174576749921, 97.37743624715979, 80.22144290253425, 88.80753648009505, 76.51703127011292, 73.45372440422736, 70.30230122223502, 69.03490354943992, 71.41980608433113, 64.70152659238937, 63.12746202660885, 57.843564443358844, 56.013820593558876, 54.80008152476058, 91.690083930112, 51.64234374708987, 49.362736423761206, 104.01146060431464, 234.85305504513127, 961.7576953068202, 1040.7586649658247, 515.7302648799509, 563.0852425351101, 294.23365757445566, 156.9797232221227, 2473.572639098956, 762.2992109020364, 142.1957001044778, 1020.6646774945384, 851.5821559900522, 293.10502567880906, 400.367365204253, 2003.336697238539, 556.1805615827511, 3787.594973303351, 424.43475911080947, 360.28247756170373, 467.5785672498343, 920.14795839707, 980.2301003579599, 1065.9238138445123, 414.459683264759, 3260.834034652547, 2663.582190547842, 1715.4958189917959, 28447.33681798704, 923.7843852967153, 4767.617245015206, 760.4162728780095, 2886.508579406179, 4906.979437770576, 1075.806076599963, 1665.1671688273084, 3930.099688865316, 2931.4876628550005, 4602.516282439656, 8083.9691230066455, 2074.0695475832536, 50972.68444845842, 5508.6838458131515, 7204.544081120926, 1983.6978063848828, 27089.066467283912, 19114.173462734852, 5337.9585437633905, 5654.926444406352, 20382.117189403496, 25467.79682149149, 12732.905511906649, 3856.116145540359, 21286.838289776566, 12721.145821931834, 9394.49078690591, 16691.65951816719, 25865.72989245966, 5348.406389166947, 12969.31702441123, 8065.942268370099, 19814.88248194131, 25900.65859406277, 3173.4214772337723, 249.86172975188896, 230.69707649286872, 183.33062770076972, 140.43530437916186, 118.61554779628952, 99.85105768601932, 82.36042837130533, 76.59109237470193, 71.91423779504028, 71.89920886362331, 60.57639582242477, 59.947542411506696, 58.64581635969735, 55.68302847677035, 47.40029114854848, 140.4850452115428, 44.67793163314934, 223.13841094992935, 35.08891355522838, 34.81132673312114, 31.03822540390808, 29.918012830145948, 28.848826257607413, 26.128498703117106, 26.057818716066457, 25.821821088467534, 25.000353077088626, 25.54079098655579, 24.144504343171718, 485.3450360337988, 10071.725569343886, 2169.2094556913885, 167.20582540616476, 17018.467934625303, 460.70058520179623, 2058.2935397779024, 99.2470525331914, 4148.095335413856, 906.8318750164873, 3383.8372788049164, 1559.6326828021156, 330.28968652927716, 638.1869578155942, 6067.40976028492, 567.6772641252863, 6345.556108547147, 3586.226627616619, 7665.905523043382, 2848.158894906159, 19114.173462734852, 3688.6839036784013, 4763.713508058167, 2827.939137918149, 4158.9652951945745, 1652.7094581791773, 1715.432216912778, 7545.3833710709705, 19942.894512929022, 1274.2299053590996, 12721.145821931834, 1656.948558683495, 6290.586416669225, 7405.884147159031, 25900.65859406277, 29183.51901444542, 4707.158900012368, 28447.33681798704, 50972.68444845842, 4931.07577710502, 24898.167630535812, 7809.388576811895, 20610.325148133546, 21286.838289776566, 231.23611890084482, 172.27368078880303, 166.75292536003124, 154.78276592930987, 144.85192181564761, 133.0793591812864, 130.77326338346387, 125.04417420477823, 117.51036827629142, 111.65523105347172, 100.69290160231245, 100.57050825049494, 97.95971355088757, 95.60650487516271, 89.52299534849276, 89.02946880204753, 71.4151158919732, 70.78364617180932, 66.68406010625304, 66.19291833204845, 64.78661774158411, 62.92107127132167, 62.01057119948319, 60.392586819158424, 60.052072076407235, 59.36277908202179, 57.62223005084976, 57.452855511687424, 84.52765375385293, 72.39011236298225, 484.0131146348158, 98.34890400563185, 739.626356138093, 1040.8828573678022, 396.30361151432237, 174.5907396708124, 1780.791791893785, 464.36103202480103, 13667.473839457947, 3789.335521190287, 2049.04297627886, 273.5903602666682, 5452.053220802806, 2433.3566468353483, 9618.039853005726, 489.52693684555055, 462.39973099961264, 2538.2594519508893, 14487.101450763019, 5134.611945199173, 3103.2850029688866, 1072.5714726281335, 5337.9585437633905, 4085.565882354018, 11265.03861666354, 4967.388371192136, 10602.175898193702, 5508.6838458131515, 4724.374356853298, 1919.1767302331061, 25865.72989245966, 6905.119341093151, 24898.167630535812, 27089.066467283912, 19814.88248194131, 3078.883590598734, 6861.947716124416, 8837.348718045461, 9413.59356634162, 11432.309538201562, 25467.79682149149, 17252.94329445755, 12732.905511906649, 16691.65951816719, 12238.837327626195, 15569.324479591443, 5297.934699224128, 5699.261691945233, 25900.65859406277, 543.4775806349603, 364.1726906322615, 333.7162739960343, 235.96930352011975, 228.9800298728871, 155.0234125098292, 189.11545798567255, 139.85377645561275, 134.90854036711198, 114.13536094285948, 113.79775617993953, 111.87788171987027, 111.44214823873685, 108.61523992605021, 104.92110610509297, 103.82481533659919, 104.06294209753398, 96.90058164843624, 95.95856290734896, 95.53178185730478, 89.3827040569045, 89.07540682373745, 88.58563567232126, 88.10104875593242, 86.24693144383292, 84.41120300477276, 83.60784419760643, 85.50391758790683, 80.87587726967139, 80.56700827887079, 126.71157433403127, 143.67602977209114, 169.05397598631885, 607.9899126476581, 189.07788831150015, 137.54159256691418, 278.69593127762465, 1892.4509836323664, 1499.8605800243256, 152.17161802078888, 577.0699769999447, 262.9562452569813, 828.3030949931456, 912.4881070566745, 515.3347056519297, 1268.3047966484307, 240.65822666080126, 1932.2928672684484, 2478.9962230777887, 332.5149776047758, 3368.7273748735556, 1059.0713951528464, 581.5283194722405, 3004.3601854386225, 4180.518714791662, 1637.5027831848172, 595.6893727035406, 527.6257706038734, 1017.0097977580328, 9566.079786485267, 1269.721084906227, 1546.0325125562417, 1341.882407841754, 24898.167630535812, 3102.111315724847, 3300.5966895215997, 19814.88248194131, 3958.4235888008257, 4447.195255385059, 3276.605567718018, 6104.012496377515, 25467.79682149149, 5712.893935599293, 25865.72989245966, 3940.5741124579963, 50972.68444845842, 14487.101450763019, 29183.51901444542, 25900.65859406277, 19942.894512929022, 13667.473839457947, 6290.586416669225, 10602.175898193702, 19114.173462734852, 12732.905511906649, 186.38200568062032, 178.0003921820081, 142.439213680416, 141.77972324993723, 141.6054582454533, 137.95593598669043, 131.43514447228122, 121.75711945633311, 116.24769604660108, 114.94500624563257, 114.45731423934457, 110.65509135209356, 108.18583382207396, 106.79990216913434, 106.54266436604013, 106.12768304826925, 105.77966441828815, 104.661107325632, 100.43511837533849, 98.80310550603527, 97.97392258840988, 93.13553850066012, 92.5293334463982, 89.16780537692325, 89.06472818869219, 81.59277602283731, 78.19739373009438, 75.74866609985811, 75.63571577456138, 75.42169190783395, 136.5113508410416, 109.33901545180377, 97.35912129505412, 269.64374683571253, 388.3025016861143, 1078.873654170981, 362.4429432857802, 218.40608175751427, 1759.717621478627, 483.7320228599216, 4865.925196806498, 386.85213739136265, 398.16952140163687, 402.5694151724692, 247.57521488265246, 363.51308131085995, 485.07671972618715, 264.48298173833854, 679.080799701549, 199.8614544054078, 1715.0572909415293, 2679.8206365701476, 1601.9809886446842, 823.7275781097637, 2178.5053086009775, 9413.59356634162, 1477.5262277375284, 362.7147458817659, 684.0270611058319, 2689.0507100797554, 5920.371886405645, 3503.978454067564, 3930.099688865316, 530.5199435723318, 12969.31702441123, 5118.101010150329, 3263.3826209040226, 8065.942268370099, 5699.261691945233, 12732.905511906649, 8083.9691230066455, 7140.565579347765, 4724.374356853298, 13667.473839457947, 4002.116788478838, 5245.6553938768175, 11265.03861666354, 19814.88248194131, 2580.7604374598054, 28447.33681798704, 7204.544081120926, 25865.72989245966, 25900.65859406277, 12238.837327626195, 9886.894952885674, 27089.066467283912, 11432.309538201562, 17252.94329445755, 11283.80132413031, 15569.324479591443, 109.36986769232801, 95.34228544108656, 89.487227770162, 80.3694627777152, 75.98572406644766, 72.64121841977436, 71.55379556771723, 69.06623049798307, 68.61652883814706, 61.591930832854615, 61.298152965635914, 55.496950818619354, 54.615387981360364, 54.08848247611897, 52.29937169524169, 52.22049049279202, 52.009454293295576, 48.98815846789687, 46.491494540053814, 45.42612731189019, 44.88593611830949, 44.77004185052457, 44.529147146182446, 44.15217398968862, 43.96419637694825, 40.79744594301601, 40.599100514234216, 36.41719414071982, 125.42537857921114, 36.04705167368818, 2394.945413349245, 692.7885603021987, 1642.666014493219, 10815.234811298686, 982.1971051143252, 1153.9698406760576, 20610.325148133546, 27089.066467283912, 133.19348171531132, 679.5697981990489, 3220.026095898349, 331.2217376644104, 870.1214258806367, 468.24940082431584, 3743.218260934483, 850.0239004008414, 3281.0074929660877, 13579.468710641944, 15569.324479591443, 17252.94329445755, 25865.72989245966, 17798.178702094396, 2388.823085452445, 14487.101450763019, 9886.894952885674, 24898.167630535812, 21286.838289776566, 3056.0760259265435, 5037.236079617283, 12969.31702441123, 7204.544081120926, 29183.51901444542, 5297.934699224128, 13714.957743831448, 25900.65859406277, 11283.80132413031, 19814.88248194131, 13667.473839457947, 10602.175898193702, 10740.192843924979, 50972.68444845842, 163.8259747167734, 157.81064743231028, 140.02853496235593, 134.43557752847647, 128.70728279707868, 126.17525243487108, 124.40840839090217, 123.10453162096958, 104.72334491391173, 104.61689374823912, 103.81799065138357, 99.56197159228618, 99.18561405618188, 97.95676211913526, 97.77525028941794, 97.46761271940213, 93.71560390955585, 91.46689508907757, 86.09526279081358, 78.74373516255342, 77.50783264235783, 74.43858752924234, 72.96274782464715, 72.03997643951061, 66.47310106321277, 65.44257339984544, 65.2650364584578, 64.87811008019487, 64.53413324646178, 63.0199383379517, 66.01286262366291, 217.24324023438092, 108.89198679876172, 1188.6989149733008, 228.12167884274086, 277.5050039550704, 164.6533768520694, 265.8886189727495, 269.93610743224946, 240.88056449124943, 508.36888900946997, 538.7927738100335, 1869.9971373077628, 1429.9657760358532, 399.9411150045626, 1131.2895619299372, 5784.890522876675, 1492.303371593551, 927.0020111634686, 455.21291603285044, 934.4073181091683, 576.7545362092999, 13579.468710641944, 3856.116145540359, 5037.236079617283, 5429.73693282288, 17252.94329445755, 792.8369036835888, 24898.167630535812, 1424.185989910752, 9566.079786485267, 4967.388371192136, 4498.432989975878, 5320.118437248223, 9886.894952885674, 2393.429873495831, 5118.101010150329, 2909.8007341743664, 1191.516562602776, 1544.109372820993, 685.3492379486032, 11265.03861666354, 7140.565579347765, 19814.88248194131, 12238.837327626195, 8065.942268370099, 2432.7917720435, 4788.001293008982, 28447.33681798704, 29183.51901444542, 6067.40976028492, 5245.6553938768175, 9413.59356634162, 8083.9691230066455, 1193.8954480208797, 491.41258326920706, 397.8727335444517, 373.9646215834525, 273.0279422016611, 246.90278223052184, 131.89699756025246, 117.99475780698636, 117.11453251252688, 115.33524723568429, 104.5451354489139, 100.53243763421587, 86.89635381546435, 79.12957694929096, 76.78847232716086, 75.48598109233981, 73.69289396078096, 73.02146401101453, 66.72647911539411, 63.595743351761335, 59.31270511801896, 58.15726754724026, 56.17101983867579, 53.75872729892801, 52.60729031766089, 59.82593736991978, 46.526558693362425, 44.683939833493916, 43.36799671171695, 43.00277888176431, 103.58330250140956, 293.4656771453312, 234.76944006163964, 5025.7722628340725, 5886.970454482793, 517.3545651857365, 467.6872860349718, 5320.118437248223, 187.14674892710002, 239.87132512301713, 350.9183390310333, 639.4457449358426, 2801.7593114954757, 558.2647876258886, 3743.218260934483, 1725.1344587723588, 793.0972439821882, 171.6053124906489, 228.01310128477465, 17798.178702094396, 1225.6757591608705, 418.7081484774491, 865.8426428212074, 969.2411649169082, 495.7421450507364, 928.8854827153981, 859.5513474333053, 1563.5844459427908, 13579.468710641944, 3281.0074929660877, 5654.926444406352, 8502.157829285596, 1457.0202244145278, 2156.380498384124, 1418.4194403565753, 10815.234811298686, 5245.6553938768175, 4767.617245015206, 5807.304050713808, 4788.001293008982, 1766.9142229150636, 17252.94329445755, 12969.31702441123, 12732.905511906649, 17018.467934625303, 21286.838289776566, 16691.65951816719, 13714.957743831448, 4500.8744637083355, 9394.49078690591, 50972.68444845842, 25467.79682149149, 1039.2217297358573, 981.3581567312874, 941.8211122233172, 908.0614904217679, 788.9583141768152, 253.27485301718298, 229.88616370043496, 172.10683731631144, 110.73279073776521, 97.56531683243563, 84.54548178838418, 81.19868619794835, 523.9055745232682, 65.86407521756301, 61.065666585725765, 56.18012249283272, 55.66347756099388, 54.88600183062944, 54.52446020977897, 53.92682758122995, 53.60383558814692, 52.38429861747364, 49.21050716238288, 47.65779081311396, 47.53386937080542, 45.65442949189807, 45.39233181155868, 42.702935582732785, 41.59971229772029, 39.141418687457694, 195.99168603099662, 4168.665474656353, 10308.009416306235, 791.4788609140674, 361.4915956022278, 1006.4204803598561, 1385.2279336479953, 6471.845611376693, 750.5516235518911, 3749.623173607344, 1843.9302616267228, 1017.2484227549205, 6961.78279373832, 11549.99608103231, 1011.0615544771838, 311.40868927419416, 2723.940218471685, 518.8110200827052, 470.14679279788527, 1605.964958781237, 3576.115374533065, 50972.68444845842, 29183.51901444542, 1341.1852758527893, 16691.65951816719, 3848.0713110466027, 20382.117189403496, 1341.882407841754, 5410.265767762729, 3940.5741124579963, 6878.537235054775, 19942.894512929022, 4733.2641008926985, 21286.838289776566, 25900.65859406277, 229.49936156081097, 189.52035944138856, 183.17187645371416, 182.70413171866159, 165.33802834743983, 339.70846526391176, 148.91469584252673, 397.8683645863913, 134.23648740062666, 121.4060486041777, 110.56400441287903, 104.01536682419976, 99.35537917870177, 97.31509189619108, 96.10133874065784, 94.83650180878914, 89.30230448118266, 83.87485863584735, 82.93265274445457, 81.05749709018056, 78.2291060161484, 73.75167794309309, 71.56946962434624, 69.92996370679396, 68.32241305695602, 302.7685875951561, 63.97945158710173, 60.83596632209134, 60.55913782026962, 59.41601041371832, 224.7635992664474, 437.4527054066565, 1473.1037382713637, 320.50479467683334, 1208.9875253970831, 506.0427359203756, 1034.707894393151, 284.3836285179638, 2283.9413773826936, 1200.764479924063, 1399.1248975393873, 273.0316689941015, 805.0826141029075, 1238.6373249099374, 5502.184715886783, 481.10023813293355, 259.9280730643756, 643.3727872783692, 756.6308198135532, 706.3998982528918, 656.0629020080926, 4763.713508058167, 2891.6610768225632, 1004.6923354905116, 19942.894512929022, 1024.5815325187232, 936.5262420326538, 1760.308109380074, 557.4407994807598, 1077.0449979852715, 1437.9756479219216, 1652.7094581791773, 1456.63569456754, 11549.99608103231, 3260.834034652547, 5145.035868814563, 2226.7522242677746, 2848.158894906159, 2356.8019956684207, 17018.467934625303, 16691.65951816719, 4158.9652951945745, 19814.88248194131, 591.9476502730508, 208.57090768741952, 183.87898050355042, 154.15714323073018, 190.0473274177472, 134.84621589747084, 119.72536013121962, 119.50509339152984, 117.00375161723514, 111.7035543140391, 108.15039895126081, 105.25239146227386, 103.39510106788515, 101.83732799143509, 95.8174470729794, 88.99043365405065, 88.49433920266506, 87.79811391707044, 82.8715548207405, 81.78939048800693, 78.66635024997242, 76.93371789044473, 72.57703894289669, 71.96038809075468, 70.90347885225428, 68.84163647010745, 67.57998300281136, 67.00484149034143, 66.27699709120758, 59.75582289431968, 1160.3254063238958, 149.33474881465435, 1241.3043234768736, 981.3421467733571, 473.29102627316286, 494.86292688784437, 262.9378392246899, 1166.3223101590652, 1058.6521245793585, 379.654417079961, 378.6884688601931, 445.0122412878379, 3749.623173607344, 1077.0449979852715, 1698.1518344798164, 1017.2484227549205, 5134.611945199173, 6878.537235054775, 16691.65951816719, 2311.1568280546517, 587.0648875200511, 3881.8293317564894, 3645.843702634715, 3103.2850029688866, 2809.9968292941408, 1076.5426021286335, 1014.7704361871967, 3789.335521190287, 2565.329795843383, 10308.009416306235, 6961.78279373832, 20382.117189403496, 25467.79682149149, 5410.265767762729, 2580.7604374598054, 368.4183184289649, 191.9493804653488, 186.57222789355595, 163.27591635448522, 119.08098542082782, 118.82603310405965, 105.18258714820242, 104.49706802474726, 104.26354925336622, 617.4233822406162, 99.06768070100317, 89.07191070750395, 80.5878631573798, 69.16579397770977, 64.14316369331107, 61.89469487724404, 64.09694511737108, 57.55176682513873, 56.00301315142693, 54.2144453735965, 51.105192768512566, 50.37221247235153, 49.32386884636025, 48.83328185918634, 47.888554489554, 963.3189909338982, 46.0761493370514, 45.88623691847216, 45.203172680296476, 45.024097918431735, 621.4880415974897, 407.90805674400355, 408.0912801928139, 103.54902447719434, 1787.9598893807583, 272.31248771499696, 100.95429719574035, 619.709451894269, 3456.0693268251994, 5145.035868814563, 436.6235860058563, 140.1666558182984, 950.3256563678895, 3496.6736854383335, 1275.2834866450519, 3263.3826209040226, 618.9232931677286, 6878.537235054775, 2159.634512635158, 850.0239004008414, 547.7617219271334, 247.33331214107585, 3645.843702634715, 742.261997385504, 1338.7098445585875, 11265.03861666354, 1101.1074025476187, 1132.9768210028412, 2211.923512729882, 17252.94329445755, 2689.0507100797554, 5297.934699224128, 2345.344908724927, 7140.565579347765, 4332.732241725955, 2518.291447576642, 13667.473839457947, 12732.905511906649, 251.49582317600218, 237.72095624980486, 219.22875417797974, 217.25027224950097, 202.8509829022234, 191.98133852009792, 172.77654558035687, 153.91574534073143, 159.65223447715252, 143.66855838334268, 115.618234810228, 107.68700697564032, 106.07913235731546, 97.34396033156263, 97.20763782819488, 96.4348509293344, 92.04191679324585, 90.5430932884873, 97.89892122929525, 86.43487041053585, 84.82460772401319, 84.46041826398047, 82.277662846424, 76.80789128274276, 76.42382290154175, 74.58820113552406, 73.93842481134477, 72.9616398399629, 72.87431843038995, 70.61650344715018, 121.19968404173478, 113.05947504717014, 199.88298662118618, 188.57869899319837, 228.08317450343807, 189.24375722779993, 293.0848474667377, 1652.5725540602923, 1269.721084906227, 283.4615203572362, 336.50048950570374, 1004.6923354905116, 122.32588329981056, 358.2852135909991, 5502.184715886783, 236.91293673666436, 398.57728756848906, 25900.65859406277, 3645.843702634715, 6878.537235054775, 7545.3833710709705, 2199.0381160636625, 25865.72989245966, 1208.9875253970831, 11549.99608103231, 19814.88248194131, 19942.894512929022, 16691.65951816719], \"Category\": [\"Default\", \"Default\", \"Default\", \"Default\", \"Default\", \"Default\", \"Default\", \"Default\", \"Default\", \"Default\", \"Default\", \"Default\", \"Default\", \"Default\", \"Default\", \"Default\", \"Default\", \"Default\", \"Default\", \"Default\", \"Default\", \"Default\", \"Default\", \"Default\", \"Default\", \"Default\", \"Default\", \"Default\", \"Default\", \"Default\", \"Topic1\", \"Topic1\", \"Topic1\", \"Topic1\", \"Topic1\", \"Topic1\", \"Topic1\", \"Topic1\", \"Topic1\", \"Topic1\", \"Topic1\", \"Topic1\", \"Topic1\", \"Topic1\", \"Topic1\", \"Topic1\", \"Topic1\", \"Topic1\", \"Topic1\", \"Topic1\", \"Topic1\", \"Topic1\", \"Topic1\", \"Topic1\", \"Topic1\", \"Topic1\", \"Topic1\", \"Topic1\", \"Topic1\", \"Topic1\", \"Topic1\", \"Topic1\", \"Topic1\", \"Topic1\", \"Topic1\", \"Topic1\", \"Topic1\", \"Topic1\", \"Topic1\", \"Topic1\", \"Topic1\", \"Topic1\", \"Topic1\", \"Topic1\", \"Topic1\", \"Topic1\", \"Topic1\", \"Topic1\", \"Topic1\", \"Topic1\", \"Topic1\", \"Topic1\", \"Topic1\", \"Topic1\", \"Topic1\", \"Topic1\", \"Topic1\", \"Topic1\", \"Topic1\", \"Topic1\", \"Topic1\", \"Topic1\", \"Topic1\", \"Topic1\", \"Topic1\", \"Topic1\", \"Topic1\", \"Topic1\", \"Topic1\", \"Topic1\", \"Topic1\", \"Topic1\", \"Topic1\", \"Topic1\", \"Topic1\", \"Topic1\", \"Topic1\", \"Topic1\", \"Topic1\", \"Topic1\", \"Topic1\", \"Topic1\", \"Topic1\", \"Topic1\", \"Topic1\", \"Topic1\", \"Topic2\", \"Topic2\", \"Topic2\", \"Topic2\", \"Topic2\", \"Topic2\", \"Topic2\", \"Topic2\", \"Topic2\", \"Topic2\", \"Topic2\", \"Topic2\", \"Topic2\", \"Topic2\", \"Topic2\", \"Topic2\", \"Topic2\", \"Topic2\", \"Topic2\", \"Topic2\", \"Topic2\", \"Topic2\", \"Topic2\", \"Topic2\", \"Topic2\", \"Topic2\", \"Topic2\", \"Topic2\", \"Topic2\", \"Topic2\", \"Topic2\", \"Topic2\", \"Topic2\", \"Topic2\", \"Topic2\", \"Topic2\", \"Topic2\", \"Topic2\", \"Topic2\", \"Topic2\", \"Topic2\", \"Topic2\", \"Topic2\", \"Topic2\", \"Topic2\", \"Topic2\", \"Topic2\", \"Topic2\", \"Topic2\", \"Topic2\", \"Topic2\", \"Topic2\", \"Topic2\", \"Topic2\", \"Topic2\", \"Topic2\", \"Topic2\", \"Topic2\", \"Topic2\", \"Topic2\", \"Topic2\", \"Topic2\", \"Topic2\", \"Topic2\", \"Topic2\", \"Topic2\", \"Topic2\", \"Topic2\", \"Topic2\", \"Topic2\", \"Topic2\", \"Topic2\", \"Topic2\", \"Topic2\", \"Topic2\", \"Topic2\", \"Topic2\", \"Topic2\", \"Topic2\", \"Topic2\", \"Topic3\", \"Topic3\", \"Topic3\", \"Topic3\", \"Topic3\", \"Topic3\", \"Topic3\", \"Topic3\", \"Topic3\", \"Topic3\", \"Topic3\", \"Topic3\", \"Topic3\", \"Topic3\", \"Topic3\", \"Topic3\", \"Topic3\", \"Topic3\", \"Topic3\", \"Topic3\", \"Topic3\", \"Topic3\", \"Topic3\", \"Topic3\", \"Topic3\", \"Topic3\", \"Topic3\", \"Topic3\", \"Topic3\", \"Topic3\", \"Topic3\", \"Topic3\", \"Topic3\", \"Topic3\", \"Topic3\", \"Topic3\", \"Topic3\", \"Topic3\", \"Topic3\", \"Topic3\", \"Topic3\", \"Topic3\", \"Topic3\", \"Topic3\", \"Topic3\", \"Topic3\", \"Topic3\", \"Topic3\", \"Topic3\", \"Topic3\", \"Topic3\", \"Topic3\", \"Topic3\", \"Topic3\", \"Topic3\", \"Topic3\", \"Topic3\", \"Topic3\", \"Topic3\", \"Topic3\", \"Topic3\", \"Topic3\", \"Topic3\", \"Topic3\", \"Topic3\", \"Topic3\", \"Topic3\", \"Topic3\", \"Topic3\", \"Topic3\", \"Topic3\", \"Topic3\", \"Topic3\", \"Topic3\", \"Topic3\", \"Topic3\", \"Topic3\", \"Topic3\", \"Topic3\", \"Topic3\", \"Topic3\", \"Topic3\", \"Topic3\", \"Topic3\", \"Topic3\", \"Topic3\", \"Topic3\", \"Topic3\", \"Topic3\", \"Topic3\", \"Topic3\", \"Topic3\", \"Topic3\", \"Topic4\", \"Topic4\", \"Topic4\", \"Topic4\", \"Topic4\", \"Topic4\", \"Topic4\", \"Topic4\", \"Topic4\", \"Topic4\", \"Topic4\", \"Topic4\", \"Topic4\", \"Topic4\", \"Topic4\", \"Topic4\", \"Topic4\", \"Topic4\", \"Topic4\", \"Topic4\", \"Topic4\", \"Topic4\", \"Topic4\", \"Topic4\", \"Topic4\", \"Topic4\", \"Topic4\", \"Topic4\", \"Topic4\", \"Topic4\", \"Topic4\", \"Topic4\", \"Topic4\", \"Topic4\", \"Topic4\", \"Topic4\", \"Topic4\", \"Topic4\", \"Topic4\", \"Topic4\", \"Topic4\", \"Topic4\", \"Topic4\", \"Topic4\", \"Topic4\", \"Topic4\", \"Topic4\", \"Topic4\", \"Topic4\", \"Topic4\", \"Topic4\", \"Topic4\", \"Topic4\", \"Topic4\", \"Topic4\", \"Topic4\", \"Topic4\", \"Topic4\", \"Topic4\", \"Topic4\", \"Topic4\", \"Topic4\", \"Topic4\", \"Topic4\", \"Topic4\", \"Topic4\", \"Topic4\", \"Topic4\", \"Topic4\", \"Topic4\", \"Topic4\", \"Topic4\", \"Topic4\", \"Topic4\", \"Topic5\", \"Topic5\", \"Topic5\", \"Topic5\", \"Topic5\", \"Topic5\", \"Topic5\", \"Topic5\", \"Topic5\", \"Topic5\", \"Topic5\", \"Topic5\", \"Topic5\", \"Topic5\", \"Topic5\", \"Topic5\", \"Topic5\", \"Topic5\", \"Topic5\", \"Topic5\", \"Topic5\", \"Topic5\", \"Topic5\", \"Topic5\", \"Topic5\", \"Topic5\", \"Topic5\", \"Topic5\", \"Topic5\", \"Topic5\", \"Topic5\", \"Topic5\", \"Topic5\", \"Topic5\", \"Topic5\", \"Topic5\", \"Topic5\", \"Topic5\", \"Topic5\", \"Topic5\", \"Topic5\", \"Topic5\", \"Topic5\", \"Topic5\", \"Topic5\", \"Topic5\", \"Topic5\", \"Topic5\", \"Topic5\", \"Topic5\", \"Topic5\", \"Topic5\", \"Topic5\", \"Topic5\", \"Topic5\", \"Topic5\", \"Topic5\", \"Topic5\", \"Topic5\", \"Topic5\", \"Topic5\", \"Topic5\", \"Topic5\", \"Topic5\", \"Topic5\", \"Topic5\", \"Topic5\", \"Topic5\", \"Topic5\", \"Topic5\", \"Topic5\", \"Topic5\", \"Topic5\", \"Topic5\", \"Topic5\", \"Topic5\", \"Topic5\", \"Topic5\", \"Topic5\", \"Topic6\", \"Topic6\", \"Topic6\", \"Topic6\", \"Topic6\", \"Topic6\", \"Topic6\", \"Topic6\", \"Topic6\", \"Topic6\", \"Topic6\", \"Topic6\", \"Topic6\", \"Topic6\", \"Topic6\", \"Topic6\", \"Topic6\", \"Topic6\", \"Topic6\", \"Topic6\", \"Topic6\", \"Topic6\", \"Topic6\", \"Topic6\", \"Topic6\", \"Topic6\", \"Topic6\", \"Topic6\", \"Topic6\", \"Topic6\", \"Topic6\", \"Topic6\", \"Topic6\", \"Topic6\", \"Topic6\", \"Topic6\", \"Topic6\", \"Topic6\", \"Topic6\", \"Topic6\", \"Topic6\", \"Topic6\", \"Topic6\", \"Topic6\", \"Topic6\", \"Topic6\", \"Topic6\", \"Topic6\", \"Topic6\", \"Topic6\", \"Topic6\", \"Topic6\", \"Topic6\", \"Topic6\", \"Topic6\", \"Topic6\", \"Topic6\", \"Topic6\", \"Topic6\", \"Topic6\", \"Topic6\", \"Topic6\", \"Topic6\", \"Topic6\", \"Topic6\", \"Topic6\", \"Topic6\", \"Topic6\", \"Topic6\", \"Topic6\", \"Topic6\", \"Topic6\", \"Topic6\", \"Topic6\", \"Topic6\", \"Topic6\", \"Topic6\", \"Topic6\", \"Topic6\", \"Topic6\", \"Topic6\", \"Topic6\", \"Topic6\", \"Topic6\", \"Topic6\", \"Topic7\", \"Topic7\", \"Topic7\", \"Topic7\", \"Topic7\", \"Topic7\", \"Topic7\", \"Topic7\", \"Topic7\", \"Topic7\", \"Topic7\", \"Topic7\", \"Topic7\", \"Topic7\", \"Topic7\", \"Topic7\", \"Topic7\", \"Topic7\", \"Topic7\", \"Topic7\", \"Topic7\", \"Topic7\", \"Topic7\", \"Topic7\", \"Topic7\", \"Topic7\", \"Topic7\", \"Topic7\", \"Topic7\", \"Topic7\", \"Topic7\", \"Topic7\", \"Topic7\", \"Topic7\", \"Topic7\", \"Topic7\", \"Topic7\", \"Topic7\", \"Topic7\", \"Topic7\", \"Topic7\", \"Topic7\", \"Topic7\", \"Topic7\", \"Topic7\", \"Topic7\", \"Topic7\", \"Topic7\", \"Topic7\", \"Topic7\", \"Topic7\", \"Topic7\", \"Topic7\", \"Topic7\", \"Topic7\", \"Topic7\", \"Topic7\", \"Topic7\", \"Topic7\", \"Topic7\", \"Topic7\", \"Topic7\", \"Topic7\", \"Topic7\", \"Topic7\", \"Topic7\", \"Topic7\", \"Topic7\", \"Topic7\", \"Topic7\", \"Topic7\", \"Topic7\", \"Topic7\", \"Topic7\", \"Topic7\", \"Topic7\", \"Topic7\", \"Topic7\", \"Topic7\", \"Topic7\", \"Topic7\", \"Topic7\", \"Topic7\", \"Topic7\", \"Topic7\", \"Topic7\", \"Topic7\", \"Topic7\", \"Topic7\", \"Topic7\", \"Topic8\", \"Topic8\", \"Topic8\", \"Topic8\", \"Topic8\", \"Topic8\", \"Topic8\", \"Topic8\", \"Topic8\", \"Topic8\", \"Topic8\", \"Topic8\", \"Topic8\", \"Topic8\", \"Topic8\", \"Topic8\", \"Topic8\", \"Topic8\", \"Topic8\", \"Topic8\", \"Topic8\", \"Topic8\", \"Topic8\", \"Topic8\", \"Topic8\", \"Topic8\", \"Topic8\", \"Topic8\", \"Topic8\", \"Topic8\", \"Topic8\", \"Topic8\", \"Topic8\", \"Topic8\", \"Topic8\", \"Topic8\", \"Topic8\", \"Topic8\", \"Topic8\", \"Topic8\", \"Topic8\", \"Topic8\", \"Topic8\", \"Topic8\", \"Topic8\", \"Topic8\", \"Topic8\", \"Topic8\", \"Topic8\", \"Topic8\", \"Topic8\", \"Topic8\", \"Topic8\", \"Topic8\", \"Topic8\", \"Topic8\", \"Topic8\", \"Topic8\", \"Topic8\", \"Topic8\", \"Topic8\", \"Topic8\", \"Topic8\", \"Topic8\", \"Topic8\", \"Topic8\", \"Topic8\", \"Topic8\", \"Topic8\", \"Topic8\", \"Topic8\", \"Topic9\", \"Topic9\", \"Topic9\", \"Topic9\", \"Topic9\", \"Topic9\", \"Topic9\", \"Topic9\", \"Topic9\", \"Topic9\", \"Topic9\", \"Topic9\", \"Topic9\", \"Topic9\", \"Topic9\", \"Topic9\", \"Topic9\", \"Topic9\", \"Topic9\", \"Topic9\", \"Topic9\", \"Topic9\", \"Topic9\", \"Topic9\", \"Topic9\", \"Topic9\", \"Topic9\", \"Topic9\", \"Topic9\", \"Topic9\", \"Topic9\", \"Topic9\", \"Topic9\", \"Topic9\", \"Topic9\", \"Topic9\", \"Topic9\", \"Topic9\", \"Topic9\", \"Topic9\", \"Topic9\", \"Topic9\", \"Topic9\", \"Topic9\", \"Topic9\", \"Topic9\", \"Topic9\", \"Topic9\", \"Topic9\", \"Topic9\", \"Topic9\", \"Topic9\", \"Topic9\", \"Topic9\", \"Topic9\", \"Topic9\", \"Topic9\", \"Topic9\", \"Topic9\", \"Topic9\", \"Topic9\", \"Topic9\", \"Topic9\", \"Topic9\", \"Topic9\", \"Topic9\", \"Topic9\", \"Topic9\", \"Topic9\", \"Topic9\", \"Topic9\", \"Topic9\", \"Topic9\", \"Topic9\", \"Topic9\", \"Topic9\", \"Topic9\", \"Topic9\", \"Topic9\", \"Topic9\", \"Topic9\", \"Topic9\", \"Topic9\", \"Topic9\", \"Topic10\", \"Topic10\", \"Topic10\", \"Topic10\", \"Topic10\", \"Topic10\", \"Topic10\", \"Topic10\", \"Topic10\", \"Topic10\", \"Topic10\", \"Topic10\", \"Topic10\", \"Topic10\", \"Topic10\", \"Topic10\", \"Topic10\", \"Topic10\", \"Topic10\", \"Topic10\", \"Topic10\", \"Topic10\", \"Topic10\", \"Topic10\", \"Topic10\", \"Topic10\", \"Topic10\", \"Topic10\", \"Topic10\", \"Topic10\", \"Topic10\", \"Topic10\", \"Topic10\", \"Topic10\", \"Topic10\", \"Topic10\", \"Topic10\", \"Topic10\", \"Topic10\", \"Topic10\", \"Topic10\", \"Topic10\", \"Topic10\", \"Topic10\", \"Topic10\", \"Topic10\", \"Topic10\", \"Topic10\", \"Topic10\", \"Topic10\", \"Topic10\", \"Topic10\", \"Topic10\", \"Topic10\", \"Topic10\", \"Topic10\", \"Topic10\", \"Topic10\", \"Topic10\", \"Topic10\", \"Topic10\", \"Topic10\", \"Topic10\", \"Topic10\", \"Topic10\", \"Topic10\", \"Topic10\", \"Topic10\", \"Topic10\", \"Topic10\", \"Topic10\", \"Topic10\", \"Topic10\", \"Topic10\", \"Topic10\", \"Topic10\", \"Topic10\", \"Topic10\", \"Topic10\", \"Topic10\", \"Topic10\", \"Topic10\", \"Topic11\", \"Topic11\", \"Topic11\", \"Topic11\", \"Topic11\", \"Topic11\", \"Topic11\", \"Topic11\", \"Topic11\", \"Topic11\", \"Topic11\", \"Topic11\", \"Topic11\", \"Topic11\", \"Topic11\", \"Topic11\", \"Topic11\", \"Topic11\", \"Topic11\", \"Topic11\", \"Topic11\", \"Topic11\", \"Topic11\", \"Topic11\", \"Topic11\", \"Topic11\", \"Topic11\", \"Topic11\", \"Topic11\", \"Topic11\", \"Topic11\", \"Topic11\", \"Topic11\", \"Topic11\", \"Topic11\", \"Topic11\", \"Topic11\", \"Topic11\", \"Topic11\", \"Topic11\", \"Topic11\", \"Topic11\", \"Topic11\", \"Topic11\", \"Topic11\", \"Topic11\", \"Topic11\", \"Topic11\", \"Topic11\", \"Topic11\", \"Topic11\", \"Topic11\", \"Topic11\", \"Topic11\", \"Topic11\", \"Topic11\", \"Topic11\", \"Topic11\", \"Topic11\", \"Topic11\", \"Topic11\", \"Topic11\", \"Topic11\", \"Topic11\", \"Topic11\", \"Topic12\", \"Topic12\", \"Topic12\", \"Topic12\", \"Topic12\", \"Topic12\", \"Topic12\", \"Topic12\", \"Topic12\", \"Topic12\", \"Topic12\", \"Topic12\", \"Topic12\", \"Topic12\", \"Topic12\", \"Topic12\", \"Topic12\", \"Topic12\", \"Topic12\", \"Topic12\", \"Topic12\", \"Topic12\", \"Topic12\", \"Topic12\", \"Topic12\", \"Topic12\", \"Topic12\", \"Topic12\", \"Topic12\", \"Topic12\", \"Topic12\", \"Topic12\", \"Topic12\", \"Topic12\", \"Topic12\", \"Topic12\", \"Topic12\", \"Topic12\", \"Topic12\", \"Topic12\", \"Topic12\", \"Topic12\", \"Topic12\", \"Topic12\", \"Topic12\", \"Topic12\", \"Topic12\", \"Topic12\", \"Topic12\", \"Topic12\", \"Topic12\", \"Topic12\", \"Topic12\", \"Topic12\", \"Topic12\", \"Topic12\", \"Topic12\", \"Topic12\", \"Topic12\", \"Topic12\", \"Topic12\", \"Topic12\", \"Topic12\", \"Topic12\", \"Topic12\", \"Topic12\", \"Topic12\", \"Topic12\", \"Topic12\", \"Topic12\", \"Topic12\", \"Topic12\", \"Topic12\", \"Topic13\", \"Topic13\", \"Topic13\", \"Topic13\", \"Topic13\", \"Topic13\", \"Topic13\", \"Topic13\", \"Topic13\", \"Topic13\", \"Topic13\", \"Topic13\", \"Topic13\", \"Topic13\", \"Topic13\", \"Topic13\", \"Topic13\", \"Topic13\", \"Topic13\", \"Topic13\", \"Topic13\", \"Topic13\", \"Topic13\", \"Topic13\", \"Topic13\", \"Topic13\", \"Topic13\", \"Topic13\", \"Topic13\", \"Topic13\", \"Topic13\", \"Topic13\", \"Topic13\", \"Topic13\", \"Topic13\", \"Topic13\", \"Topic13\", \"Topic13\", \"Topic13\", \"Topic13\", \"Topic13\", \"Topic13\", \"Topic13\", \"Topic13\", \"Topic13\", \"Topic13\", \"Topic13\", \"Topic13\", \"Topic13\", \"Topic13\", \"Topic13\", \"Topic13\", \"Topic13\", \"Topic13\", \"Topic13\", \"Topic13\", \"Topic13\", \"Topic13\", \"Topic13\", \"Topic13\", \"Topic13\", \"Topic13\", \"Topic13\", \"Topic13\", \"Topic13\", \"Topic14\", \"Topic14\", \"Topic14\", \"Topic14\", \"Topic14\", \"Topic14\", \"Topic14\", \"Topic14\", \"Topic14\", \"Topic14\", \"Topic14\", \"Topic14\", \"Topic14\", \"Topic14\", \"Topic14\", \"Topic14\", \"Topic14\", \"Topic14\", \"Topic14\", \"Topic14\", \"Topic14\", \"Topic14\", \"Topic14\", \"Topic14\", \"Topic14\", \"Topic14\", \"Topic14\", \"Topic14\", \"Topic14\", \"Topic14\", \"Topic14\", \"Topic14\", \"Topic14\", \"Topic14\", \"Topic14\", \"Topic14\", \"Topic14\", \"Topic14\", \"Topic14\", \"Topic14\", \"Topic14\", \"Topic14\", \"Topic14\", \"Topic14\", \"Topic14\", \"Topic14\", \"Topic14\", \"Topic14\", \"Topic14\", \"Topic14\", \"Topic14\", \"Topic14\", \"Topic14\", \"Topic14\", \"Topic14\", \"Topic14\", \"Topic14\", \"Topic14\", \"Topic14\", \"Topic14\", \"Topic14\", \"Topic14\", \"Topic14\", \"Topic14\", \"Topic14\", \"Topic14\", \"Topic14\", \"Topic14\", \"Topic15\", \"Topic15\", \"Topic15\", \"Topic15\", \"Topic15\", \"Topic15\", \"Topic15\", \"Topic15\", \"Topic15\", \"Topic15\", \"Topic15\", \"Topic15\", \"Topic15\", \"Topic15\", \"Topic15\", \"Topic15\", \"Topic15\", \"Topic15\", \"Topic15\", \"Topic15\", \"Topic15\", \"Topic15\", \"Topic15\", \"Topic15\", \"Topic15\", \"Topic15\", \"Topic15\", \"Topic15\", \"Topic15\", \"Topic15\", \"Topic15\", \"Topic15\", \"Topic15\", \"Topic15\", \"Topic15\", \"Topic15\", \"Topic15\", \"Topic15\", \"Topic15\", \"Topic15\", \"Topic15\", \"Topic15\", \"Topic15\", \"Topic15\", \"Topic15\", \"Topic15\", \"Topic15\", \"Topic15\", \"Topic15\", \"Topic15\", \"Topic15\", \"Topic15\", \"Topic15\", \"Topic15\", \"Topic15\", \"Topic15\", \"Topic15\", \"Topic15\"], \"logprob\": [30.0, 29.0, 28.0, 27.0, 26.0, 25.0, 24.0, 23.0, 22.0, 21.0, 20.0, 19.0, 18.0, 17.0, 16.0, 15.0, 14.0, 13.0, 12.0, 11.0, 10.0, 9.0, 8.0, 7.0, 6.0, 5.0, 4.0, 3.0, 2.0, 1.0, -4.6952, -6.025, -6.6779, -6.9809, -7.1863, -7.2953, -7.319, -7.3944, -7.6324, -7.8817, -8.064, -8.0749, -8.1812, -8.2522, -8.2943, -8.343, -8.3575, -8.3681, -8.4106, -8.419, -8.4428, -8.4771, -8.5327, -8.5815, -8.5693, -8.6476, -8.652, -8.6546, -8.6618, -8.6748, -6.2184, -5.208, -4.5495, -5.6596, -5.1111, -7.447, -5.9917, -4.8241, -4.9154, -6.5012, -5.9674, -6.0729, -6.0978, -6.9803, -7.2443, -5.9195, -7.4375, -6.5879, -5.1008, -6.7973, -4.9055, -6.8406, -5.6262, -5.3561, -4.4361, -5.7291, -4.8067, -3.8852, -3.5132, -5.6539, -5.4831, -4.6525, -5.4326, -5.0812, -3.1204, -4.922, -3.8325, -4.873, -4.7182, -5.0469, -3.849, -4.6764, -4.1365, -4.0583, -4.7644, -4.4214, -5.1354, -4.4087, -4.27, -4.6697, -4.338, -4.6941, -4.8437, -4.6811, -4.9742, -5.0307, -4.1587, -7.3708, -8.1626, -8.4144, -8.4726, -8.4935, -8.5692, -8.581, -8.6037, -8.6497, -8.6597, -8.6816, -8.69, -8.7506, -8.7621, -8.8176, -8.8643, -8.9059, -8.9228, -8.9827, -8.9888, -9.0105, -9.0152, -9.0576, -9.0992, -9.1171, -9.1542, -9.1605, -9.2574, -9.2754, -6.8694, -6.5533, -6.0269, -5.7897, -7.479, -5.7246, -4.4823, -8.2008, -5.3675, -5.2802, -5.4098, -4.1401, -5.3085, -3.9821, -4.9654, -3.9075, -5.5285, -4.6895, -7.656, -4.3402, -7.1247, -4.7971, -5.5222, -4.5397, -6.0734, -5.0451, -6.1669, -5.0551, -3.7171, -3.6439, -5.5717, -3.9075, -3.2638, -5.1757, -3.7764, -3.921, -4.604, -4.2944, -4.3824, -4.3202, -4.3423, -4.7348, -4.428, -4.3883, -4.41, -4.4642, -4.6422, -4.8563, -4.8902, -4.9977, -7.2873, -7.0573, -7.5395, -7.6524, -7.7512, -7.7966, -7.7988, -7.8736, -7.9297, -8.0015, -8.024, -7.6444, -8.0679, -8.0715, -7.9966, -8.1909, -8.0898, -8.2388, -8.2802, -8.3247, -8.3431, -8.3099, -8.4089, -8.4339, -8.5228, -8.5555, -8.5778, -8.0634, -8.6382, -8.6843, -7.9401, -7.136, -5.7746, -5.736, -6.4264, -6.3528, -6.9782, -7.5694, -4.9966, -6.0932, -7.664, -5.8312, -6.0151, -6.9988, -6.7338, -5.3197, -6.4618, -4.7749, -6.7048, -6.8496, -6.6264, -6.0388, -5.9879, -5.9552, -6.7499, -5.0199, -5.2006, -5.5875, -3.3093, -6.1003, -4.8192, -6.2698, -5.2258, -4.9069, -6.0375, -5.7189, -5.1022, -5.3178, -5.0113, -4.6714, -5.6072, -3.4503, -5.0303, -4.9635, -5.6961, -4.302, -4.5195, -5.1939, -5.1655, -4.5533, -4.4932, -4.854, -5.4173, -4.7832, -4.9782, -5.0994, -4.9634, -4.8492, -5.3264, -5.1521, -5.2531, -5.1404, -5.2417, -4.3859, -6.9311, -7.0112, -7.2421, -7.5103, -7.6805, -7.8542, -8.0489, -8.1224, -8.1863, -8.1865, -8.3604, -8.371, -8.3933, -8.4461, -8.6102, -7.5249, -8.6707, -7.0665, -8.9184, -8.9265, -9.0448, -9.0827, -9.1204, -9.2231, -9.2259, -9.2353, -9.2689, -9.2486, -9.3052, -6.3114, -3.3551, -4.8772, -7.3912, -2.8978, -6.4223, -4.9992, -7.9315, -4.3507, -5.809, -4.5659, -5.3112, -6.7982, -6.1979, -4.1599, -6.3437, -4.2045, -4.7351, -4.0726, -4.9643, -3.3348, -4.7945, -4.5981, -5.0783, -4.7872, -5.5653, -5.5503, -4.457, -3.7435, -5.8, -4.192, -5.6733, -4.8272, -4.7483, -3.9958, -4.0346, -5.0721, -4.1109, -3.9798, -5.0612, -4.361, -5.0074, -4.8506, -4.8911, -6.807, -7.1028, -7.1356, -7.2105, -7.2773, -7.3626, -7.3802, -7.4254, -7.488, -7.5396, -7.6439, -7.6451, -7.6717, -7.6962, -7.7627, -7.7683, -7.9914, -8.0004, -8.061, -8.0685, -8.0903, -8.1199, -8.1347, -8.1616, -8.1674, -8.1791, -8.2094, -8.2123, -7.8263, -7.9817, -6.1117, -7.6914, -5.8475, -5.5568, -6.446, -7.2119, -5.1734, -6.38, -3.5075, -4.5991, -5.1424, -6.8543, -4.4041, -5.0918, -4.0529, -6.4125, -6.4597, -5.1181, -3.7876, -4.6103, -5.0256, -5.8477, -4.651, -4.856, -4.1333, -4.7456, -4.2009, -4.6787, -4.808, -5.4585, -3.642, -4.572, -3.7744, -3.732, -3.9989, -5.1782, -4.7092, -4.569, -4.5391, -4.4569, -4.0927, -4.3559, -4.6237, -4.5316, -4.6863, -4.6567, -4.9632, -4.954, -4.8527, -5.9287, -6.33, -6.4177, -6.7653, -6.7955, -7.1876, -6.9889, -7.2913, -7.3275, -7.496, -7.499, -7.5162, -7.5201, -7.5461, -7.581, -7.5916, -7.5894, -7.6613, -7.6711, -7.6756, -7.7429, -7.7464, -7.7519, -7.7575, -7.779, -7.8008, -7.8104, -7.7883, -7.8441, -7.8479, -7.4015, -7.2881, -7.1333, -5.9095, -7.0308, -7.3334, -6.671, -4.9203, -5.1651, -7.2625, -6.0745, -6.7774, -5.8076, -5.7314, -6.2239, -5.5009, -6.8852, -5.1942, -5.0536, -6.6588, -4.8614, -5.7738, -6.2344, -4.9959, -4.7908, -5.4983, -6.2424, -6.3339, -5.8777, -4.4861, -5.8153, -5.7127, -5.8007, -4.1156, -5.3608, -5.331, -4.4416, -5.2936, -5.3072, -5.4643, -5.2083, -4.6629, -5.3009, -4.8125, -5.4485, -4.6722, -5.1239, -4.9589, -5.0168, -5.1827, -5.3093, -5.4711, -5.4325, -5.4384, -5.4741, -6.983, -7.0292, -7.2535, -7.2581, -7.2594, -7.2858, -7.3345, -7.4115, -7.4582, -7.4696, -7.4741, -7.5079, -7.5307, -7.5437, -7.5462, -7.5501, -7.5534, -7.5641, -7.6058, -7.6223, -7.6308, -7.682, -7.6886, -7.726, -7.7271, -7.8158, -7.8588, -7.891, -7.8925, -7.8954, -7.3065, -7.5328, -7.6496, -6.747, -6.455, -5.5825, -6.539, -6.9945, -5.3911, -6.3986, -4.6465, -6.5806, -6.5691, -6.5655, -6.9371, -6.6614, -6.4591, -6.8964, -6.2312, -7.099, -5.6026, -5.3385, -5.7103, -6.1626, -5.5423, -4.6018, -5.7954, -6.7084, -6.325, -5.5042, -5.0541, -5.3943, -5.3466, -6.4975, -4.6756, -5.2083, -5.4719, -4.9839, -5.1721, -4.7471, -5.0072, -5.086, -5.2994, -4.7642, -5.4011, -5.2772, -4.9814, -4.7898, -5.6671, -4.6552, -5.2829, -4.8146, -4.8555, -5.1359, -5.2252, -5.0105, -5.2227, -5.1766, -5.3542, -5.3492, -7.4347, -7.5733, -7.6373, -7.746, -7.8028, -7.8484, -7.8637, -7.8996, -7.9062, -8.0159, -8.0207, -8.1219, -8.1382, -8.148, -8.1823, -8.1838, -8.188, -8.249, -8.3024, -8.3261, -8.3383, -8.3409, -8.3464, -8.3551, -8.3595, -8.436, -8.441, -8.5525, -7.316, -8.563, -4.3759, -5.6234, -4.8637, -3.16, -5.5588, -5.4277, -2.8761, -2.8275, -7.3991, -6.0027, -4.7441, -6.6567, -5.8685, -6.4362, -4.8137, -6.0156, -4.9812, -3.9003, -3.8278, -3.7767, -3.5136, -3.8506, -5.3184, -4.0595, -4.3467, -3.7383, -3.9151, -5.2642, -5.0003, -4.4047, -4.8128, -4.0132, -5.0247, -4.6208, -4.3833, -4.7694, -4.5911, -4.8475, -4.9251, -4.945, -4.7252, -6.7653, -6.8029, -6.9233, -6.9643, -7.0082, -7.0282, -7.0424, -7.0533, -7.2161, -7.2172, -7.2249, -7.2672, -7.271, -7.2836, -7.2855, -7.2887, -7.3283, -7.3528, -7.414, -7.5044, -7.5204, -7.5613, -7.5816, -7.5945, -7.6761, -7.6919, -7.6947, -7.7007, -7.7061, -7.7302, -7.6841, -6.5717, -7.2325, -5.1238, -6.5925, -6.4811, -6.9284, -6.5472, -6.5358, -6.6681, -6.1241, -6.0823, -5.2011, -5.4136, -6.3183, -5.5953, -4.4825, -5.418, -5.7532, -6.2404, -5.7627, -6.0888, -4.0607, -4.8759, -4.7334, -4.7047, -3.9975, -5.9246, -3.9012, -5.5955, -4.5129, -4.896, -4.9587, -4.8661, -4.5311, -5.3331, -4.9831, -5.2808, -5.7425, -5.6191, -6.0312, -4.7176, -4.978, -4.5689, -4.8007, -4.9839, -5.4775, -5.2311, -4.6566, -4.6634, -5.1807, -5.2377, -5.1915, -5.2922, -4.6452, -5.534, -5.7457, -5.8078, -6.1233, -6.2243, -6.8547, -6.967, -6.9745, -6.99, -7.0891, -7.1286, -7.2759, -7.3706, -7.401, -7.4184, -7.4427, -7.452, -7.5434, -7.5922, -7.6631, -7.6831, -7.7184, -7.7631, -7.7852, -7.6569, -7.9104, -7.9517, -7.9823, -7.991, -7.1238, -6.1048, -6.3294, -3.3683, -3.321, -5.6191, -5.7278, -3.4734, -6.5964, -6.3742, -6.0469, -5.5116, -4.2318, -5.6685, -4.0308, -4.7129, -5.4183, -6.7131, -6.4819, -3.0315, -5.1636, -6.0139, -5.4619, -5.3809, -5.9306, -5.5007, -5.5601, -5.1599, -3.9349, -4.7933, -4.5443, -4.3379, -5.3175, -5.1715, -5.3734, -4.6367, -4.9312, -4.9753, -4.9689, -5.0447, -5.3678, -4.8314, -4.9412, -4.9512, -4.9202, -4.9804, -5.1224, -5.1698, -5.2977, -5.2675, -5.274, -5.2877, -4.6355, -4.6928, -4.734, -4.7706, -4.9113, -6.0502, -6.1474, -6.4383, -6.8825, -7.0103, -7.1551, -7.1959, -5.3315, -7.4081, -7.4849, -7.5697, -7.5791, -7.5934, -7.6001, -7.6114, -7.6175, -7.6409, -7.7046, -7.7374, -7.74, -7.7812, -7.7871, -7.8496, -7.8764, -7.9388, -6.3477, -3.4171, -2.6244, -5.089, -5.8386, -4.9384, -4.656, -3.299, -5.2518, -3.8488, -4.5054, -5.0647, -3.4473, -3.029, -5.1619, -6.1688, -4.55, -5.8418, -5.9512, -5.1374, -4.6119, -2.9756, -3.3501, -5.2956, -3.8969, -4.8131, -4.1144, -5.3989, -4.8602, -4.9926, -4.8028, -4.4448, -4.9961, -4.8225, -4.8209, -6.0008, -6.1931, -6.2273, -6.2299, -6.3303, -5.6105, -6.4356, -5.4534, -6.5405, -6.6413, -6.7357, -6.7973, -6.8436, -6.8645, -6.8772, -6.8906, -6.9513, -7.0148, -7.0262, -7.0493, -7.0853, -7.145, -7.1754, -7.1989, -7.2225, -5.734, -7.2892, -7.3403, -7.345, -7.3644, -6.0577, -5.4261, -4.2872, -5.7517, -4.5, -5.3302, -4.6746, -5.8835, -3.9753, -4.6166, -4.5314, -5.9776, -5.0574, -4.7273, -3.4874, -5.5326, -6.0635, -5.3307, -5.2538, -5.3175, -5.3889, -3.9727, -4.3858, -5.1499, -3.2603, -5.1604, -5.218, -4.8474, -5.5442, -5.195, -5.0606, -4.9971, -5.067, -4.1616, -4.7169, -4.5695, -4.9775, -4.8983, -5.1157, -4.8438, -4.9639, -5.2269, -5.2047, -4.5976, -5.6437, -5.7704, -5.9477, -5.7392, -6.0824, -6.2023, -6.2041, -6.2255, -6.2722, -6.3048, -6.3322, -6.3502, -6.3655, -6.4271, -6.5018, -6.5074, -6.5154, -6.5738, -6.5871, -6.6265, -6.6491, -6.7081, -6.7168, -6.7318, -6.7617, -6.7805, -6.7891, -6.8002, -6.9054, -4.0309, -6.0258, -4.1219, -4.3961, -5.1994, -5.226, -5.7297, -4.6264, -4.9155, -5.6011, -5.6547, -5.5803, -4.3427, -5.082, -4.8428, -5.1492, -4.4173, -4.313, -4.0445, -5.0102, -5.5938, -4.8422, -4.8872, -5.015, -5.0919, -5.4119, -5.4873, -5.3972, -5.4456, -5.3443, -5.391, -5.4195, -5.4146, -5.5178, -5.5433, -5.0027, -5.6571, -5.6857, -5.8198, -6.1377, -6.1398, -6.2629, -6.2695, -6.2717, -4.4936, -6.3233, -6.4308, -6.5321, -6.6869, -6.7634, -6.7997, -6.7648, -6.8736, -6.9014, -6.9344, -6.9946, -7.0093, -7.0308, -7.041, -7.0609, -4.0598, -7.1003, -7.1045, -7.1198, -7.1239, -4.5619, -4.9827, -5.0004, -6.3271, -3.6211, -5.4195, -6.355, -4.6905, -3.1504, -2.9939, -5.1324, -6.1119, -4.4864, -3.4723, -4.3316, -3.5864, -4.9953, -3.2388, -4.2738, -4.9186, -5.2255, -5.77, -4.2071, -5.184, -4.8997, -3.7861, -5.08, -5.0888, -4.8401, -4.2648, -4.8718, -4.7204, -4.9753, -4.823, -4.9018, -4.9984, -4.8813, -4.9068, -5.2577, -5.3142, -5.3956, -5.4047, -5.4736, -5.5289, -5.6349, -5.7512, -5.7148, -5.8205, -6.0394, -6.1111, -6.1263, -6.213, -6.2144, -6.2225, -6.2696, -6.2862, -6.2083, -6.3331, -6.3522, -6.3565, -6.383, -6.4527, -6.4577, -6.4824, -6.4912, -6.5047, -6.5059, -6.5378, -6.0002, -6.0929, -5.5754, -5.6761, -5.5704, -5.7399, -5.4159, -4.2914, -4.5999, -5.5842, -5.4811, -4.858, -6.1189, -5.5622, -4.2489, -5.8461, -5.6368, -4.2498, -5.0704, -4.9969, -4.9824, -5.3347, -4.9374, -5.5714, -5.2879, -5.2982, -5.4015, -5.6578], \"loglift\": [30.0, 29.0, 28.0, 27.0, 26.0, 25.0, 24.0, 23.0, 22.0, 21.0, 20.0, 19.0, 18.0, 17.0, 16.0, 15.0, 14.0, 13.0, 12.0, 11.0, 10.0, 9.0, 8.0, 7.0, 6.0, 5.0, 4.0, 3.0, 2.0, 1.0, 2.1058, 2.105, 2.1038, 2.1029, 2.1022, 2.1017, 2.1016, 2.1012, 2.0999, 2.098, 2.0964, 2.0963, 2.0952, 2.0944, 2.0939, 2.0933, 2.0931, 2.0929, 2.0923, 2.0922, 2.0919, 2.0914, 2.0906, 2.0898, 2.0898, 2.0887, 2.0885, 2.0885, 2.0884, 2.0882, 2.0834, 2.0615, 2.0462, 2.024, 1.983, 2.0513, 1.9868, 1.9137, 1.9114, 1.9922, 1.9574, 1.963, 1.9566, 2.0046, 2.0197, 1.9165, 2.0281, 1.9519, 1.8041, 1.9644, 1.7499, 1.9574, 1.7902, 1.7425, 1.6045, 1.7893, 1.5994, 1.421, 1.3217, 1.7471, 1.6706, 1.4303, 1.6369, 1.4979, 0.7978, 1.4352, 0.9912, 1.2997, 1.1908, 1.3722, 0.6269, 1.1364, 0.655, 0.5538, 1.0828, 0.6828, 1.3383, 0.6259, 0.3266, 0.7331, 0.2573, 0.5369, 0.7657, 0.218, 0.6171, 0.7978, 2.1792, 2.174, 2.1676, 2.1643, 2.1634, 2.1631, 2.1618, 2.1616, 2.1612, 2.1603, 2.1602, 2.1597, 2.1596, 2.1583, 2.1581, 2.1569, 2.1558, 2.1549, 2.1544, 2.1529, 2.1528, 2.1522, 2.1521, 2.1509, 2.1497, 2.1492, 2.1481, 2.1479, 2.1447, 2.1441, 2.1127, 2.0887, 2.044, 1.9743, 2.0598, 1.9259, 1.7494, 2.0754, 1.7706, 1.7405, 1.7482, 1.569, 1.6965, 1.444, 1.568, 1.3235, 1.5967, 1.4338, 1.9664, 1.3303, 1.8648, 1.3605, 1.4896, 1.2545, 1.6011, 1.3531, 1.5875, 1.2901, 0.895, 0.8576, 1.4051, 0.8839, 0.6544, 1.2664, 0.6995, 0.6743, 0.8715, 0.676, 0.6191, 0.5146, 0.5143, 0.851, 0.4351, 0.2464, 0.1404, 0.1324, 0.462, 0.3847, 0.4547, 0.4301, 2.1888, 2.1882, 2.1873, 2.1866, 2.1858, 2.1855, 2.1855, 2.1848, 2.1843, 2.1836, 2.1834, 2.1834, 2.1829, 2.1829, 2.1821, 2.1815, 2.181, 2.1809, 2.1804, 2.1798, 2.1795, 2.1788, 2.1786, 2.1782, 2.1768, 2.1762, 2.1758, 2.1755, 2.1747, 2.1738, 2.1726, 2.1623, 2.1139, 2.0736, 2.0853, 2.071, 2.0947, 2.1318, 1.9473, 2.0278, 2.136, 1.9979, 1.9951, 2.0779, 2.0311, 1.835, 1.9743, 1.7429, 2.0017, 2.0208, 1.9833, 1.8939, 1.8815, 1.8304, 1.9804, 1.6476, 1.6692, 1.7223, 1.1921, 1.8285, 1.4684, 1.8536, 1.5637, 1.3519, 1.7389, 1.6207, 1.3786, 1.4562, 1.3116, 1.0882, 1.5128, 0.4679, 1.1129, 0.9113, 1.4684, 0.2484, 0.3795, 0.9808, 0.9515, 0.2815, 0.1189, 0.4513, 1.0826, 0.0082, 0.328, 0.51, 0.0712, -0.2526, 0.8463, 0.1348, 0.5088, -0.2773, -0.6465, 2.3088, 2.3052, 2.3049, 2.3038, 2.3022, 2.3009, 2.2993, 2.2973, 2.2964, 2.2955, 2.2955, 2.2929, 2.2928, 2.2924, 2.2915, 2.2884, 2.2872, 2.2871, 2.2829, 2.281, 2.2808, 2.2773, 2.2761, 2.2748, 2.2712, 2.2711, 2.2707, 2.2694, 2.2683, 2.268, 2.261, 2.1847, 2.198, 2.2468, 2.1174, 2.2022, 2.1285, 2.2282, 2.0762, 2.1383, 2.0646, 2.0939, 2.1591, 2.1007, 1.8867, 2.0721, 1.7973, 1.8373, 1.7401, 1.8386, 1.5643, 1.7497, 1.6904, 1.7317, 1.637, 1.7818, 1.7595, 1.3715, 1.1131, 1.8072, 1.1142, 1.6712, 1.1832, 1.0989, 0.5994, 0.4413, 1.2283, 0.3906, -0.0616, 1.1928, 0.2737, 0.7868, -0.0269, -0.0997, 2.5068, 2.5054, 2.5052, 2.5047, 2.5043, 2.5037, 2.5035, 2.5032, 2.5027, 2.5023, 2.5013, 2.5013, 2.501, 2.5008, 2.5001, 2.5, 2.4973, 2.4972, 2.4963, 2.4962, 2.4959, 2.4954, 2.4952, 2.4948, 2.4947, 2.4945, 2.494, 2.4939, 2.4939, 2.4935, 2.4634, 2.4774, 2.3036, 2.2526, 2.3291, 2.3829, 2.0991, 2.2366, 1.727, 1.9182, 1.9898, 2.2913, 1.7494, 1.8684, 1.5329, 2.1513, 2.1612, 1.8, 1.3886, 1.6032, 1.6915, 1.9317, 1.5236, 1.5861, 1.2945, 1.501, 1.2875, 1.4645, 1.4888, 1.7391, 0.9546, 1.3452, 0.8603, 0.8183, 0.8641, 1.5467, 1.2143, 1.1016, 1.0682, 0.9562, 0.5194, 0.6456, 0.6816, 0.503, 0.6586, 0.4475, 1.219, 1.1552, -0.2575, 2.5306, 2.5297, 2.5293, 2.5283, 2.5281, 2.5261, 2.526, 2.5254, 2.5252, 2.5238, 2.5238, 2.5237, 2.5236, 2.5234, 2.5231, 2.523, 2.5229, 2.5223, 2.5222, 2.5222, 2.5214, 2.5214, 2.5213, 2.5213, 2.521, 2.5208, 2.5207, 2.5204, 2.5203, 2.5202, 2.5138, 2.5016, 2.4937, 2.4376, 2.4843, 2.5, 2.4562, 2.2913, 2.2791, 2.4698, 2.3248, 2.4078, 2.2303, 2.2097, 2.2885, 2.1109, 2.3887, 1.9966, 1.8881, 2.2918, 1.7736, 2.0183, 2.1572, 1.7536, 1.6282, 1.8581, 2.1252, 2.155, 1.9549, 1.1052, 1.7954, 1.7011, 1.7547, 0.5191, 1.3566, 1.3244, 0.4215, 1.18, 1.05, 1.1984, 0.8322, -0.0508, 0.8059, -0.216, 1.0297, -0.754, 0.0524, -0.483, -0.4216, -0.3261, -0.0749, 0.5393, 0.0559, -0.5393, -0.1688, 2.5464, 2.5462, 2.5449, 2.5448, 2.5448, 2.5445, 2.5443, 2.5437, 2.5433, 2.5432, 2.543, 2.5429, 2.5427, 2.5426, 2.5426, 2.5425, 2.5425, 2.5424, 2.542, 2.5418, 2.5417, 2.5412, 2.5412, 2.5408, 2.5407, 2.5397, 2.5392, 2.5388, 2.5388, 2.5388, 2.5344, 2.53, 2.5293, 2.4132, 2.3404, 2.1911, 2.3254, 2.3764, 1.8933, 2.1771, 1.6208, 2.2186, 2.2013, 2.1938, 2.3085, 2.2001, 2.1138, 2.2831, 2.0054, 2.3606, 1.7074, 1.5252, 1.668, 1.8808, 1.5285, 1.0055, 1.6638, 2.1552, 1.9043, 1.3561, 1.017, 1.2013, 1.1342, 1.9859, 0.6113, 1.0084, 1.1949, 0.7779, 0.9371, 0.5582, 0.7524, 0.7977, 0.9974, 0.4703, 1.0616, 0.9149, 0.4464, 0.0733, 1.2343, -0.1538, 0.5919, -0.218, -0.2602, 0.209, 0.3331, -0.4601, 0.1904, -0.1751, 0.072, -0.245, 2.6278, 2.6265, 2.6258, 2.6246, 2.6239, 2.6233, 2.6231, 2.6226, 2.6225, 2.6208, 2.6208, 2.6191, 2.6188, 2.6186, 2.618, 2.618, 2.6179, 2.6167, 2.6156, 2.6151, 2.6149, 2.6148, 2.6147, 2.6145, 2.6144, 2.6126, 2.6125, 2.6097, 2.6095, 2.6094, 2.6002, 2.5931, 2.4895, 2.3085, 2.3087, 2.2785, 1.9476, 1.7229, 2.4663, 2.2331, 1.936, 2.2977, 2.1201, 2.1721, 1.7159, 1.9964, 1.6802, 1.3406, 1.2764, 1.2249, 1.083, 1.1198, 1.6603, 1.1167, 1.2116, 0.8964, 0.8763, 1.4682, 1.2324, 0.8823, 1.062, 0.4627, 1.1574, 0.6103, 0.2119, 0.6568, 0.272, 0.387, 0.5633, 0.5306, -0.807, 2.8932, 2.8929, 2.8922, 2.8919, 2.8915, 2.8914, 2.8913, 2.891, 2.8898, 2.8898, 2.8897, 2.8893, 2.8893, 2.8892, 2.8891, 2.8891, 2.8887, 2.8884, 2.8878, 2.8867, 2.8865, 2.886, 2.8857, 2.8855, 2.8844, 2.8842, 2.8841, 2.884, 2.884, 2.8836, 2.8833, 2.8045, 2.8344, 2.5529, 2.7349, 2.6503, 2.725, 2.627, 2.6233, 2.6049, 2.4019, 2.3856, 2.0225, 2.0783, 2.4476, 2.1309, 1.6117, 2.0312, 2.1721, 2.3961, 2.1546, 2.3111, 1.1802, 1.6239, 1.4992, 1.4529, 1.004, 2.157, 0.7335, 1.9004, 1.0784, 1.3506, 1.3871, 1.3119, 1.0272, 1.6437, 1.2336, 1.5006, 1.9318, 1.796, 2.1961, 0.7102, 0.9057, 0.2942, 0.5442, 0.7779, 1.483, 1.0522, -0.1552, -0.1875, 0.8659, 0.9544, 0.4158, 0.4674, 3.0271, 3.0259, 3.0255, 3.0253, 3.0243, 3.024, 3.0205, 3.0196, 3.0196, 3.0194, 3.0186, 3.0182, 3.0167, 3.0155, 3.0152, 3.0149, 3.0146, 3.0145, 3.0132, 3.0125, 3.0114, 3.011, 3.0104, 3.0097, 3.0093, 3.009, 3.0068, 3.0059, 3.0052, 3.005, 2.9931, 2.9707, 2.9692, 2.8666, 2.7557, 2.8894, 2.8816, 2.7046, 2.929, 2.903, 2.8498, 2.785, 2.5875, 2.764, 2.4988, 2.5913, 2.663, 2.8989, 2.8459, 1.9389, 2.4824, 2.7062, 2.5317, 2.4998, 2.6206, 2.4226, 2.4408, 2.2426, 1.306, 1.868, 1.5726, 1.3713, 2.1556, 1.9096, 2.1266, 0.8318, 1.2609, 1.3124, 1.1215, 1.2387, 1.9125, 0.1701, 0.3457, 0.3542, 0.095, -0.189, -0.0878, 0.0612, 1.0476, 0.3419, -1.3557, -0.6756, 3.1755, 3.1755, 3.1754, 3.1754, 3.1752, 3.1726, 3.1722, 3.1708, 3.1676, 3.1664, 3.1649, 3.1644, 3.1644, 3.1616, 3.1604, 3.159, 3.1588, 3.1586, 3.1585, 3.1583, 3.1582, 3.1577, 3.1565, 3.1558, 3.1558, 3.1549, 3.1548, 3.1534, 3.1528, 3.1513, 3.1315, 3.0048, 2.8922, 2.9943, 3.0284, 2.9047, 2.8676, 2.6831, 2.8847, 2.6791, 2.7322, 2.7677, 2.4617, 2.3739, 2.6766, 2.8473, 2.2974, 2.6639, 2.653, 2.2384, 1.9633, 0.9426, 1.1258, 2.2603, 1.1377, 1.6888, 0.7205, 2.1566, 1.3011, 1.4856, 1.1183, 0.4119, 1.2988, -0.0311, -0.2256, 3.3206, 3.3196, 3.3195, 3.3195, 3.3189, 3.3186, 3.3183, 3.3178, 3.3172, 3.3168, 3.316, 3.3154, 3.315, 3.3148, 3.3147, 3.3145, 3.3139, 3.3132, 3.313, 3.3128, 3.3123, 3.3116, 3.3112, 3.3108, 3.3105, 3.3103, 3.3095, 3.3087, 3.3087, 3.3083, 3.2845, 3.2501, 3.1749, 3.2356, 3.1597, 3.2004, 3.1408, 3.2234, 3.0483, 3.05, 2.9823, 3.1701, 3.0089, 2.9082, 2.6569, 3.0486, 3.1334, 2.9598, 2.8746, 2.8796, 2.8821, 2.3157, 2.4019, 2.695, 1.5964, 2.6648, 2.6971, 2.4367, 2.8897, 2.5803, 2.4257, 2.35, 2.4063, 1.2412, 1.9506, 1.642, 2.0714, 1.9045, 1.8765, 0.1714, 0.0707, 1.1974, -0.3416, 3.7762, 3.7732, 3.7726, 3.7716, 3.7708, 3.7707, 3.7698, 3.7698, 3.7696, 3.7692, 3.7689, 3.7687, 3.7685, 3.7684, 3.7677, 3.767, 3.7669, 3.7668, 3.7662, 3.766, 3.7655, 3.7652, 3.7645, 3.7644, 3.7642, 3.7637, 3.7635, 3.7633, 3.7632, 3.7616, 3.6699, 3.7253, 3.5115, 3.4722, 3.3982, 3.327, 3.4556, 3.0692, 2.877, 3.2169, 3.1658, 3.0789, 2.1851, 2.6932, 2.4772, 2.6832, 1.7962, 1.6081, 0.9901, 2.0015, 2.7883, 1.651, 1.6687, 1.7021, 1.7244, 2.3638, 2.3476, 1.1201, 1.4618, 0.1723, 0.518, -0.5847, -0.8025, 0.6434, 1.3581, 3.8453, 3.8429, 3.8427, 3.842, 3.8398, 3.8398, 3.8387, 3.8386, 3.8386, 3.8381, 3.8381, 3.837, 3.8358, 3.8338, 3.8327, 3.8322, 3.832, 3.831, 3.8305, 3.8299, 3.8288, 3.8285, 3.8281, 3.8279, 3.8275, 3.8271, 3.8267, 3.8266, 3.8263, 3.8262, 3.7632, 3.7635, 3.7453, 3.7901, 3.6473, 3.7308, 3.7876, 3.6375, 3.459, 3.2176, 3.5458, 3.7025, 3.414, 3.1253, 3.2747, 3.0804, 3.3339, 2.6823, 2.8058, 3.0934, 3.2259, 3.4766, 2.3488, 2.9636, 2.6581, 1.6417, 2.6732, 2.6358, 2.2155, 0.7368, 1.9885, 1.4618, 2.0218, 1.0607, 1.4815, 1.9276, 0.3532, 0.3985, 3.9721, 3.9719, 3.9716, 3.9715, 3.9712, 3.9709, 3.9704, 3.9697, 3.9695, 3.9692, 3.9676, 3.967, 3.9668, 3.966, 3.966, 3.9659, 3.9654, 3.9652, 3.965, 3.9647, 3.9645, 3.9645, 3.9641, 3.9633, 3.9632, 3.9629, 3.9628, 3.9626, 3.9626, 3.9622, 3.9596, 3.9364, 3.8842, 3.8416, 3.7572, 3.7743, 3.6609, 3.0557, 3.0108, 3.526, 3.4575, 2.9869, 3.8317, 3.3137, 1.8955, 3.4435, 3.1325, 0.3455, 1.4855, 0.9242, 0.8461, 1.7268, -0.3408, 2.0884, 0.1149, -0.4351, -0.5449, -0.6232]}, \"token.table\": {\"Topic\": [9, 11, 2, 3, 5, 7, 8, 10, 10, 8, 5, 7, 7, 1, 2, 3, 6, 7, 9, 10, 11, 13, 15, 2, 1, 2, 3, 4, 8, 10, 11, 1, 2, 3, 4, 7, 8, 10, 11, 13, 1, 2, 3, 4, 6, 8, 9, 11, 15, 2, 3, 4, 5, 6, 7, 8, 9, 10, 11, 15, 4, 6, 13, 2, 6, 14, 1, 2, 3, 4, 5, 6, 7, 8, 9, 10, 11, 12, 13, 14, 15, 1, 2, 3, 4, 5, 6, 7, 8, 9, 11, 12, 13, 15, 13, 9, 13, 12, 9, 1, 2, 3, 5, 6, 7, 9, 11, 13, 14, 15, 7, 15, 13, 7, 8, 14, 10, 12, 6, 15, 14, 1, 2, 3, 4, 5, 6, 7, 10, 13, 15, 2, 10, 5, 6, 9, 10, 1, 3, 7, 11, 12, 15, 1, 12, 3, 5, 7, 12, 15, 14, 2, 5, 6, 7, 8, 9, 10, 14, 5, 3, 7, 2, 3, 5, 7, 10, 2, 3, 5, 7, 10, 15, 13, 3, 7, 10, 3, 10, 12, 1, 15, 14, 6, 9, 1, 2, 4, 5, 6, 7, 8, 9, 10, 11, 12, 13, 1, 4, 6, 12, 2, 5, 6, 7, 8, 9, 11, 13, 14, 2, 5, 6, 11, 12, 12, 8, 14, 11, 11, 6, 11, 6, 1, 4, 8, 1, 3, 4, 8, 1, 2, 4, 6, 11, 2, 3, 4, 6, 7, 9, 11, 13, 14, 14, 3, 7, 9, 2, 3, 4, 5, 6, 7, 8, 9, 10, 11, 12, 14, 15, 1, 6, 11, 13, 15, 7, 2, 3, 5, 6, 7, 8, 9, 10, 1, 6, 1, 2, 3, 4, 5, 6, 7, 8, 9, 10, 11, 12, 13, 14, 15, 1, 4, 6, 1, 14, 9, 1, 2, 3, 4, 5, 6, 7, 8, 9, 10, 11, 13, 14, 15, 5, 9, 5, 6, 9, 10, 12, 13, 15, 7, 7, 9, 1, 1, 11, 13, 4, 1, 2, 3, 5, 6, 7, 9, 11, 12, 13, 14, 15, 5, 6, 15, 1, 2, 3, 5, 6, 7, 13, 14, 1, 6, 6, 7, 9, 15, 8, 14, 8, 15, 1, 7, 9, 9, 15, 1, 2, 3, 4, 6, 7, 10, 12, 15, 4, 6, 9, 15, 4, 6, 4, 15, 1, 6, 12, 1, 6, 11, 1, 2, 4, 5, 6, 9, 11, 1, 2, 3, 5, 6, 7, 9, 10, 12, 14, 7, 1, 2, 8, 10, 11, 1, 1, 5, 6, 10, 11, 14, 15, 1, 2, 3, 4, 5, 7, 8, 12, 2, 3, 4, 5, 6, 7, 8, 9, 10, 12, 14, 3, 1, 2, 6, 8, 13, 2, 4, 13, 15, 6, 2, 3, 7, 8, 10, 14, 6, 1, 2, 4, 5, 6, 8, 11, 11, 14, 15, 1, 2, 3, 4, 5, 6, 7, 9, 10, 13, 1, 3, 4, 6, 8, 15, 6, 11, 11, 1, 3, 6, 8, 9, 11, 12, 15, 10, 10, 1, 7, 13, 15, 4, 8, 11, 12, 5, 6, 8, 9, 12, 1, 2, 3, 4, 5, 6, 7, 8, 9, 10, 11, 12, 13, 14, 15, 2, 3, 13, 13, 6, 1, 2, 3, 4, 6, 10, 11, 12, 3, 7, 2, 3, 8, 6, 8, 11, 12, 13, 15, 1, 11, 15, 3, 7, 8, 10, 10, 3, 8, 2, 7, 2, 6, 7, 1, 2, 3, 5, 6, 7, 8, 9, 10, 12, 13, 14, 15, 1, 2, 3, 4, 5, 6, 11, 12, 14, 15, 1, 3, 6, 11, 12, 13, 14, 15, 1, 2, 4, 5, 6, 8, 11, 12, 13, 15, 1, 2, 3, 4, 6, 7, 9, 11, 12, 15, 1, 2, 3, 4, 6, 7, 8, 10, 11, 12, 13, 14, 7, 3, 1, 6, 12, 15, 7, 1, 2, 3, 5, 7, 8, 12, 14, 15, 3, 7, 12, 15, 5, 11, 9, 3, 9, 2, 5, 6, 7, 9, 8, 3, 15, 8, 10, 3, 7, 14, 1, 3, 4, 5, 6, 7, 8, 12, 13, 14, 15, 1, 2, 4, 8, 10, 11, 12, 13, 15, 2, 1, 6, 11, 5, 7, 8, 5, 6, 9, 13, 14, 1, 2, 3, 5, 6, 7, 8, 9, 10, 11, 12, 13, 15, 2, 6, 8, 9, 10, 10, 8, 12, 1, 2, 3, 4, 5, 6, 7, 8, 9, 11, 12, 13, 14, 15, 1, 5, 6, 7, 13, 15, 3, 3, 5, 6, 7, 9, 10, 4, 4, 7, 8, 11, 12, 7, 2, 12, 15, 6, 12, 14, 11, 1, 3, 1, 1, 2, 3, 6, 11, 1, 3, 1, 3, 5, 7, 11, 12, 13, 3, 7, 13, 15, 1, 1, 2, 3, 4, 5, 6, 10, 11, 14, 15, 9, 14, 1, 2, 5, 6, 7, 9, 10, 11, 8, 1, 7, 15, 6, 7, 13, 1, 2, 10, 15, 8, 2, 3, 4, 5, 6, 7, 9, 10, 12, 1, 2, 5, 6, 7, 9, 10, 15, 1, 2, 4, 5, 6, 8, 10, 11, 14, 15, 1, 2, 3, 4, 5, 6, 7, 9, 10, 11, 6, 11, 12, 5, 10, 1, 2, 3, 7, 9, 10, 11, 4, 1, 4, 1, 2, 3, 4, 5, 7, 8, 10, 11, 14, 1, 2, 3, 4, 5, 6, 9, 11, 14, 15, 2, 3, 12, 13, 2, 1, 2, 3, 4, 10, 12, 6, 7, 3, 10, 10, 1, 2, 3, 4, 5, 6, 7, 8, 9, 10, 12, 13, 14, 15, 7, 3, 4, 12, 1, 2, 3, 4, 5, 6, 7, 8, 10, 11, 12, 13, 15, 12, 2, 11, 9, 3, 1, 2, 3, 4, 5, 6, 7, 8, 9, 10, 11, 13, 14, 15, 2, 3, 4, 5, 6, 7, 8, 9, 10, 12, 13, 14, 15, 14, 15, 1, 6, 7, 10, 3, 7, 9, 1, 2, 3, 4, 7, 8, 9, 10, 1, 3, 4, 8, 10, 9, 2, 3, 5, 7, 9, 10, 1, 2, 3, 5, 6, 7, 8, 9, 10, 13, 14, 7, 5, 1, 2, 3, 4, 5, 7, 8, 10, 11, 13, 14, 1, 2, 7, 1, 2, 3, 4, 6, 11, 15, 1, 2, 3, 4, 5, 6, 11, 13, 15, 14, 1, 3, 4, 5, 6, 7, 8, 9, 11, 13, 14, 15, 1, 2, 3, 4, 5, 6, 7, 8, 9, 10, 14, 2, 8, 10, 13, 1, 3, 10, 13, 1, 12, 13, 15, 15, 4, 1, 2, 3, 4, 5, 6, 7, 8, 9, 14, 1, 6, 9, 11, 12, 15, 12, 10, 1, 2, 3, 4, 5, 6, 7, 8, 9, 10, 11, 12, 13, 14, 15, 7, 1, 2, 3, 4, 5, 6, 7, 8, 9, 10, 11, 12, 13, 14, 15, 8, 6, 15, 11, 8, 1, 2, 3, 4, 5, 6, 8, 11, 12, 14, 15, 11, 6, 7, 8, 9, 12, 8, 2, 3, 5, 6, 7, 9, 14, 2, 10, 9, 1, 2, 3, 4, 5, 6, 7, 8, 9, 10, 11, 12, 13, 15, 2, 3, 8, 10, 8, 7, 15, 5, 2, 1, 2, 3, 4, 5, 6, 8, 10, 11, 12, 13, 15, 5, 12, 1, 2, 3, 5, 10, 11, 13, 14, 7, 1, 2, 6, 7, 10, 11, 13, 13, 14, 11, 12, 13, 13, 2, 10, 12, 13, 5, 1, 2, 3, 4, 5, 6, 7, 8, 9, 10, 11, 12, 13, 14, 15, 2, 1, 6, 11, 2, 1, 2, 4, 5, 6, 8, 9, 10, 11, 13, 14, 15, 1, 2, 3, 4, 5, 6, 7, 8, 9, 10, 12, 14, 15, 3, 1, 2, 3, 4, 5, 6, 7, 8, 9, 10, 11, 12, 13, 14, 15, 1, 2, 2, 1, 9, 1, 11, 1, 1, 2, 3, 4, 5, 6, 7, 8, 9, 10, 11, 12, 13, 14, 15, 11, 13, 12, 11, 4, 4, 11, 12, 1, 12, 11, 3, 4, 1, 2, 3, 4, 5, 6, 7, 8, 9, 10, 11, 12, 13, 14, 15, 1, 2, 3, 7, 9, 10, 15, 1, 2, 3, 4, 5, 6, 7, 9, 10, 11, 12, 15, 2, 4, 5, 6, 7, 8, 9, 10, 11, 13, 14, 15, 11, 1, 2, 4, 5, 6, 8, 9, 10, 11, 13, 14, 11, 15, 1, 2, 3, 4, 6, 7, 9, 10, 13, 14, 15, 15, 1, 1, 2, 4, 6, 8, 10, 11, 1, 2, 3, 4, 5, 6, 7, 8, 9, 11, 14, 5, 3, 2, 5, 6, 8, 14, 1, 2, 3, 4, 5, 6, 7, 9, 10, 13, 2, 6, 2, 3, 1, 2, 3, 6, 14, 1, 2, 3, 4, 5, 6, 7, 8, 9, 10, 11, 12, 15, 1, 3, 6, 11, 1, 5, 9, 13, 1, 3, 7, 12, 13, 15, 13, 11, 1, 2, 3, 5, 6, 7, 9, 10, 11, 13, 2, 1, 2, 3, 4, 6, 9, 10, 11, 15, 2, 4, 13, 1, 2, 3, 5, 7, 10, 10, 3, 12, 1, 2, 3, 4, 5, 6, 9, 11, 12, 1, 2, 3, 4, 5, 6, 7, 8, 9, 10, 11, 12, 13, 14, 15, 1, 2, 3, 4, 5, 6, 7, 8, 9, 11, 13, 15, 3, 5, 7, 9, 10, 12, 14, 7, 1, 2, 3, 5, 10, 13, 9, 5, 5, 15, 1, 2, 3, 4, 5, 6, 7, 8, 10, 11, 15, 11, 2, 9, 12, 13, 2, 3, 1, 12, 14, 13, 1, 3, 8, 13, 7, 3, 7, 12, 11, 3, 10, 2, 15, 1, 3, 5, 7, 8, 10, 11, 13, 15, 3, 1, 3, 7, 8, 10, 11, 12, 13, 15, 1, 2, 3, 4, 5, 6, 7, 8, 10, 11, 12, 13, 15, 14, 14, 3, 6, 6, 6, 15, 5, 1, 2, 3, 4, 5, 6, 7, 8, 9, 11, 12, 15, 1, 2, 5, 6, 9, 11, 13, 10, 14, 7, 3, 7, 7, 10, 14, 9, 1, 1, 12, 1, 2, 3, 4, 5, 6, 7, 8, 9, 10, 11, 12, 13, 14, 15, 2, 3, 7, 3, 9, 10, 10, 6, 15, 1, 2, 3, 4, 5, 6, 7, 8, 9, 10, 11, 12, 13, 14, 7, 1, 2, 4, 5, 8, 11, 11, 13, 1, 2, 3, 4, 5, 6, 7, 8, 9, 10, 12, 13, 14, 15, 1, 2, 3, 5, 6, 9, 11, 1, 2, 3, 5, 9, 5, 4, 9, 12, 1, 2, 3, 4, 5, 6, 7, 8, 9, 11, 12, 13, 15, 4, 13, 3, 4, 5, 6, 7, 8, 9, 10, 13, 14, 15, 1, 2, 3, 4, 5, 6, 7, 8, 9, 10, 11, 13, 14, 1, 2, 6, 7, 8, 9, 11, 13, 14, 1, 2, 3, 4, 5, 6, 7, 8, 9, 10, 11, 12, 15, 3, 6, 7, 9, 12, 8, 8, 1, 2, 3, 5, 6, 7, 8, 9, 10, 11, 14, 15, 12, 13, 1, 2, 3, 4, 5, 6, 7, 8, 9, 10, 11, 12, 13, 14, 15, 1, 2, 3, 4, 5, 6, 7, 8, 9, 10, 11, 12, 15, 5, 7, 2, 8, 11, 14, 9, 1, 2, 3, 4, 5, 6, 7, 8, 9, 10, 11, 12, 13, 14, 15, 1, 2, 3, 4, 5, 6, 7, 8, 9, 10, 11, 12, 13, 15, 4, 6, 1, 2, 3, 4, 5, 6, 7, 8, 9, 10, 11, 12, 13, 14, 15, 5, 1, 2, 3, 4, 5, 6, 7, 8, 9, 10, 11, 12, 13, 14, 15, 13, 1, 2, 3, 2, 4, 5, 6, 8, 11, 12, 13, 1, 2, 3, 4, 5, 6, 7, 8, 9, 10, 11, 12, 13, 14, 15, 1, 10, 2, 3, 6, 7, 9, 10, 12, 1, 2, 3, 4, 5, 6, 7, 8, 9, 10, 11, 12, 13, 14, 15, 2, 4, 12, 9, 10, 4, 10, 4, 9, 10, 2, 10, 1, 2, 3, 5, 6, 7, 8, 9, 10, 13, 14, 5, 6, 11, 13, 14, 1, 2, 3, 4, 5, 6, 7, 8, 9, 10, 1, 2, 4, 5, 6, 7, 8, 9, 10, 11, 1, 2, 3, 4, 5, 6, 7, 8, 9, 10, 11, 13, 14, 15, 1, 6, 5, 1, 3, 12, 6, 7, 12, 15, 1, 2, 3, 4, 8, 10, 1, 2, 3, 4, 8, 10, 9, 12, 8, 9, 10, 4, 13, 1, 2, 3, 5, 6, 7, 8, 9, 10, 11, 14, 3, 3, 2, 5, 6, 7, 4, 6, 7, 8, 9, 10, 1, 3, 6, 9, 1, 2, 3, 4, 5, 6, 7, 8, 9, 10, 11, 12, 13, 15, 1, 4, 6, 7, 8, 11, 12, 1, 1, 2, 5, 6, 9, 11, 13, 15, 1, 2, 3, 4, 5, 6, 7, 8, 9, 10, 11, 12, 13, 14, 15, 6, 14, 15, 1, 15, 9, 1, 2, 3, 5, 6, 7, 11, 12, 15, 3, 5, 11, 12, 3, 10, 12, 6, 14, 1, 2, 3, 4, 6, 7, 9, 12, 13, 14, 15, 9, 1, 2, 3, 4, 5, 6, 7, 8, 9, 10, 12, 13, 14, 15, 5, 11, 13, 5, 13, 15, 5, 1, 2, 3, 4, 5, 6, 7, 8, 9, 10, 11, 13, 14, 1, 2, 3, 4, 8, 11, 12, 6, 1, 2, 4, 5, 6, 8, 9, 10, 11, 13, 14, 1, 2, 3, 4, 6, 9, 11, 15, 15, 10, 4, 7, 5, 8, 14, 7, 6, 11, 14, 15, 2, 5, 8, 1, 2, 3, 4, 5, 6, 7, 11, 13, 15, 7, 8, 14, 1, 2, 3, 4, 5, 6, 7, 8, 9, 10, 11, 12, 13, 14, 15, 9, 4, 7, 8, 10, 11, 14, 4, 8, 10, 1, 2, 3, 4, 6, 7, 8, 9, 10, 11, 12, 13, 14, 15, 13, 5, 1, 1, 4, 11, 1, 2, 3, 5, 7, 8, 10, 13, 2, 1, 3, 11, 1, 2, 11, 1, 2, 3, 4, 11, 1, 2, 3, 8, 13, 1, 8, 14, 4, 14, 5, 14, 1, 4, 6, 11, 6, 1, 2, 3, 4, 5, 6, 7, 8, 9, 10, 11, 12, 13, 14, 15, 13, 1, 3, 10, 1, 2, 3, 4, 7, 9, 10, 11, 12, 15, 1, 2, 3, 4, 5, 7, 8, 10, 11, 12, 15, 8, 1, 2, 3, 4, 7, 8, 9, 10, 11, 13, 5, 9, 4, 4, 11, 11, 1, 2, 3, 4, 5, 6, 7, 8, 9, 10, 11, 12, 13, 14, 15, 7, 1, 2, 3, 4, 5, 6, 7, 8, 9, 10, 11, 12, 13, 14, 3, 1, 3, 5, 6, 10, 14, 15, 5, 15, 6, 12, 1, 11, 12, 15, 15, 11, 12, 1, 2, 5, 6, 7, 8, 9, 10, 13, 14, 14, 7, 9, 1, 2, 3, 4, 5, 6, 7, 8, 9, 11, 15, 1, 2, 3, 5, 6, 7, 9, 10, 11, 12, 13, 15, 3, 10, 13, 13, 14, 9, 1, 3, 5, 7, 11, 12, 13, 15, 12, 10, 10, 10, 4, 3, 3, 9, 3, 6, 7, 9, 12, 13, 15, 1, 2, 3, 4, 5, 6, 7, 8, 11, 13, 14, 15, 7, 9, 2, 4, 5, 6, 7, 8, 9, 10, 11, 13, 14, 5, 12, 12, 5, 8, 9, 10, 13, 14, 12, 13, 3, 4, 12, 15, 8, 12, 8, 11, 3, 12, 6, 13, 15, 6, 9, 4, 8, 10, 12, 7, 8, 10, 14, 1, 2, 3, 4, 5, 6, 7, 8, 9, 10, 11, 13, 14, 15, 9, 1, 11, 2, 3, 4, 6, 7, 9, 11, 12, 13, 4, 14, 15, 6, 12, 2, 1, 2, 3, 4, 5, 6, 7, 8, 9, 10, 11, 12, 13, 14, 15, 2, 2, 1, 3, 5, 6, 7, 8, 9, 10, 11, 12, 13, 14, 15, 1, 2, 3, 4, 6, 8, 9, 10, 1, 2, 3, 4, 5, 6, 7, 8, 9, 10, 11, 12, 13, 14, 15, 4, 1, 3, 4, 6, 7, 8, 10, 11, 12, 13, 15, 13, 3, 12, 2, 7, 11, 2, 3, 7, 8, 10, 3, 4, 3, 4, 7, 8, 2, 4, 5, 6, 7, 9, 15, 12, 9, 1, 4, 6, 11, 3, 3, 4, 5, 6, 7, 13, 15, 13, 1, 4, 6, 11, 5, 6, 7, 14, 1, 2, 3, 4, 5, 6, 7, 8, 9, 10, 11, 12, 13, 14, 15, 1, 3, 5, 6, 9, 10, 11, 1, 2, 3, 9, 10, 13, 1, 2, 3, 7, 9, 10, 13, 6, 11, 1, 2, 3, 4, 5, 6, 7, 9, 10, 11, 12, 13, 15, 6, 2, 8, 11, 1, 6, 12, 6, 10, 15, 1, 2, 3, 4, 5, 11, 13, 3, 1, 2, 3, 4, 5, 6, 7, 8, 9, 10, 11, 13, 14, 13, 2, 4, 6, 8, 9, 11, 12, 15, 1, 3, 7, 11, 12, 13, 15, 13, 13, 1, 1, 12, 4, 10, 5, 8, 13, 14, 1, 2, 3, 4, 5, 6, 7, 8, 9, 10, 11, 12, 13, 14, 15, 1, 3, 7, 10, 2, 3, 5, 7, 8, 9, 10, 12, 14, 5, 7, 14, 8, 14, 2, 8, 9, 10, 13, 13, 1, 2, 3, 5, 7, 10, 13, 3, 1, 2, 3, 4, 5, 6, 7, 8, 9, 13, 14, 14, 10, 10, 10, 14, 10, 2, 3, 5, 9, 10, 13, 14, 1, 4, 9, 15, 5, 1, 2, 3, 4, 7, 8, 9, 10, 6, 11, 9, 6, 5, 6, 9, 6, 1, 2, 3, 4, 5, 6, 7, 8, 9, 10, 13, 14, 15, 1, 2, 4, 5, 6, 8, 1, 2, 3, 4, 5, 6, 7, 8, 9, 10, 11, 12, 13, 14, 15, 1, 9, 15, 2, 3, 7, 8, 9, 11, 13, 14, 15, 1, 2, 3, 4, 5, 6, 7, 9, 10, 11, 12, 13, 15, 1, 2, 3, 5, 6, 11, 13, 14, 15, 1, 2, 3, 6, 7, 8, 11, 14, 11, 1, 2, 4, 6, 7, 8, 9, 10, 14, 1, 2, 5, 6, 7, 9, 11, 14, 8, 10, 4, 15, 15, 1, 4, 6, 1, 6, 6, 7, 9, 1, 5, 6, 7, 9, 10, 11, 15, 7, 13, 1, 4, 6, 3, 6, 7, 9, 1, 2, 3, 5, 6, 9, 2, 6, 8, 11, 14, 15, 1, 1, 11, 4, 11, 8, 12, 12, 3, 7, 10, 12, 11, 11, 12, 8, 4, 2, 1, 2, 3, 4, 5, 6, 7, 8, 9, 11, 13, 14, 15, 8, 4, 2, 4, 5, 6, 7, 9, 10, 11, 12, 14, 1, 2, 3, 6, 7, 9, 10, 4, 6, 12, 6, 1, 2, 3, 4, 5, 6, 7, 8, 9, 10, 11, 12, 13, 15, 3, 7, 10, 3, 10, 7, 1, 11, 3, 1, 9, 11, 5, 7, 9, 13, 1, 2, 3, 4, 5, 6, 7, 8, 9, 10, 11, 12, 13, 14, 15, 8, 15, 1, 2, 3, 4, 5, 6, 7, 8, 9, 10, 11, 12, 13, 14, 7, 10, 4, 6, 5, 9, 2, 3, 4, 5, 6, 7, 8, 9, 10, 13, 14, 1, 2, 13, 2, 3, 7, 1, 2, 3, 5, 6, 7, 9, 10, 13, 2, 4, 8, 11, 12, 4, 8, 11, 12, 15, 5, 6, 8, 9, 2, 5, 7, 14, 7, 14, 8, 14, 1, 4, 6, 11, 12, 14, 3, 2, 4, 5, 6, 7, 8, 9, 10, 11, 13, 14, 5, 1, 3, 6, 11, 15, 11, 10, 1, 4, 1, 2, 3, 4, 5, 6, 7, 8, 9, 10, 11, 12, 13, 14, 15, 2, 1, 2, 3, 5, 6, 7, 8, 9, 10, 11, 12, 13, 14, 15, 5, 14, 15, 7, 1, 3, 6, 12, 14, 15, 1, 2, 3, 4, 6, 7, 8, 9, 11, 12, 1, 3, 4, 6, 7, 12, 3, 4, 6, 7, 9, 11, 12, 3, 6, 7, 9, 4, 11, 12, 4, 7, 11, 12, 13, 15, 6, 1, 2, 3, 4, 5, 6, 7, 8, 9, 10, 13, 14, 3, 1, 2, 3, 4, 5, 6, 7, 8, 10, 11, 13, 15, 10, 1, 11, 14, 6, 14, 1, 2, 3, 4, 6, 7, 8, 9, 10, 14, 9, 1, 2, 3, 4, 5, 6, 7, 8, 9, 10, 11, 12, 13, 14, 15, 1, 2, 3, 4, 5, 6, 7, 8, 9, 10, 11, 12, 13, 14, 15, 1, 2, 3, 5, 10, 3, 6, 1, 2, 3, 4, 5, 6, 7, 8, 9, 10, 11, 12, 13, 14, 15, 1, 2, 3, 5, 6, 7, 8, 9, 10, 3, 7, 8, 12, 13, 14, 1, 2, 3, 4, 5, 6, 8, 9, 10, 13, 1, 4, 6, 1, 3, 4, 5, 6, 11, 9, 1, 2, 3, 4, 6, 8, 11, 15, 10, 2, 7, 10, 1, 3, 6, 7, 9, 6, 1, 4, 6, 9, 2, 5, 6, 8, 9, 6, 2, 3, 2, 3, 5, 7, 9, 10, 13, 1, 2, 3, 4, 5, 6, 7, 8, 9, 11, 12, 13, 15, 8, 15, 1, 6, 9, 11, 13, 14, 5, 8, 2, 3, 5, 6, 7, 8, 9, 10, 3, 4, 3, 7, 9, 8, 3, 1, 4, 6, 8, 9, 10, 12, 13, 14, 2, 4, 4, 14, 1, 2, 3, 4, 5, 6, 7, 8, 11, 13, 15, 1, 2, 3, 7, 10, 2, 6, 3, 12, 14, 15, 3, 6, 10, 5, 6, 12, 13, 15, 11, 13, 15, 12, 3, 1, 1, 2, 4, 5, 6, 7, 8, 9, 10, 3, 6, 1, 2, 3, 5, 6, 7, 8, 9, 10, 11, 14, 15, 7, 1, 2, 3, 4, 5, 6, 7, 8, 9, 10, 11, 12, 14, 2, 5, 4, 1, 2, 5, 6, 7, 9, 11, 13, 15, 1, 3, 6, 7, 9, 1, 1, 2, 3, 4, 5, 6, 7, 8, 9, 10, 11, 12, 13, 14, 15, 2, 5, 6, 9, 10, 13, 14, 2, 5, 8, 12, 13, 15, 8, 1, 2, 4, 6, 11, 1, 5, 6, 8, 14, 1, 2, 3, 4, 5, 6, 7, 8, 9, 10, 11, 12, 13, 14, 15, 1, 3, 4, 13, 15, 6, 11, 13, 10, 1, 3, 6, 2, 3, 7, 9, 10, 2, 3, 5, 6, 7, 9, 10, 13, 14, 1, 2, 3, 4, 5, 6, 7, 8, 10, 11, 12, 14, 15, 1, 2, 3, 4, 5, 6, 7, 8, 9, 11, 12, 13, 15, 6, 3, 5, 6, 7, 8, 9, 11, 12, 13, 14, 15, 5, 12, 14, 1, 5, 6, 8, 11, 12, 14, 15, 1, 2, 3, 4, 5, 6, 7, 8, 9, 10, 11, 12, 13, 15, 6, 1, 2, 3, 4, 6, 7, 9, 10, 11, 12, 5, 6, 12], \"Freq\": [0.9943555598257184, 0.9880805585625355, 0.0883547289606326, 0.14725788160105432, 0.08099183488057989, 0.5787234746921435, 0.020616103424147606, 0.08099183488057989, 0.9766810678788588, 0.9802625010209355, 0.9819781577530042, 0.9878076777249528, 0.9872676180720339, 0.004134520572311081, 0.020672602861555405, 0.037210685150799734, 0.06408506887082176, 0.688397675289795, 0.012403561716933244, 0.0020672602861555407, 0.12196835688317689, 0.014470822003088784, 0.03514342486464419, 0.9750890730489868, 0.5443430006752342, 0.16170271706494838, 0.15664950715666873, 0.06091925278314895, 0.0008422016513799395, 0.006737613211039516, 0.06877980152936172, 0.6467622718668494, 0.029420951457320058, 0.1366328932085711, 0.002493300970959327, 0.07130840776943675, 0.011469184466412905, 0.028922291263128192, 0.03341023301085498, 0.038895495146965504, 0.44630116455525976, 0.07179708721793873, 0.25989049800243447, 0.11891392570471102, 0.007478863251868618, 0.08806361479075298, 0.00617006218279161, 0.0005609147438901463, 0.0007478863251868617, 0.027453290853305168, 0.048043258993284044, 0.13932545108052374, 0.006176990441993663, 0.07824187893191974, 0.11187216022721856, 0.0006863322713326292, 0.15099309969317842, 0.4179763532415712, 0.0041179936279957755, 0.013726645426652584, 0.9995520679355169, 0.9870592207568774, 0.9957734572042464, 0.9122172985675896, 0.04638393043564015, 0.03975765465912013, 0.2275387894095407, 0.10675990593149066, 0.11970050058985317, 0.04637046419246564, 0.13425866958051097, 0.018691970062079174, 0.03211184600408473, 0.027438853488564938, 0.0014977540113845491, 0.04433351873698265, 0.130184778669545, 0.038642053493721365, 0.06152773478767728, 0.0008986524068307295, 0.01006490695650417, 0.17262259876913533, 0.27038620648628314, 0.0787695353606734, 0.103443207784525, 0.08398359443892128, 0.020576911719513973, 0.08398359443892128, 0.1216924145583926, 0.0530716727607374, 0.007541764023894262, 0.0008379737804326958, 0.0016759475608653916, 0.0013035147695619712, 0.9893629708034711, 0.04687455569157581, 0.9508838440291093, 0.9867014987925182, 0.985563898117265, 0.07866522996560495, 0.12586436794496791, 0.12041831356273372, 0.009681874457305223, 0.21179100375355178, 0.0018153514607447295, 0.0018153514607447295, 0.04417355221145508, 0.003630702921489459, 0.003630702921489459, 0.3981670870566773, 0.9917786228693299, 0.9958048864735668, 0.9924937423820948, 0.018685399301169945, 0.0010380777389538858, 0.9789073078335144, 0.9884561566658563, 0.988418628063896, 0.026534706611262383, 0.9640943402091999, 0.9772544489333901, 0.1410007934512113, 0.14446518641070052, 0.5324771978734933, 0.012818253950110119, 0.061319755382959217, 0.032911733115147605, 0.057508923127521074, 0.005889468031131676, 0.010046739582518742, 0.0013857571837956886, 0.9781292306478487, 0.9846938332644237, 0.0043836254628362836, 0.05698713101687169, 0.8504233397902391, 0.08767250925672568, 0.1797467826088066, 0.18029202057425295, 0.00036349197696421967, 0.001999205873303208, 0.5127054335080318, 0.12485949408720945, 0.9876890405877706, 0.9938575851271657, 0.12015447072838427, 0.01289793753581526, 0.004751871723721411, 0.86076762081125, 0.0013576776353489747, 0.9961502499793904, 0.17302157834157716, 0.009723526716716734, 0.0042897911985515, 0.0102954988765236, 0.14928473370959222, 0.1638700237846673, 0.004003805118648067, 0.4856043636760298, 0.9918893569376446, 0.9802089762497639, 0.9915950319495067, 0.025408773964188894, 0.23560863130429704, 0.0485076593861788, 0.07969115470586517, 0.608655630869434, 0.060990319051873555, 0.11728907509975683, 0.029713232358605065, 0.006255417338653698, 0.7850548760010391, 0.9875767187108356, 0.9914178285190272, 0.8904657959908526, 0.09894064399898363, 0.006823492689585078, 0.9806611637541873, 0.009614325134844974, 0.9948988423865974, 0.9906962845048373, 0.9873080226723902, 0.9783741590894945, 0.39322258594939, 0.6041129113747612, 0.001318519815880101, 0.049444493095503785, 0.6554691634693952, 0.029337065903332248, 0.06740932558687017, 0.017635202537396352, 0.031644475581122426, 0.13086309172610003, 0.001318519815880101, 0.002142594700805164, 0.004120374424625315, 0.009229638711160707, 0.860396251343328, 0.10923718455000883, 0.02700245011348533, 0.001227384096067515, 0.09179518658776893, 0.4912815350856131, 0.21274420925920698, 0.016940742589159074, 0.03663928048353009, 0.10597813387171606, 0.0011819122736622608, 0.03427545593620557, 0.009455298189298087, 0.9534540590256982, 0.9801846447450454, 0.1868006500948576, 0.7621069075678499, 0.05067464444062627, 0.9806445206223379, 0.9829604089615126, 0.9831449346466626, 0.9991281654099059, 0.9987853424451011, 0.04081805795953395, 0.9541221048041061, 0.9929622771034494, 0.18489879580725688, 0.8116743748149073, 0.001566938947519126, 0.11861767327651762, 0.011541179021499013, 0.8066001782803198, 0.06283530800593906, 0.7391332108733886, 0.00038881284106964155, 0.059099551842585515, 0.17807628120989583, 0.022939957623108853, 0.04387555860787414, 0.009160830918127567, 0.7921707999201891, 0.003857191965527397, 0.030857535724219176, 0.04773275057340154, 0.06243829494197474, 0.009160830918127567, 0.0002410744978454623, 0.9927053139970746, 0.7411851472105289, 0.11193851930012387, 0.14562875326423882, 0.09272412566656683, 0.04682109315836543, 0.17213637190575526, 0.000918060650164028, 0.01606606137787049, 0.35942074453921696, 0.04314885055770932, 0.08583867079033662, 0.024787637554428758, 0.002754181950492084, 0.1510209769519826, 0.001377090975246042, 0.002754181950492084, 0.3340452337651158, 0.5093121114444361, 0.1483966943417242, 0.0006106859849453672, 0.007328231819344405, 0.9925850906283921, 0.23078858687285694, 0.2540113030942575, 0.009247984335955977, 0.0014385753411487075, 0.39416964347474587, 0.00041102152604248786, 0.09145228954445354, 0.018495968671911955, 0.21539399303522216, 0.7839565151912591, 0.06044065375650152, 0.16801392741486204, 0.13714668222423282, 0.1441703667586275, 0.08114203975261214, 0.1367770146171594, 0.0027725070530505284, 0.0009241690176835095, 0.06247382559540524, 0.0031421746601239323, 0.15322722313192588, 0.004805678891954249, 0.043435943831124944, 0.0007393352141468076, 0.0009241690176835095, 0.7001764278976371, 0.000605951041019158, 0.2987338632224449, 0.9982618673971605, 0.9733830036929925, 0.9910276932422735, 0.06524348939616026, 0.06972289314574738, 0.06621727281998355, 0.14314616330202323, 0.40334109414760566, 0.02239701874793561, 0.017528101628819175, 0.03973036369199012, 0.008179780760115614, 0.00038951336952931494, 0.01382772461829068, 0.1378877328133775, 0.0007790267390586299, 0.011490644401114792, 0.9941186709505183, 0.9872784778707889, 0.0012612934581550297, 0.31153948416429234, 0.4755076337244462, 0.12865193273181302, 0.026487162621255625, 0.05297432524251125, 0.0025225869163100594, 0.9900593692415344, 0.9945004600653459, 0.9886791543343532, 0.9771600810894361, 0.038285914688219826, 0.5934316776674073, 0.3679701800590017, 0.983482014382294, 0.24630787089173595, 0.004662843881023955, 0.036479896245658, 0.007405693222802752, 0.145919584982632, 0.004388558946846075, 0.0005485698683557594, 0.06308553486091233, 0.06363410472926809, 0.12123394090662282, 0.22326793642079407, 0.08283405012171967, 0.021155302905700533, 0.951988630756524, 0.021155302905700533, 0.0032314182097812868, 0.0032314182097812868, 0.0016157091048906434, 0.11309963734234503, 0.08724829166409474, 0.18903796527220526, 0.0016157091048906434, 0.597812368809538, 0.11408742154300869, 0.8822760599326005, 0.03682508137592177, 0.050634486891892434, 0.9114207640540638, 0.9959146548791595, 0.9870275097255681, 0.9821779340542525, 0.9726899083900482, 0.015945736203115544, 0.007325398172672348, 0.9816033551380947, 0.9846565868619089, 0.7431068603565258, 0.2490860984435282, 0.027816882753060292, 0.06258798619438566, 0.11613548549402672, 0.28790473649417403, 0.06536967446969169, 0.004867954481785551, 0.027121460684233784, 0.4068219102635068, 0.9833994034615808, 0.054327938977908066, 0.7388599700995497, 0.19437329278762663, 0.012072875328424014, 0.9848262529537885, 0.9875024330416011, 0.9269796699426641, 0.07053106184346357, 0.8615097937452382, 0.11644938388546398, 0.020486465683553848, 0.956325230271796, 0.04143329451997242, 0.0016797281562150983, 0.002113661085330944, 0.0338185773652951, 0.0047557374419946235, 0.001056830542665472, 0.7857535084717784, 0.01056830542665472, 0.16116665775648448, 0.02821673899683993, 0.4110312373555423, 0.24750745860220222, 0.07331908558233997, 0.010664594266522179, 0.06332102845747543, 0.015996891399783268, 0.13797318832313069, 0.011331131408179814, 0.0006665371416576362, 0.9869032845208335, 0.040601072756327294, 0.14329790384586102, 0.06209575833320644, 0.7260427128190292, 0.028659580769172206, 0.9851641472158691, 0.004725447242961331, 0.0756071558873813, 0.47884532062008156, 0.056705366915535974, 0.0007875745404935552, 0.0015751490809871103, 0.3811860775988807, 0.1754299464766762, 0.08922730036313704, 0.4839446799356585, 0.036799960036774035, 0.020668470705585414, 0.1784546007262741, 0.009073962748793596, 0.005545199457596087, 0.02910642560758497, 0.07276606401896242, 0.22650769671543688, 0.08582663961210953, 0.0750050198349305, 0.3582329305548919, 0.06045180703113801, 0.06903447099234897, 0.009328982566533644, 0.01156793838250172, 0.0018657965133067288, 0.9892008523051217, 0.07063292119103355, 0.12213609289282885, 0.013243672723318792, 0.668069712931859, 0.12360761208430872, 0.05487247838411576, 0.26592047216917636, 0.08864015738972546, 0.5867134227224685, 0.9967798501578317, 0.10339211316417285, 0.19165367318236917, 0.0012608794288313761, 0.008826156001819633, 0.6947445652860883, 0.9829361896751244, 0.9933983358174088, 0.1192113420740247, 0.5607970176440036, 0.012592747402185708, 0.035259692726119986, 0.0008395164934790472, 0.08395164934790472, 0.18721217804582754, 0.30727765436081067, 0.691374722311824, 0.988002379312472, 0.0012139935903259847, 0.06434166028727718, 0.09954747440673074, 0.08133757055184097, 0.11168741030999059, 0.0946915000454268, 0.5110913015272395, 0.024279871806519693, 0.0072839615419559075, 0.0036419807709779537, 0.3790811132833152, 0.0009131341338551983, 0.5661431629902229, 0.023480592013419385, 0.029611635483590002, 0.0007826864004473129, 0.9933890447601739, 0.978993949452793, 0.9708385969202633, 0.2561723475695214, 0.0005175198940798411, 0.5853150002043004, 0.09418862072253109, 0.0005175198940798411, 0.0005175198940798411, 0.0015525596822395236, 0.060549827607341414, 0.9791525978691685, 0.9906323392044314, 0.14234469653056658, 0.1507179139735411, 0.18700185622643062, 0.5163484089834278, 0.624614028094319, 0.007724288149564372, 0.12569523443382025, 0.24155955667728582, 0.06281966181201512, 0.0038658253422778534, 0.09181335187909902, 0.00869810702012517, 0.8321189049253079, 0.002520808723059744, 0.13794425512299152, 0.050416174461194875, 0.21748977482843235, 0.0795455197054408, 0.03487118733565979, 0.17309553231676908, 0.07604439647896893, 0.13626371597428505, 0.019606290068242452, 0.0026608536521186186, 0.001680539148706496, 0.004901572517060613, 0.061619768785904847, 0.0014004492905887466, 0.9057641087985567, 0.09057641087985567, 0.9952197880304571, 0.9972627645257452, 0.9941017090958421, 0.2443989783862342, 0.17269163924166203, 0.10310581900669256, 0.21469771365179602, 0.007213164292649274, 0.000848607563841091, 0.021639492877947822, 0.23506429518398222, 0.808281272043535, 0.1906096134072814, 0.17733542072241304, 0.8220133590392517, 0.9922604305848021, 0.06344729870588495, 0.07030646613354818, 0.1286093892686857, 0.24264304775358703, 0.4921452629348373, 0.0008573959284579047, 0.5994697484945013, 0.40039210813625276, 0.9902786732984826, 0.6348727850270106, 0.008365820007676567, 0.19520246684578657, 0.1617391868150803, 0.9897318919980392, 0.9934806627954289, 0.9903894743215476, 0.9896983044878114, 0.9942792903970843, 0.09047384418246582, 0.19128755627149915, 0.7160358525298008, 0.20222424349727794, 0.11283339955644298, 0.29960101297749586, 0.07367660336333948, 0.004379378521597102, 0.008501146541923786, 0.15276302725335772, 0.0002576105012704178, 0.009016367544464622, 0.00231849451143376, 0.11927366208820342, 0.014426188071143395, 0.0007728315038112532, 0.6023393424772641, 0.04816825788528494, 0.034945598857951815, 0.0007083567336071315, 0.02219517765302345, 0.16386652437444973, 0.10200336963942692, 0.01818115616258304, 0.0035417836680356573, 0.004014021490440412, 0.7289434348245614, 0.03307483556588312, 0.08301135200849098, 0.09857598051008304, 0.005836735688097022, 0.002594104750265343, 0.0006485261875663358, 0.047990937879908845, 0.00041861618220697967, 0.14107365340375214, 0.01967496056372804, 0.2386112238579784, 0.14023642103933817, 0.37675456398628165, 0.06697858915311675, 0.002511697093241878, 0.01339571783062335, 0.9943951048639259, 0.20898611008830903, 0.0003536143994726041, 0.07319818069082905, 0.5611860519630227, 0.10820600623861686, 0.005657830391561666, 0.009547588785760312, 0.031471681553061764, 0.0010608431984178125, 0.0003536143994726041, 0.0017488303941259934, 0.001165886929417329, 0.0034976607882519868, 0.5771140300615778, 0.09793450207105563, 0.019237134335385927, 0.03730838174135453, 0.19003956949502462, 0.039640155600189186, 0.001165886929417329, 0.0005829434647086645, 0.030313060164850553, 0.9892669180634693, 0.9850089810193077, 0.05051998594406754, 0.06835056921844432, 0.28528933239002846, 0.5943527758125593, 0.9890809685792685, 0.047227181255917315, 0.02422693064426927, 0.5792996454053754, 0.043853811166208935, 0.001226680032621229, 0.001226680032621229, 0.2530027567281285, 0.00030667000815530726, 0.049680541321159774, 0.8036958334680908, 0.061131226706745166, 0.08989886280403701, 0.04315145414593777, 0.9941579775513895, 0.9887686532177556, 0.9928828194315341, 0.9819005277123436, 0.9945047181347633, 0.12251803618500438, 0.14502134895367866, 0.05750846596438981, 0.03750552128112379, 0.6375938617791044, 0.9798758917557069, 0.9904935721925697, 0.007229880088996859, 0.9945553373112264, 0.9801010673979786, 0.8844131623089877, 0.07991685201587238, 0.033742670851146114, 0.013976682021846883, 0.6983349338772782, 0.0014975016451978802, 0.046422551001134287, 0.0004991672150659601, 0.004492504935593641, 0.10332761351865374, 0.0009983344301319201, 0.08985009871187281, 0.03893504277514489, 0.0014975016451978802, 0.0006916439883050385, 0.007262261877202904, 0.3181562346203177, 0.10340077625160325, 0.020749319649151155, 0.1331414677487199, 0.39734947128124465, 0.00034582199415251927, 0.01902020967838856, 0.9786339104448679, 0.8688747672527062, 0.07966760043577822, 0.05228186278597946, 0.8041218988328619, 0.19372027562791672, 0.9845622022470994, 0.6986336690761178, 0.2063216391131225, 0.04698413563962196, 0.00408557701214104, 0.0408557701214104, 0.3316949924057473, 0.010774805485791792, 0.22479202033102874, 0.0008450827831993562, 0.16204462367847655, 0.01331005383538986, 0.0010563534789991952, 0.04415557542216636, 0.003802872524397103, 0.15295998375908348, 0.05091623768776121, 0.0006338120873995172, 0.003380331132797425, 0.0013357489869564177, 0.0002671497973912836, 0.39805319811301254, 0.010953141693042626, 0.5890653032477803, 0.9947038225000261, 0.976628130427835, 0.9885398189547604, 0.22558875194087047, 0.11530324068154779, 0.051640798637066734, 0.10579046198524603, 0.012335251496303391, 0.24001472402976767, 0.04610038906669318, 0.00836288237037518, 0.16192630989638943, 0.012335251496303391, 0.00804927428148611, 0.0002090720592593795, 0.0007317522074078282, 0.011603499288895562, 0.14953635841217774, 0.06870589440559517, 0.0060622848004936915, 0.13539102721102578, 0.6365399040518377, 0.9844713279130348, 0.9932429256398128, 0.6243093035513378, 0.03788992038360127, 0.02506563963838238, 0.16146935301934695, 0.11716729226313623, 0.03380946741921344, 0.9525977287872801, 0.29952270332801073, 0.020990809397650346, 0.008073388229865518, 0.012110082344798276, 0.6595958183800128, 0.9943798315849485, 0.9767793271164135, 0.8478168537457376, 0.15136632608338535, 0.005026788199356144, 0.9927906693728386, 0.9727585427559944, 0.982813237440421, 0.9465209125724356, 0.04680597919314242, 0.995035487213785, 0.6979759983602509, 0.13154899877603998, 0.0006385873726992232, 0.15773108105670813, 0.012133160081285241, 0.9261334889200066, 0.07046667850478311, 0.06067248829349878, 0.1550519145278302, 0.006741387588166531, 0.22920717799766205, 0.03145980874477714, 0.017977033568444083, 0.49661555232826776, 0.21653682840359564, 0.23502167960878062, 0.5413420710089891, 0.005281386058624283, 0.9832009923196409, 0.2762651442469518, 0.05425448013524476, 0.012981133283892917, 0.013979681998038526, 0.06756846299051955, 0.4589995589355983, 0.0016642478569093484, 0.06656991427637393, 0.0006656991427637394, 0.04726463913622549, 0.9923640900799564, 0.9806862149091291, 0.08842583247839855, 0.11790110997119806, 0.0017338398525176186, 0.21846382141721993, 0.0017338398525176186, 0.5548287528056379, 0.008669199262588093, 0.006935359410070474, 0.9894282912408768, 0.01027125128799617, 0.9757688723596362, 0.9980285033375875, 0.9397284583020211, 0.006571527680433714, 0.046000693763036005, 0.004917199572426145, 0.7760979991812599, 0.16472618567627587, 0.0540891952966876, 0.9686055713686844, 0.037433212384901875, 0.10909107609314261, 0.1834227406860192, 0.0005347601769271696, 0.07486642476980375, 0.08128354689292978, 0.416043417649338, 0.0016042805307815088, 0.09572207166996337, 0.10764146829170793, 0.10952991510384316, 0.0490996171155159, 0.5976934160407993, 0.007553787248540908, 0.02171713833955511, 0.09442234060676134, 0.01133068087281136, 0.2722096204162022, 0.06026014497763256, 0.0017810880288955436, 0.002968480048159239, 0.46812930359471205, 0.07599308923287652, 0.0023747840385273914, 0.10864636976262816, 0.005640112091502555, 0.0017810880288955436, 0.13184568778262298, 0.19728499003169994, 0.18729179609218571, 0.06898527429213037, 0.017407499120444113, 0.3084995677456484, 0.004190694232699508, 0.04738708093898675, 0.0016118054741151955, 0.034814998240888226, 0.13001685397886012, 0.8630906051362629, 0.005532632084206813, 0.9954847846992452, 0.9858864348720707, 0.0803705699905555, 0.6171772112643727, 0.22735845735296184, 0.003868102299010693, 0.05157469732014257, 0.007306415453686864, 0.012893674330035642, 0.9897796043131243, 0.04532857733496619, 0.9539605139131521, 0.15330546681077167, 0.6505070260534684, 0.011106217517986046, 0.01646100096415789, 0.012296169394913122, 0.02935214629753455, 0.06663730510791628, 0.0011899518769270764, 0.05473778633864552, 0.003966506256423588, 0.4798447601495715, 0.0021528428919970807, 0.007654552504878508, 0.0011960238288872668, 0.01841876696486391, 0.40497366846122856, 0.0021528428919970807, 0.07630632028300763, 0.005023300081326521, 0.0021528428919970807, 0.9773366174654502, 0.004449118999978924, 0.9610097039954476, 0.031143832999852468, 0.9847513353852153, 0.006980385776738666, 0.09656200324488488, 0.23733311640911464, 0.026758145477498222, 0.5561040668801804, 0.07445744828521245, 0.9786004210879494, 0.007891938879741527, 0.9859120286565115, 0.9891125813166649, 0.9904833969908247, 0.018086217039052555, 0.04274924027412422, 0.00657680619601911, 0.20963569749810915, 0.09741894177853307, 0.101529445651045, 0.2121019998216163, 0.03946083717611466, 0.2425197284782047, 0.013975713166540608, 0.00041105038725119437, 0.004521554259763139, 0.009865209294028666, 0.0012331511617535832, 0.994906600381461, 0.9858546671565307, 0.13917799404002817, 0.8570434369833313, 0.4562823338507247, 0.18923451200669303, 0.1477766010277831, 0.07383923789734846, 0.0004906261654308867, 0.00029437569925853203, 0.001962504661723547, 0.02546349798586302, 0.0027475065264129656, 0.085761453717319, 0.00029437569925853203, 0.012756280301203056, 0.0030418822256714976, 0.986953741132618, 0.9659850638496907, 0.9933823510372768, 0.983962557298474, 0.9909068924541551, 0.06439430576046036, 0.08702881650460038, 0.020178052213768234, 0.02263451074414002, 0.25775268436543947, 0.12949045681531265, 0.1989731409601146, 0.07983490223708302, 0.10071479974524318, 0.01701974838900451, 0.005439301031537524, 0.013510521917044818, 0.00263191985396977, 0.00017546132359798464, 0.07766854868985583, 0.0003436661446453797, 0.20241935919612866, 0.1814557243727605, 0.12543814279556362, 0.13162413339918044, 0.006873322892907595, 0.24709595800002804, 0.0017183307232268988, 0.007904321326843735, 0.010309984339361393, 0.007216989037552975, 0.9940018253324204, 0.9879657829388672, 0.9942450141187161, 0.9881383663000606, 0.16481995279992975, 0.8086478934246554, 0.02317780586249012, 0.08699391448766881, 0.8378887553285996, 0.07325803325277373, 0.14611840320361316, 0.01018956786636075, 0.43101872074705977, 0.13633641805190685, 0.10271084409291636, 0.16894303522426124, 0.00040758271465443, 0.00448340986119873, 0.5085760356131821, 0.16747463538337315, 0.20643812198277017, 0.11603599737276568, 0.0010253549105104479, 0.9880465119113916, 0.03701526050521235, 0.17329871963803967, 0.009253815126303088, 0.04711033155208845, 0.7074962292018998, 0.02607893353776325, 0.002797269743817777, 0.11189078975271109, 0.025175427694359993, 0.09650580616171331, 0.08182014000666998, 0.13846485231897998, 0.05454676000444666, 0.43987066721534546, 0.013986348719088887, 0.005594539487635554, 0.02937133231008666, 0.9918716572528562, 0.9837032431739379, 0.12633034654744643, 0.09753445873148438, 0.10217895676631696, 0.09103216148271874, 0.20064231510476785, 0.07709866737822098, 0.03901378349259375, 0.003715598427866071, 0.014862393711464285, 0.24337169702522768, 0.003715598427866071, 0.08529773180319049, 0.040794567384134575, 0.8715203032065114, 0.20104006665281557, 0.39657394039730565, 0.1790152950195135, 0.21819890036713233, 0.0008963569850762477, 0.003969580933909097, 0.0001280509978680354, 0.06941694198731674, 0.000542319859275912, 0.0027115992963795605, 0.017354235496829185, 0.0808056590321109, 0.09219437607690505, 0.641022073664128, 0.09490597537328462, 0.000542319859275912, 0.9950540060976117, 0.35959227248643816, 0.01243473631039906, 0.061666141294428, 0.038573059575115455, 0.22255640294326484, 0.03933436996146642, 0.003806551931754815, 0.032228806355524095, 0.18423711349693303, 0.021062920689043307, 0.004567862318105778, 0.019032759658774073, 0.005207079173464879, 0.088892280175579, 0.18547120103579662, 0.08914023632669638, 0.10624921075379526, 0.05045907675238585, 0.1697259854398433, 0.13711975156790845, 0.11988679906525089, 0.04326834836998197, 0.004463210720112753, 0.06765186267842167, 0.007731641448962477, 0.8698096630082786, 0.05412149014273734, 0.05701426771860702, 0.10964282253578272, 0.8332854512719488, 0.993941466282293, 0.010583447080292272, 0.09525102372263045, 0.2540027299270145, 0.6385346405109671, 0.9894816630264099, 0.9681733877075551, 0.014898648182126306, 0.002352418134019943, 0.09644914349481767, 0.0674359865085717, 0.007841393780066477, 0.04469594454637892, 0.015682787560132954, 0.07919807717867142, 0.10742709478691073, 0.5637962127867797, 0.20083982530379454, 0.0014294649487814558, 0.0035736623719536398, 0.05860806290003969, 0.7097293470699928, 0.02501563660367548, 0.9862586826078281, 0.9947856450080331, 0.15606064653908666, 0.12036100259264539, 0.12760887846946067, 0.07371243976846188, 0.04680277294922213, 0.02128099725533, 0.14364673147347748, 0.17302376029333522, 0.045800407136471086, 0.06839219045462938, 0.0013878911253476086, 0.0004626303751158695, 0.007556296126892535, 0.0056286695639097455, 0.008327346752085652, 0.9857109903532421, 0.0035567941182304457, 0.16094493384992767, 0.00022229963238940285, 0.13560277575753574, 0.016005573532037007, 0.037124038609030276, 0.050684316184783855, 0.22785712319913792, 0.22052123533028764, 0.05179581434673087, 0.013337977943364172, 0.0155609742672582, 0.017339371326373424, 0.04868361949327923, 0.00022229963238940285, 0.9739044788608212, 0.08504975979880681, 0.9105327225519317, 0.986880932971293, 0.9751551184436139, 0.6055033475428543, 0.000819133316481134, 0.09845982464103231, 0.031782372679468, 0.010157253124366062, 0.1826667295752929, 0.0018020932962584948, 0.05701167882708693, 0.005897759878664165, 0.005078626562183031, 0.0006553066531849072, 0.9988243801097503, 0.057133003981801045, 0.6980162660385258, 0.12917026987189803, 0.08197344049562759, 0.02980852381659185, 0.9910454392306428, 0.019670755264911025, 0.011802453158946615, 0.16326726869876151, 0.076715945533153, 0.10425500290402843, 0.6078263376857507, 0.01573660421192882, 0.028962196874917905, 0.9654065624972635, 0.9920710989015812, 0.23427621951706692, 0.2737842003901075, 0.11241688255551256, 0.08991471509036818, 0.004462851584945129, 0.021750529303469417, 0.0006107060063609124, 0.17193722948314916, 0.00042279646594217007, 0.04007170949429679, 0.04044752857513427, 0.00018790954041874227, 0.004885648050887299, 0.004838670665782613, 0.03100330549575019, 0.30840130203667293, 0.0799558931206189, 0.5792722868942798, 0.9804535327008008, 0.1929120817254179, 0.8023388853579881, 0.9949428095265634, 0.9805489976077262, 0.20816688270761083, 0.42493751047984446, 0.07386096398697366, 0.04010220157239438, 0.021873928130396934, 0.0013853487815918058, 0.13182687353252553, 0.05147664420020079, 0.04535194432368964, 0.0005103916563759284, 0.0005103916563759284, 7.291309376798979e-05, 0.9892015624820376, 0.9846911537563228, 0.016399197058449097, 0.40141318172920176, 0.12213730346516566, 0.39651789902518714, 0.02888216795368647, 0.03426697892810259, 0.0002447641352007328, 0.0002447641352007328, 0.9846875493801329, 0.05947264289639583, 0.08640868295261098, 0.019201929545024664, 0.0005333869318062406, 0.022935638067668348, 0.6080611022591144, 0.2034871144840808, 0.9914212014284909, 0.9887568163108962, 0.003447308813716892, 0.09824830119093142, 0.8980239459732504, 0.9983990978381049, 0.9771254193338516, 0.8378017541397295, 0.1595812865028056, 0.9878633463187837, 0.9940869917637793, 0.05213235043080425, 0.14470944422356524, 0.009117136785664533, 0.13061202126423374, 0.19190167207887726, 0.1335439639309893, 0.009920408749159206, 0.17543459682723647, 0.1146670727888645, 0.006787648091529983, 0.016105602868068183, 0.004257341406521765, 0.0030524334612797555, 0.006787648091529983, 0.0009237627580188734, 0.9842439940848913, 0.0012634576226648866, 0.16424949094643526, 0.8338820309588252, 0.9615583363504041, 0.06740658056332746, 0.4409053384388141, 0.04420103643496883, 0.014733678811656277, 0.05746134736545948, 0.07035331632565872, 0.235370519016209, 0.04991033697448564, 0.010129404183013689, 0.002578393792039848, 0.0066301554652453245, 0.00018417098514570345, 0.009183093476816612, 0.1428264113096371, 0.1100017367542075, 0.02618158565730694, 0.04650162228685859, 0.05451240595812415, 0.21375115454547605, 0.1674449172262093, 0.18913264862890386, 0.025986200689715095, 0.00039076993518368566, 0.01387233269902084, 0.00019538496759184283, 0.9915407612006507, 0.2277655411161975, 0.22766274336934197, 0.0002741273249480337, 0.1544364816925985, 0.033066608571856566, 0.04903452525007953, 0.005962269317619733, 0.11369430802219697, 0.04564219960384761, 0.0028440709963358495, 0.1286342472318648, 0.0007538501436070927, 0.00047972281865905897, 0.00716157636426738, 0.002569943671387816, 0.1083191440033313, 0.8882169808273166, 0.9918182868030528, 0.9174620081462127, 0.07816940876582082, 0.3989892118463511, 0.5994475598271266, 0.9839066384081382, 0.21171835309483297, 0.2768201760605661, 0.12557034369385678, 0.04389857543768977, 0.1364860896434791, 0.0755463856369545, 0.013664315073627944, 0.04338812688608873, 0.015117130182030914, 0.024619326296450347, 0.01696259802243469, 0.0023166511188047376, 0.010248236305220957, 0.003298282948806745, 0.00035338745880072266, 0.9887352167709349, 0.987774310529749, 0.9907887384080873, 0.9852376158522299, 0.9788263806379194, 0.5899403522953011, 0.03206855248374457, 0.3775618254689927, 0.9838709979738158, 0.9972543348750376, 0.986197622636487, 0.8246261468623582, 0.17199345348843473, 0.2616427069603361, 0.19053720319731554, 0.18564071641123928, 0.15509089668071996, 0.013092779884508274, 0.02331153491631961, 0.01053809112655544, 0.043429708885198176, 0.04236525523605116, 0.0681250335454089, 0.001064453649147014, 0.00010644536491470142, 0.002554688757952834, 0.002128907298294028, 0.00031933609474410425, 0.015302529471929404, 0.017342866734853326, 0.7314609087582256, 0.060189949256255655, 0.14180343977321247, 0.0061210117887717614, 0.025504215786549007, 0.04144632802879989, 0.015443878885256234, 0.12623007129683922, 0.5993170551084639, 0.0017334966095695773, 0.10369461537243471, 0.04302223403749951, 0.020486778113095003, 0.012449657468726965, 0.02426895253397408, 0.011346523262637232, 0.0006303624034798463, 0.12492832031229588, 0.07845327965004247, 0.3909872686907007, 0.029419979868765923, 0.013217672114952806, 0.16884510185552618, 0.0021318825991859364, 0.0034110121586974984, 0.0021318825991859364, 0.019613319912510616, 0.1611703244984568, 0.005542894757883434, 0.9988310368483143, 0.010703165223133288, 0.5431562307739508, 0.002822812806101087, 0.04540023929812582, 0.0015290236033047556, 0.1012684094188765, 0.023170588450079757, 0.19077509881233182, 0.07233457815634035, 0.004234219209151631, 0.004587070809914266, 0.9903811939125825, 0.982708844047919, 0.03356590314402624, 0.09775333196330449, 0.001766626481264539, 0.3863023239031792, 0.007066505925058156, 0.0329770276502714, 0.15251875288250522, 0.0005888754937548464, 0.272060478114739, 0.012366385368851773, 0.0023555019750193854, 0.9868199256201998, 0.9822883238600013, 0.27728176370769914, 0.2507749784235517, 0.02676665572810966, 0.004677667991320135, 0.2125740231611039, 0.0020789635516978377, 0.2258274158031776, 0.01601588784072895, 0.4744261887042598, 0.06032651086674571, 0.10125600201527525, 0.10018827615922665, 0.0526744755650641, 0.0738510383766946, 0.01743952231546041, 0.0012456801653900295, 0.08951101759874068, 0.012990664581924593, 0.9897417747935102, 0.9821399120063845, 0.10464733670339327, 0.31347896879733295, 0.22179678885365212, 0.006945619692703093, 0.3528374803893171, 0.03163805118813508, 0.23521075760359436, 0.3290875980142903, 0.041751854436801204, 0.00077798486528201, 0.013744399286648844, 0.044085809032647236, 0.2792965666362416, 0.0233395459584603, 0.00077798486528201, 0.979205859799027, 0.993895220585025, 0.9812923893843014, 0.981475695680028, 0.024931622256390906, 0.08310540752130302, 0.020776351880325755, 0.8642962382215514, 0.9952432347228197, 0.00044908454075029885, 0.029639579689519722, 0.11272021972832501, 0.17738839359636804, 0.01931063525226285, 0.12170191054333099, 0.10867845886157232, 0.006736268111254482, 0.06107549754204064, 0.04311211591202869, 0.031435917852520916, 0.28561776791719007, 0.0017963381630011954, 0.9415374757121913, 0.002568607845228773, 0.017409453173217238, 0.03795831593504742, 0.9995667503576582, 0.8326949096906573, 0.09588608050983327, 0.06812958352014468, 0.09174477288197877, 0.005856049332892262, 0.10931292088065556, 0.5172843577388164, 0.21276979242841884, 0.061488517995368745, 0.9937245855077294, 0.9949665235138978, 0.0026804201318185146, 0.08778375931705636, 0.07639197375682767, 0.006030945296591659, 0.04824756237273327, 0.1521138424807007, 0.4201558556625522, 0.11726838076706002, 0.0026804201318185146, 0.0864435492511471, 0.95825036007996, 0.29648702759508677, 0.10525086684121068, 0.07178960859689515, 0.32751473978527024, 0.07888745125478026, 0.07178960859689515, 0.00020279550451100326, 0.04562898851497573, 0.002433546054132039, 0.9778141529881899, 0.975192767270744, 0.014236390763076555, 0.001340842482556633, 0.5425048684424136, 0.2046125628381422, 0.09493164776500962, 0.0021453479720906126, 0.15419688549401278, 0.9931992571715463, 0.981567429566318, 0.01090630477295909, 0.150441028530191, 0.04326408663613336, 0.01081602165903334, 0.019665493925515164, 0.008849472266481823, 0.561449851573458, 0.07472887691695762, 0.10422711780523036, 0.02654841679944547, 0.05539173560076646, 0.07813150074213375, 0.013993701625456791, 0.10320354948774384, 0.012827559823335392, 0.013410630724396091, 0.4297232540817356, 0.10728504579516873, 0.006413779911667696, 0.06821929542410185, 0.005247638109546296, 0.0005830709010606997, 0.10262047858668313, 0.0005830709010606997, 0.001749212703182099, 0.01743500058759011, 0.18618089913176586, 0.04670089443104494, 0.1681232199517618, 0.04607821583863101, 0.019925714957245842, 0.011830893255864719, 0.011208214663450787, 0.003113392962069663, 0.3916648346283636, 0.09340178886208989, 0.0037360715544835954, 0.1343994261417197, 0.012976496317131558, 0.6970232307487808, 0.0435639519217988, 0.03800259635731385, 0.04819841489220293, 0.02502610004018229, 0.9926293543983549, 0.032596731236006524, 0.27725955304189454, 0.29730466937668015, 0.3726143587840056, 0.00018733753583911793, 0.02004511633478562, 0.9948631638897624, 0.9926066432030062, 0.9807969304424908, 0.9940503465795251, 0.10624622923458639, 0.2281360750435904, 0.41390402186479974, 0.03324268522063746, 0.06735446025096478, 0.0010863622621123353, 0.06322628365493792, 0.0021727245242246706, 0.08386716663507228, 0.00021727245242246705, 0.0008690898096898682, 0.9942057602969041, 0.1518341164813213, 0.8381243229768935, 0.9911795374899456, 0.9850034494822844, 0.05733224530702738, 0.9427969228266724, 0.9762682598755528, 0.9887540948758939, 0.9921855201736237, 0.9894830642115288, 0.012488530371223388, 0.8492200652431904, 0.1348761280092126, 0.9872576230831084, 0.9957243297472064, 0.8196508053747356, 0.001174284821453776, 0.17849129286097393, 0.996145206452748, 0.897756116965086, 0.10082790082545241, 0.12196499457677115, 0.8749662654420539, 0.019708891081953596, 0.5025767225898167, 0.03251967028522343, 0.11529701282942853, 0.015767112865562875, 0.05617033958356775, 0.0009854445540976797, 0.23946302664573618, 0.019708891081953596, 0.996934847281311, 0.03169758076534662, 0.15452570623106476, 0.001523922152180126, 0.38433316677982776, 0.3136231789186699, 0.0006095688608720504, 0.09448317343516781, 0.014020083800057159, 0.0054861197478484535, 0.09347750329831553, 0.002484451914905396, 0.1267070476601752, 0.04565180393638665, 0.17297996457528822, 0.003726677872358094, 0.011180033617074283, 0.4962692700023529, 0.00341612138299492, 0.0003105564893631745, 0.036024552766128246, 0.00683224276598984, 0.0009316694680895235, 0.9878811985356865, 0.9828861560350122, 0.993567253137175, 0.9912209645962905, 0.9845305188347824, 0.990052504907503, 0.9946527914801436, 0.988436763513253, 0.02644888624752367, 0.14883509624742866, 0.01995688689585877, 0.5107039489976388, 0.026929775088387738, 0.08487688041250778, 0.0009617776817281334, 0.0403946626325816, 0.00024044442043203335, 0.020437775736722834, 0.11926043253428854, 0.0016831109430242336, 0.024146562330159663, 0.24258871922392966, 0.6626265941764745, 0.02021572660199414, 0.0011230959223330077, 0.005053931650498535, 0.043800740970987295, 0.048286307140452116, 0.9464116199528615, 0.9811500926076908, 0.8474362701170602, 0.15217121878263, 0.9893742799627845, 0.9860114553323602, 0.9892227142752484, 0.9926548188008077, 0.996412274879148, 0.9887158268726429, 0.9842883796231202, 0.07461438372619579, 0.20752125473848204, 0.19396825144446603, 0.001748774618582714, 0.2733917653717643, 0.03293525531664111, 0.010055454056850604, 0.04852849566567031, 0.009618260402204926, 0.08321252560089414, 0.053483357084988, 0.0013115809639370354, 0.0030603555825197493, 0.003643280455380654, 0.002768893146089297, 0.0021386780105891487, 0.8105589660132873, 0.18606498692125592, 0.03155201930379606, 0.5976323656366077, 0.3674882248324482, 0.9905975471508865, 0.1307981562723347, 0.8665377853042174, 0.001564950370449178, 0.21010907751400998, 0.016982609575615152, 0.013157175336739383, 0.1548141644248057, 0.03837026463842058, 0.06543810993470821, 0.24366856879142013, 0.15029319668795252, 0.05738151358313652, 0.001622911495280629, 0.0005216501234830593, 0.0015069892456177267, 0.044572104995385844, 0.988045456261468, 0.10652738195873095, 0.644839930955105, 0.0633052064918688, 0.09299316539840037, 0.000873175261956811, 0.09211999013644356, 0.9855837392954001, 0.9866539339734597, 0.005298047773580686, 0.0080864939702021, 0.011990318645472078, 0.6237754141842102, 0.0080864939702021, 0.09871099536039804, 0.03652864517574052, 0.00418266929493212, 0.08393223051830455, 0.09313410296715521, 0.0027884461966214136, 0.0033461354359456963, 0.020076812615674178, 0.00027884461966214136, 0.16283164169606976, 0.42784325034943693, 0.15196865517569264, 0.24430404059889826, 0.00497886882183952, 0.0032815271780305927, 0.004865712712252258, 0.05953770260181899, 0.07252774680585222, 0.6938848612321086, 0.07902276890786884, 0.09417782047924095, 0.9956568234464942, 0.3372555438624454, 0.014351299738827462, 0.6476024007145893, 0.19654262421831004, 0.011936910792919959, 0.2773249740029544, 0.06315458617184397, 0.0006940064414488349, 0.0319242963066464, 0.14088330761411347, 0.20709152212833232, 0.00013880128828976698, 0.030397482135458967, 0.03539432851389058, 0.0023596219009260387, 0.0020820193243465046, 0.9568096615140587, 0.9909096689955744, 0.03620517372623095, 0.10487015837942758, 0.1941346384285832, 0.0724103474524619, 0.4132383621856015, 0.01560567833027196, 0.01560567833027196, 0.03682940085944183, 0.05742889625540081, 0.05243507918971379, 0.0012484542664217568, 0.005161560742647467, 0.18740435927150803, 0.006551211711821785, 0.018263984166291037, 0.0389102271368809, 0.07345297979921395, 0.06273281517986921, 0.24557117840980447, 0.246563786244929, 0.048240740787051324, 0.0011911294021494155, 0.003176345072398441, 0.06293133674689412, 0.06040979342613842, 0.08306346596094033, 0.14886699094298395, 0.07551224178267302, 0.005393731555905216, 0.48327834740910736, 0.014023702045353562, 0.0021574926223620863, 0.1272920647193631, 0.06225538831038165, 0.26666819634249306, 0.3672751536233018, 0.14683272556322086, 0.005378359351489776, 0.001827939125996525, 0.06682523612537296, 0.02190011683645837, 0.04713973784541039, 0.01107309278247895, 0.0005272901324989976, 0.001827939125996525, 0.0004218321059991981, 0.2076182369724706, 0.1498275936914736, 0.13805542561571496, 0.47516751142153063, 0.028895321640498482, 0.9610844774244925, 0.9910148640774101, 0.11857822642716619, 0.020558454117403424, 0.14097225680505207, 0.09214592827621892, 0.12445207046071002, 0.04442094550367526, 0.0011013457562894693, 0.0286349896635262, 0.0011013457562894693, 0.4152073501211299, 0.01284903382337714, 0.00036711525209648973, 0.9037088433653133, 0.09142579738326126, 0.05981069690456905, 0.15814353757818256, 0.03200523974796552, 0.10441528442662054, 0.31165283229693125, 0.10398082415854862, 0.02635725626303043, 0.06154853797685677, 0.08529903263145562, 0.011440787059227494, 0.009992586165654392, 0.0005792803574292402, 0.009413305808225154, 0.019261071884522238, 0.006227263842364332, 0.1513536541687359, 0.09296766106389343, 0.16296807215195724, 0.4747785729627647, 0.001412564349310705, 0.04635303753664017, 0.028042018193723622, 0.0016218331418011798, 0.01292234793628682, 0.0006801235755940431, 0.020037486880962962, 0.006173429378469006, 0.0006801235755940431, 0.9853614814129606, 0.9930707150812078, 0.8143117089043987, 0.04865673119721887, 0.0055083091921379855, 0.13128136907928864, 0.98932144633981, 0.16786588562831406, 0.07176747977852843, 0.026781522941743536, 0.14633564169475555, 0.06966696817525443, 0.17784331574386558, 0.1543876028406392, 0.01855451916225369, 0.08104473935965528, 0.05426321641791174, 0.0010502558016370015, 0.00017504263360616692, 0.0052512790081850075, 0.023280670269620198, 0.0015753837024555023, 0.07804169309956135, 0.2223823047430265, 0.04629687193235317, 0.05832057410895945, 0.0009551539112257329, 0.0052814392738364056, 0.0008989683870359839, 0.21940447196096982, 0.029834513344756716, 0.33655128989659644, 0.0014608236289334739, 5.618552418974899e-05, 0.00033711314513849394, 0.00011237104837949798, 0.9927419236084133, 0.9944334561026078, 0.08903832657226804, 0.09007584944546183, 0.06602418283960554, 0.13534957482119134, 0.29418489468104236, 0.0840393527286979, 0.013299156829120543, 0.12572890817884882, 0.0003772810447977459, 0.0055648954107667525, 0.05649783645846245, 0.016694686232300256, 0.0024523267911853485, 0.010280908470738577, 0.010375228731938012, 0.9941316582547043, 0.27024278099241056, 0.2176263643955579, 0.17803653266832128, 0.0934029677172317, 0.01771537068864949, 0.03739257644802428, 0.011908338879302592, 0.03193867495140794, 0.012202614139911387, 0.01247727104981293, 0.10711619486160157, 0.006670239240466031, 0.0013536661988004593, 0.00033351196202330156, 0.0015890864072874958, 0.9944138889886172, 0.0020034046718852027, 0.649603964858777, 0.3475907105720827, 0.9996871020814555, 0.1601663608212806, 0.0010677757388085373, 0.049117683985192714, 0.0629987685897037, 0.08542205910468299, 0.5338878694042687, 0.10570979814204519, 0.0575325138081925, 0.1747676274717286, 0.08448195448676687, 0.05980353409009483, 0.19263298702269366, 0.12112108170145788, 0.08387634907825958, 0.09396977255338108, 0.07388385983788931, 0.004340172094302241, 0.008276607249599622, 0.025586828509432977, 0.005904652732946072, 0.001564480638643831, 0.012162575287521396, 0.9932112012237809, 0.9971254637807409, 0.049998886892748534, 0.011089978671699863, 0.00037593148039660555, 0.01015014997070835, 0.2045067253357534, 0.7236680997634657, 0.9961460547605686, 0.12448542323706034, 0.023647163165791654, 0.20015634536759364, 0.1763402738934749, 0.022802621624156236, 0.008445415416354162, 0.21552700142535822, 0.12093834876219159, 0.015539564366091657, 0.032261486890472896, 0.010134498499624995, 0.016215197599399992, 0.004053799399849998, 0.015032839441110408, 0.014188297899474992, 0.9749729003194307, 0.1692775985343555, 0.8271519019292372, 0.051113302740925445, 0.94389232394909, 0.09083780561222612, 0.9083780561222613, 0.10568461652562228, 0.12538852808124676, 0.7684525506693552, 0.05111397802392574, 0.9413490952739657, 0.04629203577851028, 0.008612471772746098, 0.008612471772746098, 0.021531179431865246, 0.010765589715932623, 0.07858880492630815, 0.17547911236970176, 0.04736859475010354, 0.5458153985977839, 0.003229676914779787, 0.052751389608069854, 0.08165320513963868, 0.13169871796715918, 0.15277051284190465, 0.5715724359774709, 0.06058141026489322, 0.029779505212151315, 0.202365274055301, 0.04805329250142599, 0.0027072277465592107, 0.07174153528381907, 0.03587076764190954, 0.411498617477, 0.03316353989535033, 0.14483668444091777, 0.019627401162554278, 0.016033632535415784, 0.06348009616062576, 0.011452594668154131, 0.2333057142398256, 0.14070330592303648, 0.02323240632682695, 0.310856140992755, 0.12139750348243379, 0.07787764374344809, 0.001308867962074758, 0.01672179087277463, 0.09292235687529193, 0.02137849212848402, 0.025188520428609886, 0.3598360061229984, 0.10498744649235718, 0.21124490241808963, 0.04508533488482274, 0.02434184747302636, 0.07133219650791203, 0.0002116682388958814, 0.00762005660025173, 0.018626805022837565, 0.9912696973503995, 0.0717627986469486, 0.9257401025456369, 0.9770432061454059, 0.030531598634618823, 0.8410067623899549, 0.12490199441434972, 0.006235706745110913, 0.10392844575184854, 0.7586776539884944, 0.13094984164732917, 0.0400361164186324, 0.10956766271611869, 0.0051778811072596175, 0.013776862231815769, 0.720187784722235, 0.11123198164345215, 0.07452534457019827, 0.009532311514792802, 0.04592841002581987, 0.000866573774072073, 0.6993250356761629, 0.16898188594405422, 0.9849425601135096, 0.985416899499418, 0.9641138320438571, 0.010438651278084205, 0.025052763067402093, 0.9766935992028937, 0.9865070873428599, 0.03538834545516558, 0.17465860821420431, 0.22089176921208192, 0.08333384574926088, 0.04166692287463044, 0.259134013494277, 0.03681529486868032, 0.0970325601190024, 0.046233160997877616, 0.0002853898827029482, 0.004566238123247171, 0.9801202752825365, 0.9875616848407259, 0.1378493721793668, 0.1681762340588275, 0.01929891210511135, 0.67270493623531, 0.8346720070769783, 0.057814882911618404, 0.0014575180565954218, 0.036437951414885546, 0.06801750930778636, 0.0009716787043969479, 0.13150856331385238, 0.021918093885642066, 0.7243930029204703, 0.12164542106531347, 0.07412331728554773, 0.01455181689041428, 0.03183209944778124, 0.1368780276254593, 0.20008748224319634, 0.12505467640199772, 0.01455181689041428, 0.04638391633819552, 0.0013642328334763387, 0.05820726756165712, 0.10368169534420174, 0.045019683504719174, 0.04320070639341739, 0.10550067245550353, 0.9958205613690048, 0.8829668698547877, 0.009829497370473854, 0.001092166374497095, 0.10375580557722401, 0.0019857570445401727, 0.00029786355668102587, 0.9795720311444935, 0.4003284909300429, 0.049125347649111833, 0.0064638615327778735, 0.011634950759000172, 0.0014364136739506385, 0.48938613871498254, 0.03835224509448205, 0.0033037514500864683, 0.12797064277443868, 0.13208179807888065, 0.03971201081312041, 0.13759249561462203, 0.21124340553675283, 0.06009284455641788, 0.09429415783379691, 0.10085451204301284, 0.02221773292187794, 0.008659667556165023, 0.027028659341969616, 0.0006122997261934865, 0.006122997261934865, 0.025366702942301582, 0.006210468651391077, 0.9920557013857897, 0.9904126866023909, 0.9936203354988247, 0.920789059333636, 0.07793246868325161, 0.9806741694463613, 0.25333341929051817, 0.0010389613914853788, 0.11714289688997645, 0.002337663130842102, 0.03177490255626116, 0.0006926409276569192, 0.4481386801940267, 0.12450220674633122, 0.02103896817757892, 0.006217235293586195, 0.10258438234417222, 0.19584291174796514, 0.6947760440582572, 0.11256034870426113, 0.8838071824186429, 0.9919073164182888, 0.9907061275266269, 0.9766441130056407, 0.29434045729174513, 0.0015017370269986997, 0.5916843886374876, 0.0003754342567496749, 0.0011263027702490248, 0.05931861256644864, 0.013515633242988297, 0.01764541006723472, 0.0015017370269986997, 0.0018771712837483746, 0.01689454155373537, 0.9905549925842595, 0.01944466274301267, 0.1504101853356568, 0.03793615574372079, 0.04213010260986078, 0.11914621778806782, 0.07205963251822342, 0.1946372613785876, 0.028785726217597188, 0.1429754613456814, 0.17080801782097405, 0.0009531697423045426, 0.0013344376392263597, 0.016203885619177225, 0.0032407771238354447, 0.12728546659488346, 0.10553415268309957, 0.7661296122261656, 0.20074547969608153, 0.7367461006104921, 0.062159767824674986, 0.9902029771617388, 0.0027658258936322302, 0.10734861749660093, 0.002247233538576187, 0.11201594869210532, 0.12791944758049065, 0.10648429690484086, 0.12446216521345035, 0.1331053711310511, 0.276063997008167, 0.001728641183520144, 0.0005185923550560432, 0.0005185923550560432, 0.005013059432208417, 0.32789390518722594, 0.026103421277112692, 0.04468634014167433, 0.09669910521428549, 0.5020299255655856, 0.0024744878905813145, 4.8519370403555186e-05, 0.983281804375031, 0.10519009046163992, 0.43762826053974024, 0.01382230587357852, 0.10097311578834478, 0.10893851239345782, 0.10776713053976474, 0.0007028291122158569, 0.11666963262783225, 0.003514145561079285, 0.0037484219318179037, 0.0009371054829544759, 0.3860702711559528, 0.09308413652376729, 0.00030519389024186, 0.0036623266829023194, 0.2633823272787251, 0.18952540584019503, 0.06286994138982314, 0.0009155816707255798, 0.9861936957672056, 0.9857249717129811, 0.9948105639798025, 0.9901164451018694, 0.9931186648583327, 0.9805909462613666, 0.9909222667497447, 0.9937817233216933, 0.9879270063187534, 0.10568380322276753, 0.07397866225593727, 0.8190494749764484, 0.051549125783929506, 0.8820628189694604, 0.06300448706924718, 0.17990479490071662, 0.019239818343548862, 0.0949497528642671, 0.04872421528561075, 0.2860985974462785, 0.0949497528642671, 0.22538072916728666, 0.005497090955299674, 0.01849021503146254, 0.026985719235107494, 0.0011764375090258464, 0.5270440040435792, 0.47057500361033855, 0.005847951637123225, 0.04908102266871279, 0.006683373299569401, 0.24268999294061386, 0.029030902770004585, 0.1589389712803848, 0.02318295113288136, 0.015246445339642695, 0.15768583878671555, 0.16708433248923502, 0.08249788916655978, 0.03111945692612002, 0.0010442770780577188, 0.0010442770780577188, 0.02882204735439304, 0.983815624628476, 0.07585148237581026, 0.09653825029648577, 0.5964684750461442, 0.03332868164997723, 0.04137353584135105, 0.15515075940506642, 0.0014434418483523946, 0.9570019454576376, 0.040416371753867045, 0.05358159880217657, 0.13970119819709403, 0.2887747552605754, 0.004067250074092611, 0.00707347838972628, 0.04438607689553241, 0.19169126436158218, 0.011848076302791518, 0.23342478686096724, 0.001414695677945256, 0.006719804470239966, 0.000176836959743157, 0.016976348135343072, 0.000176836959743157, 0.9903484977293885, 0.9946543000863335, 0.9960508654906208, 0.09542646951722016, 0.8947960257629194, 0.009219948745625135, 0.017556806560273648, 0.2089005534200676, 0.44248241461327353, 0.04859927613061256, 0.24223304123739875, 0.010177858875520956, 0.02951579073901077, 0.0005088929437760478, 0.9626076053365502, 0.8873838620469225, 0.054608237664426004, 0.05802125251845263, 0.8622993949218364, 0.11359632747473293, 0.023235612438013555, 0.8248041591414971, 0.09672613593442368, 0.0039480055483438236, 0.02303003236533897, 0.05099507166610772, 0.22289704187859702, 0.6642724618100039, 0.044186638257871655, 0.06775284532873654, 0.9937015942029817, 0.9821086806202365, 0.09556685450758316, 0.9017590374048873, 0.9922824919142011, 0.982090014536988, 0.07844905113036951, 0.9193248179340177, 0.7282406619269592, 0.015081907199670752, 0.1852920027388121, 0.07038223359846352, 0.9891701048663636, 0.016156087220408368, 0.11078459808280024, 0.2121063450793613, 0.24718813447224805, 0.07339479622985516, 0.032312174440816736, 0.09855213204449105, 0.019618105910495877, 0.020772112140525045, 0.005077627412128345, 0.02954255948874673, 0.0163868884664142, 0.020541310894519212, 0.09370530587836853, 0.0034620186900875074, 0.9914687032690738, 0.03819028978006228, 0.3176575505070601, 0.6438811473199285, 0.17226748261603675, 0.0518508066487873, 0.4782554665894723, 0.04775732191335672, 0.04980406428107201, 0.0047757321913356725, 0.001023371183857644, 0.06447238458303158, 0.12962701662196824, 0.000341123727952548, 0.10481585354248067, 0.16712452214707876, 0.6370797345037931, 0.02191364192449848, 0.0060724549911260845, 0.0002640197822228732, 0.0021121582577829858, 0.017689325408932505, 0.016105206715595267, 0.02455383974672721, 0.0018481384755601126, 0.9798286259618346, 0.018050117881606466, 0.0039239386699144495, 0.10751591955565591, 0.6050713429008081, 0.06435259418659697, 0.028252358423384034, 0.13341391477709127, 0.029821933891349815, 0.0007847877339828899, 0.007847877339828899, 0.9769410967056531, 0.994958218816025, 0.9599864420312771, 0.9914767283818319, 0.9835389400484912, 0.9754014491582357, 0.044372145546310464, 0.13016321563751307, 0.14293589646864735, 0.01646420708290721, 0.18402258365087992, 0.02137393699776519, 0.04920804493613299, 0.4009366662050565, 0.0014396952381914377, 0.00040606788769502087, 0.0018457631258864586, 0.0009228815629432293, 0.0014766105007091668, 3.6915262517729175e-05, 0.004356000977092042, 0.9925102724544862, 0.07807652533867192, 0.4793597338897576, 0.11006928997801423, 0.003013168968802322, 0.059554398442210596, 0.0023928106516959615, 0.08374837280935865, 0.13807403686452993, 0.003633527285908682, 0.020383201847780412, 0.004431130836474002, 0.0009748487840242806, 0.0007089809338358404, 0.015508957927659009, 0.9943813597450731, 0.07275878707719094, 0.017562465846218504, 0.002508923692316929, 0.4390616461554626, 0.03261600800012008, 0.002508923692316929, 0.42902595138619487, 0.9943272808259659, 0.9948883650480685, 0.08112203134500978, 0.9141828916956872, 0.5464647083472194, 0.0116707286958577, 0.3988643160172543, 0.042563834067245725, 0.9886799750641188, 0.9887277883449855, 0.009543704520704493, 0.07395179799596024, 0.0014939757170901059, 0.15313251100173586, 0.11727709379157332, 0.0052289150098153705, 0.12026504522575353, 0.19645780679734892, 0.014192769312356007, 0.0126987935952659, 0.30402405842783653, 0.9930483827282506, 0.9927349447863939, 0.99410330658714, 0.3593088883277745, 0.012152499041525633, 0.10005557544189438, 0.2981413098187622, 0.00418586078096994, 0.043884024316620335, 0.022279581576130324, 0.1277362677031472, 0.030786330905198268, 0.0002700555342561252, 0.0012152499041525632, 0.025417128508394872, 0.040259955461770504, 0.04423744503751169, 9.701194087173616e-05, 0.07770656463826066, 0.014939838894247368, 9.701194087173616e-05, 0.01736513741604077, 0.7525216253420574, 9.701194087173616e-05, 0.027163343444086125, 9.701194087173616e-05, 0.8868530535177515, 0.09224040426620166, 0.020177588433231614, 0.04952736177545267, 0.9410198737336009, 0.9917232444352839, 0.0935151384495982, 0.11901926711767044, 0.03778389432306998, 0.026448726026148988, 0.02267033659384199, 0.2881021942134086, 0.4061768639730023, 0.006612181506537247, 0.9898079885901296, 0.9978065007454093, 0.9962350293036971, 0.9896847937098964, 0.9872871099927958, 0.9919985453168022, 0.9935092912966282, 0.986465233356683, 0.14891051874137326, 0.05654829825621769, 0.5673679258373842, 0.14137074564054422, 0.049008525155388664, 0.018849432752072563, 0.016964489476865307, 0.07652286861443948, 0.2649188440619454, 0.00041588515551325804, 0.10209980567850485, 0.3760641518728636, 0.024745166753038852, 0.00020794257775662902, 0.07059650514837555, 0.06394234266016342, 0.013412296265302572, 0.007070047643725387, 0.00020794257775662902, 0.9786076777613312, 0.00914586614730216, 0.0050140717003681464, 0.0588493678516893, 0.5528673795932246, 0.11479585208737599, 0.002638985105456919, 0.10582330272882245, 0.022695271906929507, 0.01768120020656136, 0.022959170417475198, 0.07019700380515405, 0.026389851054569192, 0.9747122140623302, 0.9978241265796347, 0.9936023123396331, 0.013309918190285938, 0.19907008075905927, 0.005497574904683323, 0.10329653899852348, 0.0008680381428447352, 0.6776484435141232, 0.9281003294346574, 0.07086480347900093, 0.09256565091102788, 0.0019906591593769436, 0.5325013251333324, 0.37225326280348847, 0.9881168362725354, 0.9895694770748211, 0.9828000640898318, 0.9693267176196457, 0.11461482575085542, 0.8833246053557307, 0.12170176835086424, 0.726407429844221, 0.1483240301776158, 0.9958922473997254, 0.9902328119219411, 0.9704581741036128, 0.9780685999880164, 0.863825064446568, 0.13470539371320245, 0.14150205578024683, 0.039150766421412166, 0.0011185933263260619, 0.8182510182075142, 0.03625264874352154, 0.0194906713674847, 0.11928290876900637, 0.19373727339279792, 0.30444428676011104, 0.021829551931582866, 0.1438411546920371, 0.03781190245292032, 0.004287947700846634, 0.005067574555546022, 0.000389813427349694, 0.09862279711947258, 0.010914775965791433, 0.00389813427349694, 0.9779566522998491, 0.9881595822474318, 0.993548066947569, 0.07240300871870756, 0.03516717566337224, 0.7831345841003061, 0.002364179876529226, 0.010343286959815364, 0.014776124228307664, 0.060286586851495266, 0.002364179876529226, 0.019208961496799962, 0.9693157150724616, 0.8632580929722357, 0.12841855928512597, 0.9641890943351207, 0.03549162310436027, 0.9805581379674775, 0.058122403700376864, 0.025961340319501664, 0.059284851774384396, 0.0011624480740075372, 0.1336815285108668, 0.0763340901931616, 0.2677505397130694, 0.1491808361643006, 0.022086513406143208, 0.026348823010837512, 0.013949376888090446, 0.0007749653826716915, 0.08912101900724452, 0.0736217113538107, 0.003099861530686766, 0.9683728920057219, 0.9675992126634977, 0.2186511388402804, 0.014247215163794865, 0.031111265765837767, 0.047103037888464656, 0.00785050631474411, 0.028639810074159066, 0.008722784794160122, 0.028058291087881725, 0.12764341748787644, 0.014537974656933536, 0.1142684808034976, 0.31169417664465504, 0.04724841763503399, 0.03595551396784237, 0.12408177369294622, 0.17343247913900436, 0.15651223727178443, 0.005640080622406647, 0.059925856613070615, 0.03877555427904569, 0.40608580481327855, 0.051632136527945946, 0.13349806423134689, 0.007109772810666354, 0.08662878521734246, 0.3255309570398303, 0.0837296545566824, 0.008145176618044949, 0.21867728411835932, 0.0028301037401681603, 0.007109772810666354, 0.04176128689760334, 0.0005522153639352507, 0.010699172676245483, 0.020915156909047623, 0.0012424845688543142, 0.9874934804174422, 0.09732468527379122, 0.0016265964112611346, 0.571477539156412, 0.03605622044962182, 0.028194337795192998, 0.11494614639578685, 0.008132982056305672, 0.048255693534080324, 0.07482343491801219, 0.017079262318241913, 0.002168795215014846, 0.9807324238083656, 0.9423632353266939, 0.049227930203633266, 0.12521447276010084, 0.7836002488857924, 0.0848227073536167, 0.02598959875592615, 0.15423892595020225, 0.0003397333170709301, 0.05775466390205811, 0.7616820968730252, 0.05382587585174037, 0.9389625009692486, 0.18156155415920172, 0.11278823818980714, 0.7042387555266006, 0.9887323334300877, 0.011672880856985717, 0.0393959728923268, 0.16633855221204646, 0.07587372557040717, 0.1998980846758804, 0.4946383263147698, 0.013131990964108933, 0.9902382998281796, 0.9921209161702007, 0.8842479419664325, 0.0920895837542087, 0.0046984481507249334, 0.018793792602899734, 0.9922381175326497, 0.008246118268173936, 0.09070730094991329, 0.014430706969304388, 0.02061529567043484, 0.6452587544846105, 0.12163024445556556, 0.09689188965104374, 0.9873514770994556, 0.4723686099634913, 0.0016135563107207217, 0.525212579139595, 0.0008067781553603608, 0.7601843730529625, 0.11198183399080466, 0.047376929765340435, 0.07752588507055708, 0.021352420833684174, 0.13155846384624764, 0.03082325265507635, 0.07421688209127322, 0.13775755376570434, 0.07387248820685896, 0.08661506193018662, 0.14722838558709653, 0.10555672557297095, 0.14860596112475358, 0.0037883327285568695, 0.015842118683056, 0.00413272661297113, 0.017391891162920173, 0.0012053785954499131, 0.023101875260336358, 0.007452217825914954, 0.010433104956280937, 0.4598018398589527, 0.1140189327364988, 0.02459231882551935, 0.36068734277428377, 0.004034355400215794, 0.012103066200647383, 0.17347728220927916, 0.10892759580582645, 0.6656686410356061, 0.032274843201726355, 0.008953785666215458, 0.18802949899052462, 0.29291670250904855, 0.03261736206978488, 0.013430678499323188, 0.456003512857973, 0.007674673428184679, 0.9897855847998442, 0.9825488421676402, 0.5111086582599785, 0.0029231907423579945, 0.00652096396372168, 0.08342336657037046, 0.015740257843466124, 0.22710943459858263, 0.02653357750755718, 0.02833246411823902, 0.000674582479005691, 0.06341075302653496, 0.02675843833389241, 0.004722077353039837, 0.0024734690896875337, 0.9932655088800185, 0.8734450053101807, 0.07112337900382901, 0.05365447889762539, 0.9025420305734906, 0.09336641695587834, 0.9863582707860843, 0.9669802240750943, 0.02181158400169386, 0.9953465226430489, 0.02196147202423334, 0.3118529027441134, 0.0014640981349488894, 0.0009760654232992595, 0.5939358100775994, 0.0009760654232992595, 0.06881261234259779, 0.9955051086166554, 0.004616051641676598, 0.17390086857777798, 0.004704821865554994, 0.03169096992458741, 0.2962262370822078, 0.02893909298435713, 0.12179274716115945, 0.10004404231095242, 0.11202802253453588, 0.009498413954988382, 0.0004438511193919805, 0.006036375223730935, 0.11007507760921117, 0.9920492906392792, 0.017213461695647955, 0.5386553989150323, 0.006087687672851106, 0.007557129524918615, 0.005038086349945743, 0.0598272754056057, 0.36463149957732316, 0.001049601322905363, 0.04828024836220547, 0.0027853989439733926, 0.06963497359933482, 0.0027853989439733926, 0.4753747531047923, 0.3379617385354383, 0.06313570939673023, 0.9944891231464411, 0.9888703356823617, 0.9963416034968541, 0.9923137841200103, 0.9907670775972892, 0.9665501042537904, 0.9778680619033144, 0.09848299857860462, 0.002290302292525689, 0.15803085818427254, 0.7397676404857976, 0.1159110120478744, 0.10559432511167616, 0.04146903572393412, 0.09527763817547792, 0.03752442013068186, 0.05269601856626751, 0.10872978878836387, 0.24041926320924736, 0.15384000813683854, 0.017497910195708788, 0.015171598435585656, 0.0003034319687117131, 0.009608679009204249, 0.00586635139509312, 0.00020228797914114208, 0.013812427022686088, 0.5639073467087928, 0.10149131160147604, 0.3206885230484509, 0.060988065187932386, 0.3499376179380755, 0.09854778826098831, 0.30270905526205466, 0.0007437568925357608, 0.0003718784462678804, 0.022312706776072826, 0.008181325817893369, 0.1558170689862419, 0.981927171925279, 0.011830447854521434, 0.996932941735131, 0.08045207092236023, 0.9187626499333538, 0.9836945986239668, 0.7198147869899363, 0.17613572581224748, 0.09468567919386715, 0.008145004661838035, 0.9917777890686065, 0.019605409027436724, 0.2530550017059888, 0.3392824951136966, 0.3510820468431724, 0.00998423607878722, 0.012707209554820098, 0.013977930510302107, 0.9891574955130674, 0.05876656025164897, 0.2268471416707009, 0.07767048872420738, 0.0008219099335894961, 0.5260223574972774, 0.02465729800768488, 0.02712302780845337, 0.04479409138062754, 0.01068482913666345, 0.00041095496679474804, 0.00205477483397374, 0.985544885890164, 0.999249977858309, 0.9974205539032861, 0.879926138698231, 0.11654650843685178, 0.9884229039457838, 0.029920314004086002, 0.1898392336810974, 0.11349084622239518, 0.0732531825617278, 0.5901524003564549, 0.001031734965658138, 0.001031734965658138, 0.15548637391846912, 0.8424935437851802, 0.9367080443531764, 0.055100473197245675, 0.9889289939952058, 0.14787260884608858, 0.12501003527981389, 0.48409926413726584, 0.0165701221260156, 0.0023072321947616658, 0.04341791493778771, 0.0008389935253678784, 0.17996411119140993, 0.2761644198189901, 0.719311977202951, 0.9934479829322398, 0.9978536437931018, 0.8125724496056079, 0.09869848389552309, 0.08788221168779453, 0.9972812482287972, 0.08454180215716901, 0.250460740080597, 0.015371236755848911, 0.12296989404679129, 0.0018083807948057543, 0.08454180215716901, 0.08725437334937765, 0.04973047185715824, 0.0926795157337949, 0.002260475993507193, 0.010850284768834526, 0.19530512583902146, 0.0018083807948057543, 0.006038251034195027, 0.12378414620099805, 0.015095627585487567, 0.033210380688072645, 0.10566939309841297, 0.7125136220350132, 0.2125211075157869, 0.017896514317118896, 0.005872293760304638, 0.022929908968808588, 0.043902386684182296, 0.11464954484404292, 0.0634766992185311, 0.06068036885648126, 0.08808440640456958, 0.02740403754808831, 0.2972499174858967, 0.026005872367063396, 0.004474128579279724, 0.0008388991086149482, 0.013981651810249138, 0.007521946624593875, 0.7634775823962783, 0.22941937205011317, 0.5014804646448654, 0.024230289922443884, 0.006057572480610971, 0.2604756166662718, 0.00043268374861506935, 0.017740033693217843, 0.16917934570849213, 0.009086358720916456, 0.010817093715376733, 0.025978677000264547, 0.18647707874162497, 0.26156613144101976, 0.029893272164687974, 0.10640581401478219, 0.04341641909633253, 0.058007182891001666, 0.08683283819266506, 0.019217103534442267, 0.0007117445753497137, 0.030605016740037686, 0.12811402356294846, 0.02241995412351598, 0.02865812154429343, 0.17663824006391768, 0.29335495326249456, 0.4621773419961504, 0.0026052837767539484, 0.01406853239447132, 0.016673816171225268, 0.0020842270214031585, 0.0036473972874555274, 0.10808825571406314, 0.5583752044062813, 0.19291087791119788, 0.025204436310005754, 0.07803681242136397, 0.03102084468923785, 0.00339290488788539, 0.0029082041896160487, 0.9838574171723509, 0.001738994885149336, 0.12288897188388641, 0.03999688235843473, 0.0052169846554480075, 0.015071289004627578, 0.056227501286495195, 0.08984806906604903, 0.6463264323138366, 0.023186598468657813, 0.30754410105343594, 0.016851731564571832, 0.017553887046428993, 0.2282005316035769, 0.002106466445571479, 0.36863162797500887, 0.055470283066715614, 0.002808621927428639, 0.8632308622014493, 0.13636369050290878, 0.9877336327521177, 0.9955054919187761, 0.9908178637924944, 0.9777587102606324, 0.015719593412550362, 0.0047158780237651085, 0.9980850734329292, 0.9824111265269144, 0.13333092907395108, 0.08648492696688719, 0.7783643427019846, 0.09540293494099332, 0.043364970427724234, 0.6559937344703012, 0.01103835610887526, 0.13088336529094952, 0.006307632062214435, 0.04415342443550104, 0.011826810116652065, 0.993683352464683, 0.9915294119041368, 0.042387033476926406, 0.8598512505319357, 0.09385700269890847, 0.046053395652678436, 0.9095545641403991, 0.023026697826339218, 0.019737169565433615, 0.06392499805165756, 0.46084492059462934, 0.13913087811243116, 0.0171302282360651, 0.033424835582566044, 0.2849467233413755, 0.22174807698663435, 0.6860923407620653, 0.017057544383587257, 0.05875376398791166, 0.017057544383587257, 0.9813693839501317, 0.9915635558082659, 0.8267182877806815, 0.1716574965081606, 0.9965511735120675, 0.9986160437736502, 0.8408819903018196, 0.15015749826818206, 0.9864862492490484, 0.0689763739731247, 0.7973668831293215, 0.008277164876774963, 0.12415747315162445, 0.9935688939871854, 0.002943700561665788, 0.9949707898430364, 0.9709531951970304, 0.9889878528463768, 0.9589079477318757, 0.0486055416680212, 0.11500254575792186, 0.058326650001625444, 0.0007336685534795653, 0.46698003428974333, 0.14233169937503568, 0.09776133475115208, 0.004402011320877392, 0.02237689088112674, 0.017241211006769785, 0.002934674213918261, 0.00018341713836989132, 0.0232939765729762, 0.9911728019749211, 0.9689670199245559, 0.05295783540116178, 0.406010071408907, 0.002647891770058089, 0.04677942127102624, 0.024713656520542165, 0.06884518602151031, 0.07061044720154905, 0.002647891770058089, 0.02647891770058089, 0.29744650883652535, 0.002517799663184481, 0.0041963327719741345, 0.4649536711347341, 0.017624597642291365, 0.12924704937680334, 0.3801877491408566, 0.9935619689204896, 0.9969783904353453, 0.9927298185542281, 0.9920431207980823, 0.9929897020229634, 0.27023146468839926, 0.09422980450880426, 0.060434305001427206, 0.39149766880310516, 0.0006626568530858246, 0.05142217179945999, 0.013518199802950822, 0.047313699310327875, 0.0001325313706171649, 0.00039759411185149473, 0.018819454627637417, 0.004771129342217937, 0.0027831587829604634, 0.043735352303664425, 0.9233094825580886, 0.05406767240205023, 0.021835021546981824, 0.9708198173372097, 0.02554788992992657, 0.9940798806083931, 0.15760439497826587, 0.842235967684462, 0.9847741095355483, 0.9799598171898178, 0.9806169347769688, 0.9735741690924944, 0.1512384643317931, 0.7637542448755552, 0.0831811553824862, 0.9881010640720428, 0.009984791463036548, 0.040364050595254136, 0.0008497694862158765, 0.3392704673716887, 0.06968109786970188, 0.09921058751570358, 0.027829950673569956, 0.16825435827074353, 0.0928373163690845, 0.0288921625313398, 0.015720735494993716, 0.08773869945178925, 0.008710137233712735, 0.009347464348374641, 0.0008497694862158765, 0.9852435027710978, 0.9898271004547763, 0.014783995297093806, 0.04641856587904722, 0.016532639902126407, 0.3242940903878641, 0.12351789619184825, 0.13623531150117624, 0.13973260071124144, 0.07741726569553423, 0.07201236418906982, 0.02591173369275581, 0.008584255333796403, 0.005722836889197602, 0.005881804580564202, 0.0025434830618656008, 0.8255718967465667, 0.17011784539020164, 0.9724905679672212, 0.022407616773438277, 0.9824806698581753, 0.9868049401461559, 0.06994323193744406, 0.006476225179392969, 0.09131477502944085, 0.12628639099816288, 0.18522004013063892, 0.060228894168354606, 0.06864798690156547, 0.33158272918492, 0.01683818546642172, 0.0025904900717571874, 0.040152596112236406, 0.12952501220862056, 0.8065875760264098, 0.05887500554937298, 0.08284935797278346, 0.7114524232266008, 0.2051507911707019, 0.0028928634562863705, 0.07666088159158882, 0.5062511048501148, 0.012535741643907606, 0.026517915015958397, 0.1451253167236996, 0.033750073656674325, 0.1817682538366603, 0.013500029462669729, 0.0033312111299736, 0.08328027824934, 0.12408761459151661, 0.028315294604775602, 0.7595161376339808, 0.23862258698800248, 0.0008756792183045963, 0.0008756792183045963, 0.7583382030517803, 0.00043783960915229814, 0.9545195905457551, 0.004132119439592013, 0.022726656917756074, 0.016528477758368052, 0.06937323014523274, 0.37607593183994587, 0.018256113196113876, 0.536729727965748, 0.18879815313832232, 0.8100570331234, 0.00809817079141886, 0.9895964707113847, 0.2516674388077089, 0.528079158169653, 0.1943331302064323, 0.005431671341173574, 0.01991612825096977, 0.9814453683343518, 0.9933687181487629, 0.0782276412801916, 0.10046494032430699, 0.29821806396661876, 0.04725426046874519, 0.0039709462578777464, 0.16241170194719984, 0.15248433630250546, 0.008338987141543268, 0.00039709462578777464, 0.001191283877363324, 0.14652791691568884, 0.9878583298680337, 0.866337748849002, 0.0024098407478414523, 0.05663125757427413, 0.06988538168740212, 0.0036147611217621787, 0.9856655860300652, 0.9861943263034428, 0.8575486914841476, 0.14159524905901041, 0.15222034169820453, 0.17820320195586908, 0.06683641412191697, 0.10123510647561751, 0.15687764683872932, 0.06708153544510248, 0.09608755868872171, 0.05539741903992629, 0.09494365918052264, 0.020426776932126214, 0.0009804852927420581, 0.0031865772014116893, 0.0007353639695565437, 0.005065840679167301, 0.0007353639695565437, 0.9762067572597725, 0.012835190288388882, 0.13533575642315923, 0.022084077407963223, 0.27463532161185034, 0.06021214267641255, 0.008871381522857021, 0.22782462761890265, 0.07776615292376793, 0.020385302222735283, 0.028879178148874984, 0.0015100223868692803, 0.03510802049471076, 0.09192261280066744, 0.0024537863786625804, 0.965948740969802, 0.020335762967785304, 0.9921140190195052, 0.9898959447807323, 0.14616657031791813, 0.02235488722509336, 0.6878426838490266, 0.01375685367698053, 0.005158820128867699, 0.12209207638320221, 0.01704247105386856, 0.02158713000156684, 0.11304839132399477, 0.1664481339594496, 0.1079356500078342, 0.08180386105856909, 0.06135289579392681, 0.012497812106170276, 0.006816988421547423, 0.41129163476669456, 0.05947418321010076, 0.14538133673580186, 0.11894836642020153, 0.034362861410280436, 0.002643297031560034, 0.6370345846059682, 0.007994120339925127, 0.11191768475895178, 0.05729119576946341, 0.0013323533899875213, 0.013323533899875213, 0.7474502517829994, 0.061288255939425974, 0.0777961874006453, 0.08890992845788034, 0.07038702669582193, 0.7594389722443945, 0.3155185262974169, 0.041154590386619595, 0.641706761213587, 0.004968434207782695, 0.006210542759728368, 0.06707386180506637, 0.7291177199921104, 0.14035826636986112, 0.049684342077826946, 0.9921532146803745, 0.00040262605831241154, 0.14414012887584332, 0.009461712370341671, 0.00020131302915620577, 0.3641752697435762, 0.026774632877775366, 0.06703723870901653, 0.09501974976172912, 0.2125865587889533, 0.010266964486966495, 0.002617069379030675, 0.06764117779648514, 0.9853999938960114, 0.047369158765426425, 0.11697282062482851, 0.10666116701602821, 0.0022556742269250678, 0.44050095260093824, 0.008700457732425261, 0.09570503505667788, 0.013211806186275397, 0.006767022680775204, 0.0012889567011000387, 0.12535103918197876, 0.034801830929701044, 0.9915694745641703, 0.39265660754481685, 0.6062934519520723, 0.9775992290389093, 0.10649529973209118, 0.8886849150057264, 0.007265412966519431, 0.07083777642356445, 0.0036327064832597155, 0.015439002553853791, 0.03632706483259716, 0.04450065441993152, 0.12623655029327513, 0.10898119449779148, 0.2769938693485533, 0.30878005107707585, 0.9906855551132919, 0.1686787891986723, 0.12912838778903632, 0.08660107444534172, 0.02601898352755133, 0.2108968129907764, 0.06402293717923478, 0.06266979539102631, 0.21143806970605977, 0.00212636566718473, 0.0005412567152833857, 0.0081575119231996, 0.0016624313397989707, 0.004793988049652846, 0.00981994326299857, 0.013338111912340578, 0.007389807449889779, 0.08597053221406425, 0.028900732106004582, 0.0409000234107761, 0.45655840086447746, 0.0737517416781079, 0.12474872972338687, 0.10543279737912051, 0.03102255800745808, 0.008340970785024108, 0.0002926656415797932, 0.0024876579534282425, 0.0034388212885625704, 0.030364060313903547, 0.0002926656415797932, 0.030959060648975942, 0.11539286241891034, 0.6951716345724598, 0.12477439594890305, 0.032835367354974485, 0.9040434129555313, 0.09176380507443363, 0.15740912476003888, 0.22200207686294424, 0.05841550300758863, 0.1809220403790881, 0.06273971737431032, 0.05212222674173473, 0.060075692451954994, 0.08849195829041186, 0.017451293694269704, 0.0237445699601236, 0.0333196160578645, 0.009420609870357982, 0.001621580387520636, 0.0057913585268594145, 0.02648581299617039, 0.11639875253374157, 0.08440068908821102, 0.20497310207136962, 0.006956100749028381, 0.06677856719067246, 0.0037099203994818033, 0.05796750624190317, 0.1312384341316688, 0.3269367352043339, 0.10141751551464342, 0.07817600154253763, 0.10141751551464342, 0.004225729813110143, 0.6845682297238431, 0.029580108691771, 0.0018646776005512978, 0.014917420804410383, 0.0009323388002756489, 0.09976025162949444, 0.560335618965665, 0.14171549764189864, 0.031699519209372064, 0.004661694001378245, 0.10348960683059703, 0.040090568411852906, 0.8929231771372357, 0.0038077747425894915, 0.10280991804991627, 0.1356404507738152, 0.007046257183055336, 0.7891808045021976, 0.031708157323749014, 0.029946593027985177, 0.005284692887291502, 0.993092801662262, 0.5039640367102108, 0.027277417054818776, 0.15478165470011, 0.30272430281875246, 0.001414966878924317, 0.001179139065770264, 0.008096754918289146, 0.0004716556263081056, 0.9684560778582758, 0.5528507558544765, 0.14094057098263793, 0.3055227861301054, 0.062112909337420655, 0.1024023640427746, 0.66477600263834, 0.00671490911755899, 0.16115781882141575, 0.9900106579516569, 0.6252298873001426, 0.2887792001459603, 0.018335187310854623, 0.06692343368461937, 0.00865052406356904, 0.7050177111808767, 0.03460209625427616, 0.0432526203178452, 0.20761257752565696, 0.9957200203291477, 0.7316527316202504, 0.2657712914005183, 0.03654826164272473, 0.15057883796802587, 0.008771582794253935, 0.5233711067238181, 0.24999010963623716, 0.010233513259962924, 0.020467026519925848, 0.24085823408173995, 0.1795196704689235, 0.01246039930982868, 0.08966349194082907, 0.1269804610078933, 0.014001892007951816, 0.061017419300707455, 0.2565943053750803, 0.001027661798748757, 0.015414926981231357, 0.00019268658726539196, 0.0005138308993743785, 0.0016699504229667303, 0.008250846591775378, 0.9818507444212698, 0.0837407311694287, 0.1790319080173993, 0.0007219028549088682, 0.7341752034423189, 0.0007219028549088682, 0.0014438057098177363, 0.9916495573550812, 0.9859214048113418, 0.07898994605918837, 0.13979515633496645, 0.0841044029982725, 0.002841364966157855, 0.5176966968339611, 0.015343370817252417, 0.0528493883705361, 0.10854014170723006, 0.9723934181431393, 0.9904848115408775, 0.19840795378286138, 0.7032180640405213, 0.09543673726264218, 0.9788223151460426, 0.9854164512253585, 0.9856899579942797, 0.004209083458072527, 0.015784062967771975, 0.18414740129067306, 0.10207027385825877, 0.023149959019398897, 0.00631362518710879, 0.015784062967771975, 0.6481988525431691, 0.9746263165476057, 0.9594049399302085, 0.9705767489454245, 0.9731596714263435, 0.15200314861822709, 0.14096018482972342, 0.0025983444208243947, 0.012017342946312825, 0.3813070437559799, 0.0967883296757087, 0.02013716926138906, 0.08184784925596843, 0.06365943831019767, 0.01461568736713722, 0.03442806357592323, 0.0032341884259013093, 0.12734616926986406, 0.7814607784084038, 0.041640175983479355, 0.04608718506909366, 0.9342211501631216, 0.06207449502744994, 0.0034119812356163868, 0.21495481784383239, 0.04776773729862942, 0.7301639844219068, 0.02088030971317072, 0.9674543500435766, 0.9963435720636029, 0.006813556874261843, 0.03236439515274375, 0.5144235440067692, 0.37133884964727043, 0.07324573639831482, 0.6645377715791894, 0.3342349738711899, 0.9969672162640669, 0.9761678644550765, 0.9925293310146238, 0.9863761523144481, 0.06099234212175405, 0.058340501159938656, 0.1670659805943698, 0.0415455084017745, 0.1237525782180517, 0.014143151796348766, 0.018562886732707756, 0.4640721683176939, 0.05126892526176428, 0.18541945390447898, 0.8127263914130901, 0.46382100318783775, 0.014147045848866512, 0.039157001903112665, 0.005052516374595183, 0.25868883837927337, 0.018694310586002176, 0.01162078766156892, 0.15182811705658525, 0.019704813860921214, 0.007326148743163015, 0.008084026199352293, 0.0015157549123785549, 0.9890389177567904, 0.010898806363758217, 0.1662067970473128, 0.01104608753083603, 0.04676177054720586, 0.036525729435297805, 0.04131236736532675, 0.039324071609776266, 0.273574767847039, 0.17924118033369932, 0.17872569624892695, 0.0033874668427897156, 0.001988295755550485, 0.01104608753083603, 0.9970432820237723, 0.9936562383913663, 0.9841938072289546, 0.25294175700396176, 0.00030903085767130335, 0.006026101724590415, 0.07324031326809889, 0.00030903085767130335, 0.05299879209062852, 0.6104904593296597, 0.0026267622902060783, 0.00092709257301391, 0.39391150901029043, 0.11966113163695194, 0.43530779238739814, 0.024579043255157695, 0.025872677110692313, 0.9751946524839529, 0.02538881653596629, 0.0679867890502863, 0.10856640376467593, 0.0710674404291274, 0.2362540919497449, 0.048865504629893274, 0.2130960919294911, 0.11685229368017958, 0.08349627530238286, 0.016465550473116212, 0.0002124587157821447, 0.002230816515712519, 0.0011685229368017958, 0.007223596336592919, 0.001274752294692868, 0.04333736139591441, 0.11001022508193657, 0.776072133305298, 0.04800446185393596, 0.0026669145474408867, 0.01600148728464532, 0.0026669145474408867, 0.9700639462757047, 0.00854245620594136, 0.6278705311366899, 0.18366280842773922, 0.13027245714060573, 0.04698350913267748, 0.9874749076575494, 0.6951419169561884, 0.00047192255054731054, 0.1613975122871802, 0.10004758071602983, 0.04247302954925795, 0.9806694887722747, 0.7724212136927352, 0.12201180863056887, 0.09126867574727593, 0.014410843539043568, 0.07987179352340239, 0.12377379212672779, 0.17513677439251457, 0.05214834896709851, 0.1605289537481165, 0.06714885296215245, 0.13618258600745303, 0.05670347583470651, 0.014136600623611042, 0.06895519637516942, 0.015157577335316284, 0.012958550571643454, 0.0040839068468209675, 0.031728814732993674, 0.0013351233922299316, 0.0021706071841909634, 0.07597125144668372, 0.8986313742550589, 0.021706071841909636, 0.9851210333659786, 0.7849270486402635, 0.14736178307805714, 0.06616243321871954, 0.9886826211060922, 0.8227738453398987, 0.017260989762375497, 0.15930455134859053, 0.05829949800287508, 0.04377436710113487, 0.002387692750970993, 0.044570264684791874, 0.8510134913252448, 0.0045964576460987274, 0.02911089842529194, 0.16914964137643318, 0.04872245104864651, 0.25740162818152873, 0.006435040704538219, 0.001532152548699576, 0.018692261094134827, 0.4642422222559715, 0.08328780954656156, 0.18919018989715639, 0.07060158690039656, 0.3024134734348662, 0.011984218230962199, 0.0573637893565722, 0.012385363611078089, 0.016848105964867358, 0.004462742353789271, 0.06297982467819466, 0.1775569738737956, 5.014317251448619e-05, 0.010881068435643503, 0.09846648198279438, 0.02263739472720022, 0.331025509781354, 0.1635335291221786, 0.019050048021796905, 0.015710104537455888, 0.16538905328014586, 0.06667516807628916, 0.0878281434771156, 0.00024740322106229747, 0.028451370422164207, 0.00024740322106229747, 0.0006185080526557436, 0.9943356022003074, 0.0007774484186291234, 0.1603487363422567, 0.013216623116695097, 0.006608311558347548, 0.041010404082686254, 0.010106829442178604, 0.0476187156410338, 0.18581017205236047, 0.0017492589419155274, 0.5323578046562922, 0.0007774484186291234, 0.14439413178324653, 0.6412798205667714, 0.21375994018892377, 0.04445869533431199, 0.18591818048894104, 0.00673616595974424, 0.13068161961903826, 0.004041699575846544, 0.20882114475207145, 0.41360058992829635, 0.005388932767795392, 0.0035843414480272394, 0.000293798479346495, 0.005288372628236911, 0.8255149672677817, 0.000411317871085093, 0.02585426618249156, 0.006287287458014994, 0.000470077566954392, 0.013867288225154565, 0.053236284457584895, 0.021976126255117828, 0.042718298896980374, 0.000176279087607897, 0.000235038783477196, 0.9855423094716713, 0.010753210174885404, 0.14884706715762427, 0.05716180145596978, 0.17544711337970922, 0.018676628198485177, 0.02263833721028506, 0.1726173212284236, 0.3276899311188763, 0.008489376453856898, 0.058293718316484035, 0.003302852544720193, 0.00990855763416058, 0.9842500583266176], \"Term\": [\"abstract\", \"abuse\", \"accept\", \"accept\", \"accept\", \"accept\", \"accept\", \"accept\", \"acceptable\", \"accounting\", \"accuse\", \"acknowledge\", \"acquire\", \"action\", \"action\", \"action\", \"action\", \"action\", \"action\", \"action\", \"action\", \"action\", \"action\", \"actions_speak\", \"active\", \"active\", \"active\", \"active\", \"active\", \"active\", \"active\", \"activity\", \"activity\", \"activity\", \"activity\", \"activity\", \"activity\", \"activity\", \"activity\", \"activity\", \"adventure\", \"adventure\", \"adventure\", \"adventure\", \"adventure\", \"adventure\", \"adventure\", \"adventure\", \"adventure\", \"age\", \"age\", \"age\", \"age\", \"age\", \"age\", \"age\", \"age\", \"age\", \"age\", \"age\", \"ago\", \"airplane\", \"aka\", \"alot\", \"alot\", \"alot\", \"also\", \"also\", \"also\", \"also\", \"also\", \"also\", \"also\", \"also\", \"also\", \"also\", \"also\", \"also\", \"also\", \"also\", \"also\", \"always\", \"always\", \"always\", \"always\", \"always\", \"always\", \"always\", \"always\", \"always\", \"always\", \"always\", \"always\", \"always\", \"amaze\", \"amuse\", \"amuse\", \"analysis\", \"angel\", \"animal\", \"animal\", \"animal\", \"animal\", \"animal\", \"animal\", \"animal\", \"animal\", \"animal\", \"animal\", \"animal\", \"animate\", \"anime\", \"annoying\", \"answer\", \"answer\", \"answer\", \"answering_question\", \"anthropology\", \"antique\", \"antique\", \"apparent\", \"appreciate\", \"appreciate\", \"appreciate\", \"appreciate\", \"appreciate\", \"appreciate\", \"appreciate\", \"appreciate\", \"appreciate\", \"appreciate\", \"approachable\", \"arie\", \"arm\", \"arm\", \"arm\", \"arm\", \"art\", \"art\", \"art\", \"art\", \"art\", \"art\", \"art_gallerie\", \"article\", \"artist\", \"artist\", \"artist\", \"artist\", \"artist\", \"asian\", \"ask\", \"ask\", \"ask\", \"ask\", \"ask\", \"ask\", \"ask\", \"ask\", \"asshole\", \"assumption\", \"astronomy\", \"attract\", \"attract\", \"attract\", \"attract\", \"attract\", \"attractive\", \"attractive\", \"attractive\", \"attractive\", \"attractive\", \"audience\", \"audio\", \"authentic\", \"authentic\", \"authentic\", \"authenticity\", \"authenticity\", \"author\", \"avid_reader\", \"awesomeness\", \"ba\", \"baby\", \"baby\", \"back\", \"back\", \"back\", \"back\", \"back\", \"back\", \"back\", \"back\", \"back\", \"back\", \"back\", \"back\", \"backpack\", \"backpack\", \"backpack\", \"backpack\", \"bad\", \"bad\", \"bad\", \"bad\", \"bad\", \"bad\", \"bad\", \"bad\", \"bad\", \"bagel\", \"banana\", \"band\", \"band\", \"band\", \"bar_scene\", \"bare\", \"barefoot\", \"baseball\", \"basketball\", \"bass\", \"bass\", \"bathroom\", \"bay\", \"bay\", \"bay\", \"bay_area\", \"bay_area\", \"bay_area\", \"bay_area\", \"beach\", \"beach\", \"beach\", \"beach\", \"beach\", \"bear\", \"bear\", \"bear\", \"bear\", \"bear\", \"bear\", \"bear\", \"bear\", \"bear\", \"beard\", \"beauty\", \"beauty\", \"beauty\", \"become\", \"become\", \"become\", \"become\", \"become\", \"become\", \"become\", \"become\", \"become\", \"become\", \"become\", \"become\", \"become\", \"beer\", \"beer\", \"beer\", \"beer\", \"beer\", \"behavior\", \"believe\", \"believe\", \"believe\", \"believe\", \"believe\", \"believe\", \"believe\", \"believe\", \"bicycle\", \"bicycle\", \"big\", \"big\", \"big\", \"big\", \"big\", \"big\", \"big\", \"big\", \"big\", \"big\", \"big\", \"big\", \"big\", \"big\", \"big\", \"bike\", \"bike\", \"bike\", \"biking\", \"bilingual\", \"birth\", \"bit\", \"bit\", \"bit\", \"bit\", \"bit\", \"bit\", \"bit\", \"bit\", \"bit\", \"bit\", \"bit\", \"bit\", \"bit\", \"bit\", \"bitch\", \"bitter\", \"black\", \"black\", \"black\", \"black\", \"black\", \"black\", \"black\", \"blah\", \"blah_blah\", \"blind\", \"bliss\", \"board_game\", \"board_game\", \"board_game\", \"boarding\", \"book\", \"book\", \"book\", \"book\", \"book\", \"book\", \"book\", \"book\", \"book\", \"book\", \"book\", \"book\", \"boot\", \"boot\", \"boot\", \"box\", \"box\", \"box\", \"box\", \"box\", \"box\", \"box\", \"box\", \"breakfast\", \"breakfast\", \"breath\", \"breath\", \"breath\", \"british\", \"bro\", \"brown_hair\", \"bs\", \"bs\", \"buddhist\", \"buddhist\", \"bunny\", \"bus\", \"bus\", \"business\", \"business\", \"business\", \"business\", \"business\", \"business\", \"business\", \"business\", \"butt\", \"buy\", \"buy\", \"buy\", \"buy\", \"ca\", \"caffeine\", \"californian\", \"californian\", \"camp\", \"camp\", \"camp\", \"camping\", \"camping\", \"camping\", \"car\", \"car\", \"car\", \"car\", \"car\", \"car\", \"car\", \"care\", \"care\", \"care\", \"care\", \"care\", \"care\", \"care\", \"care\", \"care\", \"care\", \"carefully\", \"casual\", \"casual\", \"casual\", \"casual\", \"casual\", \"casually\", \"cat\", \"cat\", \"cat\", \"cat\", \"cat\", \"cat\", \"cat\", \"challenge\", \"challenge\", \"challenge\", \"challenge\", \"challenge\", \"challenge\", \"challenge\", \"challenge\", \"change\", \"change\", \"change\", \"change\", \"change\", \"change\", \"change\", \"change\", \"change\", \"change\", \"change\", \"charismatic\", \"chat\", \"chat\", \"chat\", \"chat\", \"chat\", \"cheap\", \"cheap\", \"cheap\", \"cheap\", \"cheese\", \"chemistry\", \"chemistry\", \"chemistry\", \"chemistry\", \"chemistry\", \"cherry\", \"chicken\", \"chill\", \"chill\", \"chill\", \"chill\", \"chill\", \"chill\", \"chill\", \"chinese\", \"chinese\", \"choir\", \"choose\", \"choose\", \"choose\", \"choose\", \"choose\", \"choose\", \"choose\", \"choose\", \"choose\", \"choose\", \"city\", \"city\", \"city\", \"city\", \"city\", \"city\", \"clown\", \"coastal\", \"coaster\", \"coffee\", \"coffee\", \"coffee\", \"coffee\", \"coffee\", \"coffee\", \"coffee\", \"coffee\", \"collaborate\", \"colleague\", \"collect\", \"collect\", \"collect\", \"collect\", \"college\", \"college\", \"college\", \"college\", \"com\", \"com\", \"com\", \"com\", \"com\", \"come\", \"come\", \"come\", \"come\", \"come\", \"come\", \"come\", \"come\", \"come\", \"come\", \"come\", \"come\", \"come\", \"come\", \"come\", \"comedy_club\", \"comedy_club\", \"comic_book\", \"comic_strip\", \"commute\", \"company\", \"company\", \"company\", \"company\", \"company\", \"company\", \"company\", \"company\", \"compassion\", \"compassion\", \"compassionate\", \"compassionate\", \"complicate\", \"computer\", \"computer\", \"computer\", \"computer\", \"computer\", \"computer\", \"concert\", \"concert\", \"conclusion\", \"connect\", \"connect\", \"connect\", \"connect\", \"connected\", \"continually\", \"contradict\", \"contrary\", \"contrast\", \"control\", \"control\", \"control\", \"conversation\", \"conversation\", \"conversation\", \"conversation\", \"conversation\", \"conversation\", \"conversation\", \"conversation\", \"conversation\", \"conversation\", \"conversation\", \"conversation\", \"conversation\", \"cook\", \"cook\", \"cook\", \"cook\", \"cook\", \"cook\", \"cook\", \"cook\", \"cook\", \"cook\", \"cooking\", \"cooking\", \"cooking\", \"cooking\", \"cooking\", \"cooking\", \"cooking\", \"cooking\", \"cool\", \"cool\", \"cool\", \"cool\", \"cool\", \"cool\", \"cool\", \"cool\", \"cool\", \"costume\", \"country\", \"country\", \"country\", \"country\", \"country\", \"country\", \"country\", \"country\", \"country\", \"country\", \"couple\", \"couple\", \"couple\", \"couple\", \"couple\", \"couple\", \"couple\", \"couple\", \"couple\", \"couple\", \"couple\", \"couple\", \"courage\", \"courageous\", \"craft\", \"craft\", \"craft\", \"craft\", \"creation\", \"creative\", \"creative\", \"creative\", \"creative\", \"creative\", \"creative\", \"creative\", \"creative\", \"creative\", \"creativity\", \"creativity\", \"creativity\", \"creativity\", \"credit\", \"crisp\", \"crossword_puzzle\", \"crucial\", \"crush\", \"cry\", \"cry\", \"cry\", \"cry\", \"cry\", \"cult\", \"cultivate\", \"cultivate\", \"cupcake\", \"cupid\", \"curiosity\", \"curiosity\", \"curiosity\", \"curious\", \"curious\", \"curious\", \"curious\", \"curious\", \"curious\", \"curious\", \"curious\", \"curious\", \"curious\", \"curious\", \"currently\", \"currently\", \"currently\", \"currently\", \"currently\", \"currently\", \"currently\", \"currently\", \"currently\", \"custom\", \"cycling\", \"cycling\", \"cycling\", \"cynical\", \"cynical\", \"cynicism\", \"damn\", \"damn\", \"damn\", \"damn\", \"damn\", \"dance\", \"dance\", \"dance\", \"dance\", \"dance\", \"dance\", \"dance\", \"dance\", \"dance\", \"dance\", \"dance\", \"dance\", \"dance\", \"date\", \"date\", \"date\", \"date\", \"date\", \"dating\", \"dating_site\", \"datum\", \"day\", \"day\", \"day\", \"day\", \"day\", \"day\", \"day\", \"day\", \"day\", \"day\", \"day\", \"day\", \"day\", \"day\", \"debate\", \"debate\", \"debate\", \"debate\", \"debate\", \"deck\", \"dedication\", \"deep\", \"deep\", \"deep\", \"deep\", \"deep\", \"deep\", \"definitly\", \"degree\", \"degree\", \"degree\", \"degree\", \"degree\", \"delight\", \"descent\", \"design\", \"design\", \"designer\", \"designer\", \"desperately\", \"difficulty\", \"dine\", \"dine\", \"dining\", \"dinner\", \"dinner\", \"dinner\", \"dinner\", \"dinner\", \"dinner_partie\", \"dinner_partie\", \"discuss\", \"discuss\", \"discuss\", \"discuss\", \"discuss\", \"discuss\", \"discuss\", \"discussion\", \"discussion\", \"discussion\", \"discussion\", \"disneyland\", \"dog\", \"dog\", \"dog\", \"dog\", \"dog\", \"dog\", \"dog\", \"dog\", \"dog\", \"dog\", \"dollar\", \"doom\", \"door\", \"door\", \"door\", \"door\", \"door\", \"door\", \"door\", \"door\", \"dot\", \"down\", \"down\", \"downtown\", \"drag\", \"drag\", \"drag\", \"drama\", \"drama\", \"drama\", \"drama\", \"draw_paint\", \"dream\", \"dream\", \"dream\", \"dream\", \"dream\", \"dream\", \"dream\", \"dream\", \"dream\", \"dress\", \"dress\", \"dress\", \"dress\", \"dress\", \"dress\", \"dress\", \"dress\", \"drink\", \"drink\", \"drink\", \"drink\", \"drink\", \"drink\", \"drink\", \"drink\", \"drink\", \"drink\", \"drive\", \"drive\", \"drive\", \"drive\", \"drive\", \"drive\", \"drive\", \"drive\", \"drive\", \"drive\", \"drum\", \"drum\", \"drum\", \"dumb\", \"eachother\", \"earth\", \"earth\", \"earth\", \"earth\", \"earth\", \"earth\", \"earth\", \"east\", \"east_coast\", \"east_coast\", \"easy\", \"easy\", \"easy\", \"easy\", \"easy\", \"easy\", \"easy\", \"easy\", \"easy\", \"easy\", \"eat\", \"eat\", \"eat\", \"eat\", \"eat\", \"eat\", \"eat\", \"eat\", \"eat\", \"eat\", \"eccentricity\", \"economic\", \"economic\", \"economic\", \"ect\", \"educate\", \"educate\", \"educate\", \"educate\", \"educate\", \"educate\", \"egg\", \"egg\", \"ego\", \"emotionally_available\", \"employ\", \"end\", \"end\", \"end\", \"end\", \"end\", \"end\", \"end\", \"end\", \"end\", \"end\", \"end\", \"end\", \"end\", \"end\", \"endlessly\", \"engaged\", \"engineering\", \"engineering\", \"enjoy\", \"enjoy\", \"enjoy\", \"enjoy\", \"enjoy\", \"enjoy\", \"enjoy\", \"enjoy\", \"enjoy\", \"enjoy\", \"enjoy\", \"enjoy\", \"enjoy\", \"entp\", \"envision\", \"er\", \"essence\", \"ethical\", \"even\", \"even\", \"even\", \"even\", \"even\", \"even\", \"even\", \"even\", \"even\", \"even\", \"even\", \"even\", \"even\", \"even\", \"ever\", \"ever\", \"ever\", \"ever\", \"ever\", \"ever\", \"ever\", \"ever\", \"ever\", \"ever\", \"ever\", \"ever\", \"evolution\", \"exact\", \"exception\", \"exhaust\", \"exist\", \"exist\", \"exist\", \"existence\", \"existence\", \"existence\", \"experience\", \"experience\", \"experience\", \"experience\", \"experience\", \"experience\", \"experience\", \"experience\", \"explore\", \"explore\", \"explore\", \"explore\", \"explore\", \"extent\", \"eye\", \"eye\", \"eye\", \"eye\", \"eye\", \"eye\", \"face\", \"face\", \"face\", \"face\", \"face\", \"face\", \"face\", \"face\", \"face\", \"face\", \"face\", \"failure\", \"fair_warne\", \"fairly\", \"fairly\", \"fairly\", \"fairly\", \"fairly\", \"fairly\", \"fairly\", \"fairly\", \"fairly\", \"fairly\", \"fairly\", \"faith\", \"faith\", \"faith\", \"family\", \"family\", \"family\", \"family\", \"family\", \"family\", \"family\", \"fan\", \"fan\", \"fan\", \"fan\", \"fan\", \"fan\", \"fan\", \"fan\", \"fan\", \"fat\", \"favorite\", \"favorite\", \"favorite\", \"favorite\", \"favorite\", \"favorite\", \"favorite\", \"favorite\", \"favorite\", \"favorite\", \"favorite\", \"favorite\", \"feel\", \"feel\", \"feel\", \"feel\", \"feel\", \"feel\", \"feel\", \"feel\", \"feel\", \"feel\", \"feel\", \"female\", \"female\", \"female\", \"female\", \"feminine\", \"feminine\", \"feminine\", \"femme\", \"fiction\", \"fiction\", \"fiction\", \"fiction\", \"fiercely\", \"fiji\", \"fill\", \"fill\", \"fill\", \"fill\", \"fill\", \"fill\", \"fill\", \"fill\", \"fill\", \"fill\", \"film\", \"film\", \"film\", \"film\", \"film\", \"film\", \"filmmaker\", \"financially\", \"find\", \"find\", \"find\", \"find\", \"find\", \"find\", \"find\", \"find\", \"find\", \"find\", \"find\", \"find\", \"find\", \"find\", \"find\", \"fine_dine\", \"first\", \"first\", \"first\", \"first\", \"first\", \"first\", \"first\", \"first\", \"first\", \"first\", \"first\", \"first\", \"first\", \"first\", \"first\", \"first_impression\", \"flavor\", \"flavor\", \"flick\", \"flute\", \"food\", \"food\", \"food\", \"food\", \"food\", \"food\", \"food\", \"food\", \"food\", \"food\", \"food\", \"football\", \"force\", \"force\", \"force\", \"force\", \"force\", \"foreign_language\", \"forget\", \"forget\", \"forget\", \"forget\", \"forget\", \"forget\", \"forget\", \"foundation\", \"foundation\", \"frankly\", \"friend\", \"friend\", \"friend\", \"friend\", \"friend\", \"friend\", \"friend\", \"friend\", \"friend\", \"friend\", \"friend\", \"friend\", \"friend\", \"friend\", \"friendship\", \"friendship\", \"friendship\", \"friendship\", \"frolic\", \"fruit\", \"fruit\", \"fucking\", \"fullest\", \"fun\", \"fun\", \"fun\", \"fun\", \"fun\", \"fun\", \"fun\", \"fun\", \"fun\", \"fun\", \"fun\", \"fun\", \"functional\", \"fund\", \"funny\", \"funny\", \"funny\", \"funny\", \"funny\", \"funny\", \"funny\", \"funny\", \"fuzzy\", \"game\", \"game\", \"game\", \"game\", \"game\", \"game\", \"game\", \"gamer\", \"gather\", \"geek\", \"geek\", \"geek\", \"geeky\", \"gem\", \"gender\", \"gender\", \"genderqueer\", \"genius\", \"get\", \"get\", \"get\", \"get\", \"get\", \"get\", \"get\", \"get\", \"get\", \"get\", \"get\", \"get\", \"get\", \"get\", \"get\", \"getter\", \"giant\", \"giant\", \"giant\", \"giants_niner\", \"girl\", \"girl\", \"girl\", \"girl\", \"girl\", \"girl\", \"girl\", \"girl\", \"girl\", \"girl\", \"girl\", \"girl\", \"give\", \"give\", \"give\", \"give\", \"give\", \"give\", \"give\", \"give\", \"give\", \"give\", \"give\", \"give\", \"give\", \"global\", \"go\", \"go\", \"go\", \"go\", \"go\", \"go\", \"go\", \"go\", \"go\", \"go\", \"go\", \"go\", \"go\", \"go\", \"go\", \"goal_oriente\", \"goal_oriente\", \"goin\", \"golden_gate\", \"golden_gate\", \"golf\", \"golf\", \"golfing\", \"good\", \"good\", \"good\", \"good\", \"good\", \"good\", \"good\", \"good\", \"good\", \"good\", \"good\", \"good\", \"good\", \"good\", \"good\", \"goof_ball\", \"gossip\", \"government\", \"grad\", \"grader\", \"graduate\", \"graduate\", \"graduate\", \"graduation\", \"graphic_design\", \"graphic_novel\", \"grateful\", \"grateful\", \"great\", \"great\", \"great\", \"great\", \"great\", \"great\", \"great\", \"great\", \"great\", \"great\", \"great\", \"great\", \"great\", \"great\", \"great\", \"ground\", \"ground\", \"ground\", \"ground\", \"ground\", \"ground\", \"ground\", \"grow\", \"grow\", \"grow\", \"grow\", \"grow\", \"grow\", \"grow\", \"grow\", \"grow\", \"grow\", \"grow\", \"grow\", \"guess\", \"guess\", \"guess\", \"guess\", \"guess\", \"guess\", \"guess\", \"guess\", \"guess\", \"guess\", \"guess\", \"guess\", \"guitar\", \"guy\", \"guy\", \"guy\", \"guy\", \"guy\", \"guy\", \"guy\", \"guy\", \"guy\", \"guy\", \"guy\", \"hacker\", \"hail\", \"half\", \"half\", \"half\", \"half\", \"half\", \"half\", \"half\", \"half\", \"half\", \"half\", \"half\", \"halloween\", \"hammock\", \"hang\", \"hang\", \"hang\", \"hang\", \"hang\", \"hang\", \"hang\", \"hard\", \"hard\", \"hard\", \"hard\", \"hard\", \"hard\", \"hard\", \"hard\", \"hard\", \"hard\", \"hard\", \"harm\", \"harmony\", \"hate\", \"hate\", \"hate\", \"hate\", \"hate\", \"heart\", \"heart\", \"heart\", \"heart\", \"heart\", \"heart\", \"heart\", \"heart\", \"heart\", \"heart\", \"hearty\", \"heat\", \"hectic\", \"hedonist\", \"heel\", \"heel\", \"heel\", \"heel\", \"hi\", \"high\", \"high\", \"high\", \"high\", \"high\", \"high\", \"high\", \"high\", \"high\", \"high\", \"high\", \"high\", \"high\", \"hike\", \"hike\", \"hike\", \"hike\", \"hiking\", \"hilarious\", \"hilarious\", \"hilarious\", \"history\", \"history\", \"history\", \"history\", \"history\", \"history\", \"hmm\", \"hockey\", \"hold\", \"hold\", \"hold\", \"hold\", \"hold\", \"hold\", \"hold\", \"hold\", \"hold\", \"hold\", \"holistic\", \"home\", \"home\", \"home\", \"home\", \"home\", \"home\", \"home\", \"home\", \"home\", \"home_cooked\", \"hometown\", \"hometown\", \"honest\", \"honest\", \"honest\", \"honest\", \"honest\", \"honest\", \"hoping\", \"hot_spring\", \"hot_spring\", \"house\", \"house\", \"house\", \"house\", \"house\", \"house\", \"house\", \"house\", \"house\", \"however\", \"however\", \"however\", \"however\", \"however\", \"however\", \"however\", \"however\", \"however\", \"however\", \"however\", \"however\", \"however\", \"however\", \"however\", \"huge\", \"huge\", \"huge\", \"huge\", \"huge\", \"huge\", \"huge\", \"huge\", \"huge\", \"huge\", \"huge\", \"huge\", \"human\", \"human\", \"human\", \"human\", \"human\", \"human\", \"human\", \"humility\", \"humor\", \"humor\", \"humor\", \"humor\", \"humor\", \"humor\", \"ignore\", \"image\", \"immature\", \"impact\", \"important\", \"important\", \"important\", \"important\", \"important\", \"important\", \"important\", \"important\", \"important\", \"important\", \"important\", \"impressed\", \"impression\", \"impression\", \"improv\", \"indecisive\", \"independence\", \"independence\", \"indoor_rock\", \"infj\", \"info\", \"initial\", \"inquisitive\", \"inquisitive\", \"inquisitive\", \"insanely\", \"insight\", \"inspire\", \"inspire\", \"inspire\", \"instrument\", \"integrity\", \"integrity\", \"intellect\", \"intellect\", \"intellectual\", \"intellectual\", \"intellectual\", \"intellectual\", \"intellectual\", \"intellectual\", \"intellectual\", \"intellectual\", \"intellectual\", \"intellectually\", \"interested\", \"interested\", \"interested\", \"interested\", \"interested\", \"interested\", \"interested\", \"interested\", \"interested\", \"interesting\", \"interesting\", \"interesting\", \"interesting\", \"interesting\", \"interesting\", \"interesting\", \"interesting\", \"interesting\", \"interesting\", \"interesting\", \"interesting\", \"interesting\", \"interview\", \"introduction\", \"intuitive\", \"iphone\", \"itch\", \"item\", \"jack\", \"jerk\", \"job\", \"job\", \"job\", \"job\", \"job\", \"job\", \"job\", \"job\", \"job\", \"job\", \"job\", \"job\", \"joke\", \"joke\", \"joke\", \"joke\", \"joke\", \"joke\", \"joke\", \"journal\", \"journal\", \"journalism\", \"joy\", \"joy\", \"joyful\", \"juggle\", \"junk\", \"justice\", \"kayak\", \"kayaking\", \"killer\", \"kind\", \"kind\", \"kind\", \"kind\", \"kind\", \"kind\", \"kind\", \"kind\", \"kind\", \"kind\", \"kind\", \"kind\", \"kind\", \"kind\", \"kind\", \"kindness\", \"kindness\", \"kindness\", \"kiss\", \"kiss\", \"kiss\", \"knife\", \"knit\", \"knit\", \"know\", \"know\", \"know\", \"know\", \"know\", \"know\", \"know\", \"know\", \"know\", \"know\", \"know\", \"know\", \"know\", \"know\", \"korean\", \"laid_back\", \"laid_back\", \"laid_back\", \"laid_back\", \"laid_back\", \"laid_back\", \"lake_tahoe\", \"laptop\", \"last\", \"last\", \"last\", \"last\", \"last\", \"last\", \"last\", \"last\", \"last\", \"last\", \"last\", \"last\", \"last\", \"last\", \"laugh\", \"laugh\", \"laugh\", \"laugh\", \"laugh\", \"laugh\", \"laugh\", \"laughter\", \"laughter\", \"laughter\", \"laughter\", \"laughter\", \"laundry\", \"law\", \"law\", \"law\", \"learn\", \"learn\", \"learn\", \"learn\", \"learn\", \"learn\", \"learn\", \"learn\", \"learn\", \"learn\", \"learn\", \"learn\", \"learn\", \"legit\", \"leisure\", \"less\", \"less\", \"less\", \"less\", \"less\", \"less\", \"less\", \"less\", \"less\", \"less\", \"less\", \"let\", \"let\", \"let\", \"let\", \"let\", \"let\", \"let\", \"let\", \"let\", \"let\", \"let\", \"let\", \"let\", \"lie\", \"lie\", \"lie\", \"lie\", \"lie\", \"lie\", \"lie\", \"lie\", \"lie\", \"life\", \"life\", \"life\", \"life\", \"life\", \"life\", \"life\", \"life\", \"life\", \"life\", \"life\", \"life\", \"life\", \"light\", \"light\", \"light\", \"light\", \"light\", \"lightning\", \"linguistic\", \"listen\", \"listen\", \"listen\", \"listen\", \"listen\", \"listen\", \"listen\", \"listen\", \"listen\", \"listen\", \"listen\", \"listen\", \"literature\", \"literature\", \"little\", \"little\", \"little\", \"little\", \"little\", \"little\", \"little\", \"little\", \"little\", \"little\", \"little\", \"little\", \"little\", \"little\", \"little\", \"live\", \"live\", \"live\", \"live\", \"live\", \"live\", \"live\", \"live\", \"live\", \"live\", \"live\", \"live\", \"live\", \"log\", \"logic\", \"lol\", \"lol\", \"lol\", \"lol\", \"lonely\", \"long\", \"long\", \"long\", \"long\", \"long\", \"long\", \"long\", \"long\", \"long\", \"long\", \"long\", \"long\", \"long\", \"long\", \"long\", \"look\", \"look\", \"look\", \"look\", \"look\", \"look\", \"look\", \"look\", \"look\", \"look\", \"look\", \"look\", \"look\", \"look\", \"los_angele\", \"los_angeles\", \"lot\", \"lot\", \"lot\", \"lot\", \"lot\", \"lot\", \"lot\", \"lot\", \"lot\", \"lot\", \"lot\", \"lot\", \"lot\", \"lot\", \"lot\", \"loudly\", \"love\", \"love\", \"love\", \"love\", \"love\", \"love\", \"love\", \"love\", \"love\", \"love\", \"love\", \"love\", \"love\", \"love\", \"love\", \"low_key\", \"loyal\", \"loyal\", \"loyal\", \"m\", \"major\", \"major\", \"major\", \"major\", \"major\", \"major\", \"major\", \"make\", \"make\", \"make\", \"make\", \"make\", \"make\", \"make\", \"make\", \"make\", \"make\", \"make\", \"make\", \"make\", \"make\", \"make\", \"makeup\", \"male\", \"man\", \"man\", \"man\", \"man\", \"man\", \"man\", \"management\", \"many\", \"many\", \"many\", \"many\", \"many\", \"many\", \"many\", \"many\", \"many\", \"many\", \"many\", \"many\", \"many\", \"many\", \"many\", \"marine\", \"marketing\", \"marketing\", \"marriage\", \"marriage\", \"married\", \"married\", \"marry\", \"marry\", \"marry\", \"masculine\", \"masculine\", \"match\", \"match\", \"match\", \"match\", \"match\", \"match\", \"match\", \"match\", \"match\", \"match\", \"match\", \"math\", \"math\", \"math\", \"math\", \"math\", \"matter\", \"matter\", \"matter\", \"matter\", \"matter\", \"matter\", \"matter\", \"matter\", \"matter\", \"matter\", \"maybe\", \"maybe\", \"maybe\", \"maybe\", \"maybe\", \"maybe\", \"maybe\", \"maybe\", \"maybe\", \"maybe\", \"mean\", \"mean\", \"mean\", \"mean\", \"mean\", \"mean\", \"mean\", \"mean\", \"mean\", \"mean\", \"mean\", \"mean\", \"mean\", \"meaningful_conversation\", \"meat\", \"meat\", \"mediocre\", \"meditation\", \"meditation\", \"meditation\", \"medium\", \"medium\", \"medium\", \"medium\", \"meet\", \"meet\", \"meet\", \"meet\", \"meet\", \"meet\", \"meeting\", \"meeting\", \"meeting\", \"meeting\", \"meeting\", \"meeting\", \"melt\", \"mentor\", \"message\", \"message\", \"message\", \"migrate\", \"mildly\", \"mind\", \"mind\", \"mind\", \"mind\", \"mind\", \"mind\", \"mind\", \"mind\", \"mind\", \"mind\", \"mind\", \"mindful\", \"mindfulness\", \"mistake\", \"mistake\", \"mistake\", \"mistake\", \"month\", \"month\", \"month\", \"month\", \"month\", \"month\", \"morning\", \"morning\", \"morning\", \"morning\", \"mostly\", \"mostly\", \"mostly\", \"mostly\", \"mostly\", \"mostly\", \"mostly\", \"mostly\", \"mostly\", \"mostly\", \"mostly\", \"mostly\", \"mostly\", \"mostly\", \"mountain_bike\", \"move\", \"move\", \"move\", \"move\", \"move\", \"move\", \"moved\", \"movie\", \"movie\", \"movie\", \"movie\", \"movie\", \"movie\", \"movie\", \"movie\", \"much\", \"much\", \"much\", \"much\", \"much\", \"much\", \"much\", \"much\", \"much\", \"much\", \"much\", \"much\", \"much\", \"much\", \"much\", \"muni\", \"muppet\", \"muse\", \"museum\", \"museum\", \"mushroom\", \"music\", \"music\", \"music\", \"music\", \"music\", \"music\", \"music\", \"music\", \"music\", \"musician\", \"musician\", \"musician\", \"musician\", \"mutual\", \"mutual\", \"myers_brigg\", \"nail\", \"narcissistic\", \"nature\", \"nature\", \"nature\", \"nature\", \"nature\", \"nature\", \"nature\", \"nature\", \"nature\", \"nature\", \"nature\", \"naughty\", \"need\", \"need\", \"need\", \"need\", \"need\", \"need\", \"need\", \"need\", \"need\", \"need\", \"need\", \"need\", \"need\", \"need\", \"nerd\", \"nerd\", \"nerd\", \"nerdy\", \"nerdy\", \"nerdy\", \"neurotic\", \"never\", \"never\", \"never\", \"never\", \"never\", \"never\", \"never\", \"never\", \"never\", \"never\", \"never\", \"never\", \"never\", \"new\", \"new\", \"new\", \"new\", \"new\", \"new\", \"new\", \"newspaper\", \"nice\", \"nice\", \"nice\", \"nice\", \"nice\", \"nice\", \"nice\", \"nice\", \"nice\", \"nice\", \"nice\", \"night\", \"night\", \"night\", \"night\", \"night\", \"night\", \"night\", \"night\", \"non_fiction\", \"non_monogamous\", \"norcal\", \"notion\", \"nut\", \"nuts\", \"nutshell\", \"object\", \"obsessed\", \"obsession\", \"obsession\", \"obsession\", \"offend\", \"offend\", \"offend\", \"often\", \"often\", \"often\", \"often\", \"often\", \"often\", \"often\", \"often\", \"often\", \"often\", \"okcupid\", \"okcupid\", \"okcupid\", \"old\", \"old\", \"old\", \"old\", \"old\", \"old\", \"old\", \"old\", \"old\", \"old\", \"old\", \"old\", \"old\", \"old\", \"old\", \"onion\", \"online\", \"online\", \"online\", \"online\", \"online\", \"online\", \"online_date\", \"online_date\", \"online_date\", \"open\", \"open\", \"open\", \"open\", \"open\", \"open\", \"open\", \"open\", \"open\", \"open\", \"open\", \"open\", \"open\", \"open\", \"opinionated\", \"optimist\", \"original\", \"originally\", \"originally\", \"originally\", \"other\", \"other\", \"other\", \"other\", \"other\", \"other\", \"other\", \"other\", \"out\", \"outdoor\", \"outdoor\", \"outdoor\", \"outdoor_activitie\", \"outdoor_activitie\", \"outdoor_activitie\", \"outdoors\", \"outdoors\", \"outdoors\", \"outdoors\", \"outdoors\", \"outgoing\", \"outgoing\", \"outgoing\", \"outgoing\", \"package\", \"paddle\", \"page\", \"page\", \"palo_alto\", \"panda\", \"paragraph\", \"paragraph\", \"park\", \"park\", \"park\", \"park\", \"parking\", \"part\", \"part\", \"part\", \"part\", \"part\", \"part\", \"part\", \"part\", \"part\", \"part\", \"part\", \"part\", \"part\", \"part\", \"part\", \"partly\", \"partner\", \"partner\", \"partner\", \"passion\", \"passion\", \"passion\", \"passion\", \"passion\", \"passion\", \"passion\", \"passion\", \"passion\", \"passion\", \"passionate\", \"passionate\", \"passionate\", \"passionate\", \"passionate\", \"passionate\", \"passionate\", \"passionate\", \"passionate\", \"passionate\", \"passionate\", \"passive\", \"past\", \"past\", \"past\", \"past\", \"past\", \"past\", \"past\", \"past\", \"past\", \"past\", \"pause\", \"peaceful\", \"pediatric\", \"pen\", \"pencil\", \"pensive\", \"people\", \"people\", \"people\", \"people\", \"people\", \"people\", \"people\", \"people\", \"people\", \"people\", \"people\", \"people\", \"people\", \"people\", \"people\", \"perfection\", \"person\", \"person\", \"person\", \"person\", \"person\", \"person\", \"person\", \"person\", \"person\", \"person\", \"person\", \"person\", \"person\", \"person\", \"personal_growth\", \"pet\", \"pet\", \"pet\", \"pet\", \"pet\", \"pet\", \"pet\", \"philly\", \"photograph\", \"photographer\", \"photographer\", \"photography\", \"photography\", \"photography\", \"photography\", \"physical_activity\", \"piano\", \"piano\", \"picture\", \"picture\", \"picture\", \"picture\", \"picture\", \"picture\", \"picture\", \"picture\", \"picture\", \"picture\", \"pie\", \"ping_pong\", \"piss\", \"place\", \"place\", \"place\", \"place\", \"place\", \"place\", \"place\", \"place\", \"place\", \"place\", \"place\", \"play\", \"play\", \"play\", \"play\", \"play\", \"play\", \"play\", \"play\", \"play\", \"play\", \"play\", \"play\", \"playful\", \"playful\", \"playful\", \"poem\", \"poem\", \"poetic\", \"politic\", \"politic\", \"politic\", \"politic\", \"politic\", \"politic\", \"politic\", \"politic\", \"political_science\", \"poly\", \"polyamorous\", \"polyamory\", \"portland\", \"positive_attitude\", \"positive_outlook\", \"potato\", \"power\", \"power\", \"power\", \"power\", \"power\", \"power\", \"power\", \"pretty\", \"pretty\", \"pretty\", \"pretty\", \"pretty\", \"pretty\", \"pretty\", \"pretty\", \"pretty\", \"pretty\", \"pretty\", \"pretty\", \"privilege\", \"privilege\", \"probably\", \"probably\", \"probably\", \"probably\", \"probably\", \"probably\", \"probably\", \"probably\", \"probably\", \"probably\", \"probably\", \"procrastinate\", \"produce\", \"production\", \"profile\", \"profile\", \"profile\", \"profile\", \"profile\", \"profile\", \"program\", \"program\", \"project\", \"project\", \"project\", \"project\", \"pronoun\", \"proof\", \"psychic\", \"psychologist\", \"psychology\", \"psychology\", \"pun\", \"pun\", \"pun\", \"punk\", \"punk_rock\", \"pup\", \"qualify\", \"queer\", \"queer\", \"question\", \"question\", \"question\", \"question\", \"quite\", \"quite\", \"quite\", \"quite\", \"quite\", \"quite\", \"quite\", \"quite\", \"quite\", \"quite\", \"quite\", \"quite\", \"quite\", \"quite\", \"rabbit\", \"raft\", \"raider\", \"raise\", \"raise\", \"raise\", \"raise\", \"raise\", \"raise\", \"raise\", \"raise\", \"raise\", \"raman\", \"ramble\", \"ramble\", \"random_fact\", \"random_fact\", \"randomness\", \"rather\", \"rather\", \"rather\", \"rather\", \"rather\", \"rather\", \"rather\", \"rather\", \"rather\", \"rather\", \"rather\", \"rather\", \"rather\", \"rather\", \"rather\", \"re\", \"react\", \"read\", \"read\", \"read\", \"read\", \"read\", \"read\", \"read\", \"read\", \"read\", \"read\", \"read\", \"read\", \"read\", \"ready\", \"ready\", \"ready\", \"ready\", \"ready\", \"ready\", \"ready\", \"ready\", \"really\", \"really\", \"really\", \"really\", \"really\", \"really\", \"really\", \"really\", \"really\", \"really\", \"really\", \"really\", \"really\", \"really\", \"really\", \"recent_transplant\", \"recently\", \"recently\", \"recently\", \"recently\", \"recently\", \"recently\", \"recently\", \"recently\", \"recently\", \"recently\", \"recently\", \"reddit\", \"reflective\", \"reflective\", \"regardless\", \"regardless\", \"regardless\", \"relationship\", \"relationship\", \"relationship\", \"relationship\", \"relationship\", \"relocate\", \"relocate\", \"remain\", \"remain\", \"remain\", \"remark\", \"remember\", \"remember\", \"remember\", \"remember\", \"remember\", \"remember\", \"remember\", \"replace\", \"represent\", \"restaurant\", \"restaurant\", \"restaurant\", \"restaurant\", \"restless\", \"result\", \"result\", \"result\", \"result\", \"result\", \"result\", \"result\", \"rewrite\", \"ride\", \"ride\", \"ride\", \"ride\", \"ridiculous\", \"ridiculous\", \"ridiculous\", \"ridiculous\", \"right\", \"right\", \"right\", \"right\", \"right\", \"right\", \"right\", \"right\", \"right\", \"right\", \"right\", \"right\", \"right\", \"right\", \"right\", \"rock\", \"rock\", \"rock\", \"rock\", \"rock\", \"rock\", \"rock\", \"romance\", \"romance\", \"romance\", \"romance\", \"romance\", \"romance\", \"romantic\", \"romantic\", \"romantic\", \"romantic\", \"romantic\", \"romantic\", \"romantic\", \"rose\", \"rugby\", \"run\", \"run\", \"run\", \"run\", \"run\", \"run\", \"run\", \"run\", \"run\", \"run\", \"run\", \"run\", \"run\", \"russian\", \"s\", \"s\", \"s\", \"sailing\", \"sailing\", \"san_fran\", \"sand\", \"sand\", \"sandwich\", \"sarcastic\", \"sarcastic\", \"sarcastic\", \"sarcastic\", \"sarcastic\", \"sarcastic\", \"sarcastic\", \"savor\", \"say\", \"say\", \"say\", \"say\", \"say\", \"say\", \"say\", \"say\", \"say\", \"say\", \"say\", \"say\", \"say\", \"scar\", \"school\", \"school\", \"school\", \"school\", \"school\", \"school\", \"school\", \"school\", \"science\", \"science\", \"science\", \"science\", \"science\", \"science\", \"science\", \"scratch\", \"screen_name\", \"scuba_dive\", \"scuba_diving\", \"seafood\", \"seasonal\", \"secondary\", \"section\", \"section\", \"section\", \"section\", \"see\", \"see\", \"see\", \"see\", \"see\", \"see\", \"see\", \"see\", \"see\", \"see\", \"see\", \"see\", \"see\", \"see\", \"see\", \"seek\", \"seek\", \"seek\", \"seek\", \"self\", \"self\", \"self\", \"self\", \"self\", \"self\", \"self\", \"self\", \"self\", \"self_deprecate\", \"self_deprecate\", \"self_summarie\", \"self_summary\", \"self_summary\", \"sence\", \"send\", \"send\", \"send\", \"send\", \"senior\", \"sense\", \"sense\", \"sense\", \"sense\", \"sense\", \"sense\", \"sense\", \"sensuality\", \"seriously\", \"seriously\", \"seriously\", \"seriously\", \"seriously\", \"seriously\", \"seriously\", \"seriously\", \"seriously\", \"seriously\", \"seriously\", \"sewing\", \"sex\", \"sexual\", \"sexuality\", \"sexuality\", \"sexually\", \"sexy\", \"sexy\", \"sexy\", \"sexy\", \"sexy\", \"sexy\", \"sexy\", \"sf\", \"sf\", \"shadow\", \"shadow\", \"shame\", \"share\", \"share\", \"share\", \"share\", \"share\", \"share\", \"share\", \"share\", \"shark\", \"shark\", \"sheet\", \"shirt\", \"shit\", \"shit\", \"shit\", \"shoe\", \"short\", \"short\", \"short\", \"short\", \"short\", \"short\", \"short\", \"short\", \"short\", \"short\", \"short\", \"short\", \"short\", \"shot\", \"shot\", \"shot\", \"shot\", \"shot\", \"shot\", \"show\", \"show\", \"show\", \"show\", \"show\", \"show\", \"show\", \"show\", \"show\", \"show\", \"show\", \"show\", \"show\", \"show\", \"show\", \"shower\", \"shower\", \"shower\", \"shy\", \"shy\", \"shy\", \"shy\", \"shy\", \"shy\", \"shy\", \"shy\", \"shy\", \"side\", \"side\", \"side\", \"side\", \"side\", \"side\", \"side\", \"side\", \"side\", \"side\", \"side\", \"side\", \"side\", \"silly\", \"silly\", \"silly\", \"silly\", \"silly\", \"silly\", \"silly\", \"silly\", \"silly\", \"simple\", \"simple\", \"simple\", \"simple\", \"simple\", \"simple\", \"simple\", \"simple\", \"simpson\", \"single\", \"single\", \"single\", \"single\", \"single\", \"single\", \"single\", \"single\", \"single\", \"sit\", \"sit\", \"sit\", \"sit\", \"sit\", \"sit\", \"sit\", \"sit\", \"site\", \"site\", \"six_month\", \"skateboard\", \"sketch\", \"ski\", \"ski\", \"ski\", \"skiing\", \"skirt\", \"sky\", \"sky\", \"sky\", \"sleep\", \"sleep\", \"sleep\", \"sleep\", \"sleep\", \"sleep\", \"sleep\", \"sleep\", \"slight\", \"slim\", \"small_town\", \"small_town\", \"small_town\", \"smell\", \"smell\", \"smell\", \"smell\", \"smile\", \"smile\", \"smile\", \"smile\", \"smile\", \"smile\", \"smoke\", \"smoke\", \"smoke\", \"smoke\", \"smoke\", \"snake\", \"snorkel\", \"snowboard\", \"snowboard\", \"socal\", \"soccer\", \"sociable\", \"sociable\", \"social_butterfly\", \"society\", \"society\", \"society\", \"society\", \"softball\", \"software\", \"software\", \"solitary\", \"soma\", \"someone\", \"sometimes\", \"sometimes\", \"sometimes\", \"sometimes\", \"sometimes\", \"sometimes\", \"sometimes\", \"sometimes\", \"sometimes\", \"sometimes\", \"sometimes\", \"sometimes\", \"sometimes\", \"sonoma\", \"sonoma_county\", \"soon\", \"soon\", \"soon\", \"soon\", \"soon\", \"soon\", \"soon\", \"soon\", \"soon\", \"soon\", \"soul\", \"soul\", \"soul\", \"soul\", \"soul\", \"soul\", \"soulmate\", \"southern_california\", \"sparkle\", \"specialize\", \"spelling\", \"spend\", \"spend\", \"spend\", \"spend\", \"spend\", \"spend\", \"spend\", \"spend\", \"spend\", \"spend\", \"spend\", \"spend\", \"spend\", \"spend\", \"spiritual\", \"spiritual\", \"spiritual\", \"spirituality\", \"spirituality\", \"spontaneously\", \"sport\", \"sport\", \"sporty\", \"spunky\", \"spur\", \"squash\", \"standard\", \"standard\", \"standard\", \"star_war\", \"start\", \"start\", \"start\", \"start\", \"start\", \"start\", \"start\", \"start\", \"start\", \"start\", \"start\", \"start\", \"start\", \"start\", \"start\", \"state_university\", \"station\", \"still\", \"still\", \"still\", \"still\", \"still\", \"still\", \"still\", \"still\", \"still\", \"still\", \"still\", \"still\", \"still\", \"still\", \"stimulate\", \"stimulate\", \"stint\", \"stint\", \"stir\", \"stoke\", \"stop\", \"stop\", \"stop\", \"stop\", \"stop\", \"stop\", \"stop\", \"stop\", \"stop\", \"stop\", \"stop\", \"straight_forward\", \"straight_forward\", \"straight_forward\", \"strive\", \"strive\", \"strive\", \"strong\", \"strong\", \"strong\", \"strong\", \"strong\", \"strong\", \"strong\", \"strong\", \"strong\", \"student\", \"student\", \"student\", \"student\", \"student\", \"study\", \"study\", \"study\", \"study\", \"study\", \"stupid\", \"stupid\", \"stupid\", \"stupid\", \"sum\", \"sum\", \"sum\", \"sum\", \"summarize\", \"summarize\", \"summary\", \"summary\", \"summer\", \"summer\", \"summer\", \"summer\", \"summer\", \"sunlight\", \"superficial\", \"sure\", \"sure\", \"sure\", \"sure\", \"sure\", \"sure\", \"sure\", \"sure\", \"sure\", \"sure\", \"sure\", \"sweater\", \"swimming\", \"swimming\", \"swimming\", \"swimming\", \"swimming\", \"taco\", \"tag\", \"tahoe\", \"tahoe\", \"take\", \"take\", \"take\", \"take\", \"take\", \"take\", \"take\", \"take\", \"take\", \"take\", \"take\", \"take\", \"take\", \"take\", \"take\", \"tale\", \"talk\", \"talk\", \"talk\", \"talk\", \"talk\", \"talk\", \"talk\", \"talk\", \"talk\", \"talk\", \"talk\", \"talk\", \"talk\", \"talk\", \"talker\", \"talker\", \"tank\", \"task\", \"tea\", \"tea\", \"tea\", \"tea\", \"tea\", \"tea\", \"teach\", \"teach\", \"teach\", \"teach\", \"teach\", \"teach\", \"teach\", \"teach\", \"teach\", \"teach\", \"teacher\", \"teacher\", \"teacher\", \"teacher\", \"teacher\", \"teacher\", \"team\", \"team\", \"team\", \"team\", \"team\", \"team\", \"team\", \"tear\", \"tear\", \"tear\", \"tear\", \"tech\", \"tech\", \"tech\", \"technology\", \"technology\", \"technology\", \"technology\", \"technology\", \"technology\", \"teenager\", \"tell\", \"tell\", \"tell\", \"tell\", \"tell\", \"tell\", \"tell\", \"tell\", \"tell\", \"tell\", \"tell\", \"tell\", \"tenacious\", \"tend\", \"tend\", \"tend\", \"tend\", \"tend\", \"tend\", \"tend\", \"tend\", \"tend\", \"tend\", \"tend\", \"tend\", \"tender\", \"tennis\", \"tennis\", \"testing\", \"text\", \"text\", \"thank\", \"thank\", \"thank\", \"thank\", \"thank\", \"thank\", \"thank\", \"thank\", \"thank\", \"thank\", \"thick\", \"thing\", \"thing\", \"thing\", \"thing\", \"thing\", \"thing\", \"thing\", \"thing\", \"thing\", \"thing\", \"thing\", \"thing\", \"thing\", \"thing\", \"thing\", \"think\", \"think\", \"think\", \"think\", \"think\", \"think\", \"think\", \"think\", \"think\", \"think\", \"think\", \"think\", \"think\", \"think\", \"think\", \"thoughtful\", \"thoughtful\", \"thoughtful\", \"thoughtful\", \"thoughtful\", \"thrive\", \"thrive\", \"time\", \"time\", \"time\", \"time\", \"time\", \"time\", \"time\", \"time\", \"time\", \"time\", \"time\", \"time\", \"time\", \"time\", \"time\", \"together\", \"together\", \"together\", \"together\", \"together\", \"together\", \"together\", \"together\", \"together\", \"topic\", \"topic\", \"topic\", \"topic\", \"topic\", \"topic\", \"totally\", \"totally\", \"totally\", \"totally\", \"totally\", \"totally\", \"totally\", \"totally\", \"totally\", \"totally\", \"trail\", \"trail\", \"trail\", \"transplant\", \"transplant\", \"transplant\", \"transplant\", \"transplant\", \"transplant\", \"trash\", \"travel\", \"travel\", \"travel\", \"travel\", \"travel\", \"travel\", \"travel\", \"travel\", \"traveling\", \"treat\", \"treat\", \"treat\", \"tree\", \"tree\", \"tree\", \"tree\", \"tree\", \"trek\", \"trip\", \"trip\", \"trip\", \"trip\", \"trouble\", \"trouble\", \"trouble\", \"trouble\", \"trouble\", \"truck\", \"trustworthy\", \"trustworthy\", \"truth\", \"truth\", \"truth\", \"truth\", \"truth\", \"truth\", \"truth\", \"try\", \"try\", \"try\", \"try\", \"try\", \"try\", \"try\", \"try\", \"try\", \"try\", \"try\", \"try\", \"try\", \"tumblr\", \"tumblr\", \"tv\", \"tv\", \"tv\", \"tv\", \"tv\", \"tv\", \"ugly\", \"uncle\", \"understand\", \"understand\", \"understand\", \"understand\", \"understand\", \"understand\", \"understand\", \"understand\", \"unfamiliar\", \"unhealthy\", \"universe\", \"universe\", \"universe\", \"unnecessary\", \"unpretentious\", \"unwind\", \"update\", \"update\", \"update\", \"update\", \"update\", \"update\", \"update\", \"update\", \"upfront\", \"upscale\", \"upstate_ny\", \"uptight\", \"usually\", \"usually\", \"usually\", \"usually\", \"usually\", \"usually\", \"usually\", \"usually\", \"usually\", \"usually\", \"usually\", \"value\", \"value\", \"value\", \"value\", \"value\", \"ve\", \"ve\", \"vegan\", \"vegan\", \"vegan\", \"vegan\", \"vegetable\", \"vegetable\", \"version\", \"video\", \"video\", \"video\", \"video\", \"video\", \"video_game\", \"video_game\", \"vintage\", \"violence\", \"vivacious\", \"vulnerability\", \"wait\", \"wait\", \"wait\", \"wait\", \"wait\", \"wait\", \"wait\", \"wait\", \"wait\", \"wake\", \"wake\", \"walk\", \"walk\", \"walk\", \"walk\", \"walk\", \"walk\", \"walk\", \"walk\", \"walk\", \"walk\", \"walk\", \"walk\", \"wanderlust\", \"want\", \"want\", \"want\", \"want\", \"want\", \"want\", \"want\", \"want\", \"want\", \"want\", \"want\", \"want\", \"want\", \"warrior\", \"wash\", \"washington_dc\", \"watch\", \"watch\", \"watch\", \"watch\", \"watch\", \"watch\", \"watch\", \"watch\", \"watch\", \"water\", \"water\", \"water\", \"water\", \"water\", \"water_rafte\", \"way\", \"way\", \"way\", \"way\", \"way\", \"way\", \"way\", \"way\", \"way\", \"way\", \"way\", \"way\", \"way\", \"way\", \"way\", \"wear\", \"wear\", \"wear\", \"wear\", \"wear\", \"wear\", \"wear\", \"wear_glasse\", \"website\", \"website\", \"website\", \"website\", \"website\", \"weed\", \"weekend\", \"weekend\", \"weekend\", \"weekend\", \"weekend\", \"weekend_getaway\", \"weird\", \"weird\", \"weird\", \"weird\", \"well\", \"well\", \"well\", \"well\", \"well\", \"well\", \"well\", \"well\", \"well\", \"well\", \"well\", \"well\", \"well\", \"well\", \"well\", \"west_coast\", \"west_coast\", \"west_coast\", \"west_coast\", \"wet\", \"whiskey\", \"whiskey\", \"whiskey\", \"whisper\", \"wine\", \"wine\", \"wine\", \"woman\", \"woman\", \"woman\", \"woman\", \"woman\", \"word\", \"word\", \"word\", \"word\", \"word\", \"word\", \"word\", \"word\", \"word\", \"work\", \"work\", \"work\", \"work\", \"work\", \"work\", \"work\", \"work\", \"work\", \"work\", \"work\", \"work\", \"work\", \"world\", \"world\", \"world\", \"world\", \"world\", \"world\", \"world\", \"world\", \"world\", \"world\", \"world\", \"world\", \"world\", \"wrestle\", \"write\", \"write\", \"write\", \"write\", \"write\", \"write\", \"write\", \"write\", \"write\", \"write\", \"write\", \"writer\", \"writer\", \"writer\", \"writing\", \"writing\", \"writing\", \"writing\", \"writing\", \"writing\", \"writing\", \"writing\", \"year\", \"year\", \"year\", \"year\", \"year\", \"year\", \"year\", \"year\", \"year\", \"year\", \"year\", \"year\", \"year\", \"year\", \"yellow\", \"young\", \"young\", \"young\", \"young\", \"young\", \"young\", \"young\", \"young\", \"young\", \"young\", \"youtube\", \"youtube\", \"youtube\"]}, \"R\": 30, \"lambda.step\": 0.01, \"plot.opts\": {\"xlab\": \"PC1\", \"ylab\": \"PC2\"}, \"topic.order\": [12, 14, 2, 10, 7, 3, 6, 15, 13, 9, 8, 5, 4, 11, 1]};\n",
       "\n",
       "function LDAvis_load_lib(url, callback){\n",
       "  var s = document.createElement('script');\n",
       "  s.src = url;\n",
       "  s.async = true;\n",
       "  s.onreadystatechange = s.onload = callback;\n",
       "  s.onerror = function(){console.warn(\"failed to load library \" + url);};\n",
       "  document.getElementsByTagName(\"head\")[0].appendChild(s);\n",
       "}\n",
       "\n",
       "if(typeof(LDAvis) !== \"undefined\"){\n",
       "   // already loaded: just create the visualization\n",
       "   !function(LDAvis){\n",
       "       new LDAvis(\"#\" + \"ldavis_el4232814718269830883870930922\", ldavis_el4232814718269830883870930922_data);\n",
       "   }(LDAvis);\n",
       "}else if(typeof define === \"function\" && define.amd){\n",
       "   // require.js is available: use it to load d3/LDAvis\n",
       "   require.config({paths: {d3: \"https://d3js.org/d3.v5\"}});\n",
       "   require([\"d3\"], function(d3){\n",
       "      window.d3 = d3;\n",
       "      LDAvis_load_lib(\"https://cdn.jsdelivr.net/gh/bmabey/pyLDAvis@3.4.0/pyLDAvis/js/ldavis.v3.0.0.js\", function(){\n",
       "        new LDAvis(\"#\" + \"ldavis_el4232814718269830883870930922\", ldavis_el4232814718269830883870930922_data);\n",
       "      });\n",
       "    });\n",
       "}else{\n",
       "    // require.js not available: dynamically load d3 & LDAvis\n",
       "    LDAvis_load_lib(\"https://d3js.org/d3.v5.js\", function(){\n",
       "         LDAvis_load_lib(\"https://cdn.jsdelivr.net/gh/bmabey/pyLDAvis@3.4.0/pyLDAvis/js/ldavis.v3.0.0.js\", function(){\n",
       "                 new LDAvis(\"#\" + \"ldavis_el4232814718269830883870930922\", ldavis_el4232814718269830883870930922_data);\n",
       "            })\n",
       "         });\n",
       "}\n",
       "</script>"
      ],
      "text/plain": [
       "PreparedData(topic_coordinates=              x         y  topics  cluster       Freq\n",
       "topic                                                \n",
       "11     0.064198  0.218485       1        1  12.168966\n",
       "13    -0.129336  0.129439       2        1  11.311299\n",
       "1     -0.029555  0.127085       3        1  11.150013\n",
       "9     -0.007406  0.151368       4        1   9.934601\n",
       "6     -0.126017 -0.080868       5        1   8.118642\n",
       "2      0.010921  0.008892       6        1   7.946901\n",
       "5     -0.094536 -0.076190       7        1   7.794891\n",
       "14    -0.149253  0.035305       8        1   7.159172\n",
       "12    -0.154504 -0.052631       9        1   5.507203\n",
       "8     -0.144454  0.007035      10        1   4.841671\n",
       "7      0.180726  0.142808      11        1   4.173291\n",
       "4      0.275493 -0.040341      12        1   3.597932\n",
       "3      0.115565 -0.178573      13        1   2.287061\n",
       "10    -0.083728 -0.283243      14        1   2.132309\n",
       "0      0.271886 -0.108571      15        1   1.876047, topic_info=        Term          Freq         Total Category  logprob  loglift\n",
       "104      new  20610.000000  20610.000000  Default  30.0000  30.0000\n",
       "238     play  10308.000000  10308.000000  Default  29.0000  29.0000\n",
       "81      year  17018.000000  17018.000000  Default  28.0000  28.0000\n",
       "108   people  27089.000000  27089.000000  Default  27.0000  27.0000\n",
       "102     look  17798.000000  17798.000000  Default  26.0000  26.0000\n",
       "...      ...           ...           ...      ...      ...      ...\n",
       "1152  design    183.076580   1208.987525  Topic15  -5.5714   2.0884\n",
       "254    music    243.070918  11549.996081  Topic15  -5.2879   0.1149\n",
       "43      make    240.584725  19814.882482  Topic15  -5.2982  -0.4351\n",
       "80      work    216.970738  19942.894513  Topic15  -5.4015  -0.5449\n",
       "313     also    167.922708  16691.659518  Topic15  -5.6578  -0.6232\n",
       "\n",
       "[1183 rows x 6 columns], token_table=      Topic      Freq      Term\n",
       "term                           \n",
       "4790      9  0.994356  abstract\n",
       "4945     11  0.988081     abuse\n",
       "1426      2  0.088355    accept\n",
       "1426      3  0.147258    accept\n",
       "1426      5  0.080992    accept\n",
       "...     ...       ...       ...\n",
       "1962     11  0.008489     young\n",
       "1962     12  0.058294     young\n",
       "1193      5  0.003303   youtube\n",
       "1193      6  0.009909   youtube\n",
       "1193     12  0.984250   youtube\n",
       "\n",
       "[3781 rows x 3 columns], R=30, lambda_step=0.01, plot_opts={'xlab': 'PC1', 'ylab': 'PC2'}, topic_order=[12, 14, 2, 10, 7, 3, 6, 15, 13, 9, 8, 5, 4, 11, 1])"
      ]
     },
     "execution_count": 32,
     "metadata": {},
     "output_type": "execute_result"
    }
   ],
   "source": [
    "pyLDAvis.enable_notebook()\n",
    "\n",
    "LDAvis_prepared = gensimvis.prepare(lda_model, corpus, id2word)\n",
    "\n",
    "LDAvis_prepared\n"
   ]
  },
  {
   "cell_type": "markdown",
   "metadata": {},
   "source": [
    "## Section 4: Interpret Topics\n",
    "#### Some helper functions \n",
    "Don't worry about how these work right now. Just run them and scroll down. We'll use them to make our analysis easier later on."
   ]
  },
  {
   "cell_type": "code",
   "execution_count": 33,
   "metadata": {},
   "outputs": [],
   "source": [
    "def describe_topic(topic, n_words=10):\n",
    "    words = [word for word, _ in topic[:n_words]]  # Get top `n_words` words from the topic\n",
    "    return \" \".join(words)\n",
    "\n",
    "def display_topics(lda_model, n_words=10):\n",
    "    topics = lda_model.show_topics(num_topics=-1, num_words=n_words, formatted=False)\n",
    "    for topic_idx, topic in topics:\n",
    "        print(\"Topic {}: {}\".format(topic_idx, describe_topic(topic, n_words)))\n",
    "\n",
    "def get_topic_words(lda_model, topic_id, num_words=10):\n",
    "    # Get the top words for a specific topic\n",
    "    topic = lda_model.show_topic(topic_id, topn=num_words)\n",
    "    words = [word for word, _ in topic]  # Extract the words only\n",
    "    return set(words)\n",
    "\n",
    "def find_intersection(idxa, idxb, n):\n",
    "    a = set()\n",
    "    b = set()\n",
    "    both = set()\n",
    "    i = 0\n",
    "    while len(both) < n:\n",
    "        a.add(idxa[i])\n",
    "        b.add(idxb[i])\n",
    "        both = a.intersection(b)\n",
    "        i += 1\n",
    "    return list(both)\n",
    "\n",
    "def compare_topic_overlap(lda_model, topic_id_a, topic_id_b, num_words=nshow):\n",
    "    topic_a_words = get_topic_words(lda_model, topic_id_a, num_words)\n",
    "    topic_b_words = get_topic_words(lda_model, topic_id_b, num_words)\n",
    "    \n",
    "    # Find the intersection (overlap) between the two sets of words\n",
    "    overlap = topic_a_words.intersection(topic_b_words)\n",
    "    \n",
    "    print(f\"Common words between Topic {topic_id_a} and Topic {topic_id_b}:\")\n",
    "    print(overlap)\n",
    "\n",
    "def compare_topic_difference(lda_model, topic_id_a, topic_id_b, num_words=nshow):\n",
    "    topic_a_words = get_topic_words(lda_model, topic_id_a, num_words)\n",
    "    topic_b_words = get_topic_words(lda_model, topic_id_b, num_words)\n",
    "    \n",
    "    # Find the difference (words in Topic A but not in Topic B)\n",
    "    unique_to_a = topic_a_words.difference(topic_b_words)\n",
    "    unique_to_b = topic_b_words.difference(topic_a_words)\n",
    "    \n",
    "    print(f\"Words unique to Topic {topic_id_a}: {unique_to_a}\")\n",
    "    print(f\"Words unique to Topic {topic_id_b}: {unique_to_b}\")\n",
    "\n",
    "def blue_matrix(cells, xl, yl, t, x_labels=None):\n",
    "    n = cells.shape[0]\n",
    "    plt.figure()\n",
    "    fig, ax = plt.subplots(figsize=(8,8))\n",
    "    plt.imshow(cells, cmap='Blues')\n",
    "    ax.xaxis.tick_top()\n",
    "    ax.xaxis.set_label_position('top') \n",
    "    if x_labels is not None:\n",
    "        plt.xticks(range(n), x_labels)\n",
    "    else:\n",
    "        plt.xticks(range(n))\n",
    "    plt.yticks(range(n))\n",
    "    plt.ylabel(yl)\n",
    "    plt.xlabel(xl)\n",
    "    plt.title(t)\n",
    "    # show a colorbar legend\n",
    "    plt.colorbar()\n",
    "    return"
   ]
  },
  {
   "cell_type": "markdown",
   "metadata": {},
   "source": [
    "### Step 1: Show our topics with the top words in each"
   ]
  },
  {
   "cell_type": "code",
   "execution_count": 34,
   "metadata": {},
   "outputs": [
    {
     "name": "stdout",
     "output_type": "stream",
     "text": [
      "Topic 0: art time animal cat project thing spend read book downtown\n",
      "Topic 1: life love people good live enjoy world passionate friend share\n",
      "Topic 2: get make day good love eat thing drink car go\n",
      "Topic 3: geek also nerd read game nerdy bit geeky computer conversation\n",
      "Topic 4: work art school study music artist currently design film write\n",
      "Topic 5: way believe life find well think make thing time say\n",
      "Topic 6: think thing people get really make pretty good say lot\n",
      "Topic 7: play love music watch go sport movie game also enjoy\n",
      "Topic 8: look relationship woman man want date partner guy open meet\n",
      "Topic 9: year live move work love time go city life back\n",
      "Topic 10: write profile read ask word question say answer book know\n",
      "Topic 11: love enjoy new go travel good friend thing time also\n",
      "Topic 12: get know want never day see make life go girl\n",
      "Topic 13: love life good go friend fun time person guy m\n",
      "Topic 14: people new meet thing get know try look want friend\n"
     ]
    }
   ],
   "source": [
    "display_topics(lda_model, n_words=10)"
   ]
  },
  {
   "cell_type": "markdown",
   "metadata": {},
   "source": [
    "<div class=\"alert-info\">\n",
    "    \n",
    "#### Short Answer No.4\n",
    "- Pick three topics.\n",
    "- Look at the words that make up each one. Say which one it is, and briefly answer these questions about it (3-5 sentences per topic):\n",
    "    - What does the topic seem to be about?\n",
    "    - Do any of the other topics seem similar to this one?\n",
    "    \n",
    "</div>"
   ]
  },
  {
   "cell_type": "markdown",
   "metadata": {},
   "source": [
    "🤔 **Write your response here:**\n",
    "...."
   ]
  },
  {
   "cell_type": "markdown",
   "metadata": {},
   "source": [
    "### Step 2: Examine the words that make two topics similar or different\n",
    "- We can also compare two topics to each other by looking at words that are common in both, or words that are common in one but not the other.\n",
    "- Try changing `topic_a` and `topic_b` to different topic numbers.\n",
    "- Notice the `how` option will let you see either the `overlap` or `difference` between two topics\n",
    "    - Notice also that the difference between topics a and b is not the same as between b and a"
   ]
  },
  {
   "cell_type": "code",
   "execution_count": 35,
   "metadata": {},
   "outputs": [
    {
     "name": "stdout",
     "output_type": "stream",
     "text": [
      "Common words between Topic 0 and Topic 2:\n",
      "{'thing'}\n",
      "Words unique to Topic 0: {'time', 'animal', 'project', 'downtown', 'read', 'art', 'book', 'spend', 'cat'}\n",
      "Words unique to Topic 2: {'eat', 'get', 'day', 'car', 'love', 'good', 'go', 'drink', 'make'}\n"
     ]
    }
   ],
   "source": [
    "topic_a = 0\n",
    "topic_b = 2\n",
    "\n",
    "compare_topic_overlap(lda_model, topic_a, topic_b)\n",
    "compare_topic_difference(lda_model, topic_a, topic_b)"
   ]
  },
  {
   "cell_type": "markdown",
   "metadata": {},
   "source": [
    "### Step 3: Interpret these topics\n",
    "<div class=\"alert-info\">\n",
    "    \n",
    "#### Short Answer No.5\n",
    "- This part is for you to do: code can't do it for you.\n",
    "- Try to come up with a short, catchy name for each topic and write it down.\n",
    "    - For example, if the words were \"san francisco city moved living born years raised lived live\", you might call it \"places lived\" because the topic seems to be about where people currently live (San Francisco) and where they were born / raised / moved from.  \n",
    "    \n",
    "    \n",
    "</div>"
   ]
  },
  {
   "cell_type": "markdown",
   "metadata": {},
   "source": [
    "🤔 **Write your response here:**\n",
    "...\n",
    "\n",
    "- Topic 0:\n",
    "- Topic 1: \n",
    "- Topic 2:\n",
    "- Topic 3: \n",
    "- Topic 4:\n",
    "- Topic 5: \n",
    "- Topic 6:\n",
    "- Topic 7: \n",
    "- Topic 8: \n",
    "- Topic 9:\n",
    "- Topic 10: \n",
    "- Topic 11:\n",
    "- Topic 12: \n",
    "- Topic 13:\n",
    "- Topic 14: \n",
    "\n",
    "..."
   ]
  },
  {
   "cell_type": "markdown",
   "metadata": {},
   "source": [
    "### Step 4: Check whether your interpretations match with the text\n",
    "\n",
    "#### Helper functions\n",
    "- Run this code and scroll down. \n",
    "- You don't need to understand these details right now."
   ]
  },
  {
   "cell_type": "code",
   "execution_count": 36,
   "metadata": {},
   "outputs": [],
   "source": [
    "def get_profiles_from_topics(data, transformed, topic_a, topic_b=None, pick_from=10):\n",
    "    #get our data ready\n",
    "    df = pd.DataFrame(transformed)\n",
    "    df = df.sort_values(by=topic_a, ascending=False)\n",
    "    n = df.shape[0]\n",
    "    \n",
    "    if topic_b is None:\n",
    "        #if we only want things high in one topic, take randomly from the top\n",
    "        keep = df.head(pick_from).sample(1)\n",
    "        pid = keep.index.values[0]\n",
    "    else:\n",
    "        #if we want things high in two topics, find them and pick one of the top\n",
    "        idxb = df.sort_values(by=topic_b, ascending=False).index.values\n",
    "        both = find_intersection(df.index.values, idxb, pick_from)\n",
    "        keep = df.loc[both, :].sample(1)\n",
    "        pid = keep.index.values[0]    \n",
    "        \n",
    "    #output text to show our results\n",
    "    match_text = 'Profile number ' + str(pid)\n",
    "    match_text += ' has more of topic ' + str(topic_a)\n",
    "    match_text += ' than {:.2f}%'.format(100 - (np.where(df.index==pid)[0][0] / n)*100)\n",
    "    match_text += ' of other profiles'\n",
    "    if topic_b is not None:\n",
    "        match_text += ' and more of topic ' + str(topic_b)\n",
    "        match_text += ' than {:.2f}%'.format(100 - (np.where(idxb==pid)[0][0] / n)*100)\n",
    "        match_text += ' of other profiles.'\n",
    "        \n",
    "    #print results\n",
    "    text = data[pid]\n",
    "    print(match_text)\n",
    "    print('Here is the text:\\n\\n', text)\n",
    "    return\n",
    "\n",
    "def visualize_profile(profile_topics, profile_id, num_topics):\n",
    "    # Extract the topic distribution for the given profile\n",
    "    topic_distribution = np.zeros(num_topics)\n",
    "    \n",
    "    for topic_id, prob in profile_topics[profile_id]:\n",
    "        topic_distribution[topic_id] = prob\n",
    "    \n",
    "    # Plot a stem diagram for the topic distribution\n",
    "    plt.figure(figsize=(8, 4))\n",
    "    plt.xticks(range(num_topics))\n",
    "    plt.xlabel('Topic number')\n",
    "    plt.ylabel('How much of profile is about each topic')\n",
    "    plt.title('Profile #'+str(profile_id))\n",
    "    plt.stem(range(num_topics), topic_distribution)\n",
    "    \n",
    "    plt.show()\n",
    "    return"
   ]
  },
  {
   "cell_type": "markdown",
   "metadata": {},
   "source": [
    "#### Calculate what portion of each profile is about each topic"
   ]
  },
  {
   "cell_type": "code",
   "execution_count": 37,
   "metadata": {},
   "outputs": [],
   "source": [
    "# Get topic distributions for each document\n",
    "\n",
    "profile_topics = [lda_model.get_document_topics(bow, minimum_probability=0) for bow in corpus]\n",
    "\n",
    "\n",
    "num_topics = lda_model.num_topics\n",
    "profile_topics_matrix = np.array([[prob for topic_id, prob in lda_model.get_document_topics(bow, minimum_probability=0)] for bow in corpus])\n"
   ]
  },
  {
   "cell_type": "markdown",
   "metadata": {},
   "source": [
    "#### Look at the text of a profile that has a lot of a particular topic\n",
    "- This function randomly picks one of the top few profiles for a topic, so each time you run it you will see a different example.\n",
    "    - If you want it to pick from more or less topics, change the value of `pick_from`\n",
    "    - If you want to see a different topic, change the value of `topic_a`\n",
    "    - **Hint:** you can press `ctrl`+`enter` over and over to keep re-running the code in this cell."
   ]
  },
  {
   "cell_type": "code",
   "execution_count": 38,
   "metadata": {},
   "outputs": [
    {
     "name": "stdout",
     "output_type": "stream",
     "text": [
      "Profile number 25316 has more of topic 7 than 99.07% of other profiles\n",
      "Here is the text:\n",
      "\n",
      " -i was born in hong kong and raised in san francisco, california\n",
      "since i was about 3 years old.\n",
      "\n",
      "-my nationality is chinese (cantonese) and a bit mix of\n",
      "portuguese.\n",
      "\n",
      "-i have 3 adorable annoying little chihuahuas: coco, angel, and\n",
      "cookie.\n",
      "\n",
      "-i enjoy going hiking and going to the shooting range.\n",
      "\n",
      "-i like watching movies!! action/horror/comedies are my\n",
      "favorite..no chick flicks please.\n",
      "\n",
      "-i love love love gaming on my playstation 3! i\n",
      "play mostly fps and third person shooter games. not really into the\n",
      "sports, fighting, puzzle, board games, or racing games, don't know\n",
      "why, guess i was just never really into it to begin with.\n",
      "\n",
      "-i love snowboarding! (been boarding for about 5-6 years now)\n",
      "\n",
      "-i know how to drive stick shift but yet my car is automatic\n",
      ":p\n",
      "\n",
      "-i own a motorcycle :)\n",
      "\n",
      "-i do like shopping and make up, therefore i'm not a complete tom\n",
      "boy :d haha\n",
      "\n",
      "anything else you wanna know? just ask :)\n"
     ]
    }
   ],
   "source": [
    "get_profiles_from_topics(documents, profile_topics, topic_a=7, pick_from=1000)"
   ]
  },
  {
   "cell_type": "markdown",
   "metadata": {},
   "source": [
    "<div class=\"alert-info\">\n",
    "    \n",
    "#### Short Answer No.6\n",
    "    \n",
    "- For each of the 3 topics you chose in **Step 1**, use the function get_profiles_from_topics defined above to find a document that strongly aligns with the topic. \n",
    "- Then discuss if the document truly aligns with the topic? (3-5 sentences) \n",
    "    \n",
    "</div>"
   ]
  },
  {
   "cell_type": "markdown",
   "metadata": {},
   "source": [
    "🤔 **Write your response here:**\n",
    "..."
   ]
  },
  {
   "cell_type": "markdown",
   "metadata": {},
   "source": [
    "#### Look at the text of a profile that matches two topics well at the same time\n",
    "- Note that some topics might not happen together very often. If this is the case, the examples we find of both together might not be very good."
   ]
  },
  {
   "cell_type": "code",
   "execution_count": 39,
   "metadata": {},
   "outputs": [
    {
     "name": "stdout",
     "output_type": "stream",
     "text": [
      "Profile number 48839 has more of topic 1 than 98.25% of other profiles and more of topic 2 than 95.57% of other profiles.\n",
      "Here is the text:\n",
      "\n",
      " i'm a daily bike rider, love longer rides when i can. i've been to\n",
      "burning man many times and still discover more. i'm enjoying being\n",
      "my age.\n",
      "\n",
      "i am curious, kind, and sensitive\n"
     ]
    }
   ],
   "source": [
    "get_profiles_from_topics(documents, profile_topics, topic_a=1, topic_b=2)"
   ]
  },
  {
   "cell_type": "markdown",
   "metadata": {},
   "source": [
    "#### See how much of a profile is about each topic\n",
    "- Try looking at some of the profiles you just found:\n",
    "    - Make the `pid` equal to the profile number from above."
   ]
  },
  {
   "cell_type": "code",
   "execution_count": 40,
   "metadata": {},
   "outputs": [
    {
     "data": {
      "image/png": "[encoded data removed]",
      "text/plain": [
       "<Figure size 800x400 with 1 Axes>"
      ]
     },
     "metadata": {},
     "output_type": "display_data"
    },
    {
     "data": {
      "text/plain": [
       "\"a hiker, camper, conversationalist, tennis player (sort of).\\n\\ni like funny and serious people and i'm pretty good at scrabble.\""
      ]
     },
     "execution_count": 40,
     "metadata": {},
     "output_type": "execute_result"
    }
   ],
   "source": [
    "pid = 40000\n",
    "visualize_profile(profile_topics, pid, num_topics) # visualizing the topic distribution for the profile with ID pid.\n",
    "\n",
    "\n",
    "### NEW\n",
    "documents[pid]"
   ]
  },
  {
   "cell_type": "markdown",
   "metadata": {},
   "source": [
    "<div class=\"alert-info\">\n",
    "    \n",
    "#### Short Answer No.7\n",
    "\n",
    "- Does the topic classification make sense to you? If so, which of the words in the example printed above are the most representitave of each of the topics? (3-5 sentences)\n",
    "    \n",
    "- Do your topic names match what you are seeing in the text? \n",
    "- Did any of your interpretations change after reading some profiles? (You would do so by changing pid and create several different charts. Then, based on the result, conclude if you want to make any changes to your topic names) \n",
    "    - If you need to update your topic names, do so here.\n",
    "    \n",
    "</div>"
   ]
  },
  {
   "cell_type": "markdown",
   "metadata": {},
   "source": [
    "🤔 **Write your response here:**\n",
    "..."
   ]
  },
  {
   "cell_type": "markdown",
   "metadata": {},
   "source": [
    "## Section 5: Topic Quality\n",
    "Let's see how good the topics we found are.\n",
    "\n",
    "### Step 1: See if the topics are each about different things.\n",
    "We want each topic to be about something different than the other topics. We can check this by comparing the words in each topic to the words in all the others. How to interpret:\n",
    "- Each square shows how similar two topics are. Darker means more similar, and lighter means more different.\n",
    "- The square in the very top left shows how similar topic 0 is to topic 0 (i.e. how similar it is to itself). \n",
    "- The square next to it in the top row shows how similar topic 0 is to topic 1, and so on. \n",
    "- For any two topics, you can see how similar they are by finding their numbers on the edges and seeing where they intersect."
   ]
  },
  {
   "cell_type": "code",
   "execution_count": 41,
   "metadata": {},
   "outputs": [
    {
     "data": {
      "text/plain": [
       "<Figure size 640x480 with 0 Axes>"
      ]
     },
     "metadata": {},
     "output_type": "display_data"
    },
    {
     "data": {
      "image/png": "[encoded data removed]",
      "text/plain": [
       "<Figure size 800x800 with 2 Axes>"
      ]
     },
     "metadata": {},
     "output_type": "display_data"
    }
   ],
   "source": [
    "def plot_topics(components):\n",
    "    sim = cosine_similarity(components)\n",
    "    blue_matrix(sim, xl='Topic number', yl='Topic number',\n",
    "                t = 'Word Similarity between Topics')  # heatmap\n",
    "    return\n",
    "\n",
    "plot_topics(lda_topics)"
   ]
  },
  {
   "cell_type": "markdown",
   "metadata": {},
   "source": [
    "### Step 2: See if different topics show up in different profiles\n",
    "The point is to tell profiles apart based on what topics they're about, so we need to check whether the topics appear in different profiles.\n",
    "- This shows us something that looks similar to the topic similarity we saw before, but this time:\n",
    "    - We **don't** compare topics based on which words they use\n",
    "    - We **do** compare topics based on how often they appear in the same profile as one another"
   ]
  },
  {
   "cell_type": "code",
   "execution_count": 42,
   "metadata": {},
   "outputs": [
    {
     "data": {
      "text/plain": [
       "<Figure size 640x480 with 0 Axes>"
      ]
     },
     "metadata": {},
     "output_type": "display_data"
    },
    {
     "data": {
      "image/png": "[encoded data removed]",
      "text/plain": [
       "<Figure size 800x800 with 2 Axes>"
      ]
     },
     "metadata": {},
     "output_type": "display_data"
    }
   ],
   "source": [
    "# Flatten the topic distributions for each profile into a matrix\n",
    "profile_topics_flattened = np.array([np.array([t[1] for t in profile]) for profile in profile_topics])\n",
    "\n",
    "# Convert to DataFrame and compute correlation\n",
    "def topic_cooccurance(topics):\n",
    "    co = pd.DataFrame(topics).corr()\n",
    "    blue_matrix(co, xl='Topic number', yl='Topic number', t='Topic Co-occurrence in Profiles')\n",
    "\n",
    "# Call the function with the flattened topic matrix\n",
    "topic_cooccurance(profile_topics_flattened)\n"
   ]
  },
  {
   "cell_type": "markdown",
   "metadata": {},
   "source": [
    "#### Note that the topics are mostly uncorrelated. \n",
    "- The cells in the figure above are mostly very light blue\n",
    "- This doesn't mean that, for instance, topic 1 and 2 never show up in the same profile.\n",
    "- It does mean, however, that seeing any particular topic doesn't mean we're especially likely to also see any other topic.\n",
    "\n",
    "<div class=\"alert-info\">\n",
    "    \n",
    "#### Short Answer No.8\n",
    "- Why is the diagonal line so dark? (1-2 sentences)\n",
    "\n",
    "- Would you say that this topic classification result is good? Why? (explain in 1-3 sentences)\n",
    "\n",
    "- Do you think that the two figures above are sufficient to conclude that the topic quality is perfect? Why? (3-5 sentences)\n",
    "\n",
    "</div>"
   ]
  },
  {
   "cell_type": "markdown",
   "metadata": {},
   "source": [
    "🤔 **Write your response here:**\n",
    "...."
   ]
  },
  {
   "cell_type": "markdown",
   "metadata": {},
   "source": [
    "## Section 6: Topic Popularity\n",
    "\n",
    "#### Helper functions to visualize and compare topics\n",
    "- Run this code and scroll down. The details of how it works aren't our focus right now."
   ]
  },
  {
   "cell_type": "code",
   "execution_count": 43,
   "metadata": {},
   "outputs": [],
   "source": [
    "def common_topics_bars(profile_topics):\n",
    "    df = pd.DataFrame([{t[0]: t[1] for t in topics} for topics in profile_topics])\n",
    "    \n",
    "    popularity = df.mean().rename_axis('Topic')\n",
    "    \n",
    "    popularity = popularity.sort_values(ascending=False)\n",
    "    \n",
    "    popularity.plot.bar(title='Topic Popularity')\n",
    "    plt.xlabel('Topic')\n",
    "    plt.ylabel('Average Probability')\n",
    "    plt.show()\n",
    "    return\n",
    "\n",
    "def rank_groups(data, trait, topic):\n",
    "    groups = data[trait].value_counts().index.values\n",
    "    result = {}\n",
    "    \n",
    "    # Rank groups by their mean for the specific topic\n",
    "    for g in groups:\n",
    "        result[g] = data[data[trait] == g][topic].mean()\n",
    "    \n",
    "    r = pd.DataFrame.from_dict(result, orient='index')\n",
    "    r.columns = [topic]\n",
    "    r = r.sort_values(by=topic, ascending=False)\n",
    "    \n",
    "    return r.round(3)\n",
    "\n",
    "def top_topics(data, trait, value, n_top_topics=3, distinctive=False):\n",
    "    topics = [col for col in data if col.startswith('topic_')]\n",
    "    vals = {}\n",
    "    means = {}\n",
    "    if distinctive:\n",
    "        for t in topics:\n",
    "            means[t] = data[t].mean()\n",
    "    else:\n",
    "        for t in topics:\n",
    "            means[t] = 1\n",
    "    \n",
    "    data = data[data[trait] == value]\n",
    "    \n",
    "    for t in topics:\n",
    "        vals[t] = data[t].mean() / means[t]\n",
    "    vals = pd.DataFrame.from_dict(vals, orient='index')    \n",
    "    vals = vals.sort_values(by=0, ascending=False).head(n_top_topics)\n",
    "\n",
    "    return list(vals.index.values)"
   ]
  },
  {
   "cell_type": "markdown",
   "metadata": {},
   "source": [
    "### Overall most common topics"
   ]
  },
  {
   "cell_type": "code",
   "execution_count": 44,
   "metadata": {},
   "outputs": [
    {
     "data": {
      "image/png": "[encoded data removed]",
      "text/plain": [
       "<Figure size 640x480 with 1 Axes>"
      ]
     },
     "metadata": {},
     "output_type": "display_data"
    }
   ],
   "source": [
    "common_topics_bars(profile_topics)"
   ]
  },
  {
   "cell_type": "markdown",
   "metadata": {},
   "source": [
    "### Who is a topic most popular with?"
   ]
  },
  {
   "cell_type": "markdown",
   "metadata": {},
   "source": [
    "#### Step 1: Merge our information about topics with our information about people"
   ]
  },
  {
   "cell_type": "code",
   "execution_count": 45,
   "metadata": {},
   "outputs": [
    {
     "data": {
      "text/html": [
       "<div>\n",
       "<style scoped>\n",
       "    .dataframe tbody tr th:only-of-type {\n",
       "        vertical-align: middle;\n",
       "    }\n",
       "\n",
       "    .dataframe tbody tr th {\n",
       "        vertical-align: top;\n",
       "    }\n",
       "\n",
       "    .dataframe thead th {\n",
       "        text-align: right;\n",
       "    }\n",
       "</style>\n",
       "<table border=\"1\" class=\"dataframe\">\n",
       "  <thead>\n",
       "    <tr style=\"text-align: right;\">\n",
       "      <th></th>\n",
       "      <th>age_group</th>\n",
       "      <th>age</th>\n",
       "      <th>body</th>\n",
       "      <th>alcohol_use</th>\n",
       "      <th>drug_use</th>\n",
       "      <th>edu</th>\n",
       "      <th>race_ethnicity</th>\n",
       "      <th>height_group</th>\n",
       "      <th>industry</th>\n",
       "      <th>kids</th>\n",
       "      <th>...</th>\n",
       "      <th>topic_5</th>\n",
       "      <th>topic_6</th>\n",
       "      <th>topic_7</th>\n",
       "      <th>topic_8</th>\n",
       "      <th>topic_9</th>\n",
       "      <th>topic_10</th>\n",
       "      <th>topic_11</th>\n",
       "      <th>topic_12</th>\n",
       "      <th>topic_13</th>\n",
       "      <th>topic_14</th>\n",
       "    </tr>\n",
       "  </thead>\n",
       "  <tbody>\n",
       "    <tr>\n",
       "      <th>0</th>\n",
       "      <td>20</td>\n",
       "      <td>22</td>\n",
       "      <td>overweight</td>\n",
       "      <td>yes</td>\n",
       "      <td>no</td>\n",
       "      <td>HS</td>\n",
       "      <td>multiple</td>\n",
       "      <td>over_6</td>\n",
       "      <td>other</td>\n",
       "      <td>no</td>\n",
       "      <td>...</td>\n",
       "      <td>0.059550</td>\n",
       "      <td>0.409010</td>\n",
       "      <td>0.000641</td>\n",
       "      <td>0.000641</td>\n",
       "      <td>0.000641</td>\n",
       "      <td>0.000641</td>\n",
       "      <td>0.000641</td>\n",
       "      <td>0.063567</td>\n",
       "      <td>0.071916</td>\n",
       "      <td>0.000641</td>\n",
       "    </tr>\n",
       "    <tr>\n",
       "      <th>1</th>\n",
       "      <td>30</td>\n",
       "      <td>35</td>\n",
       "      <td>average</td>\n",
       "      <td>yes</td>\n",
       "      <td>yes</td>\n",
       "      <td>unknown</td>\n",
       "      <td>White</td>\n",
       "      <td>under_6</td>\n",
       "      <td>other</td>\n",
       "      <td>no</td>\n",
       "      <td>...</td>\n",
       "      <td>0.072061</td>\n",
       "      <td>0.102069</td>\n",
       "      <td>0.036455</td>\n",
       "      <td>0.001452</td>\n",
       "      <td>0.001452</td>\n",
       "      <td>0.001452</td>\n",
       "      <td>0.263081</td>\n",
       "      <td>0.001452</td>\n",
       "      <td>0.397122</td>\n",
       "      <td>0.116148</td>\n",
       "    </tr>\n",
       "    <tr>\n",
       "      <th>2</th>\n",
       "      <td>30</td>\n",
       "      <td>38</td>\n",
       "      <td>thin</td>\n",
       "      <td>yes</td>\n",
       "      <td>yes</td>\n",
       "      <td>Grad_Pro</td>\n",
       "      <td>NaN</td>\n",
       "      <td>under_6</td>\n",
       "      <td>NaN</td>\n",
       "      <td>no</td>\n",
       "      <td>...</td>\n",
       "      <td>0.291722</td>\n",
       "      <td>0.140776</td>\n",
       "      <td>0.000667</td>\n",
       "      <td>0.000667</td>\n",
       "      <td>0.041263</td>\n",
       "      <td>0.125835</td>\n",
       "      <td>0.000667</td>\n",
       "      <td>0.065441</td>\n",
       "      <td>0.000667</td>\n",
       "      <td>0.275337</td>\n",
       "    </tr>\n",
       "    <tr>\n",
       "      <th>3</th>\n",
       "      <td>20</td>\n",
       "      <td>23</td>\n",
       "      <td>thin</td>\n",
       "      <td>yes</td>\n",
       "      <td>yes</td>\n",
       "      <td>HS</td>\n",
       "      <td>White</td>\n",
       "      <td>under_6</td>\n",
       "      <td>education</td>\n",
       "      <td>no</td>\n",
       "      <td>...</td>\n",
       "      <td>0.013335</td>\n",
       "      <td>0.013335</td>\n",
       "      <td>0.013335</td>\n",
       "      <td>0.013335</td>\n",
       "      <td>0.598057</td>\n",
       "      <td>0.013335</td>\n",
       "      <td>0.013335</td>\n",
       "      <td>0.013335</td>\n",
       "      <td>0.013335</td>\n",
       "      <td>0.013335</td>\n",
       "    </tr>\n",
       "    <tr>\n",
       "      <th>4</th>\n",
       "      <td>20</td>\n",
       "      <td>29</td>\n",
       "      <td>fit</td>\n",
       "      <td>yes</td>\n",
       "      <td>no</td>\n",
       "      <td>BA</td>\n",
       "      <td>multiple</td>\n",
       "      <td>under_6</td>\n",
       "      <td>creative</td>\n",
       "      <td>no</td>\n",
       "      <td>...</td>\n",
       "      <td>0.002900</td>\n",
       "      <td>0.002900</td>\n",
       "      <td>0.002900</td>\n",
       "      <td>0.002900</td>\n",
       "      <td>0.002900</td>\n",
       "      <td>0.156483</td>\n",
       "      <td>0.002900</td>\n",
       "      <td>0.002900</td>\n",
       "      <td>0.002900</td>\n",
       "      <td>0.670909</td>\n",
       "    </tr>\n",
       "  </tbody>\n",
       "</table>\n",
       "<p>5 rows × 34 columns</p>\n",
       "</div>"
      ],
      "text/plain": [
       "   age_group  age        body alcohol_use drug_use       edu race_ethnicity  \\\n",
       "0         20   22  overweight         yes       no        HS       multiple   \n",
       "1         30   35     average         yes      yes   unknown          White   \n",
       "2         30   38        thin         yes      yes  Grad_Pro            NaN   \n",
       "3         20   23        thin         yes      yes        HS          White   \n",
       "4         20   29         fit         yes       no        BA       multiple   \n",
       "\n",
       "  height_group   industry kids  ...   topic_5   topic_6   topic_7   topic_8  \\\n",
       "0       over_6      other   no  ...  0.059550  0.409010  0.000641  0.000641   \n",
       "1      under_6      other   no  ...  0.072061  0.102069  0.036455  0.001452   \n",
       "2      under_6        NaN   no  ...  0.291722  0.140776  0.000667  0.000667   \n",
       "3      under_6  education   no  ...  0.013335  0.013335  0.013335  0.013335   \n",
       "4      under_6   creative   no  ...  0.002900  0.002900  0.002900  0.002900   \n",
       "\n",
       "    topic_9  topic_10  topic_11  topic_12  topic_13  topic_14  \n",
       "0  0.000641  0.000641  0.000641  0.063567  0.071916  0.000641  \n",
       "1  0.001452  0.001452  0.263081  0.001452  0.397122  0.116148  \n",
       "2  0.041263  0.125835  0.000667  0.065441  0.000667  0.275337  \n",
       "3  0.598057  0.013335  0.013335  0.013335  0.013335  0.013335  \n",
       "4  0.002900  0.156483  0.002900  0.002900  0.002900  0.670909  \n",
       "\n",
       "[5 rows x 34 columns]"
      ]
     },
     "execution_count": 45,
     "metadata": {},
     "output_type": "execute_result"
    }
   ],
   "source": [
    "profile_topics_prob = [[prob for _, prob in doc] for doc in profile_topics]\n",
    "topic_info = pd.DataFrame(profile_topics_prob).add_prefix('topic_')\n",
    "together = profiles.merge(topic_info, left_index=True, right_index=True)\n",
    "together.head()"
   ]
  },
  {
   "cell_type": "markdown",
   "metadata": {},
   "source": [
    "#### Step 2: See the groups that have the most text about a given topic\n",
    "- The numbers here show how much of a profile, on average, is about a specific topic. For example, if you don't have a pet, you probably wouldn't be writing about your pet (topic X). \n",
    "\n",
    "#### Play around with the code in the next few cells:\n",
    "- Pick 3 of the traits we have data for. Here are the options (information we know about users from their profiles):\n",
    "    - `age_group` categories: ['10', '20', '30', '40', '50']\n",
    "    - `body` categories: ['average', 'fit', 'thin', 'overweight', 'unknown']\n",
    "    - `alcohol_use` categories: ['yes', 'no']\n",
    "    - `drug_use` categories: ['yes', 'no']\n",
    "    - `edu` (highest degree completed) categories: ['`<HS`', 'HS', 'BA', 'Grad_Pro', 'unknown'] \n",
    "    - `race_ethnicity` categories: ['Asian', 'Black', 'Latinx', 'White', 'multiple', 'other']\n",
    "    - `height_group` (whether someone is over or under six feet tall) categories: ['under_6', 'over_6']\n",
    "    - `industry` (what field they work in) categories: ['STEM', 'business', 'education', 'creative', 'med_law', 'other'] \n",
    "    - `kids` (whether they have children) categories: ['yes', 'no']\n",
    "    - `orientation` categories: ['straight', 'gay', 'bisexual']\n",
    "    - `pets_likes` (what pets they like) categories: ['both', 'dogs', 'cats', 'neither']\n",
    "    - `pets_has` (what pets they have) categories: ['both', 'dogs', 'cats', 'neither']\n",
    "    - `pets_any` (whether they have pets or not) categories: ['yes', 'no']\n",
    "    - `religion` categories: ['christianity', 'catholicism', 'judaism', 'buddhism', 'none', 'other'] \n",
    "    - `sex` categories: ['m', 'f']\n",
    "    - `smoker` categories: ['yes', 'no']\n",
    "    - `languages` categories: ['multiple', 'English_only'] \n",
    "- Change the topics and values in the code in the next few cells to explore how the trait you chose relates to the topics.\n",
    "    \n",
    "<div class=\"alert-info\">\n",
    "    \n",
    "#### Short Answer No.9\n",
    "\n",
    "- Before you run the code, predict what will the result be (1-2 sentences)\n",
    "\n",
    "- Write down which traits you chose to look at, and what you learned about different groups of people from the topics they used. What topics do they have in common? What topics make them different? Does this make sense given the groups? Why or why not? Remember: we interpreted the topics above, so explain your findings in terms of content, not just topic numbers. (1-2 paragraphs)\n",
    "\n",
    "- Does the actual result match your prediction? "
   ]
  },
  {
   "cell_type": "code",
   "execution_count": 46,
   "metadata": {},
   "outputs": [
    {
     "data": {
      "text/html": [
       "<div>\n",
       "<style scoped>\n",
       "    .dataframe tbody tr th:only-of-type {\n",
       "        vertical-align: middle;\n",
       "    }\n",
       "\n",
       "    .dataframe tbody tr th {\n",
       "        vertical-align: top;\n",
       "    }\n",
       "\n",
       "    .dataframe thead th {\n",
       "        text-align: right;\n",
       "    }\n",
       "</style>\n",
       "<table border=\"1\" class=\"dataframe\">\n",
       "  <thead>\n",
       "    <tr style=\"text-align: right;\">\n",
       "      <th></th>\n",
       "      <th>topic_5</th>\n",
       "    </tr>\n",
       "  </thead>\n",
       "  <tbody>\n",
       "    <tr>\n",
       "      <th>HS</th>\n",
       "      <td>0.061</td>\n",
       "    </tr>\n",
       "    <tr>\n",
       "      <th>Grad_Pro</th>\n",
       "      <td>0.059</td>\n",
       "    </tr>\n",
       "    <tr>\n",
       "      <th>unknown</th>\n",
       "      <td>0.059</td>\n",
       "    </tr>\n",
       "    <tr>\n",
       "      <th>BA</th>\n",
       "      <td>0.059</td>\n",
       "    </tr>\n",
       "    <tr>\n",
       "      <th>&lt;HS</th>\n",
       "      <td>0.049</td>\n",
       "    </tr>\n",
       "  </tbody>\n",
       "</table>\n",
       "</div>"
      ],
      "text/plain": [
       "          topic_5\n",
       "HS          0.061\n",
       "Grad_Pro    0.059\n",
       "unknown     0.059\n",
       "BA          0.059\n",
       "<HS         0.049"
      ]
     },
     "execution_count": 46,
     "metadata": {},
     "output_type": "execute_result"
    }
   ],
   "source": [
    "rank_groups(together, trait='edu', topic='topic_5') ## we use this as an example, and ask students to find 3 more"
   ]
  },
  {
   "cell_type": "markdown",
   "metadata": {},
   "source": [
    "#### Step 3: See the topics that are most common for a given group\n",
    "- This example shows most common topics for different education groups.\n",
    "- You can change the arguments to compare different groups."
   ]
  },
  {
   "cell_type": "code",
   "execution_count": 47,
   "metadata": {},
   "outputs": [
    {
     "data": {
      "text/plain": [
       "['topic_13', 'topic_11', 'topic_9']"
      ]
     },
     "execution_count": 47,
     "metadata": {},
     "output_type": "execute_result"
    }
   ],
   "source": [
    "#show most popular topics for High School graduates\n",
    "top_topics(data=together, trait='edu', value='HS', n_top_topics=3)"
   ]
  },
  {
   "cell_type": "code",
   "execution_count": 48,
   "metadata": {},
   "outputs": [
    {
     "data": {
      "text/plain": [
       "['topic_13', 'topic_9', 'topic_11']"
      ]
     },
     "execution_count": 48,
     "metadata": {},
     "output_type": "execute_result"
    }
   ],
   "source": [
    "#show most popular topics for High School graduates\n",
    "top_topics(data=together, trait='edu', value='BA', n_top_topics=3)"
   ]
  },
  {
   "cell_type": "markdown",
   "metadata": {},
   "source": [
    "#### Step 4: See the topics that distinguish a group from other groups\n",
    "- This example shows most distinctive topics for different education levels.\n",
    "- You can change the arguments to compare different groups"
   ]
  },
  {
   "cell_type": "code",
   "execution_count": 49,
   "metadata": {},
   "outputs": [
    {
     "data": {
      "text/plain": [
       "['topic_4', 'topic_0', 'topic_8']"
      ]
     },
     "execution_count": 49,
     "metadata": {},
     "output_type": "execute_result"
    }
   ],
   "source": [
    "top_topics(data=together, trait='edu', value='HS', n_top_topics=3, distinctive=True)"
   ]
  },
  {
   "cell_type": "code",
   "execution_count": 50,
   "metadata": {},
   "outputs": [
    {
     "data": {
      "text/plain": [
       "['topic_8', 'topic_4', 'topic_13']"
      ]
     },
     "execution_count": 50,
     "metadata": {},
     "output_type": "execute_result"
    }
   ],
   "source": [
    "top_topics(data=together, trait='edu', value='Grad_Pro', n_top_topics=3, distinctive=True)"
   ]
  },
  {
   "cell_type": "markdown",
   "metadata": {},
   "source": [
    "🤔 **Write your response here:**\n",
    "...."
   ]
  },
  {
   "cell_type": "markdown",
   "metadata": {},
   "source": [
    "# Section 7: NMF Topic Model\n",
    "- NMF is an alternative to LDA\n",
    "- NMF stands for Non-Negative Matrix Factorization. "
   ]
  },
  {
   "cell_type": "markdown",
   "metadata": {
    "heading_collapsed": true
   },
   "source": [
    "### Expand for more on how NMF works"
   ]
  },
  {
   "cell_type": "markdown",
   "metadata": {
    "hidden": true
   },
   "source": [
    "- `Factoring` is something you may have done in math class before, for example:\n",
    "    - $ 10 $ can be factored as $ 2 \\times 5 $\n",
    "    - $ x^2+3x+2 $ can be factored as $ (x+2)(x+1)$\n",
    "- When we convert the text into numbers for the computer, it gets stored as something called a `matrix`.\n",
    "    - The matrix is `non-negative` because we can't have negative numbers of words: all the word counts are zero or more.\n",
    "- It is not important right now how exactly we find factors for these matrices, but if you're curious, you can learn more about it in a Linear Algebra class.\n",
    "- It turns out that finding factors for text is a really good way of finding topics. This makes sense intuitively: factors are simple things we can combine to get the more complicated output, and topics are simple things people combine to write profiles.\n",
    "- [Learn more](https://en.wikipedia.org/wiki/Non-negative_matrix_factorization#Text_mining) about NMF."
   ]
  },
  {
   "cell_type": "markdown",
   "metadata": {},
   "source": [
    "### Step 1: Convert text to numbers the computer understands\n",
    "- NMF takes \"tf-idf vectors\" as input. Tf-idf stands for \"text frequency - inverse document frequency.\" \n",
    "    - Text frequency is the same as the count vectors we used for LDA above: how often does each word appear in the text?\n",
    "    - Inverse document frequency means we divide (\"inverse\") by the number of documents the word is in. (If everyone uses the word, it isn't very helpful for figuring out what makes people different. So this measurement looks for words that are used a lot in some documents, and not at all in others.)"
   ]
  },
  {
   "cell_type": "code",
   "execution_count": 51,
   "metadata": {},
   "outputs": [
    {
     "name": "stdout",
     "output_type": "stream",
     "text": [
      "Vectorizing text by TF-IDF...\n",
      "Our transformed text has 53396 rows and 1000 columns.\n"
     ]
    }
   ],
   "source": [
    "from sklearn.feature_extraction.text import TfidfVectorizer\n",
    "\n",
    "tfidf_vectorizer = TfidfVectorizer(max_features=1000, stop_words='english')\n",
    "\n",
    "print(\"Vectorizing text by TF-IDF...\")\n",
    "tfidf_text = tfidf_vectorizer.fit_transform(documents)\n",
    "\n",
    "tmp = tfidf_text.get_shape()\n",
    "print(\"Our transformed text has\", tmp[0], \"rows and\", tmp[1], \"columns.\")"
   ]
  },
  {
   "cell_type": "markdown",
   "metadata": {},
   "source": [
    "#### The features are mostly the same as count vectors, because they are just the common words in the text"
   ]
  },
  {
   "cell_type": "code",
   "execution_count": 52,
   "metadata": {},
   "outputs": [
    {
     "name": "stdout",
     "output_type": "stream",
     "text": [
      "The first few words (alphabetically) are:\n",
      " ['10' '11' '12' '15' '20' '30' 'ability' 'able' 'abroad' 'absolutely'\n",
      " 'act' 'active' 'activities' 'activity' 'actually' 'add' 'admit'\n",
      " 'adventure' 'adventures' 'adventurous']\n"
     ]
    }
   ],
   "source": [
    "tfidf_words = tfidf_vectorizer.get_feature_names_out()\n",
    "print(\"The first few words (alphabetically) are:\\n\", tfidf_words[:20])"
   ]
  },
  {
   "cell_type": "markdown",
   "metadata": {},
   "source": [
    "#### The values are different: the counts have been divided by the documents they show up in"
   ]
  },
  {
   "cell_type": "code",
   "execution_count": 53,
   "metadata": {},
   "outputs": [
    {
     "name": "stdout",
     "output_type": "stream",
     "text": [
      "Profile text:\n",
      " hey how's it going? currently vague on the profile i know, more to\n",
      "come soon. looking to meet new folks outside of my circle of\n",
      "friends. i'm pretty responsive on the reply tip, feel free to drop\n",
      "a line. cheers.\n",
      "\n",
      "TF-IDF vector:\n",
      "free \t 0.25\n",
      "feel \t 0.22\n",
      "outside \t 0.26\n",
      "folks \t 0.36\n",
      "meet \t 0.2\n",
      "soon \t 0.31\n",
      "come \t 0.25\n",
      "profile \t 0.26\n",
      "currently \t 0.26\n",
      "going \t 0.17\n",
      "hey \t 0.3\n",
      "pretty \t 0.19\n",
      "friends \t 0.15\n",
      "new \t 0.14\n",
      "looking \t 0.16\n",
      "line \t 0.33\n",
      "know \t 0.17\n"
     ]
    }
   ],
   "source": [
    "n = 4\n",
    "\n",
    "print('Profile text:\\n', documents[n])\n",
    "print('\\nTF-IDF vector:')\n",
    "\n",
    "def show_vector(x, words):\n",
    "    rows,cols = x.nonzero()\n",
    "    for row,col in zip(rows,cols):\n",
    "        print(words[col], '\\t', x[row,col].round(2))\n",
    "        \n",
    "show_vector(tfidf_text[n], words=tfidf_words)"
   ]
  },
  {
   "cell_type": "markdown",
   "metadata": {},
   "source": [
    "### Step 2: Build a topic model using NMF\n",
    "\n",
    "- NMF is faster than LDA and often works a little better for small documents like we have here."
   ]
  },
  {
   "cell_type": "code",
   "execution_count": 54,
   "metadata": {},
   "outputs": [
    {
     "name": "stdout",
     "output_type": "stream",
     "text": [
      "Performing NMF on vectors...\n",
      "Done!\n"
     ]
    }
   ],
   "source": [
    "import sklearn\n",
    "from sklearn.decomposition import NMF\n",
    "\n",
    "sklearn_major_ver = int(sklearn.__version__.split('.')[0])\n",
    "\n",
    "if (sklearn_major_ver < 1):\n",
    "    model = NMF(n_components=ntopics, alpha=.1, l1_ratio=.5, init='nndsvd', random_state= 7)\n",
    "else:\n",
    "    # after sklearn v1.0, parameter alpha was removed, alpha_W and alpha_H with different approach.  \n",
    "    model = NMF(n_components=ntopics, alpha_W=.0001, alpha_H='same', l1_ratio=.5, init='nndsvd', random_state= 7)\n",
    "\n",
    "print('Performing NMF on vectors...')\n",
    "nmf = model.fit(tfidf_text)\n",
    "nmf_topics = nmf.components_\n",
    "\n",
    "print('Done!')"
   ]
  },
  {
   "cell_type": "markdown",
   "metadata": {},
   "source": [
    "### Step 3: Show our topics with the top words in each"
   ]
  },
  {
   "cell_type": "code",
   "execution_count": 55,
   "metadata": {},
   "outputs": [
    {
     "name": "stdout",
     "output_type": "stream",
     "text": [
      "Topic 0: time people don things really friends know enjoy think person\n",
      "Topic 1: bay area moved years sf east ago born school grew\n",
      "Topic 2: just ask know moved want message meet really trying say\n",
      "Topic 3: new people meet meeting things trying places friends try city\n",
      "Topic 4: like things don movies stuff play people watch feel fun\n",
      "Topic 5: im dont lol chill guy thats person laid nice kinda\n",
      "Topic 6: love laugh travel outdoors family food cook dance sports hiking\n",
      "Topic 7: life live enjoy fullest share enjoying living simple short loving\n",
      "Topic 8: san francisco city moved living years born raised lived diego\n",
      "Topic 9: looking fun guy loving meet girl nice friends relationship share\n",
      "Topic 10: good food conversation time humor company sense enjoy wine friends\n",
      "Topic 11: going easy guy enjoy person laid pretty fun movies friends\n",
      "Topic 12: work hard play working time live job sf company school\n",
      "Topic 13: ve lived years got told past seen traveled spent far\n",
      "Topic 14: music art live movies listening listen food play playing dancing\n"
     ]
    }
   ],
   "source": [
    "def describe_NMF_topic(topic, feature_names, n_words=10):\n",
    "    words = []\n",
    "    # sort the words in the topic by importance\n",
    "    topic = topic.argsort() \n",
    "    # select the n_words most important words\n",
    "    topic = topic[:-n_words - 1:-1]\n",
    "    # for each important word, get it's name (i.e. the word) from our list of names\n",
    "    for i in topic:\n",
    "        words.append(feature_names[i])\n",
    "    # print the topic number and its most important words, separated by spaces\n",
    "    return \" \".join(words)\n",
    "\n",
    "\n",
    "def display_NMF_topics(components, feature_names, n_words=10):\n",
    "    # loop through each topic (component) in the model; show its top words\n",
    "    for topic_idx, topic in enumerate(components):\n",
    "        print(\"Topic {}:\".format(topic_idx), \n",
    "              describe_NMF_topic(topic, feature_names, n_words))\n",
    "    return\n",
    "    \n",
    "display_NMF_topics(nmf_topics, tfidf_words, nshow)"
   ]
  },
  {
   "cell_type": "markdown",
   "metadata": {},
   "source": [
    "### Step 4: Compare topics to each other\n",
    "We can compare topics visually by plotting the similarity of each topic's chosen words to each other topic."
   ]
  },
  {
   "cell_type": "code",
   "execution_count": 56,
   "metadata": {},
   "outputs": [
    {
     "data": {
      "text/plain": [
       "<Figure size 640x480 with 0 Axes>"
      ]
     },
     "metadata": {},
     "output_type": "display_data"
    },
    {
     "data": {
      "image/png": "[encoded data removed]",
      "text/plain": [
       "<Figure size 800x800 with 2 Axes>"
      ]
     },
     "metadata": {},
     "output_type": "display_data"
    }
   ],
   "source": [
    "plot_topics(nmf_topics)"
   ]
  },
  {
   "cell_type": "markdown",
   "metadata": {},
   "source": [
    "#### Examine the words that make two topics similar or different\n",
    "We can also compare two topics to each other by looking at words that are common in both, or words that are common in one but not the other. Try changing topic_a and topic_b to different topic numbers."
   ]
  },
  {
   "cell_type": "code",
   "execution_count": 57,
   "metadata": {},
   "outputs": [
    {
     "name": "stdout",
     "output_type": "stream",
     "text": [
      "overlap between 1 and 8: year ago living raised moved lived college born years grew\n",
      "difference between 1 and 8: outdoors running recent places pretty place past outside playing 10\n",
      "difference between 8 and 1: play pictures point played planning picture playful plan poetry plus\n"
     ]
    }
   ],
   "source": [
    "def find_intersection(idxa, idxb, n):\n",
    "    a = set()\n",
    "    b = set()\n",
    "    both = set()\n",
    "    i = 0\n",
    "    while len(both) < n:\n",
    "        a.add(idxa[i])\n",
    "        b.add(idxb[i])\n",
    "        both = a.intersection(b)\n",
    "        i += 1\n",
    "    return list(both)\n",
    "\n",
    "def compare_topic_words(topics, a, b, words, how='overlap', n_words=nshow):\n",
    "    b_sort = False\n",
    "    if how == 'difference':\n",
    "        b_sort = True\n",
    "    \n",
    "    dfa = pd.DataFrame(topics, columns=words).T\n",
    "    idxa = dfa.sort_values(by=a, ascending=False).index.values\n",
    "    idxb = dfa.sort_values(by=b, ascending=b_sort).index.values\n",
    "    both = find_intersection(idxa, idxb, n=n_words)\n",
    "    \n",
    "    out = how + ' between ' + str(a) + ' and ' + str(b) + ':'\n",
    "    for w in both:\n",
    "        out += ' ' + w\n",
    "    print(out)\n",
    "    return\n",
    "\n",
    "topic_a = 1\n",
    "topic_b = 8\n",
    "\n",
    "compare_topic_words(nmf_topics, topic_a, topic_b, tfidf_words, n_words=nshow, how='overlap')\n",
    "compare_topic_words(nmf_topics, topic_a, topic_b, tfidf_words, n_words=nshow, how='difference')\n",
    "compare_topic_words(nmf_topics, topic_b, topic_a, tfidf_words, n_words=nshow, how='difference')"
   ]
  },
  {
   "cell_type": "markdown",
   "metadata": {},
   "source": [
    "### Step 5: Interpret these topics\n",
    "\n",
    "<div class=\"alert-info\">\n",
    "    \n",
    "#### Short Answer No.10\n",
    "    \n",
    "- This part is for you to do: code can't do it for you.\n",
    "- Look at the list of important words for each topic, and think about these questions.\n",
    "    - What do the words have in common?\n",
    "    - What could someone write that would use most of those words?\n",
    "    - What does this topic seem to be about?\n",
    "- Try to come up with a short, catchy name for each topic.\n",
    "    - For example, if the words were \"san francisco city moved living born years raised lived live\", you might call it \"places lived\" because the topic seems to be about where people currently live (San Francisco) and where they were born / raised / moved from. \n",
    "    \n",
    "</div>"
   ]
  },
  {
   "cell_type": "markdown",
   "metadata": {},
   "source": [
    "🤔 **Write your response here:**\n",
    "...."
   ]
  },
  {
   "cell_type": "markdown",
   "metadata": {},
   "source": [
    "### Step 6: Compare the topics from LDA and NMF\n",
    "\n",
    "#### Helper function to make a graph for us"
   ]
  },
  {
   "cell_type": "code",
   "execution_count": 58,
   "metadata": {},
   "outputs": [],
   "source": [
    "def plot_confusion(x, y, x_label='', y_label='', t_label = '', sort=True):\n",
    "    n = x.shape[0]\n",
    "    corrs = cosine_similarity(x, y)\n",
    "    topic_similarity = pd.DataFrame(corrs)\n",
    "    new_order=None\n",
    "    \n",
    "    if sort:\n",
    "        matches = []\n",
    "        pairs = {}\n",
    "\n",
    "        for i in range(n):\n",
    "            for j in range(n):\n",
    "                tmp = {}\n",
    "                tmp['i'] = i\n",
    "                tmp['j'] = j\n",
    "                tmp['match'] = corrs[i][j]\n",
    "                matches.append(tmp)\n",
    "\n",
    "        matches = pd.DataFrame(matches).sort_values(by='match', ascending=False)\n",
    "\n",
    "        for row in matches.iterrows():\n",
    "            i = row[1]['i']\n",
    "            j = row[1]['j']\n",
    "            if i not in pairs.keys():\n",
    "                if j not in pairs.values():\n",
    "                    pairs[i] = row[1]['j']\n",
    "\n",
    "        new_order = list(range(n))\n",
    "        for k in pairs.keys():\n",
    "            new_order[int(k)] = int(pairs[k])\n",
    "\n",
    "        topic_similarity = topic_similarity[new_order]\n",
    "\n",
    "    blue_matrix(topic_similarity, xl=x_label, yl=y_label,\n",
    "                t = t_label,\n",
    "                x_labels=new_order)\n",
    "    return"
   ]
  },
  {
   "cell_type": "markdown",
   "metadata": {},
   "source": [
    "#### See how similar the words in each topic from LDA are to the words in each topic from NMF\n",
    "- The NMF topics are along the X axis and the LDA are along the Y axis."
   ]
  },
  {
   "cell_type": "code",
   "execution_count": 59,
   "metadata": {},
   "outputs": [
    {
     "data": {
      "text/plain": [
       "<Figure size 640x480 with 0 Axes>"
      ]
     },
     "metadata": {},
     "output_type": "display_data"
    },
    {
     "data": {
      "image/png": "[encoded data removed]",
      "text/plain": [
       "<Figure size 800x800 with 2 Axes>"
      ]
     },
     "metadata": {},
     "output_type": "display_data"
    }
   ],
   "source": [
    "x_common = nmf_topics[:, :1000]\n",
    "y_common = lda_topics[:, :1000]\n",
    "\n",
    "plot_confusion(x = x_common, y = y_common, x_label='NMF topic number',\n",
    "               y_label='LDA topic number',\n",
    "               t_label = 'Word Similarity between LDA and NMF Topics',\n",
    "               sort=False)\n"
   ]
  },
  {
   "cell_type": "markdown",
   "metadata": {},
   "source": [
    "#### We can also sort the topics so that the most similar ones are aligned"
   ]
  },
  {
   "cell_type": "code",
   "execution_count": 60,
   "metadata": {},
   "outputs": [
    {
     "data": {
      "text/plain": [
       "<Figure size 640x480 with 0 Axes>"
      ]
     },
     "metadata": {},
     "output_type": "display_data"
    },
    {
     "data": {
      "image/png": "[encoded data removed]",
      "text/plain": [
       "<Figure size 800x800 with 2 Axes>"
      ]
     },
     "metadata": {},
     "output_type": "display_data"
    }
   ],
   "source": [
    "x_common = nmf_topics[:, :1000]\n",
    "y_common = lda_topics[:, :1000]\n",
    "\n",
    "plot_confusion(x = x_common, y = y_common, x_label='NMF topic number',\n",
    "               y_label='LDA topic number',\n",
    "               t_label = 'Word Similarity between LDA and NMF Topics',\n",
    "               sort=True)"
   ]
  },
  {
   "cell_type": "markdown",
   "metadata": {},
   "source": [
    "<div class=\"alert-info\">\n",
    "    \n",
    "#### Short Answer No.11\n",
    "\n",
    "Look at the LDA and NMF topic words and the confusion matrix, and consider the following questions:\n",
    "- Do any of the topics seem to be the same in both models?\n",
    "- Are some topics in one model but not the other?\n",
    "- Do the topics you get from one of the models make more sense than the ones you get from the other?\n",
    "\n",
    "</div>"
   ]
  },
  {
   "cell_type": "markdown",
   "metadata": {},
   "source": [
    "🤔 **Write your response here:**\n",
    "...."
   ]
  },
  {
   "cell_type": "markdown",
   "metadata": {},
   "source": [
    "## Section 8: What We Learned\n",
    "- Two statistical methods for topic modeling\n",
    "    - LDA\n",
    "    - NMF\n",
    "- How to think about and interpret the topics our models find\n",
    "- How to compare and relate different topics\n",
    "- Different ways to see the distribution of topics in profiles\n",
    "- Which topics are most popular with social categories of people\n",
    "- Which social categories of people discuss a topic most"
   ]
  },
  {
   "cell_type": "markdown",
   "metadata": {},
   "source": [
    "<div class=\"alert-warning\">\n",
    "\n",
    "#### Reflection Question 1:\n",
    "- How is what we learned in this lab, using topic modeling, different from what we learned in the last lab, using just word frequencies? How is it similar? Write a paragraph explaining. \n",
    "    \n",
    "</div>"
   ]
  },
  {
   "cell_type": "markdown",
   "metadata": {},
   "source": [
    "🤔 **Write your response here:**\n",
    "...."
   ]
  },
  {
   "cell_type": "markdown",
   "metadata": {},
   "source": [
    "<div class=\"alert-warning\">\n",
    "\n",
    "#### Reflection Question 2:\n",
    "- For both the LDA and NMF models, we specified 15 topics. Now, try running the LDA with other numbers of topics.\n",
    "    - If the topics seemed repetitive, you might want to try looking for fewer topics.\n",
    "    - If the topics seem confusing or vague, you might want to try looking for more topics (so that they can be more specific).\n",
    "- Run the code below and answer the following:\n",
    "    - What different numbers of topics did you try?\n",
    "    - How did your interpretations change in response to the number of topics? Were they it easier or more difficult to interpret?\n",
    "    - How did topic quality change in response to the number of topics? Were topics more similar or less similar?\n",
    "    \n",
    "</div>"
   ]
  },
  {
   "cell_type": "markdown",
   "metadata": {},
   "source": [
    "🤔 **Write your response here:**\n",
    "...."
   ]
  },
  {
   "cell_type": "markdown",
   "metadata": {},
   "source": [
    "#### Step 1: Decide how many topics we want to find\n",
    "- We must tell LDA how many topics we want it to look for (we did this above with the `ntopics` variable).\n",
    "    - We suggest picking a few values between 2-50."
   ]
  },
  {
   "cell_type": "code",
   "execution_count": 61,
   "metadata": {},
   "outputs": [],
   "source": [
    "#how many topics we want our model to find\n",
    "ntopics = 2\n",
    "\n",
    "#how many top words we want to display for each topic\n",
    "nshow = 10\n",
    "\n",
    "id2word = corpora.Dictionary(data_lemmatized)\n",
    "\n",
    "texts = data_lemmatized\n",
    "\n",
    "corpus = [id2word.doc2bow(text) for text in texts]"
   ]
  },
  {
   "cell_type": "markdown",
   "metadata": {},
   "source": [
    "#### Step 2: Run the LDA algorithm"
   ]
  },
  {
   "cell_type": "code",
   "execution_count": 62,
   "metadata": {},
   "outputs": [
    {
     "name": "stdout",
     "output_type": "stream",
     "text": [
      "Performing LDA on vectors. This may take a while...\n",
      "Done!\n"
     ]
    }
   ],
   "source": [
    "# Build LDA model\n",
    "print('Performing LDA on vectors. This may take a while...')\n",
    "lda_model = gensim.models.LdaMulticore(corpus=corpus,\n",
    "                                       id2word=id2word,\n",
    "                                       num_topics=ntopics, \n",
    "                                       random_state=100,\n",
    "                                       chunksize=100,\n",
    "                                       passes=10,\n",
    "                                       per_word_topics=True)\n",
    "\n",
    "lda_topics = lda_model.get_topics()\n",
    "\n",
    "print('Done!')"
   ]
  },
  {
   "cell_type": "markdown",
   "metadata": {},
   "source": [
    "#### Step 3: Show our topics with the top words in each"
   ]
  },
  {
   "cell_type": "code",
   "execution_count": 63,
   "metadata": {},
   "outputs": [
    {
     "name": "stdout",
     "output_type": "stream",
     "text": [
      "Topic 0: love go new enjoy life time friend work live good\n",
      "Topic 1: people get know thing make life think love good want\n"
     ]
    }
   ],
   "source": [
    "display_topics(lda_model, n_words=10)"
   ]
  },
  {
   "cell_type": "markdown",
   "metadata": {},
   "source": [
    "#### Step 4: Examine the words that make two topics similar or different\n",
    "- We can also compare two topics to each other by looking at words that are common in both, or words that are common in one but not the other.\n",
    "- Try changing `topic_a` and `topic_b` to different topic numbers.\n",
    "- Notice the `how` option will let you see either the `overlap` or `difference` between two topics\n",
    "    - Notice also that the difference between topics a and b is not the same as between b and a"
   ]
  },
  {
   "cell_type": "code",
   "execution_count": 64,
   "metadata": {},
   "outputs": [
    {
     "name": "stdout",
     "output_type": "stream",
     "text": [
      "Common words between Topic 0 and Topic 1:\n",
      "{'life', 'love', 'good'}\n",
      "Words unique to Topic 0: {'time', 'go', 'new', 'work', 'friend', 'enjoy', 'live'}\n",
      "Words unique to Topic 1: {'get', 'think', 'thing', 'people', 'want', 'make', 'know'}\n"
     ]
    }
   ],
   "source": [
    "topic_a = 0\n",
    "topic_b = 1\n",
    "\n",
    "compare_topic_overlap(lda_model, topic_a, topic_b)\n",
    "compare_topic_difference(lda_model, topic_a, topic_b)"
   ]
  },
  {
   "cell_type": "markdown",
   "metadata": {},
   "source": [
    "#### Step 5: Interpret these topics\n",
    "- This part is for you to do: code can't do it for you.\n",
    "- Try to come up with a short, catchy name for each topic (no writing required)."
   ]
  },
  {
   "cell_type": "markdown",
   "metadata": {},
   "source": [
    "#### Step 6: Topic Quality\n",
    "Let's see how good the topics we found are.\n",
    "\n",
    "#### Step 6.1: See if the topics are each about different things.\n",
    "We want each topic to be about something different than the other topics. We can check this by comparing the words in each topic to the words in all the others. How to interpret:\n",
    "- Each square shows how similar two topics are. Darker means more similar, and lighter means more different.\n",
    "    - Notice that some topics may be negatively correlated.\n",
    "- The square in the very top left shows how similar topic 0 is to topic 0 (i.e. how similar it is to itself). \n",
    "- The square next to it in the top row shows how similar topic 0 is to topic 1, and so on. \n",
    "- For any two topics, you can see how similar they are by finding their numbers on the edges and seeing where they intersect."
   ]
  },
  {
   "cell_type": "code",
   "execution_count": 65,
   "metadata": {},
   "outputs": [
    {
     "data": {
      "text/plain": [
       "<Figure size 640x480 with 0 Axes>"
      ]
     },
     "metadata": {},
     "output_type": "display_data"
    },
    {
     "data": {
      "image/png": "[encoded data removed]",
      "text/plain": [
       "<Figure size 800x800 with 2 Axes>"
      ]
     },
     "metadata": {},
     "output_type": "display_data"
    }
   ],
   "source": [
    "def plot_topics(components):\n",
    "    sim = cosine_similarity(components)\n",
    "    blue_matrix(sim, xl='Topic number', yl='Topic number',\n",
    "                t = 'Word Similarity between Topics')\n",
    "    return\n",
    "\n",
    "plot_topics(lda_topics)"
   ]
  },
  {
   "cell_type": "markdown",
   "metadata": {},
   "source": [
    "#### Step 6.2: See if different topics show up in different profiles\n",
    "The point is to tell profiles apart based on what topics they're about, so we need to check whether the topics appear in different profiles.\n",
    "- This shows us something that looks similar to the topic similarity we saw before, but this time:\n",
    "    - We **don't** compare topics based on which words they use\n",
    "    - We **do** compare topics based on how often they appear in the same profile as one another"
   ]
  },
  {
   "cell_type": "code",
   "execution_count": 66,
   "metadata": {},
   "outputs": [],
   "source": [
    "profile_topics = [lda_model.get_document_topics(bow, minimum_probability=0) for bow in corpus]\n",
    "profile_topics_flattened = np.array([np.array([t[1] for t in profile]) for profile in profile_topics])"
   ]
  },
  {
   "cell_type": "code",
   "execution_count": 67,
   "metadata": {},
   "outputs": [
    {
     "data": {
      "text/plain": [
       "<Figure size 640x480 with 0 Axes>"
      ]
     },
     "metadata": {},
     "output_type": "display_data"
    },
    {
     "data": {
      "image/png": "[encoded data removed]",
      "text/plain": [
       "<Figure size 800x800 with 2 Axes>"
      ]
     },
     "metadata": {},
     "output_type": "display_data"
    }
   ],
   "source": [
    "def topic_cooccurance(topics):\n",
    "    co = pd.DataFrame(topics).corr()\n",
    "    blue_matrix(co, xl='Topic number', yl='Topic number',\n",
    "               t = 'Topic Co-occurance in Profiles')\n",
    "\n",
    "topic_cooccurance(profile_topics_flattened)"
   ]
  }
 ],
 "metadata": {
  "kernelspec": {
   "display_name": "Python 3 (ipykernel)",
   "language": "python",
   "name": "python3"
  },
  "language_info": {
   "codemirror_mode": {
    "name": "ipython",
    "version": 3
   },
   "file_extension": ".py",
   "mimetype": "text/x-python",
   "name": "python",
   "nbconvert_exporter": "python",
   "pygments_lexer": "ipython3",
   "version": "3.11.7"
  }
 },
 "nbformat": 4,
 "nbformat_minor": 4
}
